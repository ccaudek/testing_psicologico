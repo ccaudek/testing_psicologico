{
 "cells": [
  {
   "cell_type": "markdown",
   "metadata": {},
   "source": [
    "# ✏️ Esercizi {#sec-ex-thurstone-scaling}"
   ]
  },
  {
   "cell_type": "code",
   "execution_count": 6,
   "metadata": {
    "vscode": {
     "languageId": "r"
    }
   },
   "outputs": [],
   "source": [
    "source(\"../../code/_common.R\")\n",
    "library(\"rio\")\n",
    "library(\"psych\")"
   ]
  },
  {
   "cell_type": "markdown",
   "metadata": {},
   "source": [
    "## Introduzione allo Scaling di Thurstone\n",
    "\n",
    "Lo scaling di Thurstone, sviluppato da Louis Leon Thurstone nel 1931, è un approccio statistico che mira a modellare dati di ranking soggettivo. I dati di ranking soggettivo si producono quando le persone ordinano un insieme di elementi o stimoli secondo un criterio particolare. Questo tipo di dati è particolarmente utile quando è più semplice per i partecipanti esprimere una preferenza relativa piuttosto che stime quantitative precise.\n",
    "\n",
    "### Il Modello Thurstoniano \n",
    "\n",
    "Il modello Thurstoniano rappresenta un approccio statistico per analizzare e interpretare le preferenze o i ranking individuali rispetto a vari oggetti o stimoli. Questo modello si basa sull'idea che esista una scala latente, ovvero una dimensione non direttamente osservabile, attorno alla quale si distribuiscono i ranking individuali. In altre parole, ogni individuo assegna un punteggio ad ogni oggetto basandosi su criteri personali, ma queste valutazioni individuali sono influenzate da una percezione collettiva o aggregata che può essere descritta su una scala continua latente.\n",
    "\n",
    "Il principale obiettivo del modello Thurstoniano è di trasformare queste medie di ranking latenti aggregati, che esistono su una scala continua, in un ranking discreto che possiamo interpretare più facilmente. Per farlo, il modello si avvale di alcune ipotesi chiave:\n",
    "\n",
    "1. **Distribuzione Gaussiana**: Si assume che il ranking latente per ciascun oggetto possa essere descritto da una distribuzione gaussiana. \n",
    "\n",
    "2. **Media Differenziata, Varianza Costante**: Il modello presuppone che le distribuzioni gaussiane dei ranking per ciascun oggetto differiscano tra loro solo per la media, mantenendo costante la varianza (scaling di Thurstone caso V). Questo implica che, sebbene gli oggetti possano avere livelli di preferenza medi diversi (alcuni potrebbero essere generalmente preferiti ad altri), la variabilità delle valutazioni (quanto le opinioni dei rispondenti differiscono tra loro) è la stessa per tutti gli oggetti.\n",
    "\n",
    "Per posizionare gli oggetti sulla scala di Thurstone, si procede nel seguente modo:\n",
    "\n",
    "- Si calcola la proporzione di rispondenti che preferiscono un oggetto rispetto a ciascuno degli altri.\n",
    "- Si determinano i corrispondenti percentile (z-scores) della distribuzione cumulativa normale, che ci dicono quante deviazioni standard un valore è distante dalla media.\n",
    "- Si calcola la media di questi z-scores per ciascun oggetto.\n",
    "\n",
    "**Esempio Pratico**:\n",
    "\n",
    "Immaginiamo di avere tre oggetti: A, B e C. Dopo aver raccolto le preferenze, scopriamo che:\n",
    "\n",
    "- Il 70% dei rispondenti preferisce A rispetto a B e C.\n",
    "- Il 50% dei rispondenti preferisce B rispetto ad A, ma solo il 30% lo preferisce a C.\n",
    "- Il 80% dei rispondenti preferisce C rispetto a B, ma solo il 50% lo preferisce ad A.\n",
    "\n",
    "Trasformando queste percentuali in z-scores, possiamo ottenere una misura della \"distanza\" di ciascun oggetto dalla media sulla scala latente. Mediando questi z-scores, possiamo creare un ranking discreto che riflette le preferenze medie aggregate, permettendoci di interpretare quali oggetti sono generalmente preferiti rispetto ad altri secondo il modello Thurstoniano."
   ]
  },
  {
   "cell_type": "markdown",
   "metadata": {},
   "source": [
    "## Studio sulle preferenze riguardanti le caratteristiche dell'occupazione ideale\n",
    "\n",
    "I dati utilizzati in questo studio sono stati raccolti nell'ambito di una ricerca sulla motivazione lavorativa condotta da Ilke Inceoglu. Nel corso di questa indagine, 1079 partecipanti sono stati invitati a classificare nove aspetti lavorativi in base all'importanza che desideravano che fossero presenti nella loro occupazione ideale:\n",
    "\n",
    "1. Ambiente di Supporto (Supporto)\n",
    "2. Lavoro Stimolante (Sfida)\n",
    "3. Progressione di Carriera (Carriera)\n",
    "4. Lavoro Etico (Etica)\n",
    "5. Controllo sul Lavoro, Impatto Personale (Autonomia)\n",
    "6. Sviluppo (Sviluppo)\n",
    "7. Interazione Sociale (Interazione)\n",
    "8. Ambiente Competitivo (Competizione)\n",
    "9. Ambiente Piacevole e Sicuro (Sicurezza)\n",
    "\n",
    "Un punteggio di 1 attribuito a qualsiasi aspetto lavorativo indica che tale aspetto era il più importante per quel partecipante, mentre un punteggio di 9 indica che era il meno importante."
   ]
  },
  {
   "cell_type": "code",
   "execution_count": 4,
   "metadata": {
    "vscode": {
     "languageId": "r"
    }
   },
   "outputs": [
    {
     "name": "stdout",
     "output_type": "stream",
     "text": [
      "Rows: 1,079\n",
      "Columns: 9\n",
      "$ Support     \u001b[3m\u001b[90m<int>\u001b[39m\u001b[23m 8, 7, 5, 7, 1, 6, 5, 1, 1, 7, 6, 8, 5, 9, 8, 1, 6, 7, 4, 2~\n",
      "$ Challenge   \u001b[3m\u001b[90m<int>\u001b[39m\u001b[23m 3, 5, 8, 6, 4, 1, 4, 9, 3, 4, 2, 1, 4, 8, 6, 7, 4, 4, 1, 3~\n",
      "$ Career      \u001b[3m\u001b[90m<int>\u001b[39m\u001b[23m 4, 1, 1, 8, 8, 3, 7, 2, 7, 6, 3, 4, 6, 1, 3, 5, 8, 3, 5, 4~\n",
      "$ Ethics      \u001b[3m\u001b[90m<int>\u001b[39m\u001b[23m 5, 6, 9, 9, 3, 7, 2, 8, 4, 1, 9, 3, 7, 5, 9, 6, 7, 5, 9, 8~\n",
      "$ Autonomy    \u001b[3m\u001b[90m<int>\u001b[39m\u001b[23m 2, 2, 6, 3, 9, 8, 3, 7, 9, 8, 4, 6, 3, 7, 5, 2, 3, 8, 2, 1~\n",
      "$ Development \u001b[3m\u001b[90m<int>\u001b[39m\u001b[23m 6, 8, 2, 4, 2, 5, 6, 5, 2, 5, 1, 2, 2, 6, 1, 3, 1, 2, 6, 5~\n",
      "$ Interaction \u001b[3m\u001b[90m<int>\u001b[39m\u001b[23m 1, 3, 3, 2, 6, 2, 1, 4, 6, 9, 5, 5, 1, 4, 2, 8, 2, 6, 3, 6~\n",
      "$ Competition \u001b[3m\u001b[90m<int>\u001b[39m\u001b[23m 7, 9, 4, 5, 7, 4, 9, 6, 8, 3, 7, 7, 9, 2, 7, 9, 9, 1, 7, 9~\n",
      "$ Safety      \u001b[3m\u001b[90m<int>\u001b[39m\u001b[23m 9, 4, 7, 1, 5, 9, 8, 3, 5, 2, 8, 9, 8, 3, 4, 4, 5, 9, 8, 7~\n"
     ]
    }
   ],
   "source": [
    "JobFeatures <- rio::import(\"../data/JobFeatures.txt\")\n",
    "glimpse(JobFeatures)"
   ]
  },
  {
   "cell_type": "markdown",
   "metadata": {},
   "source": [
    "Consideriamo i dati del primo rispondente:"
   ]
  },
  {
   "cell_type": "code",
   "execution_count": 5,
   "metadata": {
    "vscode": {
     "languageId": "r"
    }
   },
   "outputs": [
    {
     "data": {
      "text/html": [
       "<table class=\"dataframe\">\n",
       "<caption>A data.frame: 1 x 9</caption>\n",
       "<thead>\n",
       "\t<tr><th></th><th scope=col>Support</th><th scope=col>Challenge</th><th scope=col>Career</th><th scope=col>Ethics</th><th scope=col>Autonomy</th><th scope=col>Development</th><th scope=col>Interaction</th><th scope=col>Competition</th><th scope=col>Safety</th></tr>\n",
       "\t<tr><th></th><th scope=col>&lt;int&gt;</th><th scope=col>&lt;int&gt;</th><th scope=col>&lt;int&gt;</th><th scope=col>&lt;int&gt;</th><th scope=col>&lt;int&gt;</th><th scope=col>&lt;int&gt;</th><th scope=col>&lt;int&gt;</th><th scope=col>&lt;int&gt;</th><th scope=col>&lt;int&gt;</th></tr>\n",
       "</thead>\n",
       "<tbody>\n",
       "\t<tr><th scope=row>1</th><td>8</td><td>3</td><td>4</td><td>5</td><td>2</td><td>6</td><td>1</td><td>7</td><td>9</td></tr>\n",
       "</tbody>\n",
       "</table>\n"
      ],
      "text/latex": [
       "A data.frame: 1 x 9\n",
       "\\begin{tabular}{r|lllllllll}\n",
       "  & Support & Challenge & Career & Ethics & Autonomy & Development & Interaction & Competition & Safety\\\\\n",
       "  & <int> & <int> & <int> & <int> & <int> & <int> & <int> & <int> & <int>\\\\\n",
       "\\hline\n",
       "\t1 & 8 & 3 & 4 & 5 & 2 & 6 & 1 & 7 & 9\\\\\n",
       "\\end{tabular}\n"
      ],
      "text/markdown": [
       "\n",
       "A data.frame: 1 x 9\n",
       "\n",
       "| <!--/--> | Support &lt;int&gt; | Challenge &lt;int&gt; | Career &lt;int&gt; | Ethics &lt;int&gt; | Autonomy &lt;int&gt; | Development &lt;int&gt; | Interaction &lt;int&gt; | Competition &lt;int&gt; | Safety &lt;int&gt; |\n",
       "|---|---|---|---|---|---|---|---|---|---|\n",
       "| 1 | 8 | 3 | 4 | 5 | 2 | 6 | 1 | 7 | 9 |\n",
       "\n"
      ],
      "text/plain": [
       "  Support Challenge Career Ethics Autonomy Development Interaction Competition\n",
       "1 8       3         4      5      2        6           1           7          \n",
       "  Safety\n",
       "1 9     "
      ]
     },
     "metadata": {},
     "output_type": "display_data"
    }
   ],
   "source": [
    "JobFeatures[1, ]"
   ]
  },
  {
   "cell_type": "markdown",
   "metadata": {},
   "source": [
    "Questo rispondente ha risposto assegnando la caratteristica più importante dell'impego a \"Interaction\", seguita da \"Autonomy\". L'ultima preferenza è \"Safety\".\n",
    "\n",
    "Eseguiamo lo scaling di Thurstone usando la funzione `thurstone` del pacchetto psych:"
   ]
  },
  {
   "cell_type": "code",
   "execution_count": 18,
   "metadata": {
    "vscode": {
     "languageId": "r"
    }
   },
   "outputs": [],
   "source": [
    "scaling <- psych::thurstone(JobFeatures, ranks = TRUE)"
   ]
  },
  {
   "cell_type": "markdown",
   "metadata": {},
   "source": [
    "Gli attributi dell'oggetto `scaling` prodotto da `thurstone()` possono essere elencati nel modo seguente."
   ]
  },
  {
   "cell_type": "code",
   "execution_count": 10,
   "metadata": {
    "vscode": {
     "languageId": "r"
    }
   },
   "outputs": [
    {
     "data": {
      "text/html": [
       "<dl>\n",
       "\t<dt>$names</dt>\n",
       "\t\t<dd><style>\n",
       ".list-inline {list-style: none; margin:0; padding: 0}\n",
       ".list-inline>li {display: inline-block}\n",
       ".list-inline>li:not(:last-child)::after {content: \"\\00b7\"; padding: 0 .5ex}\n",
       "</style>\n",
       "<ol class=list-inline><li>'scale'</li><li>'GF'</li><li>'choice'</li><li>'residual'</li><li>'Call'</li></ol>\n",
       "</dd>\n",
       "\t<dt>$class</dt>\n",
       "\t\t<dd><style>\n",
       ".list-inline {list-style: none; margin:0; padding: 0}\n",
       ".list-inline>li {display: inline-block}\n",
       ".list-inline>li:not(:last-child)::after {content: \"\\00b7\"; padding: 0 .5ex}\n",
       "</style>\n",
       "<ol class=list-inline><li>'psych'</li><li>'thurstone'</li></ol>\n",
       "</dd>\n",
       "</dl>\n"
      ],
      "text/latex": [
       "\\begin{description}\n",
       "\\item[\\$names] \\begin{enumerate*}\n",
       "\\item 'scale'\n",
       "\\item 'GF'\n",
       "\\item 'choice'\n",
       "\\item 'residual'\n",
       "\\item 'Call'\n",
       "\\end{enumerate*}\n",
       "\n",
       "\\item[\\$class] \\begin{enumerate*}\n",
       "\\item 'psych'\n",
       "\\item 'thurstone'\n",
       "\\end{enumerate*}\n",
       "\n",
       "\\end{description}\n"
      ],
      "text/markdown": [
       "$names\n",
       ":   1. 'scale'\n",
       "2. 'GF'\n",
       "3. 'choice'\n",
       "4. 'residual'\n",
       "5. 'Call'\n",
       "\n",
       "\n",
       "\n",
       "$class\n",
       ":   1. 'psych'\n",
       "2. 'thurstone'\n",
       "\n",
       "\n",
       "\n",
       "\n",
       "\n"
      ],
      "text/plain": [
       "$names\n",
       "[1] \"scale\"    \"GF\"       \"choice\"   \"residual\" \"Call\"    \n",
       "\n",
       "$class\n",
       "[1] \"psych\"     \"thurstone\"\n"
      ]
     },
     "metadata": {},
     "output_type": "display_data"
    }
   ],
   "source": [
    "attributes(scaling)"
   ]
  },
  {
   "cell_type": "markdown",
   "metadata": {},
   "source": [
    "I risultati dello scaling si ottengono nel modo seguente. Sono elencati nell'ordine fornito sopra, ovvero Support,\tChallenge,\tCareer,\tEthics,\tAutonomy,\tDevelopment,\tInteraction,\tCompetition\te Safety.\n",
    "\n",
    "Una media alta indica che i partecipanti attribuiscono un alto valore a questo aspetto lavorativo rispetto agli altri. Tuttavia, poiché le preferenze sono sempre relative, è impossibile identificare in maniera univoca tutte le medie. Pertanto, una delle medie deve essere fissata a un valore arbitrario. È consuetudine fissare la media dell'aspetto meno preferito a 0. Quindi, tutte le altre medie sono positive."
   ]
  },
  {
   "cell_type": "code",
   "execution_count": 20,
   "metadata": {
    "vscode": {
     "languageId": "r"
    }
   },
   "outputs": [
    {
     "name": "stdout",
     "output_type": "stream",
     "text": [
      "[1] 0.97 0.93 0.91 0.92 0.60 1.04 0.63 0.00 0.23\n"
     ]
    }
   ],
   "source": [
    "scaling$scale |> print()"
   ]
  },
  {
   "cell_type": "markdown",
   "metadata": {},
   "source": [
    "La media più bassa (0.0) corrisponde all'8° aspetto, Competizione, mentre la media più alta (1.04) corrisponde al 6° aspetto, Sviluppo. Ciò significa che l'ambiente competitivo era il meno desiderato, mentre le opportunità di sviluppo personale erano le più desiderate dalle persone nel loro lavoro ideale. Gli altri aspetti sono stati valutati come aventi un'importanza relativa intermedia a queste due, con Sicurezza che ha una media bassa (0.23) - appena superiore a 0 per la Competizione, mentre Supporto, Sfida, Carriera ed Etica hanno medie simili (intorno a 0.9). Autonomia e Interazione hanno medie moderate simili intorno a 0.6."
   ]
  },
  {
   "cell_type": "markdown",
   "metadata": {},
   "source": [
    "L'istruzione seguente produce una matrice 9x9 contenente le proporzioni dei partecipanti nel campione che hanno preferito l'aspetto nella colonna rispetto all'aspetto nella riga. Nella matrice risultante, le righe e le colonne seguono l'ordine delle variabili nel file originale."
   ]
  },
  {
   "cell_type": "code",
   "execution_count": 14,
   "metadata": {
    "vscode": {
     "languageId": "r"
    }
   },
   "outputs": [
    {
     "data": {
      "text/html": [
       "<table class=\"dataframe\">\n",
       "<caption>A matrix: 9 x 9 of type dbl</caption>\n",
       "<tbody>\n",
       "\t<tr><td>0.50</td><td>0.47</td><td>0.47</td><td>0.47</td><td>0.36</td><td>0.51</td><td>0.36</td><td>0.20</td><td>0.23</td></tr>\n",
       "\t<tr><td>0.53</td><td>0.50</td><td>0.47</td><td>0.49</td><td>0.38</td><td>0.53</td><td>0.36</td><td>0.17</td><td>0.28</td></tr>\n",
       "\t<tr><td>0.53</td><td>0.53</td><td>0.50</td><td>0.50</td><td>0.38</td><td>0.52</td><td>0.39</td><td>0.19</td><td>0.26</td></tr>\n",
       "\t<tr><td>0.53</td><td>0.51</td><td>0.50</td><td>0.50</td><td>0.36</td><td>0.52</td><td>0.38</td><td>0.19</td><td>0.26</td></tr>\n",
       "\t<tr><td>0.64</td><td>0.62</td><td>0.62</td><td>0.64</td><td>0.50</td><td>0.67</td><td>0.51</td><td>0.29</td><td>0.34</td></tr>\n",
       "\t<tr><td>0.49</td><td>0.47</td><td>0.48</td><td>0.48</td><td>0.33</td><td>0.50</td><td>0.29</td><td>0.15</td><td>0.20</td></tr>\n",
       "\t<tr><td>0.64</td><td>0.64</td><td>0.61</td><td>0.62</td><td>0.49</td><td>0.71</td><td>0.50</td><td>0.22</td><td>0.30</td></tr>\n",
       "\t<tr><td>0.80</td><td>0.83</td><td>0.81</td><td>0.81</td><td>0.71</td><td>0.85</td><td>0.78</td><td>0.50</td><td>0.61</td></tr>\n",
       "\t<tr><td>0.77</td><td>0.72</td><td>0.74</td><td>0.74</td><td>0.66</td><td>0.80</td><td>0.70</td><td>0.39</td><td>0.50</td></tr>\n",
       "</tbody>\n",
       "</table>\n"
      ],
      "text/latex": [
       "A matrix: 9 x 9 of type dbl\n",
       "\\begin{tabular}{lllllllll}\n",
       "\t 0.50 & 0.47 & 0.47 & 0.47 & 0.36 & 0.51 & 0.36 & 0.20 & 0.23\\\\\n",
       "\t 0.53 & 0.50 & 0.47 & 0.49 & 0.38 & 0.53 & 0.36 & 0.17 & 0.28\\\\\n",
       "\t 0.53 & 0.53 & 0.50 & 0.50 & 0.38 & 0.52 & 0.39 & 0.19 & 0.26\\\\\n",
       "\t 0.53 & 0.51 & 0.50 & 0.50 & 0.36 & 0.52 & 0.38 & 0.19 & 0.26\\\\\n",
       "\t 0.64 & 0.62 & 0.62 & 0.64 & 0.50 & 0.67 & 0.51 & 0.29 & 0.34\\\\\n",
       "\t 0.49 & 0.47 & 0.48 & 0.48 & 0.33 & 0.50 & 0.29 & 0.15 & 0.20\\\\\n",
       "\t 0.64 & 0.64 & 0.61 & 0.62 & 0.49 & 0.71 & 0.50 & 0.22 & 0.30\\\\\n",
       "\t 0.80 & 0.83 & 0.81 & 0.81 & 0.71 & 0.85 & 0.78 & 0.50 & 0.61\\\\\n",
       "\t 0.77 & 0.72 & 0.74 & 0.74 & 0.66 & 0.80 & 0.70 & 0.39 & 0.50\\\\\n",
       "\\end{tabular}\n"
      ],
      "text/markdown": [
       "\n",
       "A matrix: 9 x 9 of type dbl\n",
       "\n",
       "| 0.50 | 0.47 | 0.47 | 0.47 | 0.36 | 0.51 | 0.36 | 0.20 | 0.23 |\n",
       "| 0.53 | 0.50 | 0.47 | 0.49 | 0.38 | 0.53 | 0.36 | 0.17 | 0.28 |\n",
       "| 0.53 | 0.53 | 0.50 | 0.50 | 0.38 | 0.52 | 0.39 | 0.19 | 0.26 |\n",
       "| 0.53 | 0.51 | 0.50 | 0.50 | 0.36 | 0.52 | 0.38 | 0.19 | 0.26 |\n",
       "| 0.64 | 0.62 | 0.62 | 0.64 | 0.50 | 0.67 | 0.51 | 0.29 | 0.34 |\n",
       "| 0.49 | 0.47 | 0.48 | 0.48 | 0.33 | 0.50 | 0.29 | 0.15 | 0.20 |\n",
       "| 0.64 | 0.64 | 0.61 | 0.62 | 0.49 | 0.71 | 0.50 | 0.22 | 0.30 |\n",
       "| 0.80 | 0.83 | 0.81 | 0.81 | 0.71 | 0.85 | 0.78 | 0.50 | 0.61 |\n",
       "| 0.77 | 0.72 | 0.74 | 0.74 | 0.66 | 0.80 | 0.70 | 0.39 | 0.50 |\n",
       "\n"
      ],
      "text/plain": [
       "      [,1] [,2] [,3] [,4] [,5] [,6] [,7] [,8] [,9]\n",
       " [1,] 0.50 0.47 0.47 0.47 0.36 0.51 0.36 0.20 0.23\n",
       " [2,] 0.53 0.50 0.47 0.49 0.38 0.53 0.36 0.17 0.28\n",
       " [3,] 0.53 0.53 0.50 0.50 0.38 0.52 0.39 0.19 0.26\n",
       " [4,] 0.53 0.51 0.50 0.50 0.36 0.52 0.38 0.19 0.26\n",
       " [5,] 0.64 0.62 0.62 0.64 0.50 0.67 0.51 0.29 0.34\n",
       " [6,] 0.49 0.47 0.48 0.48 0.33 0.50 0.29 0.15 0.20\n",
       " [7,] 0.64 0.64 0.61 0.62 0.49 0.71 0.50 0.22 0.30\n",
       " [8,] 0.80 0.83 0.81 0.81 0.71 0.85 0.78 0.50 0.61\n",
       " [9,] 0.77 0.72 0.74 0.74 0.66 0.80 0.70 0.39 0.50"
      ]
     },
     "metadata": {},
     "output_type": "display_data"
    }
   ],
   "source": [
    "scaling$choice |> round(2)"
   ]
  },
  {
   "cell_type": "markdown",
   "metadata": {},
   "source": [
    "Il valore maggiore è"
   ]
  },
  {
   "cell_type": "code",
   "execution_count": 15,
   "metadata": {
    "vscode": {
     "languageId": "r"
    }
   },
   "outputs": [
    {
     "data": {
      "text/html": [
       "0.852641334569045"
      ],
      "text/latex": [
       "0.852641334569045"
      ],
      "text/markdown": [
       "0.852641334569045"
      ],
      "text/plain": [
       "[1] 0.8526413"
      ]
     },
     "metadata": {},
     "output_type": "display_data"
    }
   ],
   "source": [
    "max(scaling$choice)"
   ]
  },
  {
   "cell_type": "markdown",
   "metadata": {},
   "source": [
    "Questo valore, 0.8526, rappresenta la proporzione di partecipanti che hanno preferito l'8° aspetto, Competizione, al 6° aspetto, Sviluppo, ed è il valore più grande nella matrice precedente: questa coppia di caratteristiche ha la preferenza più decisa per un aspetto rispetto all'altro.\n",
    "\n",
    "La preferenza più decisa in termini di proporzioni di persone che scelgono un aspetto rispetto all'altro deve avere la maggiore distanza/differenza sulla scala delle preferenze soggettive (il 6° aspetto, Sviluppo, deve avere una preferenza percepita media molto più alta dell'8° aspetto, Competizione). Questo risultato è effettivamente in linea con i risultati per le medie di utilità, dove la media dello Sviluppo è la più alta con un valore di 1.04 e la Competizione è la più bassa con un valore di 0."
   ]
  },
  {
   "cell_type": "markdown",
   "metadata": {},
   "source": [
    "Consideriamo i residui del modello:"
   ]
  },
  {
   "cell_type": "code",
   "execution_count": 16,
   "metadata": {
    "vscode": {
     "languageId": "r"
    }
   },
   "outputs": [
    {
     "data": {
      "text/html": [
       "<table class=\"dataframe\">\n",
       "<caption>A matrix: 9 x 9 of type dbl</caption>\n",
       "<tbody>\n",
       "\t<tr><td> 0.000000000</td><td> 0.0133479521</td><td> 0.001732662</td><td> 0.0077151838</td><td>-0.005872352</td><td> 0.020341170</td><td> 0.008084655</td><td>-0.036657121</td><td> 0.007039854</td></tr>\n",
       "\t<tr><td>-0.013347952</td><td> 0.0000000000</td><td> 0.022201895</td><td> 0.0003878924</td><td>-0.005625238</td><td> 0.011115950</td><td> 0.018649360</td><td> 0.009672656</td><td>-0.040301391</td></tr>\n",
       "\t<tr><td>-0.001732662</td><td>-0.0222018946</td><td> 0.000000000</td><td> 0.0073806440</td><td> 0.004543318</td><td> 0.028230409</td><td> 0.001106985</td><td>-0.004628757</td><td>-0.008671076</td></tr>\n",
       "\t<tr><td>-0.007715184</td><td>-0.0003878924</td><td>-0.007380644</td><td> 0.0000000000</td><td> 0.010887738</td><td> 0.027845520</td><td> 0.007400479</td><td>-0.012284446</td><td>-0.010646760</td></tr>\n",
       "\t<tr><td> 0.005872352</td><td> 0.0056252384</td><td>-0.004543318</td><td>-0.0108877381</td><td> 0.000000000</td><td>-0.005140288</td><td> 0.006785811</td><td>-0.012984302</td><td> 0.017008932</td></tr>\n",
       "\t<tr><td>-0.020341170</td><td>-0.0111159497</td><td>-0.028230409</td><td>-0.0278455199</td><td> 0.005140288</td><td> 0.000000000</td><td> 0.049380030</td><td> 0.002756144</td><td> 0.015651117</td></tr>\n",
       "\t<tr><td>-0.008084655</td><td>-0.0186493603</td><td>-0.001106985</td><td>-0.0074004791</td><td>-0.006785811</td><td>-0.049380030</td><td> 0.000000000</td><td> 0.042051948</td><td> 0.041174300</td></tr>\n",
       "\t<tr><td> 0.036657121</td><td>-0.0096726558</td><td> 0.004628757</td><td> 0.0122844463</td><td> 0.012984302</td><td>-0.002756144</td><td>-0.042051948</td><td> 0.000000000</td><td>-0.021145626</td></tr>\n",
       "\t<tr><td>-0.007039854</td><td> 0.0403013911</td><td> 0.008671076</td><td> 0.0106467596</td><td>-0.017008932</td><td>-0.015651117</td><td>-0.041174300</td><td> 0.021145626</td><td> 0.000000000</td></tr>\n",
       "</tbody>\n",
       "</table>\n"
      ],
      "text/latex": [
       "A matrix: 9 x 9 of type dbl\n",
       "\\begin{tabular}{lllllllll}\n",
       "\t  0.000000000 &  0.0133479521 &  0.001732662 &  0.0077151838 & -0.005872352 &  0.020341170 &  0.008084655 & -0.036657121 &  0.007039854\\\\\n",
       "\t -0.013347952 &  0.0000000000 &  0.022201895 &  0.0003878924 & -0.005625238 &  0.011115950 &  0.018649360 &  0.009672656 & -0.040301391\\\\\n",
       "\t -0.001732662 & -0.0222018946 &  0.000000000 &  0.0073806440 &  0.004543318 &  0.028230409 &  0.001106985 & -0.004628757 & -0.008671076\\\\\n",
       "\t -0.007715184 & -0.0003878924 & -0.007380644 &  0.0000000000 &  0.010887738 &  0.027845520 &  0.007400479 & -0.012284446 & -0.010646760\\\\\n",
       "\t  0.005872352 &  0.0056252384 & -0.004543318 & -0.0108877381 &  0.000000000 & -0.005140288 &  0.006785811 & -0.012984302 &  0.017008932\\\\\n",
       "\t -0.020341170 & -0.0111159497 & -0.028230409 & -0.0278455199 &  0.005140288 &  0.000000000 &  0.049380030 &  0.002756144 &  0.015651117\\\\\n",
       "\t -0.008084655 & -0.0186493603 & -0.001106985 & -0.0074004791 & -0.006785811 & -0.049380030 &  0.000000000 &  0.042051948 &  0.041174300\\\\\n",
       "\t  0.036657121 & -0.0096726558 &  0.004628757 &  0.0122844463 &  0.012984302 & -0.002756144 & -0.042051948 &  0.000000000 & -0.021145626\\\\\n",
       "\t -0.007039854 &  0.0403013911 &  0.008671076 &  0.0106467596 & -0.017008932 & -0.015651117 & -0.041174300 &  0.021145626 &  0.000000000\\\\\n",
       "\\end{tabular}\n"
      ],
      "text/markdown": [
       "\n",
       "A matrix: 9 x 9 of type dbl\n",
       "\n",
       "|  0.000000000 |  0.0133479521 |  0.001732662 |  0.0077151838 | -0.005872352 |  0.020341170 |  0.008084655 | -0.036657121 |  0.007039854 |\n",
       "| -0.013347952 |  0.0000000000 |  0.022201895 |  0.0003878924 | -0.005625238 |  0.011115950 |  0.018649360 |  0.009672656 | -0.040301391 |\n",
       "| -0.001732662 | -0.0222018946 |  0.000000000 |  0.0073806440 |  0.004543318 |  0.028230409 |  0.001106985 | -0.004628757 | -0.008671076 |\n",
       "| -0.007715184 | -0.0003878924 | -0.007380644 |  0.0000000000 |  0.010887738 |  0.027845520 |  0.007400479 | -0.012284446 | -0.010646760 |\n",
       "|  0.005872352 |  0.0056252384 | -0.004543318 | -0.0108877381 |  0.000000000 | -0.005140288 |  0.006785811 | -0.012984302 |  0.017008932 |\n",
       "| -0.020341170 | -0.0111159497 | -0.028230409 | -0.0278455199 |  0.005140288 |  0.000000000 |  0.049380030 |  0.002756144 |  0.015651117 |\n",
       "| -0.008084655 | -0.0186493603 | -0.001106985 | -0.0074004791 | -0.006785811 | -0.049380030 |  0.000000000 |  0.042051948 |  0.041174300 |\n",
       "|  0.036657121 | -0.0096726558 |  0.004628757 |  0.0122844463 |  0.012984302 | -0.002756144 | -0.042051948 |  0.000000000 | -0.021145626 |\n",
       "| -0.007039854 |  0.0403013911 |  0.008671076 |  0.0106467596 | -0.017008932 | -0.015651117 | -0.041174300 |  0.021145626 |  0.000000000 |\n",
       "\n"
      ],
      "text/plain": [
       "      [,1]         [,2]          [,3]         [,4]          [,5]        \n",
       " [1,]  0.000000000  0.0133479521  0.001732662  0.0077151838 -0.005872352\n",
       " [2,] -0.013347952  0.0000000000  0.022201895  0.0003878924 -0.005625238\n",
       " [3,] -0.001732662 -0.0222018946  0.000000000  0.0073806440  0.004543318\n",
       " [4,] -0.007715184 -0.0003878924 -0.007380644  0.0000000000  0.010887738\n",
       " [5,]  0.005872352  0.0056252384 -0.004543318 -0.0108877381  0.000000000\n",
       " [6,] -0.020341170 -0.0111159497 -0.028230409 -0.0278455199  0.005140288\n",
       " [7,] -0.008084655 -0.0186493603 -0.001106985 -0.0074004791 -0.006785811\n",
       " [8,]  0.036657121 -0.0096726558  0.004628757  0.0122844463  0.012984302\n",
       " [9,] -0.007039854  0.0403013911  0.008671076  0.0106467596 -0.017008932\n",
       "      [,6]         [,7]         [,8]         [,9]        \n",
       " [1,]  0.020341170  0.008084655 -0.036657121  0.007039854\n",
       " [2,]  0.011115950  0.018649360  0.009672656 -0.040301391\n",
       " [3,]  0.028230409  0.001106985 -0.004628757 -0.008671076\n",
       " [4,]  0.027845520  0.007400479 -0.012284446 -0.010646760\n",
       " [5,] -0.005140288  0.006785811 -0.012984302  0.017008932\n",
       " [6,]  0.000000000  0.049380030  0.002756144  0.015651117\n",
       " [7,] -0.049380030  0.000000000  0.042051948  0.041174300\n",
       " [8,] -0.002756144 -0.042051948  0.000000000 -0.021145626\n",
       " [9,] -0.015651117 -0.041174300  0.021145626  0.000000000"
      ]
     },
     "metadata": {},
     "output_type": "display_data"
    }
   ],
   "source": [
    "scaling$residual"
   ]
  },
  {
   "cell_type": "markdown",
   "metadata": {},
   "source": [
    "L'istruzione precedente produce una matrice 9x9 contenente le differenze tra le proporzioni osservate (la matrice delle scelte) e le proporzioni attese (proporzioni che preferiscono l'aspetto nella riga rispetto all'aspetto nella colonna, che sarebbe atteso in base alle distribuzioni normali standard delle preferenze soggettive intorno alle medie scalate come sopra). Gli scarti tra i valori attesi e quelli osservati sono il modo più diretto di misurare se un modello (in questo caso, il modello proposto da Thurstone) \"si adatta\" ai dati osservati. Gli scarti piccoli (vicini allo zero) indicano che ci sono piccole discrepanze tra le scelte osservate e le scelte previste dal modello; il che significa che il modello che abbiamo adottato è piuttosto buono. \n",
    "\n",
    "Infine, esaminiamo un indice di bontà di adattamento:"
   ]
  },
  {
   "cell_type": "code",
   "execution_count": 17,
   "metadata": {
    "vscode": {
     "languageId": "r"
    }
   },
   "outputs": [
    {
     "data": {
      "text/html": [
       "0.998754828963899"
      ],
      "text/latex": [
       "0.998754828963899"
      ],
      "text/markdown": [
       "0.998754828963899"
      ],
      "text/plain": [
       "[1] 0.9987548"
      ]
     },
     "metadata": {},
     "output_type": "display_data"
    }
   ],
   "source": [
    "scaling$GF"
   ]
  },
  {
   "cell_type": "markdown",
   "metadata": {},
   "source": [
    "Il valore GF (Goodness of Fit) viene calcolato come 1 meno la somma dei residui al quadrato divisi per i valori osservati al quadrato. Quando i residui sono quasi zero, i loro rapporti al quadrato rispetto alle proporzioni osservate dovrebbero anch'essi avvicinarsi a zero. Di conseguenza, l'indice di bontà di adattamento di un modello ben adattato dovrebbe essere vicino a 1.\n",
    "\n",
    "Nella nostra analisi, tutti i residui sono notevolmente piccoli, indicando una stretta corrispondenza tra le scelte osservate (proporzioni di preferenze per una caratteristica rispetto a un'altra). Questo allineamento preciso si riflette nell'indice GF, che è quasi 1, suggerendo che il modello di Thurstone cattura adeguatamente le proprietà dei dati relativi alle caratteristiche dell'occupazione ideale."
   ]
  },
  {
   "cell_type": "markdown",
   "metadata": {},
   "source": [
    "## Considerazioni conclusive\n",
    "\n",
    "Questa metodologia, introdotta da Louis Leon Thurstone negli anni '20, rappresenta una delle forme più semplici e intuitive di scaling, dove per \"scaling\" si intende il processo di costruzione di un ordinamento di valori lungo un continuum psicologico. Lo scaling thurstoniano si basa sulla premessa che sia possibile ordinare stimoli o concetti secondo il grado in cui incarnano una certa proprietà psicologica, creando così una scala di misura che riflette le percezioni, le attitudini o i giudizi degli individui.\n",
    "\n",
    "Uno degli aspetti centrali dello scaling di Thurstone, in particolare il caso V della sua legge del giudizio comparativo, è l'assunzione che le distribuzioni di ranking degli stimoli abbiano varianze uguali. Questa ipotesi, pur facilitando la modellizzazione matematica e l'interpretazione dei dati, è stata oggetto di critiche poiché difficilmente riscontrabile nella pratica. Le varianze possono variare significativamente tra gli stimoli a seconda della coerenza dei giudizi degli individui e della natura degli stimoli stessi. Questa limitazione ha stimolato lo sviluppo e l'adozione di metodi alternativi più flessibili per affrontare la complessità dello scaling psicologico.\n",
    "\n",
    "Nel panorama contemporaneo, l'approccio più diffuso e metodologicamente avanzato per lo scaling psicologico deriva dalla Teoria della Risposta all'Item (IRT). L'IRT supera alcune delle limitazioni intrinseche allo scaling thurstoniano offrendo un quadro teorico e metodologico che considera la probabilità di una certa risposta a un item in funzione delle caratteristiche dell'item stesso e del livello dell'attributo psicologico del rispondente. Questo approccio permette di gestire in modo più efficace la varianza tra gli stimoli e di fornire stime più accurate delle proprietà psicometriche degli items e delle caratteristiche degli individui.\n",
    "\n",
    "In conclusione, mentre lo scaling thurstoniano ha rappresentato un passo fondamentale nello sviluppo degli strumenti di misurazione in psicologia, l'evoluzione metodologica e teorica ha portato a preferire approcci basati sull'IRT. Questo non diminuisce il valore storico e didattico dello scaling di Thurstone, che continua a essere un esempio introduttivo prezioso per comprendere i concetti fondamentali dello scaling psicologico. Tuttavia, è nell'ambito della IRT che attualmente si trovano le soluzioni più robuste e sofisticate per affrontare le sfide della misurazione psicologica, guidando la ricerca e l'applicazione pratica nel campo della psicometria contemporanea.\n",
    "\n",
    "## Sesssion Info"
   ]
  },
  {
   "cell_type": "code",
   "execution_count": 21,
   "metadata": {
    "vscode": {
     "languageId": "r"
    }
   },
   "outputs": [
    {
     "data": {
      "text/plain": [
       "R version 4.3.2 (2023-10-31)\n",
       "Platform: aarch64-apple-darwin20 (64-bit)\n",
       "Running under: macOS Sonoma 14.3.1\n",
       "\n",
       "Matrix products: default\n",
       "BLAS:   /Library/Frameworks/R.framework/Versions/4.3-arm64/Resources/lib/libRblas.0.dylib \n",
       "LAPACK: /Library/Frameworks/R.framework/Versions/4.3-arm64/Resources/lib/libRlapack.dylib;  LAPACK version 3.11.0\n",
       "\n",
       "locale:\n",
       "[1] C\n",
       "\n",
       "time zone: Europe/Rome\n",
       "tzcode source: internal\n",
       "\n",
       "attached base packages:\n",
       "[1] stats     graphics  grDevices utils     datasets  methods   base     \n",
       "\n",
       "other attached packages:\n",
       " [1] rio_1.0.1         ggokabeito_0.1.0  viridis_0.6.5     viridisLite_0.4.2\n",
       " [5] ggpubr_0.6.0      ggExtra_0.10.1    bayesplot_1.11.0  gridExtra_2.3    \n",
       " [9] patchwork_1.2.0   semTools_0.5-6    semPlot_1.1.6     lavaan_0.6-17    \n",
       "[13] psych_2.4.1       scales_1.3.0      markdown_1.12     knitr_1.45       \n",
       "[17] lubridate_1.9.3   forcats_1.0.0     stringr_1.5.1     dplyr_1.1.4      \n",
       "[21] purrr_1.0.2       readr_2.1.5       tidyr_1.3.1       tibble_3.2.1     \n",
       "[25] ggplot2_3.4.4     tidyverse_2.0.0   here_1.0.1       \n",
       "\n",
       "loaded via a namespace (and not attached):\n",
       "  [1] rstudioapi_0.15.0  jsonlite_1.8.8     magrittr_2.0.3    \n",
       "  [4] TH.data_1.1-2      estimability_1.4.1 nloptr_2.0.3      \n",
       "  [7] rmarkdown_2.25     vctrs_0.6.5        minqa_1.2.6       \n",
       " [10] base64enc_0.1-3    rstatix_0.7.2      htmltools_0.5.7   \n",
       " [13] broom_1.0.5        Formula_1.2-5      htmlwidgets_1.6.4 \n",
       " [16] plyr_1.8.9         sandwich_3.1-0     emmeans_1.10.0    \n",
       " [19] zoo_1.8-12         uuid_1.2-0         igraph_2.0.1.1    \n",
       " [22] mime_0.12          lifecycle_1.0.4    pkgconfig_2.0.3   \n",
       " [25] Matrix_1.6-5       R6_2.5.1           fastmap_1.1.1     \n",
       " [28] shiny_1.8.0        digest_0.6.34      OpenMx_2.21.11    \n",
       " [31] fdrtool_1.2.17     colorspace_2.1-0   rprojroot_2.0.4   \n",
       " [34] Hmisc_5.1-1        fansi_1.0.6        timechange_0.3.0  \n",
       " [37] abind_1.4-5        compiler_4.3.2     withr_3.0.0       \n",
       " [40] glasso_1.11        htmlTable_2.4.2    backports_1.4.1   \n",
       " [43] carData_3.0-5      R.utils_2.12.3     ggsignif_0.6.4    \n",
       " [46] MASS_7.3-60.0.1    corpcor_1.6.10     gtools_3.9.5      \n",
       " [49] tools_4.3.2        pbivnorm_0.6.0     foreign_0.8-86    \n",
       " [52] httpuv_1.6.14      zip_2.3.1          nnet_7.3-19       \n",
       " [55] R.oo_1.26.0        glue_1.7.0         quadprog_1.5-8    \n",
       " [58] promises_1.2.1     nlme_3.1-164       lisrelToR_0.3     \n",
       " [61] grid_4.3.2         pbdZMQ_0.3-11      checkmate_2.3.1   \n",
       " [64] cluster_2.1.6      reshape2_1.4.4     generics_0.1.3    \n",
       " [67] gtable_0.3.4       tzdb_0.4.0         R.methodsS3_1.8.2 \n",
       " [70] data.table_1.15.0  hms_1.1.3          car_3.1-2         \n",
       " [73] utf8_1.2.4         sem_3.1-15         pillar_1.9.0      \n",
       " [76] IRdisplay_1.1      rockchalk_1.8.157  later_1.3.2       \n",
       " [79] splines_4.3.2      lattice_0.22-5     survival_3.5-7    \n",
       " [82] kutils_1.73        tidyselect_1.2.0   miniUI_0.1.1.1    \n",
       " [85] pbapply_1.7-2      stats4_4.3.2       xfun_0.42         \n",
       " [88] qgraph_1.9.8       arm_1.13-1         stringi_1.8.3     \n",
       " [91] boot_1.3-28.1      evaluate_0.23      codetools_0.2-19  \n",
       " [94] mi_1.1             cli_3.6.2          RcppParallel_5.1.7\n",
       " [97] IRkernel_1.3.2     rpart_4.1.23       xtable_1.8-4      \n",
       "[100] repr_1.1.6         munsell_0.5.0      Rcpp_1.0.12       \n",
       "[103] coda_0.19-4.1      png_0.1-8          XML_3.99-0.16.1   \n",
       "[106] parallel_4.3.2     ellipsis_0.3.2     jpeg_0.1-10       \n",
       "[109] lme4_1.1-35.1      mvtnorm_1.2-4      openxlsx_4.2.5.2  \n",
       "[112] crayon_1.5.2       rlang_1.1.3        multcomp_1.4-25   \n",
       "[115] mnormt_2.1.1      "
      ]
     },
     "metadata": {},
     "output_type": "display_data"
    }
   ],
   "source": [
    "sessionInfo()"
   ]
  }
 ],
 "metadata": {
  "kernelspec": {
   "display_name": "R",
   "language": "R",
   "name": "ir"
  },
  "language_info": {
   "codemirror_mode": "r",
   "file_extension": ".r",
   "mimetype": "text/x-r-source",
   "name": "R",
   "pygments_lexer": "r",
   "version": "4.3.2"
  }
 },
 "nbformat": 4,
 "nbformat_minor": 2
}
