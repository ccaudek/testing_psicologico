{
 "cells": [
  {
   "cell_type": "markdown",
   "metadata": {},
   "source": [
    "# ✏️ Esercizi {#sec-ex-optimal-scaling}"
   ]
  },
  {
   "cell_type": "markdown",
   "metadata": {},
   "source": [
    "## Ottimizzazione dello scoring dei dati di questionari ordinali\n",
    "\n",
    "Nell'Esercizio precedente, abbiamo calcolato i punteggi del **Strength and Difficulties Questionnaire (SDQ)** utilizzando il cosiddetto approccio della **\"scalatura Likert\"**. In questo metodo, alle categorie di risposta \"Non vero\", \"Parzialmente vero\" e \"Assolutamente vero\" sono stati assegnati interi consecutivi, rispettivamente 0-1-2. Sebbene questo assegnamento rifletta apparentemente un grado crescente di accordo nelle opzioni di risposta, la scelta degli interi è stata arbitraria: non vi era un motivo particolare per assegnare 0-1-2 anziché, ad esempio, 1-2-3. Questo tipo di assegnazione arbitraria dei punteggi agli item è comunemente chiamato **\"misurazione per decreto\"** (*measurement by fiat*). \n",
    "\n",
    "In questo secondo esercizio, cercheremo di individuare punteggi \"ottimali\" per le risposte ordinali al SDQ. Per \"ottimali\" intendiamo che i punteggi assegnati non siano semplicemente arbitrari, ma rappresentino la \"migliore\" scelta possibile in base a un determinato criterio statistico.\n",
    "\n",
    "Esistono diversi modi per \"ottimizzare\" i punteggi degli item. In questo caso, ci concentreremo sulla massimizzazione del rapporto tra la varianza del punteggio totale e la somma delle varianze dei punteggi degli item. In psicometria, soddisfare questo criterio significa massimizzare la somma delle correlazioni tra gli item e, di conseguenza, migliorare la **consistenza interna** del test, misurata dall'**alfa di Cronbach**.\n",
    "\n",
    "Questo approccio consente di definire punteggi più informativi, che riflettono meglio la coerenza tra le risposte degli item e il punteggio totale del test, migliorando la qualità psicometrica della scala.\n",
    "\n",
    "Per fare un esempio, useremo di nuovo gli item della scala  **Sintomi Emotivi**. Utilizzeremo il pacchetto **`aspect`**, che semplifica l'ottimizzazione della scalatura grazie a una gamma di opzioni utili e a funzioni grafiche integrate. "
   ]
  },
  {
   "cell_type": "code",
   "execution_count": 3,
   "metadata": {
    "vscode": {
     "languageId": "r"
    }
   },
   "outputs": [],
   "source": [
    "source(\"../../code/_common.R\")\n",
    "library(\"aspect\")"
   ]
  },
  {
   "cell_type": "markdown",
   "metadata": {},
   "source": [
    "Importiamo i dati del *Strengths and Difficulties Questionnaire* (SDQ)."
   ]
  },
  {
   "cell_type": "code",
   "execution_count": 4,
   "metadata": {
    "vscode": {
     "languageId": "r"
    }
   },
   "outputs": [],
   "source": [
    "load(\"../../data/data_sdq/SDQ.RData\")"
   ]
  },
  {
   "cell_type": "code",
   "execution_count": 5,
   "metadata": {
    "vscode": {
     "languageId": "r"
    }
   },
   "outputs": [
    {
     "name": "stdout",
     "output_type": "stream",
     "text": [
      "Rows: 228\n",
      "Columns: 51\n",
      "$ \u001b[1mGender  \u001b[22m \u001b[3m\u001b[90m<dbl>\u001b[39m\u001b[23m 1, 1, 1, 1, 1, 1, 1, 1, 1, 1, 1, 1, 1, 1, 1, 1, 1, 1, 1, ~\n",
      "$ \u001b[1mconsid  \u001b[22m \u001b[3m\u001b[90m<dbl>\u001b[39m\u001b[23m 1, 2, 2, 2, 0, 2, 2, 2, 2, 2, 2, 2, 2, 2, 2, 2, 1, 2, 2, ~\n",
      "$ \u001b[1mrestles \u001b[22m \u001b[3m\u001b[90m<dbl>\u001b[39m\u001b[23m 2, 0, 0, 0, 1, 0, 2, 1, 2, 0, 1, 1, 0, 1, 0, 2, 0, 1, 1, ~\n",
      "$ \u001b[1msomatic \u001b[22m \u001b[3m\u001b[90m<dbl>\u001b[39m\u001b[23m 2, 2, 0, 0, 2, 1, 0, 0, 1, 0, 0, 2, 0, 0, 1, 2, 1, 1, 1, ~\n",
      "$ \u001b[1mshares  \u001b[22m \u001b[3m\u001b[90m<dbl>\u001b[39m\u001b[23m 1, 1, 2, 2, 0, 2, 2, 2, 2, 2, 1, 2, 2, 2, 2, 2, 1, 2, 1, ~\n",
      "$ \u001b[1mtantrum \u001b[22m \u001b[3m\u001b[90m<dbl>\u001b[39m\u001b[23m 0, 0, 0, 0, 1, 0, 2, 0, 2, 0, 0, 1, 0, 1, 1, 2, 0, 1, 1, ~\n",
      "$ \u001b[1mloner   \u001b[22m \u001b[3m\u001b[90m<dbl>\u001b[39m\u001b[23m 0, 0, 0, 0, 0, 0, 0, 2, 2, 0, 0, 1, 0, 0, 0, 1, 0, 0, 2, ~\n",
      "$ \u001b[1mobeys   \u001b[22m \u001b[3m\u001b[90m<dbl>\u001b[39m\u001b[23m 2, 2, 2, 2, 0, 2, 2, 2, 2, 2, 1, 1, 2, 2, 1, 2, 2, 2, 1, ~\n",
      "$ \u001b[1mworries \u001b[22m \u001b[3m\u001b[90m<dbl>\u001b[39m\u001b[23m 1, 0, 0, 0, 1, 0, 1, 0, 0, 0, 0, 2, 0, 1, 2, 0, 1, 1, 2, ~\n",
      "$ \u001b[1mcaring  \u001b[22m \u001b[3m\u001b[90m<dbl>\u001b[39m\u001b[23m 2, 2, 2, 1, 2, 2, 2, 2, 2, 2, 1, 2, 2, 2, 2, 2, 1, 2, 2, ~\n",
      "$ \u001b[1mfidgety \u001b[22m \u001b[3m\u001b[90m<dbl>\u001b[39m\u001b[23m 0, 0, 0, 0, 0, 0, 2, 0, 0, 0, 1, 1, 0, 0, 0, 1, 0, 0, 0, ~\n",
      "$ \u001b[1mfriend  \u001b[22m \u001b[3m\u001b[90m<dbl>\u001b[39m\u001b[23m 2, 2, 2, 2, 0, 2, 2, 2, 2, 2, 1, 2, 2, 2, 2, 2, 2, 2, 1, ~\n",
      "$ \u001b[1mfights  \u001b[22m \u001b[3m\u001b[90m<dbl>\u001b[39m\u001b[23m 0, 0, 0, 0, 0, 0, 0, 0, 0, 0, 0, 0, 0, 0, 0, 0, 0, 0, 0, ~\n",
      "$ \u001b[1munhappy \u001b[22m \u001b[3m\u001b[90m<dbl>\u001b[39m\u001b[23m 0, 0, 0, 0, 0, 0, 1, 0, 0, 0, 0, 1, 0, 0, 1, 0, 0, 0, 2, ~\n",
      "$ \u001b[1mpopular \u001b[22m \u001b[3m\u001b[90m<dbl>\u001b[39m\u001b[23m 2, 2, 2, 1, 1, 2, 2, 2, 2, 2, 2, 2, 1, 1, 1, 2, 1, 2, 1, ~\n",
      "$ \u001b[1mdistrac \u001b[22m \u001b[3m\u001b[90m<dbl>\u001b[39m\u001b[23m 0, 1, 0, 0, 1, 0, 2, 0, 0, 0, 0, 1, 0, 0, 1, 2, 0, 0, 1, ~\n",
      "$ \u001b[1mclingy  \u001b[22m \u001b[3m\u001b[90m<dbl>\u001b[39m\u001b[23m 1, 1, 0, 1, 1, 1, 2, 0, 0, 0, 0, 1, 0, 2, 2, 1, 2, 0, 2, ~\n",
      "$ \u001b[1mkind    \u001b[22m \u001b[3m\u001b[90m<dbl>\u001b[39m\u001b[23m 1, 2, 2, 2, 1, 2, 2, 2, 2, 1, 1, 2, 2, 2, 2, 2, 1, 2, 2, ~\n",
      "$ \u001b[1mlies    \u001b[22m \u001b[3m\u001b[90m<dbl>\u001b[39m\u001b[23m 0, 0, 0, 0, 2, 0, 1, 0, 2, 0, 0, 1, 0, 0, 1, 0, 0, 0, 0, ~\n",
      "$ \u001b[1mbullied \u001b[22m \u001b[3m\u001b[90m<dbl>\u001b[39m\u001b[23m 0, 0, 0, 0, 2, 0, 1, 0, 0, 0, 0, 1, 0, 0, 1, 0, 0, 0, 1, ~\n",
      "$ \u001b[1mhelpout \u001b[22m \u001b[3m\u001b[90m<dbl>\u001b[39m\u001b[23m 2, 1, 2, 2, 0, 2, 2, 2, 1, 2, 1, 2, 2, 1, 2, 2, 1, 2, 1, ~\n",
      "$ \u001b[1mreflect \u001b[22m \u001b[3m\u001b[90m<dbl>\u001b[39m\u001b[23m 1, 1, 2, 2, 0, 2, 2, 2, 1, 1, 1, 1, 1, 1, 1, 2, 2, 2, 1, ~\n",
      "$ \u001b[1msteals  \u001b[22m \u001b[3m\u001b[90m<dbl>\u001b[39m\u001b[23m 0, 0, 0, 0, 0, 0, 0, 0, 0, 0, 1, 0, 0, 0, 1, 0, 0, 0, 0, ~\n",
      "$ \u001b[1moldbest \u001b[22m \u001b[3m\u001b[90m<dbl>\u001b[39m\u001b[23m 1, 0, 2, 1, 0, 1, 1, 1, 0, 0, 0, 1, 0, 0, 1, 1, 0, 0, 2, ~\n",
      "$ \u001b[1mafraid  \u001b[22m \u001b[3m\u001b[90m<dbl>\u001b[39m\u001b[23m 0, 0, 1, 1, 0, 0, 0, 0, 0, 1, 0, 2, 2, 0, 1, 1, 1, 0, 1, ~\n",
      "$ \u001b[1mattends \u001b[22m \u001b[3m\u001b[90m<dbl>\u001b[39m\u001b[23m 2, 2, 1, 2, 0, 2, 2, 2, 2, 2, 1, 1, 2, 1, 2, 2, 1, 1, 1, ~\n",
      "$ \u001b[1mconsid2 \u001b[22m \u001b[3m\u001b[90m<dbl>\u001b[39m\u001b[23m 1, 2, 2, 2, NA, 2, 2, 2, 2, 2, NA, 1, NA, 2, 2, NA, 1, 2,~\n",
      "$ \u001b[1mrestles2\u001b[22m \u001b[3m\u001b[90m<dbl>\u001b[39m\u001b[23m 0, 1, 2, 1, NA, 0, 1, 1, 0, 0, NA, 2, NA, 0, 1, NA, 1, 1,~\n",
      "$ \u001b[1msomatic2\u001b[22m \u001b[3m\u001b[90m<dbl>\u001b[39m\u001b[23m 0, 1, 1, 0, NA, 0, 0, 0, 0, 0, NA, 2, NA, 0, 1, NA, 0, 1,~\n",
      "$ \u001b[1mshares2 \u001b[22m \u001b[3m\u001b[90m<dbl>\u001b[39m\u001b[23m 1, 2, 2, 1, NA, 2, 1, 2, 2, 2, NA, 2, NA, 2, 2, NA, 1, 2,~\n",
      "$ \u001b[1mtantrum2\u001b[22m \u001b[3m\u001b[90m<dbl>\u001b[39m\u001b[23m 0, 1, 2, 0, NA, 0, 2, 0, 0, 0, NA, 2, NA, 0, 1, NA, 1, 0,~\n",
      "$ \u001b[1mloner2  \u001b[22m \u001b[3m\u001b[90m<dbl>\u001b[39m\u001b[23m 0, 0, 1, 0, NA, 0, 0, 0, 0, 0, NA, 1, NA, 1, 0, NA, 0, 0,~\n",
      "$ \u001b[1mobeys2  \u001b[22m \u001b[3m\u001b[90m<dbl>\u001b[39m\u001b[23m 2, 1, 2, 1, NA, 2, 2, 2, 2, 1, NA, 1, NA, 2, 1, NA, 1, 2,~\n",
      "$ \u001b[1mworries2\u001b[22m \u001b[3m\u001b[90m<dbl>\u001b[39m\u001b[23m 0, 0, 1, 0, NA, NA, 1, 0, 0, 0, NA, 1, NA, 1, 2, NA, 0, 0~\n",
      "$ \u001b[1mcaring2 \u001b[22m \u001b[3m\u001b[90m<dbl>\u001b[39m\u001b[23m 2, 2, 1, 2, NA, 2, 2, 2, 2, 2, NA, 2, NA, 2, 2, NA, 1, 2,~\n",
      "$ \u001b[1mfidgety2\u001b[22m \u001b[3m\u001b[90m<dbl>\u001b[39m\u001b[23m 0, 1, 0, 0, NA, 0, 1, 0, 0, 0, NA, 2, NA, 0, 0, NA, 1, 0,~\n",
      "$ \u001b[1mfriend2 \u001b[22m \u001b[3m\u001b[90m<dbl>\u001b[39m\u001b[23m 2, 2, 1, 2, NA, 2, 2, 2, 2, 2, NA, 2, NA, 1, 2, NA, 2, 2,~\n",
      "$ \u001b[1mfights2 \u001b[22m \u001b[3m\u001b[90m<dbl>\u001b[39m\u001b[23m 0, 0, 0, 0, NA, 0, 0, 0, 0, 0, NA, 2, NA, 0, 0, NA, 0, 0,~\n",
      "$ \u001b[1munhappy2\u001b[22m \u001b[3m\u001b[90m<dbl>\u001b[39m\u001b[23m 0, 0, 1, 0, NA, 0, 0, 0, 0, 0, NA, 1, NA, 0, 0, NA, 0, 0,~\n",
      "$ \u001b[1mpopular2\u001b[22m \u001b[3m\u001b[90m<dbl>\u001b[39m\u001b[23m 2, 1, 1, 2, NA, 2, 1, 2, 2, 2, NA, 2, NA, 2, 2, NA, 1, 2,~\n",
      "$ \u001b[1mdistrac2\u001b[22m \u001b[3m\u001b[90m<dbl>\u001b[39m\u001b[23m 0, 0, 0, 2, NA, 0, 2, 1, 0, 0, NA, 1, NA, 0, 1, NA, 1, 0,~\n",
      "$ \u001b[1mclingy2 \u001b[22m \u001b[3m\u001b[90m<dbl>\u001b[39m\u001b[23m 1, 1, 1, 0, NA, 1, 1, 1, 0, 0, NA, 1, NA, 0, 0, NA, 2, 0,~\n",
      "$ \u001b[1mkind2   \u001b[22m \u001b[3m\u001b[90m<dbl>\u001b[39m\u001b[23m 2, 2, 2, 2, NA, 2, 2, 2, 2, 2, NA, 2, NA, 2, 2, NA, 1, 2,~\n",
      "$ \u001b[1mlies2   \u001b[22m \u001b[3m\u001b[90m<dbl>\u001b[39m\u001b[23m 1, 0, 0, 0, NA, 0, 1, 0, 1, 0, NA, 1, NA, 0, 0, NA, 1, 0,~\n",
      "$ \u001b[1mbullied2\u001b[22m \u001b[3m\u001b[90m<dbl>\u001b[39m\u001b[23m 0, 0, 0, 0, NA, 0, 2, 0, 0, 0, NA, 0, NA, 0, 0, NA, 0, 0,~\n",
      "$ \u001b[1mhelpout2\u001b[22m \u001b[3m\u001b[90m<dbl>\u001b[39m\u001b[23m 1, 1, 1, 2, NA, 2, 2, 1, 2, 1, NA, 2, NA, 2, 1, NA, 0, 2,~\n",
      "$ \u001b[1mreflect2\u001b[22m \u001b[3m\u001b[90m<dbl>\u001b[39m\u001b[23m 1, 1, 2, 1, NA, 2, 1, 2, 1, 2, NA, 1, NA, 2, 1, NA, 1, 2,~\n",
      "$ \u001b[1msteals2 \u001b[22m \u001b[3m\u001b[90m<dbl>\u001b[39m\u001b[23m 0, 0, 0, 0, NA, 0, 0, 0, 0, 0, NA, 2, NA, 0, 0, NA, 0, 0,~\n",
      "$ \u001b[1moldbest2\u001b[22m \u001b[3m\u001b[90m<dbl>\u001b[39m\u001b[23m 0, 0, 1, 0, NA, 1, 0, 1, 1, 0, NA, 1, NA, 0, 0, NA, 0, 0,~\n",
      "$ \u001b[1mafraid2 \u001b[22m \u001b[3m\u001b[90m<dbl>\u001b[39m\u001b[23m 0, 1, 0, 0, NA, 0, 0, 0, 0, 0, NA, 2, NA, 0, 0, NA, 0, 0,~\n",
      "$ \u001b[1mattends2\u001b[22m \u001b[3m\u001b[90m<dbl>\u001b[39m\u001b[23m 1, 1, 2, 0, NA, 2, 2, 2, 2, 1, NA, 1, NA, 2, 2, NA, 1, 1,~\n"
     ]
    }
   ],
   "source": [
    "glimpse(SDQ)"
   ]
  },
  {
   "cell_type": "markdown",
   "metadata": {},
   "source": [
    "Per analizzare solo gli item che misurano i Sintomi Emotivi, è conveniente creare un nuovo data frame."
   ]
  },
  {
   "cell_type": "code",
   "execution_count": 6,
   "metadata": {
    "vscode": {
     "languageId": "r"
    }
   },
   "outputs": [
    {
     "data": {
      "text/html": [
       "<table class=\"dataframe\">\n",
       "<caption>A tibble: 6 x 5</caption>\n",
       "<thead>\n",
       "\t<tr><th scope=col>somatic</th><th scope=col>worries</th><th scope=col>unhappy</th><th scope=col>clingy</th><th scope=col>afraid</th></tr>\n",
       "\t<tr><th scope=col>&lt;dbl&gt;</th><th scope=col>&lt;dbl&gt;</th><th scope=col>&lt;dbl&gt;</th><th scope=col>&lt;dbl&gt;</th><th scope=col>&lt;dbl&gt;</th></tr>\n",
       "</thead>\n",
       "<tbody>\n",
       "\t<tr><td>2</td><td>1</td><td>0</td><td>1</td><td>0</td></tr>\n",
       "\t<tr><td>2</td><td>0</td><td>0</td><td>1</td><td>0</td></tr>\n",
       "\t<tr><td>0</td><td>0</td><td>0</td><td>0</td><td>1</td></tr>\n",
       "\t<tr><td>0</td><td>0</td><td>0</td><td>1</td><td>1</td></tr>\n",
       "\t<tr><td>2</td><td>1</td><td>0</td><td>1</td><td>0</td></tr>\n",
       "\t<tr><td>1</td><td>0</td><td>0</td><td>1</td><td>0</td></tr>\n",
       "</tbody>\n",
       "</table>\n"
      ],
      "text/latex": [
       "A tibble: 6 x 5\n",
       "\\begin{tabular}{lllll}\n",
       " somatic & worries & unhappy & clingy & afraid\\\\\n",
       " <dbl> & <dbl> & <dbl> & <dbl> & <dbl>\\\\\n",
       "\\hline\n",
       "\t 2 & 1 & 0 & 1 & 0\\\\\n",
       "\t 2 & 0 & 0 & 1 & 0\\\\\n",
       "\t 0 & 0 & 0 & 0 & 1\\\\\n",
       "\t 0 & 0 & 0 & 1 & 1\\\\\n",
       "\t 2 & 1 & 0 & 1 & 0\\\\\n",
       "\t 1 & 0 & 0 & 1 & 0\\\\\n",
       "\\end{tabular}\n"
      ],
      "text/markdown": [
       "\n",
       "A tibble: 6 x 5\n",
       "\n",
       "| somatic &lt;dbl&gt; | worries &lt;dbl&gt; | unhappy &lt;dbl&gt; | clingy &lt;dbl&gt; | afraid &lt;dbl&gt; |\n",
       "|---|---|---|---|---|\n",
       "| 2 | 1 | 0 | 1 | 0 |\n",
       "| 2 | 0 | 0 | 1 | 0 |\n",
       "| 0 | 0 | 0 | 0 | 1 |\n",
       "| 0 | 0 | 0 | 1 | 1 |\n",
       "| 2 | 1 | 0 | 1 | 0 |\n",
       "| 1 | 0 | 0 | 1 | 0 |\n",
       "\n"
      ],
      "text/plain": [
       "  somatic worries unhappy clingy afraid\n",
       "1 2       1       0       1      0     \n",
       "2 2       0       0       1      0     \n",
       "3 0       0       0       0      1     \n",
       "4 0       0       0       1      1     \n",
       "5 2       1       0       1      0     \n",
       "6 1       0       0       1      0     "
      ]
     },
     "metadata": {},
     "output_type": "display_data"
    }
   ],
   "source": [
    "items_emotion <- c(\"somatic\", \"worries\", \"unhappy\", \"clingy\", \"afraid\")\n",
    "sdq_emo <- SDQ[, items_emotion]\n",
    "sdq_emo |>\n",
    "    head()"
   ]
  },
  {
   "cell_type": "markdown",
   "metadata": {},
   "source": [
    "Affrontiamo il problema dei dati mancanti come discusso in precedenza."
   ]
  },
  {
   "cell_type": "code",
   "execution_count": 8,
   "metadata": {
    "vscode": {
     "languageId": "r"
    }
   },
   "outputs": [],
   "source": [
    "sdq_emo <- sdq_emo %>%\n",
    "    mutate_at(vars(somatic:afraid), ~ ifelse(is.na(.), mean(., na.rm = TRUE), .)) |> round()"
   ]
  },
  {
   "cell_type": "markdown",
   "metadata": {},
   "source": [
    "Esaminiamo le modalità di ciascun item:"
   ]
  },
  {
   "cell_type": "code",
   "execution_count": 9,
   "metadata": {
    "vscode": {
     "languageId": "r"
    }
   },
   "outputs": [
    {
     "name": "stdout",
     "output_type": "stream",
     "text": [
      "[[1]]\n",
      "[1] 0 1 2\n",
      "\n",
      "[[2]]\n",
      "[1] 0 1 2\n",
      "\n",
      "[[3]]\n",
      "[1] 0 1 2\n",
      "\n",
      "[[4]]\n",
      "[1] 0 1 2\n",
      "\n",
      "[[5]]\n",
      "[1] 0 1 2\n",
      "\n"
     ]
    }
   ],
   "source": [
    "emotional_symptoms <- c(\"somatic\", \"worries\", \"unhappy\", \"clingy\", \"afraid\")\n",
    "result <- lapply(emotional_symptoms, function(x) sort(unique(sdq_emo[[x]])))\n",
    "result |> print()"
   ]
  },
  {
   "cell_type": "markdown",
   "metadata": {},
   "source": [
    "Trasformiamo il data frame in una matrice."
   ]
  },
  {
   "cell_type": "code",
   "execution_count": 10,
   "metadata": {
    "vscode": {
     "languageId": "r"
    }
   },
   "outputs": [],
   "source": [
    "M <- sdq_emo |> as.matrix()"
   ]
  },
  {
   "cell_type": "markdown",
   "metadata": {},
   "source": [
    "Implementiamo lo scaling ottimale con la funzione `corAspect()`."
   ]
  },
  {
   "cell_type": "code",
   "execution_count": 11,
   "metadata": {
    "vscode": {
     "languageId": "r"
    }
   },
   "outputs": [],
   "source": [
    "opt <- corAspect(M, aspect = \"aspectSum\", level = \"ordinal\")"
   ]
  },
  {
   "cell_type": "markdown",
   "metadata": {},
   "source": [
    "Parametri principali della funzione:\n",
    "\n",
    "1. **`data`**  \n",
    "   Questo argomento rappresenta il data frame che contiene i dati da analizzare. Nel nostro caso, si tratta degli item relativi alla scala che stiamo studiando (ad esempio, quelli che misurano i **Sintomi Emotivi**).\n",
    "\n",
    "2. **`aspect`**  \n",
    "   Questo parametro specifica il criterio da ottimizzare. Per impostazione predefinita, `aspect=\"aspectSum\"` massimizza la somma delle correlazioni tra gli item. Questo criterio è utile per migliorare la consistenza interna della scala, ad esempio incrementando l'alfa di Cronbach. Nel nostro caso, utilizziamo questa impostazione predefinita.\n",
    "\n",
    "3. **`level`**  \n",
    "   Questo argomento definisce il livello di misura delle variabili analizzate:  \n",
    "   - **`nominal`** (impostazione predefinita): suppone che le variabili rappresentino categorie nominali. In questo caso, non vi sono restrizioni sui punteggi risultanti.  \n",
    "   - **`ordinal`**: richiede che l’ordine dei punteggi venga preservato.  \n",
    "   - **`numerical`**: oltre a preservare l’ordine, richiede che le distanze tra i punteggi siano uguali.  \n",
    "\n",
    "Nel caso delle categorie di risposta del **SDQ** (\"non vero\", \"parzialmente vero\", \"assolutamente vero\"), queste riflettono chiaramente un ordine crescente di accordo. Vogliamo preservare questo ordine durante l'ottimizzazione, quindi impostiamo `level=\"ordinal\"`.\n",
    "\n",
    "Esaminiamo il risultato ottenuto."
   ]
  },
  {
   "cell_type": "code",
   "execution_count": 13,
   "metadata": {
    "vscode": {
     "languageId": "r"
    }
   },
   "outputs": [
    {
     "name": "stdout",
     "output_type": "stream",
     "text": [
      "$names\n",
      " [1] \"loss\"      \"catscores\" \"cormat\"    \"eigencor\"  \"indmat\"    \"scoremat\" \n",
      " [7] \"data\"      \"burtmat\"   \"niter\"     \"call\"     \n",
      "\n",
      "$class\n",
      "[1] \"aspect\"\n",
      "\n"
     ]
    }
   ],
   "source": [
    "attributes(opt) |> print()"
   ]
  },
  {
   "cell_type": "code",
   "execution_count": 15,
   "metadata": {
    "vscode": {
     "languageId": "r"
    }
   },
   "outputs": [
    {
     "name": "stdout",
     "output_type": "stream",
     "text": [
      "\n",
      "Correlation matrix of the scaled data:\n",
      "        somatic worries unhappy clingy afraid\n",
      "somatic   1.000   0.339   0.369  0.254  0.313\n",
      "worries   0.339   1.000   0.468  0.397  0.378\n",
      "unhappy   0.369   0.468   1.000  0.367  0.454\n",
      "clingy    0.254   0.397   0.367  1.000  0.378\n",
      "afraid    0.313   0.378   0.454  0.378  1.000\n",
      "\n",
      "\n",
      "Eigenvalues of the correlation matrix:\n",
      "[1] 2.497 0.757 0.634 0.610 0.502\n",
      "\n",
      "Category scores:\n",
      "somatic:\n",
      "    score\n",
      "0 -0.901\n",
      "1  0.586\n",
      "2  1.972\n",
      "\n",
      "worries:\n",
      "    score\n",
      "0 -0.854\n",
      "1  0.445\n",
      "2  2.096\n",
      "\n",
      "unhappy:\n",
      "    score\n",
      "0 -0.601\n",
      "1  1.393\n",
      "2  2.659\n",
      "\n",
      "clingy:\n",
      "    score\n",
      "0 -1.199\n",
      "1  0.237\n",
      "2  1.617\n",
      "\n",
      "afraid:\n",
      "    score\n",
      "0 -0.769\n",
      "1  1.009\n",
      "2  1.951\n",
      "\n"
     ]
    }
   ],
   "source": [
    "summary(opt)"
   ]
  },
  {
   "cell_type": "markdown",
   "metadata": {},
   "source": [
    "1. **Punteggi ottimali per ogni item:**  \n",
    "   La funzione calcola i punteggi \"ottimali\" per ogni item, ovvero valori che massimizzano la somma delle correlazioni tra gli item. Questo migliora la coerenza interna della scala.  \n",
    "\n",
    "2. **Preservazione dell'ordine delle risposte:**  \n",
    "   Utilizzando `level=\"ordinal\"`, i punteggi ottimizzati mantengono l'ordine crescente delle categorie di risposta, come ad esempio:\n",
    "   - \"non vero\" < \"parzialmente vero\" < \"assolutamente vero\".  \n",
    "   Ciò assicura che la struttura ordinata delle risposte venga rispettata.\n",
    "\n",
    "3. **Correlazioni e punteggi trasformati:**  \n",
    "   L'output include:  \n",
    "   - La **matrice di correlazione** dei punteggi trasformati, ovvero le correlazioni tra gli item dopo la scalatura ottimale.  \n",
    "   - Le correlazioni possono essere confrontate con quelle calcolate sulle variabili originali utilizzando la funzione `cor(items)`.  \n",
    "\n",
    "4. **Autovalori della matrice di correlazione:**  \n",
    "   L'output mostra anche gli **autovalori** della matrice di correlazione, che rappresentano le varianze delle componenti principali (da un'Analisi delle Componenti Principali, PCA).  \n",
    "   - Gli autovalori sono utili per determinare il numero di dimensioni misurate dal set di item.  \n",
    "   - Ad esempio, se il primo autovalore è significativamente più grande degli altri, ciò suggerisce che gli item misurano una sola dimensione, come ci si aspettava.\n",
    "\n",
    "5. **Punteggi delle categorie:**  \n",
    "   La funzione mostra i **punteggi assegnati a ciascuna categoria di risposta** dopo la scalatura ottimale. Ad esempio, per l’item *somatic*, i risultati potrebbero indicare:  \n",
    "   - \"non vero\" → -0.886  \n",
    "   - \"parzialmente vero\" → 0.584  \n",
    "   - \"assolutamente vero\" → 2.045  \n",
    "\n",
    "   Questi punteggi sono scelti in modo da:\n",
    "   - Avere una media pari a 0 nel campione analizzato.  \n",
    "   - Massimizzare le correlazioni tra gli item, migliorando la coerenza interna della scala.\n",
    "\n",
    "6. **Grafici delle trasformazioni:**  \n",
    "   Il pacchetto **`aspect`** offre grafici utili che mostrano visivamente l’assegnazione dei punteggi alle categorie. Questi grafici aiutano a interpretare il risultato della scalatura ottimale in modo intuitivo.\n",
    "\n",
    "Questo approccio offre un metodo rigoroso per ottimizzare la misurazione degli item, migliorando la qualità psicometrica della scala e assicurando che l'interpretazione delle risposte rifletta al meglio la coerenza interna del test.\n",
    "\n",
    "I punteggi ottenuti si ottengono nel modo seguente:"
   ]
  },
  {
   "cell_type": "code",
   "execution_count": 14,
   "metadata": {
    "vscode": {
     "languageId": "r"
    }
   },
   "outputs": [
    {
     "data": {
      "text/html": [
       "<table class=\"dataframe\">\n",
       "<caption>A matrix: 228 x 5 of type dbl</caption>\n",
       "<thead>\n",
       "\t<tr><th></th><th scope=col>somatic</th><th scope=col>worries</th><th scope=col>unhappy</th><th scope=col>clingy</th><th scope=col>afraid</th></tr>\n",
       "</thead>\n",
       "<tbody>\n",
       "\t<tr><th scope=row>1</th><td> 1.972</td><td> 0.445</td><td>-0.601</td><td> 0.237</td><td>-0.769</td></tr>\n",
       "\t<tr><th scope=row>2</th><td> 1.972</td><td>-0.854</td><td>-0.601</td><td> 0.237</td><td>-0.769</td></tr>\n",
       "\t<tr><th scope=row>3</th><td>-0.901</td><td>-0.854</td><td>-0.601</td><td>-1.199</td><td> 1.009</td></tr>\n",
       "\t<tr><th scope=row>4</th><td>-0.901</td><td>-0.854</td><td>-0.601</td><td> 0.237</td><td> 1.009</td></tr>\n",
       "\t<tr><th scope=row>5</th><td> 1.972</td><td> 0.445</td><td>-0.601</td><td> 0.237</td><td>-0.769</td></tr>\n",
       "\t<tr><th scope=row>6</th><td> 0.586</td><td>-0.854</td><td>-0.601</td><td> 0.237</td><td>-0.769</td></tr>\n",
       "\t<tr><th scope=row>7</th><td>-0.901</td><td> 0.445</td><td> 1.393</td><td> 1.617</td><td>-0.769</td></tr>\n",
       "\t<tr><th scope=row>8</th><td>-0.901</td><td>-0.854</td><td>-0.601</td><td>-1.199</td><td>-0.769</td></tr>\n",
       "\t<tr><th scope=row>9</th><td> 0.586</td><td>-0.854</td><td>-0.601</td><td>-1.199</td><td>-0.769</td></tr>\n",
       "\t<tr><th scope=row>10</th><td>-0.901</td><td>-0.854</td><td>-0.601</td><td>-1.199</td><td> 1.009</td></tr>\n",
       "\t<tr><th scope=row>11</th><td>-0.901</td><td>-0.854</td><td>-0.601</td><td>-1.199</td><td>-0.769</td></tr>\n",
       "\t<tr><th scope=row>12</th><td> 1.972</td><td> 2.096</td><td> 1.393</td><td> 0.237</td><td> 1.951</td></tr>\n",
       "\t<tr><th scope=row>13</th><td>-0.901</td><td>-0.854</td><td>-0.601</td><td>-1.199</td><td> 1.951</td></tr>\n",
       "\t<tr><th scope=row>14</th><td>-0.901</td><td> 0.445</td><td>-0.601</td><td> 1.617</td><td>-0.769</td></tr>\n",
       "\t<tr><th scope=row>15</th><td> 0.586</td><td> 2.096</td><td> 1.393</td><td> 1.617</td><td> 1.009</td></tr>\n",
       "\t<tr><th scope=row>16</th><td> 1.972</td><td>-0.854</td><td>-0.601</td><td> 0.237</td><td> 1.009</td></tr>\n",
       "\t<tr><th scope=row>17</th><td> 0.586</td><td> 0.445</td><td>-0.601</td><td> 1.617</td><td> 1.009</td></tr>\n",
       "\t<tr><th scope=row>18</th><td> 0.586</td><td> 0.445</td><td>-0.601</td><td>-1.199</td><td>-0.769</td></tr>\n",
       "\t<tr><th scope=row>19</th><td> 0.586</td><td> 2.096</td><td> 2.659</td><td> 1.617</td><td> 1.009</td></tr>\n",
       "\t<tr><th scope=row>20</th><td> 0.586</td><td> 0.445</td><td> 1.393</td><td> 1.617</td><td> 1.009</td></tr>\n",
       "\t<tr><th scope=row>21</th><td> 0.586</td><td>-0.854</td><td>-0.601</td><td>-1.199</td><td>-0.769</td></tr>\n",
       "\t<tr><th scope=row>22</th><td> 1.972</td><td> 0.445</td><td>-0.601</td><td>-1.199</td><td> 1.009</td></tr>\n",
       "\t<tr><th scope=row>23</th><td> 1.972</td><td> 2.096</td><td> 2.659</td><td> 0.237</td><td> 1.951</td></tr>\n",
       "\t<tr><th scope=row>24</th><td>-0.901</td><td> 0.445</td><td> 1.393</td><td> 0.237</td><td> 1.009</td></tr>\n",
       "\t<tr><th scope=row>25</th><td> 0.586</td><td> 2.096</td><td>-0.601</td><td>-1.199</td><td> 1.951</td></tr>\n",
       "\t<tr><th scope=row>26</th><td> 1.972</td><td> 2.096</td><td> 2.659</td><td> 1.617</td><td> 1.009</td></tr>\n",
       "\t<tr><th scope=row>27</th><td>-0.901</td><td>-0.854</td><td>-0.601</td><td>-1.199</td><td>-0.769</td></tr>\n",
       "\t<tr><th scope=row>28</th><td> 0.586</td><td>-0.854</td><td>-0.601</td><td> 1.617</td><td>-0.769</td></tr>\n",
       "\t<tr><th scope=row>29</th><td> 0.586</td><td>-0.854</td><td> 1.393</td><td> 0.237</td><td>-0.769</td></tr>\n",
       "\t<tr><th scope=row>30</th><td>-0.901</td><td>-0.854</td><td>-0.601</td><td> 0.237</td><td>-0.769</td></tr>\n",
       "\t<tr><th scope=row>...</th><td>...</td><td>...</td><td>...</td><td>...</td><td>...</td></tr>\n",
       "\t<tr><th scope=row>199</th><td> 0.586</td><td>-0.854</td><td>-0.601</td><td> 0.237</td><td>-0.769</td></tr>\n",
       "\t<tr><th scope=row>200</th><td> 0.586</td><td>-0.854</td><td>-0.601</td><td> 0.237</td><td> 1.009</td></tr>\n",
       "\t<tr><th scope=row>201</th><td> 0.586</td><td> 0.445</td><td>-0.601</td><td> 0.237</td><td> 1.009</td></tr>\n",
       "\t<tr><th scope=row>202</th><td>-0.901</td><td>-0.854</td><td>-0.601</td><td>-1.199</td><td>-0.769</td></tr>\n",
       "\t<tr><th scope=row>203</th><td>-0.901</td><td> 2.096</td><td>-0.601</td><td>-1.199</td><td>-0.769</td></tr>\n",
       "\t<tr><th scope=row>204</th><td> 0.586</td><td> 0.445</td><td> 1.393</td><td>-1.199</td><td> 1.009</td></tr>\n",
       "\t<tr><th scope=row>205</th><td> 0.586</td><td>-0.854</td><td>-0.601</td><td> 0.237</td><td>-0.769</td></tr>\n",
       "\t<tr><th scope=row>206</th><td> 0.586</td><td>-0.854</td><td>-0.601</td><td> 0.237</td><td>-0.769</td></tr>\n",
       "\t<tr><th scope=row>207</th><td>-0.901</td><td>-0.854</td><td>-0.601</td><td> 0.237</td><td>-0.769</td></tr>\n",
       "\t<tr><th scope=row>208</th><td> 0.586</td><td>-0.854</td><td>-0.601</td><td> 1.617</td><td>-0.769</td></tr>\n",
       "\t<tr><th scope=row>209</th><td>-0.901</td><td> 0.445</td><td>-0.601</td><td> 0.237</td><td>-0.769</td></tr>\n",
       "\t<tr><th scope=row>210</th><td>-0.901</td><td>-0.854</td><td>-0.601</td><td>-1.199</td><td>-0.769</td></tr>\n",
       "\t<tr><th scope=row>211</th><td>-0.901</td><td> 0.445</td><td>-0.601</td><td>-1.199</td><td>-0.769</td></tr>\n",
       "\t<tr><th scope=row>212</th><td>-0.901</td><td>-0.854</td><td>-0.601</td><td>-1.199</td><td>-0.769</td></tr>\n",
       "\t<tr><th scope=row>213</th><td>-0.901</td><td>-0.854</td><td>-0.601</td><td>-1.199</td><td>-0.769</td></tr>\n",
       "\t<tr><th scope=row>214</th><td> 0.586</td><td> 2.096</td><td> 1.393</td><td> 1.617</td><td> 1.951</td></tr>\n",
       "\t<tr><th scope=row>215</th><td>-0.901</td><td> 0.445</td><td>-0.601</td><td>-1.199</td><td>-0.769</td></tr>\n",
       "\t<tr><th scope=row>216</th><td>-0.901</td><td>-0.854</td><td>-0.601</td><td> 0.237</td><td>-0.769</td></tr>\n",
       "\t<tr><th scope=row>217</th><td>-0.901</td><td>-0.854</td><td>-0.601</td><td> 0.237</td><td> 1.009</td></tr>\n",
       "\t<tr><th scope=row>218</th><td> 0.586</td><td>-0.854</td><td>-0.601</td><td>-1.199</td><td>-0.769</td></tr>\n",
       "\t<tr><th scope=row>219</th><td>-0.901</td><td>-0.854</td><td>-0.601</td><td> 1.617</td><td>-0.769</td></tr>\n",
       "\t<tr><th scope=row>220</th><td> 0.586</td><td>-0.854</td><td>-0.601</td><td>-1.199</td><td> 1.009</td></tr>\n",
       "\t<tr><th scope=row>221</th><td> 0.586</td><td>-0.854</td><td> 1.393</td><td> 0.237</td><td> 1.009</td></tr>\n",
       "\t<tr><th scope=row>222</th><td>-0.901</td><td>-0.854</td><td>-0.601</td><td>-1.199</td><td>-0.769</td></tr>\n",
       "\t<tr><th scope=row>223</th><td>-0.901</td><td>-0.854</td><td>-0.601</td><td>-1.199</td><td>-0.769</td></tr>\n",
       "\t<tr><th scope=row>224</th><td>-0.901</td><td> 0.445</td><td>-0.601</td><td>-1.199</td><td>-0.769</td></tr>\n",
       "\t<tr><th scope=row>225</th><td> 0.586</td><td>-0.854</td><td>-0.601</td><td>-1.199</td><td> 1.009</td></tr>\n",
       "\t<tr><th scope=row>226</th><td>-0.901</td><td> 0.445</td><td>-0.601</td><td> 0.237</td><td>-0.769</td></tr>\n",
       "\t<tr><th scope=row>227</th><td>-0.901</td><td> 0.445</td><td>-0.601</td><td>-1.199</td><td>-0.769</td></tr>\n",
       "\t<tr><th scope=row>228</th><td> 1.972</td><td> 0.445</td><td> 1.393</td><td> 0.237</td><td> 1.009</td></tr>\n",
       "</tbody>\n",
       "</table>\n"
      ],
      "text/latex": [
       "A matrix: 228 x 5 of type dbl\n",
       "\\begin{tabular}{r|lllll}\n",
       "  & somatic & worries & unhappy & clingy & afraid\\\\\n",
       "\\hline\n",
       "\t1 &  1.972 &  0.445 & -0.601 &  0.237 & -0.769\\\\\n",
       "\t2 &  1.972 & -0.854 & -0.601 &  0.237 & -0.769\\\\\n",
       "\t3 & -0.901 & -0.854 & -0.601 & -1.199 &  1.009\\\\\n",
       "\t4 & -0.901 & -0.854 & -0.601 &  0.237 &  1.009\\\\\n",
       "\t5 &  1.972 &  0.445 & -0.601 &  0.237 & -0.769\\\\\n",
       "\t6 &  0.586 & -0.854 & -0.601 &  0.237 & -0.769\\\\\n",
       "\t7 & -0.901 &  0.445 &  1.393 &  1.617 & -0.769\\\\\n",
       "\t8 & -0.901 & -0.854 & -0.601 & -1.199 & -0.769\\\\\n",
       "\t9 &  0.586 & -0.854 & -0.601 & -1.199 & -0.769\\\\\n",
       "\t10 & -0.901 & -0.854 & -0.601 & -1.199 &  1.009\\\\\n",
       "\t11 & -0.901 & -0.854 & -0.601 & -1.199 & -0.769\\\\\n",
       "\t12 &  1.972 &  2.096 &  1.393 &  0.237 &  1.951\\\\\n",
       "\t13 & -0.901 & -0.854 & -0.601 & -1.199 &  1.951\\\\\n",
       "\t14 & -0.901 &  0.445 & -0.601 &  1.617 & -0.769\\\\\n",
       "\t15 &  0.586 &  2.096 &  1.393 &  1.617 &  1.009\\\\\n",
       "\t16 &  1.972 & -0.854 & -0.601 &  0.237 &  1.009\\\\\n",
       "\t17 &  0.586 &  0.445 & -0.601 &  1.617 &  1.009\\\\\n",
       "\t18 &  0.586 &  0.445 & -0.601 & -1.199 & -0.769\\\\\n",
       "\t19 &  0.586 &  2.096 &  2.659 &  1.617 &  1.009\\\\\n",
       "\t20 &  0.586 &  0.445 &  1.393 &  1.617 &  1.009\\\\\n",
       "\t21 &  0.586 & -0.854 & -0.601 & -1.199 & -0.769\\\\\n",
       "\t22 &  1.972 &  0.445 & -0.601 & -1.199 &  1.009\\\\\n",
       "\t23 &  1.972 &  2.096 &  2.659 &  0.237 &  1.951\\\\\n",
       "\t24 & -0.901 &  0.445 &  1.393 &  0.237 &  1.009\\\\\n",
       "\t25 &  0.586 &  2.096 & -0.601 & -1.199 &  1.951\\\\\n",
       "\t26 &  1.972 &  2.096 &  2.659 &  1.617 &  1.009\\\\\n",
       "\t27 & -0.901 & -0.854 & -0.601 & -1.199 & -0.769\\\\\n",
       "\t28 &  0.586 & -0.854 & -0.601 &  1.617 & -0.769\\\\\n",
       "\t29 &  0.586 & -0.854 &  1.393 &  0.237 & -0.769\\\\\n",
       "\t30 & -0.901 & -0.854 & -0.601 &  0.237 & -0.769\\\\\n",
       "\t... & ... & ... & ... & ... & ...\\\\\n",
       "\t199 &  0.586 & -0.854 & -0.601 &  0.237 & -0.769\\\\\n",
       "\t200 &  0.586 & -0.854 & -0.601 &  0.237 &  1.009\\\\\n",
       "\t201 &  0.586 &  0.445 & -0.601 &  0.237 &  1.009\\\\\n",
       "\t202 & -0.901 & -0.854 & -0.601 & -1.199 & -0.769\\\\\n",
       "\t203 & -0.901 &  2.096 & -0.601 & -1.199 & -0.769\\\\\n",
       "\t204 &  0.586 &  0.445 &  1.393 & -1.199 &  1.009\\\\\n",
       "\t205 &  0.586 & -0.854 & -0.601 &  0.237 & -0.769\\\\\n",
       "\t206 &  0.586 & -0.854 & -0.601 &  0.237 & -0.769\\\\\n",
       "\t207 & -0.901 & -0.854 & -0.601 &  0.237 & -0.769\\\\\n",
       "\t208 &  0.586 & -0.854 & -0.601 &  1.617 & -0.769\\\\\n",
       "\t209 & -0.901 &  0.445 & -0.601 &  0.237 & -0.769\\\\\n",
       "\t210 & -0.901 & -0.854 & -0.601 & -1.199 & -0.769\\\\\n",
       "\t211 & -0.901 &  0.445 & -0.601 & -1.199 & -0.769\\\\\n",
       "\t212 & -0.901 & -0.854 & -0.601 & -1.199 & -0.769\\\\\n",
       "\t213 & -0.901 & -0.854 & -0.601 & -1.199 & -0.769\\\\\n",
       "\t214 &  0.586 &  2.096 &  1.393 &  1.617 &  1.951\\\\\n",
       "\t215 & -0.901 &  0.445 & -0.601 & -1.199 & -0.769\\\\\n",
       "\t216 & -0.901 & -0.854 & -0.601 &  0.237 & -0.769\\\\\n",
       "\t217 & -0.901 & -0.854 & -0.601 &  0.237 &  1.009\\\\\n",
       "\t218 &  0.586 & -0.854 & -0.601 & -1.199 & -0.769\\\\\n",
       "\t219 & -0.901 & -0.854 & -0.601 &  1.617 & -0.769\\\\\n",
       "\t220 &  0.586 & -0.854 & -0.601 & -1.199 &  1.009\\\\\n",
       "\t221 &  0.586 & -0.854 &  1.393 &  0.237 &  1.009\\\\\n",
       "\t222 & -0.901 & -0.854 & -0.601 & -1.199 & -0.769\\\\\n",
       "\t223 & -0.901 & -0.854 & -0.601 & -1.199 & -0.769\\\\\n",
       "\t224 & -0.901 &  0.445 & -0.601 & -1.199 & -0.769\\\\\n",
       "\t225 &  0.586 & -0.854 & -0.601 & -1.199 &  1.009\\\\\n",
       "\t226 & -0.901 &  0.445 & -0.601 &  0.237 & -0.769\\\\\n",
       "\t227 & -0.901 &  0.445 & -0.601 & -1.199 & -0.769\\\\\n",
       "\t228 &  1.972 &  0.445 &  1.393 &  0.237 &  1.009\\\\\n",
       "\\end{tabular}\n"
      ],
      "text/markdown": [
       "\n",
       "A matrix: 228 x 5 of type dbl\n",
       "\n",
       "| <!--/--> | somatic | worries | unhappy | clingy | afraid |\n",
       "|---|---|---|---|---|---|\n",
       "| 1 |  1.972 |  0.445 | -0.601 |  0.237 | -0.769 |\n",
       "| 2 |  1.972 | -0.854 | -0.601 |  0.237 | -0.769 |\n",
       "| 3 | -0.901 | -0.854 | -0.601 | -1.199 |  1.009 |\n",
       "| 4 | -0.901 | -0.854 | -0.601 |  0.237 |  1.009 |\n",
       "| 5 |  1.972 |  0.445 | -0.601 |  0.237 | -0.769 |\n",
       "| 6 |  0.586 | -0.854 | -0.601 |  0.237 | -0.769 |\n",
       "| 7 | -0.901 |  0.445 |  1.393 |  1.617 | -0.769 |\n",
       "| 8 | -0.901 | -0.854 | -0.601 | -1.199 | -0.769 |\n",
       "| 9 |  0.586 | -0.854 | -0.601 | -1.199 | -0.769 |\n",
       "| 10 | -0.901 | -0.854 | -0.601 | -1.199 |  1.009 |\n",
       "| 11 | -0.901 | -0.854 | -0.601 | -1.199 | -0.769 |\n",
       "| 12 |  1.972 |  2.096 |  1.393 |  0.237 |  1.951 |\n",
       "| 13 | -0.901 | -0.854 | -0.601 | -1.199 |  1.951 |\n",
       "| 14 | -0.901 |  0.445 | -0.601 |  1.617 | -0.769 |\n",
       "| 15 |  0.586 |  2.096 |  1.393 |  1.617 |  1.009 |\n",
       "| 16 |  1.972 | -0.854 | -0.601 |  0.237 |  1.009 |\n",
       "| 17 |  0.586 |  0.445 | -0.601 |  1.617 |  1.009 |\n",
       "| 18 |  0.586 |  0.445 | -0.601 | -1.199 | -0.769 |\n",
       "| 19 |  0.586 |  2.096 |  2.659 |  1.617 |  1.009 |\n",
       "| 20 |  0.586 |  0.445 |  1.393 |  1.617 |  1.009 |\n",
       "| 21 |  0.586 | -0.854 | -0.601 | -1.199 | -0.769 |\n",
       "| 22 |  1.972 |  0.445 | -0.601 | -1.199 |  1.009 |\n",
       "| 23 |  1.972 |  2.096 |  2.659 |  0.237 |  1.951 |\n",
       "| 24 | -0.901 |  0.445 |  1.393 |  0.237 |  1.009 |\n",
       "| 25 |  0.586 |  2.096 | -0.601 | -1.199 |  1.951 |\n",
       "| 26 |  1.972 |  2.096 |  2.659 |  1.617 |  1.009 |\n",
       "| 27 | -0.901 | -0.854 | -0.601 | -1.199 | -0.769 |\n",
       "| 28 |  0.586 | -0.854 | -0.601 |  1.617 | -0.769 |\n",
       "| 29 |  0.586 | -0.854 |  1.393 |  0.237 | -0.769 |\n",
       "| 30 | -0.901 | -0.854 | -0.601 |  0.237 | -0.769 |\n",
       "| ... | ... | ... | ... | ... | ... |\n",
       "| 199 |  0.586 | -0.854 | -0.601 |  0.237 | -0.769 |\n",
       "| 200 |  0.586 | -0.854 | -0.601 |  0.237 |  1.009 |\n",
       "| 201 |  0.586 |  0.445 | -0.601 |  0.237 |  1.009 |\n",
       "| 202 | -0.901 | -0.854 | -0.601 | -1.199 | -0.769 |\n",
       "| 203 | -0.901 |  2.096 | -0.601 | -1.199 | -0.769 |\n",
       "| 204 |  0.586 |  0.445 |  1.393 | -1.199 |  1.009 |\n",
       "| 205 |  0.586 | -0.854 | -0.601 |  0.237 | -0.769 |\n",
       "| 206 |  0.586 | -0.854 | -0.601 |  0.237 | -0.769 |\n",
       "| 207 | -0.901 | -0.854 | -0.601 |  0.237 | -0.769 |\n",
       "| 208 |  0.586 | -0.854 | -0.601 |  1.617 | -0.769 |\n",
       "| 209 | -0.901 |  0.445 | -0.601 |  0.237 | -0.769 |\n",
       "| 210 | -0.901 | -0.854 | -0.601 | -1.199 | -0.769 |\n",
       "| 211 | -0.901 |  0.445 | -0.601 | -1.199 | -0.769 |\n",
       "| 212 | -0.901 | -0.854 | -0.601 | -1.199 | -0.769 |\n",
       "| 213 | -0.901 | -0.854 | -0.601 | -1.199 | -0.769 |\n",
       "| 214 |  0.586 |  2.096 |  1.393 |  1.617 |  1.951 |\n",
       "| 215 | -0.901 |  0.445 | -0.601 | -1.199 | -0.769 |\n",
       "| 216 | -0.901 | -0.854 | -0.601 |  0.237 | -0.769 |\n",
       "| 217 | -0.901 | -0.854 | -0.601 |  0.237 |  1.009 |\n",
       "| 218 |  0.586 | -0.854 | -0.601 | -1.199 | -0.769 |\n",
       "| 219 | -0.901 | -0.854 | -0.601 |  1.617 | -0.769 |\n",
       "| 220 |  0.586 | -0.854 | -0.601 | -1.199 |  1.009 |\n",
       "| 221 |  0.586 | -0.854 |  1.393 |  0.237 |  1.009 |\n",
       "| 222 | -0.901 | -0.854 | -0.601 | -1.199 | -0.769 |\n",
       "| 223 | -0.901 | -0.854 | -0.601 | -1.199 | -0.769 |\n",
       "| 224 | -0.901 |  0.445 | -0.601 | -1.199 | -0.769 |\n",
       "| 225 |  0.586 | -0.854 | -0.601 | -1.199 |  1.009 |\n",
       "| 226 | -0.901 |  0.445 | -0.601 |  0.237 | -0.769 |\n",
       "| 227 | -0.901 |  0.445 | -0.601 | -1.199 | -0.769 |\n",
       "| 228 |  1.972 |  0.445 |  1.393 |  0.237 |  1.009 |\n",
       "\n"
      ],
      "text/plain": [
       "    somatic worries unhappy clingy afraid\n",
       "1    1.972   0.445  -0.601   0.237 -0.769\n",
       "2    1.972  -0.854  -0.601   0.237 -0.769\n",
       "3   -0.901  -0.854  -0.601  -1.199  1.009\n",
       "4   -0.901  -0.854  -0.601   0.237  1.009\n",
       "5    1.972   0.445  -0.601   0.237 -0.769\n",
       "6    0.586  -0.854  -0.601   0.237 -0.769\n",
       "7   -0.901   0.445   1.393   1.617 -0.769\n",
       "8   -0.901  -0.854  -0.601  -1.199 -0.769\n",
       "9    0.586  -0.854  -0.601  -1.199 -0.769\n",
       "10  -0.901  -0.854  -0.601  -1.199  1.009\n",
       "11  -0.901  -0.854  -0.601  -1.199 -0.769\n",
       "12   1.972   2.096   1.393   0.237  1.951\n",
       "13  -0.901  -0.854  -0.601  -1.199  1.951\n",
       "14  -0.901   0.445  -0.601   1.617 -0.769\n",
       "15   0.586   2.096   1.393   1.617  1.009\n",
       "16   1.972  -0.854  -0.601   0.237  1.009\n",
       "17   0.586   0.445  -0.601   1.617  1.009\n",
       "18   0.586   0.445  -0.601  -1.199 -0.769\n",
       "19   0.586   2.096   2.659   1.617  1.009\n",
       "20   0.586   0.445   1.393   1.617  1.009\n",
       "21   0.586  -0.854  -0.601  -1.199 -0.769\n",
       "22   1.972   0.445  -0.601  -1.199  1.009\n",
       "23   1.972   2.096   2.659   0.237  1.951\n",
       "24  -0.901   0.445   1.393   0.237  1.009\n",
       "25   0.586   2.096  -0.601  -1.199  1.951\n",
       "26   1.972   2.096   2.659   1.617  1.009\n",
       "27  -0.901  -0.854  -0.601  -1.199 -0.769\n",
       "28   0.586  -0.854  -0.601   1.617 -0.769\n",
       "29   0.586  -0.854   1.393   0.237 -0.769\n",
       "30  -0.901  -0.854  -0.601   0.237 -0.769\n",
       "... ...     ...     ...     ...    ...   \n",
       "199  0.586  -0.854  -0.601   0.237 -0.769\n",
       "200  0.586  -0.854  -0.601   0.237  1.009\n",
       "201  0.586   0.445  -0.601   0.237  1.009\n",
       "202 -0.901  -0.854  -0.601  -1.199 -0.769\n",
       "203 -0.901   2.096  -0.601  -1.199 -0.769\n",
       "204  0.586   0.445   1.393  -1.199  1.009\n",
       "205  0.586  -0.854  -0.601   0.237 -0.769\n",
       "206  0.586  -0.854  -0.601   0.237 -0.769\n",
       "207 -0.901  -0.854  -0.601   0.237 -0.769\n",
       "208  0.586  -0.854  -0.601   1.617 -0.769\n",
       "209 -0.901   0.445  -0.601   0.237 -0.769\n",
       "210 -0.901  -0.854  -0.601  -1.199 -0.769\n",
       "211 -0.901   0.445  -0.601  -1.199 -0.769\n",
       "212 -0.901  -0.854  -0.601  -1.199 -0.769\n",
       "213 -0.901  -0.854  -0.601  -1.199 -0.769\n",
       "214  0.586   2.096   1.393   1.617  1.951\n",
       "215 -0.901   0.445  -0.601  -1.199 -0.769\n",
       "216 -0.901  -0.854  -0.601   0.237 -0.769\n",
       "217 -0.901  -0.854  -0.601   0.237  1.009\n",
       "218  0.586  -0.854  -0.601  -1.199 -0.769\n",
       "219 -0.901  -0.854  -0.601   1.617 -0.769\n",
       "220  0.586  -0.854  -0.601  -1.199  1.009\n",
       "221  0.586  -0.854   1.393   0.237  1.009\n",
       "222 -0.901  -0.854  -0.601  -1.199 -0.769\n",
       "223 -0.901  -0.854  -0.601  -1.199 -0.769\n",
       "224 -0.901   0.445  -0.601  -1.199 -0.769\n",
       "225  0.586  -0.854  -0.601  -1.199  1.009\n",
       "226 -0.901   0.445  -0.601   0.237 -0.769\n",
       "227 -0.901   0.445  -0.601  -1.199 -0.769\n",
       "228  1.972   0.445   1.393   0.237  1.009"
      ]
     },
     "metadata": {},
     "output_type": "display_data"
    }
   ],
   "source": [
    "opt$scoremat"
   ]
  },
  {
   "cell_type": "markdown",
   "metadata": {},
   "source": [
    "Esaminiamo la relazione tra lo scoring basato sul metodo Likert con lo scoring ottimale."
   ]
  },
  {
   "cell_type": "code",
   "execution_count": 16,
   "metadata": {
    "vscode": {
     "languageId": "r"
    }
   },
   "outputs": [
    {
     "data": {
      "image/png": "[encoded data removed]",
      "text/plain": [
       "plot without title"
      ]
     },
     "metadata": {
      "image/png": {
       "height": 370.8204,
       "width": 600
      }
     },
     "output_type": "display_data"
    }
   ],
   "source": [
    "plot(opt$scoremat[, 1], sdq_emo$somatic)"
   ]
  },
  {
   "cell_type": "code",
   "execution_count": 17,
   "metadata": {
    "vscode": {
     "languageId": "r"
    }
   },
   "outputs": [
    {
     "data": {
      "image/png": "[encoded data removed]",
      "text/plain": [
       "plot without title"
      ]
     },
     "metadata": {
      "image/png": {
       "height": 370.8204,
       "width": 600
      }
     },
     "output_type": "display_data"
    }
   ],
   "source": [
    "plot(opt$scoremat[, 4], sdq_emo$clingy)"
   ]
  },
  {
   "cell_type": "code",
   "execution_count": 18,
   "metadata": {
    "vscode": {
     "languageId": "r"
    }
   },
   "outputs": [
    {
     "data": {
      "image/png": "[encoded data removed]",
      "text/plain": [
       "plot without title"
      ]
     },
     "metadata": {
      "image/png": {
       "height": 370.8204,
       "width": 600
      }
     },
     "output_type": "display_data"
    }
   ],
   "source": [
    "plot(opt$scoremat[, 3], sdq_emo$unhappy)"
   ]
  },
  {
   "cell_type": "code",
   "execution_count": 19,
   "metadata": {
    "vscode": {
     "languageId": "r"
    }
   },
   "outputs": [
    {
     "data": {
      "image/png": "[encoded data removed]",
      "text/plain": [
       "plot without title"
      ]
     },
     "metadata": {
      "image/png": {
       "height": 370.8204,
       "width": 600
      }
     },
     "output_type": "display_data"
    }
   ],
   "source": [
    "plot(opt$scoremat[, 2], sdq_emo$worries)"
   ]
  },
  {
   "cell_type": "code",
   "execution_count": 20,
   "metadata": {
    "vscode": {
     "languageId": "r"
    }
   },
   "outputs": [
    {
     "data": {
      "image/png": "[encoded data removed]",
      "text/plain": [
       "plot without title"
      ]
     },
     "metadata": {
      "image/png": {
       "height": 370.8204,
       "width": 600
      }
     },
     "output_type": "display_data"
    }
   ],
   "source": [
    "plot(opt$scoremat[, 5], sdq_emo$afraid)"
   ]
  },
  {
   "cell_type": "markdown",
   "metadata": {},
   "source": [
    "Guardando ai grafici ottenuti, si può notare che 1) i punteggi per le categorie successive aumentano quasi linearmente; 2) le categorie sono approssimativamente equidistanti. Concludiamo che per la valutazione degli item ordinali nella scala dei Sintomi Emotivi del SDQ, la scala Likert è appropriata, e l'ottimizzazione della scala rispetto alla semplice scala Likert di base produce cambiamenti minimi. Per altri dati, comunque, la situazione potrebbe essere molto diversa.\n",
    "\n",
    "In conclusione, l'ottimizzazione dello scoring dei dati di questionari ordinali offre un metodo rigoroso per ottimizzare la misurazione degli item, migliorando la qualità psicometrica della scala e assicurando che l'interpretazione delle risposte rifletta al meglio la coerenza interna del test."
   ]
  },
  {
   "cell_type": "markdown",
   "metadata": {},
   "source": [
    "## Session Info"
   ]
  },
  {
   "cell_type": "code",
   "execution_count": 21,
   "metadata": {
    "vscode": {
     "languageId": "r"
    }
   },
   "outputs": [
    {
     "data": {
      "text/plain": [
       "R version 4.4.2 (2024-10-31)\n",
       "Platform: aarch64-apple-darwin20\n",
       "Running under: macOS Sequoia 15.1.1\n",
       "\n",
       "Matrix products: default\n",
       "BLAS:   /Library/Frameworks/R.framework/Versions/4.4-arm64/Resources/lib/libRblas.0.dylib \n",
       "LAPACK: /Library/Frameworks/R.framework/Versions/4.4-arm64/Resources/lib/libRlapack.dylib;  LAPACK version 3.12.0\n",
       "\n",
       "locale:\n",
       "[1] C\n",
       "\n",
       "time zone: Europe/Rome\n",
       "tzcode source: internal\n",
       "\n",
       "attached base packages:\n",
       "[1] stats     graphics  grDevices utils     datasets  methods   base     \n",
       "\n",
       "other attached packages:\n",
       " [1] aspect_1.0-6      MASS_7.3-61       viridis_0.6.5     viridisLite_0.4.2\n",
       " [5] ggpubr_0.6.0      ggExtra_0.10.1    gridExtra_2.3     patchwork_1.3.0  \n",
       " [9] bayesplot_1.11.1  semTools_0.5-6    semPlot_1.1.6     lavaan_0.6-19    \n",
       "[13] psych_2.4.6.26    scales_1.3.0      markdown_1.13     knitr_1.49       \n",
       "[17] lubridate_1.9.3   forcats_1.0.0     stringr_1.5.1     dplyr_1.1.4      \n",
       "[21] purrr_1.0.2       readr_2.1.5       tidyr_1.3.1       tibble_3.2.1     \n",
       "[25] ggplot2_3.5.1     tidyverse_2.0.0   here_1.0.1       \n",
       "\n",
       "loaded via a namespace (and not attached):\n",
       "  [1] rstudioapi_0.17.1   jsonlite_1.8.9      magrittr_2.0.3     \n",
       "  [4] TH.data_1.1-2       estimability_1.5.1  farver_2.1.2       \n",
       "  [7] nloptr_2.1.1        rmarkdown_2.29      vctrs_0.6.5        \n",
       " [10] Cairo_1.6-2         minqa_1.2.8         base64enc_0.1-3    \n",
       " [13] rstatix_0.7.2       htmltools_0.5.8.1   broom_1.0.7        \n",
       " [16] Formula_1.2-5       htmlwidgets_1.6.4   plyr_1.8.9         \n",
       " [19] sandwich_3.1-1      emmeans_1.10.5      zoo_1.8-12         \n",
       " [22] uuid_1.2-1          igraph_2.1.1        mime_0.12          \n",
       " [25] lifecycle_1.0.4     pkgconfig_2.0.3     Matrix_1.7-1       \n",
       " [28] R6_2.5.1            fastmap_1.2.0       shiny_1.9.1        \n",
       " [31] digest_0.6.37       OpenMx_2.21.13      fdrtool_1.2.18     \n",
       " [34] colorspace_2.1-1    rprojroot_2.0.4     Hmisc_5.2-0        \n",
       " [37] fansi_1.0.6         timechange_0.3.0    abind_1.4-8        \n",
       " [40] compiler_4.4.2      withr_3.0.2         glasso_1.11        \n",
       " [43] htmlTable_2.4.3     backports_1.5.0     carData_3.0-5      \n",
       " [46] ggsignif_0.6.4      corpcor_1.6.10      gtools_3.9.5       \n",
       " [49] tools_4.4.2         pbivnorm_0.6.0      foreign_0.8-87     \n",
       " [52] zip_2.3.1           httpuv_1.6.15       nnet_7.3-19        \n",
       " [55] glue_1.8.0          quadprog_1.5-8      promises_1.3.0     \n",
       " [58] nlme_3.1-166        lisrelToR_0.3       grid_4.4.2         \n",
       " [61] pbdZMQ_0.3-13       checkmate_2.3.2     cluster_2.1.6      \n",
       " [64] reshape2_1.4.4      generics_0.1.3      gtable_0.3.6       \n",
       " [67] tzdb_0.4.0          data.table_1.16.2   hms_1.1.3          \n",
       " [70] car_3.1-3           utf8_1.2.4          sem_3.1-16         \n",
       " [73] pillar_1.9.0        IRdisplay_1.1       rockchalk_1.8.157  \n",
       " [76] later_1.3.2         splines_4.4.2       cherryblossom_0.1.0\n",
       " [79] lattice_0.22-6      survival_3.7-0      kutils_1.73        \n",
       " [82] tidyselect_1.2.1    miniUI_0.1.1.1      pbapply_1.7-2      \n",
       " [85] airports_0.1.0      stats4_4.4.2        xfun_0.49          \n",
       " [88] qgraph_1.9.8        arm_1.14-4          stringi_1.8.4      \n",
       " [91] pacman_0.5.1        boot_1.3-31         evaluate_1.0.1     \n",
       " [94] codetools_0.2-20    mi_1.1              cli_3.6.3          \n",
       " [97] RcppParallel_5.1.9  IRkernel_1.3.2      rpart_4.1.23       \n",
       "[100] xtable_1.8-4        repr_1.1.7          munsell_0.5.1      \n",
       "[103] Rcpp_1.0.13-1       coda_0.19-4.1       png_0.1-8          \n",
       "[106] XML_3.99-0.17       parallel_4.4.2      usdata_0.3.1       \n",
       "[109] jpeg_0.1-10         lme4_1.1-35.5       mvtnorm_1.3-2      \n",
       "[112] openxlsx_4.2.7.1    crayon_1.5.3        openintro_2.5.0    \n",
       "[115] rlang_1.1.4         multcomp_1.4-26     mnormt_2.1.1       "
      ]
     },
     "metadata": {},
     "output_type": "display_data"
    }
   ],
   "source": [
    "sessionInfo()"
   ]
  }
 ],
 "metadata": {
  "kernelspec": {
   "display_name": "R",
   "language": "R",
   "name": "ir"
  },
  "language_info": {
   "codemirror_mode": "r",
   "file_extension": ".r",
   "mimetype": "text/x-r-source",
   "name": "R",
   "pygments_lexer": "r",
   "version": "4.4.2"
  }
 },
 "nbformat": 4,
 "nbformat_minor": 2
}
