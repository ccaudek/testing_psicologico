{
 "cells": [
  {
   "cell_type": "markdown",
   "metadata": {},
   "source": [
    "# Modellizzazione SEM in Piccoli Campioni {#sec-sem-small-samples}"
   ]
  },
  {
   "cell_type": "markdown",
   "metadata": {},
   "source": [
    "**Prerequisiti**\n",
    "\n",
    "**Concetti e Competenze Chiave**\n",
    "\n",
    "**Preparazione del Notebook**"
   ]
  },
  {
   "cell_type": "code",
   "execution_count": 2,
   "metadata": {
    "vscode": {
     "languageId": "r"
    }
   },
   "outputs": [],
   "source": [
    "here::here(\"code\", \"_common.R\") |>\n",
    "    source()\n",
    "\n",
    "# Load packages\n",
    "if (!requireNamespace(\"pacman\")) install.packages(\"pacman\")\n",
    "pacman::p_load(semTools, lme4, MIIVsem)"
   ]
  },
  {
   "cell_type": "markdown",
   "metadata": {},
   "source": [
    "## Introduzione\n",
    "\n",
    "Questo capitolo si concentra sull'applicazione dei modelli SEM in contesti caratterizzati da campioni di piccole dimensioni e sintetizza l'esposizione di @rosseel2020small su questo argomento, mentre si avvale di esempi numerici tratti dai principi di @kline2023principles.\n",
    "\n",
    "È risaputo che la maggior parte dei metodi di stima e inferenza in SEM si basa su presupposti asintotici, presupponendo la presenza di campioni casuali di grandi dimensioni. Tuttavia, nei casi di campioni più limitati, come quelli con N < 200, emergono specifiche problematiche: i metodi iterativi possono non convergere, si possono verificare soluzioni non valide a causa dei casi di Heywood o di altri risultati anomali difficili da interpretare, e le stime dei parametri possono risultare fortemente distorte.\n",
    "\n",
    "Innanzitutto, i modelli strutturali possono diventare molto complessi, coinvolgendo numerose variabili (sia osservate che latenti), rendendo necessaria l'analisi di numerosi parametri e richiedendo un adeguato volume di dati per ottenere stime accurate. Inoltre, il framework statistico alla base della SEM tradizionale si fonda sulla teoria dei grandi campioni, suggerendo che una buona precisione nelle stime dei parametri e nell'inferenza sia garantita solo con campioni di dimensioni considerevoli. Alcuni studi di simulazione hanno addirittura suggerito che dimensioni del campione enormi siano necessarie per risultati affidabili, sebbene tali conclusioni siano rilevanti solo in specifici contesti e abbiano contribuito alla convinzione generalizzata che la SEM sia applicabile solo con campioni di dimensioni considerevoli (ad es. n > 500) o addirittura molto grandi (n > 2000).\n",
    "\n",
    "Tuttavia, la realtà delle dimensioni ridotte dei campioni è una situazione comune per molte ragioni. In tali casi, molti ricercatori esitano ad utilizzare la SEM e si affidano a metodologie subottimali, come l'analisi di regressione o l'analisi di percorso basate su punteggi sommati. Tuttavia, è importante notare che il bias associato alle dimensioni ridotte del campione può essere ancora più accentuato in tecniche come la regressione multipla o l'analisi di percorso con variabili manifeste, soprattutto in assenza di considerazioni sull'errore di misurazione. Una strategia più efficace potrebbe essere quella di adottare l'approccio della SEM, pur cercando soluzioni per affrontare le sfide poste dalle dimensioni ridotte del campione.\n",
    "\n",
    "Questo capitolo si propone di esplorare diverse strategie per superare tali sfide nell'utilizzo della SEM con campioni di piccole dimensioni. Sarà organizzato in tre sezioni: innanzitutto, verranno esaminate le problematiche comuni associate alle dimensioni ridotte del campione nella SEM. Successivamente, saranno presentati quattro approcci alternativi di stima che possono essere impiegati quando le dimensioni del campione sono limitate, anziché ricorrere alla SEM tradizionale. Infine, saranno discussi alcuni possibili correttivi per le statistiche di test e gli errori standard nelle situazioni di piccoli campioni. L'efficacia di alcune di queste tecniche sarà illustrata tramite l'analisi di un modello di fattore comune applicato a un campione di dimensioni ridotte."
   ]
  },
  {
   "cell_type": "markdown",
   "metadata": {},
   "source": [
    "## Problemi con le Piccole Dimensioni del Campione nella SEM\n",
    "\n",
    "Consideriamo un modello SEM con almeno 4 indicatori continui per ciascuna variabile latente. Se tutte le variabili osservate sono continue, lo stimatore di default nella maggior parte (se non in tutti) dei pacchetti software SEM è il metodo della massima verosimiglianza. Generalmente, lo stimatore della massima verosimiglianza è una buona scelta perché presenta molte proprietà statistiche desiderabili. Inoltre, l'approccio della massima verosimiglianza può essere adattato per gestire dati mancanti (sotto l'assunzione che i dati siano mancanti casualmente) e sono stati sviluppati errori standard e statistiche di test \"robusti\" per trattare dati non normali e modelli mal specificati.\n",
    "\n",
    "Tuttavia, se la dimensione del campione è relativamente piccola (ad esempio, n < 200), possono sorgere diversi problemi. Innanzitutto, il modello potrebbe non convergere, il che significa che l'ottimizzatore (l'algoritmo che cerca di trovare i valori dei parametri del modello che massimizzano la verosimiglianza dei dati) non è riuscito a trovare una soluzione che soddisfi uno o più criteri di convergenza. In rare occasioni, l'ottimizzatore potrebbe semplicemente sbagliare. In questo caso, modificare i criteri di convergenza, passare a un altro algoritmo di ottimizzazione o fornire valori iniziali migliori potrebbe risolvere il problema. Ma se la dimensione del campione è piccola, potrebbe benissimo essere che il set di dati non contenga informazioni sufficienti per trovare una soluzione unica per il modello.\n",
    "\n",
    "Un secondo problema potrebbe essere che il modello ottenga la convergenza ma produca una soluzione non ammissibile. Ciò significa che alcuni parametri assumono valori inamissibili. L'esempio più comune è una varianza negativa. Un altro esempio è un valore di correlazione che supera 1 (in valore assoluto). È importante rendersi conto che alcuni approcci di stima (sia frequentisti che bayesiani) potrebbero, per progettazione, non produrre mai soluzioni fuori gamma. Sebbene ciò possa sembrare una caratteristica desiderabile, maschera potenziali problemi con il modello o i dati. È importante che gli utenti notino varianze negative (o altri parametri fuori gamma). Le varianze negative sono spesso innocue, ma possono essere un sintomo di una cattiva specificazione strutturale. \n",
    "\n",
    "Un terzo problema riguarda il fatto che la massima verosimiglianza è una tecnica per grandi campioni. Questo implica che lavorare con piccole dimensioni del campione può portare a stime puntuali distorte, errori standard troppo piccoli, intervalli di confidenza non sufficientemente ampi e p-valori per test di ipotesi non affidabili."
   ]
  },
  {
   "cell_type": "markdown",
   "metadata": {},
   "source": [
    "## Soluzioni Possibili per la Stima dei Parametri\n",
    "\n",
    "In questa sezione, consideriamo brevemente quattro approcci alternativi per stimare i parametri in un contesto SEM con dimensioni di campione piccole. Ci limitiamo ai metodi frequentisti e alle soluzioni disponibili in software gratuiti e open-source.\n",
    "\n",
    "### Stima di Verosimiglianza Penalizzata\n",
    "\n",
    "I metodi di stima di verosimiglianza penalizzata (o metodi di regolarizzazione) sono stati sviluppati nella letteratura del machine learning statistico e sono particolarmente utili quando la dimensione del campione è piccola rispetto al numero di variabili nel modello. Questi metodi sono simili ai metodi di verosimiglianza ordinari (come la massima verosimiglianza) ma includono un termine di penalità aggiuntivo per controllare la complessità del modello. Il termine di penalità può essere formulato per incorporare conoscenze pregresse sui parametri o per scoraggiare valori dei parametri meno realistici (ad esempio, lontani da zero). Due termini di penalità popolari sono la penalità *ridge* e la penalità *lasso* (least absolute shrinkage and selection operator).\n",
    "\n",
    "Per illustrare come funziona questa penalizzazione, immaginate un modello di regressione univariata con un gran numero di predittori. Senza penalizzazione, tutti i coefficienti di regressione sono calcolati nel modo usuale. Tuttavia, il termine di penalità *ridge* ridurrà tutti i coefficienti verso zero, mentre la penalità *lasso* ridurrà ulteriormente i piccoli coefficienti fino a zero. In quest'ultimo approccio, sopravvivono solo i predittori \"forti\" (per i quali c'è un forte supporto nei dati), mentre i predittori \"deboli\" che possono essere difficilmente distinti dal rumore vengono eliminati. In generale, l'aggiunta di termini di penalità porta a modelli meno complessi, il che è particolarmente vantaggioso se la dimensione del campione è piccola. \n",
    "\n",
    "Sebbene queste approcci di penalizzazione siano esistiti da alcuni decenni, sono stati applicati solo di recente alla SEM. Due esempi nel software `R` sono il pacchetto `regsem` (Jacobucci, Grimm, Brandmaier, Serang e Kievit, 2018) e il pacchetto `lslx` (Huang e Hu, 2018).\n",
    "\n",
    "Uno svantaggio di questi metodi di penalizzazione è che l'utente deve indicare quali parametri richiedono la penalizzazione e in che misura. In un'analisi esplorativa, può essere utile e persino vantaggioso penalizzare i parametri verso zero se nel dati non si trova un forte supporto per essi. Tuttavia, la SEM è di solito un approccio confermativo, e l'utente deve assicurarsi che tutti i parametri inizialmente postulati nel modello non vengano rimossi dalla penalizzazione."
   ]
  },
  {
   "cell_type": "markdown",
   "metadata": {},
   "source": [
    "### Model-implied instrumental variables\n",
    "\n",
    "Bollen (1996) ha proposto un approccio alternativo di stima per i modelli SEM basato sull'utilizzo di variabili strumentali implicite nel modello in combinazione con il metodo dei minimi quadrati a due stadi (MIIV-2SLS). In questo approccio, il modello viene tradotto in un insieme di equazioni (di regressione). Successivamente, ogni variabile latente in queste equazioni viene sostituita con il suo indicatore principale (solitamente il primo indicatore, dove il carico fattoriale è fissato a uno e l'intercetta a zero) meno il suo termine di errore residuo. Le equazioni risultanti non contengono più variabili latenti ma hanno una struttura dell'errore più complessa. È importante notare che la stima dei minimi quadrati ordinari non è più adatta per risolvere queste equazioni poiché alcuni predittori sono ora correlati con il termine di errore nell'equazione. Qui entrano in gioco le variabili strumentali (anche chiamate strumenti). Per ogni equazione, è necessario trovare un insieme di variabili strumentali. Una variabile strumentale deve essere non correlata con il termine di errore dell'equazione ma fortemente correlata con il predittore problematico. Di solito, le variabili strumentali sono ricercate al di fuori del modello, ma nell'approccio di Bollen, le variabili strumentali sono selezionate tra le variabili osservate che fanno parte del modello. Sono stati sviluppati diversi procedimenti automatizzati per trovare queste variabili strumentali all'interno del modello. Una volta selezionati gli strumenti, è necessaria una procedura di stima per stimare tutti i coefficienti delle equazioni, come il metodo dei minimi quadrati a due stadi (2SLS).\n",
    "\n",
    "Una motivazione principale per MIIV-2SLS è che è robusto: non si basa sulla normalità ed è meno probabile che diffonda il bias (che può derivare da errate specificazioni strutturali) in una parte del modello ad altre parti del modello. Un'altra caratteristica attraente di MIIV-2SLS è che non è iterativo. Ciò significa che non possono esserci problemi di convergenza e MIIV-2SLS può fornire una soluzione ragionevole per modelli in cui il massimo verosimigliante fallisce nella convergenza.\n",
    "\n",
    "Sono necessarie ulteriori ricerche per valutare le prestazioni di questo stimatore in contesti in cui la dimensione del campione è (molto) piccola. L'approccio MIIV-2SLS è disponibile nel pacchetto `R` `MIIVsem` (Fisher, Bollen, Gates, & Rönkkö, 2017)."
   ]
  },
  {
   "cell_type": "markdown",
   "metadata": {},
   "source": [
    "### Stima a Due Fasi\n",
    "\n",
    "Nel metodo di stima a due fasi, si effettua una distinzione tra la parte di misurazione e la parte strutturale (di regressione) del modello, e la stima avviene in due passaggi distinti. Nel primo passo, vengono adattati uno per uno tutti i modelli di misurazione. Nel secondo passo, viene adattato il modello completo, inclusa la parte strutturale, ma i parametri dei modelli di misurazione vengono mantenuti fissi ai valori trovati nel primo passo. La principale motivazione per l'approccio a due fasi è quella di separare il modello (o i modelli) di misurazione dalla parte strutturale durante la stima in modo che non possano influenzarsi reciprocamente. Nel tradizionale framework della massima verosimiglianza, invece, tutti i parametri vengono adattati simultaneamente. Di conseguenza, errori nella specificazione del modello strutturale possono influenzare i pesi fattoriali stimati di uno o più modelli di misurazione, e ciò può causare problemi di interpretazione per le variabili latenti.\n",
    "\n",
    "L'approccio a due fasi è stato recentemente implementato nel pacchetto `R` `lavaan` (Rosseel, 2012). "
   ]
  },
  {
   "cell_type": "markdown",
   "metadata": {},
   "source": [
    "### Regressione del Punteggio dei Fattori\n",
    "\n",
    "L'idea fondamentale della regressione del punteggio dei fattori è quella di sostituire tutte le variabili latenti con i loro punteggi. Questo processo è simile al metodo in due fasi, dove ciascun modello di misurazione viene adattato individualmente. Successivamente, si calcolano i punteggi dei fattori per tutte le variabili latenti nel modo consueto. Una volta che le variabili latenti sono sostituite dai loro punteggi, tutte le variabili diventano osservabili. In un passaggio finale, si stima la parte strutturale del modello. Questa stima può consistere in un'analisi di regressione o in un'analisi dei percorsi. Il termine “regressione del punteggio dei fattori” si riferisce a entrambi gli scenari.\n",
    "\n",
    "Se usata in modo ingenuo, questa regressione potrebbe portare a un notevole bias nelle stime dei parametri della parte strutturale, anche con campioni di grandi dimensioni. Questo si verifica perché i punteggi dei fattori vengono trattati come se fossero osservati senza errore di misurazione. Esistono però diversi metodi per correggere questo bias. Ad esempio, il metodo di Croon (2002) procede come segue: prima, si calcola la matrice di varianza-covarianza dei punteggi dei fattori. Poi, sulla base delle informazioni dei modelli di misurazione, gli elementi di questa matrice vengono corretti per approssimare le varianze e covarianze implicite dal modello delle variabili latenti. Questa matrice di varianza-covarianza corretta diventa poi l'input per un'analisi di regressione o dei percorsi regolare.\n",
    "\n",
    "Simile al metodo in due fasi, la regressione del punteggio dei fattori (combinata con la correzione di Croon) può essere un'alternativa utile per modelli piuttosto grandi in combinazione con una dimensione campionaria relativamente piccola. Inoltre, è possibile adattare i modelli di misurazione utilizzando un stimatore non iterativo, evitando problemi di convergenza. Tuttavia, la correzione di Croon può produrre una matrice di varianza-covarianza (per le variabili appartenenti alla parte strutturale) che non è definita positiva, specialmente se l'errore di misurazione è sostanziale. Pertanto, la correzione di Croon non è esente da problemi di stima. In questo caso, l'unica soluzione potrebbe essere quella di creare un punteggio somma per ogni variabile latente e stimare un modello in cui ogni variabile latente ha un unico indicatore (il punteggio somma) con la sua affidabilità fissata a un valore realistico fornito dall'utente.\n",
    "\n",
    "### Discussione\n",
    "\n",
    "Tutti i metodi descritti in questa sezione hanno vantaggi e svantaggi. L'approccio della verosimiglianza penalizzata è forse l'unico metodo specificamente progettato per gestire campioni (molto) piccoli. Gli altri tre metodi utilizzano un approccio di \"divide et impera\"; scompongono il modello completo in parti più piccole e stimano i parametri di ciascuna parte in successione. Oltre a ridurre la complessità e a essere meno vulnerabili a problemi di convergenza, gli ultimi tre metodi hanno il vantaggio di essere efficaci nel localizzare le parti problematiche all'interno di un modello ampio."
   ]
  },
  {
   "cell_type": "markdown",
   "metadata": {},
   "source": [
    "## Inferenze per Modelli SEM in Piccoli Campioni\n",
    "\n",
    "Molti autori hanno documentato che quando la dimensione del campione è piccola, il test del chi-quadrato porta ad un inflezione degli errori di Tipo I anche nelle circostanze ideali (cioè, modello correttamente specificato, dati normali). Allo stesso modo, gli errori standard sono spesso attenuati (troppo piccoli) e gli intervalli di confidenza non sono sufficientemente ampi. \n",
    "\n",
    "Nelle due sottosezioni successive, {cite:t}`rosseel2020small` discute brevemente alcuni tentativi per affrontare questi problemi di inferenza su campioni piccoli nella modellizzazione SEM. \n",
    "\n",
    "### Migliorare la statistica test del chi-quadrato\n",
    "\n",
    "Sono state suggerite diverse correzioni per migliorare le prestazioni della statistica del test del chi-quadrato, come la correzione di Bartlett. I risultati di studi di simulazione su questo tema, però, non sono coerenti e, secondo {cite:t}`rosseel2020small`, per valutare i modelli quando la dimensione del campione è piccola, potrebbe essere opportuno abbandonare del tutto il test del chi-quadrato e esplorare approcci alternativi. \n",
    "\n",
    "Un approccio è quello di considerare gli intervalli di confidenza e i test di aderenza basati sull'indice SRMR (standardized root mean square residuals; Maydeu-Olivares, Shi, & Rosseel, 2018). Questi test sembrano funzionare bene anche quando n = 100 (la dimensione del campione più piccola considerata in Maydeu-Olivares et al., 2018) e il modello non è troppo grande. Questi test sono stati implementati come parte della funzione `lavResiduals()` del pacchetto `lavaan`.\n",
    "\n",
    "### Una migliore stima degli Errori Standard e degli Intervalli di Confidenza\n",
    "\n",
    "In generale, è ben noto che se si utilizza la teoria dei grandi campioni per costruire espressioni analitiche al fine di calcolare gli errori standard, questi possono avere prestazioni scadenti in campioni di piccole dimensioni.\n",
    "\n",
    "Quando le assunzioni alla base degli errori standard analitici non sono soddisfatte, spesso si suggerisce di utilizzare un approccio di resampling. Un metodo popolare è il bootstrap (Efron & Tibshirani, 1993): viene generato un campione bootstrap (o campione di replica) e si stima un nuovo set di parametri per questo campione bootstrap. Questo processo viene ripetuto un gran numero di volte (ad esempio, 1.000), e la deviazione standard di un parametro su tutti i campioni bootstrap replicati viene utilizzata come stima dell'errore standard per quel parametro. Purtroppo, nonostante molti altri vantaggi, sembra che il bootstrap non sia una soluzione affidabile quando la dimensione del campione è (molto) piccola (Yung & Bentler, 1996). \n",
    "\n",
    "In alternativa, sono state sviluppate correzioni per dimensioni di campione piccole sugli errori standard (robusti) e sono state recentemente adattate al contesto SEM. Tuttavia, questa tecnologia non è ancora disponibile nei software SEM."
   ]
  },
  {
   "cell_type": "markdown",
   "metadata": {},
   "source": [
    "### Strategie Alternative\n",
    "\n",
    "Oltre ai metodi precedenti suggeriti da {cite:t}`rosseel2020small`, altre strategie possibili sono stati indicate da {cite:t}`kline2023principles`. \n",
    "\n",
    "1. **Selezione di Indicatori con Elevate Caratteristiche Psicometriche**: {cite:t}`kline2023principles` consiglia di utilizzare indicatori che mostrino eccellenti proprietà psicometriche, idealmente con carichi standardizzati superiori a .70 per gli indicatori continui. Questa pratica riduce il rischio di incorrere in casi di Heywood.\n",
    "\n",
    "2. **Applicazione di Restrizioni di Uguaglianza sui Carichi Non Standardizzati**: Imponendo vincoli di uguaglianza sulle saturazioni degli indicatori relativi allo stesso fattore si possono evitare soluzioni inammissibili. Questo approccio è particolarmente valido quando gli indicatori sono sulla stessa scala. Un'alternativa valida consiste nel fissare le saturazioni degli indicatori dello stesso fattore a valori costanti non nulli, che riflettano le variazioni nelle loro deviazioni standard.\n",
    "\n",
    "3. **SEM Basato su Compositi per Modelli Complessi in Campioni Piccoli**: Questo approccio implica l'utilizzo di metodi basati su compositi, che sono combinazioni lineari di variabili osservate. In pratica, le variabili osservate vengono combinate in modi specifici per formare indicatori composti che rappresentano i costrutti latenti nel modello. Questi indicatori composti vengono quindi utilizzati per stimare i parametri del modello SEM. L'obiettivo è ottenere risultati per modelli complessi che richiederebbero campioni molto più ampi con il tradizionale approccio SEM. Tuttavia, è importante notare che i risultati del SEM basato su compositi possono essere soggetti a distorsioni anche nei campioni di piccole dimensioni.\n",
    "\n",
    "4. **Parceling**: Questa strategia coinvolge la creazione di \"parcel\" o aggregati di due o più indicatori a livello di item attraverso la media dei singoli item. In altre parole, gli indicatori originali sono raggruppati in insiemi più piccoli e i loro valori sono combinati per creare nuovi indicatori aggregati. Questi nuovi indicatori vengono quindi utilizzati per rappresentare i costrutti latenti nel modello SEM. Sebbene il parceling possa ridurre la varianza dell'errore e migliorare la stabilità dei modelli, è importante considerare le sue limitazioni, tra cui la possibile perdita di informazioni e la sensibilità alle scelte fatte durante il processo di parceling. I risultati ottenuti con il parceling possono variare notevolmente in base alle decisioni prese dal ricercatore durante l'analisi."
   ]
  },
  {
   "cell_type": "markdown",
   "metadata": {},
   "source": [
    "#### Parceling\n",
    "\n",
    "Approfondiamo brevemente la strategia del parceling. Il parceling è una strategia che comporta la suddivisione di un set di item in gruppi più piccoli, o \"parcel\", per semplificare i modelli e migliorare la loro stima e adattamento. \n",
    "\n",
    "Un esempio, citato in {cite:t}`kline2023principles`, illustra come il parceling possa essere utilizzato in una CFA per ridurre il numero di indicatori e semplificare il modello. {cite:t}`kline2023principles` considera un questionario di 120 item diviso in tre gruppi distinti di 40 item ciascuno, ognuno mirato a misurare un dominio specifico di un costrutto. In un campione di 150 partecipanti, un'analisi fattoriale confermativa (CFA) con tre fattori e 40 indicatori per fattore, con 120 indicatori totali, può presentare sfide notevoli nella stima del modello a causa della ridotta dimensione del campione. Per affrontare questi problemi, il ricercatore può suddividere ogni gruppo di 40 item in 4 gruppi minori (o \"parcel\") di 10 item ciascuno, sommando i punteggi all'interno di ogni \"parcel\". Questi punteggi aggregati sostituiscono poi gli item singoli come indicatori in un modello CFA a 3 fattori che avrà quindi solo 12 indicatori in totale (4 indicatori parcellizzati per fattore). Se gli indicatori parcellizzati hanno una distribuzione normale, per la stima si può ricorrere al metodo dei minimi quadrati (ML); altrimenti, si può utilizzare un estimatore ML robusto.\n",
    "\n",
    "Questo metodo è particolarmente utile in situazioni dove si hanno molti item e campioni di dimensioni ridotte, e offre diversi benefici, tra cui:\n",
    "\n",
    "1. **Maggiore Affidabilità**: Il parceling può aumentare l'affidabilità di una scala psicometrica, poiché gli item aggregati tendono ad avere maggior coerenza interna rispetto agli item singoli.\n",
    "\n",
    "2. **Rapporto Varianza Comune/Varianza Unica**: Utilizzando il parceling, si può ottenere un rapporto più favorevole tra la varianza comune (quella spiegata dai fattori comuni) e la varianza unica (quella non spiegata).\n",
    "\n",
    "3. **Minore Probabilità di Violazioni Distribuzionali**: La pratica del parceling riduce la probabilità che le assunzioni distribuzionali siano violate, il che è importante per l'applicazione di certe tecniche statistiche.\n",
    "\n",
    "Nonostante i suoi benefici, il parceling ha anche limitazioni. La metodologia utilizzata per formare i parcel può influenzare i risultati. Inoltre, il parceling non è consigliabile quando gli item all'interno di un parcel non sono unidimensionali, poiché ciò può distorcere i risultati. È fondamentale verificare l'unidimensionalità prima di procedere con il parceling.\n",
    "\n",
    "In studi con campioni di piccole dimensioni, il parceling ha dimostrato diversi vantaggi, come mostrato nello studio di simulazione di Orçan e Yanyun (2016). Questi includono una riduzione della complessità del modello, tassi di errore di Tipo I più ragionevoli e tassi di errore di Tipo I più bassi quando si utilizza il metodo di stima della massima verosimiglianza con errori standard robusti (MLR) a livello di parcel.\n",
    "\n",
    "In conclusione, il parceling è una tecnica utile che può migliorare l'affidabilità e la validità dei modelli psicometrici, specialmente in presenza di grandi set di item e campioni di piccole dimensioni. Tuttavia, è essenziale valutare attentamente la sua applicabilità e procedere con cautela, specialmente per quanto riguarda l'unidimensionalità dei parcel."
   ]
  },
  {
   "cell_type": "markdown",
   "metadata": {},
   "source": [
    "## SEM in un Piccolo Campione\n",
    "\n",
    "{cite:t}`kline2023principles` discute uno studio in cui è stato applicato un modello CFA a due fattori ad un campione di 103 donne, le quali hanno compilato questionari su esperienze di origine familiare e adattamento coniugale {cite:p}`sabatelli2003family`. "
   ]
  },
  {
   "cell_type": "code",
   "execution_count": 3,
   "metadata": {
    "vscode": {
     "languageId": "r"
    }
   },
   "outputs": [],
   "source": [
    "# input the correlations in lower diagnonal form\n",
    "sabatelliLower.cor <- \"\n",
    " 1.000\n",
    "  .740 1.000\n",
    "  .265  .422 1.000\n",
    "  .305  .401  .791 1.000\n",
    "  .315  .351  .662  .587 1.000 \"\n",
    "\n",
    "# name the variables and convert to full correlation matrix\n",
    "sabatelli.cor <- lavaan::getCov(sabatelliLower.cor, names = c(\n",
    "    \"problems\", \"intimacy\", \"father\", \"mother\", \"both\"\n",
    "    )\n",
    ")\n",
    "\n",
    "# add the standard deviations and convert to covariances\n",
    "sabatelli.cov <- lavaan::cor2cov(sabatelli.cor, sds = c(\n",
    "    32.936, 22.749, 13.390, 13.679, 14.382\n",
    "    )\n",
    ")"
   ]
  },
  {
   "cell_type": "markdown",
   "metadata": {},
   "source": [
    "Il modello proposto dagli autori è specificato di seguito:"
   ]
  },
  {
   "cell_type": "code",
   "execution_count": 4,
   "metadata": {
    "vscode": {
     "languageId": "r"
    }
   },
   "outputs": [],
   "source": [
    "sabatelli_model <- \"\n",
    "    # common factors\n",
    "    # loading for intimacy constrained to equal .691\n",
    "    Marital =~ problems + intimacy\n",
    "    FOE =~ father + mother + both\n",
    "\""
   ]
  },
  {
   "cell_type": "markdown",
   "metadata": {},
   "source": [
    "In riferimento al modello specificato sopra, la soluzione fornita da `lavaan` risulta inammissibile a causa di un caso di Heywood, evidenziato da una varianza d'errore negativa per la variabile \"intimità\"."
   ]
  },
  {
   "cell_type": "code",
   "execution_count": 5,
   "metadata": {
    "vscode": {
     "languageId": "r"
    }
   },
   "outputs": [
    {
     "name": "stderr",
     "output_type": "stream",
     "text": [
      "Warning message in lav_object_post_check(object):\n",
      "\"lavaan WARNING: some estimated ov variances are negative\"\n"
     ]
    }
   ],
   "source": [
    "original <- lavaan::sem(sabatelli_model,\n",
    "    sample.cov = sabatelli.cov,\n",
    "    sample.nobs = 103\n",
    ")"
   ]
  },
  {
   "cell_type": "code",
   "execution_count": 6,
   "metadata": {
    "vscode": {
     "languageId": "r"
    }
   },
   "outputs": [
    {
     "name": "stdout",
     "output_type": "stream",
     "text": [
      "lavaan 0.6.17 ended normally after 141 iterations\n",
      "\n",
      "  Estimator                                         ML\n",
      "  Optimization method                           NLMINB\n",
      "  Number of model parameters                        11\n",
      "\n",
      "  Number of observations                           103\n",
      "\n",
      "Model Test User Model:\n",
      "                                                      \n",
      "  Test statistic                                 4.688\n",
      "  Degrees of freedom                                 4\n",
      "  P-value (Chi-square)                           0.321\n",
      "\n",
      "Model Test Baseline Model:\n",
      "\n",
      "  Test statistic                               271.302\n",
      "  Degrees of freedom                                10\n",
      "  P-value                                        0.000\n",
      "\n",
      "User Model versus Baseline Model:\n",
      "\n",
      "  Comparative Fit Index (CFI)                    0.997\n",
      "  Tucker-Lewis Index (TLI)                       0.993\n",
      "\n",
      "Loglikelihood and Information Criteria:\n",
      "\n",
      "  Loglikelihood user model (H0)              -2087.964\n",
      "  Loglikelihood unrestricted model (H1)      -2085.620\n",
      "                                                      \n",
      "  Akaike (AIC)                                4197.928\n",
      "  Bayesian (BIC)                              4226.910\n",
      "  Sample-size adjusted Bayesian (SABIC)       4192.163\n",
      "\n",
      "Root Mean Square Error of Approximation:\n",
      "\n",
      "  RMSEA                                          0.041\n",
      "  90 Percent confidence interval - lower         0.000\n",
      "  90 Percent confidence interval - upper         0.159\n",
      "  P-value H_0: RMSEA <= 0.050                    0.448\n",
      "  P-value H_0: RMSEA >= 0.080                    0.387\n",
      "\n",
      "Standardized Root Mean Square Residual:\n",
      "\n",
      "  SRMR                                           0.028\n",
      "\n",
      "Parameter Estimates:\n",
      "\n",
      "  Standard errors                             Standard\n",
      "  Information                                 Expected\n",
      "  Information saturated (h1) model          Structured\n",
      "\n",
      "Latent Variables:\n",
      "                   Estimate  Std.Err  z-value  P(>|z|)   Std.lv  Std.all\n",
      "  Marital =~                                                            \n",
      "    problems          1.000                              23.362    0.713\n",
      "    intimacy          1.006    0.221    4.547    0.000   23.503    1.038\n",
      "  FOE =~                                                                \n",
      "    father            1.000                              12.488    0.937\n",
      "    mother            0.919    0.089   10.320    0.000   11.480    0.843\n",
      "    both              0.808    0.098    8.206    0.000   10.088    0.705\n",
      "\n",
      "Covariances:\n",
      "                   Estimate  Std.Err  z-value  P(>|z|)   Std.lv  Std.all\n",
      "  Marital ~~                                                            \n",
      "    FOE             129.409   44.216    2.927    0.003    0.444    0.444\n",
      "\n",
      "Variances:\n",
      "                   Estimate  Std.Err  z-value  P(>|z|)   Std.lv  Std.all\n",
      "   .problems        528.472  130.514    4.049    0.000  528.472    0.492\n",
      "   .intimacy        -39.892  109.200   -0.365    0.715  -39.892   -0.078\n",
      "   .father           21.613   10.983    1.968    0.049   21.613    0.122\n",
      "   .mother           53.509   11.710    4.570    0.000   53.509    0.289\n",
      "   .both            103.075   16.168    6.375    0.000  103.075    0.503\n",
      "    Marital         545.776  169.103    3.227    0.001    1.000    1.000\n",
      "    FOE             155.939   26.732    5.833    0.000    1.000    1.000\n",
      "\n",
      "R-Square:\n",
      "                   Estimate\n",
      "    problems          0.508\n",
      "    intimacy             NA\n",
      "    father            0.878\n",
      "    mother            0.711\n",
      "    both              0.497\n",
      "\n"
     ]
    }
   ],
   "source": [
    "lavaan::summary(original,\n",
    "    fit.measures = TRUE, standardized = TRUE,\n",
    "    rsquare = TRUE\n",
    ") |> print()"
   ]
  },
  {
   "cell_type": "markdown",
   "metadata": {},
   "source": [
    "Per ovviare ad un tale problema, in una nuova analisi del modello di adattamento coniugale è stato applicato un vincolo specifico ai carichi non standardizzati degli indicatori. A causa delle differenze sostanziali nelle metriche tra le due variabili, ovvero \"intimacy\" (con una deviazione standard di 22.749) e \"problems\" (con una deviazione standard di 32.936), sono state fissate le seguenti saturazioni fattoriali: il carico per la variabile \"problemi\" è stato fissato a 1, mentre il carico per la variabile \"intimità\" è stato fissato a 0.691. Questi valori sono stati calcolati in modo da riflettere proporzionalmente la differenza nelle deviazioni standard tra le due variabili."
   ]
  },
  {
   "cell_type": "code",
   "execution_count": 7,
   "metadata": {
    "vscode": {
     "languageId": "r"
    }
   },
   "outputs": [],
   "source": [
    "# analysis with constrained loadings for indicators of marital adjustment\n",
    "# model df = 5\n",
    "\n",
    "# standard deviations for both indicators\n",
    "# of the marital factor are listed next\n",
    "# intimacy, sd = 22.749\n",
    "# problems, sd = 32.936\n",
    "# ratio = 22.749/32.936 = .691\n",
    "\n",
    "# specify model with constrained loadings for problems, intimacy\n",
    "\n",
    "proportional.model <- \"\n",
    "    # common factors\n",
    "    # loading for intimacy constrained to equal .691\n",
    "    Marital =~ 1*problems + .691*intimacy\n",
    "    FOE =~ father + mother + both \n",
    "\""
   ]
  },
  {
   "cell_type": "code",
   "execution_count": 8,
   "metadata": {
    "vscode": {
     "languageId": "r"
    }
   },
   "outputs": [],
   "source": [
    "proportional <- lavaan::sem(proportional.model,\n",
    "    sample.cov = sabatelli.cov,\n",
    "    sample.nobs = 103\n",
    ")"
   ]
  },
  {
   "cell_type": "code",
   "execution_count": 9,
   "metadata": {
    "vscode": {
     "languageId": "r"
    }
   },
   "outputs": [
    {
     "data": {
      "image/png": "[encoded data removed]",
      "text/plain": [
       "plot without title"
      ]
     },
     "metadata": {
      "image/png": {
       "height": 420,
       "width": 420
      }
     },
     "output_type": "display_data"
    }
   ],
   "source": [
    "semPlot::semPaths(proportional,\n",
    "    what = \"col\", whatLabels = \"par\", style = \"mx\", \n",
    "    layout = \"tree2\", nCharNodes = 7,\n",
    "    shapeMan = \"rectangle\", sizeMan = 8, sizeMan2 = 5\n",
    ")"
   ]
  },
  {
   "cell_type": "code",
   "execution_count": 10,
   "metadata": {
    "vscode": {
     "languageId": "r"
    }
   },
   "outputs": [
    {
     "name": "stdout",
     "output_type": "stream",
     "text": [
      "lavaan 0.6.17 ended normally after 110 iterations\n",
      "\n",
      "  Estimator                                         ML\n",
      "  Optimization method                           NLMINB\n",
      "  Number of model parameters                        10\n",
      "\n",
      "  Number of observations                           103\n",
      "\n",
      "Model Test User Model:\n",
      "                                                      \n",
      "  Test statistic                                 8.449\n",
      "  Degrees of freedom                                 5\n",
      "  P-value (Chi-square)                           0.133\n",
      "\n",
      "Model Test Baseline Model:\n",
      "\n",
      "  Test statistic                               271.302\n",
      "  Degrees of freedom                                10\n",
      "  P-value                                        0.000\n",
      "\n",
      "User Model versus Baseline Model:\n",
      "\n",
      "  Comparative Fit Index (CFI)                    0.987\n",
      "  Tucker-Lewis Index (TLI)                       0.974\n",
      "\n",
      "Loglikelihood and Information Criteria:\n",
      "\n",
      "  Loglikelihood user model (H0)              -2089.845\n",
      "  Loglikelihood unrestricted model (H1)      -2085.620\n",
      "                                                      \n",
      "  Akaike (AIC)                                4199.690\n",
      "  Bayesian (BIC)                              4226.037\n",
      "  Sample-size adjusted Bayesian (SABIC)       4194.449\n",
      "\n",
      "Root Mean Square Error of Approximation:\n",
      "\n",
      "  RMSEA                                          0.082\n",
      "  90 Percent confidence interval - lower         0.000\n",
      "  90 Percent confidence interval - upper         0.174\n",
      "  P-value H_0: RMSEA <= 0.050                    0.242\n",
      "  P-value H_0: RMSEA >= 0.080                    0.584\n",
      "\n",
      "Standardized Root Mean Square Residual:\n",
      "\n",
      "  SRMR                                           0.045\n",
      "\n",
      "Parameter Estimates:\n",
      "\n",
      "  Standard errors                             Standard\n",
      "  Information                                 Expected\n",
      "  Information saturated (h1) model          Structured\n",
      "\n",
      "Latent Variables:\n",
      "                   Estimate  Std.Err  z-value  P(>|z|)   Std.lv  Std.all\n",
      "  Marital =~                                                            \n",
      "    problems          1.000                              28.391    0.840\n",
      "    intimacy          0.691                              19.618    0.885\n",
      "  FOE =~                                                                \n",
      "    father            1.000                              12.373    0.929\n",
      "    mother            0.935    0.091   10.279    0.000   11.568    0.850\n",
      "    both              0.821    0.100    8.235    0.000   10.155    0.710\n",
      "\n",
      "Covariances:\n",
      "                   Estimate  Std.Err  z-value  P(>|z|)   Std.lv  Std.all\n",
      "  Marital ~~                                                            \n",
      "    FOE             164.822   42.788    3.852    0.000    0.469    0.469\n",
      "\n",
      "Variances:\n",
      "                   Estimate  Std.Err  z-value  P(>|z|)   Std.lv  Std.all\n",
      "   .problems        335.923   80.080    4.195    0.000  335.923    0.294\n",
      "   .intimacy        106.214   34.373    3.090    0.002  106.214    0.216\n",
      "   .father           24.457   11.060    2.211    0.027   24.457    0.138\n",
      "   .mother           51.489   11.730    4.389    0.000   51.489    0.278\n",
      "   .both            101.712   16.070    6.329    0.000  101.712    0.497\n",
      "    Marital         806.040  132.946    6.063    0.000    1.000    1.000\n",
      "    FOE             153.095   26.669    5.741    0.000    1.000    1.000\n",
      "\n",
      "R-Square:\n",
      "                   Estimate\n",
      "    problems          0.706\n",
      "    intimacy          0.784\n",
      "    father            0.862\n",
      "    mother            0.722\n",
      "    both              0.503\n",
      "\n"
     ]
    }
   ],
   "source": [
    "lavaan::summary(proportional,\n",
    "    fit.measures = TRUE, standardized = TRUE,\n",
    "    rsquare = TRUE\n",
    ") |> print()"
   ]
  },
  {
   "cell_type": "code",
   "execution_count": 11,
   "metadata": {
    "vscode": {
     "languageId": "r"
    }
   },
   "outputs": [
    {
     "name": "stdout",
     "output_type": "stream",
     "text": [
      "chisq    df   cfi   tli rmsea  srmr \n",
      "8.449 5.000 0.987 0.974 0.082 0.045 \n"
     ]
    }
   ],
   "source": [
    "fitMeasures(proportional, c(\"chisq\", \"df\", \"cfi\", \"tli\", \"rmsea\", \"srmr\")) |>\n",
    "    print()"
   ]
  },
  {
   "cell_type": "code",
   "execution_count": 12,
   "metadata": {
    "vscode": {
     "languageId": "r"
    }
   },
   "outputs": [
    {
     "name": "stdout",
     "output_type": "stream",
     "text": [
      "        lhs op      rhs     est      se      z pvalue ci.lower ci.upper\n",
      "1   Marital =~ problems   1.000   0.000     NA     NA    1.000    1.000\n",
      "2   Marital =~ intimacy   0.691   0.000     NA     NA    0.691    0.691\n",
      "3       FOE =~   father   1.000   0.000     NA     NA    1.000    1.000\n",
      "4       FOE =~   mother   0.935   0.091 10.279  0.000    0.757    1.113\n",
      "5       FOE =~     both   0.821   0.100  8.235  0.000    0.625    1.016\n",
      "6  problems ~~ problems 335.923  80.080  4.195  0.000  178.970  492.877\n",
      "7  intimacy ~~ intimacy 106.214  34.373  3.090  0.002   38.843  173.584\n",
      "8    father ~~   father  24.457  11.060  2.211  0.027    2.779   46.134\n",
      "9    mother ~~   mother  51.489  11.730  4.389  0.000   28.498   74.481\n",
      "10     both ~~     both 101.712  16.070  6.329  0.000   70.216  133.208\n",
      "11  Marital ~~  Marital 806.040 132.946  6.063  0.000  545.471 1066.608\n",
      "12      FOE ~~      FOE 153.095  26.669  5.741  0.000  100.825  205.365\n",
      "13  Marital ~~      FOE 164.822  42.788  3.852  0.000   80.959  248.684\n"
     ]
    }
   ],
   "source": [
    "lavaan::parameterEstimates(proportional) |> print()"
   ]
  },
  {
   "cell_type": "code",
   "execution_count": 51,
   "metadata": {
    "vscode": {
     "languageId": "r"
    }
   },
   "outputs": [
    {
     "name": "stdout",
     "output_type": "stream",
     "text": [
      "        lhs op      rhs est.std    se      z pvalue ci.lower ci.upper\n",
      "1   Marital =~ problems   0.840 0.036 23.439  0.000    0.770    0.910\n",
      "2   Marital =~ intimacy   0.885 0.037 24.040  0.000    0.813    0.957\n",
      "3       FOE =~   father   0.929 0.035 26.779  0.000    0.861    0.997\n",
      "4       FOE =~   mother   0.850 0.040 21.126  0.000    0.771    0.929\n",
      "5       FOE =~     both   0.710 0.055 12.800  0.000    0.601    0.818\n",
      "6  problems ~~ problems   0.294 0.060  4.884  0.000    0.176    0.412\n",
      "7  intimacy ~~ intimacy   0.216 0.065  3.317  0.001    0.088    0.344\n",
      "8    father ~~   father   0.138 0.064  2.139  0.032    0.012    0.264\n",
      "9    mother ~~   mother   0.278 0.068  4.065  0.000    0.144    0.412\n",
      "10     both ~~     both   0.497 0.079  6.313  0.000    0.342    0.651\n",
      "11  Marital ~~  Marital   1.000 0.000     NA     NA    1.000    1.000\n",
      "12      FOE ~~      FOE   1.000 0.000     NA     NA    1.000    1.000\n",
      "13  Marital ~~      FOE   0.469 0.091  5.177  0.000    0.292    0.647\n"
     ]
    }
   ],
   "source": [
    "lavaan::standardizedSolution(proportional) |> print()"
   ]
  },
  {
   "cell_type": "markdown",
   "metadata": {},
   "source": [
    "Nonostante gli indici di bontà di adattamento siano eccellenti, la potenza di questa analisi statistica risulta estremamente limitata. Per valutare questa limitazione, è possibile utilizzare la funzione `semTools::findRMSEAsamplesize()`. Questa funzione calcola la dimensione del campione necessaria per rilevare una differenza significativa tra RMSEA_0 e RMSEA_A, considerando un modello con `df` gradi di libertà.\n",
    "\n",
    "Per esempio, se desideriamo distinguere tra RMSEA_0=0.05 e RMSEA_A=0.10 utilizzando il modello attuale con 5 gradi di libertà, la funzione ci indica che sono necessarie 561 osservazioni per ottenere una potenza statistica di 0.8:"
   ]
  },
  {
   "cell_type": "code",
   "execution_count": 13,
   "metadata": {
    "vscode": {
     "languageId": "r"
    }
   },
   "outputs": [
    {
     "data": {
      "text/html": [
       "561"
      ],
      "text/latex": [
       "561"
      ],
      "text/markdown": [
       "561"
      ],
      "text/plain": [
       "[1] 561"
      ]
     },
     "metadata": {},
     "output_type": "display_data"
    }
   ],
   "source": [
    "semTools::findRMSEAsamplesize(0.05, .10, 5, .80, .05, 1)"
   ]
  },
  {
   "cell_type": "markdown",
   "metadata": {},
   "source": [
    "Per creare un grafico che rappresenti la potenza statistica per rilevare la differenza tra RMSEA_0=0.05 e RMSEA_A=0.10 (utilizzati qui come esempio) al variare della dimensione del campione, è possibile seguire la seguente procedura:"
   ]
  },
  {
   "cell_type": "code",
   "execution_count": 14,
   "metadata": {
    "vscode": {
     "languageId": "r"
    }
   },
   "outputs": [
    {
     "data": {
      "image/png": "[encoded data removed]",
      "text/plain": [
       "Plot with title \"Compute Power for RMSEA\""
      ]
     },
     "metadata": {
      "image/png": {
       "height": 420,
       "width": 420
      }
     },
     "output_type": "display_data"
    }
   ],
   "source": [
    "semTools::plotRMSEApower(rmsea0 = .05, rmseaA = .10, df = 5, 50, 1000)"
   ]
  },
  {
   "cell_type": "markdown",
   "metadata": {},
   "source": [
    "Questa analisi di potenza indica che la dimensione del campione utilizzato ($n$ = 103) è del tutto inadeguata.\n",
    "\n",
    "Per migliorare il nostro giudizio sull'adattamento del modello consideriamo l'analisi dei residui."
   ]
  },
  {
   "cell_type": "code",
   "execution_count": 15,
   "metadata": {
    "vscode": {
     "languageId": "r"
    }
   },
   "outputs": [
    {
     "name": "stdout",
     "output_type": "stream",
     "text": [
      "$type\n",
      "[1] \"standardized.mplus\"\n",
      "\n",
      "$cov\n",
      "         prblms intmcy father mother   both\n",
      "problems     NA                            \n",
      "intimacy     NA  0.918                     \n",
      "father   -3.994  1.039  0.002              \n",
      "mother   -0.871  1.049  0.328  0.000       \n",
      "both      0.407  0.930  0.352 -2.776     NA\n",
      "\n"
     ]
    }
   ],
   "source": [
    "lavaan::residuals(proportional, type = \"standardized.mplus\") |> print()"
   ]
  },
  {
   "cell_type": "code",
   "execution_count": 16,
   "metadata": {
    "vscode": {
     "languageId": "r"
    }
   },
   "outputs": [
    {
     "name": "stdout",
     "output_type": "stream",
     "text": [
      "$type\n",
      "[1] \"cor.bollen\"\n",
      "\n",
      "$cov\n",
      "         prblms intmcy father mother   both\n",
      "problems  0.000                            \n",
      "intimacy -0.004  0.000                     \n",
      "father   -0.101  0.036  0.000              \n",
      "mother   -0.030  0.048  0.002  0.000       \n",
      "both      0.035  0.056  0.003 -0.016  0.000\n",
      "\n",
      "$cov.z\n",
      "         prblms intmcy father mother   both\n",
      "problems  0.000                            \n",
      "intimacy -2.524  0.000                     \n",
      "father   -2.386  1.245  0.000              \n",
      "mother   -0.586  1.134  0.881  0.000       \n",
      "both      0.523  0.936  0.507 -1.143  0.000\n",
      "\n",
      "$summary\n",
      "                           cov\n",
      "crmr                     0.044\n",
      "crmr.se                  0.015\n",
      "crmr.exactfit.z          0.504\n",
      "crmr.exactfit.pvalue     0.307\n",
      "ucrmr                    0.023\n",
      "ucrmr.se                 0.029\n",
      "ucrmr.ci.lower          -0.024\n",
      "ucrmr.cilupper           0.071\n",
      "ucrmr.closefit.h0.value  0.050\n",
      "ucrmr.closefit.z        -0.928\n",
      "ucrmr.closefit.pvalue    0.823\n",
      "\n"
     ]
    }
   ],
   "source": [
    "lavaan::lavResiduals(proportional, type = \"cor.bollen\", summary = TRUE) |> print()"
   ]
  },
  {
   "cell_type": "markdown",
   "metadata": {},
   "source": [
    "Questi sono risultati relativamente scarsi per un modello così piccolo. Il computer non è stato in grado di calcolare tutti i residui standardizzati possibili, il che non è sorprendente in un campione così ridotto."
   ]
  },
  {
   "cell_type": "markdown",
   "metadata": {},
   "source": [
    "### Stimatore MIIV-2SLS\n",
    "\n",
    "Una seconda analisi viene condotta utilizzando lo stimatore MIIV-2SLS. Il pacchetto MIIVsem non calcola statistiche globali di bontà di adattamento. Al contrario, calcola il test di Sargan per ciascun indicatore previsto dal modello. Le statistiche del test di Sargan approssimano distribuzioni chi-quadro centrali con gradi di libertà equivalenti al numero di item meno uno, quindi df = 2. L'ipotesi nulla è che ogni insieme di strumenti multipli sia incorrelato con il termine di errore per l'equazione. Il mancato rifiuto dell'ipotesi nulla per il test di Sargan suggerisce una buona corrispondenza del modello con i dati."
   ]
  },
  {
   "cell_type": "code",
   "execution_count": 17,
   "metadata": {
    "vscode": {
     "languageId": "r"
    }
   },
   "outputs": [
    {
     "data": {
      "text/plain": [
       "Model Equation Information \n",
       "\n",
       " LHS        RHS        MIIVs                     \n",
       " intimacy   problems   father, mother, both      \n",
       " mother     father     problems, intimacy, both  \n",
       " both       father     problems, intimacy, mother\n",
       "\n"
      ]
     },
     "metadata": {},
     "output_type": "display_data"
    }
   ],
   "source": [
    "MIIVsem::miivs(sabatelli_model)"
   ]
  },
  {
   "cell_type": "code",
   "execution_count": 18,
   "metadata": {
    "vscode": {
     "languageId": "r"
    }
   },
   "outputs": [
    {
     "name": "stdout",
     "output_type": "stream",
     "text": [
      "MIIVsem (0.5.8) results \n",
      "\n",
      "Number of observations                                                    103\n",
      "Number of equations                                                         3\n",
      "Estimator                                                           MIIV-2SLS\n",
      "Standard Errors                                                      standard\n",
      "Missing                                                              listwise\n",
      "\n",
      "\n",
      "Parameter Estimates:\n",
      "\n",
      "\n",
      "STRUCTURAL COEFFICIENTS:\n",
      "                   Estimate  Std.Err  z-value  P(>|z|)   Sargan   df   P(Chi)\n",
      "  FOE =~                                                                     \n",
      "    father            1.000                                                  \n",
      "    mother            0.899    0.089   10.149    0.000    1.763    2    0.414\n",
      "    both              0.787    0.099    7.935    0.000    3.590    2    0.166\n",
      "  Marital =~                                                                 \n",
      "    problems          1.000                                                  \n",
      "    intimacy          0.805    0.155    5.195    0.000    4.980    2    0.083\n",
      "\n",
      "INTERCEPTS:\n",
      "                   Estimate  Std.Err  z-value  P(>|z|)   \n",
      "    both              0.000                              \n",
      "    father            0.000                              \n",
      "    intimacy          0.000                              \n",
      "    mother            0.000                              \n",
      "    problems          0.000                              \n",
      "\n",
      "VARIANCES:\n",
      "                   Estimate  Std.Err  z-value  P(>|z|)   \n",
      "    FOE             158.501                              \n",
      "    Marital         702.393                              \n",
      "    both            103.301                              \n",
      "    father           20.856                              \n",
      "    intimacy         50.871                              \n",
      "    mother           54.195                              \n",
      "    problems        422.427                              \n",
      "\n",
      "COVARIANCES:\n",
      "                   Estimate  Std.Err  z-value  P(>|z|)   \n",
      "  Marital ~~                                             \n",
      "    FOE             157.495                              \n",
      "\n",
      "R-SQUARE:\n",
      "                   Estimate\n",
      "    problems          0.624\n",
      "    intimacy          0.900\n",
      "    father            0.884\n",
      "    mother            0.703\n",
      "    both              0.487\n",
      "NULL\n"
     ]
    }
   ],
   "source": [
    "sabatelli <- MIIVsem::miive(sabatelli_model,\n",
    "    sample.cov = sabatelli.cov,\n",
    "    sample.nobs = 103, var.cov = TRUE\n",
    ")\n",
    "\n",
    "lavaan::summary(sabatelli, rsquare = TRUE) |> print()"
   ]
  },
  {
   "cell_type": "markdown",
   "metadata": {},
   "source": [
    "Si noti che le stime standardizzate non sono calcolate nella versione del pacchetto MIIVsem utilizzata in questa analisi. I valori non standardizzati delle saturazioni fattoriali sono simili a quelli ottenuti in precedenza."
   ]
  },
  {
   "cell_type": "markdown",
   "metadata": {},
   "source": [
    "Il pacchetto `MIIVsem` non fornisce né le correlazioni previste dal modello per gli indicatori né i residui di correlazione. Per ottenere i residui di correlazione per l'estimatore 2SLS, è possibile utilizzare il pacchetto `lavaan` per specificare nuovamente il modello precedentemente adattato, ma con l'importante modifica di fissare tutti i parametri non standardizzati in modo che siano identici alle loro controparti 2SLS. Successivamente, è possibile adattare nuovamente il modello con questi parametri fissati alla matrice di covarianza. La matrice di correlazione prevista in questa analisi si basa sulle stime dei parametri 2SLS, consentendo così di ottenere i residui di correlazione desiderati."
   ]
  },
  {
   "cell_type": "code",
   "execution_count": 19,
   "metadata": {
    "vscode": {
     "languageId": "r"
    }
   },
   "outputs": [],
   "source": [
    "sabatelliFixed.model <- \"\n",
    "    # common factors\n",
    "    Marital =~ 1.0*problems + .805*intimacy\n",
    "    FOE =~ 1.0*father + .899*mother + .787*both\n",
    "    # factor variances, covariances\n",
    "    FOE ~~ 158.501*FOE\n",
    "    Marital ~~ 157.495*FOE\n",
    "    Marital ~~ 702.393*Marital\n",
    "    # indicator error variances\n",
    "    father ~~ 20.856*father\n",
    "    mother ~~ 54.195*mother\n",
    "    both ~~ 103.301*both\n",
    "    problems ~~ 422.427*problems\n",
    "    intimacy ~~ 50.781*intimacy \n",
    " \""
   ]
  },
  {
   "cell_type": "code",
   "execution_count": 20,
   "metadata": {
    "vscode": {
     "languageId": "r"
    }
   },
   "outputs": [],
   "source": [
    "sabatelliFixed <- lavaan::sem(sabatelliFixed.model,\n",
    "    sample.cov = sabatelli.cov,\n",
    "    sample.nobs = 103\n",
    ")"
   ]
  },
  {
   "cell_type": "code",
   "execution_count": 21,
   "metadata": {
    "vscode": {
     "languageId": "r"
    }
   },
   "outputs": [
    {
     "data": {
      "text/html": [
       "<table class=\"dataframe\">\n",
       "<caption>A lavaan.data.frame: 13 x 9</caption>\n",
       "<thead>\n",
       "\t<tr><th scope=col>lhs</th><th scope=col>op</th><th scope=col>rhs</th><th scope=col>est</th><th scope=col>se</th><th scope=col>z</th><th scope=col>pvalue</th><th scope=col>ci.lower</th><th scope=col>ci.upper</th></tr>\n",
       "\t<tr><th scope=col>&lt;chr&gt;</th><th scope=col>&lt;chr&gt;</th><th scope=col>&lt;chr&gt;</th><th scope=col>&lt;dbl&gt;</th><th scope=col>&lt;dbl&gt;</th><th scope=col>&lt;dbl&gt;</th><th scope=col>&lt;dbl&gt;</th><th scope=col>&lt;dbl&gt;</th><th scope=col>&lt;dbl&gt;</th></tr>\n",
       "</thead>\n",
       "<tbody>\n",
       "\t<tr><td>Marital </td><td>=~</td><td>problems</td><td>  1.000</td><td>0</td><td>NA</td><td>NA</td><td>  1.000</td><td>  1.000</td></tr>\n",
       "\t<tr><td>Marital </td><td>=~</td><td>intimacy</td><td>  0.805</td><td>0</td><td>NA</td><td>NA</td><td>  0.805</td><td>  0.805</td></tr>\n",
       "\t<tr><td>FOE     </td><td>=~</td><td>father  </td><td>  1.000</td><td>0</td><td>NA</td><td>NA</td><td>  1.000</td><td>  1.000</td></tr>\n",
       "\t<tr><td>FOE     </td><td>=~</td><td>mother  </td><td>  0.899</td><td>0</td><td>NA</td><td>NA</td><td>  0.899</td><td>  0.899</td></tr>\n",
       "\t<tr><td>FOE     </td><td>=~</td><td>both    </td><td>  0.787</td><td>0</td><td>NA</td><td>NA</td><td>  0.787</td><td>  0.787</td></tr>\n",
       "\t<tr><td>FOE     </td><td>~~</td><td>FOE     </td><td>158.501</td><td>0</td><td>NA</td><td>NA</td><td>158.501</td><td>158.501</td></tr>\n",
       "\t<tr><td>Marital </td><td>~~</td><td>FOE     </td><td>157.495</td><td>0</td><td>NA</td><td>NA</td><td>157.495</td><td>157.495</td></tr>\n",
       "\t<tr><td>Marital </td><td>~~</td><td>Marital </td><td>702.393</td><td>0</td><td>NA</td><td>NA</td><td>702.393</td><td>702.393</td></tr>\n",
       "\t<tr><td>father  </td><td>~~</td><td>father  </td><td> 20.856</td><td>0</td><td>NA</td><td>NA</td><td> 20.856</td><td> 20.856</td></tr>\n",
       "\t<tr><td>mother  </td><td>~~</td><td>mother  </td><td> 54.195</td><td>0</td><td>NA</td><td>NA</td><td> 54.195</td><td> 54.195</td></tr>\n",
       "\t<tr><td>both    </td><td>~~</td><td>both    </td><td>103.301</td><td>0</td><td>NA</td><td>NA</td><td>103.301</td><td>103.301</td></tr>\n",
       "\t<tr><td>problems</td><td>~~</td><td>problems</td><td>422.427</td><td>0</td><td>NA</td><td>NA</td><td>422.427</td><td>422.427</td></tr>\n",
       "\t<tr><td>intimacy</td><td>~~</td><td>intimacy</td><td> 50.781</td><td>0</td><td>NA</td><td>NA</td><td> 50.781</td><td> 50.781</td></tr>\n",
       "</tbody>\n",
       "</table>\n"
      ],
      "text/latex": [
       "A lavaan.data.frame: 13 x 9\n",
       "\\begin{tabular}{lllllllll}\n",
       " lhs & op & rhs & est & se & z & pvalue & ci.lower & ci.upper\\\\\n",
       " <chr> & <chr> & <chr> & <dbl> & <dbl> & <dbl> & <dbl> & <dbl> & <dbl>\\\\\n",
       "\\hline\n",
       "\t Marital  & =\\textasciitilde{} & problems &   1.000 & 0 & NA & NA &   1.000 &   1.000\\\\\n",
       "\t Marital  & =\\textasciitilde{} & intimacy &   0.805 & 0 & NA & NA &   0.805 &   0.805\\\\\n",
       "\t FOE      & =\\textasciitilde{} & father   &   1.000 & 0 & NA & NA &   1.000 &   1.000\\\\\n",
       "\t FOE      & =\\textasciitilde{} & mother   &   0.899 & 0 & NA & NA &   0.899 &   0.899\\\\\n",
       "\t FOE      & =\\textasciitilde{} & both     &   0.787 & 0 & NA & NA &   0.787 &   0.787\\\\\n",
       "\t FOE      & \\textasciitilde{}\\textasciitilde{} & FOE      & 158.501 & 0 & NA & NA & 158.501 & 158.501\\\\\n",
       "\t Marital  & \\textasciitilde{}\\textasciitilde{} & FOE      & 157.495 & 0 & NA & NA & 157.495 & 157.495\\\\\n",
       "\t Marital  & \\textasciitilde{}\\textasciitilde{} & Marital  & 702.393 & 0 & NA & NA & 702.393 & 702.393\\\\\n",
       "\t father   & \\textasciitilde{}\\textasciitilde{} & father   &  20.856 & 0 & NA & NA &  20.856 &  20.856\\\\\n",
       "\t mother   & \\textasciitilde{}\\textasciitilde{} & mother   &  54.195 & 0 & NA & NA &  54.195 &  54.195\\\\\n",
       "\t both     & \\textasciitilde{}\\textasciitilde{} & both     & 103.301 & 0 & NA & NA & 103.301 & 103.301\\\\\n",
       "\t problems & \\textasciitilde{}\\textasciitilde{} & problems & 422.427 & 0 & NA & NA & 422.427 & 422.427\\\\\n",
       "\t intimacy & \\textasciitilde{}\\textasciitilde{} & intimacy &  50.781 & 0 & NA & NA &  50.781 &  50.781\\\\\n",
       "\\end{tabular}\n"
      ],
      "text/markdown": [
       "\n",
       "A lavaan.data.frame: 13 x 9\n",
       "\n",
       "| lhs &lt;chr&gt; | op &lt;chr&gt; | rhs &lt;chr&gt; | est &lt;dbl&gt; | se &lt;dbl&gt; | z &lt;dbl&gt; | pvalue &lt;dbl&gt; | ci.lower &lt;dbl&gt; | ci.upper &lt;dbl&gt; |\n",
       "|---|---|---|---|---|---|---|---|---|\n",
       "| Marital  | =~ | problems |   1.000 | 0 | NA | NA |   1.000 |   1.000 |\n",
       "| Marital  | =~ | intimacy |   0.805 | 0 | NA | NA |   0.805 |   0.805 |\n",
       "| FOE      | =~ | father   |   1.000 | 0 | NA | NA |   1.000 |   1.000 |\n",
       "| FOE      | =~ | mother   |   0.899 | 0 | NA | NA |   0.899 |   0.899 |\n",
       "| FOE      | =~ | both     |   0.787 | 0 | NA | NA |   0.787 |   0.787 |\n",
       "| FOE      | ~~ | FOE      | 158.501 | 0 | NA | NA | 158.501 | 158.501 |\n",
       "| Marital  | ~~ | FOE      | 157.495 | 0 | NA | NA | 157.495 | 157.495 |\n",
       "| Marital  | ~~ | Marital  | 702.393 | 0 | NA | NA | 702.393 | 702.393 |\n",
       "| father   | ~~ | father   |  20.856 | 0 | NA | NA |  20.856 |  20.856 |\n",
       "| mother   | ~~ | mother   |  54.195 | 0 | NA | NA |  54.195 |  54.195 |\n",
       "| both     | ~~ | both     | 103.301 | 0 | NA | NA | 103.301 | 103.301 |\n",
       "| problems | ~~ | problems | 422.427 | 0 | NA | NA | 422.427 | 422.427 |\n",
       "| intimacy | ~~ | intimacy |  50.781 | 0 | NA | NA |  50.781 |  50.781 |\n",
       "\n"
      ],
      "text/plain": [
       "   lhs      op rhs      est     se z  pvalue ci.lower ci.upper\n",
       "1  Marital  =~ problems   1.000 0  NA NA       1.000    1.000 \n",
       "2  Marital  =~ intimacy   0.805 0  NA NA       0.805    0.805 \n",
       "3  FOE      =~ father     1.000 0  NA NA       1.000    1.000 \n",
       "4  FOE      =~ mother     0.899 0  NA NA       0.899    0.899 \n",
       "5  FOE      =~ both       0.787 0  NA NA       0.787    0.787 \n",
       "6  FOE      ~~ FOE      158.501 0  NA NA     158.501  158.501 \n",
       "7  Marital  ~~ FOE      157.495 0  NA NA     157.495  157.495 \n",
       "8  Marital  ~~ Marital  702.393 0  NA NA     702.393  702.393 \n",
       "9  father   ~~ father    20.856 0  NA NA      20.856   20.856 \n",
       "10 mother   ~~ mother    54.195 0  NA NA      54.195   54.195 \n",
       "11 both     ~~ both     103.301 0  NA NA     103.301  103.301 \n",
       "12 problems ~~ problems 422.427 0  NA NA     422.427  422.427 \n",
       "13 intimacy ~~ intimacy  50.781 0  NA NA      50.781   50.781 "
      ]
     },
     "metadata": {},
     "output_type": "display_data"
    }
   ],
   "source": [
    "# standardized parameter \"estimates\" listed\n",
    "# next are fixed to nonzero constants, and\n",
    "# standard errors are undefined\n",
    "lavaan::parameterEstimates(sabatelliFixed)"
   ]
  },
  {
   "cell_type": "code",
   "execution_count": 22,
   "metadata": {
    "vscode": {
     "languageId": "r"
    }
   },
   "outputs": [
    {
     "name": "stdout",
     "output_type": "stream",
     "text": [
      "$type\n",
      "[1] \"standardized.mplus\"\n",
      "\n",
      "$cov\n",
      "         prblms intmcy father mother   both\n",
      "problems -0.338                            \n",
      "intimacy -0.180  0.092                     \n",
      "father   -0.938  0.016 -0.073              \n",
      "mother   -0.120  0.293  0.043  0.116       \n",
      "both      0.491  0.412  0.067  0.100  0.118\n",
      "\n"
     ]
    }
   ],
   "source": [
    "lavaan::residuals(sabatelliFixed, type = \"standardized.mplus\") |> print()"
   ]
  },
  {
   "cell_type": "code",
   "execution_count": 23,
   "metadata": {
    "vscode": {
     "languageId": "r"
    }
   },
   "outputs": [
    {
     "name": "stdout",
     "output_type": "stream",
     "text": [
      "$type\n",
      "[1] \"cor.bollen\"\n",
      "\n",
      "$cov\n",
      "         prblms intmcy father mother   both\n",
      "problems  0.000                            \n",
      "intimacy -0.010  0.000                     \n",
      "father   -0.086  0.001  0.000              \n",
      "mother   -0.008  0.026  0.003  0.000       \n",
      "both      0.055  0.038  0.006  0.002  0.000\n",
      "\n"
     ]
    }
   ],
   "source": [
    "lavaan::residuals(sabatelliFixed, type = \"cor.bollen\") |> print()"
   ]
  },
  {
   "cell_type": "markdown",
   "metadata": {},
   "source": [
    "Si noti che nessuno dei residui di correlazione assoluti basati sui risultati 2SLS supera lo 0.10, compreso il residuo per la coppia di indicatori \"problems\" e \"father\". In termini di adattamento locale, dunque, in questo esempio i risultati dello stimatore 2SLS sono da preferire rispetto a quelli dello stimatore ML."
   ]
  },
  {
   "cell_type": "markdown",
   "metadata": {},
   "source": [
    "## Considerazioni Conclusive\n",
    "\n",
    "In questo capitolo abbiamo discusso diversi problemi nel contesto della SEM quando le dimensioni del campione sono ridotte e vengono utilizzati metodi di stima standard (massima verosimiglianza), come la mancata convergenza, le soluzioni non ammissibili, il bias, le statistiche di test poco performanti e gli intervalli di confidenza e gli errori standard inaccurati. Come possibili soluzioni per ottenere stime puntuali migliori, {cite:t}`rosseel2020small` presenta quattro approcci alternativi alla stima: la stima della verosimiglianza penalizzata, le variabili strumentali derivanti dal modello, la stima a due fasi e la regressione dei punteggi fattoriali. Solo il primo metodo è stato specificamente progettato per gestire campioni ridotti. Gli altri approcci sono stati sviluppati con altre preoccupazioni in mente, ma potrebbero essere alternative valide per la stima quando le dimensioni del campione sono ridotte.\n",
    "\n",
    "Per quanto riguarda l'inferenza, {cite:t}`rosseel2020small` discute vari tentativi per migliorare le prestazioni della statistica del chi-quadro per valutare l'adattamento globale in presenza di campioni ridotti. Per quanto riguarda gli errori standard, sottolinea che il bootstrapping potrebbe non essere la soluzione che stiamo cercando. Per ottenere errori standard (e intervalli di confidenza) migliori nel contesto di campioni ridotti, {cite:t}`rosseel2020small` ritiene che sia necessario aspettare fino a quando nuove tecnologie saranno disponibili. Altri suggerimenti sono stati forniti da {cite:t}`kline2023principles`. La tecnica del \"parceling\" è stata presentata in relazione alla discussione fornita da {cite:t}`rioux2020item`."
   ]
  },
  {
   "cell_type": "markdown",
   "metadata": {},
   "source": [
    "## Informazioni sull'Ambiente di Sviluppo {.unnumbered}"
   ]
  },
  {
   "cell_type": "code",
   "execution_count": 3,
   "metadata": {
    "vscode": {
     "languageId": "r"
    }
   },
   "outputs": [
    {
     "data": {
      "text/plain": [
       "R version 4.4.1 (2024-06-14)\n",
       "Platform: aarch64-apple-darwin20\n",
       "Running under: macOS 15.0\n",
       "\n",
       "Matrix products: default\n",
       "BLAS:   /Library/Frameworks/R.framework/Versions/4.4-arm64/Resources/lib/libRblas.0.dylib \n",
       "LAPACK: /Library/Frameworks/R.framework/Versions/4.4-arm64/Resources/lib/libRlapack.dylib;  LAPACK version 3.12.0\n",
       "\n",
       "locale:\n",
       "[1] C\n",
       "\n",
       "time zone: Europe/Rome\n",
       "tzcode source: internal\n",
       "\n",
       "attached base packages:\n",
       "[1] stats     graphics  grDevices utils     datasets  methods   base     \n",
       "\n",
       "other attached packages:\n",
       " [1] MIIVsem_0.5.8     lme4_1.1-35.5     Matrix_1.7-0      ggokabeito_0.1.0 \n",
       " [5] viridis_0.6.5     viridisLite_0.4.2 ggpubr_0.6.0      ggExtra_0.10.1   \n",
       " [9] gridExtra_2.3     patchwork_1.3.0   bayesplot_1.11.1  semTools_0.5-6   \n",
       "[13] semPlot_1.1.6     lavaan_0.6-18     psych_2.4.6.26    scales_1.3.0     \n",
       "[17] markdown_1.13     knitr_1.48        lubridate_1.9.3   forcats_1.0.0    \n",
       "[21] stringr_1.5.1     dplyr_1.1.4       purrr_1.0.2       readr_2.1.5      \n",
       "[25] tidyr_1.3.1       tibble_3.2.1      ggplot2_3.5.1     tidyverse_2.0.0  \n",
       "[29] here_1.0.1       \n",
       "\n",
       "loaded via a namespace (and not attached):\n",
       "  [1] rstudioapi_0.16.0  jsonlite_1.8.9     magrittr_2.0.3    \n",
       "  [4] TH.data_1.1-2      estimability_1.5.1 farver_2.1.2      \n",
       "  [7] nloptr_2.1.1       rmarkdown_2.28     vctrs_0.6.5       \n",
       " [10] minqa_1.2.8        base64enc_0.1-3    rstatix_0.7.2     \n",
       " [13] htmltools_0.5.8.1  broom_1.0.6        Formula_1.2-5     \n",
       " [16] htmlwidgets_1.6.4  plyr_1.8.9         sandwich_3.1-1    \n",
       " [19] emmeans_1.10.4     zoo_1.8-12         uuid_1.2-1        \n",
       " [22] igraph_2.0.3       mime_0.12          lifecycle_1.0.4   \n",
       " [25] pkgconfig_2.0.3    R6_2.5.1           fastmap_1.2.0     \n",
       " [28] shiny_1.9.1        digest_0.6.37      OpenMx_2.21.12    \n",
       " [31] fdrtool_1.2.18     colorspace_2.1-1   rprojroot_2.0.4   \n",
       " [34] Hmisc_5.1-3        fansi_1.0.6        timechange_0.3.0  \n",
       " [37] abind_1.4-8        compiler_4.4.1     withr_3.0.1       \n",
       " [40] glasso_1.11        htmlTable_2.4.3    backports_1.5.0   \n",
       " [43] carData_3.0-5      ggsignif_0.6.4     MASS_7.3-61       \n",
       " [46] corpcor_1.6.10     gtools_3.9.5       tools_4.4.1       \n",
       " [49] pbivnorm_0.6.0     foreign_0.8-87     zip_2.3.1         \n",
       " [52] httpuv_1.6.15      nnet_7.3-19        glue_1.7.0        \n",
       " [55] quadprog_1.5-8     promises_1.3.0     nlme_3.1-166      \n",
       " [58] lisrelToR_0.3      grid_4.4.1         pbdZMQ_0.3-13     \n",
       " [61] checkmate_2.3.2    cluster_2.1.6      reshape2_1.4.4    \n",
       " [64] generics_0.1.3     gtable_0.3.5       tzdb_0.4.0        \n",
       " [67] data.table_1.16.0  hms_1.1.3          car_3.1-2         \n",
       " [70] utf8_1.2.4         sem_3.1-16         pillar_1.9.0      \n",
       " [73] IRdisplay_1.1      rockchalk_1.8.157  later_1.3.2       \n",
       " [76] splines_4.4.1      lattice_0.22-6     survival_3.7-0    \n",
       " [79] kutils_1.73        tidyselect_1.2.1   miniUI_0.1.1.1    \n",
       " [82] pbapply_1.7-2      stats4_4.4.1       xfun_0.47         \n",
       " [85] qgraph_1.9.8       arm_1.14-4         stringi_1.8.4     \n",
       " [88] pacman_0.5.1       boot_1.3-31        evaluate_1.0.0    \n",
       " [91] codetools_0.2-20   mi_1.1             cli_3.6.3         \n",
       " [94] RcppParallel_5.1.9 IRkernel_1.3.2     rpart_4.1.23      \n",
       " [97] xtable_1.8-4       repr_1.1.7         munsell_0.5.1     \n",
       "[100] Rcpp_1.0.13        coda_0.19-4.1      png_0.1-8         \n",
       "[103] XML_3.99-0.17      parallel_4.4.1     jpeg_0.1-10       \n",
       "[106] mvtnorm_1.3-1      openxlsx_4.2.7.1   crayon_1.5.3      \n",
       "[109] rlang_1.1.4        multcomp_1.4-26    mnormt_2.1.1      "
      ]
     },
     "metadata": {},
     "output_type": "display_data"
    }
   ],
   "source": [
    "sessionInfo()"
   ]
  }
 ],
 "metadata": {
  "kernelspec": {
   "display_name": "R",
   "language": "R",
   "name": "ir"
  },
  "language_info": {
   "codemirror_mode": "r",
   "file_extension": ".r",
   "mimetype": "text/x-r-source",
   "name": "R",
   "pygments_lexer": "r",
   "version": "4.4.1"
  }
 },
 "nbformat": 4,
 "nbformat_minor": 2
}
