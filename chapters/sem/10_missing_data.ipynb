{
 "cells": [
  {
   "attachments": {},
   "cell_type": "markdown",
   "id": "8127fb74",
   "metadata": {},
   "source": [
    "# Dati mancanti {#sec-sem-missing}"
   ]
  },
  {
   "cell_type": "code",
   "execution_count": 1,
   "id": "eab6ba6c",
   "metadata": {
    "tags": [
     "remove_cell"
    ],
    "vscode": {
     "languageId": "r"
    }
   },
   "outputs": [],
   "source": [
    "source(here::here(\"code\", \"_common.R\"))\n",
    "\n",
    "suppressPackageStartupMessages({\n",
    "    library(\"rio\")\n",
    "    library(\"tidyr\")\n",
    "})"
   ]
  },
  {
   "attachments": {},
   "cell_type": "markdown",
   "id": "abbb71a4",
   "metadata": {},
   "source": [
    "Raramente un ricercatore si trova nella situazione fortunata nella quale un'analisi statistica (di tipo CFA/SEM o altro) può essere condotta utilizzando un set di dati in cui tutte le variabili sono state osservate su tutte le unità statistiche: nella pratica ricerca i dati mancanti sono la norma piuttosto che l'eccezione.\n",
    "\n",
    "## Tipologie di dati mancanti\n",
    "\n",
    "Ci sono molti motivi che possono stare alla base dei dati mancanti. Ad esempio, i dati possono mancare per disegno dello studio (\"mancanza pianificata\"), come ad esempio nei progetti di ricerca in cui i partecipanti al campione vengono selezionati casualmente per completare sottoinsiemi diversi della batteria di valutazione (una scelta di questo tipo viene motivata, ad esempio, a causa di considerazioni pratiche come i vincoli di tempo). In tali condizioni, si presume che i dati mancanti si distribuiscano in un modo completamente casuale rispetto a tutte le altre variabili nello studio. \n",
    "\n",
    "In generale, i meccanismi che determinano la presenza di dati mancanti possono essere classificati in tre categorie:\n",
    "\n",
    "1. *valori mancanti completamente casuali* (*Missing Completely At Random*, MCAR). La probabilità di dati mancanti su una variabile non è collegata né al valore mancante sulla variabile, né al valore di ogni altra variabile presente nella matrice dati che si sta analizzando;\n",
    "2. *valori mancanti casuali* (*Missing At Random*, MAR). I valori mancanti sono indipendenti dal valore che viene a mancare, ma dipendono da altre variabili, cioè i dati sulla variabile sono mancanti per categorie di partecipanti che potrebbero essere identificati dai valori assunti dalle altre variabili presenti nello studio;\n",
    "3. *valori mancanti non ignorabili* (*Missing Not At Random*, MNAR). La mancanza di un dato può dipendere sia dal valore del dato stesso che dalle altre variabili. Per esempio, se si studia la salute mentale e le persone depresse riferiscono meno volentieri informazioni riguardanti il loro stato di salute, allora i dati non sono mancanti per caso.\n",
    "\n",
    "## La gestione dei dati mancanti\n",
    "\n",
    "Il passo successivo dopo la definizione dei meccanismi è quello della gestione dei dati mancanti. Sostanzialmente le scelte possibili sono due: l'eliminazione dei casi o la sostituzione dei dati mancanti. Un metodo semplice, indicato solo nel caso in cui l'ammontare dei dati mancanti è limitato e questi sono mancanti completamente a caso (MCAR), è quello di rimuovere i casi con dati mancanti (*case deletion*). \n",
    "\n",
    "Ci sono due metodi per eliminare le osservazioni con valori mancanti: *listwise deletion* e *pairwise deletion*. Nel primo caso si elimina dal campione ogni osservazione che contiene dati mancanti. Le analisi avverranno quindi solo sui casi che hanno valori validi su tutte le variabili in esame. In questo modo si ottiene una maggiore semplicità di trattazione nell'analisi statistica, tuttavia non si utilizza tutta l'informazione osservata (si riduce la numerosità campionaria e, quindi, l'informazione). Il secondo metodo è la *pairwise deletio*n, che utilizza tutti i casi che hanno i dati validi su due variabili volta per volta. In questo modo si riesce a massimizzare la numerosità del campione da utilizzare, ma si tratta comunque di un metodo che presenta dei problemi, per esempio il fatto che con questo approccio i parametri del modello saranno basati su differenti insiemi di dati, con differenti numerosità campionarie e differenti errori standard.\n",
    "\n",
    "Quando i dati non sono MNAR è opportuno sostituirli con appropriate funzioni dei dati effettivamente osservati. Questa procedura è chiamata imputazione (*imputation*). Di seguito sono indicati alcuni metodi.\n",
    "\n",
    "1. *Mean Imputation*. Il dato mancante viene sostituito con la media della variabile. Questo metodo, utilizzato troppo spesso per la sua semplicità, riducendo la variabilità dei dati, ha effetti importanti su molte analisi dei dati e, in generale, dovrebbe essere evitato.\n",
    "2. *Regression Imputation*. Si tratta di un approccio basato sulle informazioni disponibili sulle altre variabili. Si stima una equazione di regressione lineare per ogni variabile utilizzando le altre variabili come predittori. Questo metodo offre il vantaggio di poter utilizzare i rapporti esistenti tra le variabili per effettuare le valutazioni dei dati mancanti; tuttavia esso è usato raramente, in quanto amplifica le correlazioni tra le variabili; quindi, se le analisi si basano su regressioni o modelli SEM, questo metodo è sconsigliato.\n",
    "3. *Multiple Imputation*. La tecnica di multiple imputation, applicabile in caso di MAR, prevede che un dato mancante su una variabile sia sostituito, sulla base dei dati esistenti sulle altre variabili, con un valore che però comprende anche una componente di errore ricavata dalla distribuzione dei residui della variabile. \n",
    "4. *Expectation-Maximization*. Un altro approccio moderno del trattamento dei dati mancanti è l'applicazione dell'algoritmo Expectation Maximization (EM). La tecnica è quella di stimare i parametri sulla base dei dati osservati, e di stimare poi i dati mancanti sulla base di questi parametri (fase E). Poi i parametri vengono nuovamente stimati sulla base della nuova matrice di dati (fase M), e così via. Questo processo viene iterato fino a quando i valori stimati convergono. Tuttavia, una limitazione fondamentale dell'utilizzo dell'algoritmo EM per calcolare le matrici di input per le analisi CFA/SEM è che gli errori standard risultanti delle stime dei parametri non sono consistenti. Pertanto, gli intervalli di confidenza e i test di significatività possono risultare compromessi. \n",
    "\n",
    "### Metodo Direct ML\n",
    "\n",
    "Benché i metodi precedenti vengano spesso usati,  nella pratica concreta è preferibile usare il metodo *Direct ML*, conosciuto anche come \"raw ML\" o \"full information ML\" (FIML), in quanto è generalmente considerano come il metodo migliore per gestire i dati mancanti nella maggior parte delle applicazioni CFA e SEM. Il metodo *full information ML* è esente dai problemi associati all'utilizzo dell'algoritmo EM e produce stime consistenti sotto l'ipotesi di normalità multivariata per dati mancanti MAR. \n",
    "\n",
    "Intuitivamente, l'approccio utilizza la relazione tra le variabili per dedurre quali siano i valori mancanti con maggiore probabilità. Ad esempio, se due variabili, $X$ e $Y$, sono correlate positivamente, allora se, per alcune osservazioni $i$, $X_i$ è il valore più alto nella variabile, è probabile che anche il valore mancante $Y_i$ sia un valore alto. FIML utilizza queste informazioni senza procedere all'imputazione dei valori mancanti, ma invece basandosi sulle stime più verosimili dei parametri della popolazione, ovvero massimizzando direttamente la verosimiglianza del modello specificato. Sotto l'assunzione di normalità multivariata, la funzione di verosimiglianza diventa\n",
    "\n",
    "$$\n",
    "L(\\mu, \\Sigma) = \\prod_i f(y_i \\mid \\mu_i, \\Sigma_i),\n",
    "$$\n",
    "\n",
    "dove $y_i$ sono i dati, $\\mu_i$ e $\\Sigma_i$ sono i parametri della popolazione se gli elementi mancanti in $y_i$ vengono rimossi. Si cercano i valori $\\mu$ e $\\Sigma$ che massimizzano la verosimiglianza.\n",
    "\n",
    "In `lavaan` l'applicazione di tale metodo si ottiene specificando l'argomento `missing = \"ml\"`.\n",
    "\n",
    "### Un esempio concreto\n",
    "\n",
    "Per applicare il metodo *direct ML*, {cite:t}`brown2015confirmatory` prende in esame i dati reali di un questionario (un singolo fattore, quattro item, una covarianza di errore) caratterizzato dalla presenza di dati mancanti. Importiamo i dati in R:"
   ]
  },
  {
   "cell_type": "code",
   "execution_count": 2,
   "id": "2d0fb46c",
   "metadata": {
    "vscode": {
     "languageId": "r"
    }
   },
   "outputs": [
    {
     "data": {
      "text/html": [
       "<table class=\"dataframe\">\n",
       "<caption>A data.frame: 6 x 5</caption>\n",
       "<thead>\n",
       "\t<tr><th></th><th scope=col>subject</th><th scope=col>s1</th><th scope=col>s2</th><th scope=col>s3</th><th scope=col>s4</th></tr>\n",
       "\t<tr><th></th><th scope=col>&lt;int&gt;</th><th scope=col>&lt;int&gt;</th><th scope=col>&lt;int&gt;</th><th scope=col>&lt;int&gt;</th><th scope=col>&lt;int&gt;</th></tr>\n",
       "</thead>\n",
       "<tbody>\n",
       "\t<tr><th scope=row>1</th><td>5760</td><td>2</td><td>0</td><td>1</td><td>NA</td></tr>\n",
       "\t<tr><th scope=row>2</th><td>5761</td><td>3</td><td>3</td><td>3</td><td>NA</td></tr>\n",
       "\t<tr><th scope=row>3</th><td>5763</td><td>2</td><td>4</td><td>4</td><td>NA</td></tr>\n",
       "\t<tr><th scope=row>4</th><td>5761</td><td>2</td><td>0</td><td>0</td><td>NA</td></tr>\n",
       "\t<tr><th scope=row>5</th><td>5769</td><td>2</td><td>1</td><td>1</td><td>NA</td></tr>\n",
       "\t<tr><th scope=row>6</th><td>5771</td><td>4</td><td>3</td><td>3</td><td>NA</td></tr>\n",
       "</tbody>\n",
       "</table>\n"
      ],
      "text/latex": [
       "A data.frame: 6 x 5\n",
       "\\begin{tabular}{r|lllll}\n",
       "  & subject & s1 & s2 & s3 & s4\\\\\n",
       "  & <int> & <int> & <int> & <int> & <int>\\\\\n",
       "\\hline\n",
       "\t1 & 5760 & 2 & 0 & 1 & NA\\\\\n",
       "\t2 & 5761 & 3 & 3 & 3 & NA\\\\\n",
       "\t3 & 5763 & 2 & 4 & 4 & NA\\\\\n",
       "\t4 & 5761 & 2 & 0 & 0 & NA\\\\\n",
       "\t5 & 5769 & 2 & 1 & 1 & NA\\\\\n",
       "\t6 & 5771 & 4 & 3 & 3 & NA\\\\\n",
       "\\end{tabular}\n"
      ],
      "text/markdown": [
       "\n",
       "A data.frame: 6 x 5\n",
       "\n",
       "| <!--/--> | subject &lt;int&gt; | s1 &lt;int&gt; | s2 &lt;int&gt; | s3 &lt;int&gt; | s4 &lt;int&gt; |\n",
       "|---|---|---|---|---|---|\n",
       "| 1 | 5760 | 2 | 0 | 1 | NA |\n",
       "| 2 | 5761 | 3 | 3 | 3 | NA |\n",
       "| 3 | 5763 | 2 | 4 | 4 | NA |\n",
       "| 4 | 5761 | 2 | 0 | 0 | NA |\n",
       "| 5 | 5769 | 2 | 1 | 1 | NA |\n",
       "| 6 | 5771 | 4 | 3 | 3 | NA |\n",
       "\n"
      ],
      "text/plain": [
       "  subject s1 s2 s3 s4\n",
       "1 5760    2  0  1  NA\n",
       "2 5761    3  3  3  NA\n",
       "3 5763    2  4  4  NA\n",
       "4 5761    2  0  0  NA\n",
       "5 5769    2  1  1  NA\n",
       "6 5771    4  3  3  NA"
      ]
     },
     "metadata": {},
     "output_type": "display_data"
    }
   ],
   "source": [
    "d <- rio::import(here::here(\"data\", \"brown_table_9_1.csv\"))\n",
    "head(d)"
   ]
  },
  {
   "cell_type": "markdown",
   "id": "a42b474f",
   "metadata": {},
   "source": [
    "Abbiamo 650 osservazioni:"
   ]
  },
  {
   "cell_type": "code",
   "execution_count": 3,
   "id": "7a75b5be",
   "metadata": {
    "vscode": {
     "languageId": "r"
    }
   },
   "outputs": [
    {
     "data": {
      "text/html": [
       "<style>\n",
       ".list-inline {list-style: none; margin:0; padding: 0}\n",
       ".list-inline>li {display: inline-block}\n",
       ".list-inline>li:not(:last-child)::after {content: \"\\00b7\"; padding: 0 .5ex}\n",
       "</style>\n",
       "<ol class=list-inline><li>650</li><li>5</li></ol>\n"
      ],
      "text/latex": [
       "\\begin{enumerate*}\n",
       "\\item 650\n",
       "\\item 5\n",
       "\\end{enumerate*}\n"
      ],
      "text/markdown": [
       "1. 650\n",
       "2. 5\n",
       "\n",
       "\n"
      ],
      "text/plain": [
       "[1] 650   5"
      ]
     },
     "metadata": {},
     "output_type": "display_data"
    }
   ],
   "source": [
    "dim(d)"
   ]
  },
  {
   "cell_type": "markdown",
   "id": "c16ed974",
   "metadata": {},
   "source": [
    "Le frequenze di dati mancanti vengono ottentute mediante la funzione `summary()`"
   ]
  },
  {
   "cell_type": "code",
   "execution_count": 4,
   "id": "853bdbb1",
   "metadata": {
    "vscode": {
     "languageId": "r"
    }
   },
   "outputs": [
    {
     "data": {
      "text/plain": [
       "    subject           s1              s2              s3              s4       \n",
       " Min.   :5756   Min.   :0.000   Min.   :0.000   Min.   :0.000   Min.   :0.000  \n",
       " 1st Qu.:5934   1st Qu.:2.000   1st Qu.:2.000   1st Qu.:1.000   1st Qu.:2.000  \n",
       " Median :6102   Median :3.000   Median :3.000   Median :2.000   Median :3.000  \n",
       " Mean   :6104   Mean   :2.926   Mean   :2.563   Mean   :2.208   Mean   :2.404  \n",
       " 3rd Qu.:6275   3rd Qu.:4.000   3rd Qu.:4.000   3rd Qu.:4.000   3rd Qu.:3.000  \n",
       " Max.   :6451   Max.   :4.000   Max.   :4.000   Max.   :4.000   Max.   :4.000  \n",
       "                NA's   :25      NA's   :25      NA's   :25      NA's   :190    "
      ]
     },
     "metadata": {},
     "output_type": "display_data"
    }
   ],
   "source": [
    "summary(d)"
   ]
  },
  {
   "attachments": {},
   "cell_type": "markdown",
   "id": "287c0220",
   "metadata": {},
   "source": [
    "Il modello viene specificato come segue {cite:p}`brown2015confirmatory`:"
   ]
  },
  {
   "cell_type": "code",
   "execution_count": 5,
   "id": "6b837585",
   "metadata": {
    "vscode": {
     "languageId": "r"
    }
   },
   "outputs": [],
   "source": [
    "model <- '\n",
    "  esteem =~ s1 + s2 + s3 + s4\n",
    "  s2 ~~ s4\n",
    "'"
   ]
  },
  {
   "attachments": {},
   "cell_type": "markdown",
   "id": "86f497d9",
   "metadata": {},
   "source": [
    "Adattiamo il modello ai dati specificanto l'utilizzo del metodo *full information ML* per la gestione dei dati mancanti:"
   ]
  },
  {
   "cell_type": "code",
   "execution_count": 6,
   "id": "68277e96",
   "metadata": {
    "vscode": {
     "languageId": "r"
    }
   },
   "outputs": [],
   "source": [
    "fit <- cfa(model, data = d, missing = \"fiml\")"
   ]
  },
  {
   "attachments": {},
   "cell_type": "markdown",
   "id": "c22d83b4",
   "metadata": {},
   "source": [
    "È possibile identificare le configurazioni di risposte agli item che contengono dati mancanti:"
   ]
  },
  {
   "cell_type": "code",
   "execution_count": 7,
   "id": "40766926",
   "metadata": {
    "vscode": {
     "languageId": "r"
    }
   },
   "outputs": [
    {
     "data": {
      "text/html": [
       "5"
      ],
      "text/latex": [
       "5"
      ],
      "text/markdown": [
       "5"
      ],
      "text/plain": [
       "[1] 5"
      ]
     },
     "metadata": {},
     "output_type": "display_data"
    }
   ],
   "source": [
    "fit@Data@Mp[[1]]$npatterns"
   ]
  },
  {
   "cell_type": "code",
   "execution_count": 8,
   "id": "ec0e0f0a",
   "metadata": {
    "vscode": {
     "languageId": "r"
    }
   },
   "outputs": [
    {
     "name": "stdout",
     "output_type": "stream",
     "text": [
      "     s1 s2 s3 s4\n",
      "[1,]  1  1  1  1\n",
      "[2,]  1  1  1  0\n",
      "[3,]  0  1  1  1\n",
      "[4,]  1  0  1  1\n",
      "[5,]  1  1  0  1\n"
     ]
    }
   ],
   "source": [
    "pats <- fit@Data@Mp[[1]]$pat * 1L\n",
    "colnames(pats) <- fit@Data@ov.names[[1]]\n",
    "print(pats)"
   ]
  },
  {
   "attachments": {},
   "cell_type": "markdown",
   "id": "829e23de",
   "metadata": {},
   "source": [
    "Possiamo esaminare la proporzione di dati disponibili per ciascun indicatore e per ciascuna coppia di indicatori: "
   ]
  },
  {
   "cell_type": "code",
   "execution_count": 9,
   "id": "45c40118",
   "metadata": {
    "vscode": {
     "languageId": "r"
    }
   },
   "outputs": [
    {
     "name": "stdout",
     "output_type": "stream",
     "text": [
      "          s1        s2        s3        s4\n",
      "s1 0.9615385 0.9230769 0.9230769 0.6692308\n",
      "s2 0.9230769 0.9615385 0.9230769 0.6692308\n",
      "s3 0.9230769 0.9230769 0.9615385 0.6692308\n",
      "s4 0.6692308 0.6692308 0.6692308 0.7076923\n"
     ]
    }
   ],
   "source": [
    "coverage <- fit@Data@Mp[[1]]$coverage\n",
    "colnames(coverage) <- rownames(coverage) <- fit@Data@ov.names[[1]]\n",
    "print(coverage)"
   ]
  },
  {
   "attachments": {},
   "cell_type": "markdown",
   "id": "daaa46af",
   "metadata": {},
   "source": [
    "Ad esempio, consideriamo l'item `s1`; se moltiplichiamo la copertura di questo elemento per la numerosità campionaria possiamo concludere che questa variabile contiene 25 osservazioni mancanti; e così via."
   ]
  },
  {
   "cell_type": "code",
   "execution_count": 29,
   "id": "3af42d23",
   "metadata": {
    "vscode": {
     "languageId": "r"
    }
   },
   "outputs": [
    {
     "data": {
      "text/html": [
       "625.000025"
      ],
      "text/latex": [
       "625.000025"
      ],
      "text/markdown": [
       "625.000025"
      ],
      "text/plain": [
       "[1] 625"
      ]
     },
     "metadata": {},
     "output_type": "display_data"
    }
   ],
   "source": [
    "650 * 0.9615385"
   ]
  },
  {
   "attachments": {},
   "cell_type": "markdown",
   "id": "22edc5e4",
   "metadata": {},
   "source": [
    "Procediamo poi come sempre per esaminare la soluzione ottenuta."
   ]
  },
  {
   "cell_type": "code",
   "execution_count": 10,
   "id": "1b779413",
   "metadata": {
    "vscode": {
     "languageId": "r"
    }
   },
   "outputs": [
    {
     "data": {
      "text/html": [
       "<table class=\"dataframe\">\n",
       "<caption>A data.frame: 10 x 4</caption>\n",
       "<thead>\n",
       "\t<tr><th scope=col>Name</th><th scope=col>Value</th><th scope=col>Threshold</th><th scope=col>Interpretation</th></tr>\n",
       "\t<tr><th scope=col>&lt;chr&gt;</th><th scope=col>&lt;dbl&gt;</th><th scope=col>&lt;dbl&gt;</th><th scope=col>&lt;effctsz_&gt;</th></tr>\n",
       "</thead>\n",
       "<tbody>\n",
       "\t<tr><td>GFI  </td><td>0.999449432</td><td>0.95</td><td>satisfactory</td></tr>\n",
       "\t<tr><td>AGFI </td><td>0.992292047</td><td>0.90</td><td>satisfactory</td></tr>\n",
       "\t<tr><td>NFI  </td><td>0.999192581</td><td>0.90</td><td>satisfactory</td></tr>\n",
       "\t<tr><td>NNFI </td><td>0.998977535</td><td>0.90</td><td>satisfactory</td></tr>\n",
       "\t<tr><td>CFI  </td><td>0.999829589</td><td>0.90</td><td>satisfactory</td></tr>\n",
       "\t<tr><td>RMSEA</td><td>0.020237880</td><td>0.05</td><td>satisfactory</td></tr>\n",
       "\t<tr><td>SRMR </td><td>0.004853126</td><td>0.08</td><td>satisfactory</td></tr>\n",
       "\t<tr><td>RFI  </td><td>0.995155487</td><td>0.90</td><td>satisfactory</td></tr>\n",
       "\t<tr><td>PNFI </td><td>0.166532097</td><td>0.50</td><td>poor        </td></tr>\n",
       "\t<tr><td>IFI  </td><td>0.999830133</td><td>0.90</td><td>satisfactory</td></tr>\n",
       "</tbody>\n",
       "</table>\n"
      ],
      "text/latex": [
       "A data.frame: 10 x 4\n",
       "\\begin{tabular}{llll}\n",
       " Name & Value & Threshold & Interpretation\\\\\n",
       " <chr> & <dbl> & <dbl> & <effctsz\\_>\\\\\n",
       "\\hline\n",
       "\t GFI   & 0.999449432 & 0.95 & satisfactory\\\\\n",
       "\t AGFI  & 0.992292047 & 0.90 & satisfactory\\\\\n",
       "\t NFI   & 0.999192581 & 0.90 & satisfactory\\\\\n",
       "\t NNFI  & 0.998977535 & 0.90 & satisfactory\\\\\n",
       "\t CFI   & 0.999829589 & 0.90 & satisfactory\\\\\n",
       "\t RMSEA & 0.020237880 & 0.05 & satisfactory\\\\\n",
       "\t SRMR  & 0.004853126 & 0.08 & satisfactory\\\\\n",
       "\t RFI   & 0.995155487 & 0.90 & satisfactory\\\\\n",
       "\t PNFI  & 0.166532097 & 0.50 & poor        \\\\\n",
       "\t IFI   & 0.999830133 & 0.90 & satisfactory\\\\\n",
       "\\end{tabular}\n"
      ],
      "text/markdown": [
       "\n",
       "A data.frame: 10 x 4\n",
       "\n",
       "| Name &lt;chr&gt; | Value &lt;dbl&gt; | Threshold &lt;dbl&gt; | Interpretation &lt;effctsz_&gt; |\n",
       "|---|---|---|---|\n",
       "| GFI   | 0.999449432 | 0.95 | satisfactory |\n",
       "| AGFI  | 0.992292047 | 0.90 | satisfactory |\n",
       "| NFI   | 0.999192581 | 0.90 | satisfactory |\n",
       "| NNFI  | 0.998977535 | 0.90 | satisfactory |\n",
       "| CFI   | 0.999829589 | 0.90 | satisfactory |\n",
       "| RMSEA | 0.020237880 | 0.05 | satisfactory |\n",
       "| SRMR  | 0.004853126 | 0.08 | satisfactory |\n",
       "| RFI   | 0.995155487 | 0.90 | satisfactory |\n",
       "| PNFI  | 0.166532097 | 0.50 | poor         |\n",
       "| IFI   | 0.999830133 | 0.90 | satisfactory |\n",
       "\n"
      ],
      "text/plain": [
       "   Name  Value       Threshold Interpretation\n",
       "1  GFI   0.999449432 0.95      satisfactory  \n",
       "2  AGFI  0.992292047 0.90      satisfactory  \n",
       "3  NFI   0.999192581 0.90      satisfactory  \n",
       "4  NNFI  0.998977535 0.90      satisfactory  \n",
       "5  CFI   0.999829589 0.90      satisfactory  \n",
       "6  RMSEA 0.020237880 0.05      satisfactory  \n",
       "7  SRMR  0.004853126 0.08      satisfactory  \n",
       "8  RFI   0.995155487 0.90      satisfactory  \n",
       "9  PNFI  0.166532097 0.50      poor          \n",
       "10 IFI   0.999830133 0.90      satisfactory  "
      ]
     },
     "metadata": {},
     "output_type": "display_data"
    }
   ],
   "source": [
    "effectsize::interpret(fit)"
   ]
  },
  {
   "cell_type": "code",
   "execution_count": 11,
   "id": "dc758238",
   "metadata": {
    "vscode": {
     "languageId": "r"
    }
   },
   "outputs": [
    {
     "data": {
      "text/html": [
       "<table class=\"dataframe\">\n",
       "<caption>A lavaan.data.frame: 15 x 9</caption>\n",
       "<thead>\n",
       "\t<tr><th scope=col>lhs</th><th scope=col>op</th><th scope=col>rhs</th><th scope=col>est.std</th><th scope=col>se</th><th scope=col>z</th><th scope=col>pvalue</th><th scope=col>ci.lower</th><th scope=col>ci.upper</th></tr>\n",
       "\t<tr><th scope=col>&lt;chr&gt;</th><th scope=col>&lt;chr&gt;</th><th scope=col>&lt;chr&gt;</th><th scope=col>&lt;dbl&gt;</th><th scope=col>&lt;dbl&gt;</th><th scope=col>&lt;dbl&gt;</th><th scope=col>&lt;dbl&gt;</th><th scope=col>&lt;dbl&gt;</th><th scope=col>&lt;dbl&gt;</th></tr>\n",
       "</thead>\n",
       "<tbody>\n",
       "\t<tr><td>esteem</td><td>=~</td><td>s1    </td><td> 0.7374475</td><td>0.01988465</td><td>37.086269</td><td>0.000000e+00</td><td> 0.6984743</td><td> 0.7764207</td></tr>\n",
       "\t<tr><td>esteem</td><td>=~</td><td>s2    </td><td> 0.9204499</td><td>0.01340775</td><td>68.650574</td><td>0.000000e+00</td><td> 0.8941712</td><td> 0.9467286</td></tr>\n",
       "\t<tr><td>esteem</td><td>=~</td><td>s3    </td><td> 0.8804116</td><td>0.01325286</td><td>66.431820</td><td>0.000000e+00</td><td> 0.8544365</td><td> 0.9063867</td></tr>\n",
       "\t<tr><td>esteem</td><td>=~</td><td>s4    </td><td> 0.9045975</td><td>0.01632859</td><td>55.399610</td><td>0.000000e+00</td><td> 0.8725941</td><td> 0.9366010</td></tr>\n",
       "\t<tr><td>s2    </td><td>~~</td><td>s4    </td><td>-0.8859917</td><td>0.21560986</td><td>-4.109236</td><td>3.969709e-05</td><td>-1.3085793</td><td>-0.4634042</td></tr>\n",
       "\t<tr><td>s1    </td><td>~~</td><td>s1    </td><td> 0.4561711</td><td>0.02932777</td><td>15.554237</td><td>0.000000e+00</td><td> 0.3986898</td><td> 0.5136525</td></tr>\n",
       "\t<tr><td>s2    </td><td>~~</td><td>s2    </td><td> 0.1527720</td><td>0.02468233</td><td> 6.189531</td><td>6.034349e-10</td><td> 0.1043956</td><td> 0.2011485</td></tr>\n",
       "\t<tr><td>s3    </td><td>~~</td><td>s3    </td><td> 0.2248754</td><td>0.02333594</td><td> 9.636441</td><td>0.000000e+00</td><td> 0.1791378</td><td> 0.2706130</td></tr>\n",
       "\t<tr><td>s4    </td><td>~~</td><td>s4    </td><td> 0.1817033</td><td>0.02954160</td><td> 6.150760</td><td>7.711243e-10</td><td> 0.1238028</td><td> 0.2396038</td></tr>\n",
       "\t<tr><td>esteem</td><td>~~</td><td>esteem</td><td> 1.0000000</td><td>0.00000000</td><td>       NA</td><td>          NA</td><td> 1.0000000</td><td> 1.0000000</td></tr>\n",
       "\t<tr><td>s1    </td><td>~1</td><td>      </td><td> 2.3753651</td><td>0.07760125</td><td>30.609882</td><td>0.000000e+00</td><td> 2.2232695</td><td> 2.5274608</td></tr>\n",
       "\t<tr><td>s2    </td><td>~1</td><td>      </td><td> 1.8809244</td><td>0.06578470</td><td>28.592125</td><td>0.000000e+00</td><td> 1.7519887</td><td> 2.0098600</td></tr>\n",
       "\t<tr><td>s3    </td><td>~1</td><td>      </td><td> 1.5838240</td><td>0.05914055</td><td>26.780676</td><td>0.000000e+00</td><td> 1.4679106</td><td> 1.6997373</td></tr>\n",
       "\t<tr><td>s4    </td><td>~1</td><td>      </td><td> 1.8496616</td><td>0.07101084</td><td>26.047595</td><td>0.000000e+00</td><td> 1.7104829</td><td> 1.9888403</td></tr>\n",
       "\t<tr><td>esteem</td><td>~1</td><td>      </td><td> 0.0000000</td><td>0.00000000</td><td>       NA</td><td>          NA</td><td> 0.0000000</td><td> 0.0000000</td></tr>\n",
       "</tbody>\n",
       "</table>\n"
      ],
      "text/latex": [
       "A lavaan.data.frame: 15 x 9\n",
       "\\begin{tabular}{lllllllll}\n",
       " lhs & op & rhs & est.std & se & z & pvalue & ci.lower & ci.upper\\\\\n",
       " <chr> & <chr> & <chr> & <dbl> & <dbl> & <dbl> & <dbl> & <dbl> & <dbl>\\\\\n",
       "\\hline\n",
       "\t esteem & =\\textasciitilde{} & s1     &  0.7374475 & 0.01988465 & 37.086269 & 0.000000e+00 &  0.6984743 &  0.7764207\\\\\n",
       "\t esteem & =\\textasciitilde{} & s2     &  0.9204499 & 0.01340775 & 68.650574 & 0.000000e+00 &  0.8941712 &  0.9467286\\\\\n",
       "\t esteem & =\\textasciitilde{} & s3     &  0.8804116 & 0.01325286 & 66.431820 & 0.000000e+00 &  0.8544365 &  0.9063867\\\\\n",
       "\t esteem & =\\textasciitilde{} & s4     &  0.9045975 & 0.01632859 & 55.399610 & 0.000000e+00 &  0.8725941 &  0.9366010\\\\\n",
       "\t s2     & \\textasciitilde{}\\textasciitilde{} & s4     & -0.8859917 & 0.21560986 & -4.109236 & 3.969709e-05 & -1.3085793 & -0.4634042\\\\\n",
       "\t s1     & \\textasciitilde{}\\textasciitilde{} & s1     &  0.4561711 & 0.02932777 & 15.554237 & 0.000000e+00 &  0.3986898 &  0.5136525\\\\\n",
       "\t s2     & \\textasciitilde{}\\textasciitilde{} & s2     &  0.1527720 & 0.02468233 &  6.189531 & 6.034349e-10 &  0.1043956 &  0.2011485\\\\\n",
       "\t s3     & \\textasciitilde{}\\textasciitilde{} & s3     &  0.2248754 & 0.02333594 &  9.636441 & 0.000000e+00 &  0.1791378 &  0.2706130\\\\\n",
       "\t s4     & \\textasciitilde{}\\textasciitilde{} & s4     &  0.1817033 & 0.02954160 &  6.150760 & 7.711243e-10 &  0.1238028 &  0.2396038\\\\\n",
       "\t esteem & \\textasciitilde{}\\textasciitilde{} & esteem &  1.0000000 & 0.00000000 &        NA &           NA &  1.0000000 &  1.0000000\\\\\n",
       "\t s1     & \\textasciitilde{}1 &        &  2.3753651 & 0.07760125 & 30.609882 & 0.000000e+00 &  2.2232695 &  2.5274608\\\\\n",
       "\t s2     & \\textasciitilde{}1 &        &  1.8809244 & 0.06578470 & 28.592125 & 0.000000e+00 &  1.7519887 &  2.0098600\\\\\n",
       "\t s3     & \\textasciitilde{}1 &        &  1.5838240 & 0.05914055 & 26.780676 & 0.000000e+00 &  1.4679106 &  1.6997373\\\\\n",
       "\t s4     & \\textasciitilde{}1 &        &  1.8496616 & 0.07101084 & 26.047595 & 0.000000e+00 &  1.7104829 &  1.9888403\\\\\n",
       "\t esteem & \\textasciitilde{}1 &        &  0.0000000 & 0.00000000 &        NA &           NA &  0.0000000 &  0.0000000\\\\\n",
       "\\end{tabular}\n"
      ],
      "text/markdown": [
       "\n",
       "A lavaan.data.frame: 15 x 9\n",
       "\n",
       "| lhs &lt;chr&gt; | op &lt;chr&gt; | rhs &lt;chr&gt; | est.std &lt;dbl&gt; | se &lt;dbl&gt; | z &lt;dbl&gt; | pvalue &lt;dbl&gt; | ci.lower &lt;dbl&gt; | ci.upper &lt;dbl&gt; |\n",
       "|---|---|---|---|---|---|---|---|---|\n",
       "| esteem | =~ | s1     |  0.7374475 | 0.01988465 | 37.086269 | 0.000000e+00 |  0.6984743 |  0.7764207 |\n",
       "| esteem | =~ | s2     |  0.9204499 | 0.01340775 | 68.650574 | 0.000000e+00 |  0.8941712 |  0.9467286 |\n",
       "| esteem | =~ | s3     |  0.8804116 | 0.01325286 | 66.431820 | 0.000000e+00 |  0.8544365 |  0.9063867 |\n",
       "| esteem | =~ | s4     |  0.9045975 | 0.01632859 | 55.399610 | 0.000000e+00 |  0.8725941 |  0.9366010 |\n",
       "| s2     | ~~ | s4     | -0.8859917 | 0.21560986 | -4.109236 | 3.969709e-05 | -1.3085793 | -0.4634042 |\n",
       "| s1     | ~~ | s1     |  0.4561711 | 0.02932777 | 15.554237 | 0.000000e+00 |  0.3986898 |  0.5136525 |\n",
       "| s2     | ~~ | s2     |  0.1527720 | 0.02468233 |  6.189531 | 6.034349e-10 |  0.1043956 |  0.2011485 |\n",
       "| s3     | ~~ | s3     |  0.2248754 | 0.02333594 |  9.636441 | 0.000000e+00 |  0.1791378 |  0.2706130 |\n",
       "| s4     | ~~ | s4     |  0.1817033 | 0.02954160 |  6.150760 | 7.711243e-10 |  0.1238028 |  0.2396038 |\n",
       "| esteem | ~~ | esteem |  1.0000000 | 0.00000000 |        NA |           NA |  1.0000000 |  1.0000000 |\n",
       "| s1     | ~1 | <!----> |  2.3753651 | 0.07760125 | 30.609882 | 0.000000e+00 |  2.2232695 |  2.5274608 |\n",
       "| s2     | ~1 | <!----> |  1.8809244 | 0.06578470 | 28.592125 | 0.000000e+00 |  1.7519887 |  2.0098600 |\n",
       "| s3     | ~1 | <!----> |  1.5838240 | 0.05914055 | 26.780676 | 0.000000e+00 |  1.4679106 |  1.6997373 |\n",
       "| s4     | ~1 | <!----> |  1.8496616 | 0.07101084 | 26.047595 | 0.000000e+00 |  1.7104829 |  1.9888403 |\n",
       "| esteem | ~1 | <!----> |  0.0000000 | 0.00000000 |        NA |           NA |  0.0000000 |  0.0000000 |\n",
       "\n"
      ],
      "text/plain": [
       "   lhs    op rhs    est.std    se         z         pvalue       ci.lower  \n",
       "1  esteem =~ s1      0.7374475 0.01988465 37.086269 0.000000e+00  0.6984743\n",
       "2  esteem =~ s2      0.9204499 0.01340775 68.650574 0.000000e+00  0.8941712\n",
       "3  esteem =~ s3      0.8804116 0.01325286 66.431820 0.000000e+00  0.8544365\n",
       "4  esteem =~ s4      0.9045975 0.01632859 55.399610 0.000000e+00  0.8725941\n",
       "5  s2     ~~ s4     -0.8859917 0.21560986 -4.109236 3.969709e-05 -1.3085793\n",
       "6  s1     ~~ s1      0.4561711 0.02932777 15.554237 0.000000e+00  0.3986898\n",
       "7  s2     ~~ s2      0.1527720 0.02468233  6.189531 6.034349e-10  0.1043956\n",
       "8  s3     ~~ s3      0.2248754 0.02333594  9.636441 0.000000e+00  0.1791378\n",
       "9  s4     ~~ s4      0.1817033 0.02954160  6.150760 7.711243e-10  0.1238028\n",
       "10 esteem ~~ esteem  1.0000000 0.00000000        NA           NA  1.0000000\n",
       "11 s1     ~1         2.3753651 0.07760125 30.609882 0.000000e+00  2.2232695\n",
       "12 s2     ~1         1.8809244 0.06578470 28.592125 0.000000e+00  1.7519887\n",
       "13 s3     ~1         1.5838240 0.05914055 26.780676 0.000000e+00  1.4679106\n",
       "14 s4     ~1         1.8496616 0.07101084 26.047595 0.000000e+00  1.7104829\n",
       "15 esteem ~1         0.0000000 0.00000000        NA           NA  0.0000000\n",
       "   ci.upper  \n",
       "1   0.7764207\n",
       "2   0.9467286\n",
       "3   0.9063867\n",
       "4   0.9366010\n",
       "5  -0.4634042\n",
       "6   0.5136525\n",
       "7   0.2011485\n",
       "8   0.2706130\n",
       "9   0.2396038\n",
       "10  1.0000000\n",
       "11  2.5274608\n",
       "12  2.0098600\n",
       "13  1.6997373\n",
       "14  1.9888403\n",
       "15  0.0000000"
      ]
     },
     "metadata": {},
     "output_type": "display_data"
    }
   ],
   "source": [
    "standardizedSolution(fit)"
   ]
  },
  {
   "attachments": {},
   "cell_type": "markdown",
   "id": "903269cf",
   "metadata": {},
   "source": [
    "## Dati mancanti in R\n",
    "\n",
    "Concludiamo il capitolo con qualche breve accenno alla gestione dei dati mancanti in `R`.\n",
    "\n",
    "In R, i valori mancanti vengono indicati dal codice `NA`, che significa *not available* — non disponibile. \n",
    "\n",
    "Se una variabile contiene valori mancanti, `R` non è in grado di applicare ad essa alcune funzioni, come ad esempio la media. Per questa ragione, la gran parte delle funzioni di `R` prevedono modi specifici per trattare i valori mancanti.\n",
    "\n",
    "Ci sono diversi tipi di dati \"mancanti\" in `R`;\n",
    "\n",
    "- `NA` - generico dato mancante;\n",
    "- `NaN` - il codice `NaN` (*Not a Number*) indica i valori numerici impossibili, quali ad esempio un valore 0/0;\n",
    "- `Inf` e `-Inf` - Infinity, si verifca, ad esempio, quando si divide un numero per 0.\n",
    "\n",
    "La funzione `is.na()` ritorna un output che indica con TRUE le celle che contengono NA o NaN.\n",
    "\n",
    "Si noti che \n",
    "\n",
    "- se `is.na(x)` è TRUE, allora `!is.na(x)` è FALSE;\n",
    "- `all(!is.na(x))` ritorna TRUE se tutti i valori `x` sono NOT NA;\n",
    "- `any(is.na(x))` risponde alla domanda: c'è qualche valore NA (almeno uno) in `x`?;\n",
    "- `complete.cases(x)` ritorna TRUE se ciascun elemento di `x` è is NOT NA; ritorna FALSE se almeno un elemento di `x` è NA;\n",
    "\n",
    "Le funzioni `R` `is.nan()` e `is.infinite()` si applicano ai tipi di dati `NaN` e `Inf`.\n",
    "\n",
    "Per esempio, consideriamo il seguente data.frame:"
   ]
  },
  {
   "cell_type": "code",
   "execution_count": 12,
   "id": "9d2522f0",
   "metadata": {
    "vscode": {
     "languageId": "r"
    }
   },
   "outputs": [
    {
     "data": {
      "text/html": [
       "<table class=\"dataframe\">\n",
       "<caption>A tibble: 5 x 5</caption>\n",
       "<thead>\n",
       "\t<tr><th scope=col>w</th><th scope=col>x</th><th scope=col>y</th><th scope=col>z</th><th scope=col>q</th></tr>\n",
       "\t<tr><th scope=col>&lt;dbl&gt;</th><th scope=col>&lt;int&gt;</th><th scope=col>&lt;dbl&gt;</th><th scope=col>&lt;dbl&gt;</th><th scope=col>&lt;dbl&gt;</th></tr>\n",
       "</thead>\n",
       "<tbody>\n",
       "\t<tr><td> 1</td><td>1</td><td>1</td><td> 2</td><td> 3</td></tr>\n",
       "\t<tr><td> 2</td><td>2</td><td>1</td><td> 5</td><td>NA</td></tr>\n",
       "\t<tr><td>NA</td><td>3</td><td>1</td><td>10</td><td> 5</td></tr>\n",
       "\t<tr><td> 3</td><td>4</td><td>1</td><td>17</td><td> 1</td></tr>\n",
       "\t<tr><td>NA</td><td>5</td><td>1</td><td>26</td><td> 4</td></tr>\n",
       "</tbody>\n",
       "</table>\n"
      ],
      "text/latex": [
       "A tibble: 5 x 5\n",
       "\\begin{tabular}{lllll}\n",
       " w & x & y & z & q\\\\\n",
       " <dbl> & <int> & <dbl> & <dbl> & <dbl>\\\\\n",
       "\\hline\n",
       "\t  1 & 1 & 1 &  2 &  3\\\\\n",
       "\t  2 & 2 & 1 &  5 & NA\\\\\n",
       "\t NA & 3 & 1 & 10 &  5\\\\\n",
       "\t  3 & 4 & 1 & 17 &  1\\\\\n",
       "\t NA & 5 & 1 & 26 &  4\\\\\n",
       "\\end{tabular}\n"
      ],
      "text/markdown": [
       "\n",
       "A tibble: 5 x 5\n",
       "\n",
       "| w &lt;dbl&gt; | x &lt;int&gt; | y &lt;dbl&gt; | z &lt;dbl&gt; | q &lt;dbl&gt; |\n",
       "|---|---|---|---|---|\n",
       "|  1 | 1 | 1 |  2 |  3 |\n",
       "|  2 | 2 | 1 |  5 | NA |\n",
       "| NA | 3 | 1 | 10 |  5 |\n",
       "|  3 | 4 | 1 | 17 |  1 |\n",
       "| NA | 5 | 1 | 26 |  4 |\n",
       "\n"
      ],
      "text/plain": [
       "  w  x y z  q \n",
       "1  1 1 1  2  3\n",
       "2  2 2 1  5 NA\n",
       "3 NA 3 1 10  5\n",
       "4  3 4 1 17  1\n",
       "5 NA 5 1 26  4"
      ]
     },
     "metadata": {},
     "output_type": "display_data"
    }
   ],
   "source": [
    "d <- tibble(\n",
    "  w = c(1, 2, NA, 3, NA), \n",
    "  x = 1:5, \n",
    "  y = 1, \n",
    "  z = x ^ 2 + y,\n",
    "  q = c(3, NA, 5, 1, 4)\n",
    ")\n",
    "d"
   ]
  },
  {
   "cell_type": "code",
   "execution_count": 13,
   "id": "f5b84a70",
   "metadata": {
    "vscode": {
     "languageId": "r"
    }
   },
   "outputs": [
    {
     "data": {
      "text/html": [
       "<style>\n",
       ".list-inline {list-style: none; margin:0; padding: 0}\n",
       ".list-inline>li {display: inline-block}\n",
       ".list-inline>li:not(:last-child)::after {content: \"\\00b7\"; padding: 0 .5ex}\n",
       "</style>\n",
       "<ol class=list-inline><li>FALSE</li><li>FALSE</li><li>TRUE</li><li>FALSE</li><li>TRUE</li></ol>\n"
      ],
      "text/latex": [
       "\\begin{enumerate*}\n",
       "\\item FALSE\n",
       "\\item FALSE\n",
       "\\item TRUE\n",
       "\\item FALSE\n",
       "\\item TRUE\n",
       "\\end{enumerate*}\n"
      ],
      "text/markdown": [
       "1. FALSE\n",
       "2. FALSE\n",
       "3. TRUE\n",
       "4. FALSE\n",
       "5. TRUE\n",
       "\n",
       "\n"
      ],
      "text/plain": [
       "[1] FALSE FALSE  TRUE FALSE  TRUE"
      ]
     },
     "metadata": {},
     "output_type": "display_data"
    },
    {
     "data": {
      "text/html": [
       "<style>\n",
       ".list-inline {list-style: none; margin:0; padding: 0}\n",
       ".list-inline>li {display: inline-block}\n",
       ".list-inline>li:not(:last-child)::after {content: \"\\00b7\"; padding: 0 .5ex}\n",
       "</style>\n",
       "<ol class=list-inline><li>FALSE</li><li>FALSE</li><li>FALSE</li><li>FALSE</li><li>FALSE</li></ol>\n"
      ],
      "text/latex": [
       "\\begin{enumerate*}\n",
       "\\item FALSE\n",
       "\\item FALSE\n",
       "\\item FALSE\n",
       "\\item FALSE\n",
       "\\item FALSE\n",
       "\\end{enumerate*}\n"
      ],
      "text/markdown": [
       "1. FALSE\n",
       "2. FALSE\n",
       "3. FALSE\n",
       "4. FALSE\n",
       "5. FALSE\n",
       "\n",
       "\n"
      ],
      "text/plain": [
       "[1] FALSE FALSE FALSE FALSE FALSE"
      ]
     },
     "metadata": {},
     "output_type": "display_data"
    }
   ],
   "source": [
    "is.na(d$w)\n",
    "is.na(d$x)"
   ]
  },
  {
   "attachments": {},
   "cell_type": "markdown",
   "id": "c17ab563",
   "metadata": {},
   "source": [
    "Per creare un nuovo Dataframe senza valori mancanti:\n"
   ]
  },
  {
   "cell_type": "code",
   "execution_count": 14,
   "id": "218b5d76",
   "metadata": {
    "vscode": {
     "languageId": "r"
    }
   },
   "outputs": [
    {
     "data": {
      "text/html": [
       "<table class=\"dataframe\">\n",
       "<caption>A tibble: 2 x 5</caption>\n",
       "<thead>\n",
       "\t<tr><th scope=col>w</th><th scope=col>x</th><th scope=col>y</th><th scope=col>z</th><th scope=col>q</th></tr>\n",
       "\t<tr><th scope=col>&lt;dbl&gt;</th><th scope=col>&lt;int&gt;</th><th scope=col>&lt;dbl&gt;</th><th scope=col>&lt;dbl&gt;</th><th scope=col>&lt;dbl&gt;</th></tr>\n",
       "</thead>\n",
       "<tbody>\n",
       "\t<tr><td>1</td><td>1</td><td>1</td><td> 2</td><td>3</td></tr>\n",
       "\t<tr><td>3</td><td>4</td><td>1</td><td>17</td><td>1</td></tr>\n",
       "</tbody>\n",
       "</table>\n"
      ],
      "text/latex": [
       "A tibble: 2 x 5\n",
       "\\begin{tabular}{lllll}\n",
       " w & x & y & z & q\\\\\n",
       " <dbl> & <int> & <dbl> & <dbl> & <dbl>\\\\\n",
       "\\hline\n",
       "\t 1 & 1 & 1 &  2 & 3\\\\\n",
       "\t 3 & 4 & 1 & 17 & 1\\\\\n",
       "\\end{tabular}\n"
      ],
      "text/markdown": [
       "\n",
       "A tibble: 2 x 5\n",
       "\n",
       "| w &lt;dbl&gt; | x &lt;int&gt; | y &lt;dbl&gt; | z &lt;dbl&gt; | q &lt;dbl&gt; |\n",
       "|---|---|---|---|---|\n",
       "| 1 | 1 | 1 |  2 | 3 |\n",
       "| 3 | 4 | 1 | 17 | 1 |\n",
       "\n"
      ],
      "text/plain": [
       "  w x y z  q\n",
       "1 1 1 1  2 3\n",
       "2 3 4 1 17 1"
      ]
     },
     "metadata": {},
     "output_type": "display_data"
    }
   ],
   "source": [
    "d_clean <- d[complete.cases(d), ]\n",
    "d_clean"
   ]
  },
  {
   "attachments": {},
   "cell_type": "markdown",
   "id": "6dd83ba7",
   "metadata": {},
   "source": [
    "Oppure, se vogliamo eliminare le righe con NA solo in una variabile:\n"
   ]
  },
  {
   "cell_type": "code",
   "execution_count": 15,
   "id": "e74bde10",
   "metadata": {
    "vscode": {
     "languageId": "r"
    }
   },
   "outputs": [
    {
     "data": {
      "text/html": [
       "<table class=\"dataframe\">\n",
       "<caption>A tibble: 4 x 5</caption>\n",
       "<thead>\n",
       "\t<tr><th scope=col>w</th><th scope=col>x</th><th scope=col>y</th><th scope=col>z</th><th scope=col>q</th></tr>\n",
       "\t<tr><th scope=col>&lt;dbl&gt;</th><th scope=col>&lt;int&gt;</th><th scope=col>&lt;dbl&gt;</th><th scope=col>&lt;dbl&gt;</th><th scope=col>&lt;dbl&gt;</th></tr>\n",
       "</thead>\n",
       "<tbody>\n",
       "\t<tr><td> 1</td><td>1</td><td>1</td><td> 2</td><td>3</td></tr>\n",
       "\t<tr><td>NA</td><td>3</td><td>1</td><td>10</td><td>5</td></tr>\n",
       "\t<tr><td> 3</td><td>4</td><td>1</td><td>17</td><td>1</td></tr>\n",
       "\t<tr><td>NA</td><td>5</td><td>1</td><td>26</td><td>4</td></tr>\n",
       "</tbody>\n",
       "</table>\n"
      ],
      "text/latex": [
       "A tibble: 4 x 5\n",
       "\\begin{tabular}{lllll}\n",
       " w & x & y & z & q\\\\\n",
       " <dbl> & <int> & <dbl> & <dbl> & <dbl>\\\\\n",
       "\\hline\n",
       "\t  1 & 1 & 1 &  2 & 3\\\\\n",
       "\t NA & 3 & 1 & 10 & 5\\\\\n",
       "\t  3 & 4 & 1 & 17 & 1\\\\\n",
       "\t NA & 5 & 1 & 26 & 4\\\\\n",
       "\\end{tabular}\n"
      ],
      "text/markdown": [
       "\n",
       "A tibble: 4 x 5\n",
       "\n",
       "| w &lt;dbl&gt; | x &lt;int&gt; | y &lt;dbl&gt; | z &lt;dbl&gt; | q &lt;dbl&gt; |\n",
       "|---|---|---|---|---|\n",
       "|  1 | 1 | 1 |  2 | 3 |\n",
       "| NA | 3 | 1 | 10 | 5 |\n",
       "|  3 | 4 | 1 | 17 | 1 |\n",
       "| NA | 5 | 1 | 26 | 4 |\n",
       "\n"
      ],
      "text/plain": [
       "  w  x y z  q\n",
       "1  1 1 1  2 3\n",
       "2 NA 3 1 10 5\n",
       "3  3 4 1 17 1\n",
       "4 NA 5 1 26 4"
      ]
     },
     "metadata": {},
     "output_type": "display_data"
    }
   ],
   "source": [
    "d1 <- d[!is.na(d$q), ]\n",
    "d1"
   ]
  },
  {
   "attachments": {},
   "cell_type": "markdown",
   "id": "0f67f18e",
   "metadata": {},
   "source": [
    "Se vogliamo esaminare le righe con i dati mancanti in qualunque colonna:\n"
   ]
  },
  {
   "cell_type": "code",
   "execution_count": 16,
   "id": "b722a4b3",
   "metadata": {
    "vscode": {
     "languageId": "r"
    }
   },
   "outputs": [
    {
     "data": {
      "text/html": [
       "<table class=\"dataframe\">\n",
       "<caption>A tibble: 3 x 5</caption>\n",
       "<thead>\n",
       "\t<tr><th scope=col>w</th><th scope=col>x</th><th scope=col>y</th><th scope=col>z</th><th scope=col>q</th></tr>\n",
       "\t<tr><th scope=col>&lt;dbl&gt;</th><th scope=col>&lt;int&gt;</th><th scope=col>&lt;dbl&gt;</th><th scope=col>&lt;dbl&gt;</th><th scope=col>&lt;dbl&gt;</th></tr>\n",
       "</thead>\n",
       "<tbody>\n",
       "\t<tr><td> 2</td><td>2</td><td>1</td><td> 5</td><td>NA</td></tr>\n",
       "\t<tr><td>NA</td><td>3</td><td>1</td><td>10</td><td> 5</td></tr>\n",
       "\t<tr><td>NA</td><td>5</td><td>1</td><td>26</td><td> 4</td></tr>\n",
       "</tbody>\n",
       "</table>\n"
      ],
      "text/latex": [
       "A tibble: 3 x 5\n",
       "\\begin{tabular}{lllll}\n",
       " w & x & y & z & q\\\\\n",
       " <dbl> & <int> & <dbl> & <dbl> & <dbl>\\\\\n",
       "\\hline\n",
       "\t  2 & 2 & 1 &  5 & NA\\\\\n",
       "\t NA & 3 & 1 & 10 &  5\\\\\n",
       "\t NA & 5 & 1 & 26 &  4\\\\\n",
       "\\end{tabular}\n"
      ],
      "text/markdown": [
       "\n",
       "A tibble: 3 x 5\n",
       "\n",
       "| w &lt;dbl&gt; | x &lt;int&gt; | y &lt;dbl&gt; | z &lt;dbl&gt; | q &lt;dbl&gt; |\n",
       "|---|---|---|---|---|\n",
       "|  2 | 2 | 1 |  5 | NA |\n",
       "| NA | 3 | 1 | 10 |  5 |\n",
       "| NA | 5 | 1 | 26 |  4 |\n",
       "\n"
      ],
      "text/plain": [
       "  w  x y z  q \n",
       "1  2 2 1  5 NA\n",
       "2 NA 3 1 10  5\n",
       "3 NA 5 1 26  4"
      ]
     },
     "metadata": {},
     "output_type": "display_data"
    }
   ],
   "source": [
    "d_na <- d[!complete.cases(d), ]\n",
    "d_na"
   ]
  }
 ],
 "metadata": {
  "jupytext": {
   "cell_metadata_filter": "tags,-all",
   "main_language": "R",
   "notebook_metadata_filter": "-all"
  },
  "kernelspec": {
   "display_name": "R",
   "language": "R",
   "name": "ir"
  },
  "language_info": {
   "codemirror_mode": "r",
   "file_extension": ".r",
   "mimetype": "text/x-r-source",
   "name": "R",
   "pygments_lexer": "r",
   "version": "4.4.1"
  }
 },
 "nbformat": 4,
 "nbformat_minor": 5
}
