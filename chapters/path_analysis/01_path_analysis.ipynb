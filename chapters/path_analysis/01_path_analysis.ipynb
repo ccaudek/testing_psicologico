{
 "cells": [
  {
   "attachments": {},
   "cell_type": "markdown",
   "id": "2f92eec8",
   "metadata": {},
   "source": [
    "# Analisi dei percorsi {#sec-path-analysis}"
   ]
  },
  {
   "cell_type": "markdown",
   "id": "6eb0240d",
   "metadata": {},
   "source": [
    "::: {.chapterintro data-latex=\"\"}\n",
    "Le visualizzazioni rivestono un ruolo fondamentale nel comunicare in modo chiaro e sintetico le relazioni tra variabili. Questo è particolarmente evidente quando si opera con modelli di equazioni strutturali (SEM) che delineano una rete di interconnessioni tra variabili sia osservabili che latenti. In tali contesti, i ricercatori frequentemente si avvalgono di strumenti grafici per agevolare la specificazione e l'esplicitazione del modello, oltre che per presentare in maniera comprensibile i risultati ottenuti.\n",
    "\n",
    "L'analisi del percorso, o *path analysis*, è una tecnica statistica multivariata utilizzata nell'ambito della ricerca quantitativa per esaminare e descrivere le relazioni causali tra un insieme di variabili. Questo metodo si avvale di modelli grafici, noti come diagrammi di percorso, che rappresentano le relazioni ipotizzate tra le variabili, illustrando graficamente le relazioni dirette, indirette e reciproche tra di esse.\n",
    ":::"
   ]
  },
  {
   "cell_type": "markdown",
   "id": "04327820",
   "metadata": {},
   "source": [
    "**Prerequisiti**\n",
    "\n",
    "**Concetti e Competenze Chiave**\n",
    "\n",
    "**Preparazione del Notebook**"
   ]
  },
  {
   "cell_type": "code",
   "execution_count": 1,
   "id": "2b95014c",
   "metadata": {
    "vscode": {
     "languageId": "r"
    }
   },
   "outputs": [],
   "source": [
    "# Carica il file _common.R per impostazioni di pacchetti e opzioni\n",
    "here::here(\"code\", \"_common.R\") |> source()\n",
    "\n",
    "# Carica pacchetti aggiuntivi\n",
    "pacman::p_load(\n",
    "    lavaanExtra, lavaanPlot, semTools, DiagrammeRsvg, tidyr, \n",
    "    rsvg, diagram\n",
    ")"
   ]
  },
  {
   "attachments": {},
   "cell_type": "markdown",
   "id": "4c87135e",
   "metadata": {},
   "source": [
    "## Introduzione\n",
    "\n",
    "Il fulcro dell'analisi del percorso è la decomposizione e la quantificazione delle relazioni tra le variabili, permettendo agli analisti di distinguere tra effetti diretti, indiretti e totali. Gli effetti diretti corrispondono all'influenza immediata che una variabile esercita su un'altra, mentre gli effetti indiretti rappresentano l'impatto mediato attraverso una o più variabili intermedie. L'effetto totale è la somma degli effetti diretti e indiretti.\n",
    "\n",
    "Sewall Wright, un genetista che operava presso il Dipartimento dell'Agricoltura degli Stati Uniti, fu il precursore nello sviluppo dei diagrammi di percorso per descrivere i modelli di equazioni strutturali già negli anni '20 del secolo scorso. Questa sua innovazione ha permesso di ottenere una rappresentazione visiva delle connessioni tra variabili, aprendo la strada all'analisi del percorso.\n",
    "\n",
    "Con il trascorrere del tempo, questa metodologia è stata adottata con successo come uno strumento efficace per discriminare gli effetti diretti da quelli indiretti nelle relazioni tra variabili. Inoltre, essa si è dimostrata di grande utilità nel valutare la solidità e la validità delle relazioni causali ipotizzate all'interno dei modelli di equazioni strutturali.\n",
    "\n",
    "## Path diagram\n",
    "\n",
    "Il diagramma del percorso, noto anche come \"path diagram,\" costituisce uno strumento per la rappresentazione grafica delle relazioni tra variabili all'interno di un modello. All'interno di questo diagramma, le variabili latenti o non osservate sono rappresentate mediante cerchi o ellissi, mentre le variabili osservate sono rappresentate da quadrati o rettangoli. \n",
    "\n",
    "All'interno del path diagram, è possibile individuare due categorie di variabili: quelle che subiscono influenze da parte di altre variabili nel sistema e quelle che svolgono il ruolo di generatori di effetti. Nello specifico, le variabili esogene costituiscono elementi esterni al sistema in esame, operando in qualità di variabili indipendenti che generano effetti causalmente. Al contrario, le variabili endogene possono agire sia come risultati di altre variabili che come cause per ulteriori variabili, oppure possono essere strettamente variabili dipendenti. Le origini causali delle variabili endogene trovano collocazione all'interno del path diagram, mentre quelle delle variabili esogene si trovano esternamente al diagramma. Tale distinzione presenta affinità con la distinzione tra variabili indipendenti e dipendenti all'interno dei modelli lineari.\n",
    "\n",
    "Un diagramma di percorso è costituito dai seguenti simboli grafici.\n",
    "\n",
    "1. Variabili osservate (indicatori) rappresentate con quadrati o rettangoli.\n",
    "2. Proxy per variabili latenti, come fattori comuni con indicatori multipli, rappresentate con cerchi o ellissi.\n",
    "\n",
    "Il diagramma di percorso mette in evidenza le interazioni tra le variabili d'interesse, sottolineando i legami causali o associativi che le connettono. Le frecce unidirezionali (ad esempio,$\\rightarrow$) illustrano relazioni causali: una variabile subisce influenza da un'altra variabile collegata attraverso una freccia. Invece, le frecce curve bidirezionali denotano relazioni associative, senza implicare una causalità diretta tra le variabili, ovvero covarianze (nella soluzione non standardizzata) o correlazioni (nella soluzione standardizzata).\n",
    "\n",
    "L'assenza di una freccia tra due variabili nel diagramma suggerisce l'assenza di correlazione tra di esse. Nel caso della @fig-path-01, si illustrano le relazioni tra nove variabili osservate e tre variabili latenti mediante il path diagram.\n",
    "\n",
    "::: {#fig-path-01}\n",
    "![](../../figures/path_01.png){width=\"40%\"}\n",
    "\n",
    "Diagramma di percorso per un modello a tre fattori comuni.\n",
    ":::\n",
    "\n",
    "Una freccia curva bidirezionale che si collega a una singola variabile rappresenta la varianza residua della variabile, ovvero la quota di varianza non spiegata dalle relazioni causali illustrate nel diagramma di percorso. Un triangolo contenente il numero 1 simboleggia la media di una variabile (qui non presente).\n",
    "\n",
    "### Parametri nei Modelli di Equazioni Strutturali\n",
    "\n",
    "I parametri nei modelli di equazioni strutturali possono essere categorizzati come segue, quando le medie non sono oggetto di analisi:\n",
    "\n",
    "1. **Varianze e Covarianze delle Variabili Esogene:** \n",
    "   - Questi parametri rappresentano la variabilità intrinseca delle variabili esogene (quelle non influenzate da altre nel modello) e le relazioni reciproche tra di esse.\n",
    "\n",
    "2. **Effetti Diretti sulle Variabili Endogene da Altre Variabili:**\n",
    "   - Questi parametri descrivono come le variabili endogene sono influenzate direttamente da altre variabili nel modello.\n",
    "\n",
    "In termini di specificazione, un parametro nel modello può essere classificato come libero, fisso o vincolato:\n",
    "\n",
    "- **Parametro Libero:** \n",
    "   - Questo tipo di parametro è stimato dal software statistico utilizzando i dati a disposizione.\n",
    "\n",
    "- **Parametro Fisso:** \n",
    "   - Un parametro fisso è definito per essere uguale a una costante specificata a priori. In questo caso, il software accetta il valore costante come stima, indipendentemente dai dati. Ad esempio, l'ipotesi che la variabile X non abbia effetti diretti su Y corrisponde alla specifica che il coefficiente per il percorso da X a Y sia fissato a zero.\n",
    "\n",
    "- **Parametro Vincolato:** \n",
    "   - In questo caso, il parametro segue certe restrizioni imposte nell'analisi, che possono essere basate su teorie o ipotesi precedenti. Ad esempio, l'analista può assumere che due paraemetri siano uguali.\n",
    "\n",
    "## Gradi di Libertà nei Modelli Parametrici\n",
    "\n",
    "In statistica, la complessità di un modello parametrico, in termini di parametri da stimare, è limitata dalla quantità di informazioni statistiche fornite dai dati. Questo non equivale alla dimensione del campione ($N$), ma si riferisce al numero di varianze e covarianze uniche che si possono derivare dalla matrice di covarianza campionaria in forma triangolare inferiore.\n",
    "\n",
    "La quantità di informazioni statistiche disponibili in un modello si calcola come segue:\n",
    "\n",
    "- Se $v$ è il numero di variabili osservate, la quantità di informazioni è data dalla formula:\n",
    "\n",
    "$$\\frac{v(v + 1)}{2},$$\n",
    "\n",
    "quando le medie delle variabili non sono incluse nell'analisi.\n",
    "\n",
    "Ad esempio, se $v = 5$ (cioè ci sono 5 variabili osservate nel modello), la quantità di informazioni statistiche sarà:\n",
    "\n",
    "$$\\frac{5 \\times 6}{2} = 15.$$\n",
    "\n",
    "Questo valore (15) rappresenta il numero totale di varianze (5) e covarianze uniche (10) che si trovano sotto la diagonale principale nella matrice di covarianza campionaria. In questo caso, il massimo numero di parametri stimabili è 15. Un modello più semplice potrebbe stimare un numero inferiore di parametri, ma non più di 15. La quantità di informazioni statistiche non dipende dalla dimensione del campione: anche se ci fossero 100 o 1000 casi, con 5 variabili misurate, la quantità di informazioni resterebbe 15. Solo l'aggiunta di nuove variabili osservate può incrementare questo numero.\n",
    "\n",
    "La differenza tra la quantità di informazioni statistiche ($p$) e il numero di parametri liberi ($q$) determina i gradi di libertà del modello ($df_M$), che si calcolano come:\n",
    "\n",
    "$$df_M = p - q.$$\n",
    "\n",
    "Perché un modello sia identificabile, è necessario che i gradi di libertà siano almeno pari a zero ($df_M \\geq 0$). Se il numero di parametri da stimare supera la quantità di informazioni disponibili ($df_M < 0$), il modello non è identificabile e non sarà possibile stimare i parametri in modo univoco, poiché esisterebbero infinite soluzioni possibili. Tentare di stimare un modello con gradi di libertà negativi genera solitamente errori nei software di modellazione. In questi casi, il modello deve essere ridefinito riducendo il numero di parametri liberi, ad esempio, imponendo vincoli o fissando alcuni parametri a valori specifici.\n",
    "\n",
    "Un modello con zero gradi di libertà ($df_M = 0$) si adatta perfettamente ai dati di un campione, così come a qualsiasi altro campione delle stesse variabili. Tuttavia, i modelli con gradi di libertà positivi ($df_M > 0$) generalmente non offrono un adattamento perfetto, lasciando spazio a discrepanze tra i dati osservati e le stime del modello. Raykov e Marcoulides (2006) hanno descritto i gradi di libertà come dimensioni lungo le quali un modello può potenzialmente essere rifiutato. Pertanto, i modelli che risultano validi con maggiori gradi di libertà hanno superato un rischio maggiore di rifiuto. Questo rafforza il principio di parsimonia: a parità di adattamento ai dati, è preferibile il modello più semplice, purché sia teoricamente plausibile."
   ]
  },
  {
   "cell_type": "markdown",
   "id": "92300639",
   "metadata": {},
   "source": [
    "## Varianza Residua nelle Variabili Endogene\n",
    "\n",
    "La @fig-kline_7_2 mostra la relazione tra due variabili osservabili. L'effetto totale presunto di X su Y è illustrato tramite un percorso diretto, rappresentando l'effetto causale lineare di X su Y. La varianza di X, una variabile esogena, è un parametro libero e viene rappresentata nella figura con il simbolo RAM che indica una varianza (indicata da una freccia curva bidirezionale). Al contrario, la varianza di Y, una variabile endogena, non è libera di variare; invece, è associata a una variabile latente D, il termine di disturbo o errore, che rappresenta la variazione in Y non spiegata da X.\n",
    "\n",
    "::: {#fig-kline_7_2}\n",
    "![](../../figures/kline_7_2.png){width=\"80%\"}\n",
    "\n",
    "Diagramma per una rappresentazione contratta nel modello completo di azione reticolare McArdle-McDonald (RAM) con simbolismo grafico (a) rispetto a una versione più compatta (b). (Figura adattata da @kline2023principles)\n",
    ":::\n",
    "\n",
    "Il numero (1) vicino al percorso nella @fig-kline_7_2 (a) è una costante di scala che assegna una metrica al termine di disturbo. Questa specificazione è essenziale perché la varianza del termine di disturbo è latente e le variabili latenti richiedono che un fattore di scala sia fissato per la loro stima. Questa costante di scala è nota anche come il *vincolo di identificazione del carico unitario* (*unit loading identification* constraint, ULI). Il valore \"1\" comunica al software di suddividere la varianza totale (osservata) di Y in due componenti distinte (ortogonali): la varianza spiegata da X e la varianza non spiegata (o varianza del disturbo, $var_D$).\n",
    "\n",
    "La rappresentazione nella @fig-kline_7_2 (b) fornisce le stesse informazioni in modo più sintetico. Alternativamente, nella @fig-kline_7_2 (a) si potrebbe rappresentare la varianza residua di Y con una freccia curva bidirezionale, al posto di utilizzare il termine di disturbo D identificato dal vincolo di identificazione del carico unitario. Il valore numerico associato a questa freccia curva bidirezionale sarebbe lo stesso di quello che si ottiene con la rappresentazione della variabile latente di disturbo:$1 \\times var_D \\times 1$.\n",
    "\n",
    "Un'altra rappresentazione equivalente assegnerebbe il valore 1 a $var_D$ e attribuirebbe alla freccia causale da D a Y il valore $\\sqrt{var_D}$. Il risultato finale sarebbe identico, in quanto anche in questo caso la varianza residua di Y sarebbe rappresentata come$\\sqrt{var_D} \\times 1 \\times \\sqrt{var_D}$.\n",
    "\n",
    "Proseguendo la discussione sulla varianza del disturbo, possiamo identificare quattro fonti principali che contribuiscono a questa varianza:\n",
    "\n",
    "1. **Variazione Sistematica da Cause Non Misure**: Questa varianza origina da fattori non misurati che influenzano sistematicamente l'esito della variabile di interesse. Si tratta di influenze esterne o variabili nascoste che hanno un impatto significativo ma non sono incluse nel modello.\n",
    "\n",
    "2. **Variazione Casuale Intrinseca**: Questo tipo di varianza è una caratteristica fondamentale di quasi tutti i sistemi o variabili individuali. Rappresenta la variabilità naturale che esiste indipendentemente dalle misure o dagli effetti che si tenta di analizzare.\n",
    "\n",
    "3. **Errore di Misurazione Casuale**: Questa varianza è legata agli errori che si verificano durante il processo di misurazione. Includono gli errori casuali che possono essere stimati attraverso analisi di affidabilità, come l'accuratezza e la precisione degli strumenti di misurazione utilizzati.\n",
    "\n",
    "4. **Mancata Specificazione della Corretta Forma Funzionale dell'Effetto Causale**: Questa varianza emerge quando la forma funzionale dell'effetto causale nel modello non corrisponde alla vera natura della relazione. Un esempio comune è modellare una relazione come lineare quando in realtà è non lineare, portando a una rappresentazione imprecisa del fenomeno sotto indagine.\n",
    "\n",
    "Nel pannello (a) della @fig-kline_7_2, il percorso da D a Y rappresenta l'effetto diretto di tutte queste cause omesse, oltre agli errori, sulla variabile endogena Y. In sostanza, questo percorso simboleggia l'insieme di tutte le influenze non incluse nel modello che possono impattare su Y. È importante notare che, mentre queste fonti di varianza del disturbo possono essere teoricamente distinte, nella pratica possono sovrapporsi e interagire tra loro."
   ]
  },
  {
   "cell_type": "markdown",
   "id": "90c9cb90",
   "metadata": {},
   "source": [
    "Proseguendo il discorso sulla rappresentazione della varianza residua nelle variabili endogene, è importante notare che diversi software SEM trattano in modi differenti i termini di errore nei modelli di equazioni strutturali. Ad esempio, nella sintassi del software lavaan, il comando:\n",
    "\n",
    "```R\n",
    "Y ~ X\n",
    "```\n",
    "\n",
    "direttamente istruisce il software a regredire la variabile Y su X e a gestire automaticamente il termine di disturbo, come rappresentato nel pannello (a) della @fig-kline_7_2. Questo comando, oltre a definire l'effetto di X su Y, stabilisce anche che le varianze di X e il termine di disturbo di Y sono parametri liberi da stimare.\n",
    "\n",
    "Da queste considerazioni emergono due requisiti fondamentali per l'identificazione di un modello a percorsi:\n",
    "\n",
    "1. I gradi di libertà del modello ($df_M$) devono essere maggiori o uguali a zero.\n",
    "2. Ogni variabile latente, inclusi i termini di errore, deve avere una scala definita (una metrica assegnata).\n",
    "\n",
    "Il conteggio dei parametri liberi è una componente cruciale nel calcolo dei $df_M$. L'inclusione esplicita delle costanti di scala nei diagrammi serve come promemoria per i ricercatori sulla necessità di assegnare una scala alle variabili latenti.\n",
    "\n",
    "Il pannello (b) della @fig-kline_7_2 mostra una versione più sintetica del modello, utilizzando un simbolismo grafico che omette i simboli per i parametri di varianza (per X, D), la costante di scala (1) e la rappresentazione grafica del disturbo come variabile latente. Questo diagramma fornisce una visione meno dettagliata del modello, evidenziando solamente le relazioni di base, ovvero X che causa Y, e Y influenzata da un termine di disturbo.\n",
    "\n",
    "### Considerazioni sugli Errori di Misurazione nei Modelli a Percorsi\n",
    "\n",
    "Riprendendo la discussione sulla @fig-kline_7_2, possiamo delineare le seguenti ipotesi fondamentali:\n",
    "\n",
    "1. **Affidabilità della Variabile Esogena X**: Si assume che i punteggi sulla variabile esogena X siano privi di errore, ovvero perfettamente affidabili, con un coefficiente di affidabilità ($r_{XX}$) di 1.0.\n",
    "\n",
    "2. **Correttezza della Direzione Causale**: La relazione causale da X a Y è assunta come correttamente specificata e caratterizzata da una stretta linearità.\n",
    "\n",
    "3. **Indipendenza delle Cause Non Misurate di Y da X**: Si presume che le cause non misurate (latenti) di Y non siano correlate con X, escludendo quindi l'esistenza di cause comuni non misurate che influenzano simultaneamente entrambe le variabili -- ricordiamo la discusione precedente sull'errore di specificazione.\n",
    "\n",
    "In ambito di modellazione dei percorsi, l'assunzione che le variabili esogene siano prive di errori di misurazione riflette un presupposto simile a quello adottato nelle regressioni multiple standard, dove i predittori sono considerati esenti da errori di misurazione. Questa assunzione è necessaria poiché le variabili esogene nei modelli a percorsi non includono termini di errore, rendendo impossibile incorporare l'errore casuale in tali modelli. Al contrario, nelle variabili endogene di tali modelli, la presenza di termini di errore permette di tenere conto dell'errore di misurazione.\n",
    "\n",
    "Nel caso di una regressione bivariata, un errore di misurazione presente solo nella variabile dipendente Y influisce sul modello aumentando l'errore standard della stima di regressione, riducendo il valore di $R^2$ e diminuendo il valore assoluto del coefficiente di regressione standardizzato, a causa dell'incremento dell'errore di misurazione in Y. Invece, l'errore di misurazione presente solo nella variabile predittiva X (ma non in Y) tende a introdurre un bias negativo nei coefficienti di regressione -- cioè una sistematica sottostima dei veri valori dei coefficienti di regressione.\n",
    "\n",
    "Quando entrambe le variabili X e Y presentano errori di misurazione, la dinamica risultante è più complessa da prevedere. Se gli errori di misurazione in X e Y sono indipendenti, il risultato più comune è un bias negativo (ossia una sottostima dei coefficienti di regressione della popolazione). Tuttavia, se gli errori di misurazione sono comuni tra X e Y, la regressione potrebbe sovrastimare i coefficienti della popolazione, portando a un bias positivo. È essenziale riconoscere che l'errore di misurazione non causa sempre un bias negativo. Di conseguenza, la presenza di errori di misurazione non modellati nelle variabili esogene può significativamente distorcere i risultati, specialmente in presenza di forti correlazioni tra multiple variabili esogene. Per ridurre questi rischi, si raccomanda di valutare l'affidabilità dei punteggi associati alle variabili esogene. Questa pratica metodologica, che consiste nel verificare la precisione e la consistenza delle misure delle variabili predittive, aiuta a identificare e quantificare eventuali errori di misurazione. Un'accurata stima dell'affidabilità contribuisce a garantire l'integrità e la validità dei risultati dei modelli a percorsi, mitigando l'impatto che gli errori di misurazione possono avere sull'analisi.\n",
    "\n",
    "### Direzionalità Causale e Forma Funzionale della Relazione X-Y\n",
    "\n",
    "L'assunzione che la relazione tra le variabili X e Y sia lineare, come presentato nella @fig-kline_7_2, può essere esaminata attraverso l'analisi dei dati. Se si osserva che la relazione è significativamente curvilinea, si può adeguare l'analisi per attenuare il presupposto di linearità. Ciò può essere realizzato attraverso metodi come la regressione polinomiale o la regressione non parametrica, che permettono di modellare relazioni più complesse rispetto a un semplice modello lineare.\n",
    "\n",
    "Tuttavia, la direzionalità dell'effetto causale rappresenta una sfida differente e non è direttamente testabile attraverso metodi statistici standard. Nell'ambito dei modelli SEM, le direzioni degli effetti causali sono generalmente ipotizzate piuttosto che empiricamente verificate. Questo perché è possibile costruire modelli SEM equivalenti che utilizzano le stesse variabili e hanno lo stesso numero di gradi di libertà ($df_M$), ma con direzioni inverse di alcuni effetti causali. Inoltre, entrambi i modelli, nonostante le differenze nelle direzionalità causali, mostreranno lo stesso grado di adattamento ai dati osservati.\n",
    "\n",
    "Un'ulteriore ragione per cui la direzionalità causale è tipicamente assunta piuttosto che testata in SEM risiede nella natura degli studi SEM stessi. La maggior parte degli studi SEM si basa su disegni trasversali, dove tutte le variabili sono misurate contemporaneamente, senza una chiara precedenza temporale. In questi contesti, l'unica base per definire la direzionalità causale è l'argomentazione teorica del ricercatore, che deve giustificare perché si presume che X influenzi Y e non viceversa, o perché non si considera una relazione di feedback o causazione reciproca tra le due variabili.\n",
    "\n",
    "Di conseguenza, la metodologia SEM non è intrinsecamente una tecnica per la scoperta di relazioni causali. Se un modello è corretto, SEM può essere utilizzato per stimare le direzioni, le dimensioni e la precisione degli effetti causali. Tuttavia, questo non è il modo in cui i ricercatori tipicamente impiegano le analisi SEM. Piuttosto, un modello causale viene ipotizzato e poi adattato ai dati basandosi sulle assunzioni delineate. Se queste assunzioni risultano essere errate, anche i risultati dell'analisi saranno invalidi. Questo enfatizza il punto sollevato da Pearl (2000), che sostiene che \n",
    "\n",
    "> le ipotesi causali sono un prerequisito essenziale per validare qualsiasi conclusione causale (p. 136). \n",
    "\n",
    "Questo implica la necessità di una solida base teorica e concettuale nella formulazione di modelli causali nella modellazione SEM."
   ]
  },
  {
   "cell_type": "markdown",
   "id": "ec1c2d40",
   "metadata": {},
   "source": [
    "### Confondimento nei Modelli Parametrici\n",
    "\n",
    "Nella teoria dei modelli statistici, l'endogenità si riferisce a una situazione in cui una variabile all'interno di un modello è correlata con i termini di errore. Questo può creare problemi nella stima dei parametri del modello e può portare a conclusioni errate riguardo le relazioni causali tra le variabili. \n",
    "\n",
    "Nel contesto del diagramma di una catena contratta della @fig-kline_7_2a, l'endogenità è visualizzata come una covarianza tra la variabile causale misurata X e il disturbo (termine di errore) di Y, indicata con un simbolo specifico. Questo simbolo mostra che c'è una relazione non spiegata tra la causa X e il disturbo associato a Y, suggerendo che X potrebbe non essere una variabile completamente indipendente, come idealmente dovrebbe essere in un modello causale chiaro.\n",
    "\n",
    "Il modello nella @fig-kline_7_2a (a) non è identificabile per due ragioni principali:\n",
    "\n",
    "1. **Gradi di libertà negativi (dfM = -1)**: Questo indica che ci sono più parametri da stimare nel modello rispetto al numero di informazioni (osservazioni) disponibili. In sostanza, il modello sta cercando di \"apprendere\" troppo da troppo pochi dati, il che lo rende statisticamente non identificabile.\n",
    "\n",
    "2. **Percorso di confondimento non chiuso tra X e D**: Il percorso di confondimento (o back-door) tra X e D indica che c'è una relazione non controllata o non misurata tra la variabile indipendente X e il disturbo D di Y. Poiché D è trattato come una variabile latente (cioè, una variabile non osservata direttamente), questo percorso non può essere chiuso o controllato nel modello. Ciò significa che non possiamo essere sicuri se la relazione osservata tra X e Y è effettivamente causata da X o se è influenzata da altri fattori non considerati nel modello.\n",
    "\n",
    "In sintesi, l'endogenità in questo contesto si riferisce al problema di avere una variabile indipendente (X) che non è veramente indipendente a causa della sua relazione non spiegata con il termine di errore associato alla variabile dipendente (Y), compromettendo così la chiarezza delle relazioni causali nel modello.\n",
    "\n",
    "::: {#fig-kline_7_2a}\n",
    "![](../../figures/kline_7_2a.png){width=\"80%\"}\n",
    "\n",
    "Endogenità in una catena contratta (a). Identificazione del modello controllando un proxy (P) di una causa comune non misurata (b) e attraverso metodi di variabile strumentale (Z), che affrontano anche l'errore di misurazione nella variabile X (c). Tutti i diagrammi sono mostrati in simbolismo compatto. (Figura tratta da @kline2023principles)\n",
    ":::\n",
    "\n",
    "L'endogenità nei modelli parametrici può essere indotta dalle seguenti condizioni:\n",
    "\n",
    "1. Una causa comune non misurata di X e Y (cioè, un confonditore).\n",
    "2. Errore di misurazione casuale in X (cioè, $r_{XX} < 1.0$).\n",
    "3. Causalità reciproca, o X e Y si causano a vicenda (cioè, sono entrambe variabili endogene) in un ciclo di feedback.\n",
    "4. Errori autoregressivi, dove X è una versione ritardata di Y e gli errori persistono tra le due variabili.\n",
    "5. Autoregressione spaziale, che si verifica quando i punteggi di ciascun caso sono influenzati da quelli di casi vicini o adiacenti spazialmente.\n",
    "\n",
    "Nel contesto dei modelli statistici, è possibile affrontare il problema dei confonditori non misurati in due modi principali: attraverso la selezione di covariate appropriate o utilizzando i metodi delle variabili strumentali. Per illustrare, la @fig-kline_7_2a (b) propone l'uso di un proxy (P) che funge da sostituto per un confonditore non misurato che influisce su entrambe le variabili X e Y. In questo contesto, la variabile X è considerata endogena, il che significa che è influenzata dal proxy P (che a sua volta influisce anche su Y), indicando una possibile relazione di causa-effetto tra P e X.\n",
    "\n",
    "Per chiarire, consideriamo il seguente esempio. Immaginiamo di essere interessati a studiare l'effetto dello stress sulle prestazioni accademiche degli studenti universitari. In questo esempio, \"stress\" è la variabile X e \"prestazioni accademiche\" è la variabile Y. Tuttavia, c'è un potenziale confonditore che potrebbe influenzare sia lo stress sia le prestazioni accademiche, ma che non è stato misurato o non può essere facilmente misurato. Questo confonditore potrebbe essere, ad esempio, il \"benessere psicologico generale\" degli studenti.\n",
    "\n",
    "In questo caso, un proxy (P) per il benessere psicologico generale potrebbe essere \"l'attività fisica regolare\", che è più facilmente misurabile. La ricerca ha mostrato che l'attività fisica regolare può influenzare sia il benessere psicologico generale sia lo stress, rendendola un buon proxy per il nostro confonditore non misurato. \n",
    "\n",
    "Nel modello, l'attività fisica (il nostro proxy P) presumibilmente influisce sia sulla variabile causale (lo stress) sia sulla variabile di esito (le prestazioni accademiche). Analizzando i dati con questo modello, possiamo cercare di isolare meglio l'effetto dello stress sulle prestazioni accademiche, controllando per l'effetto del benessere psicologico generale tramite il proxy dell'attività fisica. In questo modo, possiamo ottenere una stima più accurata dell'effetto diretto dello stress sulle prestazioni accademiche, riducendo la distorsione potenzialmente causata dal confonditore non misurato.\n",
    "\n",
    "I metodi delle variabili strumentali, come mostrato nella @fig-kline_7_2a (c), sono utilizzati per affrontare sia i confonditori non misurati sia gli errori di misurazione nella variabile esogena X. Questo viene fatto sostituendo X con una variabile strumentale XZ in un modello di regressione a due stadi (2SLS). In questo approccio, qualsiasi errore di misurazione casuale in X viene trasferito alla variabile strumentale XZ, seguendo le ipotesi standard dei metodi delle variabili strumentali. È importante notare che, nel pannello (c), la variabile X è considerata endogena, sebbene non tutti i ricercatori scelgano di includere variabili strumentali nei loro diagrammi di modelli statistici. Questo approccio consente di isolare meglio l'effetto di X su Y, controllando per le influenze esterne non misurate e gli errori di misurazione.\n",
    "\n",
    "Per chiarire ulteriormente questi concetti, esamineremo separatamente il modello autoregressivo e l'autoregressione spaziale.\n",
    "\n",
    "#### Modello Autoregressivo\n",
    "\n",
    "Un modello autoregressivo è un tipo di modello statistico utilizzato per analizzare dati sequenziali o temporali. In un modello autoregressivo, si prevedono i valori futuri di una variabile basandosi sui suoi valori passati. Questo è particolarmente utile in studi longitudinali o in serie temporali dove si misura la stessa variabile in diversi punti nel tempo.\n",
    "\n",
    "Nell'esempio della @fig-kline_7_2a (a), immaginiamo che X e Y siano le stesse variabili misurate in due momenti diversi. Ad esempio, X potrebbe essere il livello di ansia di uno studente misurato all'inizio dell'anno scolastico, mentre Y potrebbe essere il livello di ansia dello stesso studente misurato alla fine dell'anno scolastico. In questo caso, stiamo cercando di prevedere i punteggi futuri di ansia (Y) basandoci sui punteggi passati (X).\n",
    "\n",
    "Un aspetto importante da considerare è che gli errori nelle misure ripetute (le variazioni nei punteggi che non sono spiegati dal modello) possono essere correlati. Ad esempio, se le misurazioni sono fatte in intervalli temporali ravvicinati, le circostanze o gli stati interni che hanno influenzato la prima misurazione potrebbero ancora essere presenti durante la seconda misurazione.\n",
    "\n",
    "#### Autoregressione Spaziale\n",
    "\n",
    "L'autoregressione spaziale, invece, si riferisce a un modello che considera le correlazioni spaziali tra dati. Questo tipo di analisi è particolarmente rilevante quando si studiano fenomeni geografici o ambientali. Ad esempio, la diffusione di una malattia in diverse località geografiche potrebbe non essere indipendente: le aree vicine geograficamente potrebbero mostrare pattern simili di diffusione della malattia a causa della loro vicinanza.\n",
    "\n",
    "In quest'ultimo caso, non stiamo più parlando di misure ripetute nel tempo sulla stessa unità, ma piuttosto di misure effettuate in diverse unità in un contesto spaziale. Le variabili misurate in diverse località fisiche possono influenzarsi a vicenda, e un modello autoregressivo spaziale cerca di catturare queste interdipendenze."
   ]
  },
  {
   "cell_type": "markdown",
   "id": "17d935b4",
   "metadata": {},
   "source": [
    "### Modelli con Cause Correlate o Effetti Indiretti\n",
    "\n",
    "Il modello parametrico mostrato nella @fig-kline_7_3 (a) suggerisce che la variabile Y sia influenzata da due variabili esogene correlate, X e W. Questo significa che X e W sono due fattori esterni che hanno un impatto su Y e tra loro esiste una relazione di covarianza, ovvero tendono a variare insieme in un certo modo. Tuttavia, il diagramma non spiega il motivo della relazione tra X e W, lasciando la loro interdipendenza non esaminata in termini causali. \n",
    "\n",
    "::: {#fig-kline_7_3}\n",
    "![](../../figures/kline_7_3.png){width=\"80%\"}\n",
    "\n",
    "Modelli con cause correlate (a) e sia effetti diretti che indiretti (b). Tutti i diagrammi sono mostrati in simbolismo compatto. (Figura tratta da @kline2023principles)\n",
    ":::\n",
    "\n",
    "Nell'analizzare questi dati con un software, si prenderanno in considerazione gli effetti sia di X che di W, tenendo conto della loro covarianza campionaria. Ciò significa che quando si stimano gli impatti di X e W su Y, si aggiusta per il fatto che X e W sono correlate tra loro. Alcuni software, come `lavaan`, presuppongono automaticamente che tutte le cause esogene misurate che influenzano lo stesso risultato (in questo caso Y) siano correlate. Utilizzando il comando\n",
    "\n",
    "`Y ~ X + W`\n",
    "\n",
    "in `lavaan`, si definisce il modello rappresentato nella @fig-kline_7_3 (a), permettendo al software di stimare gli effetti di X e W tenendo conto della loro covarianza osservata. Questo comando specifica inoltre che le varianze di X, W e il disturbo associato a Y sono tutti considerati parametri liberi da stimare.\n",
    "\n",
    "Se, invece, si ipotizza che le variabili esogene X e W siano indipendenti, ovvero che non ci sia una covarianza tra di loro, si può usare un comando aggiuntivo in `lavaan`\n",
    "\n",
    "`X ~~ 0*W`\n",
    "\n",
    "per impostare la covarianza tra X e W a zero. Questo comando mantiene le varianze di X e W come parametri liberi, ma specifica che non c'è una relazione di covarianza diretta tra queste due variabili. In questo modo, il modello considererà X e W come influenze separate e indipendenti su Y.\n",
    "\n",
    "Nel modello presentato nella @fig-kline_7_3 (a), è importante notare come vengano trattate le interazioni tra le variabili causali X e W. In questo specifico caso, si presume che non ci sia alcuna interazione tra X e W; in altre parole, l'effetto di X sulla variabile di esito Y si assume essere costante a prescindere dai diversi livelli di W, e viceversa. Questa assunzione implica che l'effetto di X su Y è indipendente da W, e l'effetto di W su Y è indipendente da X.\n",
    "\n",
    "In termini di modellazione, questo significa che stiamo considerando una causalità incondizionata, dove l'effetto di una causa su un esito è costante e non influenzato da altre variabili nel modello. Il modello non prevede, quindi, che l'effetto di X su Y cambi in funzione dei diversi livelli di W. Questo è in contrasto con l'ipotesi di causalità condizionale, dove gli effetti di una variabile su un'altra possono variare in base al livello di una terza variabile. In un modello di causalità condizionale, ad esempio, si potrebbe ipotizzare che l'effetto di X su Y vari a seconda dei diversi livelli di W.\n",
    "\n",
    "In sintesi, la @fig-kline_7_3 (a) delinea un modello dove le relazioni causali tra X, W e Y sono considerate fisse e non influenzate da potenziali interazioni tra X e W. Questo tipo di modellazione fornisce una visione semplificata delle relazioni causali, che potrebbe essere appropriata in determinate circostanze, ma non tiene conto di possibili dinamiche più complesse tra le variabili.\n",
    "\n",
    "È fondamentale riconoscere che le ripercussioni degli errori di misurazione in modelli che includono cause correlate sono notevolmente intricate e imprevedibili. Questa complessità deriva principalmente dalla natura del bias che può emergere a seguito di errori di misurazione. In particolare, il bias introdotto da questi errori può manifestarsi in modi diversi, assumendo una forma sia negativa che positiva. Tale variazione dipende da diversi fattori, tra cui se l'errore di misurazione è distribuito in maniera uniforme tra molteplici variabili predittive o se è presente sia nelle variabili predittive che nella variabile di esito. Un altro elemento influente è la natura delle covarianze campionarie tra tutte le variabili coinvolte nel modello.\n",
    "\n",
    "Data questa complessità, la capacità di modellare esplicitamente gli errori di misurazione all'interno dei modelli SEM rappresenta un vantaggio significativo. Questo approccio permette una maggiore precisione nell'analisi, consentendo di tenere conto delle varie modalità in cui gli errori di misurazione possono influenzare i risultati. La modellazione esplicita degli errori di misurazione in SEM offre quindi la possibilità di ottenere stime più accurate e affidabili, mitigando il rischio di trarre conclusioni errate a causa di bias non riconosciuti o non gestiti adeguatamente.\n",
    "\n",
    "Nella @fig-kline_7_3 (b), il modello mostra come la variabile X abbia sia effetti diretti che indiretti sulla variabile di esito Y. L'effetto indiretto segue il percorso X → M → Y, dove M funge da variabile intermedia o mediatrice. Questo significa che M è il canale attraverso il quale gli effetti di X sono trasmessi a Y. In questo modello, M è una variabile endogena, nel senso che è influenzata da X (indicato dal percorso X → M), e allo stesso tempo agisce come una variabile causale nei confronti di Y (come indicato da M → Y).\n",
    "\n",
    "La variabile M assume un doppio ruolo in termini di affidabilità e precisione della misurazione. Da una parte, essendo un esito di X, M è soggetta a disturbi, che includono potenziali errori di misurazione. Dall'altra, nel suo ruolo di causa per Y insieme a X, si presume nelle analisi di regressione che sia X che M siano prive di errore di misurazione. Questa assunzione non presenta problemi se l'affidabilità delle misure su M è elevata, ossia se i punteggi di M sono accurati e consistenti.\n",
    "\n",
    "In aggiunta, il modello descritto nella @fig-kline_7_3 (b) include tre ipotesi importanti:\n",
    "\n",
    "1. X ha un effetto diretto su Y, oltre al suo effetto indiretto tramite M.\n",
    "2. Non ci sono interazioni negli effetti lineari di X e M su Y, il che significa che l'effetto di X su Y è lo stesso a prescindere dai livelli di M, e viceversa.\n",
    "3. Il modello non omette confonditori potenzialmente importanti tra le coppie di variabili X, M e Y. In altre parole, non ci sono fattori esterni non considerati nel modello che potrebbero influenzare le relazioni tra queste tre variabili.\n",
    "\n",
    "In sintesi, la @fig-kline_7_3 (b) presenta un modello in cui X influisce su Y sia direttamente che indirettamente attraverso M, e queste relazioni sono considerate prive di interazioni complesse o di confonditori non rilevati.\n",
    "\n",
    "La gestione degli errori di misurazione e dei confonditori non considerati in modelli che includono effetti causali indiretti rappresenta una sfida notevole, poiché i loro effetti sulle stime possono essere complessi e non sempre prevedibili. Per esemplificare, consideriamo il modello della @fig-kline_7_3 (b) dove si analizza l'effetto indiretto di X su Y attraverso la variabile intermedia M. \n",
    "\n",
    "Se assumiamo che non ci siano errori di misurazione nella variabile causale X, qualsiasi errore di misurazione presente nella variabile intermedia M può introdurre un bias negativo nelle stime dell'effetto indiretto di X su Y. Ciò significa che l'effetto indiretto potrebbe essere sottostimato a causa dell'errore in M. D'altro canto, se non si tiene conto dei confonditori tra M e Y, cioè se ci sono variabili o fattori non considerati che influenzano sia M che Y, ciò può portare a un bias positivo, sovrastimando l'effetto indiretto.\n",
    "\n",
    "Quando entrambe queste situazioni -- errori di misurazione in M e confonditori tra M e Y -- si verificano contemporaneamente, le conseguenze sulle stime dell'effetto indiretto possono variare ampiamente. Potrebbe verificarsi una sovrastima, una sottostima o, in rari casi, nessun bias significativo. Studi di simulazione hanno rivelato che tentare di correggere solo una fonte di bias (come l'errore di misurazione in M) in presenza di entrambi i tipi di bias può addirittura aggravare il problema, portando a stime più distorte rispetto a quelle che non tengono conto di alcun bias.\n",
    "\n",
    "In sintesi, la valutazione accurata dell'effetto indiretto in un modello che comprende una variabile intermedia richiede un'attenta considerazione sia degli errori di misurazione che dei confonditori potenziali, poiché la loro interazione può influenzare in modi complessi e talvolta inaspettati la validità delle stime."
   ]
  },
  {
   "cell_type": "markdown",
   "id": "c964d698",
   "metadata": {},
   "source": [
    "### Modelli Ricorsivi, Non Ricorsivi e Parzialmente Ricorsivi\n",
    "\n",
    "Tutti i modelli di percorso parametrici più complessi possono essere \"assemblati\" a partire dai modelli elementari mostrati nelle figure precedenti. Ci sono due tipi fondamentali di modelli: ricorsivi e non ricorsivi. I modelli ricorsivi hanno due caratteristiche essenziali: tutti gli effetti causali sono unidirezionali e i loro disturbi sono indipendenti. La @fig-kline_7_4 (a) è un esempio di un modello ricorsivo (Tutti i modelli considerati finora sono ricorsivi.) \n",
    "\n",
    "I modelli non ricorsivi, invece, hanno cicli causali (feedback) in cui ≥ 2 variabili endogene sono specificate come cause ed effetti l'una dell'altra, direttamente o indirettamente. Nella loro forma non parametrica, corrispondono a grafi ciclici diretti. La @fig-kline_7_4 (b) è un esempio di un modello parametrico non ricorsivo con causazione reciproca rappresentata come\n",
    "\n",
    "$Y1 \\overset{\\rightarrow}{\\underset{\\leftarrow}{}} Y2,$\n",
    "\n",
    "indicando che le variabili Y1 e Y2 hanno effetti simultanei l'una sull'altra. \n",
    "\n",
    "::: {#fig-kline_7_4}\n",
    "![](../../figures/kline_7_4.png){width=\"80%\"}\n",
    "\n",
    "Esempi di modelli ricorsivi, non ricorsivi e parzialmente ricorsivi con due diversi schemi di correlazione degli errori. Tutti i diagrammi sono mostrati in simbolismo compatto. (Figura tratta da @kline2023principles)\n",
    ":::\n",
    "\n",
    "I modelli che includono cicli causali possono presentare, o meno, covarianze tra i loro termini di disturbo. La presenza di errori correlati in questi modelli implica l'esistenza di ipotesi su cause comuni non misurate che influenzano le variabili in questione.\n",
    "\n",
    "Ad esempio, nel modello rappresentato nella @fig-kline_7_4 (b), le variabili Y1 e Y2 sono definite come cause reciproche, ovvero ognuna influisce sull'altra. In aggiunta a ciò, se nel modello è specificata una covarianza tra i termini di disturbo $D_1$ e $D_2$, ciò suggerisce che Y1 e Y2 condividono almeno una causa comune non misurata. In altre parole, l'ipotesi è che esistano fattori non osservati che influenzano entrambe le variabili, $Y1$ e $Y2$, e questa influenza comune si manifesta attraverso la covarianza tra i loro termini di disturbo.\n",
    "\n",
    "Esiste anche un altro tipo di modello di percorso, quello che ha effetti unidirezionali e covarianze dei disturbi. I modelli parzialmente ricorsivi con un pattern di correlazioni dei disturbi senza \"archi\" possono essere trattati nell'analisi proprio come i modelli ricorsivi. Un pattern senza \"archi\" significa che gli errori correlati sono limitati a coppie di variabili endogene senza effetti diretti tra di loro, come Y1 e Y2 nella @fig-kline_7_4 (c).\n",
    "\n",
    "I modelli parzialmente ricorsivi che presentano un pattern di correlazioni dei disturbi caratterizzato dalla presenza di \"archi\" richiedono un trattamento analitico simile a quello dei modelli non ricorsivi. Un pattern con \"archi\" si verifica quando esiste una covarianza tra i termini di disturbo di due variabili endogene che sono collegate da un effetto diretto. Ad esempio, nella @fig-kline_7_4 (d), le variabili Y1 e Y2 sono collegate da un effetto diretto e presentano una covarianza tra i loro disturbi $D_1$ e $D_2$.\n",
    "\n",
    "La presenza di un effetto diretto insieme a disturbi correlati tra due variabili crea un percorso di confondimento nel modello. Un percorso di confondimento è una via attraverso la quale può fluire l'influenza causale indiretta, potenzialmente distorcendo l'interpretazione dei rapporti causali diretti. In questi casi, la selezione di covariate (variabili aggiuntive che potrebbero spiegare parte della relazione osservata) non è sufficiente per \"chiudere\" o eliminare questo percorso di confondimento. Pertanto, questi modelli richiedono un'attenzione particolare nell'analisi per garantire che le stime degli effetti causali siano accurate e non siano influenzate in modo improprio da questi percorsi di confondimento.\n",
    "\n",
    "I modelli ricorsivi e quelli parzialmente ricorsivi che non includono cicli causali possono essere efficacemente rappresentati tramite grafi aciclici diretti (DAG). Questo tipo di rappresentazione grafica implica che è possibile applicare tutte le regole di identificazione grafica esposte in questo capitolo. Nei DAG, le relazioni causali sono rappresentate come flussi unidirezionali senza cicli, rendendo più chiaro e diretto l'analisi delle relazioni tra le variabili.\n",
    "\n",
    "D'altra parte, i modelli non ricorsivi che includono cicli causali, come quello illustrato nella @fig-kline_7_4 (b), sono rappresentati da grafi ciclici diretti. In questi grafi, le variabili possono influenzarsi a vicenda in un ciclo continuo, creando una struttura più complessa. A causa di questa complessità, le regole di identificazione grafica per i grafi ciclici diretti non sono sviluppate quanto quelle per i DAG. Questo significa che analizzare e interpretare i modelli non ricorsivi con cicli causali è più complesso e richiede l'uso di approcci analitici più avanzati o specifici per gestire correttamente le relazioni cicliche tra le variabili.\n",
    "\n",
    "Possiamo stabilire una regola generale per i modelli di percorso parametrici: i modelli ricorsivi o parzialmente ricorsivi, che presentano schemi di covarianze dei disturbi privi di \"archi\" e che soddisfano due condizioni specifiche, sono considerati identificati. Queste condizioni sono: (1) i gradi di libertà del modello (dfM) devono essere maggiori o uguali a zero e (2) ogni variabile non misurata, inclusi i termini di errore, deve essere associata a una scala metrica.\n",
    "\n",
    "Inoltre, i modelli di equazioni strutturali che sono identificati e hanno un numero di osservazioni uguale al numero dei parametri liberi (dfM = 0) sono classificati come \"appena identificati\". Al contrario, i modelli con più osservazioni rispetto ai parametri liberi (dfM > 0) sono considerati \"sovraidentificati\".\n",
    "\n",
    "Un modello di equazioni strutturali può risultare sotto-identificato in due modi distinti: (1) se dfM è inferiore a zero, oppure (2) se, pur avendo un dfM maggiore o uguale a zero, alcuni parametri liberi rimangono sotto-identificati perché non vi sono sufficienti informazioni per la loro stima, anche se altri parametri all'interno dello stesso modello sono identificati. Nel secondo scenario, l'intero modello è considerato non identificato, anche se dfM è maggiore o uguale a zero. In generale, un modello si considera sotto-identificato quando non è possibile stimare in modo univoco tutti i suoi parametri liberi."
   ]
  },
  {
   "attachments": {},
   "cell_type": "markdown",
   "id": "b79070aa",
   "metadata": {},
   "source": [
    "## Analisi dei percorsi e regressione bivariata\n",
    "\n",
    "Cominciamo esaminando l'analisi dei percorsi partendo dall'esempio più semplice, ovvero il modello di regressione lineare. Il modello di regressione bivariata si esprime tramite l'equazione seguente:\n",
    "\n",
    "$$y_1 = b_0 + b_1 x_1 + \\epsilon_1,$$\n",
    "\n",
    "dove $y$ rappresenta la variabile dipendente, $b_0$ rappresenta l'intercetta, $b_1$ rappresenta la pendenza della retta di regressione, $x$ è la variabile indipendente e $\\epsilon$ è il termine di errore.\n",
    "\n",
    "Nell'ambito della descrizione delle relazioni tra variabili manifeste e latenti, si adotta spesso la notazione LISREL. In questa notazione, il modello presentato in precedenza può essere espresso come segue:\n",
    "\n",
    "$$y_1 = \\alpha + \\gamma x_1 + \\zeta_1,$$\n",
    "\n",
    "dove:\n",
    "\n",
    "- $x_1$: variabile esogena singola,\n",
    "- $y_1$: variabile endogena singola,\n",
    "- $\\alpha$: intercetta di $y_1$,\n",
    "- $\\gamma_1$: coefficiente di regressione,\n",
    "- $\\zeta_1$: termine di errore di $y_1$,\n",
    "- $\\phi$: varianza o covarianza della variabile esogena,\n",
    "- $\\psi$: varianza o covarianza residuale della variabile endogena.\n",
    "\n",
    "Il diagramma di percorso per il modello di regressione bivariata è illustrato nella @fig-lisrel_bivariate_reg.\n",
    "\n",
    "::: {#fig-lisrel_bivariate_reg}\n",
    "![](../../figures/lisrel_bivariate_reg.png){width=\"70%\"}\n",
    "\n",
    "Diagramma di percorso per il modello di regressione bivariato.\n",
    ":::\n",
    "\n",
    "Facciamo un esempio numerico. Simuliamo tre variabili: x1, x2, y."
   ]
  },
  {
   "cell_type": "code",
   "execution_count": 2,
   "id": "9c256132",
   "metadata": {
    "vscode": {
     "languageId": "r"
    }
   },
   "outputs": [
    {
     "data": {
      "text/html": [
       "<table class=\"dataframe\">\n",
       "<caption>A matrix: 3 x 3 of type dbl</caption>\n",
       "<thead>\n",
       "\t<tr><th></th><th scope=col>y</th><th scope=col>x1</th><th scope=col>x2</th></tr>\n",
       "</thead>\n",
       "<tbody>\n",
       "\t<tr><th scope=row>y</th><td>1.00</td><td>0.55</td><td>0.80</td></tr>\n",
       "\t<tr><th scope=row>x1</th><td>0.55</td><td>1.00</td><td>0.62</td></tr>\n",
       "\t<tr><th scope=row>x2</th><td>0.80</td><td>0.62</td><td>1.00</td></tr>\n",
       "</tbody>\n",
       "</table>\n"
      ],
      "text/latex": [
       "A matrix: 3 x 3 of type dbl\n",
       "\\begin{tabular}{r|lll}\n",
       "  & y & x1 & x2\\\\\n",
       "\\hline\n",
       "\ty & 1.00 & 0.55 & 0.80\\\\\n",
       "\tx1 & 0.55 & 1.00 & 0.62\\\\\n",
       "\tx2 & 0.80 & 0.62 & 1.00\\\\\n",
       "\\end{tabular}\n"
      ],
      "text/markdown": [
       "\n",
       "A matrix: 3 x 3 of type dbl\n",
       "\n",
       "| <!--/--> | y | x1 | x2 |\n",
       "|---|---|---|---|\n",
       "| y | 1.00 | 0.55 | 0.80 |\n",
       "| x1 | 0.55 | 1.00 | 0.62 |\n",
       "| x2 | 0.80 | 0.62 | 1.00 |\n",
       "\n"
      ],
      "text/plain": [
       "   y    x1   x2  \n",
       "y  1.00 0.55 0.80\n",
       "x1 0.55 1.00 0.62\n",
       "x2 0.80 0.62 1.00"
      ]
     },
     "metadata": {},
     "output_type": "display_data"
    }
   ],
   "source": [
    "set.seed(42)\n",
    "n <- 100\n",
    "x1 <- rnorm(n, 90, 20)\n",
    "x2 <- x1 + rnorm(n, 0, 30)\n",
    "y <- 25 + 0.5 * x1 + 1.0 * x2 + rnorm(n, 0, 30)\n",
    "\n",
    "dat <- data.frame(\n",
    "    y, x1, x2\n",
    ")\n",
    "\n",
    "cor(dat) |>\n",
    "    round(2)"
   ]
  },
  {
   "attachments": {},
   "cell_type": "markdown",
   "id": "4fb769ff",
   "metadata": {},
   "source": [
    "Consideriamo la relazione tra `x1` (variabile endogena) e `y` (variabile endogena). In R possiamo adattare ai dati un modello di regressione mediante la funzione `lm`."
   ]
  },
  {
   "cell_type": "code",
   "execution_count": 3,
   "id": "e64b3879",
   "metadata": {
    "vscode": {
     "languageId": "r"
    }
   },
   "outputs": [
    {
     "data": {
      "text/plain": [
       "\n",
       "Call:\n",
       "lm(formula = y ~ x1, data = dat)\n",
       "\n",
       "Residuals:\n",
       "   Min     1Q Median     3Q    Max \n",
       "-82.46 -29.54  -3.44  29.20 122.23 \n",
       "\n",
       "Coefficients:\n",
       "            Estimate Std. Error t value Pr(>|t|)    \n",
       "(Intercept)   37.597     18.984    1.98     0.05 .  \n",
       "x1             1.329      0.204    6.51  3.3e-09 ***\n",
       "---\n",
       "Signif. codes:  0 '***' 0.001 '**' 0.01 '*' 0.05 '.' 0.1 ' ' 1\n",
       "\n",
       "Residual standard error: 42.3 on 98 degrees of freedom\n",
       "Multiple R-squared:  0.302,\tAdjusted R-squared:  0.295 \n",
       "F-statistic: 42.4 on 1 and 98 DF,  p-value: 3.25e-09\n"
      ]
     },
     "metadata": {},
     "output_type": "display_data"
    }
   ],
   "source": [
    "m1a <- lm(y ~ x1, data = dat)\n",
    "summary(m1a)"
   ]
  },
  {
   "attachments": {},
   "cell_type": "markdown",
   "id": "219e3456",
   "metadata": {},
   "source": [
    "Usiamo ora lavaan per adattare lo stesso modello ai dati."
   ]
  },
  {
   "cell_type": "code",
   "execution_count": 4,
   "id": "17db7215",
   "metadata": {
    "vscode": {
     "languageId": "r"
    }
   },
   "outputs": [
    {
     "data": {
      "text/html": [
       "<table class=\"dataframe\">\n",
       "<caption>A lavaan.data.frame: 5 x 9</caption>\n",
       "<thead>\n",
       "\t<tr><th scope=col>lhs</th><th scope=col>op</th><th scope=col>rhs</th><th scope=col>est</th><th scope=col>se</th><th scope=col>z</th><th scope=col>pvalue</th><th scope=col>ci.lower</th><th scope=col>ci.upper</th></tr>\n",
       "\t<tr><th scope=col>&lt;chr&gt;</th><th scope=col>&lt;chr&gt;</th><th scope=col>&lt;chr&gt;</th><th scope=col>&lt;dbl&gt;</th><th scope=col>&lt;dbl&gt;</th><th scope=col>&lt;dbl&gt;</th><th scope=col>&lt;dbl&gt;</th><th scope=col>&lt;dbl&gt;</th><th scope=col>&lt;dbl&gt;</th></tr>\n",
       "</thead>\n",
       "<tbody>\n",
       "\t<tr><td>y </td><td>~1</td><td>  </td><td>  37.60</td><td> 18.794</td><td>2.00</td><td>4.54e-02</td><td>   0.763</td><td>  74.43</td></tr>\n",
       "\t<tr><td>y </td><td>~ </td><td>x1</td><td>   1.33</td><td>  0.202</td><td>6.57</td><td>4.90e-11</td><td>   0.933</td><td>   1.72</td></tr>\n",
       "\t<tr><td>y </td><td>~~</td><td>y </td><td>1754.10</td><td>248.067</td><td>7.07</td><td>1.54e-12</td><td>1267.897</td><td>2240.30</td></tr>\n",
       "\t<tr><td>x1</td><td>~~</td><td>x1</td><td> 429.43</td><td>  0.000</td><td>  NA</td><td>      NA</td><td> 429.432</td><td> 429.43</td></tr>\n",
       "\t<tr><td>x1</td><td>~1</td><td>  </td><td>  90.65</td><td>  0.000</td><td>  NA</td><td>      NA</td><td>  90.650</td><td>  90.65</td></tr>\n",
       "</tbody>\n",
       "</table>\n"
      ],
      "text/latex": [
       "A lavaan.data.frame: 5 x 9\n",
       "\\begin{tabular}{lllllllll}\n",
       " lhs & op & rhs & est & se & z & pvalue & ci.lower & ci.upper\\\\\n",
       " <chr> & <chr> & <chr> & <dbl> & <dbl> & <dbl> & <dbl> & <dbl> & <dbl>\\\\\n",
       "\\hline\n",
       "\t y  & \\textasciitilde{}1 &    &   37.60 &  18.794 & 2.00 & 4.54e-02 &    0.763 &   74.43\\\\\n",
       "\t y  & \\textasciitilde{}  & x1 &    1.33 &   0.202 & 6.57 & 4.90e-11 &    0.933 &    1.72\\\\\n",
       "\t y  & \\textasciitilde{}\\textasciitilde{} & y  & 1754.10 & 248.067 & 7.07 & 1.54e-12 & 1267.897 & 2240.30\\\\\n",
       "\t x1 & \\textasciitilde{}\\textasciitilde{} & x1 &  429.43 &   0.000 &   NA &       NA &  429.432 &  429.43\\\\\n",
       "\t x1 & \\textasciitilde{}1 &    &   90.65 &   0.000 &   NA &       NA &   90.650 &   90.65\\\\\n",
       "\\end{tabular}\n"
      ],
      "text/markdown": [
       "\n",
       "A lavaan.data.frame: 5 x 9\n",
       "\n",
       "| lhs &lt;chr&gt; | op &lt;chr&gt; | rhs &lt;chr&gt; | est &lt;dbl&gt; | se &lt;dbl&gt; | z &lt;dbl&gt; | pvalue &lt;dbl&gt; | ci.lower &lt;dbl&gt; | ci.upper &lt;dbl&gt; |\n",
       "|---|---|---|---|---|---|---|---|---|\n",
       "| y  | ~1 | <!----> |   37.60 |  18.794 | 2.00 | 4.54e-02 |    0.763 |   74.43 |\n",
       "| y  | ~  | x1 |    1.33 |   0.202 | 6.57 | 4.90e-11 |    0.933 |    1.72 |\n",
       "| y  | ~~ | y  | 1754.10 | 248.067 | 7.07 | 1.54e-12 | 1267.897 | 2240.30 |\n",
       "| x1 | ~~ | x1 |  429.43 |   0.000 |   NA |       NA |  429.432 |  429.43 |\n",
       "| x1 | ~1 | <!----> |   90.65 |   0.000 |   NA |       NA |   90.650 |   90.65 |\n",
       "\n"
      ],
      "text/plain": [
       "  lhs op rhs est     se      z    pvalue   ci.lower ci.upper\n",
       "1 y   ~1       37.60  18.794 2.00 4.54e-02    0.763   74.43 \n",
       "2 y   ~  x1     1.33   0.202 6.57 4.90e-11    0.933    1.72 \n",
       "3 y   ~~ y   1754.10 248.067 7.07 1.54e-12 1267.897 2240.30 \n",
       "4 x1  ~~ x1   429.43   0.000   NA       NA  429.432  429.43 \n",
       "5 x1  ~1       90.65   0.000   NA       NA   90.650   90.65 "
      ]
     },
     "metadata": {},
     "output_type": "display_data"
    }
   ],
   "source": [
    "m1b <- \"\n",
    "    y ~ 1 + x1\n",
    "\"\n",
    "fit1b <- sem(m1b, data = dat)\n",
    "parameterEstimates(fit1b) "
   ]
  },
  {
   "attachments": {},
   "cell_type": "markdown",
   "id": "7afc816f",
   "metadata": {},
   "source": [
    "L'intercetta di `y ~1` (37.597) e il coefficiente di regressione di `y ~ x1` (1.329) corrispondono all'output di `lm()` con piccoli errori di arrotondamento. L'intercetta per `x1 ~1` (90.650) e la sua varianza `x1 ~~ x1` (429.432) descrivono una media ed una varianza esogena e corrispondono alla media e alla varianza univariate:"
   ]
  },
  {
   "cell_type": "code",
   "execution_count": 5,
   "id": "dcdb3fae",
   "metadata": {
    "vscode": {
     "languageId": "r"
    }
   },
   "outputs": [
    {
     "data": {
      "text/html": [
       "90.6502963122602"
      ],
      "text/latex": [
       "90.6502963122602"
      ],
      "text/markdown": [
       "90.6502963122602"
      ],
      "text/plain": [
       "[1] 90.7"
      ]
     },
     "metadata": {},
     "output_type": "display_data"
    }
   ],
   "source": [
    "mean(dat$x1)"
   ]
  },
  {
   "cell_type": "code",
   "execution_count": 6,
   "id": "2035b212",
   "metadata": {
    "vscode": {
     "languageId": "r"
    }
   },
   "outputs": [
    {
     "data": {
      "text/html": [
       "429.432031274383"
      ],
      "text/latex": [
       "429.432031274383"
      ],
      "text/markdown": [
       "429.432031274383"
      ],
      "text/plain": [
       "[1] 429"
      ]
     },
     "metadata": {},
     "output_type": "display_data"
    }
   ],
   "source": [
    "var(dat$x1) * (length(dat$x1) - 1) / length(dat$x1)"
   ]
  },
  {
   "cell_type": "markdown",
   "id": "a6fd0376",
   "metadata": {},
   "source": [
    "La varianza residua di `y`, `y ~~ y` corrisponde alla quota della varianza osservata della variabile `y` che non è spiegata dalla relazione lineare su `x1`:"
   ]
  },
  {
   "cell_type": "code",
   "execution_count": 7,
   "id": "23c1d7b4",
   "metadata": {
    "vscode": {
     "languageId": "r"
    }
   },
   "outputs": [
    {
     "data": {
      "text/html": [
       "1754.15693691975"
      ],
      "text/latex": [
       "1754.15693691975"
      ],
      "text/markdown": [
       "1754.15693691975"
      ],
      "text/plain": [
       "[1] 1754"
      ]
     },
     "metadata": {},
     "output_type": "display_data"
    }
   ],
   "source": [
    "var(dat$y) * 99 / 100 - (1.3286 * 429.432 * 1.3286)"
   ]
  },
  {
   "attachments": {},
   "cell_type": "markdown",
   "metadata": {},
   "source": [
    "La funzione `semPaths` consente di creare un diagramma di percorso a partire dall'oggetto creato da `sem`."
   ]
  },
  {
   "cell_type": "code",
   "execution_count": 8,
   "id": "a7d8d28e",
   "metadata": {
    "vscode": {
     "languageId": "r"
    }
   },
   "outputs": [
    {
     "data": {
      "image/png": "[encoded data removed]",
      "text/plain": [
       "plot without title"
      ]
     },
     "metadata": {
      "image/png": {
       "height": 370.8204,
       "width": 600
      }
     },
     "output_type": "display_data"
    }
   ],
   "source": [
    "semPlot::semPaths(\n",
    "    fit1b,\n",
    "    layout = \"tree\", sizeMan = 7, sizeInt = 5, style = \"ram\", \n",
    "    residuals = TRUE, intAtSide = FALSE, edge.label.cex = 1.15,\n",
    "    whatLabels = \"est\", nCharNodes = 0, normalize = FALSE\n",
    ")\n"
   ]
  },
  {
   "attachments": {},
   "cell_type": "markdown",
   "id": "3599623d",
   "metadata": {},
   "source": [
    "## Analisi dei percorsi e regressione multipla\n",
    "\n",
    "La regressione semplice è limitata a una sola variabile esogena. Nella pratica, un ricercatore può essere interessato a studiare come un gruppo di variabili esogene possano predire una variabile di esito. Supponiamo di avere ancora una sola variabile di esito endogena ma due predittori esogeni; questo caso è noto come regressione multipla:\n",
    "\n",
    "$$\n",
    "y_1 = \\alpha_1 + \\gamma_1 x_1 + \\gamma_2 x_2 + \\zeta_1.\n",
    "$$\n",
    "\n",
    "Il diagramma di percorso mostra la relazione tra tutte le variabili, comprendendo anche i fattori di disturbo, e fornisce dunque la rappresentazione grafica dell'equazione precedente.\n",
    "\n",
    "::: {#fig-lisrel_mr}\n",
    "![](../../figures/lisrel_mr.png){width=\"80%\"}\n",
    "\n",
    "Diagramma di percorso per il modello di regressione multipla.\n",
    ":::\n",
    "\n",
    "I coefficienti di percorso associati alle frecce orientate esprimono la portata del nesso causale e corrispondono ai pesi beta (ovvero ai coefficienti parziali di regressione standardizzati). Le frecce non orientate esprimono la portata della pura associazione tra variabili e dunque corrispondono alle correlazioni/covarianze.\n",
    "\n",
    "In un diagramma di percorso, il numero di equazioni corrisponde al numero di variabili endogene del modello. Nel caso specifico, poiché vi è una sola variabile endogena (ovvero $y$), esiste un'unica equazione che descrive le relazioni causalitiche interne al path diagram. All'interno di ciascuna equazione, inoltre, il numero di termini corrisponde al numero di frecce orientate che puntano verso la variabile endogena. Nell'esempio sopra citato, pertanto, la sola equazione del modello contiene tre termini, ciascuno associato ad una freccia orientata.\n",
    "\n",
    "Usando `lm` otteniamo la seguente stima dei coefficienti:"
   ]
  },
  {
   "cell_type": "code",
   "execution_count": 9,
   "id": "c7a84d71",
   "metadata": {
    "vscode": {
     "languageId": "r"
    }
   },
   "outputs": [],
   "source": [
    "m2a <- lm(y ~ 1 + x1 + x2, data = dat)\n",
    "fit2a <- summary(m2a) "
   ]
  },
  {
   "attachments": {},
   "cell_type": "markdown",
   "id": "fef0c481",
   "metadata": {},
   "source": [
    "Gli stessi risultati si ottengono con lavaan."
   ]
  },
  {
   "cell_type": "code",
   "execution_count": 10,
   "id": "1c19ef3a",
   "metadata": {
    "vscode": {
     "languageId": "r"
    }
   },
   "outputs": [],
   "source": [
    "m2b <- \"\n",
    "    y ~ 1 + x1 + x2\n",
    "    x1 ~~ x1\n",
    "    x2 ~~ x2\n",
    "    x1 ~~ x2\n",
    "\""
   ]
  },
  {
   "cell_type": "code",
   "execution_count": 11,
   "id": "662ccedf",
   "metadata": {
    "vscode": {
     "languageId": "r"
    }
   },
   "outputs": [],
   "source": [
    "fit2b <- sem(m2b, data = dat)"
   ]
  },
  {
   "cell_type": "code",
   "execution_count": 12,
   "id": "2578f8b2",
   "metadata": {
    "vscode": {
     "languageId": "r"
    }
   },
   "outputs": [
    {
     "data": {
      "text/html": [
       "<table class=\"dataframe\">\n",
       "<caption>A lavaan.data.frame: 9 x 9</caption>\n",
       "<thead>\n",
       "\t<tr><th scope=col>lhs</th><th scope=col>op</th><th scope=col>rhs</th><th scope=col>est</th><th scope=col>se</th><th scope=col>z</th><th scope=col>pvalue</th><th scope=col>ci.lower</th><th scope=col>ci.upper</th></tr>\n",
       "\t<tr><th scope=col>&lt;chr&gt;</th><th scope=col>&lt;chr&gt;</th><th scope=col>&lt;chr&gt;</th><th scope=col>&lt;dbl&gt;</th><th scope=col>&lt;dbl&gt;</th><th scope=col>&lt;dbl&gt;</th><th scope=col>&lt;dbl&gt;</th><th scope=col>&lt;dbl&gt;</th><th scope=col>&lt;dbl&gt;</th></tr>\n",
       "</thead>\n",
       "<tbody>\n",
       "\t<tr><td>y </td><td>~1</td><td>  </td><td>  44.454</td><td> 13.457</td><td> 3.30</td><td>9.56e-04</td><td> 18.078</td><td>  70.830</td></tr>\n",
       "\t<tr><td>y </td><td>~ </td><td>x1</td><td>   0.199</td><td>  0.185</td><td> 1.08</td><td>2.82e-01</td><td> -0.164</td><td>   0.562</td></tr>\n",
       "\t<tr><td>y </td><td>~ </td><td>x2</td><td>   1.085</td><td>  0.111</td><td> 9.78</td><td>0.00e+00</td><td>  0.868</td><td>   1.303</td></tr>\n",
       "\t<tr><td>x1</td><td>~~</td><td>x1</td><td> 429.432</td><td> 60.731</td><td> 7.07</td><td>1.54e-12</td><td>310.402</td><td> 548.462</td></tr>\n",
       "\t<tr><td>x2</td><td>~~</td><td>x2</td><td>1192.840</td><td>168.693</td><td> 7.07</td><td>1.54e-12</td><td>862.208</td><td>1523.472</td></tr>\n",
       "\t<tr><td>x1</td><td>~~</td><td>x2</td><td> 446.927</td><td> 84.379</td><td> 5.30</td><td>1.18e-07</td><td>281.546</td><td> 612.307</td></tr>\n",
       "\t<tr><td>y </td><td>~~</td><td>y </td><td> 896.963</td><td>126.850</td><td> 7.07</td><td>1.54e-12</td><td>648.342</td><td>1145.584</td></tr>\n",
       "\t<tr><td>x1</td><td>~1</td><td>  </td><td>  90.650</td><td>  2.072</td><td>43.74</td><td>0.00e+00</td><td> 86.589</td><td>  94.712</td></tr>\n",
       "\t<tr><td>x2</td><td>~1</td><td>  </td><td>  88.026</td><td>  3.454</td><td>25.49</td><td>0.00e+00</td><td> 81.257</td><td>  94.795</td></tr>\n",
       "</tbody>\n",
       "</table>\n"
      ],
      "text/latex": [
       "A lavaan.data.frame: 9 x 9\n",
       "\\begin{tabular}{lllllllll}\n",
       " lhs & op & rhs & est & se & z & pvalue & ci.lower & ci.upper\\\\\n",
       " <chr> & <chr> & <chr> & <dbl> & <dbl> & <dbl> & <dbl> & <dbl> & <dbl>\\\\\n",
       "\\hline\n",
       "\t y  & \\textasciitilde{}1 &    &   44.454 &  13.457 &  3.30 & 9.56e-04 &  18.078 &   70.830\\\\\n",
       "\t y  & \\textasciitilde{}  & x1 &    0.199 &   0.185 &  1.08 & 2.82e-01 &  -0.164 &    0.562\\\\\n",
       "\t y  & \\textasciitilde{}  & x2 &    1.085 &   0.111 &  9.78 & 0.00e+00 &   0.868 &    1.303\\\\\n",
       "\t x1 & \\textasciitilde{}\\textasciitilde{} & x1 &  429.432 &  60.731 &  7.07 & 1.54e-12 & 310.402 &  548.462\\\\\n",
       "\t x2 & \\textasciitilde{}\\textasciitilde{} & x2 & 1192.840 & 168.693 &  7.07 & 1.54e-12 & 862.208 & 1523.472\\\\\n",
       "\t x1 & \\textasciitilde{}\\textasciitilde{} & x2 &  446.927 &  84.379 &  5.30 & 1.18e-07 & 281.546 &  612.307\\\\\n",
       "\t y  & \\textasciitilde{}\\textasciitilde{} & y  &  896.963 & 126.850 &  7.07 & 1.54e-12 & 648.342 & 1145.584\\\\\n",
       "\t x1 & \\textasciitilde{}1 &    &   90.650 &   2.072 & 43.74 & 0.00e+00 &  86.589 &   94.712\\\\\n",
       "\t x2 & \\textasciitilde{}1 &    &   88.026 &   3.454 & 25.49 & 0.00e+00 &  81.257 &   94.795\\\\\n",
       "\\end{tabular}\n"
      ],
      "text/markdown": [
       "\n",
       "A lavaan.data.frame: 9 x 9\n",
       "\n",
       "| lhs &lt;chr&gt; | op &lt;chr&gt; | rhs &lt;chr&gt; | est &lt;dbl&gt; | se &lt;dbl&gt; | z &lt;dbl&gt; | pvalue &lt;dbl&gt; | ci.lower &lt;dbl&gt; | ci.upper &lt;dbl&gt; |\n",
       "|---|---|---|---|---|---|---|---|---|\n",
       "| y  | ~1 | <!----> |   44.454 |  13.457 |  3.30 | 9.56e-04 |  18.078 |   70.830 |\n",
       "| y  | ~  | x1 |    0.199 |   0.185 |  1.08 | 2.82e-01 |  -0.164 |    0.562 |\n",
       "| y  | ~  | x2 |    1.085 |   0.111 |  9.78 | 0.00e+00 |   0.868 |    1.303 |\n",
       "| x1 | ~~ | x1 |  429.432 |  60.731 |  7.07 | 1.54e-12 | 310.402 |  548.462 |\n",
       "| x2 | ~~ | x2 | 1192.840 | 168.693 |  7.07 | 1.54e-12 | 862.208 | 1523.472 |\n",
       "| x1 | ~~ | x2 |  446.927 |  84.379 |  5.30 | 1.18e-07 | 281.546 |  612.307 |\n",
       "| y  | ~~ | y  |  896.963 | 126.850 |  7.07 | 1.54e-12 | 648.342 | 1145.584 |\n",
       "| x1 | ~1 | <!----> |   90.650 |   2.072 | 43.74 | 0.00e+00 |  86.589 |   94.712 |\n",
       "| x2 | ~1 | <!----> |   88.026 |   3.454 | 25.49 | 0.00e+00 |  81.257 |   94.795 |\n",
       "\n"
      ],
      "text/plain": [
       "  lhs op rhs est      se      z     pvalue   ci.lower ci.upper\n",
       "1 y   ~1       44.454  13.457  3.30 9.56e-04  18.078    70.830\n",
       "2 y   ~  x1     0.199   0.185  1.08 2.82e-01  -0.164     0.562\n",
       "3 y   ~  x2     1.085   0.111  9.78 0.00e+00   0.868     1.303\n",
       "4 x1  ~~ x1   429.432  60.731  7.07 1.54e-12 310.402   548.462\n",
       "5 x2  ~~ x2  1192.840 168.693  7.07 1.54e-12 862.208  1523.472\n",
       "6 x1  ~~ x2   446.927  84.379  5.30 1.18e-07 281.546   612.307\n",
       "7 y   ~~ y    896.963 126.850  7.07 1.54e-12 648.342  1145.584\n",
       "8 x1  ~1       90.650   2.072 43.74 0.00e+00  86.589    94.712\n",
       "9 x2  ~1       88.026   3.454 25.49 0.00e+00  81.257    94.795"
      ]
     },
     "metadata": {},
     "output_type": "display_data"
    }
   ],
   "source": [
    "parameterEstimates(fit2b)"
   ]
  },
  {
   "attachments": {},
   "cell_type": "markdown",
   "id": "78b4ee5b",
   "metadata": {},
   "source": [
    "Esaminiamo il diagramma di percorso."
   ]
  },
  {
   "cell_type": "code",
   "execution_count": 13,
   "id": "826fae78",
   "metadata": {
    "vscode": {
     "languageId": "r"
    }
   },
   "outputs": [
    {
     "data": {
      "image/png": "[encoded data removed]",
      "text/plain": [
       "plot without title"
      ]
     },
     "metadata": {
      "image/png": {
       "height": 370.8204,
       "width": 600
      }
     },
     "output_type": "display_data"
    }
   ],
   "source": [
    "semPlot::semPaths(\n",
    "    fit2b,\n",
    "    layout = \"tree\", sizeMan = 7, sizeInt = 5, style = \"ram\",\n",
    "    residuals = TRUE, intAtSide = FALSE, edge.label.cex = 1.15,\n",
    "    whatLabels = \"est\", nCharNodes = 0, normalize = FALSE\n",
    ")\n"
   ]
  },
  {
   "attachments": {},
   "cell_type": "markdown",
   "id": "c90a68ad",
   "metadata": {},
   "source": [
    "## Effetti diretti e indiretti\n",
    "\n",
    "L'analisi del percorso offre un metodo essenziale per distinguere tra diverse tipologie di effetti che influenzano le variabili in esame: l'effetto diretto, l'effetto indiretto e l'effetto totale. Gli effetti diretti rappresentano l'influenza che una variabile esercita su un'altra senza mediazione di altre variabili intermedie. Gli effetti indiretti, invece, operano attraverso l'intermediazione di almeno una variabile aggiuntiva nel processo. L'effetto totale è la somma cumulativa degli effetti diretti e indiretti.\n",
    "\n",
    "Nella @fig-path_03, la variabile $y_1$ esercita un effetto diretto sulla variabile $y_2$. Allo stesso tempo, $y_1$ produce un effetto indiretto sulla variabile $y_3$, poiché non esiste una connessione causale diretta tra $y_1$ e $y_3$. Nel contesto rappresentato, la variabile $y_1$ agisce come variabile esogena, mentre le variabili $y_2$ e $y_3$ fungono da variabili endogene.\n",
    "\n",
    "::: {#fig-path_03}\n",
    "![](../../figures/path_03.png){width=\"40%\"}\n",
    "\n",
    "Diagramma di percorso per un modello a catena.\n",
    ":::"
   ]
  },
  {
   "attachments": {},
   "cell_type": "markdown",
   "id": "86cc1164",
   "metadata": {},
   "source": [
    "## Le regole di Wright\n",
    "\n",
    "L'obiettivo primario dell'analisi del percorso consiste nella decomposizione della correlazione (o della covarianza) in base alla somma dei vari percorsi (diretti e indiretti) che collegano due variabili mediante coefficienti noti come \"path coefficients.\" Utilizzando il diagramma del percorso, Sewall Wright (1921, 1934) formulò le regole che, tramite le \"tracing rules,\" stabiliscono il collegamento tra le correlazioni (o covarianze) delle variabili e i parametri del modello. Le tracing rules si possono esprimere nei seguenti termini:\n",
    "\n",
    "- È possibile procedere in avanti lungo una freccia e poi a ritroso, seguendo la direzione della freccia, ma non è permesso muoversi in avanti e poi tornare indietro.\n",
    "- Un percorso composto non deve attraversare più di una volta la stessa variabile, cioè non possono esserci cicli.\n",
    "- Un percorso non può contenere più di una linea curva.\n",
    "\n",
    "Il termine \"percorso\" fa riferimento al tracciato che connette due variabili e si compone di sequenze di frecce unidirezionali e curve non direzionali. A ciascun percorso valido (cioè conforme alle regole di Wright) viene assegnato un valore numerico che rappresenta il prodotto dei coefficienti presenti lungo il percorso stesso. I coefficienti di percorso possono essere coefficienti parziali di regressione standardizzati se il legame è unidirezionale, oppure coefficienti di correlazione se il legame è bidirezionale.\n",
    "\n",
    "## Scomposizione delle correlazioni/covarianze\n",
    "\n",
    "Il principio fondamentale è stato formulato da Sewall Wright (1934) nel seguente modo:\n",
    "\n",
    "> Ogni correlazione tra variabili in una rete di relazioni sequenziali può essere analizzata nei contributi provenienti da tutti i percorsi (diretti o attraverso fattori comuni) con i quali le due variabili sono connesse. Ogni contributo ha un valore pari al prodotto dei coefficienti relativi ai percorsi elementari. Se sono presenti correlazioni residue (rappresentate da frecce bidirezionali), uno (ma mai più di uno) dei coefficienti moltiplicati per ottenere il contributo del percorso di connessione può essere un coefficiente di correlazione. Gli altri sono tutti coefficienti di percorso.\n",
    "\n",
    "Da questo principio possiamo derivare la regola di scomposizione della correlazione: la correlazione o covarianza tra due variabili può essere scomposta in un numero di termini uguale al numero di percorsi che le collegano. Ogni termine è ottenuto dal prodotto dei coefficienti associati alle variabili lungo il percorso. In altre parole, è possibile decomporre la correlazione o la covarianza tra due variabili in tanti contributi quanti sono i percorsi possibili che collegano le due variabili.\n",
    "\n",
    "### Scomposizione della varianza\n",
    "\n",
    "La decomposizione della varianza di una variabile endogena può essere affrontata attraverso una suddivisione in due componenti: una componente spiegata, attribuibile alle variabili che esercitano un'influenza causale su di essa, e una componente non spiegata. La componente spiegata della varianza deriva dall'aggregazione degli effetti delle diverse variabili che sono connessi alla variabile endogena, rispettando le regole di tracciamento definite da Wright. Il numero di addendi corrisponde al numero di percorsi che collegano la variabile endogena a se stessa. In tal modo, la varianza spiegata rappresenta la parte della varianza totale della variabile endogena che può essere attribuita alle influenze delle variabili correlate attraverso i percorsi definibili all'interno del modello.\n",
    "\n",
    "### Relazioni tra variabili endogene e esogene\n",
    "\n",
    "Complessivamente, i concetti di varianza, covarianza e correlazione informano direttamente il calcolo dei coefficienti di percorso in un path diagram secondo le seguenti \"8 regole dei coefficienti di percorso\".\n",
    "\n",
    "- Regola 1: Le relazioni non specificate tra le variabili esogene sono semplicemente le loro correlazioni bivariate.\n",
    "- Regola 2: Quando due variabili sono collegate da un singolo percorso, il coefficiente di quel percorso è il coefficiente di regressione.\n",
    "- Regola 3: La forza di un percorso composto (che include più collegamenti) è il prodotto dei coefficienti individuali.\n",
    "- Regola 4: Quando le variabili sono collegate da più di un percorso, ciascun percorso è il coefficiente di regressione \"parziale\".\n",
    "- Regola 5: Gli errori sulle variabili endogene si riferiscono alle correlazioni o varianze non spiegate che derivano dalle variabili non misurate.\n",
    "- Regola 6: Le correlazioni non analizzate (residui) tra due variabili endogene sono le loro correlazioni parziali.\n",
    "- Regola 7: L'effetto totale che una variabile ha su un'altra è la somma dei suoi effetti diretti e indiretti.\n",
    "- Regola 8: L'effetto totale (compresi i percorsi non diretti) è equivalente alla correlazione totale."
   ]
  },
  {
   "attachments": {},
   "cell_type": "markdown",
   "id": "fe0e367a",
   "metadata": {},
   "source": [
    "**Esempio.** Consideriamo nuovamente il modello di regressione multipla con due variabili esogene e una sola variabile endogena che è stato presentato sopra. \n",
    "\n",
    "La la covarianza tra `y` e `x1` "
   ]
  },
  {
   "cell_type": "code",
   "execution_count": 22,
   "id": "8a045839",
   "metadata": {
    "vscode": {
     "languageId": "r"
    }
   },
   "outputs": [
    {
     "data": {
      "text/html": [
       "570.56471345413"
      ],
      "text/latex": [
       "570.56471345413"
      ],
      "text/markdown": [
       "570.56471345413"
      ],
      "text/plain": [
       "[1] 570.5647"
      ]
     },
     "metadata": {},
     "output_type": "display_data"
    }
   ],
   "source": [
    "cov(dat$y, dat$x1) * 99 / 100"
   ]
  },
  {
   "attachments": {},
   "cell_type": "markdown",
   "id": "b0b364a3",
   "metadata": {},
   "source": [
    "può essere ricavata usando le regole di Wright nel modo seguente:"
   ]
  },
  {
   "cell_type": "code",
   "execution_count": 23,
   "id": "321e0173",
   "metadata": {
    "vscode": {
     "languageId": "r"
    }
   },
   "outputs": [
    {
     "data": {
      "text/html": [
       "570.37562"
      ],
      "text/latex": [
       "570.37562"
      ],
      "text/markdown": [
       "570.37562"
      ],
      "text/plain": [
       "[1] 570.3756"
      ]
     },
     "metadata": {},
     "output_type": "display_data"
    }
   ],
   "source": [
    "0.199 * 429.43 + 1.085 * 446.93"
   ]
  },
  {
   "attachments": {},
   "cell_type": "markdown",
   "id": "3856f0ec",
   "metadata": {},
   "source": [
    "La quota di varianza non spiegata della variabile endogena è:"
   ]
  },
  {
   "cell_type": "code",
   "execution_count": 24,
   "id": "b6da4f21",
   "metadata": {
    "lines_to_next_cell": 0,
    "vscode": {
     "languageId": "r"
    }
   },
   "outputs": [
    {
     "data": {
      "text/html": [
       "897.936130308472"
      ],
      "text/latex": [
       "897.936130308472"
      ],
      "text/markdown": [
       "897.936130308472"
      ],
      "text/plain": [
       "[1] 897.9361"
      ]
     },
     "metadata": {},
     "output_type": "display_data"
    }
   ],
   "source": [
    "(var(dat$y) * 99 / 100) - (\n",
    "    0.199^2 * 429.43 + (1.085)^2 * 1192.84 + 2 * (0.199 * 1.085 * 446.93)\n",
    ")"
   ]
  },
  {
   "cell_type": "markdown",
   "id": "62a10f24",
   "metadata": {},
   "source": [
    "## Oltre la regressione multipla\n",
    "\n",
    "Approfondiamo l'utilizzo dell'analisi dei percorsi (path analysis) per studiare un modello di mediazione che supera i limiti della classica regressione multipla. L'analisi di mediazione è un metodo statistico ampiamente impiegato dai psicologi per esaminare le relazioni complesse tra le variabili di uno studio. Questa metodologia può essere applicata in studi osservazionali per affinare la comprensione della relazione tra variabili predittive e variabili di esito, introducendo mediatori. L'integrazione di mediatori permette di esplorare e chiarire i meccanismi sottostanti che influenzano la relazione tra le variabili principali, fornendo una visione più dettagliata e complessa degli effetti e delle interazioni in gioco.\n",
    "\n",
    "Prenderemo in esame un modello teorico specifico, ispirato alla Self Determination Theory (SDT) di Deci e Ryan (2000), una delle teorie più influenti nel campo della motivazione. In questo contesto, utilizzeremo la path analysis per valutare come la SDT possa aiutarci a comprendere i fattori psicologici e comportamentali che influenzano i sintomi bulimici in un gruppo di giovani donne adulte. Più specificamente, esamineremo come l'appagamento (soddisfazione) e l'esaurimento (frustrazione) delle risorse psicologiche essenziali, o bisogni psicologici (ad esempio, per l'autonomia, la competenza e la relazionalità), possono prevedere in modo differenziale i sintomi bulimici nelle donne attraverso due mediatori chiave, l'approvazione degli ideali culturali sulla magrezza e inflessibilità delle opinioni sul proprio corpo. Secondo la SDT, i bisogni psicologici influenzano la capacità di un individuo di autoregolarsi e far fronte alle richieste della vita quotidiana e possono rendere gli individui vulnerabili al malessere psicologico se i bisogni psicologici vengono frustrati (Vansteenkiste & Ryan, 2013). La frustrazione dei bisogni può essere psicologicamente più depauperante della mancanza di soddisfazione dei bisogni. \n",
    "\n",
    "Gli individui i cui bisogni vengono frustrati possono impegnarsi in attività malsane e comportamenti compensatori al fine di riconquistare una soddisfazione dei bisogni a breve termine. La frustrazione dei bisogni rende gli individui più vulnerabili agli ideali culturali, in quanto le risorse personali per rifiutare questi ideali sono esaurite (Pelletier & Dion, 2007).\n",
    "\n",
    "Il modello che verrà testato propone che le donne i cui bisogni psicologici sono frustrati avalleranno ideali sociali più problematici sulla magrezza rispetto alle donne i cui bisogni psicologici sono soddisfatti. La frustrazione dei bisogni sarà anche predittiva dell'inflessibilità degli schemi corporei, poiché è stato dimostrato che la frustrazione dei bisogni porta a disturbi dell'immagine corporea e a comportamenti alimentari patologici (Boone, Vansteenkiste, Soenens, Van der Kaap-Deeder e Verstuyf, 2014). Il modello propone inoltre che una maggiore approvazione degli ideali culturali sulla sarà predittiva di una maggiore inflessibilità sugli schemi corporei che, di per sé, è predittiva dei sintomi bulimici.\n",
    "\n",
    "Il campione include 192 partecipanti, in maggioranza donne, di età media 21.2 anni (SD = 6.89). Sono stati somministrati i seguenti strumenti:\n",
    "\n",
    "- *Body Image-Acceptance and Action Questionnaire* (Sandoz, Wilson, Merwin, & Kellum, 2013), per misurare l'inflessibilità relativa alla propria immagine corporea,\n",
    "- *Endorsement of Society’s Beliefs Related to Thinness and Obesity* (Boyer, 1991), per valutare l'internalizzazione degli ideali di magrezza, \n",
    "- *Basic Psychological Needs Satisfaction and Frustration Scale* (Chen et al., 2015), per misurare la soddisfazione e la frustrazione dei bisogni,\n",
    "- *Eating Disorders Inventory-2 – Bulimic Symptomology Subscale* (Garner, 1991), per misurare i sintomi bulimici.\n",
    "\n",
    "I dati sono i seguenti."
   ]
  },
  {
   "cell_type": "code",
   "execution_count": 25,
   "id": "e6efee96",
   "metadata": {
    "vscode": {
     "languageId": "r"
    }
   },
   "outputs": [],
   "source": [
    "upper <- '\n",
    "  1 0.44 -0.41 0.55 0.63\n",
    "  1 -0.37 0.45 0.44\n",
    "  1 -0.71 -0.39\n",
    "  1 0.47\n",
    "  1\n",
    "  '"
   ]
  },
  {
   "cell_type": "code",
   "execution_count": 26,
   "id": "0c99cc3f",
   "metadata": {
    "vscode": {
     "languageId": "r"
    }
   },
   "outputs": [
    {
     "data": {
      "text/html": [
       "<table class=\"dataframe\">\n",
       "<caption>A matrix: 5 x 5 of type dbl</caption>\n",
       "<thead>\n",
       "\t<tr><th></th><th scope=col>BFLX</th><th scope=col>END</th><th scope=col>MNS</th><th scope=col>MNF</th><th scope=col>BULS</th></tr>\n",
       "</thead>\n",
       "<tbody>\n",
       "\t<tr><th scope=row>BFLX</th><td> 1.00</td><td> 0.44</td><td>-0.41</td><td> 0.55</td><td> 0.63</td></tr>\n",
       "\t<tr><th scope=row>END</th><td> 0.44</td><td> 1.00</td><td>-0.37</td><td> 0.45</td><td> 0.44</td></tr>\n",
       "\t<tr><th scope=row>MNS</th><td>-0.41</td><td>-0.37</td><td> 1.00</td><td>-0.71</td><td>-0.39</td></tr>\n",
       "\t<tr><th scope=row>MNF</th><td> 0.55</td><td> 0.45</td><td>-0.71</td><td> 1.00</td><td> 0.47</td></tr>\n",
       "\t<tr><th scope=row>BULS</th><td> 0.63</td><td> 0.44</td><td>-0.39</td><td> 0.47</td><td> 1.00</td></tr>\n",
       "</tbody>\n",
       "</table>\n"
      ],
      "text/latex": [
       "A matrix: 5 x 5 of type dbl\n",
       "\\begin{tabular}{r|lllll}\n",
       "  & BFLX & END & MNS & MNF & BULS\\\\\n",
       "\\hline\n",
       "\tBFLX &  1.00 &  0.44 & -0.41 &  0.55 &  0.63\\\\\n",
       "\tEND &  0.44 &  1.00 & -0.37 &  0.45 &  0.44\\\\\n",
       "\tMNS & -0.41 & -0.37 &  1.00 & -0.71 & -0.39\\\\\n",
       "\tMNF &  0.55 &  0.45 & -0.71 &  1.00 &  0.47\\\\\n",
       "\tBULS &  0.63 &  0.44 & -0.39 &  0.47 &  1.00\\\\\n",
       "\\end{tabular}\n"
      ],
      "text/markdown": [
       "\n",
       "A matrix: 5 x 5 of type dbl\n",
       "\n",
       "| <!--/--> | BFLX | END | MNS | MNF | BULS |\n",
       "|---|---|---|---|---|---|\n",
       "| BFLX |  1.00 |  0.44 | -0.41 |  0.55 |  0.63 |\n",
       "| END |  0.44 |  1.00 | -0.37 |  0.45 |  0.44 |\n",
       "| MNS | -0.41 | -0.37 |  1.00 | -0.71 | -0.39 |\n",
       "| MNF |  0.55 |  0.45 | -0.71 |  1.00 |  0.47 |\n",
       "| BULS |  0.63 |  0.44 | -0.39 |  0.47 |  1.00 |\n",
       "\n"
      ],
      "text/plain": [
       "     BFLX  END   MNS   MNF   BULS \n",
       "BFLX  1.00  0.44 -0.41  0.55  0.63\n",
       "END   0.44  1.00 -0.37  0.45  0.44\n",
       "MNS  -0.41 -0.37  1.00 -0.71 -0.39\n",
       "MNF   0.55  0.45 -0.71  1.00  0.47\n",
       "BULS  0.63  0.44 -0.39  0.47  1.00"
      ]
     },
     "metadata": {},
     "output_type": "display_data"
    }
   ],
   "source": [
    "# BFLX – Body Inflexibility,\n",
    "# END – Endorsement of Societal Beliefs about Thinness and Obesity,\n",
    "# MNS – Mean Need Satisfaction,\n",
    "# MNF – Mean Need Frustration,\n",
    "# BULS – Bulimic Symptoms\n",
    "dat_cov <- lavaan::getCov(\n",
    "    upper,\n",
    "    lower = FALSE,\n",
    "    names = c(\"BFLX\", \"END\", \"MNS\", \"MNF\", \"BULS\")\n",
    ")\n",
    "dat_cov"
   ]
  },
  {
   "cell_type": "markdown",
   "id": "f76ed16a",
   "metadata": {},
   "source": [
    "### Modello di mediazione "
   ]
  },
  {
   "cell_type": "code",
   "execution_count": 27,
   "id": "28706c42",
   "metadata": {
    "vscode": {
     "languageId": "r"
    }
   },
   "outputs": [
    {
     "data": {
      "image/png": "[encoded data removed]",
      "text/plain": [
       "Plot with title \"\""
      ]
     },
     "metadata": {
      "image/png": {
       "height": 296.6563,
       "width": 480
      }
     },
     "output_type": "display_data"
    }
   ],
   "source": [
    "data <- c(\n",
    "    0, \"a\", 0,\n",
    "    0, 0, 0,\n",
    "    \"b\", \"c_prime\", 0\n",
    ")\n",
    "M <- matrix(nrow = 3, ncol = 3, byrow = TRUE, data = data)\n",
    "plot <- plotmat(M,\n",
    "    pos = c(1, 2),\n",
    "    name = c(\"X\", \"M\", \"Y\"),\n",
    "    box.type = \"rect\", box.size = 0.12, box.prop = 0.5, curve = 0\n",
    ")"
   ]
  },
  {
   "cell_type": "markdown",
   "id": "95576aa2",
   "metadata": {},
   "source": [
    "Nel modello di mediazione di base abbiamo tre variabili chiave: la variabile indipendente $X$, la variabile dipendente $Y$ e il mediatore $M$. La freccia da $X$ a $M$ (etichettata con 'a') rappresenta l'effetto di $X$ su $M$. La freccia da $M$ a $Y$ (etichettata con 'b') rappresenta l'effetto di $M$ su $Y$, mentre la freccia tratteggiata da $X$ a $Y$ (etichettata con \"c'\") rappresenta l'effetto diretto di $X$ su $Y$, escludendo la mediazione di $M$.\n",
    "\n",
    "Possiamo formalizzare il modello statistico di mediazione in equazioni di regressione lineare come segue:\n",
    "\n",
    "$$M = a_0 + a \\times X + e_M$$\n",
    "\n",
    "$$Y = b_0 + b \\times M + c' \\times X + e_Y$$\n",
    "\n",
    "Nella prima equazione lineare, $M$ è regredito su $X$ con un'intercetta$a_0$, pendenza$a$e termine di errore$e_M$. Questa equazione rappresenta il percorso $X \\rightarrow M$con$a$come effetto di$X$su$M$. Nella seconda equazione, $Y$ è regredito su $M$ e $X$ con un'intercetta $b_0$, pendenze $b$ e $c'$ e termine di errore $e_Y$. Questa equazione rappresenta due percorsi: $M \\rightarrow Y$ e $X \\rightarrow Y$, con $b$ come effetto di $M$ su $Y$ e $c'$ come effetto diretto di $X$ su $Y$.\n",
    "\n",
    "Nel contesto della modellazione di equazioni strutturali, il metodo più comune per calcolare gli effetti diretti, indiretti e totali si basa sul prodotto dei coefficienti, come riassunto nelle seguenti formule:\n",
    "\n",
    "- Effetto diretto = $c'$\n",
    "- Effetto indiretto = $b \\times a$\n",
    "- Effetto totale = $c' + b \\times a$\n",
    "\n",
    "\n",
    "### Stima degli Effetti Diretti, Indiretti e Totali\n",
    "\n",
    "Le tecniche di modellazione di equazioni strutturali permettono di stimare tutti i parametri (a, b, c') simultaneamente, date le specifiche del modello per i dati. Di conseguenza, possiamo utilizzare le seguenti formule per stimare gli effetti diretti, indiretti e totali dai dati:\n",
    "\n",
    "- Effetto diretto = $\\hat{c}'$\n",
    "- Effetto indiretto = $\\hat{b} \\times \\hat{a}$\n",
    "- Effetto totale = $\\hat{c}' + \\hat{b} \\times \\hat{a}$\n",
    "\n",
    "dove $\\hat{a}$ è una stima di $a$, e così via. Gli errori standard stimati di questi effetti possono poi essere calcolati utilizzando metodi asintotici standard, supportato dalla maggior parte dei software SEM.\n",
    "\n",
    "### Analisi con `lavaan`\n",
    "\n",
    "Il caso presente prende in considerazione BFLX come variabile endogena, MNF come variabile esogena e END come variabile mediatrice. Utilizzando Mplus, Barbeau, Boileau, Sarr e Smith (2019) hanno identificato i seguenti coefficienti di percorso: $a = 0.37$, $b = 0.29$ e $c = 0.34$.\n",
    "\n",
    "Procediamo con l'analisi utilizzando il pacchetto `lavaan` in R. Cominciamo definendo il modello di mediazione."
   ]
  },
  {
   "cell_type": "code",
   "execution_count": 28,
   "id": "71e394ad",
   "metadata": {
    "vscode": {
     "languageId": "r"
    }
   },
   "outputs": [],
   "source": [
    "mod <- \"\n",
    "  # direct effect\n",
    "  BFLX ~ c*MNF\n",
    "  # mediator\n",
    "  BFLX ~ b*END\n",
    "  END ~ a*MNF\n",
    "\n",
    "  # indirect effect (a*b)\n",
    "  ab := a*b\n",
    "  # total effect\n",
    "  total := c + (a*b)\n",
    "\""
   ]
  },
  {
   "cell_type": "markdown",
   "id": "8fb563b5",
   "metadata": {},
   "source": [
    "Adattiamo il modello ai dati."
   ]
  },
  {
   "cell_type": "code",
   "execution_count": 29,
   "id": "7efae043",
   "metadata": {
    "vscode": {
     "languageId": "r"
    }
   },
   "outputs": [],
   "source": [
    "fit <- sem(\n",
    "    mod,\n",
    "    sample.cov = dat_cov,\n",
    "    sample.nobs = 192\n",
    ")"
   ]
  },
  {
   "cell_type": "markdown",
   "id": "172ffa00",
   "metadata": {},
   "source": [
    "Esaminiamo i risultati:"
   ]
  },
  {
   "cell_type": "code",
   "execution_count": 31,
   "id": "e953bbc0",
   "metadata": {
    "vscode": {
     "languageId": "r"
    }
   },
   "outputs": [
    {
     "name": "stdout",
     "output_type": "stream",
     "text": [
      "lavaan 0.6-19 ended normally after 1 iteration\n",
      "\n",
      "  Estimator                                         ML\n",
      "  Optimization method                           NLMINB\n",
      "  Number of model parameters                         5\n",
      "\n",
      "  Number of observations                           192\n",
      "\n",
      "Model Test User Model:\n",
      "                                                      \n",
      "  Test statistic                                 0.000\n",
      "  Degrees of freedom                                 0\n",
      "\n",
      "Model Test Baseline Model:\n",
      "\n",
      "  Test statistic                               125.849\n",
      "  Degrees of freedom                                 3\n",
      "  P-value                                        0.000\n",
      "\n",
      "User Model versus Baseline Model:\n",
      "\n",
      "  Comparative Fit Index (CFI)                    1.000\n",
      "  Tucker-Lewis Index (TLI)                       1.000\n",
      "\n",
      "Loglikelihood and Information Criteria:\n",
      "\n",
      "  Loglikelihood user model (H0)               -480.945\n",
      "  Loglikelihood unrestricted model (H1)       -480.945\n",
      "                                                      \n",
      "  Akaike (AIC)                                 971.890\n",
      "  Bayesian (BIC)                               988.178\n",
      "  Sample-size adjusted Bayesian (SABIC)        972.339\n",
      "\n",
      "Root Mean Square Error of Approximation:\n",
      "\n",
      "  RMSEA                                          0.000\n",
      "  90 Percent confidence interval - lower         0.000\n",
      "  90 Percent confidence interval - upper         0.000\n",
      "  P-value H_0: RMSEA <= 0.050                       NA\n",
      "  P-value H_0: RMSEA >= 0.080                       NA\n",
      "\n",
      "Standardized Root Mean Square Residual:\n",
      "\n",
      "  SRMR                                           0.000\n",
      "\n",
      "Parameter Estimates:\n",
      "\n",
      "  Standard errors                             Standard\n",
      "  Information                                 Expected\n",
      "  Information saturated (h1) model          Structured\n",
      "\n",
      "Regressions:\n",
      "                   Estimate  Std.Err  z-value  P(>|z|)   Std.lv\n",
      "  BFLX ~                                                       \n",
      "    MNF        (c)    0.441    0.065    6.769    0.000    0.441\n",
      "    END        (b)    0.241    0.065    3.702    0.000    0.241\n",
      "  END ~                                                        \n",
      "    MNF        (a)    0.450    0.064    6.982    0.000    0.450\n",
      "  Std.all\n",
      "         \n",
      "    0.441\n",
      "    0.241\n",
      "         \n",
      "    0.450\n",
      "\n",
      "Variances:\n",
      "                   Estimate  Std.Err  z-value  P(>|z|)   Std.lv\n",
      "   .BFLX              0.648    0.066    9.798    0.000    0.648\n",
      "   .END               0.793    0.081    9.798    0.000    0.793\n",
      "  Std.all\n",
      "    0.651\n",
      "    0.797\n",
      "\n",
      "R-Square:\n",
      "                   Estimate\n",
      "    BFLX              0.349\n",
      "    END               0.203\n",
      "\n",
      "Defined Parameters:\n",
      "                   Estimate  Std.Err  z-value  P(>|z|)   Std.lv\n",
      "    ab                0.109    0.033    3.271    0.001    0.109\n",
      "    total             0.550    0.060    9.125    0.000    0.550\n",
      "  Std.all\n",
      "    0.109\n",
      "    0.550\n",
      "\n"
     ]
    }
   ],
   "source": [
    "summary(fit, fit.measures = TRUE, standardized = TRUE, rsquare = TRUE) |>\n",
    "    print()"
   ]
  },
  {
   "cell_type": "markdown",
   "id": "df8e8476",
   "metadata": {},
   "source": [
    "Generiamo un diagramma di percorso."
   ]
  },
  {
   "cell_type": "code",
   "execution_count": 32,
   "id": "a1c889ac",
   "metadata": {
    "vscode": {
     "languageId": "r"
    }
   },
   "outputs": [
    {
     "data": {
      "image/png": "[encoded data removed]",
      "text/plain": [
       "plot without title"
      ]
     },
     "metadata": {
      "image/png": {
       "height": 296.6563,
       "width": 480
      }
     },
     "output_type": "display_data"
    }
   ],
   "source": [
    "semPlot::semPaths(\n",
    "    fit,\n",
    "    layout = \"tree\", sizeMan = 7, sizeInt = 5, style = \"ram\",\n",
    "    residuals = TRUE, intAtSide = FALSE, edge.label.cex = 1.15,\n",
    "    whatLabels = \"est\", nCharNodes = 0, normalize = FALSE\n",
    ")"
   ]
  },
  {
   "cell_type": "markdown",
   "id": "6b7f2aaa",
   "metadata": {},
   "source": [
    "I coefficienti di percorso sono simili, ma non identici, a quelli trovati con Mplus. \n",
    "\n",
    "L'effetto diretto di MNF (Need Frustration) su  BFLX (Body Inflexibility) è uguale a 0.44.  L'effetto totale è $0.44 + 0.45*0.24 = 0.55$. L'effetto di mediazione è uguale a $0.45*0.24 = 0.109$. L'outout di `lavaan` fornisce anche gli errori standard e il test che tali effetti siano uguali a zero.\n",
    "\n",
    "Le correlazioni tra le variabili sono esprimibili nei termini dei coefficienti di percorso.  Per esempio la correlazionetra BFLX e MNF è"
   ]
  },
  {
   "cell_type": "code",
   "execution_count": 33,
   "id": "a5f40a51",
   "metadata": {
    "vscode": {
     "languageId": "r"
    }
   },
   "outputs": [
    {
     "data": {
      "text/html": [
       "0.548"
      ],
      "text/latex": [
       "0.548"
      ],
      "text/markdown": [
       "0.548"
      ],
      "text/plain": [
       "[1] 0.548"
      ]
     },
     "metadata": {},
     "output_type": "display_data"
    }
   ],
   "source": [
    ".44 + .45 * .24"
   ]
  },
  {
   "cell_type": "markdown",
   "id": "f530baad",
   "metadata": {},
   "source": [
    "La correlazione tra BFLX e END è"
   ]
  },
  {
   "cell_type": "code",
   "execution_count": 34,
   "id": "0cc08f3f",
   "metadata": {
    "vscode": {
     "languageId": "r"
    }
   },
   "outputs": [
    {
     "data": {
      "text/html": [
       "0.438"
      ],
      "text/latex": [
       "0.438"
      ],
      "text/markdown": [
       "0.438"
      ],
      "text/plain": [
       "[1] 0.438"
      ]
     },
     "metadata": {},
     "output_type": "display_data"
    }
   ],
   "source": [
    ".24 + .44 * .45"
   ]
  },
  {
   "cell_type": "markdown",
   "id": "fba2fa78",
   "metadata": {},
   "source": [
    "L'output di lavaan fornisce anche la porzione di varianza che viene spiegata dalle variabili esogene per le due variabili endogene nel modello.\n",
    "\n",
    "Per esempio, la varianza spiegata di `END` è"
   ]
  },
  {
   "cell_type": "code",
   "execution_count": 35,
   "id": "156752fd",
   "metadata": {
    "vscode": {
     "languageId": "r"
    }
   },
   "outputs": [
    {
     "data": {
      "text/html": [
       "0.2025"
      ],
      "text/latex": [
       "0.2025"
      ],
      "text/markdown": [
       "0.2025"
      ],
      "text/plain": [
       "[1] 0.2025"
      ]
     },
     "metadata": {},
     "output_type": "display_data"
    }
   ],
   "source": [
    "0.45^2"
   ]
  },
  {
   "cell_type": "markdown",
   "id": "e7ea01e2",
   "metadata": {},
   "source": [
    "come riportato dall'output di lavaan.  \n",
    "\n",
    "Continuiamo con l'analisi di questi dati e esaminiamo ora un modello di path analisi più complesso (Fig. 4 di Barbeau et al., 2019). Usando la sintassi di `lavaan`, il modello diventa"
   ]
  },
  {
   "cell_type": "code",
   "execution_count": 36,
   "id": "09d2eda2",
   "metadata": {
    "vscode": {
     "languageId": "r"
    }
   },
   "outputs": [],
   "source": [
    "# BFLX – Body Inflexibility,\n",
    "# END – Endorsement of Societal Beliefs about Thinness and Obesity,\n",
    "# MNS – Mean Need Satisfaction,\n",
    "# MNF – Mean Need Frustration,\n",
    "# BULS – Bulimic Symptoms\n",
    "mod <- \"\n",
    "  BULS ~ MNF + BFLX\n",
    "  BFLX ~ END + MNF\n",
    "  END ~ MNS + MNF\n",
    "\""
   ]
  },
  {
   "cell_type": "markdown",
   "id": "cd9b9f05",
   "metadata": {},
   "source": [
    "Adattiamo il modello ai dati."
   ]
  },
  {
   "cell_type": "code",
   "execution_count": 37,
   "id": "1c352fcf",
   "metadata": {
    "vscode": {
     "languageId": "r"
    }
   },
   "outputs": [],
   "source": [
    "fit2 <- sem(\n",
    "    mod,\n",
    "    sample.cov = dat_cov,\n",
    "    sample.nobs = 192\n",
    ")"
   ]
  },
  {
   "cell_type": "markdown",
   "id": "f8849c42",
   "metadata": {},
   "source": [
    "Esaminiamo la soluzione ottenuta."
   ]
  },
  {
   "cell_type": "code",
   "execution_count": 38,
   "id": "aa4b5bca",
   "metadata": {
    "vscode": {
     "languageId": "r"
    }
   },
   "outputs": [
    {
     "name": "stdout",
     "output_type": "stream",
     "text": [
      "lavaan 0.6-19 ended normally after 1 iteration\n",
      "\n",
      "  Estimator                                         ML\n",
      "  Optimization method                           NLMINB\n",
      "  Number of model parameters                         9\n",
      "\n",
      "  Number of observations                           192\n",
      "\n",
      "Model Test User Model:\n",
      "                                                      \n",
      "  Test statistic                                 8.229\n",
      "  Degrees of freedom                                 3\n",
      "  P-value (Chi-square)                           0.042\n",
      "\n",
      "Model Test Baseline Model:\n",
      "\n",
      "  Test statistic                               239.501\n",
      "  Degrees of freedom                                 9\n",
      "  P-value                                        0.000\n",
      "\n",
      "User Model versus Baseline Model:\n",
      "\n",
      "  Comparative Fit Index (CFI)                    0.977\n",
      "  Tucker-Lewis Index (TLI)                       0.932\n",
      "\n",
      "Loglikelihood and Information Criteria:\n",
      "\n",
      "  Loglikelihood user model (H0)               -700.169\n",
      "  Loglikelihood unrestricted model (H1)       -696.054\n",
      "                                                      \n",
      "  Akaike (AIC)                                1418.338\n",
      "  Bayesian (BIC)                              1447.655\n",
      "  Sample-size adjusted Bayesian (SABIC)       1419.146\n",
      "\n",
      "Root Mean Square Error of Approximation:\n",
      "\n",
      "  RMSEA                                          0.095\n",
      "  90 Percent confidence interval - lower         0.017\n",
      "  90 Percent confidence interval - upper         0.176\n",
      "  P-value H_0: RMSEA <= 0.050                    0.130\n",
      "  P-value H_0: RMSEA >= 0.080                    0.696\n",
      "\n",
      "Standardized Root Mean Square Residual:\n",
      "\n",
      "  SRMR                                           0.035\n",
      "\n",
      "Parameter Estimates:\n",
      "\n",
      "  Standard errors                             Standard\n",
      "  Information                                 Expected\n",
      "  Information saturated (h1) model          Structured\n",
      "\n",
      "Regressions:\n",
      "                   Estimate  Std.Err  z-value  P(>|z|)   Std.lv\n",
      "  BULS ~                                                       \n",
      "    MNF               0.177    0.066    2.688    0.007    0.177\n",
      "    BFLX              0.533    0.066    8.085    0.000    0.533\n",
      "  BFLX ~                                                       \n",
      "    END               0.241    0.065    3.702    0.000    0.241\n",
      "    MNF               0.441    0.065    6.769    0.000    0.441\n",
      "  END ~                                                        \n",
      "    MNS              -0.102    0.091   -1.116    0.264   -0.102\n",
      "    MNF               0.378    0.091    4.140    0.000    0.378\n",
      "  Std.all\n",
      "         \n",
      "    0.177\n",
      "    0.533\n",
      "         \n",
      "    0.241\n",
      "    0.441\n",
      "         \n",
      "   -0.102\n",
      "    0.378\n",
      "\n",
      "Variances:\n",
      "                   Estimate  Std.Err  z-value  P(>|z|)   Std.lv\n",
      "   .BULS              0.578    0.059    9.798    0.000    0.578\n",
      "   .BFLX              0.648    0.066    9.798    0.000    0.648\n",
      "   .END               0.788    0.080    9.798    0.000    0.788\n",
      "  Std.all\n",
      "    0.581\n",
      "    0.651\n",
      "    0.792\n",
      "\n",
      "R-Square:\n",
      "                   Estimate\n",
      "    BULS              0.419\n",
      "    BFLX              0.349\n",
      "    END               0.208\n",
      "\n"
     ]
    }
   ],
   "source": [
    "summary(fit2, fit.measures = TRUE, standardized = TRUE, rsquare = TRUE) |>\n",
    "    print()"
   ]
  },
  {
   "cell_type": "markdown",
   "id": "b3162126",
   "metadata": {},
   "source": [
    "Generiamo il diagramma di percorso."
   ]
  },
  {
   "cell_type": "code",
   "execution_count": 39,
   "id": "abed2d4f",
   "metadata": {
    "vscode": {
     "languageId": "r"
    }
   },
   "outputs": [
    {
     "data": {
      "image/png": "[encoded data removed]",
      "text/plain": [
       "plot without title"
      ]
     },
     "metadata": {
      "image/png": {
       "height": 296.6563,
       "width": 480
      }
     },
     "output_type": "display_data"
    }
   ],
   "source": [
    "semPlot::semPaths(\n",
    "    fit2,\n",
    "    layout = \"tree\", sizeMan = 7, sizeInt = 5, style = \"ram\",\n",
    "    residuals = TRUE, intAtSide = FALSE, edge.label.cex = 1.15,\n",
    "    whatLabels = \"est\", nCharNodes = 0, normalize = FALSE\n",
    ")"
   ]
  },
  {
   "cell_type": "markdown",
   "id": "96e36cd0",
   "metadata": {},
   "source": [
    "Anche in questo caso i coefficienti di percorso sono simili, ma non identici, a quelli riportati da Barbeau et al. (2019). Gli autori riportano una varianza spiegata di END pari a 0.209; con `lavaan` si ottiene 0.208.  Per BFLX gli autori riportano 0.292; `lavaan` ottiene 0.349. Per BULS gli autori riportano 0.478; con `lavaan` si ottiene 0.419. \n",
    "\n",
    "Calcoliamo, ad esempio, la correlazione tra MNF e BULS prevista dal modello, combinando gli effetti diretti e indiretti. Questo processo consiste nel sommare gli effetti diretti tra queste due variabili con quelli indiretti mediati da altre variabili nel modello."
   ]
  },
  {
   "cell_type": "code",
   "execution_count": 40,
   "id": "889c6012",
   "metadata": {
    "vscode": {
     "languageId": "r"
    }
   },
   "outputs": [
    {
     "data": {
      "text/html": [
       "0.4705672"
      ],
      "text/latex": [
       "0.4705672"
      ],
      "text/markdown": [
       "0.4705672"
      ],
      "text/plain": [
       "[1] 0.4705672"
      ]
     },
     "metadata": {},
     "output_type": "display_data"
    }
   ],
   "source": [
    "-.71 * -.10 * .24 * .53 +\n",
    ".38 *.24 * .53 +\n",
    ".44 * .53 +\n",
    ".18"
   ]
  },
  {
   "cell_type": "markdown",
   "id": "0f12d5f0",
   "metadata": {},
   "source": [
    "Il valore trovato corrisponde bene al valore osservato nel campione, che è pari a 0.47."
   ]
  },
  {
   "cell_type": "markdown",
   "id": "9fcab4bd",
   "metadata": {},
   "source": [
    "## Modellare le Medie\n",
    "\n",
    "In un modello di equazioni strutturali (SEM), modellare le medie è un processo che si concentra sulla stima e sull'analisi delle medie delle variabili all'interno del modello. Questo processo è fondamentale per comprendere il comportamento medio delle variabili in studio e per integrare queste informazioni nella struttura complessiva del modello SEM.\n",
    "\n",
    "1. **Raccolta dei Dati:** Per iniziare, è necessario avere a disposizione i dati grezzi o una matrice di covarianza che riassuma le relazioni tra le variabili, oltre alle medie di tutte le variabili. Questi dati servono come input fondamentale per il modello SEM.\n",
    "\n",
    "2. **Specifica del Modello:** Nel definire il modello SEM, è cruciale specificare che il modello deve considerare sia la struttura di covarianza (le relazioni tra le variabili) sia la struttura di media (le medie delle variabili). Questo assicura che il modello analizzi sia le relazioni tra le variabili sia i loro valori medi.\n",
    "\n",
    "3. **Inclusione delle Interfacce e delle Medie:** Nel modello, le variabili endogene (quelle che sono influenzate da altre nel modello) richiedono l'inclusione delle intercette, mentre per le variabili esogene (quelle che non sono influenzate da altre nel modello) si considerano le loro medie.\n",
    "\n",
    "4. **Specificare la Costante “1”:** Per modellare le medie, si include la costante “1” nell'equazione per tutte le variabili misurate, sia esogene sia endogene. Questo passaggio è fondamentale per dire al software di SEM di considerare le medie nelle sue analisi.\n",
    "\n",
    "5. **Uso di Software SEM (es. `lavaan`):** In software come `lavaan`, si può utilizzare una sintassi specifica (ad es. `meanstructure = true`) per automatizzare l'inclusione delle medie. Questo comando dice al software di aggiungere la costante “1” alle equazioni, facilitando il processo di modellazione delle medie.\n",
    "\n",
    "6. **Calcolo del Numero di Osservazioni e Parametri Liberi:** Quando si modella sia la struttura di covarianza sia quella di media, è importante calcolare correttamente il numero di osservazioni e parametri liberi nel modello. Si utilizza una formula specifica per determinare questi numeri, considerando il numero di variabili osservate.\n",
    "\n",
    "### Interpretazione delle Medie Previste\n",
    "\n",
    "In un modello SEM, la struttura di covarianza genera \"covarianze previste\", che possono essere confrontate con le covarianze effettivamente osservate nei dati. Analogamente, la struttura di media del modello produce \"medie previste\" (o \"medie adattate\"), che si possono confrontare con le medie osservate delle variabili. \n",
    "\n",
    "Il \"residuo di media\" è fondamentalmente la differenza tra la media osservata e la media prevista per una specifica variabile. Quando i gradi di libertà (df) sono zero per la struttura di media (come può accadere in alcune analisi), tutti i residui di media risultano essere zero. Questo significa che le medie previste dal modello corrispondono esattamente alle medie osservate. Tuttavia, se i gradi di libertà non sono zero, potrebbero esserci delle discrepanze tra le medie previste e quelle osservate.\n",
    "\n",
    "Per calcolare la media prevista di una variabile target nel modello, si seguono questi passaggi:\n",
    "\n",
    "1. Si inizia con il coefficiente del percorso diretto dalla costante \"1\" al target. Questo coefficiente rappresenta l'intercetto nella regressione della variabile target sulle altre variabili. In pratica, è un valore che indica la media prevista della variabile target quando tutte le altre variabili indipendenti nel modello sono a zero.\n",
    "\n",
    "2. Si aggiunge a questo il contributo di ogni \"variabile genitore\" (ovvero, una variabile che influisce sul target). Per ogni genitore, si moltiplica la media prevista di quel genitore per il coefficiente del percorso che collega il genitore alla variabile target. Questa operazione si ripete per tutti i genitori e i risultati si sommano insieme.\n",
    "\n",
    "Il risultato finale di questo processo è la media prevista per la variabile target nel modello SEM. Questa media prevista è un elemento cruciale per valutare l'aderenza del modello ai dati osservati, confrontando le medie previste con quelle effettivamente osservate."
   ]
  },
  {
   "cell_type": "markdown",
   "id": "f9da6a27",
   "metadata": {},
   "source": [
    "## Commenti e considerazioni finali\n",
    "\n",
    "Il diagramma di un modello parametrico funge anche da mezzo di comunicazione, in quanto un diagramma completo rappresenta essenzialmente un insieme di istruzioni visive su come specificare il modello nella sintassi per computer. Ogni parametro del modello, sia libero sia fisso (ad esempio, le costanti di scala), è rappresentato nei diagrammi basati sul simbolismo grafico RAM di McArdle-McDonald, il quale può anche aiutare i ricercatori che stanno imparando l'analisi SEM a comprendere meglio l'analisi.\n",
    "\n",
    "In pratica, questo significa che guardando il diagramma di un modello parametrico, un ricercatore può ottenere una guida visiva chiara su come impostare e strutturare il modello all'interno di un software di analisi SEM. Ogni elemento del diagramma, come le frecce e i nodi, e ogni annotazione, come le etichette dei parametri o le costanti, fornisce informazioni specifiche su come ciascuna parte del modello dovrebbe essere codificata nella sintassi del software. Questo approccio visuale facilita la comprensione dei complessi rapporti tra le variabili e dei diversi componenti del modello, rendendo più accessibile l'apprendimento e l'applicazione dell'analisi SEM.\n",
    "\n",
    "Utilizzando l'analisi dei percorsi per decomporre la correlazione o la covarianza, disponiamo di un metodo efficace per delineare le associazioni tra le variabili e mappare le loro potenziali connessioni causali. Questo strumento si rivela particolarmente utile per descrivere in modo chiaro e strutturato le relazioni tra diverse variabili, facilitando l'interpretazione dei loro legami e interazioni all'interno del modello considerato.\n"
   ]
  },
  {
   "cell_type": "markdown",
   "id": "e3172464",
   "metadata": {},
   "source": [
    "## Session Info"
   ]
  },
  {
   "cell_type": "code",
   "execution_count": 41,
   "id": "06d8d6ad",
   "metadata": {
    "vscode": {
     "languageId": "r"
    }
   },
   "outputs": [
    {
     "data": {
      "text/plain": [
       "R version 4.4.1 (2024-06-14)\n",
       "Platform: aarch64-apple-darwin20\n",
       "Running under: macOS 15.0.1\n",
       "\n",
       "Matrix products: default\n",
       "BLAS:   /Library/Frameworks/R.framework/Versions/4.4-arm64/Resources/lib/libRblas.0.dylib \n",
       "LAPACK: /Library/Frameworks/R.framework/Versions/4.4-arm64/Resources/lib/libRlapack.dylib;  LAPACK version 3.12.0\n",
       "\n",
       "locale:\n",
       "[1] C\n",
       "\n",
       "time zone: Europe/Rome\n",
       "tzcode source: internal\n",
       "\n",
       "attached base packages:\n",
       "[1] stats     graphics  grDevices utils     datasets  methods  \n",
       "[7] base     \n",
       "\n",
       "other attached packages:\n",
       " [1] diagram_1.6.5     shape_1.4.6.1     rsvg_2.6.1       \n",
       " [4] DiagrammeRsvg_0.1 lavaanPlot_0.8.1  lavaanExtra_0.2.1\n",
       " [7] nortest_1.0-4     MASS_7.3-61       ggokabeito_0.1.0 \n",
       "[10] viridis_0.6.5     viridisLite_0.4.2 ggpubr_0.6.0     \n",
       "[13] ggExtra_0.10.1    gridExtra_2.3     patchwork_1.3.0  \n",
       "[16] bayesplot_1.11.1  semTools_0.5-6    semPlot_1.1.6    \n",
       "[19] lavaan_0.6-19     psych_2.4.6.26    scales_1.3.0     \n",
       "[22] markdown_1.13     knitr_1.48        lubridate_1.9.3  \n",
       "[25] forcats_1.0.0     stringr_1.5.1     dplyr_1.1.4      \n",
       "[28] purrr_1.0.2       readr_2.1.5       tidyr_1.3.1      \n",
       "[31] tibble_3.2.1      ggplot2_3.5.1     tidyverse_2.0.0  \n",
       "[34] here_1.0.1       \n",
       "\n",
       "loaded via a namespace (and not attached):\n",
       "  [1] RColorBrewer_1.1-3 rstudioapi_0.16.0  jsonlite_1.8.9    \n",
       "  [4] magrittr_2.0.3     TH.data_1.1-2      estimability_1.5.1\n",
       "  [7] farver_2.1.2       nloptr_2.1.1       rmarkdown_2.28    \n",
       " [10] vctrs_0.6.5        Cairo_1.6-2        minqa_1.2.8       \n",
       " [13] base64enc_0.1-3    rstatix_0.7.2      htmltools_0.5.8.1 \n",
       " [16] curl_5.2.3         broom_1.0.7        Formula_1.2-5     \n",
       " [19] htmlwidgets_1.6.4  plyr_1.8.9         sandwich_3.1-1    \n",
       " [22] emmeans_1.10.4     zoo_1.8-12         uuid_1.2-1        \n",
       " [25] igraph_2.0.3       mime_0.12          lifecycle_1.0.4   \n",
       " [28] pkgconfig_2.0.3    Matrix_1.7-0       R6_2.5.1          \n",
       " [31] fastmap_1.2.0      shiny_1.9.1        digest_0.6.37     \n",
       " [34] OpenMx_2.21.12     fdrtool_1.2.18     colorspace_2.1-1  \n",
       " [37] rprojroot_2.0.4    Hmisc_5.1-3        fansi_1.0.6       \n",
       " [40] timechange_0.3.0   abind_1.4-8        compiler_4.4.1    \n",
       " [43] withr_3.0.1        glasso_1.11        htmlTable_2.4.3   \n",
       " [46] backports_1.5.0    carData_3.0-5      ggsignif_0.6.4    \n",
       " [49] corpcor_1.6.10     gtools_3.9.5       tools_4.4.1       \n",
       " [52] pbivnorm_0.6.0     foreign_0.8-87     zip_2.3.1         \n",
       " [55] httpuv_1.6.15      nnet_7.3-19        glue_1.8.0        \n",
       " [58] quadprog_1.5-8     DiagrammeR_1.0.11  promises_1.3.0    \n",
       " [61] nlme_3.1-166       lisrelToR_0.3      grid_4.4.1        \n",
       " [64] pbdZMQ_0.3-13      checkmate_2.3.2    cluster_2.1.6     \n",
       " [67] reshape2_1.4.4     generics_0.1.3     gtable_0.3.5      \n",
       " [70] tzdb_0.4.0         data.table_1.16.0  hms_1.1.3         \n",
       " [73] car_3.1-3          utf8_1.2.4         sem_3.1-16        \n",
       " [76] pillar_1.9.0       IRdisplay_1.1      rockchalk_1.8.157 \n",
       " [79] later_1.3.2        splines_4.4.1      lattice_0.22-6    \n",
       " [82] survival_3.7-0     kutils_1.73        tidyselect_1.2.1  \n",
       " [85] miniUI_0.1.1.1     pbapply_1.7-2      V8_5.0.1          \n",
       " [88] stats4_4.4.1       xfun_0.48          qgraph_1.9.8      \n",
       " [91] arm_1.14-4         visNetwork_2.1.2   stringi_1.8.4     \n",
       " [94] pacman_0.5.1       boot_1.3-31        evaluate_1.0.0    \n",
       " [97] codetools_0.2-20   mi_1.1             cli_3.6.3         \n",
       "[100] RcppParallel_5.1.9 IRkernel_1.3.2     rpart_4.1.23      \n",
       "[103] xtable_1.8-4       repr_1.1.7         munsell_0.5.1     \n",
       "[106] Rcpp_1.0.13        coda_0.19-4.1      png_0.1-8         \n",
       "[109] XML_3.99-0.17      parallel_4.4.1     jpeg_0.1-10       \n",
       "[112] lme4_1.1-35.5      mvtnorm_1.3-1      openxlsx_4.2.7.1  \n",
       "[115] crayon_1.5.3       rlang_1.1.4        multcomp_1.4-26   \n",
       "[118] mnormt_2.1.1      "
      ]
     },
     "metadata": {},
     "output_type": "display_data"
    }
   ],
   "source": [
    "sessionInfo()"
   ]
  }
 ],
 "metadata": {
  "jupytext": {
   "cell_metadata_filter": "tags,out.width,name,fig.cap,-all",
   "main_language": "R",
   "notebook_metadata_filter": "-all"
  },
  "kernelspec": {
   "display_name": "R",
   "language": "R",
   "name": "ir"
  },
  "language_info": {
   "codemirror_mode": "r",
   "file_extension": ".r",
   "mimetype": "text/x-r-source",
   "name": "R",
   "pygments_lexer": "r",
   "version": "4.4.2"
  }
 },
 "nbformat": 4,
 "nbformat_minor": 5
}
