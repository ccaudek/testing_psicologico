{
 "cells": [
  {
   "attachments": {},
   "cell_type": "markdown",
   "metadata": {},
   "source": [
    "# Per liberarvi dai terrori preliminari {#sec-apx-calculus}\n",
    "\n",
    "Fornisco qui la traduzione del primo capitolo di [Calculus made easy](https://calculusmadeeasy.org/1.html).\n",
    "\n",
    "Il terrore preliminare, che impedisce alla maggior parte dei ragazzi di quinta anche solo di tentare di imparare l'analisi, può essere abolito una volta per tutte semplicemente affermando qual è il significato -- in termini di buon senso -- dei due simboli principali che sono usati nell'analisi matematica.\n",
    "\n",
    "Questi terribili simboli sono:\n",
    "\n",
    "1.  $d$ che significa semplicemente \"un po' di\". Quindi $\\operatorname{d}\\!x$ significa un po' di $x$; o $\\operatorname{d}\\!u$ significa un po' di $u$. I matematici pensano che sia più educato dire \"un elemento di\" invece di \"un po' di\". Fai come ti pare. Ma scoprirai che questi piccoli pezzi (o elementi) possono essere considerati indefinitamente piccoli.\n",
    "\n",
    "2.  $\\int$ che è semplicemente una S allungata, e può essere chiamata (se volete) \"la somma di\". Quindi $\\int \\operatorname{d}\\!x$ significa la somma di tutti i pezzettini di $x$; oppure $\\int \\operatorname{d}\\!t$ significa la somma di tutti i pezzettini di $t$. I matematici chiamano questo simbolo \"l'integrale di\". Ora qualsiasi sciocco può vedere che se $x$ è considerato come composto da tanti piccoli pezzetti, ognuno dei quali è chiamato $\\operatorname{d}\\!x$, se li sommi tutti insieme ottieni la somma di tutti i $\\operatorname{d}\\!x$, (che è la stessa cosa dell'insieme di $x$). La parola \"integrale\" significa semplicemente \"il tutto\". Se pensi alla durata di un'ora, puoi (se vuoi) pensarla come suddivisa in 3600 piccoli pezzetti chiamati secondi. L'insieme dei 3600 pezzetti sommati fa un'ora. Quando vedrete un'espressione che inizia con questo simbolo terrificante, d'ora in poi saprete che è stato messo lì semplicemente per darvi l'istruzione che ora dovete eseguire (se potete) l'operazione di sommare tutti i piccoli pezzetti che sono indicati dai simboli che seguono.\n",
    "\n",
    "È tutto."
   ]
  },
  {
   "cell_type": "markdown",
   "metadata": {},
   "source": [
    "## Introduzione ai logaritmi\n",
    "\n",
    "Il logaritmo è una funzione matematica che risponde alla domanda: \"quante volte devo moltiplicare un certo numero (chiamato \"base\") per ottenere un altro numero?\" Matematicamente, questo è espresso come:\n",
    "\n",
    "$$\n",
    "\\log_b(a) = x \\iff b^x = a\n",
    "$$\n",
    "\n",
    "Ad esempio, $\\log_2(8) = 3$ perché $2^3 = 8$.\n",
    "\n",
    "Nel contesto dei logaritmi, i valori molto piccoli (compresi tra 0 e 1) diventano più grandi (in termini assoluti) e negativi quando applichiamo una funzione logaritmica. Questo è utile per stabilizzare i calcoli, specialmente quando lavoriamo con prodotti di numeri molto piccoli che potrebbero portare a problemi di underflow.\n",
    "\n",
    "Per esempio:\n",
    "- $\\log(1) = 0$\n",
    "- $\\log(0.1) = -1$\n",
    "- $\\log(0.01) = -2$\n",
    "- $\\log(0.001) = -3$\n",
    "\n",
    "Come si può vedere, i valori assoluti dei logaritmi crescono man mano che il numero originale si avvicina a zero.\n",
    "\n",
    "Una delle proprietà più utili dei logaritmi è che consentono di trasformare un prodotto in una somma:\n",
    "\n",
    "$$\n",
    "\\log_b(a \\times c) = \\log_b(a) + \\log_b(c)\n",
    "$$\n",
    "\n",
    "Questa proprietà è estremamente utile in calcoli complessi, come nella statistica bayesiana, dove il prodotto di molte probabilità potrebbe diventare un numero molto piccolo e causare problemi numerici.\n",
    "\n",
    "Un'altra proprietà utile dei logaritmi è che un rapporto tra due numeri diventa la differenza dei loro logaritmi:\n",
    "\n",
    "$$\n",
    "\\log_b\\left(\\frac{a}{c}\\right) = \\log_b(a) - \\log_b(c)\n",
    "$$\n",
    "\n",
    "Anche questa proprietà è molto utilizzata in matematica, specialmente in situazioni in cui è necessario normalizzare i dati.\n",
    "\n",
    "In sintesi, i logaritmi sono strumenti potenti per semplificare e stabilizzare i calcoli matematici. Essi consentono di lavorare più agevolmente con numeri molto grandi o molto piccoli e di trasformare operazioni complesse come prodotti e divisioni in somme e differenze, rendendo i calcoli più gestibili e meno inclini a errori numerici."
   ]
  }
 ],
 "metadata": {
  "kernelspec": {
   "display_name": "pymc",
   "language": "python",
   "name": "python3"
  },
  "language_info": {
   "codemirror_mode": {
    "name": "ipython",
    "version": 3
   },
   "file_extension": ".py",
   "mimetype": "text/x-python",
   "name": "python",
   "nbconvert_exporter": "python",
   "pygments_lexer": "ipython3",
   "version": "3.11.8"
  },
  "orig_nbformat": 4,
  "vscode": {
   "interpreter": {
    "hash": "cbb367cc0128e23b7454d788d5a4229ca1f9848fd2e857f4797fbd26ab3b0776"
   }
  }
 },
 "nbformat": 4,
 "nbformat_minor": 2
}
