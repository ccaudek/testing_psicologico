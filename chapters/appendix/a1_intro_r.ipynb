{
 "cells": [
  {
   "attachments": {},
   "cell_type": "markdown",
   "metadata": {},
   "source": [
    "# Linguaggio R\n",
    "\n",
    "$\\mathsf{R}$ è un linguaggio di programmazione per l’analisi dei dati, il calcolo e la visualizzazione grafica. È open source ed estensibile, il che significa che il codice sorgente è disponibile per essere esaminato e riutilizzato. Può essere scaricato gratuitamente dal sito web del Comprehensive R Archive Network (CRAN) ed è disponibile per PC, MacOS e sistemi operativi Linux/Unix. Gran parte del core-R è scritto in Fortran o C++, ma molti pacchetti per $\\mathsf{R}$ sono scritti in $\\mathsf{R}$ stesso. Chiunque può aggiungere pacchetti al CRAN o ad altri repository come GitHub o BioConductor. CRAN ha test di garanzia della qualità per garantire che i programmi contribuiti abbiano una documentazione coerente e non falliscano durante l’esecuzione degli esempi forniti. Al momento ci sono migliaia di pacchetti disponibili per $\\mathsf{R}$ e questo numero aumenta quotidianamente.\n",
    "\n",
    "Per programmare in $\\mathsf{R}$, è importante seguire le regole sintattiche del linguaggio. Se una riga di codice non è scritta correttamente, l’interprete di $\\mathsf{R}$ segnalerà un errore. Questo può essere difficile per i principianti, ma ci sono due vantaggi nell’atto di scrivere codice.\n",
    "\n",
    "- Prima di poter risolvere un problema con il codice, è necessario comprenderlo e analizzarlo in modo preciso. Questo aiuta a sviluppare una comprensione più profonda del problema e a identificare soluzioni efficaci.\n",
    "- Inoltre, se un programma non funziona correttamente, il programmatore che lo ha scritto è l’unico responsabile. Questo aiuta i programmatori a sviluppare una maggiore autoconsapevolezza e responsabilità nei confronti del proprio lavoro.\n",
    "\n",
    "Inoltre, su Internet è disponibile una vasta gamma di materiali utili per avvicinarsi all'ambiente $\\mathsf{R}$ e aiutare l'utente nell'apprendimento di questo software statistico. Tra le tante introduzioni al linguaggio $\\mathsf{R}$, si veda ad esempio, [Introduction to R](https://cran.r-project.org/doc/manuals/r-release/R-intro.pdf) di Venables, Smith, and the R development core team (2023)."
   ]
  }
 ],
 "metadata": {
  "language_info": {
   "name": "python"
  },
  "orig_nbformat": 4
 },
 "nbformat": 4,
 "nbformat_minor": 2
}
