{
 "cells": [
  {
   "attachments": {},
   "cell_type": "markdown",
   "id": "3729a058",
   "metadata": {},
   "source": [
    "# La rotazione fattoriale {#sec-rotation}"
   ]
  },
  {
   "cell_type": "markdown",
   "id": "16eb324a",
   "metadata": {},
   "source": [
    "**Prerequisiti**\n",
    "\n",
    "**Concetti e Competenze Chiave**\n",
    "\n",
    "**Preparazione del Notebook**"
   ]
  },
  {
   "cell_type": "code",
   "execution_count": 1,
   "id": "fedea705",
   "metadata": {
    "tags": [
     "remove_cell"
    ],
    "vscode": {
     "languageId": "r"
    }
   },
   "outputs": [
    {
     "name": "stderr",
     "output_type": "stream",
     "text": [
      "Caricamento dei namespace richiesti: pacman\n",
      "\n"
     ]
    }
   ],
   "source": [
    "here::here(\"code\", \"_common.R\") |>\n",
    "    source()\n",
    "\n",
    "# Load packages\n",
    "if (!requireNamespace(\"pacman\")) install.packages(\"pacman\")\n",
    "pacman::p_load(lavaan, psych)"
   ]
  },
  {
   "attachments": {},
   "cell_type": "markdown",
   "id": "17ef2479",
   "metadata": {},
   "source": [
    "Nel capitolo {ref}`extraction-notebook` abbiamo determinato il numero ottimale di fattori comuni. Tuttavia, la soluzione iniziale, non ruotata, può risultare difficile da interpretare. Per ottenere una struttura fattoriale più semplice e intuitiva, si procede alla rotazione degli assi fattoriali. L'obiettivo della rotazione è quello di identificare gruppi omogenei di variabili che saturano fortemente su un singolo fattore e con saturazioni trascurabili sugli altri.\n",
    "\n",
    "## Indeterminatezza della soluzione fattoriale\n",
    "\n",
    "La necessità di effettuare la rotazione deriva dal fatto che la matrice delle saturazioni non ha un’unica soluzione. Attraverso trasformazioni matematiche, è possibile ottenere infinite matrici dello stesso ordine. Questo fenomeno è noto come indeterminatezza della soluzione fattoriale.\n",
    "\n",
    "La matrice delle saturazioni fattoriali $\\boldsymbol{\\Lambda}$ non è univocamente definita poiché non esiste una soluzione unica per determinare le saturazioni fattoriali. Una matrice di correlazioni $\\boldsymbol{R}$ può produrre diverse soluzioni fattoriali, ovvero matrici con lo stesso numero di fattori comuni ma con diverse configurazioni di saturazioni fattoriali, o matrici di saturazioni fattoriali corrispondenti a un diverso numero di fattori comuni.\n",
    "\n",
    "**Esempio.** Siano $\\boldsymbol{\\Lambda}_1$ e $\\boldsymbol{\\Lambda}_2$ due matrici\n",
    "aventi lo stesso numero di righe e colonne, ma contenenti saturazioni\n",
    "fattoriali diverse. $\\boldsymbol{\\Lambda}_1$ è definita dai valori\n",
    "seguenti"
   ]
  },
  {
   "cell_type": "code",
   "execution_count": 2,
   "id": "4ec4ac23",
   "metadata": {
    "vscode": {
     "languageId": "r"
    }
   },
   "outputs": [],
   "source": [
    "l1 <- matrix(\n",
    "  c(\n",
    "    0.766,  -0.232,\n",
    "    0.670,  -0.203,\n",
    "    0.574,  -0.174,\n",
    "    0.454,   0.533,\n",
    "    0.389,   0.457,\n",
    "    0.324,   0.381\n",
    "  ),\n",
    "  byrow = TRUE, ncol = 2\n",
    ")"
   ]
  },
  {
   "attachments": {},
   "cell_type": "markdown",
   "id": "ac93f676",
   "metadata": {},
   "source": [
    "mentre per $\\boldsymbol{\\Lambda}_2$ abbiamo"
   ]
  },
  {
   "cell_type": "code",
   "execution_count": 3,
   "id": "87db0193",
   "metadata": {
    "vscode": {
     "languageId": "r"
    }
   },
   "outputs": [],
   "source": [
    "l2 <- matrix(\n",
    "  c(\n",
    "    0.783,  0.163,\n",
    "    0.685,  0.143,\n",
    "    0.587,  0.123,\n",
    "    0.143,  0.685,\n",
    "    0.123,  0.587,\n",
    "    0.102,  0.489\n",
    "  ),\n",
    "  byrow = TRUE, ncol = 2\n",
    ")"
   ]
  },
  {
   "attachments": {},
   "cell_type": "markdown",
   "id": "df39d74b",
   "metadata": {},
   "source": [
    "Esaminiamo la matrice delle correlazioni riprodotte dalle due matrici di\n",
    "pesi fattoriali (con le comunalità sulla diagonale di $\\boldsymbol{R}$):"
   ]
  },
  {
   "cell_type": "code",
   "execution_count": 4,
   "id": "911cb8dd",
   "metadata": {
    "vscode": {
     "languageId": "r"
    }
   },
   "outputs": [
    {
     "data": {
      "text/html": [
       "<table class=\"dataframe\">\n",
       "<caption>A matrix: 6 x 6 of type dbl</caption>\n",
       "<tbody>\n",
       "\t<tr><td>0.64</td><td>0.56</td><td>0.48</td><td>0.22</td><td>0.19</td><td>0.16</td></tr>\n",
       "\t<tr><td>0.56</td><td>0.49</td><td>0.42</td><td>0.20</td><td>0.17</td><td>0.14</td></tr>\n",
       "\t<tr><td>0.48</td><td>0.42</td><td>0.36</td><td>0.17</td><td>0.14</td><td>0.12</td></tr>\n",
       "\t<tr><td>0.22</td><td>0.20</td><td>0.17</td><td>0.49</td><td>0.42</td><td>0.35</td></tr>\n",
       "\t<tr><td>0.19</td><td>0.17</td><td>0.14</td><td>0.42</td><td>0.36</td><td>0.30</td></tr>\n",
       "\t<tr><td>0.16</td><td>0.14</td><td>0.12</td><td>0.35</td><td>0.30</td><td>0.25</td></tr>\n",
       "</tbody>\n",
       "</table>\n"
      ],
      "text/latex": [
       "A matrix: 6 x 6 of type dbl\n",
       "\\begin{tabular}{llllll}\n",
       "\t 0.64 & 0.56 & 0.48 & 0.22 & 0.19 & 0.16\\\\\n",
       "\t 0.56 & 0.49 & 0.42 & 0.20 & 0.17 & 0.14\\\\\n",
       "\t 0.48 & 0.42 & 0.36 & 0.17 & 0.14 & 0.12\\\\\n",
       "\t 0.22 & 0.20 & 0.17 & 0.49 & 0.42 & 0.35\\\\\n",
       "\t 0.19 & 0.17 & 0.14 & 0.42 & 0.36 & 0.30\\\\\n",
       "\t 0.16 & 0.14 & 0.12 & 0.35 & 0.30 & 0.25\\\\\n",
       "\\end{tabular}\n"
      ],
      "text/markdown": [
       "\n",
       "A matrix: 6 x 6 of type dbl\n",
       "\n",
       "| 0.64 | 0.56 | 0.48 | 0.22 | 0.19 | 0.16 |\n",
       "| 0.56 | 0.49 | 0.42 | 0.20 | 0.17 | 0.14 |\n",
       "| 0.48 | 0.42 | 0.36 | 0.17 | 0.14 | 0.12 |\n",
       "| 0.22 | 0.20 | 0.17 | 0.49 | 0.42 | 0.35 |\n",
       "| 0.19 | 0.17 | 0.14 | 0.42 | 0.36 | 0.30 |\n",
       "| 0.16 | 0.14 | 0.12 | 0.35 | 0.30 | 0.25 |\n",
       "\n"
      ],
      "text/plain": [
       "     [,1] [,2] [,3] [,4] [,5] [,6]\n",
       "[1,] 0.64 0.56 0.48 0.22 0.19 0.16\n",
       "[2,] 0.56 0.49 0.42 0.20 0.17 0.14\n",
       "[3,] 0.48 0.42 0.36 0.17 0.14 0.12\n",
       "[4,] 0.22 0.20 0.17 0.49 0.42 0.35\n",
       "[5,] 0.19 0.17 0.14 0.42 0.36 0.30\n",
       "[6,] 0.16 0.14 0.12 0.35 0.30 0.25"
      ]
     },
     "metadata": {},
     "output_type": "display_data"
    }
   ],
   "source": [
    "l1 %*% t(l1) |> round(2)"
   ]
  },
  {
   "cell_type": "code",
   "execution_count": 5,
   "id": "6ab3ba92",
   "metadata": {
    "vscode": {
     "languageId": "r"
    }
   },
   "outputs": [
    {
     "data": {
      "text/html": [
       "<table class=\"dataframe\">\n",
       "<caption>A matrix: 6 x 6 of type dbl</caption>\n",
       "<tbody>\n",
       "\t<tr><td>0.64</td><td>0.56</td><td>0.48</td><td>0.22</td><td>0.19</td><td>0.16</td></tr>\n",
       "\t<tr><td>0.56</td><td>0.49</td><td>0.42</td><td>0.20</td><td>0.17</td><td>0.14</td></tr>\n",
       "\t<tr><td>0.48</td><td>0.42</td><td>0.36</td><td>0.17</td><td>0.14</td><td>0.12</td></tr>\n",
       "\t<tr><td>0.22</td><td>0.20</td><td>0.17</td><td>0.49</td><td>0.42</td><td>0.35</td></tr>\n",
       "\t<tr><td>0.19</td><td>0.17</td><td>0.14</td><td>0.42</td><td>0.36</td><td>0.30</td></tr>\n",
       "\t<tr><td>0.16</td><td>0.14</td><td>0.12</td><td>0.35</td><td>0.30</td><td>0.25</td></tr>\n",
       "</tbody>\n",
       "</table>\n"
      ],
      "text/latex": [
       "A matrix: 6 x 6 of type dbl\n",
       "\\begin{tabular}{llllll}\n",
       "\t 0.64 & 0.56 & 0.48 & 0.22 & 0.19 & 0.16\\\\\n",
       "\t 0.56 & 0.49 & 0.42 & 0.20 & 0.17 & 0.14\\\\\n",
       "\t 0.48 & 0.42 & 0.36 & 0.17 & 0.14 & 0.12\\\\\n",
       "\t 0.22 & 0.20 & 0.17 & 0.49 & 0.42 & 0.35\\\\\n",
       "\t 0.19 & 0.17 & 0.14 & 0.42 & 0.36 & 0.30\\\\\n",
       "\t 0.16 & 0.14 & 0.12 & 0.35 & 0.30 & 0.25\\\\\n",
       "\\end{tabular}\n"
      ],
      "text/markdown": [
       "\n",
       "A matrix: 6 x 6 of type dbl\n",
       "\n",
       "| 0.64 | 0.56 | 0.48 | 0.22 | 0.19 | 0.16 |\n",
       "| 0.56 | 0.49 | 0.42 | 0.20 | 0.17 | 0.14 |\n",
       "| 0.48 | 0.42 | 0.36 | 0.17 | 0.14 | 0.12 |\n",
       "| 0.22 | 0.20 | 0.17 | 0.49 | 0.42 | 0.35 |\n",
       "| 0.19 | 0.17 | 0.14 | 0.42 | 0.36 | 0.30 |\n",
       "| 0.16 | 0.14 | 0.12 | 0.35 | 0.30 | 0.25 |\n",
       "\n"
      ],
      "text/plain": [
       "     [,1] [,2] [,3] [,4] [,5] [,6]\n",
       "[1,] 0.64 0.56 0.48 0.22 0.19 0.16\n",
       "[2,] 0.56 0.49 0.42 0.20 0.17 0.14\n",
       "[3,] 0.48 0.42 0.36 0.17 0.14 0.12\n",
       "[4,] 0.22 0.20 0.17 0.49 0.42 0.35\n",
       "[5,] 0.19 0.17 0.14 0.42 0.36 0.30\n",
       "[6,] 0.16 0.14 0.12 0.35 0.30 0.25"
      ]
     },
     "metadata": {},
     "output_type": "display_data"
    }
   ],
   "source": [
    "l2 %*% t(l2) |> round(2)"
   ]
  },
  {
   "attachments": {},
   "cell_type": "markdown",
   "id": "904c63e3",
   "metadata": {},
   "source": [
    "Come si vede, viene ottenuto lo stesso risultato utilizzando matrici\n",
    "$\\boldsymbol{\\Lambda}$ con lo stesso numero $m$ di colonne ma\n",
    "saturazioni fattoriali diverse.\n",
    "\n",
    "Si consideri ora il caso di matrici $\\boldsymbol{\\Lambda}$\n",
    "corrispondenti a soluzioni fattoriali con un diverso numero di fattori\n",
    "comuni. Siano $\\boldsymbol{\\Lambda}_1$ e $\\boldsymbol{\\Lambda}_2$ due\n",
    "matrici aventi lo stesso numero di righe ma un numero diverso di\n",
    "colonne:"
   ]
  },
  {
   "cell_type": "code",
   "execution_count": 6,
   "id": "a72e4a5e",
   "metadata": {
    "vscode": {
     "languageId": "r"
    }
   },
   "outputs": [],
   "source": [
    "l1 <- matrix(\n",
    "  c(\n",
    "    0.9,\n",
    "    0.7,\n",
    "    0.5,\n",
    "    0.3\n",
    "  ),\n",
    "  byrow = TRUE, ncol = 1\n",
    ")\n",
    "\n",
    "l2 <- matrix(\n",
    "  c(\n",
    "    0.78, 0.45,\n",
    "    0.61, 0.35,\n",
    "    0.43, 0.25,\n",
    "    0.25, 0.15\n",
    "  ),\n",
    "  byrow = TRUE, ncol = 2\n",
    ")"
   ]
  },
  {
   "attachments": {},
   "cell_type": "markdown",
   "id": "4f0f14f0",
   "metadata": {},
   "source": [
    "Si noti che la stessa matrice di correlazioni riprodotte (con le\n",
    "comunalità sulla diagonale principale) viene generata dalle saturazioni\n",
    "fattoriali corrispondenti ad un numero diverso di fattori comuni:"
   ]
  },
  {
   "cell_type": "code",
   "execution_count": 7,
   "id": "fd547347",
   "metadata": {
    "vscode": {
     "languageId": "r"
    }
   },
   "outputs": [
    {
     "data": {
      "text/html": [
       "<table class=\"dataframe\">\n",
       "<caption>A matrix: 4 x 4 of type dbl</caption>\n",
       "<tbody>\n",
       "\t<tr><td>0.81</td><td>0.63</td><td>0.45</td><td>0.27</td></tr>\n",
       "\t<tr><td>0.63</td><td>0.49</td><td>0.35</td><td>0.21</td></tr>\n",
       "\t<tr><td>0.45</td><td>0.35</td><td>0.25</td><td>0.15</td></tr>\n",
       "\t<tr><td>0.27</td><td>0.21</td><td>0.15</td><td>0.09</td></tr>\n",
       "</tbody>\n",
       "</table>\n"
      ],
      "text/latex": [
       "A matrix: 4 x 4 of type dbl\n",
       "\\begin{tabular}{llll}\n",
       "\t 0.81 & 0.63 & 0.45 & 0.27\\\\\n",
       "\t 0.63 & 0.49 & 0.35 & 0.21\\\\\n",
       "\t 0.45 & 0.35 & 0.25 & 0.15\\\\\n",
       "\t 0.27 & 0.21 & 0.15 & 0.09\\\\\n",
       "\\end{tabular}\n"
      ],
      "text/markdown": [
       "\n",
       "A matrix: 4 x 4 of type dbl\n",
       "\n",
       "| 0.81 | 0.63 | 0.45 | 0.27 |\n",
       "| 0.63 | 0.49 | 0.35 | 0.21 |\n",
       "| 0.45 | 0.35 | 0.25 | 0.15 |\n",
       "| 0.27 | 0.21 | 0.15 | 0.09 |\n",
       "\n"
      ],
      "text/plain": [
       "     [,1] [,2] [,3] [,4]\n",
       "[1,] 0.81 0.63 0.45 0.27\n",
       "[2,] 0.63 0.49 0.35 0.21\n",
       "[3,] 0.45 0.35 0.25 0.15\n",
       "[4,] 0.27 0.21 0.15 0.09"
      ]
     },
     "metadata": {},
     "output_type": "display_data"
    }
   ],
   "source": [
    "l1 %*% t(l1) |> round(2)"
   ]
  },
  {
   "cell_type": "code",
   "execution_count": 8,
   "id": "06f83478",
   "metadata": {
    "lines_to_next_cell": 0,
    "vscode": {
     "languageId": "r"
    }
   },
   "outputs": [
    {
     "data": {
      "text/html": [
       "<table class=\"dataframe\">\n",
       "<caption>A matrix: 4 x 4 of type dbl</caption>\n",
       "<tbody>\n",
       "\t<tr><td>0.81</td><td>0.63</td><td>0.45</td><td>0.26</td></tr>\n",
       "\t<tr><td>0.63</td><td>0.49</td><td>0.35</td><td>0.20</td></tr>\n",
       "\t<tr><td>0.45</td><td>0.35</td><td>0.25</td><td>0.14</td></tr>\n",
       "\t<tr><td>0.26</td><td>0.20</td><td>0.14</td><td>0.08</td></tr>\n",
       "</tbody>\n",
       "</table>\n"
      ],
      "text/latex": [
       "A matrix: 4 x 4 of type dbl\n",
       "\\begin{tabular}{llll}\n",
       "\t 0.81 & 0.63 & 0.45 & 0.26\\\\\n",
       "\t 0.63 & 0.49 & 0.35 & 0.20\\\\\n",
       "\t 0.45 & 0.35 & 0.25 & 0.14\\\\\n",
       "\t 0.26 & 0.20 & 0.14 & 0.08\\\\\n",
       "\\end{tabular}\n"
      ],
      "text/markdown": [
       "\n",
       "A matrix: 4 x 4 of type dbl\n",
       "\n",
       "| 0.81 | 0.63 | 0.45 | 0.26 |\n",
       "| 0.63 | 0.49 | 0.35 | 0.20 |\n",
       "| 0.45 | 0.35 | 0.25 | 0.14 |\n",
       "| 0.26 | 0.20 | 0.14 | 0.08 |\n",
       "\n"
      ],
      "text/plain": [
       "     [,1] [,2] [,3] [,4]\n",
       "[1,] 0.81 0.63 0.45 0.26\n",
       "[2,] 0.63 0.49 0.35 0.20\n",
       "[3,] 0.45 0.35 0.25 0.14\n",
       "[4,] 0.26 0.20 0.14 0.08"
      ]
     },
     "metadata": {},
     "output_type": "display_data"
    }
   ],
   "source": [
    "l2 %*% t(l2) |> round(2)"
   ]
  },
  {
   "attachments": {},
   "cell_type": "markdown",
   "id": "1d7d5ffa",
   "metadata": {},
   "source": [
    "## Parsimonia e semplicità\n",
    "\n",
    "Per ottenere risultati affidabili dall'analisi fattoriale, si affronta il problema dell'indeterminazione fattoriale scegliendo la soluzione che soddisfa due criteri fondamentali: il criterio della parsimonia e il criterio della semplicità.\n",
    "\n",
    "Il criterio della parsimonia richiede di scegliere il modello con il minor numero di fattori comuni che può spiegare la covarianza tra le variabili. In pratica, se ci sono due soluzioni fattoriali con un diverso numero di fattori che riproducono allo stesso modo la matrice di covarianza o di correlazione, si sceglie quella con il minor numero di fattori.\n",
    "\n",
    "In caso invece ci siano diverse soluzioni fattoriali con lo stesso numero m di fattori, il criterio della semplicità guida nella scelta della trasformazione più appropriata della matrice di saturazioni fattoriali $\\boldsymbol{\\Lambda}$. Questa trasformazione, nota come rotazione, cerca di rendere i fattori più interpretabili. Ci sono due tipi di rotazione: ortogonale e obliqua. \n",
    "\n",
    "La rotazione ortogonale assume che i fattori siano incorrelati, mentre la rotazione obliqua consente correlazioni tra i fattori. L'obiettivo della rotazione è di trovare una soluzione che renda i fattori più facilmente interpretabili e, quindi, in grado di spiegare meglio i dati.\n",
    "\n",
    "### Il Criterio della Struttura Semplice nell'Analisi Fattoriale\n",
    "\n",
    "L'analisi fattoriale impiega la rotazione degli assi fattoriali per ottenere una \"struttura semplice\" nella matrice delle saturazioni fattoriali. Questo criterio, proposto originariamente da Thurstone nel 1947, mira a realizzare una matrice caratterizzata da un numero limitato di saturazioni (o carichi fattoriali) significative e diverse da zero, minimizzando al contempo la presenza di variabili influenzate da più di un fattore.\n",
    "\n",
    "Per raggiungere una struttura semplice, Thurstone ha delineato specifiche condizioni che la matrice fattoriale ruotata deve soddisfare:\n",
    "1. Ogni variabile deve presentare saturazioni nulle con la maggior parte dei fattori, escludendo uno o pochi con cui mostra saturazioni significative.\n",
    "2. Per ciascun fattore, devono esistere almeno $m$ saturazioni nulle, dove $m$ è il numero totale di fattori comuni.\n",
    "\n",
    "L'obiettivo della rotazione è quindi massimizzare il numero di saturazioni nulle o quasi nulle, facilitando l'interpretazione dei fattori. Analizzando la matrice ruotata, è possibile identificare le variabili che sono fortemente associate a specifici fattori e valutare l'intensità di tali associazioni.\n",
    "\n",
    "Un fattore si interpreta efficacemente quando i suoi carichi sono elevati e positivi su un gruppo ristretto di variabili; ciò suggerisce che il fattore rappresenta un tratto o una caratteristica comune a tali variabili. Tuttavia, l'interpretazione diventa più complessa quando le variabili presentano saturazioni significative con più di un fattore, poiché indica la presenza di sovrapposizioni nelle influenze fattoriali.\n",
    "\n",
    "\n",
    "## Rotazione nello Spazio Geometrico\n",
    "\n",
    "### Rotazione Ortogonale\n",
    "\n",
    "Come precedentemente osservato, la matrice delle saturazioni fattoriali non è unica, implicando l'esistenza di multiple soluzioni equivalenti per determinare i pesi fattoriali. La rotazione ortogonale è un tipo di trasformazione lineare applicata ai pesi fattoriali per produrre una nuova matrice di saturazioni fattoriali che rispetti criteri specifici di struttura semplice. Questo processo ha lo scopo di rendere i dati più facilmente interpretabili.\n",
    "\n",
    "Geometricamente parlando, la rotazione ortogonale è simile a una rotazione rigida degli assi in uno spazio cartesiano che rappresenta i pesi fattoriali. Tale rotazione conserva le distanze tra i punti (che rappresentano le saturazioni fattoriali) ma modifica la loro posizione relativa rispetto ai fattori. Di conseguenza, si ottiene una configurazione dei pesi fattoriali che è più semplice da interpretare.\n",
    "\n",
    "Le tecniche di rotazione ortogonale sono tipicamente implementate attraverso metodi come la massima verosimiglianza o l'analisi dei componenti principali, con l'obiettivo di massimizzare il numero di saturazioni nulle o quasi nulle nella matrice delle saturazioni risultante. Questo processo aiuta a chiarire quale variabile è influenzata maggiormente da quali fattori, facilitando l'interpretazione dei risultati dell'analisi fattoriale.\n",
    "\n",
    "### Vincoli alla Rotazione dei Fattori\n",
    "\n",
    "Il problema della non identificabilità della matrice dei pesi fattoriali, denotata come $\\hat{\\boldsymbol{\\Lambda}}$, indica l'esistenza di molteplici matrici equivalenti che possono produrre identiche correlazioni tra le variabili di un modello. Per affrontare questa questione, è essenziale imporre vincoli sulla rotazione dei fattori. Uno dei criteri fondamentali nella scelta del tipo di rotazione è l'ottenimento di una matrice $\\hat{\\boldsymbol{\\Lambda}}$ semplificata, i cui elementi si avvicinano il più possibile ai valori 0 e 1. Questo facilita l'interpretazione dei fattori come combinazioni lineari delle variabili.\n",
    "\n",
    "Le rotazioni ortogonali, utili in presenza di fattori non correlati, mantengono inalterate le comunalità, poiché conservano le distanze geometriche tra i punti rappresentati dai pesi fattoriali. In questo caso, le comunalità sono calcolate come la somma dei quadrati dei pesi fattoriali. Al contrario, le rotazioni non ortogonali modificano la quota di varianza spiegata da ciascun fattore, calcolata dalla somma dei quadrati dei pesi fattoriali divisa per la traccia della matrice di correlazione.\n",
    "\n",
    "Esistono vari algoritmi per eseguire la rotazione ortogonale dei fattori, tra cui il metodo grafico, il metodo Quartimax e il metodo Varimax. Ciascuno di questi metodi ha specifiche applicazioni e impatti sulla struttura della matrice risultante, facilitando così l'interpretazione dei dati analizzati.\n",
    "\n",
    "### Metodo Grafico per la Rotazione dei Fattori\n",
    "\n",
    "Quando si dispone di soli $ m=2 $ fattori, il sistema di coordinate bidimensionale è utilizzato per rappresentare geometricamente i fattori. La visualizzazione grafica delle saturazioni fattoriali permette di determinare visivamente la rotazione più appropriata. Ogni riga della matrice $\\hat{\\boldsymbol{\\Lambda}}$ rappresenta un paio di pesi fattoriali, $\\hat{\\lambda}_{i1}, \\hat{\\lambda}_{i2}$, con $i=1, \\dots, p$, che corrispondono alle coordinate di $p$ punti (equivalenti al numero di variabili manifeste). Per ottimizzare la rappresentazione, gli assi vengono ruotati di un angolo $\\phi$ per avvicinarli il più possibile alla disposizione dei punti sul grafico. Le nuove coordinate $(\\hat{\\lambda}_{i1}^*, \\hat{\\lambda}_{i2}^*)$ sono calcolate mediante la trasformazione $\\hat{\\boldsymbol{\\Lambda}}^* = \\hat{\\boldsymbol{\\Lambda}} \\textbf{T}$, dove\n",
    "\n",
    "$$\n",
    "\\textbf{T} = \n",
    "\\begin{bmatrix}\n",
    "\\cos{\\phi} & -\\sin{\\phi}\\\\\n",
    "\\sin{\\phi} & \\cos{\\phi}\n",
    "\\end{bmatrix}\n",
    "$$\n",
    "\n",
    "è una matrice ortogonale $2 \\times 2$.\n",
    "\n",
    "**Esempio:** Consideriamo un caso studiato da Brown, Williams e Barlow (1984), analizzato in {cite:t}`rencher10methods`. A una ragazza di dodici anni è stato chiesto di valutare sette suoi conoscenti su cinque attributi: *gentilezza*, *intelligenza*, *felicità*, *simpatia* e *giustizia*. Per queste variabili, la matrice di correlazione $R$ è stata analizzata per estrarre due fattori mediante il metodo delle componenti principali, senza rotazione iniziale:"
   ]
  },
  {
   "cell_type": "code",
   "execution_count": 9,
   "id": "7214cc07",
   "metadata": {
    "vscode": {
     "languageId": "r"
    }
   },
   "outputs": [
    {
     "name": "stdout",
     "output_type": "stream",
     "text": [
      "      K      I      H     L     J\n",
      "K 1.000  0.296  0.881 0.995 0.545\n",
      "I 0.296  1.000 -0.022 0.326 0.837\n",
      "H 0.881 -0.022  1.000 0.867 0.130\n",
      "L 0.995  0.326  0.867 1.000 0.544\n",
      "J 0.545  0.837  0.130 0.544 1.000\n"
     ]
    }
   ],
   "source": [
    "R <- matrix(\n",
    "  c(\n",
    "    1.00, .296, .881, .995, .545,\n",
    "    .296, 1.000, -.022, .326, .837,\n",
    "    .881, -.022, 1.000, .867, .130,\n",
    "    .995, .326, .867, 1.000, .544,\n",
    "    .545, .837, .130, .544, 1.00\n",
    "  ),\n",
    "  ncol = 5, byrow = TRUE, dimnames = list(\n",
    "    c(\"K\", \"I\", \"H\", \"L\", \"J\"), c(\"K\", \"I\", \"H\", \"L\", \"J\")\n",
    "  )\n",
    ")\n",
    "\n",
    "print(R)"
   ]
  },
  {
   "attachments": {},
   "cell_type": "markdown",
   "id": "6beeb583",
   "metadata": {},
   "source": [
    "Dalla matrice $R$, estraiamo due fattori. Si osserva che i fattori risultano difficili da interpretare: il primo fattore mostra alte saturazioni positive su tutte le variabili manifeste, mentre il secondo fattore si caratterizza per alte saturazioni positive su una variabile e negative sulle altre."
   ]
  },
  {
   "cell_type": "code",
   "execution_count": 10,
   "id": "6b317c96",
   "metadata": {
    "vscode": {
     "languageId": "r"
    }
   },
   "outputs": [
    {
     "name": "stderr",
     "output_type": "stream",
     "text": [
      "Specified rotation not found, rotate='none' used\n",
      "\n"
     ]
    },
    {
     "data": {
      "text/plain": [
       "Principal Components Analysis\n",
       "Call: principal(r = R, nfactors = 2, rotate = FALSE)\n",
       "Standardized loadings (pattern matrix) based upon correlation matrix\n",
       "   PC1   PC2   h2     u2 com\n",
       "K 0.97 -0.23 0.99 0.0067 1.1\n",
       "I 0.52  0.81 0.92 0.0792 1.7\n",
       "H 0.78 -0.59 0.96 0.0391 1.9\n",
       "L 0.97 -0.21 0.99 0.0135 1.1\n",
       "J 0.70  0.67 0.94 0.0597 2.0\n",
       "\n",
       "                       PC1  PC2\n",
       "SS loadings           3.26 1.54\n",
       "Proportion Var        0.65 0.31\n",
       "Cumulative Var        0.65 0.96\n",
       "Proportion Explained  0.68 0.32\n",
       "Cumulative Proportion 0.68 1.00\n",
       "\n",
       "Mean item complexity =  1.6\n",
       "Test of the hypothesis that 2 components are sufficient.\n",
       "\n",
       "The root mean square of the residuals (RMSR) is  0.03 \n",
       "\n",
       "Fit based upon off diagonal values = 1"
      ]
     },
     "metadata": {},
     "output_type": "display_data"
    }
   ],
   "source": [
    "f.pc <- principal(R, 2, rotate = FALSE) \n",
    "f.pc"
   ]
  },
  {
   "attachments": {},
   "cell_type": "markdown",
   "id": "713fc702",
   "metadata": {},
   "source": [
    "In un grafico delle saturazioni fattoriali, i punti rappresentano le cinque coppie di saturazioni (una per ciascun fattore):"
   ]
  },
  {
   "cell_type": "code",
   "execution_count": 11,
   "id": "78e144bb",
   "metadata": {
    "vscode": {
     "languageId": "r"
    }
   },
   "outputs": [
    {
     "data": {
      "image/png": "[encoded data removed]",
      "text/plain": [
       "plot without title"
      ]
     },
     "metadata": {
      "image/png": {
       "height": 296.6563,
       "width": 480
      }
     },
     "output_type": "display_data"
    }
   ],
   "source": [
    "plot(\n",
    "  f.pc$load[, 1], f.pc$load[, 2],\n",
    "  bty = \"n\", xaxt = \"n\",\n",
    "  xlab = \"Primo Fattore\", ylab = \"Secondo Fattore\",\n",
    "  ylim = c(-.6, 1), xlim = c(0, 1), pch = 19, asp = 1\n",
    ")\n",
    "axis(1, pos = c(0, 0))\n",
    "abline(0, 0)"
   ]
  },
  {
   "attachments": {},
   "cell_type": "markdown",
   "id": "4de192b5",
   "metadata": {},
   "source": [
    "@rencher10methods suggerisce che una rotazione ortogonale di $-35^\\circ$ avvicinerebbe efficacemente gli assi ai punti nel diagramma di dispersione. Per verificarlo, si può disegnare i nuovi assi nel grafico dopo una rotazione di $-35^\\circ$."
   ]
  },
  {
   "cell_type": "code",
   "execution_count": 12,
   "id": "d85c292e",
   "metadata": {
    "vscode": {
     "languageId": "r"
    }
   },
   "outputs": [
    {
     "data": {
      "text/html": [
       "<table class=\"dataframe\">\n",
       "<caption>A matrix: 4 x 2 of type dbl</caption>\n",
       "<tbody>\n",
       "\t<tr><td>0.000</td><td> 0.000</td></tr>\n",
       "\t<tr><td>0.574</td><td> 0.819</td></tr>\n",
       "\t<tr><td>0.000</td><td> 0.000</td></tr>\n",
       "\t<tr><td>0.819</td><td>-0.574</td></tr>\n",
       "</tbody>\n",
       "</table>\n"
      ],
      "text/latex": [
       "A matrix: 4 x 2 of type dbl\n",
       "\\begin{tabular}{ll}\n",
       "\t 0.000 &  0.000\\\\\n",
       "\t 0.574 &  0.819\\\\\n",
       "\t 0.000 &  0.000\\\\\n",
       "\t 0.819 & -0.574\\\\\n",
       "\\end{tabular}\n"
      ],
      "text/markdown": [
       "\n",
       "A matrix: 4 x 2 of type dbl\n",
       "\n",
       "| 0.000 |  0.000 |\n",
       "| 0.574 |  0.819 |\n",
       "| 0.000 |  0.000 |\n",
       "| 0.819 | -0.574 |\n",
       "\n"
      ],
      "text/plain": [
       "     [,1]  [,2]  \n",
       "[1,] 0.000  0.000\n",
       "[2,] 0.574  0.819\n",
       "[3,] 0.000  0.000\n",
       "[4,] 0.819 -0.574"
      ]
     },
     "metadata": {},
     "output_type": "display_data"
    },
    {
     "data": {
      "image/png": "[encoded data removed]",
      "text/plain": [
       "plot without title"
      ]
     },
     "metadata": {
      "image/png": {
       "height": 296.6563,
       "width": 480
      }
     },
     "output_type": "display_data"
    }
   ],
   "source": [
    "plot(\n",
    "  f.pc$load[, 1], f.pc$load[, 2],\n",
    "  bty = \"n\", xaxt = \"n\",\n",
    "  xlab = \"Primo Fattore\", ylab = \"Secondo Fattore\",\n",
    "  ylim = c(-.6, 1), xlim = c(0, 1), pch = 19, asp = 1\n",
    ")\n",
    "axis(1, pos = c(0, 0))\n",
    "abline(0, 0)\n",
    "\n",
    "ar <- matrix(c(\n",
    "  0, 0,\n",
    "  0, 1,\n",
    "  0, 0,\n",
    "  1, 0\n",
    "), ncol = 2, byrow = TRUE)\n",
    "\n",
    "angle <- 35\n",
    "rad <- angle * pi / 180\n",
    "T <- matrix(c(\n",
    "  cos(rad), -sin(rad),\n",
    "  sin(rad),  cos(rad)\n",
    "), ncol = 2, byrow = TRUE)\n",
    "\n",
    "round(ar %*% T, 3)\n",
    "\n",
    "arrows(0, 0, 0.574, 0.819, lwd = 2)\n",
    "arrows(0, 0, 0.819, -0.574, lwd = 2)\n"
   ]
  },
  {
   "attachments": {},
   "cell_type": "markdown",
   "id": "a417dbd3",
   "metadata": {},
   "source": [
    "Nella figura, le due frecce rappresentano gli assi ruotati. La rotazione di $-35^{\\circ}$ ha effettivamente avvicinato gli assi ai punti del diagramma. Se usiamo dunque il valore $\\phi = -35^{\\circ}$ nella matrice di rotazione, possiamo\n",
    "calcolare le saturazioni fattoriali della soluzione ruotata\n",
    "$\\hat{\\boldsymbol{\\Lambda}}^* = \\hat{\\boldsymbol{\\Lambda}} \\textbf{T}$.\n",
    "\n",
    "Le saturazioni fattoriali ruotate corrispondono alla proiezione\n",
    "ortogonale dei punti sugli assi ruotati:"
   ]
  },
  {
   "cell_type": "code",
   "execution_count": 13,
   "id": "e585adb0",
   "metadata": {
    "vscode": {
     "languageId": "r"
    }
   },
   "outputs": [
    {
     "data": {
      "text/html": [
       "<table class=\"dataframe\">\n",
       "<caption>A matrix: 5 x 2 of type dbl</caption>\n",
       "<tbody>\n",
       "\t<tr><th scope=row>K</th><td> 0.927</td><td> 0.367</td></tr>\n",
       "\t<tr><th scope=row>I</th><td>-0.037</td><td> 0.959</td></tr>\n",
       "\t<tr><th scope=row>H</th><td> 0.980</td><td>-0.031</td></tr>\n",
       "\t<tr><th scope=row>L</th><td> 0.916</td><td> 0.385</td></tr>\n",
       "\t<tr><th scope=row>J</th><td> 0.194</td><td> 0.950</td></tr>\n",
       "</tbody>\n",
       "</table>\n"
      ],
      "text/latex": [
       "A matrix: 5 x 2 of type dbl\n",
       "\\begin{tabular}{r|ll}\n",
       "\tK &  0.927 &  0.367\\\\\n",
       "\tI & -0.037 &  0.959\\\\\n",
       "\tH &  0.980 & -0.031\\\\\n",
       "\tL &  0.916 &  0.385\\\\\n",
       "\tJ &  0.194 &  0.950\\\\\n",
       "\\end{tabular}\n"
      ],
      "text/markdown": [
       "\n",
       "A matrix: 5 x 2 of type dbl\n",
       "\n",
       "| K |  0.927 |  0.367 |\n",
       "| I | -0.037 |  0.959 |\n",
       "| H |  0.980 | -0.031 |\n",
       "| L |  0.916 |  0.385 |\n",
       "| J |  0.194 |  0.950 |\n",
       "\n"
      ],
      "text/plain": [
       "  [,1]   [,2]  \n",
       "K  0.927  0.367\n",
       "I -0.037  0.959\n",
       "H  0.980 -0.031\n",
       "L  0.916  0.385\n",
       "J  0.194  0.950"
      ]
     },
     "metadata": {},
     "output_type": "display_data"
    }
   ],
   "source": [
    "angle <- -35\n",
    "rad <- angle * pi / 180\n",
    "T <- matrix(c(\n",
    "  cos(rad), -sin(rad),\n",
    "  sin(rad),  cos(rad)\n",
    "), ncol = 2, byrow = TRUE)\n",
    "round(f.pc$load %*% T, 3)"
   ]
  },
  {
   "attachments": {},
   "cell_type": "markdown",
   "id": "647864ff",
   "metadata": {},
   "source": [
    "La soluzione ottenuta in questo modo riproduce quanto riportato da\n",
    "{cite:t}`rencher10methods`.\n",
    "\n",
    "\n",
    "### Medodi di rotazione ortogonale\n",
    "\n",
    "Un tipo di rotazione ortogonale spesso utilizzata è la rotazione Varimax\n",
    "(Kaiser, 1958). La matrice $\\hat{\\boldsymbol{\\Lambda}}$ è semplificata\n",
    "in modo tale che le varianze dei quadrati degli elementi $\\lambda_{ij}$\n",
    "appartenenti a colonne diverse di $\\hat{\\boldsymbol{\\Lambda}}$ siano\n",
    "massime. Se le saturazioni fattoriali in una colonna di\n",
    "$\\hat{\\boldsymbol{\\Lambda}}$ sono simili tra loro, la varianza sarà\n",
    "prossima a zero. Tale varianza è tanto più grande quanto più i quadrati\n",
    "degli elementi $\\lambda_{ij}$ assumono valori prossimi a $0$ e $1$.\n",
    "Amplificando le correlazioni più alte e riducendo quelle più basse, la\n",
    "rotazione Varimax agevola l'interpretazione di ciascun fattore.\n",
    "\n",
    "Usando la funzione `factanal()` del modulo R base, la rotazione Varimax\n",
    "può essere applicata alla soluzione ottenuta mediante il metodo di\n",
    "massima verosimiglianza. Usando le funzioni `principal()` e\n",
    "`factor.pa()` disponibili nel pacchetto `psych`, la rotazione Varimax\n",
    "può essere applicata alle soluzioni ottenute mediante il metodo delle\n",
    "componenti principali e il metodo del fattore principale. \n",
    "\n",
    "Ad esempio, usando il metodo delle componenti principali otteniamo:"
   ]
  },
  {
   "cell_type": "code",
   "execution_count": 14,
   "id": "2f154cdc",
   "metadata": {
    "vscode": {
     "languageId": "r"
    }
   },
   "outputs": [
    {
     "data": {
      "text/plain": [
       "Principal Components Analysis\n",
       "Call: principal(r = R, nfactors = 2, rotate = \"varimax\", n.obs = 7)\n",
       "Standardized loadings (pattern matrix) based upon correlation matrix\n",
       "   RC1   RC2   h2     u2 com\n",
       "K 0.95  0.30 0.99 0.0067 1.2\n",
       "I 0.03  0.96 0.92 0.0792 1.0\n",
       "H 0.97 -0.10 0.96 0.0391 1.0\n",
       "L 0.94  0.32 0.99 0.0135 1.2\n",
       "J 0.26  0.93 0.94 0.0597 1.2\n",
       "\n",
       "                       RC1  RC2\n",
       "SS loadings           2.81 1.99\n",
       "Proportion Var        0.56 0.40\n",
       "Cumulative Var        0.56 0.96\n",
       "Proportion Explained  0.58 0.42\n",
       "Cumulative Proportion 0.58 1.00\n",
       "\n",
       "Mean item complexity =  1.1\n",
       "Test of the hypothesis that 2 components are sufficient.\n",
       "\n",
       "The root mean square of the residuals (RMSR) is  0.03 \n",
       " with the empirical chi square  0.12  with prob <  0.73 \n",
       "\n",
       "Fit based upon off diagonal values = 1"
      ]
     },
     "metadata": {},
     "output_type": "display_data"
    }
   ],
   "source": [
    "f_pc <- principal(R, 2, n.obs = 7, rotate = \"varimax\")\n",
    "f_pc"
   ]
  },
  {
   "attachments": {},
   "cell_type": "markdown",
   "id": "d6f59f1d",
   "metadata": {},
   "source": [
    "Un altro metodo di rotazione ortogonale è il metodo Quartimax (Neuhaus e Wringley, 1954), il quale opera una semplificazione della matrice $\\hat{\\boldsymbol{\\Lambda}}$ massimizzando le covarianze tra i quadrati degli elementi $\\lambda_{ij}$ appartenenti a righe diverse, subordinatamente alla condizione che la varianza delle righe\n",
    "rimanga inalterata.\n",
    "\n",
    "### Metodi di Rotazione Obliqua\n",
    "\n",
    "Il termine \"rotazione obliqua\" può sembrare inappropriato, in quanto la rotazione implica generalmente una trasformazione ortogonale che preserva le distanze. Tuttavia, come evidenziato da {cite:t}`rencher10methods`, un'espressione più corretta potrebbe essere \"trasformazione obliqua\". Nonostante ciò, l'uso comune ha consolidato il termine \"rotazione obliqua\".\n",
    "\n",
    "Nel contesto della rotazione obliqua, gli assi della soluzione ruotata non sono costretti a rimanere ortogonali tra loro, permettendo così un allineamento più diretto agli agglomerati di punti nello spazio delle saturazioni fattoriali. Questo tipo di trasformazione facilita l'interpretazione dei fattori in presenza di correlazioni tra di essi.\n",
    "\n",
    "Esistono diversi approcci analitici per realizzare una rotazione obliqua. Ad esempio, il metodo Direct Oblimin, sviluppato da Jennrich e Sampson nel 1966, utilizza il seguente criterio:\n",
    "\n",
    "$$\n",
    "\\sum_{ij} \\left(\\sum_v \\lambda_i^2 \\lambda_j^2 - w \\frac{1}{p} \\sum_v \\lambda_i^2 \\sum_v \\lambda_j^2\\right)\n",
    "$$\n",
    "\n",
    "Qui, $\\sum_{ij}$ rappresenta la somma su tutte le coppie di fattori $ij$. Il processo prevede una minimizzazione, al contrario della massimizzazione tipica delle rotazioni ortogonali, riflettendo la ricerca di una soluzione che minimizzi la correlazione ridondante tra i fattori, mantenendo al contempo chiarezza interpretativa."
   ]
  },
  {
   "attachments": {},
   "cell_type": "markdown",
   "id": "51af9e2b",
   "metadata": {},
   "source": [
    "## Matrice dei Pesi Fattoriali e Matrice di Struttura\n",
    "\n",
    "### Rotazione Ortogonale\n",
    "\n",
    "Nel contesto della rotazione ortogonale, i fattori rimangono incorrelati tra loro. Consideriamo il caso di due fattori latenti non correlati ($\\xi_1$ e $\\xi_2$) e quattro variabili manifeste ($y_1, y_2, y_3, y_4$). I coefficienti $\\lambda_{11}, \\lambda_{12}, \\lambda_{13}, \\lambda_{14}$ rappresentano le saturazioni fattoriali delle variabili nel primo fattore, mentre $\\lambda_{21}, \\lambda_{22}, \\lambda_{23}, \\lambda_{24}$ sono quelle nel secondo fattore. In un modello di percorso, la correlazione tra due variabili è calcolata come la somma di tutti i percorsi validi che le collegano. Se i fattori comuni sono incorrelati, esiste un solo percorso valido che collega ciascuna variabile manifesta a ciascun fattore comune secondo le regole di Wright. Pertanto, le correlazioni tra variabili manifeste e fattori comuni sono direttamente uguali alle saturazioni fattoriali. Queste saturazioni possono essere interpretate come i pesi beta di un modello di regressione multipla, indicando il contributo specifico di ciascun fattore comune nella varianza spiegata degli item (Tabachnick & Fidell, 2001).\n",
    "\n",
    "::: {#fig-rot_4}\n",
    "![](../../figures/rot_4.png){width=\"50%\"}\n",
    "\n",
    "Rotazione ortogonale.\n",
    ":::"
   ]
  },
  {
   "attachments": {},
   "cell_type": "markdown",
   "id": "e0ac8fe9",
   "metadata": {},
   "source": [
    "### Rotazione Obliqua\n",
    "\n",
    "Nel caso della rotazione obliqua, i fattori comuni risultano correlati tra loro, rendendo la soluzione fattoriale più complessa. Pertanto, la matrice delle saturazioni fattoriali non riflette più direttamente le correlazioni tra variabili e fattori. Un modello di percorso in questa configurazione include almeno due percorsi validi che collegano ciascuna variabile manifesta a ciascun fattore comune. È necessario distinguere tra tre matrici diverse:\n",
    "\n",
    "- **Matrice Pattern ($\\hat{\\boldsymbol{\\Lambda}}$)**: Conosciuta anche come matrice dei modelli, questa matrice rappresenta i coefficienti di regressione parziali delle variabili sulle dimensioni fattoriali, escludendo l'influenza degli altri fattori.\n",
    "- **Matrice di Struttura**: Rappresenta le correlazioni complessive tra le variabili manifeste e i fattori, considerando sia gli effetti diretti che quelli indiretti dei fattori correlati.\n",
    "- **Matrice di Intercorrelazione Fattoriale ($\\hat{\\boldsymbol{\\Phi}}$)**: Indica le correlazioni tra i fattori stessi.\n",
    "\n",
    "In un modello di percorso con rotazione obliqua, gli assi che rappresentano i fattori non sono ortogonali, il che significa che i fattori sono correlati. Le variabili manifeste sono quindi collegate ai fattori attraverso percorsi che includono effetti diretti e indiretti. Ad esempio, per la variabile $y_1$ e il fattore $\\xi_1$, i percorsi includono una freccia causale $\\lambda_{11}$ per l'effetto diretto e un percorso indiretto rappresentato dal prodotto $\\lambda_{21}\\phi_{12}$. L'analisi dei percorsi dimostra che la correlazione tra $\\xi_1$ e $y_1$ è la somma dei valori numerici di questi percorsi validi, ovvero $\\lambda_{11} + \\lambda_{21} \\phi_{12}$.\n",
    "\n",
    "::: {#fig-rot_5}\n",
    "![](../../figures/rot_5.png){width=\"50%\"}\n",
    "\n",
    "Rotazione obliqua.\n",
    ":::"
   ]
  },
  {
   "attachments": {},
   "cell_type": "markdown",
   "id": "3200ee6e",
   "metadata": {},
   "source": [
    "Per illustrare la rotazione obliqua, utilizziamo i dati discussi da\n",
    "{cite:t}`rencher10methods`. Si consideri la matrice di correlazione presentata qui sotto."
   ]
  },
  {
   "cell_type": "code",
   "execution_count": 15,
   "id": "3a4d2c34",
   "metadata": {
    "vscode": {
     "languageId": "r"
    }
   },
   "outputs": [
    {
     "data": {
      "text/html": [
       "<table class=\"dataframe\">\n",
       "<caption>A matrix: 4 x 4 of type dbl</caption>\n",
       "<tbody>\n",
       "\t<tr><td>1.000</td><td>0.735</td><td>0.711</td><td>0.704</td></tr>\n",
       "\t<tr><td>0.735</td><td>1.000</td><td>0.693</td><td>0.709</td></tr>\n",
       "\t<tr><td>0.711</td><td>0.693</td><td>1.000</td><td>0.839</td></tr>\n",
       "\t<tr><td>0.704</td><td>0.709</td><td>0.839</td><td>1.000</td></tr>\n",
       "</tbody>\n",
       "</table>\n"
      ],
      "text/latex": [
       "A matrix: 4 x 4 of type dbl\n",
       "\\begin{tabular}{llll}\n",
       "\t 1.000 & 0.735 & 0.711 & 0.704\\\\\n",
       "\t 0.735 & 1.000 & 0.693 & 0.709\\\\\n",
       "\t 0.711 & 0.693 & 1.000 & 0.839\\\\\n",
       "\t 0.704 & 0.709 & 0.839 & 1.000\\\\\n",
       "\\end{tabular}\n"
      ],
      "text/markdown": [
       "\n",
       "A matrix: 4 x 4 of type dbl\n",
       "\n",
       "| 1.000 | 0.735 | 0.711 | 0.704 |\n",
       "| 0.735 | 1.000 | 0.693 | 0.709 |\n",
       "| 0.711 | 0.693 | 1.000 | 0.839 |\n",
       "| 0.704 | 0.709 | 0.839 | 1.000 |\n",
       "\n"
      ],
      "text/plain": [
       "     [,1]  [,2]  [,3]  [,4] \n",
       "[1,] 1.000 0.735 0.711 0.704\n",
       "[2,] 0.735 1.000 0.693 0.709\n",
       "[3,] 0.711 0.693 1.000 0.839\n",
       "[4,] 0.704 0.709 0.839 1.000"
      ]
     },
     "metadata": {},
     "output_type": "display_data"
    }
   ],
   "source": [
    "R <- matrix(\n",
    "  c(\n",
    "    1.00,  0.735, 0.711, 0.704,\n",
    "    0.735, 1.00,  0.693, 0.709,\n",
    "    0.711, 0.693, 1.00,  0.839,\n",
    "    0.704, 0.709, 0.839, 1.00\n",
    "  ),\n",
    "  ncol = 4,\n",
    "  byrow = TRUE\n",
    ")\n",
    "R\n"
   ]
  },
  {
   "attachments": {},
   "cell_type": "markdown",
   "id": "f4b25085",
   "metadata": {},
   "source": [
    "Iniziamo calcolando la soluzione a due fattori mediante il metodo delle\n",
    "componenti principali e una rotazione Varimax (ovvero, ortogonale). Otteniamo le seguenti saturazioni fattoriali."
   ]
  },
  {
   "cell_type": "code",
   "execution_count": 16,
   "id": "6c6c327c",
   "metadata": {
    "vscode": {
     "languageId": "r"
    }
   },
   "outputs": [
    {
     "data": {
      "text/plain": [
       "Principal Components Analysis\n",
       "Call: principal(r = R, nfactors = 2, rotate = \"varimax\")\n",
       "Standardized loadings (pattern matrix) based upon correlation matrix\n",
       "   RC1  RC2   h2    u2 com\n",
       "1 0.50 0.78 0.86 0.140 1.7\n",
       "2 0.47 0.81 0.88 0.124 1.6\n",
       "3 0.90 0.33 0.92 0.078 1.3\n",
       "4 0.89 0.35 0.92 0.083 1.3\n",
       "\n",
       "                       RC1  RC2\n",
       "SS loadings           2.08 1.50\n",
       "Proportion Var        0.52 0.37\n",
       "Cumulative Var        0.52 0.89\n",
       "Proportion Explained  0.58 0.42\n",
       "Cumulative Proportion 0.58 1.00\n",
       "\n",
       "Mean item complexity =  1.5\n",
       "Test of the hypothesis that 2 components are sufficient.\n",
       "\n",
       "The root mean square of the residuals (RMSR) is  0.06 \n",
       "\n",
       "Fit based upon off diagonal values = 0.99"
      ]
     },
     "metadata": {},
     "output_type": "display_data"
    }
   ],
   "source": [
    "f1_pc <- principal(R, 2, rotate = \"varimax\") \n",
    "f1_pc"
   ]
  },
  {
   "attachments": {},
   "cell_type": "markdown",
   "id": "5f1f2e24",
   "metadata": {},
   "source": [
    "Si noti che i due fattori non sono molto distinti. Consideriamo dunque la soluzione  prodotta da una rotazione obliqua. Usiamo qui l'algoritmo Oblimin."
   ]
  },
  {
   "cell_type": "code",
   "execution_count": 17,
   "id": "1a6653c9",
   "metadata": {
    "vscode": {
     "languageId": "r"
    }
   },
   "outputs": [
    {
     "name": "stderr",
     "output_type": "stream",
     "text": [
      "Caricamento dei namespace richiesti: GPArotation\n",
      "\n"
     ]
    }
   ],
   "source": [
    "pr_oblimin <- principal(R, 2, rotate = \"oblimin\")"
   ]
  },
  {
   "attachments": {},
   "cell_type": "markdown",
   "id": "0b8562f1",
   "metadata": {},
   "source": [
    "La matrice $\\hat{\\boldsymbol{\\Lambda}}$ delle saturazioni fattoriali si ricava come indicato di seguito."
   ]
  },
  {
   "cell_type": "code",
   "execution_count": 18,
   "id": "0eafd0fa",
   "metadata": {
    "vscode": {
     "languageId": "r"
    }
   },
   "outputs": [
    {
     "data": {
      "text/html": [
       "<table class=\"dataframe\">\n",
       "<caption>A matrix: 4 x 2 of type dbl</caption>\n",
       "<tbody>\n",
       "\t<tr><td> 0.03206780</td><td> 0.90186261</td></tr>\n",
       "\t<tr><td>-0.02543116</td><td> 0.95556536</td></tr>\n",
       "\t<tr><td> 0.96858605</td><td>-0.01096737</td></tr>\n",
       "\t<tr><td> 0.94726778</td><td> 0.01327683</td></tr>\n",
       "</tbody>\n",
       "</table>\n"
      ],
      "text/latex": [
       "A matrix: 4 x 2 of type dbl\n",
       "\\begin{tabular}{ll}\n",
       "\t  0.03206780 &  0.90186261\\\\\n",
       "\t -0.02543116 &  0.95556536\\\\\n",
       "\t  0.96858605 & -0.01096737\\\\\n",
       "\t  0.94726778 &  0.01327683\\\\\n",
       "\\end{tabular}\n"
      ],
      "text/markdown": [
       "\n",
       "A matrix: 4 x 2 of type dbl\n",
       "\n",
       "|  0.03206780 |  0.90186261 |\n",
       "| -0.02543116 |  0.95556536 |\n",
       "|  0.96858605 | -0.01096737 |\n",
       "|  0.94726778 |  0.01327683 |\n",
       "\n"
      ],
      "text/plain": [
       "     [,1]        [,2]       \n",
       "[1,]  0.03206780  0.90186261\n",
       "[2,] -0.02543116  0.95556536\n",
       "[3,]  0.96858605 -0.01096737\n",
       "[4,]  0.94726778  0.01327683"
      ]
     },
     "metadata": {},
     "output_type": "display_data"
    }
   ],
   "source": [
    "cbind(pr_oblimin$load[, 1], pr_oblimin$load[, 2])"
   ]
  },
  {
   "attachments": {},
   "cell_type": "markdown",
   "id": "9964ffce",
   "metadata": {},
   "source": [
    "La matrice $\\hat{\\boldsymbol{\\Phi}}$ di inter-correlazione fattoriale è la seguente."
   ]
  },
  {
   "cell_type": "code",
   "execution_count": 19,
   "id": "b7c77120",
   "metadata": {
    "vscode": {
     "languageId": "r"
    }
   },
   "outputs": [
    {
     "data": {
      "text/html": [
       "<table class=\"dataframe\">\n",
       "<caption>A matrix: 2 x 2 of type dbl</caption>\n",
       "<thead>\n",
       "\t<tr><th></th><th scope=col>TC1</th><th scope=col>TC2</th></tr>\n",
       "</thead>\n",
       "<tbody>\n",
       "\t<tr><th scope=row>TC1</th><td>1.0000000</td><td>0.7869776</td></tr>\n",
       "\t<tr><th scope=row>TC2</th><td>0.7869776</td><td>1.0000000</td></tr>\n",
       "</tbody>\n",
       "</table>\n"
      ],
      "text/latex": [
       "A matrix: 2 x 2 of type dbl\n",
       "\\begin{tabular}{r|ll}\n",
       "  & TC1 & TC2\\\\\n",
       "\\hline\n",
       "\tTC1 & 1.0000000 & 0.7869776\\\\\n",
       "\tTC2 & 0.7869776 & 1.0000000\\\\\n",
       "\\end{tabular}\n"
      ],
      "text/markdown": [
       "\n",
       "A matrix: 2 x 2 of type dbl\n",
       "\n",
       "| <!--/--> | TC1 | TC2 |\n",
       "|---|---|---|\n",
       "| TC1 | 1.0000000 | 0.7869776 |\n",
       "| TC2 | 0.7869776 | 1.0000000 |\n",
       "\n"
      ],
      "text/plain": [
       "    TC1       TC2      \n",
       "TC1 1.0000000 0.7869776\n",
       "TC2 0.7869776 1.0000000"
      ]
     },
     "metadata": {},
     "output_type": "display_data"
    }
   ],
   "source": [
    "pr_oblimin$Phi"
   ]
  },
  {
   "attachments": {},
   "cell_type": "markdown",
   "id": "60b37bec",
   "metadata": {},
   "source": [
    "La matrice di struttura, che riporta le correlazioni tra indicatori e fattori comuni, si ottiene pre-moltiplicando la matrice $\\boldsymbol{\\Lambda}$ delle saturazioni fattoriali alla matrice $\\boldsymbol{\\Phi}$ di inter-correlazione fattoriale.\n",
    "\n",
    "$$\n",
    "\\text{matrice di struttura} = \\boldsymbol{\\Lambda}\\boldsymbol{\\Phi}.\n",
    "$$\n",
    "\n",
    "Per esempio, la correlazione tra la prima variabile manifesta e il primo fattore si ottiene nel modo seguente."
   ]
  },
  {
   "cell_type": "code",
   "execution_count": 20,
   "id": "9f82b2dd",
   "metadata": {
    "vscode": {
     "languageId": "r"
    }
   },
   "outputs": [
    {
     "data": {
      "text/html": [
       "<strong>TC1:</strong> 0.741813471502872"
      ],
      "text/latex": [
       "\\textbf{TC1:} 0.741813471502872"
      ],
      "text/markdown": [
       "**TC1:** 0.741813471502872"
      ],
      "text/plain": [
       "      TC1 \n",
       "0.7418135 "
      ]
     },
     "metadata": {},
     "output_type": "display_data"
    }
   ],
   "source": [
    "pr_oblimin$load[1, 1] + pr_oblimin$load[1, 2] * pr_oblimin$Phi[2, 1]"
   ]
  },
  {
   "attachments": {},
   "cell_type": "markdown",
   "id": "d51991c0",
   "metadata": {},
   "source": [
    "L'intera matrice di struttura si può trovare eseguendo la moltiplicazione  $\\boldsymbol{\\Lambda}\\boldsymbol{\\Phi}$."
   ]
  },
  {
   "cell_type": "code",
   "execution_count": 21,
   "id": "a8b899a8",
   "metadata": {
    "vscode": {
     "languageId": "r"
    }
   },
   "outputs": [
    {
     "data": {
      "text/html": [
       "<table class=\"dataframe\">\n",
       "<caption>A matrix: 4 x 2 of type dbl</caption>\n",
       "<thead>\n",
       "\t<tr><th scope=col>TC1</th><th scope=col>TC2</th></tr>\n",
       "</thead>\n",
       "<tbody>\n",
       "\t<tr><td>0.742</td><td>0.927</td></tr>\n",
       "\t<tr><td>0.727</td><td>0.936</td></tr>\n",
       "\t<tr><td>0.960</td><td>0.751</td></tr>\n",
       "\t<tr><td>0.958</td><td>0.759</td></tr>\n",
       "</tbody>\n",
       "</table>\n"
      ],
      "text/latex": [
       "A matrix: 4 x 2 of type dbl\n",
       "\\begin{tabular}{ll}\n",
       " TC1 & TC2\\\\\n",
       "\\hline\n",
       "\t 0.742 & 0.927\\\\\n",
       "\t 0.727 & 0.936\\\\\n",
       "\t 0.960 & 0.751\\\\\n",
       "\t 0.958 & 0.759\\\\\n",
       "\\end{tabular}\n"
      ],
      "text/markdown": [
       "\n",
       "A matrix: 4 x 2 of type dbl\n",
       "\n",
       "| TC1 | TC2 |\n",
       "|---|---|\n",
       "| 0.742 | 0.927 |\n",
       "| 0.727 | 0.936 |\n",
       "| 0.960 | 0.751 |\n",
       "| 0.958 | 0.759 |\n",
       "\n"
      ],
      "text/plain": [
       "     TC1   TC2  \n",
       "[1,] 0.742 0.927\n",
       "[2,] 0.727 0.936\n",
       "[3,] 0.960 0.751\n",
       "[4,] 0.958 0.759"
      ]
     },
     "metadata": {},
     "output_type": "display_data"
    }
   ],
   "source": [
    "pr_oblimin$load %*% pr_oblimin$Phi %>% \n",
    "  round(3)"
   ]
  },
  {
   "attachments": {},
   "cell_type": "markdown",
   "id": "4b315fd1",
   "metadata": {},
   "source": [
    "## Esempio con `semTools`\n",
    "\n",
    "Presento qui un esempio di uso di vari metodi di estrazione fattoriale. Tra tali  metodi, la rotazione obliqua Geomin è molto popolare ed è il default di M-Plus. \n",
    "\n",
    "Iniziamo a caricare il pacchetto `semTools`."
   ]
  },
  {
   "cell_type": "code",
   "execution_count": 22,
   "id": "afc5c573",
   "metadata": {
    "vscode": {
     "languageId": "r"
    }
   },
   "outputs": [],
   "source": [
    "suppressPackageStartupMessages(library(\"semTools\")) "
   ]
  },
  {
   "attachments": {},
   "cell_type": "markdown",
   "id": "a79c92f7",
   "metadata": {},
   "source": [
    "Eseguiamo l'analisi fattoriale esplorativa del classico set di dati di Holzinger e Swineford (1939) il quale è costituito dai punteggi dei test di abilità mentale di bambini di seconda e terza media di due scuole diverse (Pasteur e Grant-White). Nel set di dati originale (disponibile nel pacchetto `MBESS`), sono forniti i punteggi di 26 test. Tuttavia, un sottoinsieme più piccolo con 9 variabili è più ampiamente utilizzato in letteratura. Questi sono i dati qui usati. \n",
    "\n",
    "Nel presente esempio, verrà eseguita l'analisi fattoriale esplorativa con l'estrazione di tre fattori. Il metodo di estrazione è `mlr`:\n",
    "\n",
    "> maximum likelihood estimation with robust (Huber-White) standard errors and a scaled test statistic that is (asymptotically) equal to the Yuan-Bentler test statistic. For both complete and incomplete data.\n",
    "\n",
    "La soluzione iniziale non è ruotata. "
   ]
  },
  {
   "cell_type": "code",
   "execution_count": 25,
   "id": "9bce9e3a",
   "metadata": {
    "vscode": {
     "languageId": "r"
    }
   },
   "outputs": [
    {
     "name": "stdout",
     "output_type": "stream",
     "text": [
      "lavaan 0.6-18 ended normally after 217 iterations\n",
      "\n",
      "  Estimator                                         ML\n",
      "  Optimization method                           NLMINB\n",
      "  Number of model parameters                        36\n",
      "\n",
      "  Number of observations                           301\n",
      "\n",
      "Model Test User Model:\n",
      "                                              Standard      Scaled\n",
      "  Test Statistic                                22.897      23.864\n",
      "  Degrees of freedom                                12          12\n",
      "  P-value (Chi-square)                           0.029       0.021\n",
      "  Scaling correction factor                                  0.959\n",
      "    Yuan-Bentler correction (Mplus variant)                       \n",
      "\n",
      "Parameter Estimates:\n",
      "\n",
      "  Standard errors                             Sandwich\n",
      "  Information bread                           Observed\n",
      "  Observed information based on                Hessian\n",
      "\n",
      "Latent Variables:\n",
      "                   Estimate  Std.Err  z-value  P(>|z|)\n",
      "  factor1 =~                                          \n",
      "    x1      (l1_1)    0.653    0.083    7.909    0.000\n",
      "    x2      (l2_1)    0.353    0.079    4.481    0.000\n",
      "    x3      (l3_1)    0.415    0.086    4.832    0.000\n",
      "    x4      (l4_1)    0.926    0.067   13.762    0.000\n",
      "    x5      (l5_1)    1.014    0.067   15.176    0.000\n",
      "    x6      (l6_1)    0.868    0.062   13.887    0.000\n",
      "    x7      (l7_1)    0.283    0.091    3.113    0.002\n",
      "    x8      (l8_1)    0.340    0.083    4.095    0.000\n",
      "    x9      (l9_1)    0.460    0.078    5.881    0.000\n",
      "  factor2 =~                                          \n",
      "    x1      (l1_2)    0.349    0.124    2.815    0.005\n",
      "    x2      (l2_2)    0.242    0.159    1.523    0.128\n",
      "    x3      (l3_2)    0.497    0.132    3.767    0.000\n",
      "    x4      (l4_2)   -0.337    0.067   -5.058    0.000\n",
      "    x5      (l5_2)   -0.461    0.077   -6.009    0.000\n",
      "    x6      (l6_2)   -0.280    0.057   -4.908    0.000\n",
      "    x7      (l7_2)    0.372    0.188    1.976    0.048\n",
      "    x8      (l8_2)    0.510    0.133    3.831    0.000\n",
      "    x9      (l9_2)    0.489    0.066    7.416    0.000\n",
      "  factor3 =~                                          \n",
      "    x1      (l1_3)   -0.338    0.103   -3.275    0.001\n",
      "    x2      (l2_3)   -0.405    0.092   -4.401    0.000\n",
      "    x3      (l3_3)   -0.404    0.120   -3.355    0.001\n",
      "    x4      (l4_3)    0.049    0.098    0.503    0.615\n",
      "    x5      (l5_3)    0.122    0.105    1.154    0.248\n",
      "    x6      (l6_3)   -0.000    0.076   -0.003    0.998\n",
      "    x7      (l7_3)    0.609    0.125    4.863    0.000\n",
      "    x8      (l8_3)    0.409    0.143    2.853    0.004\n",
      "    x9      (l9_3)    0.112    0.123    0.915    0.360\n",
      "\n",
      "Covariances:\n",
      "                   Estimate  Std.Err  z-value  P(>|z|)\n",
      "  factor1 ~~                                          \n",
      "    factor2           0.000                           \n",
      "    factor3           0.000                           \n",
      "  factor2 ~~                                          \n",
      "    factor3           0.000                           \n",
      "\n",
      "Variances:\n",
      "                   Estimate  Std.Err  z-value  P(>|z|)\n",
      "    factor1           1.000                           \n",
      "    factor2           1.000                           \n",
      "    factor3           1.000                           \n",
      "   .x1                0.696    0.113    6.184    0.000\n",
      "   .x2                1.035    0.106    9.803    0.000\n",
      "   .x3                0.692    0.097    7.132    0.000\n",
      "   .x4                0.377    0.053    7.170    0.000\n",
      "   .x5                0.403    0.064    6.303    0.000\n",
      "   .x6                0.365    0.046    7.984    0.000\n",
      "   .x7                0.594    0.148    4.014    0.000\n",
      "   .x8                0.479    0.099    4.842    0.000\n",
      "   .x9                0.551    0.065    8.518    0.000\n",
      "\n",
      "Constraints:\n",
      "                                               |Slack|\n",
      "    0-(1_2*1_1+2_2*2_1+3_2*3_1+4_2*4_1+5_2*5_    0.000\n",
      "    0-(1_3*1_1+2_3*2_1+3_3*3_1+4_3*4_1+5_3*5_    0.000\n",
      "    0-(1_3*1_2+2_3*2_2+3_3*3_2+4_3*4_2+5_3*5_    0.000\n",
      "\n"
     ]
    }
   ],
   "source": [
    "unrotated <- efaUnrotate(\n",
    "    HolzingerSwineford1939, \n",
    "    nf = 3, \n",
    "    varList = paste0(\"x\", 1:9), \n",
    "    estimator = \"mlr\"\n",
    ")\n",
    "out <- summary(unrotated)\n",
    "print(out)"
   ]
  },
  {
   "attachments": {},
   "cell_type": "markdown",
   "id": "57881716",
   "metadata": {},
   "source": [
    "Si noti che, in assenza di rotazione, è impossibile assegnare un significato ai fattori comuni.\n",
    "\n",
    "### Orthogonal varimax\n",
    "\n",
    "Utilizziamo ora la rotazione ortogonale Varimax."
   ]
  },
  {
   "cell_type": "code",
   "execution_count": 26,
   "id": "f2621067",
   "metadata": {
    "vscode": {
     "languageId": "r"
    }
   },
   "outputs": [
    {
     "name": "stdout",
     "output_type": "stream",
     "text": [
      "Standardized Rotated Factor Loadings\n"
     ]
    },
    {
     "name": "stderr",
     "output_type": "stream",
     "text": [
      "Warning message in testLoadings(object):\n",
      "\"The standard error is currently invalid because it does not account for the variance of the rotation function. It is simply based on the delta method.\"\n"
     ]
    },
    {
     "name": "stdout",
     "output_type": "stream",
     "text": [
      "   factor1 factor2 factor3\n",
      "x1  0.320*  0.607*        \n",
      "x2          0.481*        \n",
      "x3          0.662*        \n",
      "x4  0.838*                \n",
      "x5  0.867*                \n",
      "x6  0.815*                \n",
      "x7                  0.695*\n",
      "x8                  0.704*\n",
      "x9          0.409*  0.511*\n",
      "\n",
      "Factor Correlation\n",
      "        factor1 factor2 factor3\n",
      "factor1       1       0       0\n",
      "factor2       0       1       0\n",
      "factor3       0       0       1\n",
      "\n",
      "Method of rotation:\tvarimax \n",
      "\n",
      "Test Statistics for Standardized Rotated Factor Loadings\n"
     ]
    },
    {
     "name": "stderr",
     "output_type": "stream",
     "text": [
      "Warning message in testLoadings(object):\n",
      "\"The standard error is currently invalid because it does not account for the variance of the rotation function. It is simply based on the delta method.\"\n"
     ]
    },
    {
     "name": "stdout",
     "output_type": "stream",
     "text": [
      "       lhs op rhs std.loading    se      z     p ci.lower ci.upper\n",
      "1  factor1 =~  x1       0.320 0.055  5.799 0.000    0.212    0.428\n",
      "2  factor1 =~  x2       0.135 0.063  2.151 0.031    0.012    0.259\n",
      "3  factor1 =~  x3       0.080 0.049  1.622 0.105   -0.017    0.176\n",
      "4  factor1 =~  x4       0.838 0.028 30.193 0.000    0.784    0.892\n",
      "5  factor1 =~  x5       0.867 0.024 36.189 0.000    0.820    0.914\n",
      "6  factor1 =~  x6       0.815 0.024 33.939 0.000    0.768    0.862\n",
      "7  factor1 =~  x7       0.102 0.049  2.058 0.040    0.005    0.199\n",
      "8  factor1 =~  x8       0.078 0.048  1.617 0.106   -0.016    0.172\n",
      "9  factor1 =~  x9       0.170 0.053  3.222 0.001    0.067    0.273\n",
      "10 factor2 =~  x1       0.607 0.075  8.138 0.000    0.461    0.753\n",
      "11 factor2 =~  x2       0.481 0.067  7.184 0.000    0.350    0.612\n",
      "12 factor2 =~  x3       0.662 0.058 11.499 0.000    0.549    0.775\n",
      "13 factor2 =~  x4       0.113 0.043  2.615 0.009    0.028    0.198\n",
      "14 factor2 =~  x5       0.032 0.040  0.802 0.422   -0.047    0.111\n",
      "15 factor2 =~  x6       0.162 0.042  3.855 0.000    0.079    0.244\n",
      "16 factor2 =~  x7      -0.062 0.047 -1.341 0.180   -0.154    0.029\n",
      "17 factor2 =~  x8       0.174 0.082  2.117 0.034    0.013    0.336\n",
      "18 factor2 =~  x9       0.409 0.079  5.173 0.000    0.254    0.564\n",
      "19 factor3 =~  x1       0.130 0.066  1.978 0.048    0.001    0.259\n",
      "20 factor3 =~  x2      -0.041 0.071 -0.578 0.563   -0.179    0.098\n",
      "21 factor3 =~  x3       0.113 0.049  2.324 0.020    0.018    0.209\n",
      "22 factor3 =~  x4       0.077 0.040  1.916 0.055   -0.002    0.155\n",
      "23 factor3 =~  x5       0.070 0.042  1.669 0.095   -0.012    0.153\n",
      "24 factor3 =~  x6       0.066 0.038  1.715 0.086   -0.009    0.141\n",
      "25 factor3 =~  x7       0.695 0.092  7.591 0.000    0.516    0.875\n",
      "26 factor3 =~  x8       0.704 0.083  8.520 0.000    0.542    0.865\n",
      "27 factor3 =~  x9       0.511 0.065  7.885 0.000    0.384    0.638\n",
      "       lhs op rhs std.loading    se      z     p ci.lower ci.upper\n",
      "1  factor1 =~  x1       0.320 0.055  5.799 0.000    0.212    0.428\n",
      "2  factor1 =~  x2       0.135 0.063  2.151 0.031    0.012    0.259\n",
      "3  factor1 =~  x3       0.080 0.049  1.622 0.105   -0.017    0.176\n",
      "4  factor1 =~  x4       0.838 0.028 30.193 0.000    0.784    0.892\n",
      "5  factor1 =~  x5       0.867 0.024 36.189 0.000    0.820    0.914\n",
      "6  factor1 =~  x6       0.815 0.024 33.939 0.000    0.768    0.862\n",
      "7  factor1 =~  x7       0.102 0.049  2.058 0.040    0.005    0.199\n",
      "8  factor1 =~  x8       0.078 0.048  1.617 0.106   -0.016    0.172\n",
      "9  factor1 =~  x9       0.170 0.053  3.222 0.001    0.067    0.273\n",
      "10 factor2 =~  x1       0.607 0.075  8.138 0.000    0.461    0.753\n",
      "11 factor2 =~  x2       0.481 0.067  7.184 0.000    0.350    0.612\n",
      "12 factor2 =~  x3       0.662 0.058 11.499 0.000    0.549    0.775\n",
      "13 factor2 =~  x4       0.113 0.043  2.615 0.009    0.028    0.198\n",
      "14 factor2 =~  x5       0.032 0.040  0.802 0.422   -0.047    0.111\n",
      "15 factor2 =~  x6       0.162 0.042  3.855 0.000    0.079    0.244\n",
      "16 factor2 =~  x7      -0.062 0.047 -1.341 0.180   -0.154    0.029\n",
      "17 factor2 =~  x8       0.174 0.082  2.117 0.034    0.013    0.336\n",
      "18 factor2 =~  x9       0.409 0.079  5.173 0.000    0.254    0.564\n",
      "19 factor3 =~  x1       0.130 0.066  1.978 0.048    0.001    0.259\n",
      "20 factor3 =~  x2      -0.041 0.071 -0.578 0.563   -0.179    0.098\n",
      "21 factor3 =~  x3       0.113 0.049  2.324 0.020    0.018    0.209\n",
      "22 factor3 =~  x4       0.077 0.040  1.916 0.055   -0.002    0.155\n",
      "23 factor3 =~  x5       0.070 0.042  1.669 0.095   -0.012    0.153\n",
      "24 factor3 =~  x6       0.066 0.038  1.715 0.086   -0.009    0.141\n",
      "25 factor3 =~  x7       0.695 0.092  7.591 0.000    0.516    0.875\n",
      "26 factor3 =~  x8       0.704 0.083  8.520 0.000    0.542    0.865\n",
      "27 factor3 =~  x9       0.511 0.065  7.885 0.000    0.384    0.638\n"
     ]
    }
   ],
   "source": [
    "out_varimax <- orthRotate(\n",
    "    unrotated, \n",
    "    method = \"varimax\"\n",
    ")\n",
    "out <- summary(out_varimax, sort = FALSE, suppress = 0.3)\n",
    "print(out)"
   ]
  },
  {
   "attachments": {},
   "cell_type": "markdown",
   "id": "093029f1",
   "metadata": {},
   "source": [
    "### Orthogonal Quartimin\n",
    "\n",
    "Un metodo alternativo per la rotazione ortogonale è Quartimin."
   ]
  },
  {
   "cell_type": "code",
   "execution_count": 27,
   "id": "396b048b",
   "metadata": {
    "vscode": {
     "languageId": "r"
    }
   },
   "outputs": [
    {
     "name": "stdout",
     "output_type": "stream",
     "text": [
      "Standardized Rotated Factor Loadings\n"
     ]
    },
    {
     "name": "stderr",
     "output_type": "stream",
     "text": [
      "Warning message in testLoadings(object):\n",
      "\"The standard error is currently invalid because it does not account for the variance of the rotation function. It is simply based on the delta method.\"\n"
     ]
    },
    {
     "name": "stdout",
     "output_type": "stream",
     "text": [
      "   factor1 factor2 factor3\n",
      "x1  0.353*  0.590*        \n",
      "x2          0.474*        \n",
      "x3          0.657*        \n",
      "x4  0.844*                \n",
      "x5  0.869*                \n",
      "x6  0.823*                \n",
      "x7                  0.692*\n",
      "x8                  0.702*\n",
      "x9          0.397*  0.508*\n",
      "\n",
      "Factor Correlation\n",
      "        factor1 factor2 factor3\n",
      "factor1       1       0       0\n",
      "factor2       0       1       0\n",
      "factor3       0       0       1\n",
      "\n",
      "Method of rotation:\tQuartimin \n",
      "\n",
      "Test Statistics for Standardized Rotated Factor Loadings\n"
     ]
    },
    {
     "name": "stderr",
     "output_type": "stream",
     "text": [
      "Warning message in testLoadings(object):\n",
      "\"The standard error is currently invalid because it does not account for the variance of the rotation function. It is simply based on the delta method.\"\n"
     ]
    },
    {
     "name": "stdout",
     "output_type": "stream",
     "text": [
      "       lhs op rhs std.loading    se      z     p ci.lower ci.upper\n",
      "1  factor1 =~  x1       0.353 0.062  5.720 0.000    0.232    0.473\n",
      "2  factor1 =~  x2       0.158 0.066  2.375 0.018    0.028    0.288\n",
      "3  factor1 =~  x3       0.115 0.057  2.015 0.044    0.003    0.226\n",
      "4  factor1 =~  x4       0.844 0.027 30.814 0.000    0.790    0.898\n",
      "5  factor1 =~  x5       0.869 0.023 37.224 0.000    0.823    0.914\n",
      "6  factor1 =~  x6       0.823 0.024 35.026 0.000    0.777    0.869\n",
      "7  factor1 =~  x7       0.116 0.054  2.161 0.031    0.011    0.222\n",
      "8  factor1 =~  x8       0.104 0.054  1.914 0.056   -0.003    0.210\n",
      "9  factor1 =~  x9       0.202 0.059  3.403 0.001    0.086    0.319\n",
      "10 factor2 =~  x1       0.590 0.078  7.523 0.000    0.436    0.743\n",
      "11 factor2 =~  x2       0.474 0.068  6.935 0.000    0.340    0.608\n",
      "12 factor2 =~  x3       0.657 0.059 11.204 0.000    0.542    0.771\n",
      "13 factor2 =~  x4       0.072 0.041  1.748 0.080   -0.009    0.152\n",
      "14 factor2 =~  x5      -0.010 0.039 -0.263 0.793   -0.087    0.066\n",
      "15 factor2 =~  x6       0.122 0.040  3.008 0.003    0.042    0.201\n",
      "16 factor2 =~  x7      -0.071 0.048 -1.465 0.143   -0.166    0.024\n",
      "17 factor2 =~  x8       0.167 0.090  1.849 0.064   -0.010    0.343\n",
      "18 factor2 =~  x9       0.397 0.087  4.581 0.000    0.227    0.567\n",
      "19 factor3 =~  x1       0.124 0.071  1.740 0.082   -0.016    0.264\n",
      "20 factor3 =~  x2      -0.042 0.074 -0.574 0.566   -0.187    0.102\n",
      "21 factor3 =~  x3       0.114 0.054  2.093 0.036    0.007    0.221\n",
      "22 factor3 =~  x4       0.056 0.037  1.503 0.133   -0.017    0.128\n",
      "23 factor3 =~  x5       0.048 0.038  1.263 0.207   -0.027    0.123\n",
      "24 factor3 =~  x6       0.046 0.034  1.347 0.178   -0.021    0.112\n",
      "25 factor3 =~  x7       0.692 0.093  7.477 0.000    0.511    0.874\n",
      "26 factor3 =~  x8       0.702 0.084  8.331 0.000    0.537    0.867\n",
      "27 factor3 =~  x9       0.508 0.070  7.298 0.000    0.371    0.644\n",
      "       lhs op rhs std.loading    se      z     p ci.lower ci.upper\n",
      "1  factor1 =~  x1       0.353 0.062  5.720 0.000    0.232    0.473\n",
      "2  factor1 =~  x2       0.158 0.066  2.375 0.018    0.028    0.288\n",
      "3  factor1 =~  x3       0.115 0.057  2.015 0.044    0.003    0.226\n",
      "4  factor1 =~  x4       0.844 0.027 30.814 0.000    0.790    0.898\n",
      "5  factor1 =~  x5       0.869 0.023 37.224 0.000    0.823    0.914\n",
      "6  factor1 =~  x6       0.823 0.024 35.026 0.000    0.777    0.869\n",
      "7  factor1 =~  x7       0.116 0.054  2.161 0.031    0.011    0.222\n",
      "8  factor1 =~  x8       0.104 0.054  1.914 0.056   -0.003    0.210\n",
      "9  factor1 =~  x9       0.202 0.059  3.403 0.001    0.086    0.319\n",
      "10 factor2 =~  x1       0.590 0.078  7.523 0.000    0.436    0.743\n",
      "11 factor2 =~  x2       0.474 0.068  6.935 0.000    0.340    0.608\n",
      "12 factor2 =~  x3       0.657 0.059 11.204 0.000    0.542    0.771\n",
      "13 factor2 =~  x4       0.072 0.041  1.748 0.080   -0.009    0.152\n",
      "14 factor2 =~  x5      -0.010 0.039 -0.263 0.793   -0.087    0.066\n",
      "15 factor2 =~  x6       0.122 0.040  3.008 0.003    0.042    0.201\n",
      "16 factor2 =~  x7      -0.071 0.048 -1.465 0.143   -0.166    0.024\n",
      "17 factor2 =~  x8       0.167 0.090  1.849 0.064   -0.010    0.343\n",
      "18 factor2 =~  x9       0.397 0.087  4.581 0.000    0.227    0.567\n",
      "19 factor3 =~  x1       0.124 0.071  1.740 0.082   -0.016    0.264\n",
      "20 factor3 =~  x2      -0.042 0.074 -0.574 0.566   -0.187    0.102\n",
      "21 factor3 =~  x3       0.114 0.054  2.093 0.036    0.007    0.221\n",
      "22 factor3 =~  x4       0.056 0.037  1.503 0.133   -0.017    0.128\n",
      "23 factor3 =~  x5       0.048 0.038  1.263 0.207   -0.027    0.123\n",
      "24 factor3 =~  x6       0.046 0.034  1.347 0.178   -0.021    0.112\n",
      "25 factor3 =~  x7       0.692 0.093  7.477 0.000    0.511    0.874\n",
      "26 factor3 =~  x8       0.702 0.084  8.331 0.000    0.537    0.867\n",
      "27 factor3 =~  x9       0.508 0.070  7.298 0.000    0.371    0.644\n"
     ]
    }
   ],
   "source": [
    "out_quartimin <- orthRotate(\n",
    "    unrotated, \n",
    "    method = \"quartimin\"\n",
    ")\n",
    "out <- summary(out_quartimin, sort = FALSE, suppress = 0.3)\n",
    "print(out)"
   ]
  },
  {
   "attachments": {},
   "cell_type": "markdown",
   "id": "ffa3169c",
   "metadata": {},
   "source": [
    "### Oblique Quartimin\n",
    "\n",
    "L'algoritmo Quartimin può anche essere usato per una soluzione obliqua."
   ]
  },
  {
   "cell_type": "code",
   "execution_count": 28,
   "id": "b7fbbd83",
   "metadata": {
    "vscode": {
     "languageId": "r"
    }
   },
   "outputs": [
    {
     "name": "stdout",
     "output_type": "stream",
     "text": [
      "Standardized Rotated Factor Loadings\n"
     ]
    },
    {
     "name": "stderr",
     "output_type": "stream",
     "text": [
      "Warning message in testLoadings(object):\n",
      "\"The standard error is currently invalid because it does not account for the variance of the rotation function. It is simply based on the delta method.\"\n"
     ]
    },
    {
     "name": "stdout",
     "output_type": "stream",
     "text": [
      "   factor1 factor2 factor3\n",
      "x1          0.602*        \n",
      "x2          0.505*        \n",
      "x3          0.689*        \n",
      "x4  0.840*                \n",
      "x5  0.888*                \n",
      "x6  0.808*                \n",
      "x7                  0.723*\n",
      "x8                  0.702*\n",
      "x9          0.366*  0.463*\n",
      "\n",
      "Factor Correlation\n",
      "          factor1   factor2   factor3\n",
      "factor1 1.0000000 0.3257795 0.2164265\n",
      "factor2 0.3257795 1.0000000 0.2704806\n",
      "factor3 0.2164265 0.2704806 1.0000000\n",
      "\n",
      "Method of rotation:\tQuartimin \n",
      "\n",
      "Test Statistics for Standardized Rotated Factor Loadings\n"
     ]
    },
    {
     "name": "stderr",
     "output_type": "stream",
     "text": [
      "Warning message in testLoadings(object):\n",
      "\"The standard error is currently invalid because it does not account for the variance of the rotation function. It is simply based on the delta method.\"\n"
     ]
    },
    {
     "name": "stdout",
     "output_type": "stream",
     "text": [
      "       lhs op rhs std.loading    se      z     p ci.lower ci.upper\n",
      "1  factor1 =~  x1       0.191 0.064  2.965 0.003    0.065    0.317\n",
      "2  factor1 =~  x2       0.044 0.066  0.665 0.506   -0.085    0.172\n",
      "3  factor1 =~  x3      -0.070 0.034 -2.031 0.042   -0.137   -0.002\n",
      "4  factor1 =~  x4       0.840 0.033 25.622 0.000    0.776    0.905\n",
      "5  factor1 =~  x5       0.888 0.027 32.583 0.000    0.835    0.942\n",
      "6  factor1 =~  x6       0.808 0.028 28.441 0.000    0.752    0.863\n",
      "7  factor1 =~  x7       0.044 0.037  1.179 0.238   -0.029    0.116\n",
      "8  factor1 =~  x8      -0.033 0.036 -0.916 0.360   -0.103    0.037\n",
      "9  factor1 =~  x9       0.035 0.048  0.728 0.467   -0.059    0.129\n",
      "10 factor2 =~  x1       0.602 0.086  7.003 0.000    0.434    0.771\n",
      "11 factor2 =~  x2       0.505 0.071  7.163 0.000    0.367    0.644\n",
      "12 factor2 =~  x3       0.689 0.056 12.344 0.000    0.580    0.799\n",
      "13 factor2 =~  x4       0.022 0.045  0.483 0.629   -0.067    0.110\n",
      "14 factor2 =~  x5      -0.067 0.036 -1.890 0.059   -0.137    0.002\n",
      "15 factor2 =~  x6       0.078 0.041  1.887 0.059   -0.003    0.158\n",
      "16 factor2 =~  x7      -0.152 0.037 -4.059 0.000   -0.225   -0.078\n",
      "17 factor2 =~  x8       0.104 0.109  0.960 0.337   -0.109    0.317\n",
      "18 factor2 =~  x9       0.366 0.097  3.780 0.000    0.176    0.556\n",
      "19 factor3 =~  x1       0.031 0.062  0.500 0.617   -0.090    0.152\n",
      "20 factor3 =~  x2      -0.117 0.066 -1.776 0.076   -0.245    0.012\n",
      "21 factor3 =~  x3       0.023 0.039  0.587 0.557   -0.054    0.100\n",
      "22 factor3 =~  x4       0.005 0.042  0.128 0.898   -0.076    0.087\n",
      "23 factor3 =~  x5       0.008 0.035  0.216 0.829   -0.061    0.076\n",
      "24 factor3 =~  x6      -0.011 0.030 -0.362 0.717   -0.070    0.048\n",
      "25 factor3 =~  x7       0.723 0.087  8.328 0.000    0.553    0.893\n",
      "26 factor3 =~  x8       0.702 0.098  7.137 0.000    0.509    0.894\n",
      "27 factor3 =~  x9       0.463 0.075  6.211 0.000    0.317    0.609\n",
      "       lhs op rhs std.loading    se      z     p ci.lower ci.upper\n",
      "1  factor1 =~  x1       0.191 0.064  2.965 0.003    0.065    0.317\n",
      "2  factor1 =~  x2       0.044 0.066  0.665 0.506   -0.085    0.172\n",
      "3  factor1 =~  x3      -0.070 0.034 -2.031 0.042   -0.137   -0.002\n",
      "4  factor1 =~  x4       0.840 0.033 25.622 0.000    0.776    0.905\n",
      "5  factor1 =~  x5       0.888 0.027 32.583 0.000    0.835    0.942\n",
      "6  factor1 =~  x6       0.808 0.028 28.441 0.000    0.752    0.863\n",
      "7  factor1 =~  x7       0.044 0.037  1.179 0.238   -0.029    0.116\n",
      "8  factor1 =~  x8      -0.033 0.036 -0.916 0.360   -0.103    0.037\n",
      "9  factor1 =~  x9       0.035 0.048  0.728 0.467   -0.059    0.129\n",
      "10 factor2 =~  x1       0.602 0.086  7.003 0.000    0.434    0.771\n",
      "11 factor2 =~  x2       0.505 0.071  7.163 0.000    0.367    0.644\n",
      "12 factor2 =~  x3       0.689 0.056 12.344 0.000    0.580    0.799\n",
      "13 factor2 =~  x4       0.022 0.045  0.483 0.629   -0.067    0.110\n",
      "14 factor2 =~  x5      -0.067 0.036 -1.890 0.059   -0.137    0.002\n",
      "15 factor2 =~  x6       0.078 0.041  1.887 0.059   -0.003    0.158\n",
      "16 factor2 =~  x7      -0.152 0.037 -4.059 0.000   -0.225   -0.078\n",
      "17 factor2 =~  x8       0.104 0.109  0.960 0.337   -0.109    0.317\n",
      "18 factor2 =~  x9       0.366 0.097  3.780 0.000    0.176    0.556\n",
      "19 factor3 =~  x1       0.031 0.062  0.500 0.617   -0.090    0.152\n",
      "20 factor3 =~  x2      -0.117 0.066 -1.776 0.076   -0.245    0.012\n",
      "21 factor3 =~  x3       0.023 0.039  0.587 0.557   -0.054    0.100\n",
      "22 factor3 =~  x4       0.005 0.042  0.128 0.898   -0.076    0.087\n",
      "23 factor3 =~  x5       0.008 0.035  0.216 0.829   -0.061    0.076\n",
      "24 factor3 =~  x6      -0.011 0.030 -0.362 0.717   -0.070    0.048\n",
      "25 factor3 =~  x7       0.723 0.087  8.328 0.000    0.553    0.893\n",
      "26 factor3 =~  x8       0.702 0.098  7.137 0.000    0.509    0.894\n",
      "27 factor3 =~  x9       0.463 0.075  6.211 0.000    0.317    0.609\n"
     ]
    }
   ],
   "source": [
    "out_oblq <- oblqRotate(\n",
    "    unrotated, \n",
    "    method = \"quartimin\"\n",
    ")\n",
    "out <- summary(out_oblq, sort = FALSE, suppress = 0.3)\n",
    "print(out)"
   ]
  },
  {
   "attachments": {},
   "cell_type": "markdown",
   "id": "f8dba577",
   "metadata": {},
   "source": [
    "### Orthogonal Geomin\n",
    "\n",
    "Consideriamo ora la rotazione Geomin. L'algoritmo Geomin fornisce un metodo di rotazione che riduce al minimo la media geometrica delle saturazioni fattoriali innalzate al quadrato. Qui è usato per ottenere una soluzione ortogonale."
   ]
  },
  {
   "cell_type": "code",
   "execution_count": 29,
   "id": "ea68201e",
   "metadata": {
    "vscode": {
     "languageId": "r"
    }
   },
   "outputs": [
    {
     "name": "stdout",
     "output_type": "stream",
     "text": [
      "Standardized Rotated Factor Loadings\n"
     ]
    },
    {
     "name": "stderr",
     "output_type": "stream",
     "text": [
      "Warning message in testLoadings(object):\n",
      "\"The standard error is currently invalid because it does not account for the variance of the rotation function. It is simply based on the delta method.\"\n"
     ]
    },
    {
     "name": "stdout",
     "output_type": "stream",
     "text": [
      "   factor1 factor2 factor3\n",
      "x1  0.315*         -0.621*\n",
      "x2                 -0.474*\n",
      "x3                 -0.671*\n",
      "x4  0.838*                \n",
      "x5  0.867*                \n",
      "x6  0.814*                \n",
      "x7          0.696*        \n",
      "x8          0.677*        \n",
      "x9          0.456* -0.468*\n",
      "\n",
      "Factor Correlation\n",
      "        factor1 factor2 factor3\n",
      "factor1       1       0       0\n",
      "factor2       0       1       0\n",
      "factor3       0       0       1\n",
      "\n",
      "Method of rotation:\tGeomin \n",
      "\n",
      "Test Statistics for Standardized Rotated Factor Loadings\n"
     ]
    },
    {
     "name": "stderr",
     "output_type": "stream",
     "text": [
      "Warning message in testLoadings(object):\n",
      "\"The standard error is currently invalid because it does not account for the variance of the rotation function. It is simply based on the delta method.\"\n"
     ]
    },
    {
     "name": "stdout",
     "output_type": "stream",
     "text": [
      "       lhs op rhs std.loading    se       z     p ci.lower ci.upper\n",
      "1  factor1 =~  x1       0.315 0.134   2.352 0.019    0.053    0.578\n",
      "2  factor1 =~  x2       0.130 0.118   1.102 0.271   -0.101    0.360\n",
      "3  factor1 =~  x3       0.074 0.123   0.599 0.549   -0.168    0.316\n",
      "4  factor1 =~  x4       0.838 0.036  23.402 0.000    0.767    0.908\n",
      "5  factor1 =~  x5       0.867 0.025  35.190 0.000    0.819    0.915\n",
      "6  factor1 =~  x6       0.814 0.040  20.427 0.000    0.736    0.892\n",
      "7  factor1 =~  x7       0.112 0.068   1.645 0.100   -0.021    0.245\n",
      "8  factor1 =~  x8       0.085 0.063   1.341 0.180   -0.039    0.209\n",
      "9  factor1 =~  x9       0.172 0.095   1.803 0.071   -0.015    0.359\n",
      "10 factor2 =~  x1       0.053 0.061   0.868 0.386   -0.067    0.173\n",
      "11 factor2 =~  x2      -0.099 0.070  -1.409 0.159   -0.237    0.039\n",
      "12 factor2 =~  x3       0.033 0.048   0.698 0.485   -0.060    0.127\n",
      "13 factor2 =~  x4       0.051 0.046   1.115 0.265   -0.039    0.140\n",
      "14 factor2 =~  x5       0.054 0.061   0.878 0.380   -0.066    0.173\n",
      "15 factor2 =~  x6       0.035 0.037   0.924 0.355   -0.039    0.108\n",
      "16 factor2 =~  x7       0.696 0.090   7.702 0.000    0.519    0.874\n",
      "17 factor2 =~  x8       0.677 0.088   7.660 0.000    0.504    0.850\n",
      "18 factor2 =~  x9       0.456 0.073   6.261 0.000    0.314    0.599\n",
      "19 factor3 =~  x1      -0.621 0.101  -6.148 0.000   -0.818   -0.423\n",
      "20 factor3 =~  x2      -0.474 0.074  -6.414 0.000   -0.619   -0.329\n",
      "21 factor3 =~  x3      -0.671 0.058 -11.658 0.000   -0.784   -0.558\n",
      "22 factor3 =~  x4      -0.129 0.161  -0.800 0.424   -0.445    0.187\n",
      "23 factor3 =~  x5      -0.048 0.174  -0.277 0.782   -0.389    0.293\n",
      "24 factor3 =~  x6      -0.176 0.164  -1.071 0.284   -0.497    0.146\n",
      "25 factor3 =~  x7      -0.021 0.059  -0.354 0.724   -0.137    0.095\n",
      "26 factor3 =~  x8      -0.257 0.094  -2.720 0.007   -0.442   -0.072\n",
      "27 factor3 =~  x9      -0.468 0.105  -4.472 0.000   -0.673   -0.263\n",
      "       lhs op rhs std.loading    se       z     p ci.lower ci.upper\n",
      "1  factor1 =~  x1       0.315 0.134   2.352 0.019    0.053    0.578\n",
      "2  factor1 =~  x2       0.130 0.118   1.102 0.271   -0.101    0.360\n",
      "3  factor1 =~  x3       0.074 0.123   0.599 0.549   -0.168    0.316\n",
      "4  factor1 =~  x4       0.838 0.036  23.402 0.000    0.767    0.908\n",
      "5  factor1 =~  x5       0.867 0.025  35.190 0.000    0.819    0.915\n",
      "6  factor1 =~  x6       0.814 0.040  20.427 0.000    0.736    0.892\n",
      "7  factor1 =~  x7       0.112 0.068   1.645 0.100   -0.021    0.245\n",
      "8  factor1 =~  x8       0.085 0.063   1.341 0.180   -0.039    0.209\n",
      "9  factor1 =~  x9       0.172 0.095   1.803 0.071   -0.015    0.359\n",
      "10 factor2 =~  x1       0.053 0.061   0.868 0.386   -0.067    0.173\n",
      "11 factor2 =~  x2      -0.099 0.070  -1.409 0.159   -0.237    0.039\n",
      "12 factor2 =~  x3       0.033 0.048   0.698 0.485   -0.060    0.127\n",
      "13 factor2 =~  x4       0.051 0.046   1.115 0.265   -0.039    0.140\n",
      "14 factor2 =~  x5       0.054 0.061   0.878 0.380   -0.066    0.173\n",
      "15 factor2 =~  x6       0.035 0.037   0.924 0.355   -0.039    0.108\n",
      "16 factor2 =~  x7       0.696 0.090   7.702 0.000    0.519    0.874\n",
      "17 factor2 =~  x8       0.677 0.088   7.660 0.000    0.504    0.850\n",
      "18 factor2 =~  x9       0.456 0.073   6.261 0.000    0.314    0.599\n",
      "19 factor3 =~  x1      -0.621 0.101  -6.148 0.000   -0.818   -0.423\n",
      "20 factor3 =~  x2      -0.474 0.074  -6.414 0.000   -0.619   -0.329\n",
      "21 factor3 =~  x3      -0.671 0.058 -11.658 0.000   -0.784   -0.558\n",
      "22 factor3 =~  x4      -0.129 0.161  -0.800 0.424   -0.445    0.187\n",
      "23 factor3 =~  x5      -0.048 0.174  -0.277 0.782   -0.389    0.293\n",
      "24 factor3 =~  x6      -0.176 0.164  -1.071 0.284   -0.497    0.146\n",
      "25 factor3 =~  x7      -0.021 0.059  -0.354 0.724   -0.137    0.095\n",
      "26 factor3 =~  x8      -0.257 0.094  -2.720 0.007   -0.442   -0.072\n",
      "27 factor3 =~  x9      -0.468 0.105  -4.472 0.000   -0.673   -0.263\n"
     ]
    }
   ],
   "source": [
    "out_geomin_orh <- orthRotate(\n",
    "    unrotated, \n",
    "    method = \"geomin\"\n",
    ")\n",
    "out <- summary(out_geomin_orh, sort = FALSE, suppress = 0.3)\n",
    "print(out)"
   ]
  },
  {
   "attachments": {},
   "cell_type": "markdown",
   "id": "e7a1d249",
   "metadata": {},
   "source": [
    "### Oblique Geomin\n",
    "\n",
    "La rotazione Geomin può anche essere usata per ottenere una soluzione obliqua."
   ]
  },
  {
   "cell_type": "code",
   "execution_count": 30,
   "id": "ab34852c",
   "metadata": {
    "vscode": {
     "languageId": "r"
    }
   },
   "outputs": [
    {
     "name": "stdout",
     "output_type": "stream",
     "text": [
      "Standardized Rotated Factor Loadings\n"
     ]
    },
    {
     "name": "stderr",
     "output_type": "stream",
     "text": [
      "Warning message in testLoadings(object):\n",
      "\"The standard error is currently invalid because it does not account for the variance of the rotation function. It is simply based on the delta method.\"\n"
     ]
    },
    {
     "name": "stdout",
     "output_type": "stream",
     "text": [
      "   factor1 factor2 factor3\n",
      "x1                 -0.604*\n",
      "x2                 -0.507*\n",
      "x3                 -0.691*\n",
      "x4  0.839*                \n",
      "x5  0.887*                \n",
      "x6  0.806*                \n",
      "x7          0.726*        \n",
      "x8          0.703*        \n",
      "x9          0.463* -0.368*\n",
      "\n",
      "Factor Correlation\n",
      "           factor1    factor2    factor3\n",
      "factor1  1.0000000  0.2296081 -0.3271571\n",
      "factor2  0.2296081  1.0000000 -0.2776987\n",
      "factor3 -0.3271571 -0.2776987  1.0000000\n",
      "\n",
      "Method of rotation:\tGeomin \n",
      "\n",
      "Test Statistics for Standardized Rotated Factor Loadings\n"
     ]
    },
    {
     "name": "stderr",
     "output_type": "stream",
     "text": [
      "Warning message in testLoadings(object):\n",
      "\"The standard error is currently invalid because it does not account for the variance of the rotation function. It is simply based on the delta method.\"\n"
     ]
    },
    {
     "name": "stdout",
     "output_type": "stream",
     "text": [
      "       lhs op rhs std.loading    se       z     p ci.lower ci.upper\n",
      "1  factor1 =~  x1       0.188 0.070   2.670 0.008    0.050    0.326\n",
      "2  factor1 =~  x2       0.044 0.054   0.806 0.420   -0.063    0.150\n",
      "3  factor1 =~  x3      -0.073 0.049  -1.467 0.142   -0.170    0.024\n",
      "4  factor1 =~  x4       0.839 0.032  26.467 0.000    0.777    0.901\n",
      "5  factor1 =~  x5       0.887 0.029  30.077 0.000    0.829    0.945\n",
      "6  factor1 =~  x6       0.806 0.030  26.717 0.000    0.747    0.865\n",
      "7  factor1 =~  x7       0.031 0.034   0.915 0.360   -0.036    0.099\n",
      "8  factor1 =~  x8      -0.045 0.048  -0.948 0.343   -0.139    0.048\n",
      "9  factor1 =~  x9       0.025 0.034   0.747 0.455   -0.041    0.091\n",
      "10 factor2 =~  x1       0.029 0.051   0.567 0.571   -0.071    0.129\n",
      "11 factor2 =~  x2      -0.119 0.072  -1.664 0.096   -0.260    0.021\n",
      "12 factor2 =~  x3       0.020 0.037   0.538 0.591   -0.053    0.092\n",
      "13 factor2 =~  x4       0.007 0.043   0.174 0.862   -0.076    0.091\n",
      "14 factor2 =~  x5       0.010 0.036   0.285 0.775   -0.060    0.080\n",
      "15 factor2 =~  x6      -0.009 0.030  -0.309 0.758   -0.068    0.049\n",
      "16 factor2 =~  x7       0.726 0.072  10.065 0.000    0.585    0.868\n",
      "17 factor2 =~  x8       0.703 0.118   5.963 0.000    0.472    0.934\n",
      "18 factor2 =~  x9       0.463 0.080   5.810 0.000    0.307    0.619\n",
      "19 factor3 =~  x1      -0.604 0.081  -7.438 0.000   -0.763   -0.445\n",
      "20 factor3 =~  x2      -0.507 0.073  -6.983 0.000   -0.649   -0.364\n",
      "21 factor3 =~  x3      -0.691 0.061 -11.373 0.000   -0.810   -0.572\n",
      "22 factor3 =~  x4      -0.024 0.034  -0.702 0.482   -0.091    0.043\n",
      "23 factor3 =~  x5       0.065 0.045   1.459 0.144   -0.022    0.153\n",
      "24 factor3 =~  x6      -0.080 0.048  -1.679 0.093   -0.173    0.013\n",
      "25 factor3 =~  x7       0.150 0.107   1.403 0.161   -0.060    0.360\n",
      "26 factor3 =~  x8      -0.106 0.164  -0.645 0.519   -0.428    0.216\n",
      "27 factor3 =~  x9      -0.368 0.133  -2.770 0.006   -0.629   -0.108\n",
      "       lhs op rhs std.loading    se       z     p ci.lower ci.upper\n",
      "1  factor1 =~  x1       0.188 0.070   2.670 0.008    0.050    0.326\n",
      "2  factor1 =~  x2       0.044 0.054   0.806 0.420   -0.063    0.150\n",
      "3  factor1 =~  x3      -0.073 0.049  -1.467 0.142   -0.170    0.024\n",
      "4  factor1 =~  x4       0.839 0.032  26.467 0.000    0.777    0.901\n",
      "5  factor1 =~  x5       0.887 0.029  30.077 0.000    0.829    0.945\n",
      "6  factor1 =~  x6       0.806 0.030  26.717 0.000    0.747    0.865\n",
      "7  factor1 =~  x7       0.031 0.034   0.915 0.360   -0.036    0.099\n",
      "8  factor1 =~  x8      -0.045 0.048  -0.948 0.343   -0.139    0.048\n",
      "9  factor1 =~  x9       0.025 0.034   0.747 0.455   -0.041    0.091\n",
      "10 factor2 =~  x1       0.029 0.051   0.567 0.571   -0.071    0.129\n",
      "11 factor2 =~  x2      -0.119 0.072  -1.664 0.096   -0.260    0.021\n",
      "12 factor2 =~  x3       0.020 0.037   0.538 0.591   -0.053    0.092\n",
      "13 factor2 =~  x4       0.007 0.043   0.174 0.862   -0.076    0.091\n",
      "14 factor2 =~  x5       0.010 0.036   0.285 0.775   -0.060    0.080\n",
      "15 factor2 =~  x6      -0.009 0.030  -0.309 0.758   -0.068    0.049\n",
      "16 factor2 =~  x7       0.726 0.072  10.065 0.000    0.585    0.868\n",
      "17 factor2 =~  x8       0.703 0.118   5.963 0.000    0.472    0.934\n",
      "18 factor2 =~  x9       0.463 0.080   5.810 0.000    0.307    0.619\n",
      "19 factor3 =~  x1      -0.604 0.081  -7.438 0.000   -0.763   -0.445\n",
      "20 factor3 =~  x2      -0.507 0.073  -6.983 0.000   -0.649   -0.364\n",
      "21 factor3 =~  x3      -0.691 0.061 -11.373 0.000   -0.810   -0.572\n",
      "22 factor3 =~  x4      -0.024 0.034  -0.702 0.482   -0.091    0.043\n",
      "23 factor3 =~  x5       0.065 0.045   1.459 0.144   -0.022    0.153\n",
      "24 factor3 =~  x6      -0.080 0.048  -1.679 0.093   -0.173    0.013\n",
      "25 factor3 =~  x7       0.150 0.107   1.403 0.161   -0.060    0.360\n",
      "26 factor3 =~  x8      -0.106 0.164  -0.645 0.519   -0.428    0.216\n",
      "27 factor3 =~  x9      -0.368 0.133  -2.770 0.006   -0.629   -0.108\n"
     ]
    }
   ],
   "source": [
    "out_geomin_obl <- oblqRotate(\n",
    "    unrotated, \n",
    "    method = \"geomin\"\n",
    ")\n",
    "out <- summary(out_geomin_obl, sort = FALSE, suppress = 0.3)\n",
    "print(out)"
   ]
  },
  {
   "attachments": {},
   "cell_type": "markdown",
   "id": "9778991b",
   "metadata": {},
   "source": [
    "## Interpretazione dei fattori latenti nell'analisi fattoriale\n",
    "\n",
    "Nell'interpretare i fattori comuni latenti in un'analisi fattoriale, è cruciale scegliere tra la matrice pattern e la matrice struttura. Entrambe sono utili per l'interpretazione, ma forniscono informazioni diverse:\n",
    "\n",
    "1. **Matrice pattern**:\n",
    "\n",
    "   - Mostra le **saturazioni fattoriali** dirette.\n",
    "   - Indica gli effetti diretti dei fattori latenti sulle variabili manifeste.\n",
    "   - Rivela quanto ciascun fattore contribuisce direttamente alla varianza di una variabile osservata.\n",
    "   - Fondamentale per comprendere il significato psicologico dei fattori.\n",
    "\n",
    "2. **Matrice struttura**:\n",
    "\n",
    "   - Rappresenta le **correlazioni** tra fattori latenti e variabili osservate.\n",
    "   - Include sia gli **effetti diretti** che quelli **indiretti**.\n",
    "   - Descrive la covariazione complessiva tra fattori e variabili manifeste.\n",
    "   - Non distingue tra relazioni dirette e indirette.\n",
    "\n",
    "Un fattore identificato nell'analisi fattoriale rappresenta una variabile latente univariata, ovvero una dimensione sottostante che cattura l'essenza di un fenomeno psicologico. L'interpretazione del fattore emerge dall'intersezione dei significati delle variabili che vi saturano.\n",
    "\n",
    "Nel caso di rotazioni oblique, dove i fattori sono correlati, è essenziale interpretare ogni fattore come una dimensione psicologica distinta. Ad esempio, l'etichetta assegnata al fattore $F_1$ deve essere concettualmente separata dal fenomeno rappresentato dal fattore $F_2$, nonostante la loro correlazione.\n",
    "\n",
    "Adottando questa strategia interpretativa, la matrice pattern diventa lo strumento principale per l'interpretazione. I suoi coefficienti riflettono gli effetti diretti dei fattori latenti sulle variabili manifeste, indicando un'influenza \"causale\" del fattore su tali variabili. La matrice struttura, invece, descrive le correlazioni complessive tra variabili manifeste e fattori, includendo sia relazioni dirette che indirette.\n",
    "\n",
    "In conclusione, per un'interpretazione più accurata e teoricamente solida dei fattori latenti, è preferibile basarsi sulla matrice pattern, che fornisce informazioni specifiche sugli effetti diretti tra fattori comuni e variabili manifeste."
   ]
  }
 ],
 "metadata": {
  "jupytext": {
   "cell_metadata_filter": "tags,out.width,name,fig.cap,-all",
   "main_language": "R",
   "notebook_metadata_filter": "-all"
  },
  "kernelspec": {
   "display_name": "R",
   "language": "R",
   "name": "ir"
  },
  "language_info": {
   "codemirror_mode": "r",
   "file_extension": ".r",
   "mimetype": "text/x-r-source",
   "name": "R",
   "pygments_lexer": "r",
   "version": "4.4.1"
  }
 },
 "nbformat": 4,
 "nbformat_minor": 5
}
