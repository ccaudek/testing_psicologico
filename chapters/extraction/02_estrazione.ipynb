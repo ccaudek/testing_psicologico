{
 "cells": [
  {
   "attachments": {},
   "cell_type": "markdown",
   "id": "b713b0d9",
   "metadata": {},
   "source": [
    "# L'estrazione dei fattori {#sec-extraction}"
   ]
  },
  {
   "cell_type": "markdown",
   "id": "313885ed",
   "metadata": {},
   "source": [
    "**Prerequisiti**\n",
    "\n",
    "**Concetti e Competenze Chiave**\n",
    "\n",
    "**Preparazione del Notebook**"
   ]
  },
  {
   "cell_type": "code",
   "execution_count": 2,
   "id": "091e22cf",
   "metadata": {
    "vscode": {
     "languageId": "r"
    }
   },
   "outputs": [],
   "source": [
    "here::here(\"code\", \"_common.R\") |>\n",
    "    source()\n",
    "\n",
    "# Load packages\n",
    "if (!requireNamespace(\"pacman\")) install.packages(\"pacman\")\n",
    "pacman::p_load(lavaan, psych)"
   ]
  },
  {
   "attachments": {},
   "cell_type": "markdown",
   "id": "18ca9c2f",
   "metadata": {},
   "source": [
    "## Introduzione\n",
    "\n",
    "L’analisi fattoriale mira a descrivere in modo parsimonioso le relazioni tra un grande numero di item. L’obiettivo è identificare un piccolo numero di variabili latenti che, quando controllate, rendono uguali a zero le correlazioni parziali tra gli item. Una volta determinato il numero dei fattori comuni, è possibile stimare le saturazioni fattoriali, che corrispondono alle correlazioni o covarianze tra gli item e i fattori.\n",
    "\n",
    "In termini matriciali, il modello multifattoriale si scrive\n",
    "\n",
    "$$\n",
    "\\boldsymbol{\\Sigma} =\\boldsymbol{\\Lambda} \\boldsymbol{\\Phi} \\boldsymbol{\\Lambda}^{\\mathsf{T}} + \\boldsymbol{\\Psi} \n",
    "$$\n",
    "\n",
    "dove $\\boldsymbol{\\Phi}$ è la matrice di ordine $m \\times m$ di varianze\n",
    "e covarianze tra i fattori comuni e $\\boldsymbol{\\Psi}$ è una matrice\n",
    "diagonale di ordine $p$ con le unicità delle variabili. \n",
    "\n",
    "In questo capitolo descriveremo alcuni dei metodi che possono essere usati per stimare $\\boldsymbol{\\Lambda}$. Esamineremo il metodo delle componenti principali, il metodo dei fattori principali, il metodo dei fattori principali iterato e il metodo di massima verosimiglianza.\n",
    "\n",
    "## Metodo delle componenti principali\n",
    "\n",
    "L'analisi fattoriale eseguita mediante il metodo delle componenti\n",
    "principali, nonostante il nome, non è un'analisi delle componenti\n",
    "principali. Il metodo delle componenti principali costituisce invece\n",
    "un'applicazione del teorema di scomposizione spettrale di una matrice.\n",
    "Il *teorema spettrale* afferma che, data la matrice simmetrica\n",
    "$\\textbf{S}_{p \\times p}$, è sempre possibile trovare una matrice\n",
    "$\\textbf{C}_{p \\times p}$ ortogonale tale che\n",
    "$\n",
    "\\textbf{S} = \\textbf{C}\\textbf{D}\\textbf{C}^{\\mathsf{T}}\n",
    "$\n",
    "con **D** diagonale. Il teorema specifica inoltre che gli elementi presenti sulla diagonale di **D** sono gli autovalori di **S**, mentre le colonne di **C** rappresentano i rispettivi autovettori normalizzati associati agli autovalori di **S**.\n",
    "\n",
    "Facciamo un esempio numerico utilizzando i dati discussi da\n",
    "Rencher(2002). Brown, Williams e Barlow (1984) hanno raccolto le\n",
    "valutazioni di una ragazza dodicenne relativamente a sette persone di\n",
    "sua conoscenza. Ciascuna persona veniva valutata su una scala a nove\n",
    "punti rispetto a cinque variabili: *kind*, *intelligent*, *happy*,\n",
    "*likeable* e *just*. La matrice di correlazione per tali variabili è\n",
    "riportata di seguito:"
   ]
  },
  {
   "cell_type": "code",
   "execution_count": 3,
   "id": "b1076ab4",
   "metadata": {
    "vscode": {
     "languageId": "r"
    }
   },
   "outputs": [
    {
     "data": {
      "text/html": [
       "<table class=\"dataframe\">\n",
       "<caption>A matrix: 5 x 5 of type dbl</caption>\n",
       "<thead>\n",
       "\t<tr><th></th><th scope=col>K</th><th scope=col>I</th><th scope=col>H</th><th scope=col>L</th><th scope=col>J</th></tr>\n",
       "</thead>\n",
       "<tbody>\n",
       "\t<tr><th scope=row>K</th><td>1.000</td><td> 0.296</td><td> 0.881</td><td>0.995</td><td>0.545</td></tr>\n",
       "\t<tr><th scope=row>I</th><td>0.296</td><td> 1.000</td><td>-0.022</td><td>0.326</td><td>0.837</td></tr>\n",
       "\t<tr><th scope=row>H</th><td>0.881</td><td>-0.022</td><td> 1.000</td><td>0.867</td><td>0.130</td></tr>\n",
       "\t<tr><th scope=row>L</th><td>0.995</td><td> 0.326</td><td> 0.867</td><td>1.000</td><td>0.544</td></tr>\n",
       "\t<tr><th scope=row>J</th><td>0.545</td><td> 0.837</td><td> 0.130</td><td>0.544</td><td>1.000</td></tr>\n",
       "</tbody>\n",
       "</table>\n"
      ],
      "text/latex": [
       "A matrix: 5 x 5 of type dbl\n",
       "\\begin{tabular}{r|lllll}\n",
       "  & K & I & H & L & J\\\\\n",
       "\\hline\n",
       "\tK & 1.000 &  0.296 &  0.881 & 0.995 & 0.545\\\\\n",
       "\tI & 0.296 &  1.000 & -0.022 & 0.326 & 0.837\\\\\n",
       "\tH & 0.881 & -0.022 &  1.000 & 0.867 & 0.130\\\\\n",
       "\tL & 0.995 &  0.326 &  0.867 & 1.000 & 0.544\\\\\n",
       "\tJ & 0.545 &  0.837 &  0.130 & 0.544 & 1.000\\\\\n",
       "\\end{tabular}\n"
      ],
      "text/markdown": [
       "\n",
       "A matrix: 5 x 5 of type dbl\n",
       "\n",
       "| <!--/--> | K | I | H | L | J |\n",
       "|---|---|---|---|---|---|\n",
       "| K | 1.000 |  0.296 |  0.881 | 0.995 | 0.545 |\n",
       "| I | 0.296 |  1.000 | -0.022 | 0.326 | 0.837 |\n",
       "| H | 0.881 | -0.022 |  1.000 | 0.867 | 0.130 |\n",
       "| L | 0.995 |  0.326 |  0.867 | 1.000 | 0.544 |\n",
       "| J | 0.545 |  0.837 |  0.130 | 0.544 | 1.000 |\n",
       "\n"
      ],
      "text/plain": [
       "  K     I      H      L     J    \n",
       "K 1.000  0.296  0.881 0.995 0.545\n",
       "I 0.296  1.000 -0.022 0.326 0.837\n",
       "H 0.881 -0.022  1.000 0.867 0.130\n",
       "L 0.995  0.326  0.867 1.000 0.544\n",
       "J 0.545  0.837  0.130 0.544 1.000"
      ]
     },
     "metadata": {},
     "output_type": "display_data"
    }
   ],
   "source": [
    "R <- matrix(c(\n",
    "  1.000, .296, .881, .995, .545,\n",
    "  .296, 1.000, -.022, .326, .837,\n",
    "  .881, -.022, 1.000, .867, .130,\n",
    "  .995, .326, .867, 1.000, .544,\n",
    "  .545, .837, .130, .544, 1.000\n",
    "),\n",
    "ncol = 5, byrow = T, dimnames = list(\n",
    "  c(\"K\", \"I\", \"H\", \"L\", \"J\"),\n",
    "  c(\"K\", \"I\", \"H\", \"L\", \"J\")\n",
    ")\n",
    ")\n",
    "R"
   ]
  },
  {
   "attachments": {},
   "cell_type": "markdown",
   "id": "ec87b50f",
   "metadata": {},
   "source": [
    "Gli autovalori e gli autovettori si calcolano con la funzione `eigen()`:"
   ]
  },
  {
   "cell_type": "code",
   "execution_count": 4,
   "id": "651c1d6a",
   "metadata": {
    "vscode": {
     "languageId": "r"
    }
   },
   "outputs": [
    {
     "name": "stdout",
     "output_type": "stream",
     "text": [
      "eigen() decomposition\n",
      "$values\n",
      "[1] 3.2633766259 1.5383820947 0.1679692814 0.0300298228 0.0002421752\n",
      "\n",
      "$vectors\n",
      "           [,1]       [,2]        [,3]       [,4]       [,5]\n",
      "[1,] -0.5367301 -0.1859819 -0.18991841 -0.1247931  0.7910052\n",
      "[2,] -0.2874672  0.6505666  0.68488713 -0.1198141  0.1034406\n",
      "[3,] -0.4343545 -0.4736877  0.40694897  0.6136634 -0.2115794\n",
      "[4,] -0.5373909 -0.1692797 -0.09532905 -0.6293896 -0.5266275\n",
      "[5,] -0.3896544  0.5377158 -0.56583170  0.4442491 -0.2037363\n",
      "\n"
     ]
    }
   ],
   "source": [
    "e <- eigen(R)\n",
    "print(e)"
   ]
  },
  {
   "attachments": {},
   "cell_type": "markdown",
   "id": "96b5be38",
   "metadata": {},
   "source": [
    "Come indicato in precedenza, la matrice **R** può essere espressa come\n",
    "\n",
    "$$\n",
    "\\textbf{R} = \\textbf{C}\\textbf{D}\\textbf{C}^{\\mathsf{T}}\n",
    "$$"
   ]
  },
  {
   "cell_type": "code",
   "execution_count": 5,
   "id": "f1536022",
   "metadata": {
    "vscode": {
     "languageId": "r"
    }
   },
   "outputs": [
    {
     "data": {
      "text/html": [
       "<table class=\"dataframe\">\n",
       "<caption>A matrix: 5 x 5 of type dbl</caption>\n",
       "<tbody>\n",
       "\t<tr><td>1.000</td><td> 0.296</td><td> 0.881</td><td>0.995</td><td>0.545</td></tr>\n",
       "\t<tr><td>0.296</td><td> 1.000</td><td>-0.022</td><td>0.326</td><td>0.837</td></tr>\n",
       "\t<tr><td>0.881</td><td>-0.022</td><td> 1.000</td><td>0.867</td><td>0.130</td></tr>\n",
       "\t<tr><td>0.995</td><td> 0.326</td><td> 0.867</td><td>1.000</td><td>0.544</td></tr>\n",
       "\t<tr><td>0.545</td><td> 0.837</td><td> 0.130</td><td>0.544</td><td>1.000</td></tr>\n",
       "</tbody>\n",
       "</table>\n"
      ],
      "text/latex": [
       "A matrix: 5 x 5 of type dbl\n",
       "\\begin{tabular}{lllll}\n",
       "\t 1.000 &  0.296 &  0.881 & 0.995 & 0.545\\\\\n",
       "\t 0.296 &  1.000 & -0.022 & 0.326 & 0.837\\\\\n",
       "\t 0.881 & -0.022 &  1.000 & 0.867 & 0.130\\\\\n",
       "\t 0.995 &  0.326 &  0.867 & 1.000 & 0.544\\\\\n",
       "\t 0.545 &  0.837 &  0.130 & 0.544 & 1.000\\\\\n",
       "\\end{tabular}\n"
      ],
      "text/markdown": [
       "\n",
       "A matrix: 5 x 5 of type dbl\n",
       "\n",
       "| 1.000 |  0.296 |  0.881 | 0.995 | 0.545 |\n",
       "| 0.296 |  1.000 | -0.022 | 0.326 | 0.837 |\n",
       "| 0.881 | -0.022 |  1.000 | 0.867 | 0.130 |\n",
       "| 0.995 |  0.326 |  0.867 | 1.000 | 0.544 |\n",
       "| 0.545 |  0.837 |  0.130 | 0.544 | 1.000 |\n",
       "\n"
      ],
      "text/plain": [
       "     [,1]  [,2]   [,3]   [,4]  [,5] \n",
       "[1,] 1.000  0.296  0.881 0.995 0.545\n",
       "[2,] 0.296  1.000 -0.022 0.326 0.837\n",
       "[3,] 0.881 -0.022  1.000 0.867 0.130\n",
       "[4,] 0.995  0.326  0.867 1.000 0.544\n",
       "[5,] 0.545  0.837  0.130 0.544 1.000"
      ]
     },
     "metadata": {},
     "output_type": "display_data"
    }
   ],
   "source": [
    "e$vectors %*% diag(e$values) %*% t(e$vectors)"
   ]
  },
  {
   "attachments": {},
   "cell_type": "markdown",
   "id": "a69c4284",
   "metadata": {},
   "source": [
    "Esaminiamo ora gli autovalori. I primi due autovalori spiegano da soli\n",
    "il 96% della varianza campionaria:"
   ]
  },
  {
   "cell_type": "code",
   "execution_count": 6,
   "id": "88b67572",
   "metadata": {
    "vscode": {
     "languageId": "r"
    }
   },
   "outputs": [
    {
     "data": {
      "text/html": [
       "0.96035174411791"
      ],
      "text/latex": [
       "0.96035174411791"
      ],
      "text/markdown": [
       "0.96035174411791"
      ],
      "text/plain": [
       "[1] 0.9603517"
      ]
     },
     "metadata": {},
     "output_type": "display_data"
    }
   ],
   "source": [
    "(e$values[1] + e$values[2]) / 5"
   ]
  },
  {
   "attachments": {},
   "cell_type": "markdown",
   "id": "e97fb5a2",
   "metadata": {},
   "source": [
    "Usando i primi due autovalori e i primi due autovettori è dunque\n",
    "possibile riprodurre in maniera soddisfacente la matrice **R** operando\n",
    "nel contempo una riduzione di dimensionalità dei dati.\n",
    "\n",
    "Per fattorizzare\n",
    "$\\textbf{R} = \\textbf{C}\\textbf{D}\\textbf{C}^{\\mathsf{T}}$\n",
    "nella forma\n",
    "$\\hat{\\boldsymbol{\\Lambda}} \\hat{\\boldsymbol{\\Lambda}}^{\\mathsf{T}}$\n",
    "iniziamo a scrivere \n",
    "\n",
    "$$\n",
    "\\textbf{D}= \\textbf{D}^{1/2} \\textbf{D}^{1/2}\n",
    "$$\n",
    "\n",
    "dove \n",
    "\n",
    "$$\n",
    "\\textbf{D}^{1/2} = \n",
    "\\left[\n",
    "  \\begin{array}{ c c c c }\n",
    "     \\sqrt{\\theta_1} & 0 & \\dots & 0 \\\\\n",
    "     0 & \\sqrt{\\theta_2} & \\dots & 0 \\\\\n",
    "     \\dots & \\dots & & \\dots \\\\\n",
    "     0 & 0 & \\dots &  \\sqrt{\\theta_p}\n",
    "  \\end{array} \n",
    "\\right]\n",
    "$$ \n",
    "\n",
    "Viene qui usata la notazione $\\theta$ per denotare gli\n",
    "autovalori anziché il tradizionale $\\lambda$ per evitare la confusione\n",
    "con la notazione $\\lambda_{jl}$ usata per le saturazioni fattoriali. In\n",
    "questo modo, possiamo scrivere \n",
    "\n",
    "$$\n",
    "\\begin{equation}\n",
    "\\begin{aligned}\n",
    "\\textbf{R} &= \\textbf{C}\\textbf{D}\\textbf{C}^{\\mathsf{T}}\\notag\\\\\n",
    "&= \\textbf{C}\\textbf{D}^{1/2}\\textbf{D}^{1/2}\\textbf{C}^{\\mathsf{T}}\\notag\\\\\n",
    "&= (\\textbf{C}\\textbf{D}^{1/2}) (\\textbf{C}\\textbf{D}^{1/2})^{\\mathsf{T}}.\n",
    "\\end{aligned}\n",
    "\\end{equation}\n",
    "$$\n",
    "\n",
    "Non possiamo però limiarci a definire\n",
    "$\\hat{\\boldsymbol{\\Lambda}}=\\textbf{C}\\textbf{D}^{1/2}$ in quanto\n",
    "$\\textbf{C}\\textbf{D}^{1/2}$ è di ordine $p \\times p$ e non otteniamo\n",
    "quindi una riduzione di dimensioni. Quello che cerchiamo è una matrice\n",
    "$\\hat{\\boldsymbol{\\Lambda}}$ di ordine $p \\times m$ con $m < p$. Dunque,\n",
    "definiamo la matrice $\\textbf{D}_1= \\text{diag}(\\theta_1,\n",
    "\\theta_2, \\dots, \\theta_m)$ come la la matrice contenente gli $m$\n",
    "autovalori più grandi di **R** e $\\textbf{C}_1=( \\textbf{c}_1,\n",
    "\\textbf{c}_2, \\dots,  \\textbf{c}_m)$ come la matrice contenente i\n",
    "rispettivi autovettori. \n",
    "\n",
    "Mediante il metodo delle componenti principali,\n",
    "le saturazioni fattoriali $\\hat{\\boldsymbol{\\Lambda}}$ vengono quindi\n",
    "stimate nel modo seguente: \n",
    "\n",
    "$$\n",
    "\\begin{equation}\n",
    "\\begin{aligned}\n",
    "\\hat{\\boldsymbol{\\Lambda}} &= \\textbf{C}_1 \\textbf{D}_1^{1/2}\\notag\\\\\n",
    "&= (\\sqrt{\\theta_1} \\textbf{c}_1, \\sqrt{\\theta_2} \\textbf{c}_2, \n",
    "\\dots, \\sqrt{\\theta_m} \\textbf{c}_m) \n",
    "\\end{aligned}\n",
    "\\end{equation}\n",
    "$$\n",
    "\n",
    "Per l'esempio presente, con $m=2$ e $p=5$, avremo \n",
    "\n",
    "$$\n",
    "\\left[\n",
    "  \\begin{array}{ c c }\n",
    " \\hat{\\lambda}_{11} & \\hat{\\lambda}_{12} \\\\\n",
    " \\hat{\\lambda}_{21} & \\hat{\\lambda}_{22} \\\\\n",
    " \\hat{\\lambda}_{31} & \\hat{\\lambda}_{32} \\\\\n",
    " \\hat{\\lambda}_{41} & \\hat{\\lambda}_{42} \\\\\n",
    " \\hat{\\lambda}_{51} & \\hat{\\lambda}_{52} \n",
    "  \\end{array} \n",
    "\\right] =\n",
    "\\left[\n",
    "  \\begin{array}{ c c }\n",
    " c_{11} & c_{12} \\\\\n",
    " c_{21} & c_{22} \\\\\n",
    " c_{31} & c_{32} \\\\\n",
    " c_{41} & c_{42} \\\\\n",
    " c_{51} & c_{52} \n",
    "  \\end{array} \n",
    "\\right]\n",
    "\\left[\n",
    "  \\begin{array}{ c c }\n",
    " \\sqrt{\\theta_1} & 0\\\\\n",
    " 0 &\\sqrt{\\theta_2} \n",
    "  \\end{array} \n",
    "\\right]\n",
    "$$ \n",
    "\n",
    "Le saturazioni fattoriali stimate sono dunque uguali a\n",
    "\n",
    "$$\n",
    "\\left[\n",
    "  \\begin{array}{ c c }\n",
    " \\sqrt{\\theta_1}c_{11} & \\sqrt{\\theta_2}c_{12} \\\\\n",
    " \\sqrt{\\theta_1}c_{21} & \\sqrt{\\theta_2}c_{22} \\\\\n",
    " \\sqrt{\\theta_1}c_{31} & \\sqrt{\\theta_2}c_{32} \\\\\n",
    " \\sqrt{\\theta_1}c_{41} & \\sqrt{\\theta_2}c_{42} \\\\\n",
    " \\sqrt{\\theta_1}c_{51} & \\sqrt{\\theta_2}c_{52} \n",
    "  \\end{array} \n",
    "\\right]\n",
    "$$ \n",
    "\n",
    "Svolgendo i calcoli con $\\textsf{R}$ otteniamo:"
   ]
  },
  {
   "cell_type": "code",
   "execution_count": 7,
   "id": "ddcf0b91",
   "metadata": {
    "vscode": {
     "languageId": "r"
    }
   },
   "outputs": [
    {
     "data": {
      "text/html": [
       "<table class=\"dataframe\">\n",
       "<caption>A matrix: 5 x 2 of type dbl</caption>\n",
       "<tbody>\n",
       "\t<tr><td>-0.970</td><td>-0.231</td></tr>\n",
       "\t<tr><td>-0.519</td><td> 0.807</td></tr>\n",
       "\t<tr><td>-0.785</td><td>-0.588</td></tr>\n",
       "\t<tr><td>-0.971</td><td>-0.210</td></tr>\n",
       "\t<tr><td>-0.704</td><td> 0.667</td></tr>\n",
       "</tbody>\n",
       "</table>\n"
      ],
      "text/latex": [
       "A matrix: 5 x 2 of type dbl\n",
       "\\begin{tabular}{ll}\n",
       "\t -0.970 & -0.231\\\\\n",
       "\t -0.519 &  0.807\\\\\n",
       "\t -0.785 & -0.588\\\\\n",
       "\t -0.971 & -0.210\\\\\n",
       "\t -0.704 &  0.667\\\\\n",
       "\\end{tabular}\n"
      ],
      "text/markdown": [
       "\n",
       "A matrix: 5 x 2 of type dbl\n",
       "\n",
       "| -0.970 | -0.231 |\n",
       "| -0.519 |  0.807 |\n",
       "| -0.785 | -0.588 |\n",
       "| -0.971 | -0.210 |\n",
       "| -0.704 |  0.667 |\n",
       "\n"
      ],
      "text/plain": [
       "     [,1]   [,2]  \n",
       "[1,] -0.970 -0.231\n",
       "[2,] -0.519  0.807\n",
       "[3,] -0.785 -0.588\n",
       "[4,] -0.971 -0.210\n",
       "[5,] -0.704  0.667"
      ]
     },
     "metadata": {},
     "output_type": "display_data"
    }
   ],
   "source": [
    "L <- cbind(\n",
    "  e$vectors[, 1] * sqrt(e$values[1]),\n",
    "  e$vectors[, 2] * sqrt(e$values[2])\n",
    ")\n",
    "\n",
    "round(L, 3)"
   ]
  },
  {
   "attachments": {},
   "cell_type": "markdown",
   "id": "d04f8565",
   "metadata": {},
   "source": [
    "La matrice di correlazione riprodotta (con le comunalità sulla diagonale\n",
    "principale) diventa"
   ]
  },
  {
   "cell_type": "code",
   "execution_count": 8,
   "id": "1232dce1",
   "metadata": {
    "vscode": {
     "languageId": "r"
    }
   },
   "outputs": [
    {
     "data": {
      "text/html": [
       "<table class=\"dataframe\">\n",
       "<caption>A matrix: 5 x 5 of type dbl</caption>\n",
       "<tbody>\n",
       "\t<tr><td>0.993</td><td> 0.317</td><td> 0.896</td><td>0.990</td><td>0.529</td></tr>\n",
       "\t<tr><td>0.317</td><td> 0.921</td><td>-0.067</td><td>0.335</td><td>0.904</td></tr>\n",
       "\t<tr><td>0.896</td><td>-0.067</td><td> 0.961</td><td>0.885</td><td>0.160</td></tr>\n",
       "\t<tr><td>0.990</td><td> 0.335</td><td> 0.885</td><td>0.987</td><td>0.543</td></tr>\n",
       "\t<tr><td>0.529</td><td> 0.904</td><td> 0.160</td><td>0.543</td><td>0.940</td></tr>\n",
       "</tbody>\n",
       "</table>\n"
      ],
      "text/latex": [
       "A matrix: 5 x 5 of type dbl\n",
       "\\begin{tabular}{lllll}\n",
       "\t 0.993 &  0.317 &  0.896 & 0.990 & 0.529\\\\\n",
       "\t 0.317 &  0.921 & -0.067 & 0.335 & 0.904\\\\\n",
       "\t 0.896 & -0.067 &  0.961 & 0.885 & 0.160\\\\\n",
       "\t 0.990 &  0.335 &  0.885 & 0.987 & 0.543\\\\\n",
       "\t 0.529 &  0.904 &  0.160 & 0.543 & 0.940\\\\\n",
       "\\end{tabular}\n"
      ],
      "text/markdown": [
       "\n",
       "A matrix: 5 x 5 of type dbl\n",
       "\n",
       "| 0.993 |  0.317 |  0.896 | 0.990 | 0.529 |\n",
       "| 0.317 |  0.921 | -0.067 | 0.335 | 0.904 |\n",
       "| 0.896 | -0.067 |  0.961 | 0.885 | 0.160 |\n",
       "| 0.990 |  0.335 |  0.885 | 0.987 | 0.543 |\n",
       "| 0.529 |  0.904 |  0.160 | 0.543 | 0.940 |\n",
       "\n"
      ],
      "text/plain": [
       "     [,1]  [,2]   [,3]   [,4]  [,5] \n",
       "[1,] 0.993  0.317  0.896 0.990 0.529\n",
       "[2,] 0.317  0.921 -0.067 0.335 0.904\n",
       "[3,] 0.896 -0.067  0.961 0.885 0.160\n",
       "[4,] 0.990  0.335  0.885 0.987 0.543\n",
       "[5,] 0.529  0.904  0.160 0.543 0.940"
      ]
     },
     "metadata": {},
     "output_type": "display_data"
    }
   ],
   "source": [
    "R_hat <- round(L %*% t(L), 3)\n",
    "R_hat"
   ]
  },
  {
   "attachments": {},
   "cell_type": "markdown",
   "id": "c677a71a",
   "metadata": {},
   "source": [
    "La matrice di correlazioni residue (con le specificità sulla diagonale principale) è la seguente."
   ]
  },
  {
   "cell_type": "code",
   "execution_count": 9,
   "id": "02e9a39a",
   "metadata": {
    "vscode": {
     "languageId": "r"
    }
   },
   "outputs": [
    {
     "data": {
      "text/html": [
       "<table class=\"dataframe\">\n",
       "<caption>A matrix: 5 x 5 of type dbl</caption>\n",
       "<thead>\n",
       "\t<tr><th></th><th scope=col>K</th><th scope=col>I</th><th scope=col>H</th><th scope=col>L</th><th scope=col>J</th></tr>\n",
       "</thead>\n",
       "<tbody>\n",
       "\t<tr><th scope=row>K</th><td> 0.007</td><td>-0.021</td><td>-0.015</td><td> 0.005</td><td> 0.016</td></tr>\n",
       "\t<tr><th scope=row>I</th><td>-0.021</td><td> 0.079</td><td> 0.045</td><td>-0.009</td><td>-0.067</td></tr>\n",
       "\t<tr><th scope=row>H</th><td>-0.015</td><td> 0.045</td><td> 0.039</td><td>-0.018</td><td>-0.030</td></tr>\n",
       "\t<tr><th scope=row>L</th><td> 0.005</td><td>-0.009</td><td>-0.018</td><td> 0.013</td><td> 0.001</td></tr>\n",
       "\t<tr><th scope=row>J</th><td> 0.016</td><td>-0.067</td><td>-0.030</td><td> 0.001</td><td> 0.060</td></tr>\n",
       "</tbody>\n",
       "</table>\n"
      ],
      "text/latex": [
       "A matrix: 5 x 5 of type dbl\n",
       "\\begin{tabular}{r|lllll}\n",
       "  & K & I & H & L & J\\\\\n",
       "\\hline\n",
       "\tK &  0.007 & -0.021 & -0.015 &  0.005 &  0.016\\\\\n",
       "\tI & -0.021 &  0.079 &  0.045 & -0.009 & -0.067\\\\\n",
       "\tH & -0.015 &  0.045 &  0.039 & -0.018 & -0.030\\\\\n",
       "\tL &  0.005 & -0.009 & -0.018 &  0.013 &  0.001\\\\\n",
       "\tJ &  0.016 & -0.067 & -0.030 &  0.001 &  0.060\\\\\n",
       "\\end{tabular}\n"
      ],
      "text/markdown": [
       "\n",
       "A matrix: 5 x 5 of type dbl\n",
       "\n",
       "| <!--/--> | K | I | H | L | J |\n",
       "|---|---|---|---|---|---|\n",
       "| K |  0.007 | -0.021 | -0.015 |  0.005 |  0.016 |\n",
       "| I | -0.021 |  0.079 |  0.045 | -0.009 | -0.067 |\n",
       "| H | -0.015 |  0.045 |  0.039 | -0.018 | -0.030 |\n",
       "| L |  0.005 | -0.009 | -0.018 |  0.013 |  0.001 |\n",
       "| J |  0.016 | -0.067 | -0.030 |  0.001 |  0.060 |\n",
       "\n"
      ],
      "text/plain": [
       "  K      I      H      L      J     \n",
       "K  0.007 -0.021 -0.015  0.005  0.016\n",
       "I -0.021  0.079  0.045 -0.009 -0.067\n",
       "H -0.015  0.045  0.039 -0.018 -0.030\n",
       "L  0.005 -0.009 -0.018  0.013  0.001\n",
       "J  0.016 -0.067 -0.030  0.001  0.060"
      ]
     },
     "metadata": {},
     "output_type": "display_data"
    }
   ],
   "source": [
    "R - R_hat"
   ]
  },
  {
   "attachments": {},
   "cell_type": "markdown",
   "id": "db422abc",
   "metadata": {},
   "source": [
    "Possiamo ora capire il motivo del nome *metodo delle componenti\n",
    "principali*: le saturazioni fattoriali sono proporzionali agli\n",
    "autovettori di $\\textbf{R}$. Tuttavia, l'interpretazione è diversa da\n",
    "quella che viene assegnata ai risultati dell'analisi delle componenti\n",
    "principali.\n",
    "\n",
    "È possibile condurre l'analisi fattoriale con il metodo delle componenti\n",
    "principali sia utilizzando la matrice $\\textbf{S}$ di\n",
    "varianze-covarianze sia la matrice $\\textbf{R}$ delle correlazioni.\n",
    "Tuttavia, le soluzioni ottenute usando $\\textbf{S}$ o $\\textbf{R}$ non\n",
    "sono legate da una relazione algebrica: il metodo delle componenti\n",
    "principali non è invariante rispetto ai cambiamenti di scala delle\n",
    "osservazioni. Un altro svantaggio del metodo delle componenti principali\n",
    "è che non fornisce un test di bontà di adattamento. Tale test può essere\n",
    "invece svolto quando la soluzione viene trovata con il metodo della\n",
    "massima verosimiglianza.\n",
    "\n",
    "## Metodo dei fattori principali\n",
    "\n",
    "Il *metodo dei fattori principali* (*principal factor method*, anche\n",
    "detto *principal axis method*) è uno dei metodi maggiormente usati per\n",
    "la stima delle saturazioni fattoriali e delle comunalità. Il metodo\n",
    "delle componenti principali che abbiamo usato in precedenza trascura la specificità $\\boldsymbol{\\Psi}$ e si limita a fattorializzare le covarianze di **S** o le correlazioni\n",
    "di **R**. Il metodo dei fattori principali affronta questo problema ricorrendo ad una procedura simile\n",
    "al metodo delle componenti principali, nella quale però viene utilizzata una matrice\n",
    "ridotta di varianze-covarianze $\\textbf{S} - \\hat{\\boldsymbol{\\Psi}}$ in cui una *stima delle comunalità* viene sostituita alle varianze presenti sulla diagonale principale della matrice **S** o  **R**. \n",
    "\n",
    "Nel caso della matrice ridotta di correlazioni\n",
    "$\\textbf{R} - \\hat{\\boldsymbol{\\Psi}}$, per la comunalità $i$-esima\n",
    "$\\sum_{j}\\lambda_{ij}^2$ si sceglie il quadrato del coefficiente di\n",
    "correlazione multipla tra $Y_i$ e tutte le altre $p-1$ variabili. Tale\n",
    "valore si può trovare nel modo seguente\n",
    "\n",
    "$$\n",
    "\\hat{h}^2_i=R^2_i=1-\\frac{1}{r^{ii}},\n",
    "$$\n",
    "\n",
    "dove $r^{ii}$ è l'elemento diagonale $i$-esimo di $\\textbf{R}^{-1}$. Nel caso di una matrice\n",
    "ridotta di varianze-covarianze $\\textbf{S} - \\hat{\\boldsymbol{\\Psi}}$,\n",
    "le comunalità possono essere stimate calcolando\n",
    "\n",
    "$$\n",
    "\\hat{h}_i^2=s_{ii}-\\frac{1}{r^{ii}},\n",
    "$$ \n",
    "\n",
    "dove $s_{ii}$ è l'elemento diagonale $i$-esimo di $\\textbf{S}$.\n",
    "\n",
    "Affinché le stime comunalità possano essere calcolate come descritto\n",
    "sopra, la matrice $\\textbf{R}$ non deve essere singolare. Se $\\textbf{R}$ è singolare, per la stima della comunalità $i$-esima, $\\hat{h}^2_i$, si utilizza il valore assoluto del più elevato\n",
    "coefficiente di correlazione lineare tra $Y_i$ e le altre variabili.\n",
    "\n",
    "Scelta la stima della comunalità, la matrice ridotta di\n",
    "varianze-covarianze si ottiene sostituendo le stime delle comunalità alle varianze sulla diagonale\n",
    "principale della matrice $\\textbf{S}$:\n",
    "\n",
    "$$\n",
    "\\textbf{S} - \\hat{\\boldsymbol{\\Psi}} = \n",
    "\\left[\n",
    "  \\begin{array}{ c c c c }\n",
    "    \\hat{h}^2_1 & s_{12} & \\dots & s_{1p} \\\\\n",
    "    s_{21} & \\hat{h}^2_2 & \\dots & s_{2p} \\\\\n",
    "    \\dots & \\dots &           & \\dots\\\\\n",
    "    s_{p1} &  s_{p2} & \\dots & \\hat{h}^2_p\n",
    "  \\end{array} \n",
    "\\right]\n",
    "$$ \n",
    "\n",
    "In maniera equivalente, la matrice ridotta di correlazioni si\n",
    "ottiene nel modo seguente:\n",
    "\n",
    "$$\n",
    "\\textbf{R} - \\hat{\\boldsymbol{\\Psi}} = \n",
    "\\left[\n",
    "  \\begin{array}{ c c c c }\n",
    "    \\hat{h}^2_1 & r_{12} & \\dots & r_{1p} \\\\\n",
    "    r_{21} & \\hat{h}^2_2 & \\dots & r_{2p} \\\\\n",
    "    \\dots & \\dots &           & \\dots\\\\\n",
    "    r_{p1} &  r_{p2} & \\dots & \\hat{h}^2_p\n",
    "  \\end{array} \n",
    "\\right]\n",
    "$$\n",
    "\n",
    "Facciamo ora un esempio concreto usando la matrice\n",
    "di correlazione dell'esempio precedente. Quale stima della comunalità\n",
    "$i$-esima, useremo il valore assoluto più elevato nella riga\n",
    "$i$-esima della matrice **R**. Per i dati dell'esempio, le stime delle\n",
    "comunalità sono dunque pari a $0.995$, $0.837$, $0.881$, $0.995$ e\n",
    "$0.837$.\n",
    "\n",
    "Inserendo tali valori nella diagonale principale, otteniamo la matrice\n",
    "ridotta delle correlazioni $\\textbf{R} - \\hat{\\boldsymbol{\\Psi}}$:"
   ]
  },
  {
   "cell_type": "code",
   "execution_count": 10,
   "id": "9f9719f0",
   "metadata": {
    "vscode": {
     "languageId": "r"
    }
   },
   "outputs": [
    {
     "data": {
      "text/html": [
       "<table class=\"dataframe\">\n",
       "<caption>A matrix: 5 x 5 of type dbl</caption>\n",
       "<thead>\n",
       "\t<tr><th></th><th scope=col>K</th><th scope=col>I</th><th scope=col>H</th><th scope=col>L</th><th scope=col>J</th></tr>\n",
       "</thead>\n",
       "<tbody>\n",
       "\t<tr><th scope=row>K</th><td>0.995</td><td> 0.296</td><td> 0.881</td><td>0.995</td><td>0.545</td></tr>\n",
       "\t<tr><th scope=row>I</th><td>0.296</td><td> 0.837</td><td>-0.022</td><td>0.326</td><td>0.837</td></tr>\n",
       "\t<tr><th scope=row>H</th><td>0.881</td><td>-0.022</td><td> 0.881</td><td>0.867</td><td>0.130</td></tr>\n",
       "\t<tr><th scope=row>L</th><td>0.995</td><td> 0.326</td><td> 0.867</td><td>0.995</td><td>0.544</td></tr>\n",
       "\t<tr><th scope=row>J</th><td>0.545</td><td> 0.837</td><td> 0.130</td><td>0.544</td><td>0.837</td></tr>\n",
       "</tbody>\n",
       "</table>\n"
      ],
      "text/latex": [
       "A matrix: 5 x 5 of type dbl\n",
       "\\begin{tabular}{r|lllll}\n",
       "  & K & I & H & L & J\\\\\n",
       "\\hline\n",
       "\tK & 0.995 &  0.296 &  0.881 & 0.995 & 0.545\\\\\n",
       "\tI & 0.296 &  0.837 & -0.022 & 0.326 & 0.837\\\\\n",
       "\tH & 0.881 & -0.022 &  0.881 & 0.867 & 0.130\\\\\n",
       "\tL & 0.995 &  0.326 &  0.867 & 0.995 & 0.544\\\\\n",
       "\tJ & 0.545 &  0.837 &  0.130 & 0.544 & 0.837\\\\\n",
       "\\end{tabular}\n"
      ],
      "text/markdown": [
       "\n",
       "A matrix: 5 x 5 of type dbl\n",
       "\n",
       "| <!--/--> | K | I | H | L | J |\n",
       "|---|---|---|---|---|---|\n",
       "| K | 0.995 |  0.296 |  0.881 | 0.995 | 0.545 |\n",
       "| I | 0.296 |  0.837 | -0.022 | 0.326 | 0.837 |\n",
       "| H | 0.881 | -0.022 |  0.881 | 0.867 | 0.130 |\n",
       "| L | 0.995 |  0.326 |  0.867 | 0.995 | 0.544 |\n",
       "| J | 0.545 |  0.837 |  0.130 | 0.544 | 0.837 |\n",
       "\n"
      ],
      "text/plain": [
       "  K     I      H      L     J    \n",
       "K 0.995  0.296  0.881 0.995 0.545\n",
       "I 0.296  0.837 -0.022 0.326 0.837\n",
       "H 0.881 -0.022  0.881 0.867 0.130\n",
       "L 0.995  0.326  0.867 0.995 0.544\n",
       "J 0.545  0.837  0.130 0.544 0.837"
      ]
     },
     "metadata": {},
     "output_type": "display_data"
    }
   ],
   "source": [
    "R1 <- R\n",
    "h.hat <- c(.995, .837, .881, .995, .837)\n",
    "R1[cbind(1:5,1:5)] <- h.hat\n",
    "R1"
   ]
  },
  {
   "attachments": {},
   "cell_type": "markdown",
   "id": "93dc35e3",
   "metadata": {},
   "source": [
    "Gli autovalori della matrice ridotta di correlazioni\n",
    "$\\textbf{R} - \\hat{\\boldsymbol{\\Psi}}$ sono:"
   ]
  },
  {
   "cell_type": "code",
   "execution_count": 11,
   "id": "31e3a206",
   "metadata": {
    "vscode": {
     "languageId": "r"
    }
   },
   "outputs": [
    {
     "name": "stdout",
     "output_type": "stream",
     "text": [
      "[1]  3.202  1.394  0.029  0.000 -0.080\n"
     ]
    }
   ],
   "source": [
    "ee <- eigen(R1)\n",
    "print(round(ee$values, 3))"
   ]
  },
  {
   "attachments": {},
   "cell_type": "markdown",
   "id": "e45f8428",
   "metadata": {},
   "source": [
    "La somma degli autovalori è uguale a"
   ]
  },
  {
   "cell_type": "code",
   "execution_count": 12,
   "id": "4dda47f2",
   "metadata": {
    "vscode": {
     "languageId": "r"
    }
   },
   "outputs": [
    {
     "name": "stdout",
     "output_type": "stream",
     "text": [
      "[1] 4.545\n"
     ]
    }
   ],
   "source": [
    "print(sum(ee$values))"
   ]
  },
  {
   "attachments": {},
   "cell_type": "markdown",
   "id": "24cfbe69",
   "metadata": {},
   "source": [
    "I primi due autovalori di $\\textbf{R} - \\hat{\\boldsymbol{\\Psi}}$ sono:"
   ]
  },
  {
   "cell_type": "code",
   "execution_count": 13,
   "id": "71bf540c",
   "metadata": {
    "vscode": {
     "languageId": "r"
    }
   },
   "outputs": [
    {
     "name": "stdout",
     "output_type": "stream",
     "text": [
      "      [,1]   [,2]\n",
      "[1,] 0.548 -0.177\n",
      "[2,] 0.272  0.656\n",
      "[3,] 0.431 -0.461\n",
      "[4,] 0.549 -0.159\n",
      "[5,] 0.373  0.549\n"
     ]
    }
   ],
   "source": [
    "print(round(ee$vectors[, 1:2], 3))"
   ]
  },
  {
   "attachments": {},
   "cell_type": "markdown",
   "id": "9ff00e8f",
   "metadata": {},
   "source": [
    "Moltiplicando tali valori per la radice quadrata dei rispettivi\n",
    "autovalori si ottengono le stime delle saturazioni fattoriali:"
   ]
  },
  {
   "cell_type": "code",
   "execution_count": 14,
   "id": "9da829c8",
   "metadata": {
    "vscode": {
     "languageId": "r"
    }
   },
   "outputs": [
    {
     "data": {
      "text/html": [
       "<table class=\"dataframe\">\n",
       "<caption>A matrix: 5 x 2 of type dbl</caption>\n",
       "<tbody>\n",
       "\t<tr><td>0.981</td><td>-0.209</td></tr>\n",
       "\t<tr><td>0.487</td><td> 0.774</td></tr>\n",
       "\t<tr><td>0.772</td><td>-0.544</td></tr>\n",
       "\t<tr><td>0.982</td><td>-0.187</td></tr>\n",
       "\t<tr><td>0.667</td><td> 0.648</td></tr>\n",
       "</tbody>\n",
       "</table>\n"
      ],
      "text/latex": [
       "A matrix: 5 x 2 of type dbl\n",
       "\\begin{tabular}{ll}\n",
       "\t 0.981 & -0.209\\\\\n",
       "\t 0.487 &  0.774\\\\\n",
       "\t 0.772 & -0.544\\\\\n",
       "\t 0.982 & -0.187\\\\\n",
       "\t 0.667 &  0.648\\\\\n",
       "\\end{tabular}\n"
      ],
      "text/markdown": [
       "\n",
       "A matrix: 5 x 2 of type dbl\n",
       "\n",
       "| 0.981 | -0.209 |\n",
       "| 0.487 |  0.774 |\n",
       "| 0.772 | -0.544 |\n",
       "| 0.982 | -0.187 |\n",
       "| 0.667 |  0.648 |\n",
       "\n"
      ],
      "text/plain": [
       "     [,1]  [,2]  \n",
       "[1,] 0.981 -0.209\n",
       "[2,] 0.487  0.774\n",
       "[3,] 0.772 -0.544\n",
       "[4,] 0.982 -0.187\n",
       "[5,] 0.667  0.648"
      ]
     },
     "metadata": {},
     "output_type": "display_data"
    }
   ],
   "source": [
    "round(ee$vectors[,1:2] %*% sqrt(diag(ee$values[1:2])), 3)"
   ]
  },
  {
   "attachments": {},
   "cell_type": "markdown",
   "id": "5713d0af",
   "metadata": {},
   "source": [
    "Tale risultato replica quello riportato da Rencher (2002).\n",
    "\n",
    "## Metodo dei fattori principali iterato\n",
    "\n",
    "Solitamente, per migliorare la stima della comunalità, la diagonale\n",
    "della matrice $\\textbf{S} - \\hat{\\boldsymbol{\\Psi}}$ o\n",
    "$\\textbf{R} - \\hat{\\boldsymbol{\\Psi}}$ viene ottenuta per iterazione.\n",
    "Dopo avere trovato $\\hat{\\boldsymbol{\\Lambda}}$ a partire da\n",
    "$\\textbf{S} - \\hat{\\boldsymbol{\\Psi}}$ o\n",
    "$\\textbf{R} - \\hat{\\boldsymbol{\\Psi}}$ come indicato in precedenza,\n",
    "utilizzando le stime delle saturazioni fattoriali così ottenute possiamo\n",
    "stimare le comunalità nel modo seguente:\n",
    "\n",
    "$$\\hat{h}^2_i = \\sum_{i=1}^m \\hat{\\lambda}_{ij}^2.$$ \n",
    "\n",
    "I valori di $\\hat{h}^2_i$ così trovati vengono quindi sostituiti nella diagonale della matrice\n",
    "ridotta $\\textbf{S} - \\hat{\\boldsymbol{\\Psi}}$ o\n",
    "$\\textbf{R} - \\hat{\\boldsymbol{\\Psi}}$. A partire da questa nuova\n",
    "matrice, usando il metodo descritto in precedenza, possiamo \n",
    "ottenere una nuova stima delle saturazioni fattoriali\n",
    "$\\hat{\\boldsymbol{\\Lambda}}$. Mediante questa nuova stima di\n",
    "$\\hat{\\boldsymbol{\\Lambda}}$, possiamo procedere ad una nuova stima\n",
    "delle comunalità. Tale processo continua iterativamente sino alla\n",
    "convergenza. Gli autovalori e gli autovettori della versione finale di\n",
    "$\\textbf{S} - \\hat{\\boldsymbol{\\Psi}}$ o\n",
    "$\\textbf{R} - \\hat{\\boldsymbol{\\Psi}}$ vengono infine usati per stimare\n",
    "i pesi fattoriali. Il metodo dei fattori principali iterato e il metodo\n",
    "delle componenti principali producono risultati molto simili quando $m$\n",
    "assume un piccolo valore (questo si verifica quando le correlazioni sono\n",
    "alte) e quando $p$ (il numero delle variabili) è grande.\n",
    "\n",
    "### Casi di Heywood\n",
    "\n",
    "Tra gli inconvenienti del metodo dei fattori principali iterato vi è il\n",
    "fatto che può talvolta portare a soluzioni inammissibili (quando viene\n",
    "fattorizzata la matrice **R**) caratterizzate da valori di comunalità\n",
    "maggiori di uno (*caso di Heywood*). Se $\\hat{h}^2_i > 1$ allora\n",
    "$\\hat{\\psi}_i < 0$ il che è chiaramente assurdo in quanto una varianza\n",
    "non può assumere un valore negativo. Solitamente, quando la stima di una\n",
    "comunalità è maggiore di uno, il processo iterativo viene interrotto e\n",
    "il programma riporta che non può essere trovata una soluzione.\n",
    "\n",
    "Per fare un esempio, usiamo la funzione `fa()` contenuta nel pacchetto `psych`. Tale funzione per trovare la soluzione dei fattori principali mediante il metodo iterativo."
   ]
  },
  {
   "cell_type": "code",
   "execution_count": 15,
   "id": "5996f0d5",
   "metadata": {
    "vscode": {
     "languageId": "r"
    }
   },
   "outputs": [
    {
     "name": "stderr",
     "output_type": "stream",
     "text": [
      "Warning message in fa.stats(r = r, f = f, phi = phi, n.obs = n.obs, np.obs = np.obs, :\n",
      "\"The estimated weights for the factor scores are probably incorrect.  Try a different factor score estimation method.\"\n",
      "Warning message in fac(r = r, nfactors = nfactors, n.obs = n.obs, rotate = rotate, :\n",
      "\"An ultra-Heywood case was detected.  Examine the results carefully\"\n"
     ]
    },
    {
     "data": {
      "text/plain": [
       "Factor Analysis using method =  pa\n",
       "Call: fa(r = R, nfactors = 2, rotate = \"none\", fm = \"pa\")\n",
       "Standardized loadings (pattern matrix) based upon correlation matrix\n",
       "   PA1   PA2   h2     u2 com\n",
       "K 0.98 -0.21 1.01 -0.008 1.1\n",
       "I 0.48  0.74 0.77  0.230 1.7\n",
       "H 0.78 -0.56 0.92  0.085 1.8\n",
       "L 0.98 -0.19 0.99  0.010 1.1\n",
       "J 0.69  0.69 0.95  0.049 2.0\n",
       "\n",
       "                       PA1  PA2\n",
       "SS loadings           3.22 1.41\n",
       "Proportion Var        0.64 0.28\n",
       "Cumulative Var        0.64 0.93\n",
       "Proportion Explained  0.70 0.30\n",
       "Cumulative Proportion 0.70 1.00\n",
       "\n",
       "Mean item complexity =  1.5\n",
       "Test of the hypothesis that 2 factors are sufficient.\n",
       "\n",
       "df null model =  10  with the objective function =  12\n",
       "df of  the model are 1  and the objective function was  5.6 \n",
       "\n",
       "The root mean square of the residuals (RMSR) is  0.01 \n",
       "The df corrected root mean square of the residuals is  0.04 \n",
       "\n",
       "Fit based upon off diagonal values = 1"
      ]
     },
     "metadata": {},
     "output_type": "display_data"
    }
   ],
   "source": [
    "pa <- fa(R, nfactors = 2, rotate = \"none\", fm = \"pa\")\n",
    "pa"
   ]
  },
  {
   "attachments": {},
   "cell_type": "markdown",
   "id": "957fa55f",
   "metadata": {},
   "source": [
    "Si noti che, in questo caso, le unicità assumono valori negativi, il che\n",
    "suggerisce che la soluzione è impropria.\n",
    "\n",
    "## Metodo di massima verosimiglianza\n",
    "\n",
    "Il metodo di massima verosimiglianza è indicato quando si può assumere che le variabili manifeste seguano una distribuzione normale multivariata. In queste condizioni, il metodo produce stime dei pesi fattoriali che più verosimilmente hanno prodotto le correlazioni osservate. Gli stimatori di massima verosimiglianza sono preferibili a quelli ottenuti con altri metodi, a condizione che le premesse siano pienamente realizzate. \n",
    "\n",
    "La funzione $F$ che viene minimizzata dal metodo di massima verosimiglianza rappresenta una misura di \"distanza\" tra la matrice di covarianza osservata e quella predetta dal modello. Uguagliando a zero le derivate di $F$ rispetto ai parametri del modello $\\boldsymbol{\\Lambda}$ e $\\boldsymbol{\\Psi}$ si\n",
    "ottengono le equazioni per le stime di massima verosimiglianza di\n",
    "$\\hat{\\boldsymbol{\\Lambda}}$ e $\\hat{\\boldsymbol{\\Psi}}$. Risolvendo\n",
    "tali equazioni rispetto alle incognite $\\hat{\\boldsymbol{\\Lambda}}$ e\n",
    "$\\hat{\\boldsymbol{\\Psi}}$ si ricavano le stime di massima\n",
    "verosimiglianza.\n",
    "\n",
    "Poiché non esiste una soluzione analitica per le equazioni che stimano i parametri $\\boldsymbol{\\Lambda}$ e $\\boldsymbol{\\Psi}$, si utilizzano metodi numerici iterativi per minimizzare la differenza tra la matrice di covarianze (o correlazioni) osservata e quella predetta dal modello. Tuttavia, le stime di massima verosimiglianza possono presentare problemi di convergenza e casi di Heywood, in cui le stime di comunalità sono superiori a 1. Nonostante ciò, la soluzione è indipendente dall’unità di misura delle variabili manifeste e si ottiene la stessa soluzione sia analizzando la matrice delle varianze e covarianze sia quella delle correlazioni.\n",
    "\n",
    "La stima di massima verosimiglianza si ottiene usando `factanal`. È inoltre il metodo di stima di default di `lavaan`.\n",
    "\n",
    "Consideriamo nuovamente i dati dell'esempio precedente. La stima di massima verosimiglianza dei parametri $\\boldsymbol{\\Lambda}$ e $\\boldsymbol{\\Psi}$ si ottiene nel modo seguente. i"
   ]
  },
  {
   "cell_type": "code",
   "execution_count": 16,
   "id": "6bfb0f0e",
   "metadata": {
    "lines_to_next_cell": 0,
    "vscode": {
     "languageId": "r"
    }
   },
   "outputs": [
    {
     "data": {
      "text/plain": [
       "\n",
       "Call:\n",
       "factanal(factors = 2, covmat = R, n.obs = 225, rotation = \"none\")\n",
       "\n",
       "Uniquenesses:\n",
       "    K     I     H     L     J \n",
       "0.005 0.268 0.055 0.008 0.005 \n",
       "\n",
       "Loadings:\n",
       "  Factor1 Factor2\n",
       "K  0.955  -0.289 \n",
       "I  0.528   0.673 \n",
       "H  0.720  -0.653 \n",
       "L  0.954  -0.287 \n",
       "J  0.764   0.642 \n",
       "\n",
       "               Factor1 Factor2\n",
       "SS loadings      3.203   1.457\n",
       "Proportion Var   0.641   0.291\n",
       "Cumulative Var   0.641   0.932\n",
       "\n",
       "Test of the hypothesis that 2 factors are sufficient.\n",
       "The chi square statistic is 648.09 on 1 degree of freedom.\n",
       "The p-value is 5.81e-143 "
      ]
     },
     "metadata": {},
     "output_type": "display_data"
    }
   ],
   "source": [
    "factanal(covmat=R, factors=2, rotation=\"none\", n.obs=225)"
   ]
  },
  {
   "attachments": {},
   "cell_type": "markdown",
   "id": "ffa6c4e8",
   "metadata": {},
   "source": [
    "Si noti che il risultato è molto simile a quello ottenuto in precedenza. Si noti inoltre che le stime di massima verosimiglianza consentono un test di bontà di adattamento del modello ai dati (test chi quadrato)."
   ]
  }
 ],
 "metadata": {
  "jupytext": {
   "cell_metadata_filter": "tags,-all",
   "main_language": "R",
   "notebook_metadata_filter": "-all"
  },
  "kernelspec": {
   "display_name": "R",
   "language": "R",
   "name": "ir"
  },
  "language_info": {
   "codemirror_mode": "r",
   "file_extension": ".r",
   "mimetype": "text/x-r-source",
   "name": "R",
   "pygments_lexer": "r",
   "version": "4.4.1"
  }
 },
 "nbformat": 4,
 "nbformat_minor": 5
}
