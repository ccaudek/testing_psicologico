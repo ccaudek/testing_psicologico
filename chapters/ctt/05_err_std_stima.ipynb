{
 "cells": [
  {
   "attachments": {},
   "cell_type": "markdown",
   "id": "4e4a0f08",
   "metadata": {},
   "source": [
    "# La stima del punteggio vero {#sec-err-std-stima}"
   ]
  },
  {
   "cell_type": "markdown",
   "id": "2950da6e",
   "metadata": {},
   "source": [
    "::: {.chapterintro data-latex=\"\"}\n",
    "Nella Teoria Classica dei Test, la stima del punteggio vero con il metodo della regressione di Kelley è una correzione del punteggio osservato, basata sull'affidabilità del test, per ottenere una stima più accurata del punteggio \"vero\" di un individuo. La formula di Kelley riduce la componente di errore nel punteggio osservato attenuando le estremità, poiché punteggi molto alti o bassi tendono ad avvicinarsi alla media. La stima è calcolata come una media ponderata tra il punteggio osservato e la media dei punteggi, pesata in base all'affidabilità del test.\n",
    ":::"
   ]
  },
  {
   "cell_type": "markdown",
   "id": "7ec9364c",
   "metadata": {},
   "source": [
    "**Prerequisiti**\n",
    "\n",
    "**Concetti e Competenze Chiave**\n",
    "\n",
    "**Preparazione del Notebook**"
   ]
  },
  {
   "cell_type": "code",
   "execution_count": 1,
   "id": "1da3dbca",
   "metadata": {
    "tags": [
     "remove_cell"
    ],
    "vscode": {
     "languageId": "r"
    }
   },
   "outputs": [],
   "source": [
    "# Carica il file _common.R per impostazioni di pacchetti e opzioni\n",
    "here::here(\"code\", \"_common.R\") |> source()\n",
    "\n",
    "# Carica pacchetti aggiuntivi\n",
    "pacman::p_load(psychometric)"
   ]
  },
  {
   "attachments": {},
   "cell_type": "markdown",
   "id": "3b9ad53a",
   "metadata": {},
   "source": [
    "## Introduzione\n",
    "\n",
    "Uno dei principali scopi della valutazione psicologica è stimare il punteggio vero del soggetto. Il punteggio osservato $X$ differisce dal punteggio vero $T$ a causa dell'errore di misurazione: $X = T + E$. Ora poniamoci l'obiettivo di utilizzare i concetti della Teoria Classica per stimare il punteggio vero di un soggetto, utilizzando il suo punteggio osservato e l'affidabilità del test. Questa stima risulta particolarmente utile quando è necessario costruire un intervallo di confidenza per il punteggio vero del soggetto.\n",
    "\n",
    "Per costruire l'intervallo di confidenza del vero punteggio, sono necessarie due misurazioni:\n",
    "\n",
    "- Una stima del vero punteggio.\n",
    "- L'errore standard della stima (ossia, una stima della deviazione standard della distribuzione delle stime del punteggio vero che si otterrebbero se il test venisse somministrato infinite volte nelle stesse condizioni).\n",
    "\n",
    "Cominciamo affrontando il problema della stima del vero punteggio.\n",
    "\n",
    "## Il paradosso di Kelley\n",
    "\n",
    "Negli anni '20, Kelly ha dimostrato come sia possibile stimare il punteggio vero del rispondente utilizzando un modello di regressione. La formula di Kelley si fonda sull'equivalenza algebrica che lega l'attendibilità al quadrato del coefficiente di correlazione tra i punteggi osservati e quelli veri. Pertanto, la stima del punteggio vero di un rispondente può essere calcolata nel seguente modo:\n",
    "\n",
    "$$\n",
    "\\begin{equation}\n",
    "\\hat{T} = \\mu_x + \\rho  (X - \\mu_x),\n",
    "\\end{equation}\n",
    "$$ {#eq-kelly}\n",
    "\n",
    "dove $X$ rappresenta il punteggio osservato, $\\mu_x$ è la media dei punteggi ottenuti da tutti i partecipanti nel campione, e $\\rho$ è l'attendibilità del test.\n",
    "\n",
    "Quando l'attendibilità è perfetta ($\\rho = 1$), il punteggio vero coincide con il punteggio osservato. Nel caso di attendibilità nulla (dove tutta la varianza è attribuibile all'errore di misurazione), la stima più accurata del punteggio vero è semplicemente la media del campione. Per valori di $\\rho$ compresi tra 0 e 1, la stima del punteggio vero si discosta dal punteggio osservato in direzione della media campionaria. In questo modo, la stima del punteggio vero illustra il concetto di regressione verso la media dei punteggi osservati, considerando l'attendibilità del test.\n",
    "\n",
    "La formula del punteggio vero può essere interpretata nel modo seguente: per stimare il vero punteggio di un individuo, si parte dalla media della distribuzione di tutti i partecipanti e si procede in direzione del punteggio osservato. Tuttavia, il punteggio osservato non viene raggiunto completamente; l'entità dello spostamento è proporzionale all'attendibilità del test. Ciò implica che la stima del punteggio vero di un individuo, a seconda del valore di $\\rho$, tiene conto anche della sua posizione rispetto alla media del gruppo. Se il soggetto si trova al di sotto della media, la stima del punteggio vero sarà maggiorata e viceversa. Questo fenomeno è noto come il \"paradosso di Kelley\".\n",
    "\n",
    "È cruciale mettere in evidenza una discrepanza tra la formula di Kelley e l'intuizione comune che suggerisce il punteggio osservato come una stima accurata del vero punteggio (cioè $\\hat{T} = X$). Tuttavia, questo punto di vista è valido solo quando la misura è perfettamente attendibile ($\\rho = 1$). Al contrario, quando $\\rho = 0$, la formula di Kelley suggerisce di utilizzare la media dei punteggi osservati come stima del vero punteggio, implicando che il punteggio osservato non rifletta necessariamente il vero punteggio, ma solo l'errore di misurazione.\n",
    "\n",
    "In pratica, è estremamente improbabile che $\\rho$ sia esattamente uguale a zero. Invece, con valori di $\\rho$ compresi tra 0 e 1, la stima del punteggio vero si troverà in una posizione intermedia tra il punteggio osservato e la media della popolazione. Per una comprensione più dettagliata di questo concetto, possiamo fare riferimento a Kelley (1947), il quale ha osservato che:\n",
    "\n",
    "> This is an interesting equation in that it expresses the estimate of true ability as the weighted sum of two separate estimates, -- one based upon the individual's observed score, $X_1$ ($X$ nella notazione corrente) and the other based upon the mean of the group to which he belongs, $M_1$ ($\\mu_x$ nella notazione corrente). If the test is highly reliable, much weight is given to the test score and little to the group mean, and vice versa."
   ]
  },
  {
   "attachments": {},
   "cell_type": "markdown",
   "id": "07f0c74a",
   "metadata": {},
   "source": [
    "Per chiarire l'@eq-kelly e la sua derivazione in termini di predizione del punteggio vero a partire dal punteggio osservato, iniziamo esaminando il modello di base di regressione lineare semplice. Questo modello stabilisce una relazione diretta tra il punteggio osservato $X$ e il punteggio vero $T$, una relazione che inizialmente abbiamo descritto con la formula $X = 0 + 1 \\cdot T + E$. Il nostro interesse specifico qui, però, si sposta verso la predizione del punteggio vero $T$ utilizzando il punteggio osservato $X$, attraverso un modello di regressione. La formula per questa predizione assume la forma:\n",
    "\n",
    "$$\n",
    "T = \\alpha + \\beta X + \\varepsilon.\n",
    "$$\n",
    "\n",
    "Riorganizzando le variabili in termini di deviazioni dalla loro media ($x = X - \\bar{X}$ e $\\tau = T - \\mathbb{E}(T)$), e considerando l'intercetta $\\alpha$ come 0, il modello si semplifica in $\\hat{\\tau} = \\beta x$, dove $\\hat{\\tau}$ rappresenta la nostra stima del punteggio vero come deviazione dalla media. La questione centrale diventa quindi il calcolo di $\\beta$, che è la pendenza della retta di regressione nel nostro modello semplificato.\n",
    "\n",
    "Il valore di $\\beta$ viene definito come $\\beta = \\frac{\\sigma_{\\tau x}}{\\sigma^2_x}$, che ci permette di esprimere il modello come:\n",
    "\n",
    "$$\n",
    "\\hat{\\tau} = \\frac{\\sigma_{\\tau x}}{\\sigma^2_x} x.\n",
    "$$\n",
    "\n",
    "Introducendo la correlazione tra $x$ (o $X$) e $\\tau$ (o $T$), denotata $\\rho_{\\tau x}$, e sostituendo la covarianza con il prodotto della correlazione per le deviazioni standard dei punteggi, riscriviamo l'equazione come:\n",
    "\n",
    "$$\n",
    "\\hat{\\tau} = \\rho_{\\tau x}\\frac{\\sigma_{\\tau}}{\\sigma_x} x.\n",
    "$$\n",
    "\n",
    "Questo ci porta a considerare la definizione di attendibilità, secondo cui la varianza del punteggio vero può essere espressa come $\\sigma^2_{\\tau} = \\sigma^2_x \\rho_{xx^\\prime}$. La stima del punteggio vero, in termini di deviazioni dalla media, diventa quindi una funzione del coefficiente di attendibilità e della deviazione del punteggio osservato dalla sua media:\n",
    "\n",
    "$$\n",
    "\\hat{\\tau} = \\rho_{\\tau x} \\sqrt{\\rho_{xx^\\prime}} x.\n",
    "$$\n",
    "\n",
    "Avendo dimostrato che $\\rho^2_{\\tau x} = \\rho_{xx^\\prime}$, possiamo ulteriormente semplificare la nostra stima del punteggio vero come:\n",
    "\n",
    "$$\n",
    "\\hat{\\tau} = \\rho_{xx^\\prime} x.\n",
    "$$\n",
    "\n",
    "Questo ci indica che la stima del punteggio vero (in termini di deviazioni dalla media) si ottiene moltiplicando il punteggio osservato, anch'esso espresso come deviazione dalla media, per il coefficiente di attendibilità.\n",
    "\n",
    "Per ritornare alla formula in termini di punteggi grezzi, aggiungiamo la media dei punteggi osservati $\\bar{X}$ alla nostra equazione, ottenendo così la stima del punteggio vero grezzo $\\hat{T}$:\n",
    "\n",
    "$$\n",
    "\\hat{T} = \\rho_{XX^\\prime} (X - \\bar{X}) + \\bar{X}.\n",
    "$$\n",
    "\n",
    "Espandendo e riorganizzando l'equazione, arriviamo a una forma che chiarisce la relazione tra la media dei punteggi osservati, il coefficiente di attendibilità, e il punteggio osservato grezzo:\n",
    "\n",
    "$$\n",
    "\\hat{T} = \\bar{X} + \\rho_{XX^\\prime} (X - \\bar{X}).\n",
    "$$\n",
    "\n",
    "Questa equazione finale dimostra come la stima del punteggio vero grezzo possa essere calcolata regolando il punteggio osservato per la media dei punteggi e il coefficiente di attendibilità. \n",
    "\n",
    "Nel contesto di dati campionari, dove il coefficiente di attendibilità popolazionale $\\rho_{XX^\\prime}$ viene sostituito con il suo corrispettivo campionario $r_{XX^\\prime}$, la formula diventa:\n",
    "\n",
    "$$\n",
    "\\hat{T} = \\bar{X} + r_{XX^\\prime} (X - \\bar{X}),\n",
    "$$\n",
    "\n",
    "offrendo un metodo pratico per stimare il punteggio vero di un individuo a partire dal suo punteggio osservato, con l'aggiunta della media dei punteggi osservati e il coefficiente di attendibilità campionario.\n",
    "\n",
    "**Esercizio.** Posto un coefficiente di attendibilità pari a 0.80 e una media del test pari a $\\bar{X} = 100$, si trovi una stima del punteggio vero per un rispondente con un punteggio osservato uguale a $X$ = 115.\n",
    "\n",
    "La stima del punteggio vero $\\hat{T}$ è uguale a \n",
    "\n",
    "$$\n",
    "\\begin{equation}\n",
    "\\begin{aligned}\n",
    "\\hat{T} &= \\bar{X} + r_{XX^\\prime}  (X - \\bar{X})\\notag\\\\\n",
    "&= 100 + 0.80 \\cdot (115 - 100) = 112.\n",
    "\\end{aligned}\n",
    "\\end{equation}\n",
    "$$\n",
    "\n",
    "In alternativa, possiamo usare la funzione `Est.true` del pacchetto `psychometric`."
   ]
  },
  {
   "cell_type": "code",
   "execution_count": 3,
   "id": "d3209a53",
   "metadata": {
    "lines_to_next_cell": 0,
    "vscode": {
     "languageId": "r"
    }
   },
   "outputs": [
    {
     "data": {
      "text/html": [
       "112"
      ],
      "text/latex": [
       "112"
      ],
      "text/markdown": [
       "112"
      ],
      "text/plain": [
       "[1] 112"
      ]
     },
     "metadata": {},
     "output_type": "display_data"
    }
   ],
   "source": [
    "Est.true(115, 100, .8)"
   ]
  },
  {
   "attachments": {},
   "cell_type": "markdown",
   "id": "0b4bd66a",
   "metadata": {},
   "source": [
    "## L'Errore Standard della Stima \n",
    "\n",
    "Nell'ambito del modello di regressione di Kelley, uno strumento fondamentale per valutare la precisione delle stime del punteggio vero ottenute dai punteggi osservati è l'*errore standard della stima*. Questo indice quantifica quanto le nostre stime del punteggio vero possano variare se ripetessimo il test più volte sotto le stesse condizioni. Denotiamo l'errore standard della stima con $\\sigma_{\\hat{T}}$, dove $\\hat{T}$ rappresenta la stima del valore vero.\n",
    "\n",
    "L'errore standard della stima è cruciale per comprendere quanto sia affidabile la stima del punteggio vero. Un errore standard più piccolo indica una stima più precisa. Matematicamente, l'errore standard della stima si calcola come:\n",
    "\n",
    "$$\n",
    "\\sigma_{\\hat{T}} = \\sigma_X \\sqrt{\\rho_{XX^\\prime} (1 -\\rho_{XX^\\prime})},\n",
    "$$ {#eq-std-err-estimate}\n",
    "\n",
    "dove $\\sigma_X$ è la deviazione standard dei punteggi osservati, e $\\rho_{XX^\\prime}$ rappresenta il coefficiente di correlazione tra i punteggi osservati e i punteggi veri. Questa formula assume una distribuzione normale dei punteggi e una relazione lineare tra i punteggi osservati e i punteggi veri.\n",
    "\n",
    "Per dati campionari, utilizziamo una formula leggermente modificata per calcolare l'errore standard della stima:\n",
    "\n",
    "$$\n",
    "s_{\\hat{T}} = s_X \\sqrt{r_{XX^\\prime} (1-r_{XX^\\prime})},\n",
    "$$\n",
    "\n",
    "qui $s_X$ indica la deviazione standard campionaria, e $r_{XX^\\prime}$ è il coefficiente di affidabilità campionario.\n",
    "\n",
    "## Derivazione dell'Errore Standard della Stima\n",
    "\n",
    "Per derivare l'@eq-std-err-estimate, iniziamo con la definizione dell'errore $\\varepsilon$, che rappresenta la discrepanza tra il punteggio reale $T$ e il punteggio stimato $\\hat{T}$, come illustrato nella formula:\n",
    "\n",
    "$$\n",
    "\\varepsilon = T - \\hat{T}.\n",
    "$$\n",
    "\n",
    "Si sottolinea la distinzione tra l'errore di misurazione, indicato con $E = X - T$ (dove $E$ quantifica l'errore di misurazione, ovvero la differenza tra il punteggio osservato $X$ e il punteggio reale $T$), e l'errore $\\varepsilon = T - \\hat{T}$ (che esprime la discrepanza tra il punteggio reale $T$ e la sua stima $\\hat{T}$).\n",
    "\n",
    "Adottando la formula $\\hat{T} = \\bar{X} + \\rho_{XX^\\prime} (X - \\bar{X})$ per esprimere $\\hat{T}$, si può calcolare la varianza di $\\varepsilon$ come segue:\n",
    "\n",
    "$$\n",
    "\\begin{aligned}\n",
    "\\mathbb{V}(\\varepsilon) &=  \\mathbb{V}(T - \\hat{T}) \\\\\n",
    "&= \\mathbb{V}(T - \\bar{X} - \\rho_{XX^\\prime} X + \\rho_{XX^\\prime}\\bar{X}).\n",
    "\\end{aligned}\n",
    "$$\n",
    "\n",
    "Dato che l'aggiunta di una costante non altera la varianza di una variabile aleatoria, possiamo semplificare l'espressione a:\n",
    "\n",
    "$$\n",
    "\\mathbb{V}(\\varepsilon) = \\mathbb{V}(T - \\rho_{XX^\\prime}X).\n",
    "$$\n",
    "\n",
    "Sfruttando la regola della varianza per la somma di variabili aleatorie, incluso il caso in cui una variabile è moltiplicata per una costante, arriviamo a:\n",
    "\n",
    "$$\n",
    "\\begin{aligned}\n",
    "\\mathbb{V}(\\varepsilon) &= \\mathbb{V}(T) + \\rho_{XX^\\prime}^2 \\mathbb{V}(X) - 2 \\rho_{XX^\\prime} \\mbox{Cov}(X,T) \\\\\n",
    "&= \\sigma^2_T + \\rho_{XX^\\prime}^2 \\sigma^2_X - 2 \\rho_{XX^\\prime} \\sigma_{XT}.\n",
    "\\end{aligned}\n",
    "$$\n",
    "\n",
    "Con $\\sigma_{XT} = \\sigma^2_T$, possiamo ridurre ulteriormente l'espressione a:\n",
    "\n",
    "$$\n",
    "\\sigma^2_{\\varepsilon} = \\sigma^2_T + \\left(\\frac{\\sigma_T^2}{\\sigma_X^2}\\right)^2 \\sigma^2_X - 2 \\frac{\\sigma_T^2}{\\sigma_X^2} \\sigma_{XT}.\n",
    "$$\n",
    "\n",
    "Semplificando, otteniamo:\n",
    "\n",
    "$$\n",
    "\\begin{aligned}\n",
    "\\sigma^2_{\\varepsilon} &= \\sigma^2_T + \\frac{\\sigma_T^4}{\\sigma_X^4} \\sigma^2_X - 2 \\frac{\\sigma_T^2}{\\sigma_X^2} \\sigma_{XT} \\\\\n",
    "&= \\sigma^2_T \\left(1 + \\frac{\\sigma_T^2}{\\sigma_X^2} - 2 \\frac{\\sigma_{XT}}{\\sigma_X^2}\\right).\n",
    "\\end{aligned}\n",
    "$$\n",
    "\n",
    "Infine, con $\\sigma_{XT} = \\sigma^2_T$, semplifichiamo a:\n",
    "\n",
    "$$\n",
    "\\begin{aligned}\n",
    "\\sigma^2_{\\varepsilon} &= \\sigma^2_T \\left(1 - \\frac{\\sigma_{T}^2}{\\sigma_X^2}\\right).\n",
    "\\end{aligned}\n",
    "$$\n",
    "\n",
    "Questo ci porta alla formula dell'errore standard della stima $\\sigma_{\\varepsilon}$:\n",
    "\n",
    "$$\n",
    "\\begin{aligned}\n",
    "\\sigma_{\\varepsilon} &= \\sigma_T \\sqrt{1 - \\frac{\\sigma^2_T}{\\sigma^2_X}} \\\\\n",
    "&= \\sigma_T \\sqrt{\\frac{\\sigma^2_X - \\sigma^2_T}{\\sigma^2_X}} \\\\\n",
    "&= \\frac{\\sigma_T}{\\sigma_X} \\sqrt{\\sigma^2_X - \\sigma^2_T}.\n",
    "\\end{aligned}\n",
    "$$\n",
    "\n",
    "Considerando che $\\sigma^2_X = \\sigma^2_T + \\sigma^2_E$, l'errore standard di stima diventa:\n",
    "\n",
    "$$\n",
    "\\begin{aligned}\n",
    "\\sigma_{\\varepsilon} &= \\frac{\\sigma_T}{\\sigma_X} \\sqrt{\\sigma^2_E } \\\\\n",
    "&= \\frac{\\sigma_T}{\\sigma_X} \\sigma_E \\\\\n",
    "&= \\sqrt{\\rho_{XX^\\prime}} \\sigma_E.\n",
    "\\end{aligned}\n",
    "$$\n",
    "\n",
    "Dato che l'errore standard di misurazione è definito come $\\sigma_E = \\sigma_X \\sqrt{1 - \\rho_{XX^\\prime}}$, possiamo concludere che:\n",
    "\n",
    "$$\n",
    "\\begin{aligned}\n",
    "\\sigma_{\\varepsilon} &= \\sqrt{\\rho_{XX^\\prime}} \\sigma_E \\\\\n",
    "&= \\sqrt{\\rho_{XX^\\prime}} \\sigma_X \\sqrt{1-\\rho_{XX^\\prime}} \\\\\n",
    "&= \\sigma_X \\sqrt{\\rho_{XX^\\prime} (1 - \\rho_{XX^\\prime})}.\n",
    "\\end{aligned}\n",
    "$$\n",
    "\n",
    "Quest'ultima espressione dimostra come l'errore standard della stima sia determinato dalla deviazione standard dei punteggi osservati, modulata dal coefficiente di correlazione tra i punteggi osservati e i punteggi veri.\n",
    "\n",
    "## Intervallo di confidenza per il punteggio vero"
   ]
  },
  {
   "attachments": {},
   "cell_type": "markdown",
   "id": "ddaa9bbc",
   "metadata": {},
   "source": [
    "Siamo ora finalmente nelle condizioni di potere calcolare l'intervallo di confidenza per il punteggio vero. Conoscendo l'errore standard della stima $\\sigma_{\\hat{T}}$,  l'intervallo di confidenza per il punteggio vero è dato da:\n",
    "\n",
    "$$\n",
    "\\hat{T} \\pm z  \\sigma_{\\hat{T}},\n",
    "$$ \n",
    "\n",
    "laddove $\\hat{T}$ è la stima del punteggio vero e $z$ è il quantile della normale standardizzata al livello di probabilità desiderato. Se il campione è piccolo (minore di\n",
    "30) è opportuno usare $t$ anziché $z$.\n",
    "\n",
    "### Interpretazione\n",
    "\n",
    "Notiamo che l'intervallo $\\hat{T} \\pm z \\sigma_{\\hat{T}}$ è centrato sulla\n",
    "stima puntuale del valore vero e la sua ampiezza dipende sia dal livello\n",
    "di confidenza desiderato (rappresentato dal quantile $z_{\\frac{\\alpha}{2}}$),\n",
    "sia dal grado di precisione dello stimatore, misurato dall'errore standard\n",
    "della stima, $\\sigma_{\\hat{T}} = \\sigma_X \\sqrt{\\rho_{XX^\\prime} (1 -\\rho_{XX^\\prime})}$.\n",
    "È importante notare che l'errore standard della stima diventa sempre più grande\n",
    "man mano che diminuisce l'attendibilità $\\rho_{XX^\\prime}$ del test.\n",
    "\n",
    "L'intervallo di confidenza indica quanto l'imprecisione della misura influisce sull'interpretazione dei dati. Più l'intervallo di confidenza è ampio, maggiore è l'incertezza nella valutazione dei risultati. \n",
    "\n",
    "**Esercizio.** @charter1996revisiting ha esaminato l'effetto della variazione dell'attendibilità del test sull'ampiezza dell'intervallo di confidenza per il punteggio vero. Utilizzando come esempio i punteggi di QI ($\\mu$ = 100, $\\sigma$ = 15), Charter ha immaginato di variare il coefficiente di attendibilità del test utilizzato per la misurazione del QI. I valori presi in considerazione sono 0.55, 0.65, 0.75, 0.85 e 0.95. Ad esempio, supponiamo di avere un punteggio osservato pari a QI = 120 e un coefficiente di attendibilità del test $\\rho_{xx^\\prime}$ pari a 0.65. In tali circostanze, la stima del punteggio vero è pari a\n",
    "\n",
    "$$\n",
    "\\begin{equation}\n",
    "\\begin{aligned}\n",
    "\\hat{T} &= \\bar{X} + r_{XX^\\prime}  (X - \\bar{X}) \\notag\\\\\n",
    "&= 100 + 0.65 (120 - 100)\\notag\\\\\n",
    "&= 113.\\notag\n",
    "\\end{aligned}\n",
    "\\end{equation}\n",
    "$$\n",
    "\n",
    "L'errore standard della stima è uguale a\n",
    "\n",
    "$$\n",
    "\\begin{equation}\n",
    "\\begin{aligned}\n",
    "\\sigma_{\\hat{T}} &= \\sigma_{X} \\sqrt{r_{XX^\\prime} (1 - r_{XX^\\prime})} \\notag\\\\\n",
    "&= 15 \\sqrt{0.65 (1 - 0.65)}\\notag\\\\\n",
    "&= 7.15.\\notag\n",
    "\\end{aligned}\n",
    "\\end{equation}\n",
    "$$\n",
    "\n",
    "L'intervallo di confidenza al 95% per la stima del punteggio vero diventa pertanto uguale a \n",
    "\n",
    "$$\n",
    "113 \\pm 1.96 \\cdot 7.15 = [98.98, 127.02].\n",
    "$$ \n",
    "\n",
    "Si noti che si può calcolare l'errore standard della stima con la funzione `SE.Est()` del pacchetto `psychometric`."
   ]
  },
  {
   "cell_type": "code",
   "execution_count": 4,
   "id": "1a776a8a",
   "metadata": {
    "vscode": {
     "languageId": "r"
    }
   },
   "outputs": [
    {
     "data": {
      "text/html": [
       "7.15454401062709"
      ],
      "text/latex": [
       "7.15454401062709"
      ],
      "text/markdown": [
       "7.15454401062709"
      ],
      "text/plain": [
       "[1] 7.154544"
      ]
     },
     "metadata": {},
     "output_type": "display_data"
    }
   ],
   "source": [
    "SE.Est(15, .65)"
   ]
  },
  {
   "attachments": {},
   "cell_type": "markdown",
   "id": "0e710c56",
   "metadata": {},
   "source": [
    "\\\n",
    "Inoltre, la funzione `CI.tscore()` restituisce sia la stima del punteggio vero sia l'intervallo di fiducia al livello desiderato di significatività. "
   ]
  },
  {
   "cell_type": "code",
   "execution_count": 5,
   "id": "12b3c17c",
   "metadata": {
    "vscode": {
     "languageId": "r"
    }
   },
   "outputs": [
    {
     "data": {
      "text/html": [
       "<table class=\"dataframe\">\n",
       "<caption>A data.frame: 1 x 4</caption>\n",
       "<thead>\n",
       "\t<tr><th scope=col>SE.Est</th><th scope=col>LCL</th><th scope=col>T.Score</th><th scope=col>UCL</th></tr>\n",
       "\t<tr><th scope=col>&lt;dbl&gt;</th><th scope=col>&lt;dbl&gt;</th><th scope=col>&lt;dbl&gt;</th><th scope=col>&lt;dbl&gt;</th></tr>\n",
       "</thead>\n",
       "<tbody>\n",
       "\t<tr><td>7.154544</td><td>98.97735</td><td>113</td><td>127.0226</td></tr>\n",
       "</tbody>\n",
       "</table>\n"
      ],
      "text/latex": [
       "A data.frame: 1 x 4\n",
       "\\begin{tabular}{llll}\n",
       " SE.Est & LCL & T.Score & UCL\\\\\n",
       " <dbl> & <dbl> & <dbl> & <dbl>\\\\\n",
       "\\hline\n",
       "\t 7.154544 & 98.97735 & 113 & 127.0226\\\\\n",
       "\\end{tabular}\n"
      ],
      "text/markdown": [
       "\n",
       "A data.frame: 1 x 4\n",
       "\n",
       "| SE.Est &lt;dbl&gt; | LCL &lt;dbl&gt; | T.Score &lt;dbl&gt; | UCL &lt;dbl&gt; |\n",
       "|---|---|---|---|\n",
       "| 7.154544 | 98.97735 | 113 | 127.0226 |\n",
       "\n"
      ],
      "text/plain": [
       "  SE.Est   LCL      T.Score UCL     \n",
       "1 7.154544 98.97735 113     127.0226"
      ]
     },
     "metadata": {},
     "output_type": "display_data"
    }
   ],
   "source": [
    "CI.tscore(120, 100, 15, 0.65, level = 0.95)"
   ]
  },
  {
   "attachments": {},
   "cell_type": "markdown",
   "id": "d0c5923a",
   "metadata": {},
   "source": [
    "<!-- Lo stesso risultato si ottiene con la funzione `CI.tscore()` del -->\n",
    "<!-- pacchetto `psychometric` che richiede i seguenti argomenti: il punteggio -->\n",
    "<!-- osservato, la media del campione, la deviazione standard del campione e -->\n",
    "<!-- l'attendibilità del test: -->\n",
    "\n",
    "<!-- ```{r} -->\n",
    "<!-- library(\"psychometric\") -->\n",
    "<!-- CI.tscore(120, 100, 15, 0.65) -->\n",
    "<!-- ``` -->\n",
    "\n",
    "## Cut-off\n",
    "\n",
    "Gli intervalli di confidenza per il punteggio vero possono essere utilizzati per confrontare i limiti dell'intervallo con un cut-off. Ci sono tre possibili esiti: il limite inferiore dell'intervallo di confidenza è maggiore del cut-off, il limite superiore dell'intervallo è minore del cut-off, o il valore del cut-off è compreso all'interno dell'intervallo. Nel primo caso, lo psicologo può affermare, con un grado di certezza $1-\\alpha$, che il valore vero del rispondente è superiore al cut-off. Nel secondo caso, lo psicologo può affermare, con un grado di certezza $1-\\alpha$, che il valore vero del rispondente è inferiore al cut-off. Nel terzo caso, lo psicologo non può concludere né che il valore vero sia inferiore né che sia superiore al cut-off, con un certo grado di incertezza.\n",
    "\n",
    ":::{.exercise}\n",
    "Si considerino i punteggi del QI, per cui $\\bar{X}$ = 100 e $s_X$ = 15.\n",
    "Sia l'attendibilità del test $\\rho_{XX^\\prime}$ = 0.95. Supponiamo che il\n",
    "rispondente abbia un QI = 130. Poniamo che il cut-off per ammettere il\n",
    "rispondente ad un corso avanzato sia 120. Ci sono tre alternative: il\n",
    "valore vero del rispondente è sicuramente maggiore di 120; il valore\n",
    "vero del rispondente è sicuramente inferiore di 120; le evidenze\n",
    "disponibili ci lasciano in dubbio se il punteggio vero sia maggiore o\n",
    "minore di 120. Svolgiamo i calcoli per trovare l'intervallo di\n",
    "confidenza al livello di certezza del 95%:"
   ]
  },
  {
   "cell_type": "code",
   "execution_count": 6,
   "id": "c03c05da",
   "metadata": {
    "vscode": {
     "languageId": "r"
    }
   },
   "outputs": [
    {
     "data": {
      "text/html": [
       "128.5"
      ],
      "text/latex": [
       "128.5"
      ],
      "text/markdown": [
       "128.5"
      ],
      "text/plain": [
       "[1] 128.5"
      ]
     },
     "metadata": {},
     "output_type": "display_data"
    },
    {
     "data": {
      "text/html": [
       "3.26917420765551"
      ],
      "text/latex": [
       "3.26917420765551"
      ],
      "text/markdown": [
       "3.26917420765551"
      ],
      "text/plain": [
       "[1] 3.269174"
      ]
     },
     "metadata": {},
     "output_type": "display_data"
    },
    {
     "data": {
      "text/html": [
       "<style>\n",
       ".list-inline {list-style: none; margin:0; padding: 0}\n",
       ".list-inline>li {display: inline-block}\n",
       ".list-inline>li:not(:last-child)::after {content: \"\\00b7\"; padding: 0 .5ex}\n",
       "</style>\n",
       "<ol class=list-inline><li>122.092536293808</li><li>134.907463706192</li></ol>\n"
      ],
      "text/latex": [
       "\\begin{enumerate*}\n",
       "\\item 122.092536293808\n",
       "\\item 134.907463706192\n",
       "\\end{enumerate*}\n"
      ],
      "text/markdown": [
       "1. 122.092536293808\n",
       "2. 134.907463706192\n",
       "\n",
       "\n"
      ],
      "text/plain": [
       "[1] 122.0925 134.9075"
      ]
     },
     "metadata": {},
     "output_type": "display_data"
    }
   ],
   "source": [
    "xm <- 100\n",
    "sx <- 15\n",
    "rho <- .95\n",
    "x <- 130\n",
    "t.hat <- xm + rho * (x - xm)\n",
    "t.hat\n",
    "se.t <- sx * sqrt(rho * (1 - rho))\n",
    "se.t\n",
    "t.hat + c(1, -1) * qnorm(.025, 0, 1) * se.t"
   ]
  },
  {
   "attachments": {},
   "cell_type": "markdown",
   "id": "d36c04f3",
   "metadata": {},
   "source": [
    "Dato che il limite inferiore dell'intervallo di confidenza è maggiore\n",
    "del cut-off, lo psicologo conclude che il punteggio vero del rispondente\n",
    "è maggiore di 120. Quindi, raccomanda che il rispondente sia ammesso al\n",
    "corso avanzato.\n",
    "\n",
    "Continuando con l'esempio precedente, supponiamo che l'attendibilità\n",
    "del test abbia un valore simile a quello che solitamente si ottiene\n",
    "empiricamente, ovvero 0.80."
   ]
  },
  {
   "cell_type": "code",
   "execution_count": 7,
   "id": "7ef0ca2b",
   "metadata": {
    "vscode": {
     "languageId": "r"
    }
   },
   "outputs": [
    {
     "data": {
      "text/html": [
       "124"
      ],
      "text/latex": [
       "124"
      ],
      "text/markdown": [
       "124"
      ],
      "text/plain": [
       "[1] 124"
      ]
     },
     "metadata": {},
     "output_type": "display_data"
    },
    {
     "data": {
      "text/html": [
       "6"
      ],
      "text/latex": [
       "6"
      ],
      "text/markdown": [
       "6"
      ],
      "text/plain": [
       "[1] 6"
      ]
     },
     "metadata": {},
     "output_type": "display_data"
    },
    {
     "data": {
      "text/html": [
       "<style>\n",
       ".list-inline {list-style: none; margin:0; padding: 0}\n",
       ".list-inline>li {display: inline-block}\n",
       ".list-inline>li:not(:last-child)::after {content: \"\\00b7\"; padding: 0 .5ex}\n",
       "</style>\n",
       "<ol class=list-inline><li>112.24021609276</li><li>135.75978390724</li></ol>\n"
      ],
      "text/latex": [
       "\\begin{enumerate*}\n",
       "\\item 112.24021609276\n",
       "\\item 135.75978390724\n",
       "\\end{enumerate*}\n"
      ],
      "text/markdown": [
       "1. 112.24021609276\n",
       "2. 135.75978390724\n",
       "\n",
       "\n"
      ],
      "text/plain": [
       "[1] 112.2402 135.7598"
      ]
     },
     "metadata": {},
     "output_type": "display_data"
    }
   ],
   "source": [
    "xm <- 100\n",
    "sx <- 15\n",
    "rho <- .8\n",
    "x <- 130\n",
    "t.hat <- xm + rho * (x - xm)\n",
    "t.hat\n",
    "se.t <- sx * sqrt(rho * (1 - rho))\n",
    "se.t\n",
    "t.hat + c(1, -1) * qnorm(.025, 0, 1) * se.t"
   ]
  },
  {
   "attachments": {},
   "cell_type": "markdown",
   "id": "b496eb7d",
   "metadata": {},
   "source": [
    "In questo secondo esempio, l'intervallo di confidenza al 95% è $[112.24,\n",
    "135.76]$ e contiene il valore del cut-off. Dunque, la decisione dello\n",
    "psicologo è che non vi sono evidenze sufficienti che il vero valore del\n",
    "rispondente sia superiore al cut-off. Si noti come la diminuzione\n",
    "dell'attendibilità del test porta all'aumento delle dimensioni\n",
    "dell'intervallo di confidenza.\n",
    "\n",
    "## Riflessioni Conclusive\n",
    "\n",
    "La teoria classica del punteggio vero si basa su un modello additivo, in cui il punteggio osservato $X$ è considerato come la somma di due componenti: il punteggio vero stabile $T$ e il punteggio di errore casuale $E$. Si suppone che i punteggi di errore all'interno di un test non siano correlati né con i punteggi veri di quel test, né con i punteggi veri o di errore di altri test. I test paralleli hanno gli stessi punteggi veri e le stesse varianze di errore. I test che sono considerati \"sostanzialmente equivalenti\" o $\\tau$-equivalenti, differiscono solo per una costante additiva nei punteggi veri. Tuttavia, queste assunzioni possono essere violate in presenza di diverse condizioni che influenzano i punteggi dei test. Tuttavia, poiché non possiamo osservare direttamente $T$ ed $E$, non possiamo verificare direttamente l'adeguatezza di queste assunzioni, e possiamo solo fare delle supposizioni su quando sarebbero appropriate.\n",
    "\n",
    "È importante tenere a mente che i punteggi veri e quelli di errore sono concetti teorici e non osservabili. Ciò che possiamo osservare sono solamente i punteggi $X$. Quando parliamo di punteggi veri, è essenziale considerare che il \"punteggio vero\", cioè la media dei punteggi su ripetuti test indipendenti con lo stesso test, è un'astrazione teorica. Questo punteggio potrebbe non riflettere completamente l'attributo \"vero\" di interesse, a meno che il test non abbia una precisione perfetta, cioè che misuri esattamente ciò che afferma di misurare.\n",
    "\n",
    "L'approccio della teoria classica dei test (CTT) nel processo di sviluppo dei test presenta diversi vantaggi. In primo luogo, i concetti della CTT sono ampiamente diffusi e comprensibili. Inoltre, sono relativamente accessibili sia per l'apprendimento che per l'applicazione. Le statistiche descrittive dei test (come la media, la deviazione standard, l'intervallo, ecc.) e le analisi degli item (in particolare la facilità e la discriminazione degli item) possono essere calcolate facilmente. Inoltre, il modello CTT risponde a varie esigenze di misurazione, specialmente nello sviluppo di valutazioni di competenze e collocazione, utili per decisioni di ammissione, confronti tra programmi e valutazioni in vari contesti lavorativi. Infine, il modello CTT permette l'interpretazione dei punteggi degli esaminati sia al 0% che al 100% e delle stime di facilità degli item da 0.0 a 1.0, riflettendo risultati realistici. Tuttavia, queste interpretazioni non sono comuni nei modelli di teoria della risposta agli item (IRT).\n",
    "\n",
    "Tuttavia, l'adozione della CTT presenta anche alcune limitazioni. In primo luogo, i test basati sulla CTT tendono a essere lunghi e composti da elementi omogenei. In secondo luogo, gli individui che svolgono test sviluppati con il metodo CTT potrebbero essere confrontati con item troppo facili o troppo difficili per le loro abilità. In terzo luogo, i risultati dei test CTT si applicano solo al campione considerato o a campioni molto simili. In quarto luogo, tali risultati si applicano solo alla selezione corrente di item. In quinto luogo, a causa della dipendenza dalla distribuzione normale, la CTT è adatta solo per lo sviluppo di test normativi. In sesto luogo, a causa della correlazione tra discriminazione degli item, affidabilità e alcune stime di validità, gli item e i test basati sulla CTT possono risultare sensibili alle differenze agli estremi della scala. Infine, sebbene gli errori di misurazione nei test CTT varino lungo tutto il range dei possibili punteggi (ossia, l'errore standard di misurazione è minore vicino alla media e aumenta man mano che i punteggi si discostano dalla media in entrambe le direzioni), l'errore standard di misurazione stimato nei CTT rappresenta una media su tutto questo intervallo."
   ]
  },
  {
   "cell_type": "markdown",
   "id": "d0b61c7c",
   "metadata": {},
   "source": [
    "## Session Info"
   ]
  },
  {
   "cell_type": "code",
   "execution_count": 2,
   "id": "e509b4ab",
   "metadata": {
    "vscode": {
     "languageId": "r"
    }
   },
   "outputs": [
    {
     "data": {
      "text/plain": [
       "R version 4.3.3 (2024-02-29)\n",
       "Platform: aarch64-apple-darwin20 (64-bit)\n",
       "Running under: macOS Sonoma 14.4\n",
       "\n",
       "Matrix products: default\n",
       "BLAS:   /Library/Frameworks/R.framework/Versions/4.3-arm64/Resources/lib/libRblas.0.dylib \n",
       "LAPACK: /Library/Frameworks/R.framework/Versions/4.3-arm64/Resources/lib/libRlapack.dylib;  LAPACK version 3.11.0\n",
       "\n",
       "locale:\n",
       "[1] C\n",
       "\n",
       "time zone: Europe/Rome\n",
       "tzcode source: internal\n",
       "\n",
       "attached base packages:\n",
       "[1] stats     graphics  grDevices utils     datasets  methods   base     \n",
       "\n",
       "other attached packages:\n",
       " [1] psychometric_2.4  multilevel_2.7    MASS_7.3-60.0.1   nlme_3.1-164     \n",
       " [5] ggokabeito_0.1.0  viridis_0.6.5     viridisLite_0.4.2 ggpubr_0.6.0     \n",
       " [9] ggExtra_0.10.1    bayesplot_1.11.1  gridExtra_2.3     patchwork_1.2.0  \n",
       "[13] semTools_0.5-6    semPlot_1.1.6     lavaan_0.6-17     psych_2.4.1      \n",
       "[17] scales_1.3.0      markdown_1.12     knitr_1.45        lubridate_1.9.3  \n",
       "[21] forcats_1.0.0     stringr_1.5.1     dplyr_1.1.4       purrr_1.0.2      \n",
       "[25] readr_2.1.5       tidyr_1.3.1       tibble_3.2.1      ggplot2_3.5.0    \n",
       "[29] tidyverse_2.0.0   here_1.0.1       \n",
       "\n",
       "loaded via a namespace (and not attached):\n",
       "  [1] rstudioapi_0.15.0  jsonlite_1.8.8     magrittr_2.0.3    \n",
       "  [4] nloptr_2.0.3       rmarkdown_2.26     vctrs_0.6.5       \n",
       "  [7] minqa_1.2.6        base64enc_0.1-3    rstatix_0.7.2     \n",
       " [10] htmltools_0.5.7    broom_1.0.5        Formula_1.2-5     \n",
       " [13] htmlwidgets_1.6.4  plyr_1.8.9         uuid_1.2-0        \n",
       " [16] igraph_2.0.2       mime_0.12          lifecycle_1.0.4   \n",
       " [19] pkgconfig_2.0.3    Matrix_1.6-5       R6_2.5.1          \n",
       " [22] fastmap_1.1.1      shiny_1.8.0        digest_0.6.34     \n",
       " [25] OpenMx_2.21.11     fdrtool_1.2.17     colorspace_2.1-0  \n",
       " [28] rprojroot_2.0.4    Hmisc_5.1-1        fansi_1.0.6       \n",
       " [31] timechange_0.3.0   abind_1.4-5        compiler_4.3.3    \n",
       " [34] withr_3.0.0        glasso_1.11        htmlTable_2.4.2   \n",
       " [37] backports_1.4.1    carData_3.0-5      ggsignif_0.6.4    \n",
       " [40] corpcor_1.6.10     gtools_3.9.5       tools_4.3.3       \n",
       " [43] pbivnorm_0.6.0     foreign_0.8-86     zip_2.3.1         \n",
       " [46] httpuv_1.6.14      nnet_7.3-19        glue_1.7.0        \n",
       " [49] quadprog_1.5-8     promises_1.2.1     lisrelToR_0.3     \n",
       " [52] grid_4.3.3         pbdZMQ_0.3-11      checkmate_2.3.1   \n",
       " [55] cluster_2.1.6      reshape2_1.4.4     generics_0.1.3    \n",
       " [58] gtable_0.3.4       tzdb_0.4.0         data.table_1.15.2 \n",
       " [61] hms_1.1.3          car_3.1-2          utf8_1.2.4        \n",
       " [64] sem_3.1-15         pillar_1.9.0       IRdisplay_1.1     \n",
       " [67] rockchalk_1.8.157  later_1.3.2        splines_4.3.3     \n",
       " [70] lattice_0.22-5     kutils_1.73        tidyselect_1.2.0  \n",
       " [73] miniUI_0.1.1.1     pbapply_1.7-2      stats4_4.3.3      \n",
       " [76] xfun_0.42          qgraph_1.9.8       arm_1.13-1        \n",
       " [79] stringi_1.8.3      boot_1.3-29        evaluate_0.23     \n",
       " [82] mi_1.1             cli_3.6.2          RcppParallel_5.1.7\n",
       " [85] IRkernel_1.3.2     rpart_4.1.23       xtable_1.8-4      \n",
       " [88] repr_1.1.6         munsell_0.5.0      Rcpp_1.0.12       \n",
       " [91] coda_0.19-4.1      png_0.1-8          XML_3.99-0.16.1   \n",
       " [94] parallel_4.3.3     ellipsis_0.3.2     jpeg_0.1-10       \n",
       " [97] lme4_1.1-35.1      openxlsx_4.2.5.2   crayon_1.5.2      \n",
       "[100] rlang_1.1.3        mnormt_2.1.1      "
      ]
     },
     "metadata": {},
     "output_type": "display_data"
    }
   ],
   "source": [
    "sessionInfo()"
   ]
  }
 ],
 "metadata": {
  "jupytext": {
   "cell_metadata_filter": "tags,-all",
   "main_language": "R",
   "notebook_metadata_filter": "-all"
  },
  "kernelspec": {
   "display_name": "R",
   "language": "R",
   "name": "ir"
  },
  "language_info": {
   "codemirror_mode": "r",
   "file_extension": ".r",
   "mimetype": "text/x-r-source",
   "name": "R",
   "pygments_lexer": "r",
   "version": "4.4.2"
  }
 },
 "nbformat": 4,
 "nbformat_minor": 5
}
