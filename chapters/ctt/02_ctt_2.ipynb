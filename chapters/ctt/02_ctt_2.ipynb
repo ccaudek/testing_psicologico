{
 "cells": [
  {
   "attachments": {},
   "cell_type": "markdown",
   "id": "2c19761a",
   "metadata": {},
   "source": [
    "# L'affidabilità del test {#sec-ctt-2}"
   ]
  },
  {
   "cell_type": "markdown",
   "id": "76ea04f8",
   "metadata": {},
   "source": [
    "**Prerequisiti**\n",
    "\n",
    "**Concetti e Competenze Chiave**\n",
    "\n",
    "**Preparazione del Notebook**"
   ]
  },
  {
   "cell_type": "code",
   "execution_count": 1,
   "id": "b58f4e19",
   "metadata": {
    "tags": [
     "remove_cell"
    ],
    "vscode": {
     "languageId": "r"
    }
   },
   "outputs": [],
   "source": [
    "# Carica il file _common.R per impostazioni di pacchetti e opzioni\n",
    "here::here(\"code\", \"_common.R\") |> source()\n",
    "\n",
    "# Carica pacchetti aggiuntivi\n",
    "pacman::p_load(modelsummary, MASS)"
   ]
  },
  {
   "cell_type": "markdown",
   "id": "b6510d79",
   "metadata": {},
   "source": [
    "## Introduzione\n",
    "\n",
    "L'affidabilità è un principio fondamentale nella teoria della misurazione, essenziale per garantire coerenza, stabilità e precisione nelle misurazioni effettuate in vari contesti. Nell'ambito del testing psicologico, è cruciale che i punteggi mostrino un grado di consistenza accettabile per essere considerati significativi. Questo concetto è particolarmente rilevante, poiché i punteggi possono variare a seconda delle specifiche condizioni di misurazione, rendendo necessario l'impiego di diversi metodi per valutare l'affidabilità di un test.\n",
    "\n",
    "Esploriamo i vari metodi utilizzati per valutare l'affidabilità:\n",
    "\n",
    "1. **Affidabilità Test-Retest (Coefficiente di Stabilità):** Questo metodo valuta la coerenza dei punteggi nel tempo. Si somministra lo stesso test a un gruppo di individui in due momenti distinti, e la correlazione tra i punteggi ottenuti fornisce un'indicazione dell'affidabilità. Tuttavia, la limitazione di questo metodo risiede nel fatto che variazioni nelle condizioni ambientali o psicologiche possono influenzare i risultati nel tempo.\n",
    "\n",
    "2. **Affidabilità delle Forme Alternative (Coefficiente di Equivalenza):** Utile quando esistono diverse versioni di un test, questo metodo serve a verificare se queste versioni producono punteggi simili e coerenti. È cruciale per assicurare che le diverse forme del test siano equivalenti in termini di difficoltà e contenuto.\n",
    "\n",
    "3. **Consistenza Interna:** Questo metodo misura il grado in cui gli elementi individuali di un test sono correlati tra loro. È particolarmente importante in test che includono molteplici item, dove la consistenza interna alta suggerisce che gli item misurano lo stesso costrutto in modo uniforme.\n",
    "\n",
    "4. **Affidabilità Inter-Osservatori:** Questo approccio valuta la coerenza tra le valutazioni di diversi osservatori. È fondamentale in situazioni dove più persone valutano lo stesso fenomeno, assicurando che i loro giudizi siano uniformi e affidabili.\n",
    "\n",
    "Uno dei modelli più utilizzati nella teoria della misurazione è la Teoria Classica dei Test (CTT), conosciuta anche come \"Teoria del punteggio vero\". Questo modello, sebbene abbia alcune limitazioni rispetto a teorie più recenti come la Teoria della Risposta all'Item (IRT) e la Teoria della Generalizzabilità, rimane una delle fondamenta della psicometria.\n",
    "\n",
    "## L'attendibilità del test\n",
    "\n",
    "Uno degli obiettivi principali della CTT è quello di suddividere la varianza di un insieme di punteggi osservati in varianza del punteggio vero e varianza dell'errore. Per definire l'attendibilità, la CTT si basa su due informazioni chiave:\n",
    "\n",
    "1. La varianza dei punteggi osservati.\n",
    "2. La correlazione tra il punteggio osservato e il punteggio vero.\n",
    "\n",
    "Vedremo come ottenere queste informazioni utilizzando le assunzioni del modello statistico alla base della CTT. Queste assunzioni includono:\n",
    "\n",
    "- **Errore medio nullo**: Si assume che l'errore di misurazione abbia una media pari a zero, cioè $E(e) = 0$. Questo implica che l'errore è casuale e distribuito uniformemente attorno al punteggio vero.\n",
    "- **Indipendenza tra punteggio vero e errore**: La CTT assume che non ci sia correlazione tra il punteggio vero e l'errore di misurazione ($r_{T,e} = 0$).\n",
    "- **Indipendenza dell'errore nel tempo**: Si assume che l'errore di misurazione in un determinato momento non sia correlato con l'errore in un altro momento ($r_{e1,e2} = 0$).\n",
    "\n",
    "### La varianza del punteggio osservato\n",
    "\n",
    "La varianza del punteggio osservato $X$ è uguale alla somma della varianza del punteggio vero e della varianza dell'errore di misurazione:\n",
    "\n",
    "$$\n",
    "\\sigma^2_X =   \\sigma_T^2 + \\sigma_E^2.\n",
    "$$ {#eq-var-sum}\n",
    "\n",
    "La dimostrazione è la seguente. La varianza del punteggio osservato è uguale a\n",
    "\n",
    "$$\n",
    "\\sigma^2_X =  \\mathbb{V}(T+E) =  \\sigma_T^2 + \\sigma_E^2 + 2 \\sigma_{TE}.\n",
    "$$ {#eq-3-2-4}\n",
    "\n",
    "Dato che $\\sigma_{TE}=\\rho_{TE}\\sigma_T \\sigma_E=0$, in quanto $\\rho_{TE}=0$, ne segue che\n",
    "\n",
    "$$\n",
    "\\sigma^2_X =   \\sigma_T^2 + \\sigma_E^2.\n",
    "$$\n",
    "\n",
    "Per fare un esempio concreto, riprendiamo la simulazione del capitolo precedente."
   ]
  },
  {
   "cell_type": "code",
   "execution_count": 16,
   "id": "10dbdde4",
   "metadata": {
    "vscode": {
     "languageId": "r"
    }
   },
   "outputs": [
    {
     "data": {
      "text/html": [
       "<table class=\"dataframe\">\n",
       "<caption>A tibble: 6 × 3</caption>\n",
       "<thead>\n",
       "\t<tr><th scope=col>X</th><th scope=col>T</th><th scope=col>E</th></tr>\n",
       "\t<tr><th scope=col>&lt;dbl&gt;</th><th scope=col>&lt;dbl&gt;</th><th scope=col>&lt;dbl&gt;</th></tr>\n",
       "</thead>\n",
       "<tbody>\n",
       "\t<tr><td>15.698623</td><td>16.765359</td><td>-1.0667358</td></tr>\n",
       "\t<tr><td>13.657503</td><td>12.248096</td><td> 1.4094073</td></tr>\n",
       "\t<tr><td> 6.731979</td><td> 7.852136</td><td>-1.1201563</td></tr>\n",
       "\t<tr><td>14.621813</td><td>14.233699</td><td> 0.3881133</td></tr>\n",
       "\t<tr><td>10.606647</td><td>10.187035</td><td> 0.4196115</td></tr>\n",
       "\t<tr><td>12.370288</td><td>13.329971</td><td>-0.9596831</td></tr>\n",
       "</tbody>\n",
       "</table>\n"
      ],
      "text/latex": [
       "A tibble: 6 × 3\n",
       "\\begin{tabular}{lll}\n",
       " X & T & E\\\\\n",
       " <dbl> & <dbl> & <dbl>\\\\\n",
       "\\hline\n",
       "\t 15.698623 & 16.765359 & -1.0667358\\\\\n",
       "\t 13.657503 & 12.248096 &  1.4094073\\\\\n",
       "\t  6.731979 &  7.852136 & -1.1201563\\\\\n",
       "\t 14.621813 & 14.233699 &  0.3881133\\\\\n",
       "\t 10.606647 & 10.187035 &  0.4196115\\\\\n",
       "\t 12.370288 & 13.329971 & -0.9596831\\\\\n",
       "\\end{tabular}\n"
      ],
      "text/markdown": [
       "\n",
       "A tibble: 6 × 3\n",
       "\n",
       "| X &lt;dbl&gt; | T &lt;dbl&gt; | E &lt;dbl&gt; |\n",
       "|---|---|---|\n",
       "| 15.698623 | 16.765359 | -1.0667358 |\n",
       "| 13.657503 | 12.248096 |  1.4094073 |\n",
       "|  6.731979 |  7.852136 | -1.1201563 |\n",
       "| 14.621813 | 14.233699 |  0.3881133 |\n",
       "| 10.606647 | 10.187035 |  0.4196115 |\n",
       "| 12.370288 | 13.329971 | -0.9596831 |\n",
       "\n"
      ],
      "text/plain": [
       "  X         T         E         \n",
       "1 15.698623 16.765359 -1.0667358\n",
       "2 13.657503 12.248096  1.4094073\n",
       "3  6.731979  7.852136 -1.1201563\n",
       "4 14.621813 14.233699  0.3881133\n",
       "5 10.606647 10.187035  0.4196115\n",
       "6 12.370288 13.329971 -0.9596831"
      ]
     },
     "metadata": {},
     "output_type": "display_data"
    }
   ],
   "source": [
    "set.seed(8394)\n",
    "\n",
    "n <- 100\n",
    "Sigma <- matrix(c(6, 0, 0, 3), byrow = TRUE, ncol = 2)\n",
    "mu <- c(12, 0)\n",
    "dat <- mvrnorm(n, mu, Sigma, empirical = TRUE)\n",
    "T <- dat[, 1]\n",
    "E <- dat[, 2]\n",
    "X <- T + E\n",
    "\n",
    "tibble(X, T, E) |> head()"
   ]
  },
  {
   "cell_type": "code",
   "execution_count": 17,
   "id": "35dca1b3",
   "metadata": {
    "vscode": {
     "languageId": "r"
    }
   },
   "outputs": [
    {
     "data": {
      "text/html": [
       "TRUE"
      ],
      "text/latex": [
       "TRUE"
      ],
      "text/markdown": [
       "TRUE"
      ],
      "text/plain": [
       "[1] TRUE"
      ]
     },
     "metadata": {},
     "output_type": "display_data"
    }
   ],
   "source": [
    "var(X) == var(T) + var(E)"
   ]
  },
  {
   "cell_type": "markdown",
   "id": "8c65bfd9",
   "metadata": {},
   "source": [
    "### La covarianza tra punteggio osservato e punteggio vero\n",
    "\n",
    "La covarianza tra punteggio osservato $X$ e punteggio vero $T$ è uguale alla varianza del punteggio vero:\n",
    "\n",
    "$$\n",
    "\\sigma_{X T} = \\sigma_T^2.\n",
    "$$ {#eq-cov-obs-true}\n",
    "\n",
    "La dimostrazione è la seguente. La covarianza tra punteggio osservato e punteggio vero è uguale a\n",
    "\n",
    "$$\n",
    "\\begin{aligned}\n",
    "\\sigma_{X T} &= \\mathbb{E}(XT) - \\mathbb{E}(X)\\mathbb{E}(T)\\notag\\\\\n",
    "&=  \\mathbb{E}[(T+E)T] - \\mathbb{E}(T+E)\\mathbb{E}(T)\\notag\\\\\n",
    "&=  \\mathbb{E}(T^2) + \\underbrace{\\mathbb{E}(ET)}_{=0} - [\\mathbb{E}(T)]^2 -  \\underbrace{\\mathbb{E}(E)}_{=0} \\mathbb{E}(T)\\notag\\\\\n",
    "&=\\mathbb{E}(T^2) - [\\mathbb{E}(T)]^2\\notag \\\\\n",
    "&= \\sigma_T^2.\n",
    "\\end{aligned}\n",
    "$$\n",
    "\n",
    "Verifichiamo per i dati dell'esempio."
   ]
  },
  {
   "cell_type": "code",
   "execution_count": 18,
   "id": "5aaa6a88",
   "metadata": {
    "vscode": {
     "languageId": "r"
    }
   },
   "outputs": [
    {
     "data": {
      "text/html": [
       "TRUE"
      ],
      "text/latex": [
       "TRUE"
      ],
      "text/markdown": [
       "TRUE"
      ],
      "text/plain": [
       "[1] TRUE"
      ]
     },
     "metadata": {},
     "output_type": "display_data"
    }
   ],
   "source": [
    "cov(X, T) == var(T)"
   ]
  },
  {
   "cell_type": "markdown",
   "id": "aeedf26b",
   "metadata": {},
   "source": [
    "### Correlazione tra punteggio osservato e punteggio vero\n",
    "\n",
    "La correlazione tra punteggio osservato $X$ e punteggio vero $T$ è uguale al rapporto tra la covarianza tra $X$ e $T$ divisa per il prodotto delle due deviazioni standard:\n",
    "\n",
    "$$\n",
    "\\rho_{XT} = \\frac{\\sigma_{XT}}{\\sigma_X \\sigma_T} = \\frac{\\sigma^2_{T}}{\\sigma_X \\sigma_T} = \\frac{\\sigma_{T}}{\\sigma_X}.\n",
    "$$ {#eq-sd-ratio}\n",
    "\n",
    "Dunque, la correlazione tra il punteggio osservato e il punteggio vero è uguale al rapporto tra la deviazione standard dei punteggi veri e la deviazione standard dei punteggi osservati.\n",
    "\n",
    "Verifichiamo per i dati dell'esempio."
   ]
  },
  {
   "cell_type": "code",
   "execution_count": 19,
   "id": "a047b1d8",
   "metadata": {
    "vscode": {
     "languageId": "r"
    }
   },
   "outputs": [
    {
     "data": {
      "text/html": [
       "0.816496580927726"
      ],
      "text/latex": [
       "0.816496580927726"
      ],
      "text/markdown": [
       "0.816496580927726"
      ],
      "text/plain": [
       "[1] 0.8164966"
      ]
     },
     "metadata": {},
     "output_type": "display_data"
    }
   ],
   "source": [
    "cor(X, T) "
   ]
  },
  {
   "cell_type": "code",
   "execution_count": 20,
   "id": "346a3348",
   "metadata": {
    "vscode": {
     "languageId": "r"
    }
   },
   "outputs": [
    {
     "data": {
      "text/html": [
       "0.816496580927726"
      ],
      "text/latex": [
       "0.816496580927726"
      ],
      "text/markdown": [
       "0.816496580927726"
      ],
      "text/plain": [
       "[1] 0.8164966"
      ]
     },
     "metadata": {},
     "output_type": "display_data"
    }
   ],
   "source": [
    "sd(T) / sd(X)"
   ]
  },
  {
   "cell_type": "markdown",
   "id": "a819cbff",
   "metadata": {},
   "source": [
    "### Definizione e significato dell'attendibilità\n",
    "\n",
    "Sulla base dell'@eq-sd-ratio, possiamo giungere alla definizione di attendibilità. La Teoria della Misurazione Classica (CTT) definisce l'attendibilità di un test (o di un singolo elemento) come il rapporto tra la varianza del punteggio vero e la varianza del punteggio osservato. In altre parole, l'attendibilità rappresenta il quadrato della correlazione tra il punteggio osservato $X$ e il punteggio vero $T$:\n",
    "\n",
    "$$\n",
    "\\begin{equation}\n",
    "\\rho_{XT}^2 = \\frac{\\sigma_{T}^2}{\\sigma_{X}^2}.\n",
    "\\end{equation}\n",
    "$$\n",
    "\n",
    "Questa formula è il concetto fondamentale della CTT e misura il livello di variazione del punteggio vero rispetto alla variazione del punteggio osservato.\n",
    "\n",
    "Adesso possiamo procedere a verificare questa relazione utilizzando i dati forniti nell'esempio."
   ]
  },
  {
   "cell_type": "code",
   "execution_count": 21,
   "id": "5319c4e3",
   "metadata": {
    "vscode": {
     "languageId": "r"
    }
   },
   "outputs": [
    {
     "data": {
      "text/html": [
       "0.666666666666667"
      ],
      "text/latex": [
       "0.666666666666667"
      ],
      "text/markdown": [
       "0.666666666666667"
      ],
      "text/plain": [
       "[1] 0.6666667"
      ]
     },
     "metadata": {},
     "output_type": "display_data"
    }
   ],
   "source": [
    "cor(X, T)^2"
   ]
  },
  {
   "cell_type": "code",
   "execution_count": 22,
   "id": "4718f25c",
   "metadata": {
    "vscode": {
     "languageId": "r"
    }
   },
   "outputs": [
    {
     "data": {
      "text/html": [
       "0.666666666666667"
      ],
      "text/latex": [
       "0.666666666666667"
      ],
      "text/markdown": [
       "0.666666666666667"
      ],
      "text/plain": [
       "[1] 0.6666667"
      ]
     },
     "metadata": {},
     "output_type": "display_data"
    }
   ],
   "source": [
    "var(T) / var(X)"
   ]
  },
  {
   "cell_type": "markdown",
   "id": "d23407be",
   "metadata": {},
   "source": [
    "Dato che $\\sigma^2_X = \\sigma_T^2 + \\sigma_E^2$, in base alla {ref}`eq-reliability-1` possiamo scrivere \n",
    "\n",
    "$$\n",
    "\\begin{equation}\n",
    "\\rho_{XT}^2 = \\frac{\\sigma_{T}^2}{\\sigma_X^2} =\\frac{\\sigma_{X}^2 - \\sigma^2_E}{\\sigma_X^2} = 1-\\frac{\\sigma_{E}^2}{\\sigma_{X}^2}.\n",
    "\\end{equation}\n",
    "$$ {#eq-3-2-6}"
   ]
  },
  {
   "cell_type": "code",
   "execution_count": 23,
   "id": "0b5fed7d",
   "metadata": {
    "vscode": {
     "languageId": "r"
    }
   },
   "outputs": [
    {
     "data": {
      "text/html": [
       "0.666666666666667"
      ],
      "text/latex": [
       "0.666666666666667"
      ],
      "text/markdown": [
       "0.666666666666667"
      ],
      "text/plain": [
       "[1] 0.6666667"
      ]
     },
     "metadata": {},
     "output_type": "display_data"
    }
   ],
   "source": [
    "1 - (var(E) / var(X))"
   ]
  },
  {
   "cell_type": "markdown",
   "id": "87dc015c",
   "metadata": {},
   "source": [
    "Dall'@eq-3-2-6, possiamo dedurre che il coefficiente di affidabilità assume il valore di $1$ quando la varianza degli errori $\\sigma_{E}^2$ è nulla, e assume il valore di $0$ quando la varianza degli errori è uguale alla varianza del punteggio osservato. Quindi, il coefficiente di affidabilità è un valore assoluto situato nell'intervallo tra $0$ e $1$."
   ]
  },
  {
   "attachments": {},
   "cell_type": "markdown",
   "id": "87139487",
   "metadata": {},
   "source": [
    "## Attendibilità e modello di regressione lineare\n",
    "\n",
    "In parole semplici, la CTT si basa sul modello di regressione lineare, dove i punteggi osservati sono considerati come variabile dipendente e i punteggi veri come variabile indipendente. Il coefficiente di attendibilità $\\rho_{XT}^2$ rappresenta la proporzione di varianza nella variabile dipendente spiegata dalla variabile indipendente in un modello di regressione lineare con una pendenza unitaria e un'intercetta di zero. In altre parole, il coefficiente di attendibilità è equivalente al coefficiente di determinazione del modello di regressione.\n",
    "\n",
    "Per rendere questo concetto più chiaro, possiamo tornare a considerare i dati simulati come esempio."
   ]
  },
  {
   "attachments": {},
   "cell_type": "markdown",
   "id": "b56ccc47",
   "metadata": {},
   "source": [
    "La motivazione di questa simulazione è quella di mettere in relazione il\n",
    "coefficiente di attendibilità, calcolato con la formula della CTT (come abbiamo fatto sopra), con il modello di regressione lineare. Analizziamo dunque i dati della\n",
    "simulazione mediante il seguente modello di regressione lineare:\n",
    "\n",
    "$$\n",
    "X = a + b T + E.\n",
    "$$\n",
    "\n",
    "Usando $\\textsf{R}$ otteniamo:"
   ]
  },
  {
   "cell_type": "code",
   "execution_count": 26,
   "id": "0d0b87c8",
   "metadata": {
    "vscode": {
     "languageId": "r"
    }
   },
   "outputs": [
    {
     "data": {
      "text/plain": [
       "\n",
       "Call:\n",
       "lm(formula = X ~ T)\n",
       "\n",
       "Residuals:\n",
       "    Min      1Q  Median      3Q     Max \n",
       "-4.4343 -0.9720 -0.0865  1.0803  3.7347 \n",
       "\n",
       "Coefficients:\n",
       "             Estimate Std. Error t value Pr(>|t|)    \n",
       "(Intercept) 9.948e-15  8.746e-01       0        1    \n",
       "T           1.000e+00  7.143e-02      14   <2e-16 ***\n",
       "---\n",
       "Signif. codes:  0 ‘***’ 0.001 ‘**’ 0.01 ‘*’ 0.05 ‘.’ 0.1 ‘ ’ 1\n",
       "\n",
       "Residual standard error: 1.741 on 98 degrees of freedom\n",
       "Multiple R-squared:  0.6667,\tAdjusted R-squared:  0.6633 \n",
       "F-statistic:   196 on 1 and 98 DF,  p-value: < 2.2e-16\n"
      ]
     },
     "metadata": {},
     "output_type": "display_data"
    }
   ],
   "source": [
    "fm <- lm(X ~ T)\n",
    "summary(fm)"
   ]
  },
  {
   "attachments": {},
   "cell_type": "markdown",
   "id": "5318ee4a",
   "metadata": {},
   "source": [
    "Si noti che la retta di regressione ha intercetta 0 e pendenza 1. Questo è coerente con l'assunzione $\\mathbb{E}(X) = \\mathbb{E}(T)$. Ma il risultato più importante di questa simulazione è che il coefficiente di determinazione ($R^2$ = 0.67) del modello di regressione $X = 0 + 1 \\times T + E$ è identico al coefficiente di attendibilità calcolato con la formula $\\rho_{XT}^2 = \\frac{\\sigma_{T}^2}{\\sigma_X^2}$:"
   ]
  },
  {
   "cell_type": "code",
   "execution_count": 27,
   "id": "ff93bea6",
   "metadata": {
    "vscode": {
     "languageId": "r"
    }
   },
   "outputs": [
    {
     "data": {
      "text/html": [
       "0.666666666666667"
      ],
      "text/latex": [
       "0.666666666666667"
      ],
      "text/markdown": [
       "0.666666666666667"
      ],
      "text/plain": [
       "[1] 0.6666667"
      ]
     },
     "metadata": {},
     "output_type": "display_data"
    }
   ],
   "source": [
    "var(T) / var(X)"
   ]
  },
  {
   "cell_type": "markdown",
   "id": "25c07d32",
   "metadata": {},
   "source": [
    "Questi risultati ci permettono di interpretare il coefficiente di affidabilità nel seguente modo: l'affidabilità di un test rappresenta la porzione di varianza presente nel punteggio osservato $X$ che viene spiegata dalla regressione di $X$ rispetto al punteggio vero $T$. Questo risultato è stato ottenuto mediante una regressione lineare, dove il coefficiente angolare $\\beta$ è uguale a 1 e l'intercetta $\\alpha$ è uguale a 0.\n",
    "\n",
    "Inoltre, ricordiamo che la radice quadrata della varianza degli errori è l'*errore standard della misurazione*, $\\sigma_E$. La quantità $\\sqrt{\\sigma_E^2}$ fornisce una misura della dispersione del punteggio osservato attorno al valore vero, nella condizione ipotetica di ripetute somministrazioni del test:"
   ]
  },
  {
   "cell_type": "code",
   "execution_count": 30,
   "id": "7df47746",
   "metadata": {
    "vscode": {
     "languageId": "r"
    }
   },
   "outputs": [
    {
     "data": {
      "text/html": [
       "1.74086537242199"
      ],
      "text/latex": [
       "1.74086537242199"
      ],
      "text/markdown": [
       "1.74086537242199"
      ],
      "text/plain": [
       "[1] 1.740865"
      ]
     },
     "metadata": {},
     "output_type": "display_data"
    }
   ],
   "source": [
    "sqrt(var(E) * 99 / 98)"
   ]
  },
  {
   "cell_type": "markdown",
   "id": "1cb38712",
   "metadata": {},
   "source": [
    "L'output della funzione `lm()` rende chiaro che l'errore standard della misurazione della CTT è identico all'errore standard della regressione nel caso di un modello di regressione definito come abbiamo fatto sopra.\n",
    "\n",
    "Nel codice precedente è stato incluso il termine correttivo 99/98. Questa correzione è necessaria poiché, mentre R calcola la deviazione standard con $n-1$ al denominatore, l'errore standard della regressione richiede $n-2$ al denominatore."
   ]
  },
  {
   "attachments": {},
   "cell_type": "markdown",
   "id": "9c88acc2",
   "metadata": {},
   "source": [
    "## Misurazioni parallele e affidabilità\n",
    "\n",
    "L'equazione $\\rho_{XT}^2 = \\frac{\\sigma_{T}^2}{\\sigma_X^2}$ definisce il coefficiente di affidabilità, ma non ci fornisce gli strumenti pratici per calcolarlo direttamente. Questo perché la varianza del punteggio reale $\\sigma_{T}^2$ rappresenta un valore sconosciuto. Il metodo utilizzato dalla CTT per ottenere una stima empirica dell'attendibilità è quello delle *forme parallele* del\n",
    "test. In pratica, se è possibile creare versioni alternative del test che siano equivalenti in termini di contenuto, modalità di risposta e caratteristiche statistiche, allora diventa possibile ottenere una stima empirica del coefficiente di affidabilità.\n",
    "\n",
    "Secondo la CTT, due test $X=T+E$ e $X^\\prime=T^\\prime+E^\\prime$ sono considerati misurazioni parallele della stessa abilità latente quando:\n",
    "\n",
    "- $T = T^\\prime$,\n",
    "- $\\mathbb{V}(E) = \\mathbb{V}(E^\\prime)$.\n",
    "\n",
    "Queste premesse implicano che $\\mathbb{E}(X) = \\mathbb{E}(X^\\prime)$.\n",
    "\n",
    "La dimostrazione procede come segue. Considerando che $\\mathbb{E}(X) = T$ e $\\mathbb{E}(X^\\prime) = T$, è evidente che $\\mathbb{E}(X) =\\mathbb{E}(X^\\prime)$ poiché $\\mathbb{E}(E) = \\mathbb{E}(E^\\prime) = 0$.\n",
    "\n",
    "In modo analogo, l'uguaglianza delle varianze nei punteggi osservati delle due misurazioni parallele deve essere verificata, cioè $\\mathbb{V}(X) = \\mathbb{V}(X^\\prime)$.\n",
    "\n",
    "Questa dimostrazione si sviluppa come segue. Per $X$, possiamo scrivere \n",
    "\n",
    "$$\\mathbb{V}(X) = \\mathbb{V}(T + E) = \\mathbb{V}(T) + \\mathbb{V}(E);$$\n",
    "\n",
    "mentre per $X^\\prime$ possiamo scrivere \n",
    "\n",
    "$$\\mathbb{V}(X^\\prime) = \\mathbb{V}(T^\\prime + E^\\prime) = \\mathbb{V}(T^\\prime) + \\mathbb{V}(E^\\prime).$$ \n",
    "\n",
    "Poiché sappiamo che $\\mathbb{V}(E) = \\mathbb{V}(E^\\prime)$ e che $T = T^\\prime$, possiamo dedurre che $\\mathbb{V}(X) = \\mathbb{V}(X^\\prime)$.\n",
    "\n",
    "In aggiunta, è importante notare che per costruzione gli errori $E$ e $E^\\prime$ sono incorrelati sia con $T$ che tra di loro.\n",
    "\n",
    "### La correlazione tra due forme parallele del test\n",
    "\n",
    "Ora procediamo a dimostrare che, secondo le ipotesi della Teoria della CTT, la correlazione tra due versioni parallele di un test è effettivamente equivalente al rapporto tra la varianza del punteggio reale e la varianza del punteggio osservato. Come discusso nel capitolo precedente, le misurazioni parallele rappresentano il grado più elevato di somiglianza tra due diverse versioni di un test.\n",
    "\n",
    "La dimostrazione è la seguente. Consideriamo, senza perdita di generalità, che $\\mathbb{E}(X) = \\mathbb{E}(X') = \\mathbb{E}(T) = 0$. Questa scelta ci consente di scrivere:\n",
    "\n",
    "$$\n",
    "\\begin{aligned}\n",
    "\\rho_{X X^\\prime} &= \\frac{\\sigma(X, X^\\prime)}{\\sigma(X) \\sigma(X^\\prime)} \\\\\n",
    "&= \\frac{\\mathbb{E}(XX^\\prime)}{\\sigma(X) \\sigma(X^\\prime)} \\\\\n",
    "&= \\frac{\\mathbb{E}[(T+E)(T+E^\\prime)]}{\\sigma(X) \\sigma(X^\\prime)} \\\\\n",
    "&= \\frac{\\mathbb{E}(T^2) + \\mathbb{E}(TE^\\prime) + \\mathbb{E}(TE) + \\mathbb{E}(EE^\\prime)}{\\sigma(X) \\sigma(X^\\prime)}.\n",
    "\\end{aligned}\n",
    "$$\n",
    "\n",
    "Tuttavia, sappiamo che $\\mathbb{E}(TE) = \\mathbb{E}(TE^\\prime) = \\mathbb{E}(EE^\\prime) = 0$. Inoltre, $\\sigma(X) = \\sigma(X^\\prime) = \\sigma_X$. Pertanto, giungiamo a:\n",
    "\n",
    "$$\n",
    "\\rho_{X X^\\prime} = \\frac{\\mathbb{E}(T^2)}{\\sigma_X \\sigma_X} = \\frac{\\sigma^2_T}{\\sigma^2_X}.\n",
    "$$ {#eq:3-3-5}\n",
    "\n",
    "Notiamo che il risultato ottenuto, insieme all'equazione che definisce il coefficiente di affidabilità $\\rho_{XT}^2 = \\frac{\\sigma_{T}^2}{\\sigma_X^2}$, presentano entrambi la stessa espressione a destra del segno di uguale. Questo conduce a un risultato cruciale: il coefficiente di affidabilità, ossia il quadrato della correlazione tra il punteggio osservato e il punteggio reale, è identico alla correlazione tra i punteggi osservati di due versioni parallele del test:\n",
    "\n",
    "$$\n",
    "\\rho^2_{XT} =  \\rho_{XX^\\prime}.\n",
    "$$ {#eq-rho2xt-rhoxx}\n",
    "\n",
    "Questa conclusione è di notevole importanza in quanto consente di esprimere la variabile inosservabile $\\rho^2_{XT}$ in termini della variabile osservabile $\\rho_{XX^\\prime}$, la quale può essere calcolata in base ai punteggi osservati delle due forme parallele del test. Fondamentalmente, la stima di $\\rho^2_{XT}$ si semplifica nella stima di $\\rho^2_{XX^\\prime}$. Questo spiega l'importanza dell'equazione {eq}`eq-rho2xt-rhoxx` nella CTT. Inoltre, è da sottolineare che l'equazione {ref}`eq:rho2xt-rhoxx` fornisce una giustificazione per l'utilizzo della correlazione split-half come misura di affidabilità.\n",
    "\n",
    "### La correlazione tra punteggio osservato e punteggio vero\n",
    "\n",
    "Esaminiamo adesso la correlazione tra il punteggio osservato e il punteggio reale. L'@eq-rho2xt-rhoxx può essere riformulata come segue:\n",
    "\n",
    "$$\n",
    "\\rho_{XT} = \\sqrt{\\rho_{XX^\\prime}}.\n",
    "$$ \n",
    "\n",
    "In altre parole, la radice quadrata del coefficiente di affidabilità equivale alla correlazione tra il punteggio osservato e il punteggio reale.\n",
    "\n",
    "Procediamo ora a verificare questa relazione utilizzando i dati dell'esempio."
   ]
  },
  {
   "cell_type": "code",
   "execution_count": 32,
   "id": "a7ade37c",
   "metadata": {
    "vscode": {
     "languageId": "r"
    }
   },
   "outputs": [
    {
     "data": {
      "text/html": [
       "0.816496580927726"
      ],
      "text/latex": [
       "0.816496580927726"
      ],
      "text/markdown": [
       "0.816496580927726"
      ],
      "text/plain": [
       "[1] 0.8164966"
      ]
     },
     "metadata": {},
     "output_type": "display_data"
    }
   ],
   "source": [
    "sqrt(var(T) / var(X))"
   ]
  },
  {
   "cell_type": "code",
   "execution_count": 33,
   "id": "6eaee362",
   "metadata": {
    "vscode": {
     "languageId": "r"
    }
   },
   "outputs": [
    {
     "data": {
      "text/html": [
       "0.816496580927726"
      ],
      "text/latex": [
       "0.816496580927726"
      ],
      "text/markdown": [
       "0.816496580927726"
      ],
      "text/plain": [
       "[1] 0.8164966"
      ]
     },
     "metadata": {},
     "output_type": "display_data"
    }
   ],
   "source": [
    "cor(X, T)"
   ]
  },
  {
   "cell_type": "markdown",
   "id": "a2c5ec02",
   "metadata": {},
   "source": [
    "### I fattori che influenzano l'attendibilità\n",
    "\n",
    "Considerando le tre equazioni:\n",
    "\n",
    "$$\n",
    "\\rho^2_{XT} = \\rho_{XX'},\\quad\n",
    "\\rho_{XT}^2 = \\frac{\\sigma_{T}^2}{\\sigma_X^2}, \\quad\n",
    "\\rho_{XT}^2 = 1-\\frac{\\sigma_{E}^2}{\\sigma_X^2},\n",
    "$$ \n",
    "\n",
    "possiamo affermare che esistono tre modi equivalenti per giungere alla conclusione che l'attendibilità di un test è elevata. L'attendibilità di un test è considerata alta quando si verificano le seguenti condizioni:\n",
    "\n",
    "- La correlazione tra le forme parallele del test è elevata.\n",
    "- La varianza del punteggio vero è ampia rispetto alla varianza del punteggio osservato.\n",
    "- La varianza dell'errore di misurazione è ridotta rispetto alla varianza del punteggio osservato.\n",
    "\n",
    "Queste considerazioni rivestono un'importanza fondamentale nella progettazione di un test. In particolare, l'equazione $\\rho^2_{XT} = \\rho_{XX'}$ fornisce un criterio per la selezione degli item da includere nel test. Se interpretiamo $\\rho_{XX'}$ come la correlazione tra due item, allora gli item che presentano la correlazione più elevata tra di loro dovrebbero essere inclusi nel test. In questo modo, l'attendibilità del test aumenta, poiché gli item selezionati risultano fortemente correlati con il punteggio vero.\n",
    "\n",
    "## Conclusioni\n",
    "\n",
    "L'affidabilità costituisce un concetto fondamentale all'interno della teoria della misurazione, poiché si riferisce alla coerenza dei punteggi in varie situazioni, come diverse configurazioni di item, versioni del test o momenti di somministrazione. Nel corso di questo capitolo, abbiamo esplorato le basi teoriche dell'affidabilità. All'interno della CTT, l'affidabilità è definita come la correlazione tra il punteggio vero e il punteggio osservato, oppure, equivalentemente, come uno meno la correlazione tra il punteggio di errore e il punteggio osservato. Dal momento che il punteggio vero non è direttamente osservabile, è necessario ricorrere a metodi alternativi per stimare l'affidabilità. Il metodo proposto dalla CTT per ottenere tale stima è quello della correlazione dei punteggi ottenuti da due test paralleli."
   ]
  },
  {
   "cell_type": "markdown",
   "id": "d98b943f",
   "metadata": {},
   "source": [
    "## Session Info"
   ]
  },
  {
   "cell_type": "code",
   "execution_count": 2,
   "id": "680c1275",
   "metadata": {
    "vscode": {
     "languageId": "r"
    }
   },
   "outputs": [
    {
     "data": {
      "text/plain": [
       "R version 4.3.2 (2023-10-31)\n",
       "Platform: aarch64-apple-darwin20 (64-bit)\n",
       "Running under: macOS Sonoma 14.3.1\n",
       "\n",
       "Matrix products: default\n",
       "BLAS:   /Library/Frameworks/R.framework/Versions/4.3-arm64/Resources/lib/libRblas.0.dylib \n",
       "LAPACK: /Library/Frameworks/R.framework/Versions/4.3-arm64/Resources/lib/libRlapack.dylib;  LAPACK version 3.11.0\n",
       "\n",
       "locale:\n",
       "[1] C\n",
       "\n",
       "time zone: Europe/Rome\n",
       "tzcode source: internal\n",
       "\n",
       "attached base packages:\n",
       "[1] stats     graphics  grDevices utils     datasets  methods   base     \n",
       "\n",
       "other attached packages:\n",
       " [1] MASS_7.3-60.0.1    modelsummary_1.4.5 ggokabeito_0.1.0   viridis_0.6.5     \n",
       " [5] viridisLite_0.4.2  ggpubr_0.6.0       ggExtra_0.10.1     bayesplot_1.11.1  \n",
       " [9] gridExtra_2.3      patchwork_1.2.0    semTools_0.5-6     semPlot_1.1.6     \n",
       "[13] lavaan_0.6-17      psych_2.4.1        scales_1.3.0       markdown_1.12     \n",
       "[17] knitr_1.45         lubridate_1.9.3    forcats_1.0.0      stringr_1.5.1     \n",
       "[21] dplyr_1.1.4        purrr_1.0.2        readr_2.1.5        tidyr_1.3.1       \n",
       "[25] tibble_3.2.1       ggplot2_3.4.4      tidyverse_2.0.0    here_1.0.1        \n",
       "\n",
       "loaded via a namespace (and not attached):\n",
       "  [1] rstudioapi_0.15.0  jsonlite_1.8.8     magrittr_2.0.3    \n",
       "  [4] TH.data_1.1-2      estimability_1.5   nloptr_2.0.3      \n",
       "  [7] rmarkdown_2.25     vctrs_0.6.5        minqa_1.2.6       \n",
       " [10] base64enc_0.1-3    rstatix_0.7.2      htmltools_0.5.7   \n",
       " [13] broom_1.0.5        Formula_1.2-5      htmlwidgets_1.6.4 \n",
       " [16] plyr_1.8.9         sandwich_3.1-0     emmeans_1.10.0    \n",
       " [19] zoo_1.8-12         uuid_1.2-0         igraph_2.0.2      \n",
       " [22] mime_0.12          lifecycle_1.0.4    pkgconfig_2.0.3   \n",
       " [25] Matrix_1.6-5       R6_2.5.1           fastmap_1.1.1     \n",
       " [28] shiny_1.8.0        digest_0.6.34      OpenMx_2.21.11    \n",
       " [31] fdrtool_1.2.17     colorspace_2.1-0   rprojroot_2.0.4   \n",
       " [34] Hmisc_5.1-1        fansi_1.0.6        timechange_0.3.0  \n",
       " [37] abind_1.4-5        compiler_4.3.2     withr_3.0.0       \n",
       " [40] glasso_1.11        htmlTable_2.4.2    backports_1.4.1   \n",
       " [43] carData_3.0-5      ggsignif_0.6.4     corpcor_1.6.10    \n",
       " [46] gtools_3.9.5       tools_4.3.2        pbivnorm_0.6.0    \n",
       " [49] foreign_0.8-86     zip_2.3.1          httpuv_1.6.14     \n",
       " [52] nnet_7.3-19        glue_1.7.0         quadprog_1.5-8    \n",
       " [55] nlme_3.1-164       promises_1.2.1     lisrelToR_0.3     \n",
       " [58] grid_4.3.2         pbdZMQ_0.3-11      checkmate_2.3.1   \n",
       " [61] cluster_2.1.6      reshape2_1.4.4     generics_0.1.3    \n",
       " [64] gtable_0.3.4       tzdb_0.4.0         data.table_1.15.0 \n",
       " [67] hms_1.1.3          car_3.1-2          utf8_1.2.4        \n",
       " [70] tables_0.9.17      sem_3.1-15         pillar_1.9.0      \n",
       " [73] IRdisplay_1.1      rockchalk_1.8.157  later_1.3.2       \n",
       " [76] splines_4.3.2      lattice_0.22-5     survival_3.5-8    \n",
       " [79] kutils_1.73        tidyselect_1.2.0   miniUI_0.1.1.1    \n",
       " [82] pbapply_1.7-2      stats4_4.3.2       xfun_0.42         \n",
       " [85] qgraph_1.9.8       arm_1.13-1         stringi_1.8.3     \n",
       " [88] boot_1.3-29        evaluate_0.23      codetools_0.2-19  \n",
       " [91] mi_1.1             cli_3.6.2          RcppParallel_5.1.7\n",
       " [94] IRkernel_1.3.2     rpart_4.1.23       xtable_1.8-4      \n",
       " [97] repr_1.1.6         munsell_0.5.0      Rcpp_1.0.12       \n",
       "[100] coda_0.19-4.1      png_0.1-8          XML_3.99-0.16.1   \n",
       "[103] parallel_4.3.2     ellipsis_0.3.2     jpeg_0.1-10       \n",
       "[106] lme4_1.1-35.1      mvtnorm_1.2-4      insight_0.19.8    \n",
       "[109] openxlsx_4.2.5.2   crayon_1.5.2       rlang_1.1.3       \n",
       "[112] multcomp_1.4-25    mnormt_2.1.1      "
      ]
     },
     "metadata": {},
     "output_type": "display_data"
    }
   ],
   "source": [
    "sessionInfo()"
   ]
  },
  {
   "attachments": {},
   "cell_type": "markdown",
   "id": "455bbb23",
   "metadata": {},
   "source": [
    "<!-- [^2]: Vedremo in seguito -->\n",
    "<!--     (§ [\\[ch:err_stnd_stima\\]](#ch:err_stnd_stima){reference-type=\"ref\" -->\n",
    "<!--     reference=\"ch:err_stnd_stima\"}) come il livello di abilità latente -->\n",
    "<!--     (il punteggio vero) possa essere stimato con la formula di Kelley -->\n",
    "<!--     (1923), ovvero $$\\begin{aligned} -->\n",
    "<!--     \\hat{T}_i &= \\rho_{XT} x_i + (1 - \\rho_{XT})\\mu_x\\notag\\\\ -->\n",
    "<!--     &= \\mu_x + \\rho_{XT} (x_i - \\mu_x),\\notag\\end{aligned}$$ dove -->\n",
    "<!--     $\\mu_x$ è la media dei punteggio osservato e $\\hat{T}_i$ è la stima -->\n",
    "<!--     del punteggio vero per l'$i$-esimo rispondente. -->\n",
    "\n",
    "<!-- [^3]:  -->"
   ]
  }
 ],
 "metadata": {
  "jupytext": {
   "cell_metadata_filter": "fig.cap,tags,-all",
   "main_language": "R",
   "notebook_metadata_filter": "-all"
  },
  "kernelspec": {
   "display_name": "R",
   "language": "R",
   "name": "ir"
  },
  "language_info": {
   "codemirror_mode": "r",
   "file_extension": ".r",
   "mimetype": "text/x-r-source",
   "name": "R",
   "pygments_lexer": "r",
   "version": "4.3.2"
  }
 },
 "nbformat": 4,
 "nbformat_minor": 5
}
