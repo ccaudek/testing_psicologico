{
 "cells": [
  {
   "attachments": {},
   "cell_type": "markdown",
   "id": "2c19761a",
   "metadata": {},
   "source": [
    "# Fondamenti teorici {#sec-ctt-1}"
   ]
  },
  {
   "cell_type": "markdown",
   "id": "2739a38e",
   "metadata": {},
   "source": [
    "**Prerequisiti**\n",
    "\n",
    "- Leggere il capitolo 3, *Reliability*, del testo *Principles of psychological assessment* di @petersen2024principles. \n",
    "\n",
    "- Si consiglia di ripassare i concetti fondamentali della teoria delle probabilità, in particolare le proprietà delle variabili aleatorie. Per approfondire, si rimanda al materiale didattico dell'insegnamento di Psicometria disponibile al seguente [link](https://ccaudek.github.io/psicometria/).\n",
    "\n",
    "**Concetti e Competenze Chiave**\n",
    "\n",
    "**Preparazione del Notebook**"
   ]
  },
  {
   "cell_type": "code",
   "execution_count": 1,
   "id": "b58f4e19",
   "metadata": {
    "tags": [
     "remove_cell"
    ],
    "vscode": {
     "languageId": "r"
    }
   },
   "outputs": [],
   "source": [
    "# Carica il file _common.R per impostazioni di pacchetti e opzioni\n",
    "here::here(\"code\", \"_common.R\") |> source()\n",
    "\n",
    "# Carica pacchetti aggiuntivi\n",
    "pacman::p_load(modelsummary, MASS)"
   ]
  },
  {
   "cell_type": "markdown",
   "id": "86454fbc",
   "metadata": {},
   "source": [
    "## Introduzione\n",
    "\n",
    "La CTT, originariamente sviluppata da @ch1904general e successivamente formalizzata da @lord1968statistical, è una teoria utilizzata in psicometria per valutare e misurare le caratteristiche psicologiche degli individui attraverso l'uso di test e questionari. Alla base della CTT c'è l'idea che il punteggio di un individuo in un test rifletta tanto il suo vero livello nella caratteristica misurata quanto un certo grado di errore casuale di misurazione. Questa teoria fornisce un quadro concettuale per comprendere come il punteggio osservato possa differire dal punteggio vero e per analizzare la precisione e l'affidabilità del test stesso. Sebbene siano stati sviluppati approcci più recenti, come la teoria della risposta all'item e la teoria della generalizzabilità, la CTT rimane una componente fondamentale nella psicometria e continua a guidare la costruzione, l'interpretazione e la valutazione dei test psicologici.\n",
    "\n",
    "Secondo questa teoria, il punteggio ottenuto da un individuo in un test è influenzato da due componenti: il  punteggio vero dell'individuo sulla caratteristica misurata e l'errore casuale di misurazione.\n",
    "\n",
    "Il punteggio vero rappresenta la misura effettiva della caratteristica che si intende valutare nel soggetto. Tuttavia, a causa di vari fattori come l'errore di misurazione, le distrazioni o l'incertezza dell'individuo durante il test, il punteggio osservato può deviare dal  punteggio vero. Questa discrepanza tra il punteggio vero e il punteggio osservato viene definita errore di misurazione.\n",
    "\n",
    "La teoria classica dei test si focalizza sulla quantificazione della relazione tra il punteggio vero, il punteggio osservato e l'errore di misurazione. Attraverso l'uso di statistiche come la media, la deviazione standard e il coefficiente di affidabilità, questa teoria fornisce una base concettuale per la costruzione dei test, l'interpretazione dei risultati e l'analisi dell'affidabilità del test stesso.\n",
    "\n",
    "## Costrutti\n",
    "\n",
    "Un costrutto è un concetto, spesso considerato una idea latente o fenomeno non direttamente osservabile [@petersen2024principles]. Ad esempio, la depressione può essere un costrutto perché non possiamo misurare direttamente il livello di depressione di una persona, ma lo inferiamo attraverso indicatori indiretti come umore basso, perdita di interesse, difficoltà nel sonno, ecc. Gli indicatori sono misure che riflettono il costrutto.\n",
    "\n",
    "Esistono due tipi principali di costrutti: **costrutti riflessivi** e **costrutti formativi**.\n",
    "\n",
    "- In un **costrutto riflessivo**, il costrutto causa le misure e gli indicatori riflettono il costrutto [@bollen1991conventional]. Ad esempio, l'estroversione è un costrutto riflessivo perché la risposta agli indicatori come \"piacere di parlare con sconosciuti\" o \"andare a feste\" riflette il livello di estroversione della persona. Gli indicatori sono correlati perché riflettono tutti un unico costrutto latente. La **consistenza interna** tra gli indicatori è quindi attesa.\n",
    "\n",
    "- In un **costrutto formativo**, invece, le misure causano il costrutto [@bollen1991conventional]. Ad esempio, lo stato socioeconomico (SES) può essere formato dall'educazione, dal reddito e dal prestigio occupazionale di una persona. Gli indicatori formano il costrutto e potrebbero non essere correlati tra loro, in contrasto con i costrutti riflessivi.\n",
    "\n",
    "Differenze tra costrutti riflessivi e formativi:\n",
    "\n",
    "- **Correlazioni tra indicatori**: Gli indicatori riflessivi sono correlati, mentre quelli formativi non lo devono necessariamente essere.\n",
    "\n",
    "- **Campionamento degli indicatori**: Nei costrutti formativi è essenziale campionare tutti gli aspetti del costrutto, mentre nei riflessivi gli indicatori possono essere intercambiabili.\n",
    "\n",
    "- **Correlazioni ottimali**: Nei costrutti riflessivi, alte correlazioni tra indicatori sono desiderabili, mentre nei formativi correlazioni troppo alte possono creare multicollinearità.\n",
    "\n",
    "I costrutti riflessivi devono essere stimati con modelli latenti come SEM, analisi fattoriale o teoria della risposta dell'item (IRT). I costrutti formativi possono essere stimati con medie pesate o tramite SEM. \n",
    "\n",
    "In sintesi, prima di stimare un costrutto, è importante comprendere la sua natura teorica. I costrutti riflessivi richiedono modelli che riflettano la varianza comune tra gli indicatori, mentre i costrutti formativi possono essere stimati con medie o punteggi sommativi. La teoria è essenziale per guidare la scelta del metodo di stima."
   ]
  },
  {
   "cell_type": "markdown",
   "id": "8ab916a8",
   "metadata": {},
   "source": [
    "## L'Equazione Fondamentale della CTT\n",
    "\n",
    "La CTT descrive come i punteggi ottenuti da un test psicometrico siano legati a un costrutto latente. Uno dei concetti fondamentali all'interno della CTT riguarda l'affidabilità dei punteggi ottenuti dai test. L'affidabilità, in questo contesto, indica la capacità del test di produrre risultati coerenti e stabili in diverse occasioni. Questo concetto può essere compreso attraverso l'equazione fondamentale della CTT:\n",
    "\n",
    "$$\n",
    "X = T + E,\n",
    "$$ {#eq-observed-true-plus-error}\n",
    "\n",
    "dove $X$ rappresenta il punteggio osservato nel test, $T$ è il punteggio vero (ovvero la rappresentazione della variabile latente di interesse), e $E$ rappresenta l'errore di misurazione.\n",
    "\n",
    "Un aspetto di particolare rilevanza all'interno della CTT riguarda la varianza dell'errore. Maggiore è questa varianza, minore sarà la precisione con cui il punteggio vero si riflette nei punteggi osservati. In un contesto ideale, gli errori di misurazione sarebbero tutti nulli, garantendo punteggi esatti per ogni partecipante. Tuttavia, a causa delle inevitabili imperfezioni, si verifica una certa variazione negli errori. La deviazione standard associata a questi errori è chiamata **errore standard di misurazione** e viene indicata con $\\sigma_E$. Uno degli obiettivi principali della CTT è stimare $\\sigma_E$ al fine di valutare la qualità di una scala psicometrica.\n",
    "\n",
    "### Le due componenti del punteggio osservato\n",
    "\n",
    "L'@eq-observed-true-plus-error rappresenta il cuore del modello, sottolineando che il punteggio osservato è il risultato dell'addizione del punteggio vero e dell'errore di misurazione.\n",
    "\n",
    "L'obiettivo principale della CTT è quantificare l'errore di misurazione (rappresentato da $\\sigma_E$) per valutare l'affidabilità del test e ottenere una stima dell'errore standard di misurazione. L'affidabilità del test riflette la precisione con cui il test può misurare il punteggio vero (Coaley, 2014). Si calcola come il rapporto tra la varianza dei punteggi veri e la varianza dei punteggi osservati. Un'alta affidabilità indica una ridotta incertezza dovuta all'errore di misurazione ($\\sigma_E$), indicando che il punteggio osservato ($X$) fornisce una misura accurata del punteggio vero ($T$). Al contrario, una bassa affidabilità indica un elevato errore di misurazione ($\\sigma_E$) e una significativa discrepanza tra il punteggio osservato e il punteggio vero.\n",
    "\n",
    "La stima dell'errore standard di misurazione comporta il calcolo della deviazione standard della variabile casuale $E$ (ossia $\\sigma_E$), che rappresenta l'errore di misurazione influente sui punteggi veri. Questa stima offre un'indicazione della dispersione dei punteggi osservati attorno ai punteggi veri, causata dall'errore di misurazione.\n",
    "\n",
    "Nelle prossime sezioni, esploreremo come il concetto chiave di attendibilità nella CTT possa essere collegato al coefficiente di determinazione nel contesto del modello statistico di regressione lineare. Inoltre, vedremo come l'errore standard di misurazione della CTT possa essere associato all'errore standard nella regressione.\n",
    "\n",
    "### Il punteggio vero\n",
    "\n",
    "L'@eq-observed-true-plus-error ci spiega che il punteggio osservato è il risultato della combinazione di due componenti: una componente sistematica (il punteggio vero) e una componente aleatoria (l'errore di misurazione). Ma cosa rappresenta esattamente il punteggio vero? La Teoria Classica dei Test (CTT) attribuisce diverse interpretazioni al concetto di punteggio vero.\n",
    "\n",
    "- Da un punto di vista psicologico, la CTT considera il test come una selezione casuale di domande da un insieme più ampio di domande che riflettono il costrutto da misurare [@nunnally1994psychometric; @kline2013handbook]. In questo contesto, il punteggio vero rappresenta il punteggio che un partecipante otterrebbe se rispondesse a tutte le domande dell'insieme completo. L'errore di misurazione riflette quindi quanto le domande selezionate rappresentano l'intero insieme di domande relative al costrutto.\n",
    "\n",
    "- In modo equivalente, il punteggio vero può essere considerato come il punteggio non influenzato da fattori esterni al costrutto, come effetti di apprendimento, fatica, memoria, motivazione, e così via. Poiché è concepito come un processo completamente casuale, la componente aleatoria non introduce alcun bias nella tendenza centrale della misurazione (la media di $E$ è assunta essere uguale a 0).\n",
    "\n",
    "- Dal punto di vista statistico, il punteggio vero è un punteggio inosservabile che rappresenta il valore atteso di infinite misurazioni del punteggio ottenute:\n",
    "\n",
    "$$\n",
    "T = \\mathbb{E}(X) \\equiv \\mu_X \\equiv \\mu_{T}.\n",
    "$$\n",
    "\n",
    "Combinando le definizioni presentate sopra, @lord1968statistical concepiscono il punteggio vero come la media dei punteggi che un soggetto otterrebbe se il test venisse somministrato ripetutamente nelle stesse condizioni, senza effetti di apprendimento o fatica.\n",
    "\n",
    "### Somministrazioni ripetute\n",
    "\n",
    "Nella CTT, possiamo distinguere due tipi di esperimenti casuali: uno in cui l'unità di osservazione (l’individuo) è considerata una variabile campionaria, e un altro in cui il punteggio di un singolo individuo è trattato come una variabile casuale. La combinazione di questi due esperimenti consente di estendere i risultati della CTT, originariamente sviluppata assumendo somministrazioni ripetute immaginarie del test allo stesso individuo in condizioni identiche, al caso di una singola somministrazione su un campione di individui [@allen2001introduction].\n",
    "\n",
    "Questa estensione si fonda sull’assunzione ergodica, secondo cui è possibile interpretare la variabilità nelle misurazioni ripetute su un singolo individuo come rappresentativa della variabilità in un campione di individui, a condizione che siano soddisfatte le seguenti condizioni: \n",
    "\n",
    "- **Omogeneità:** le proprietà fondamentali del costrutto misurato sono uguali per tutti gli individui nel campione. In altre parole, ogni individuo risponde in modo simile rispetto alla dimensione latente misurata dal test, e le differenze individuali sono esclusivamente dovute alla variabilità casuale o all’errore di misura, non a variazioni sostanziali nel costrutto.\n",
    "\n",
    "- **Stabilità:** le caratteristiche individuali misurate restano costanti nel tempo durante le somministrazioni ripetute. Ciò significa che, per uno stesso individuo, il costrutto misurato non cambia tra una somministrazione e l’altra, e le variazioni osservate riflettono soltanto la componente di errore o la variabilità casuale.\n",
    "\n",
    "Quando queste condizioni sono soddisfatte, le quantità fondamentali della CTT assumono un significato empirico valido anche per la somministrazione del test a una popolazione di individui. In questo contesto:\n",
    "\n",
    "- $\\sigma^2_X$ rappresenta la varianza del punteggio osservato nella popolazione,\n",
    "\n",
    "- $\\sigma^2_T$ rappresenta la varianza del punteggio vero nella popolazione,\n",
    "\n",
    "- $\\sigma^2_E$ rappresenta la varianza della componente d’errore nella popolazione.\n",
    "\n",
    "L’assunzione ergodica permette quindi di inferire proprietà della popolazione a partire da misurazioni su individui singoli e viceversa, in quanto la variabilità all’interno di un individuo e quella tra individui sono considerate comparabili nelle stesse condizioni.\n",
    "\n",
    "### Le assunzioni sul punteggio ottenuto\n",
    "\n",
    "La CTT *assume* che la media del punteggio osservato $X$ sia uguale alla\n",
    "media del punteggio vero, \n",
    "\n",
    "$$\n",
    "\\mu_X \\equiv \\mu_{T},\n",
    "$$ {#eq-assunzione-media-x-media-t}\n",
    "\n",
    "in altri termini, assume che il punteggio osservato fornisca una stima statisticamente corretta dell'abilità latente (punteggio vero). \n",
    "\n",
    "In pratica, il punteggio osservato non sarà mai uguale all'abilità latente, ma corrisponde solo ad uno dei possibili punteggi che il soggetto può ottenere, subordinatamente alla sua abilità latente. L'errore della misura è la differenza tra il punteggio osservato e il punteggio vero:\n",
    "\n",
    "$$\n",
    "E \\equiv X - T.\n",
    "$$\n",
    "\n",
    "In base all'assunzione secondo cui il valore atteso dei punteggi è uguale alla media del valore vero, segue che\n",
    "\n",
    "$$\n",
    "\\mathbb{E}(E) = \\mathbb{E}(X - T) = \\mathbb{E}(X) - \\mathbb{E}(T) = \\mu_{T} - \\mu_{T} = 0,\n",
    "$$\n",
    "\n",
    "ovvero, il valore atteso degli errori è uguale a zero.\n",
    "\n",
    "Per dare un contenuto concreto alle affermazioni precedenti, consideriamo la seguente simulazione svolta in $\\textsf{R}$. In tale simulazione il punteggio vero $T$ e l'errore $E$ sono creati in modo tale da soddisfare i vincoli della CTT: $T$ e $E$ sono variabili casuali gaussiane tra loro incorrelate. Nella simulazione generiamo 100 coppie di valori $X$ e $T$ con i seguenti parametri: $T \\sim \\mathcal{N}(\\mu_T = 12, \\sigma^2_T = 6)$, $E \\sim \\mathcal{N}(\\mu_E = 0, \\sigma^2_T = 3)$:"
   ]
  },
  {
   "cell_type": "code",
   "execution_count": 2,
   "id": "2d71895b",
   "metadata": {
    "vscode": {
     "languageId": "r"
    }
   },
   "outputs": [],
   "source": [
    "set.seed(8394)\n",
    "\n",
    "n <- 100\n",
    "Sigma <- matrix(c(6, 0, 0, 3), byrow = TRUE, ncol = 2)\n",
    "mu <- c(12, 0)\n",
    "dat <- mvrnorm(n, mu, Sigma, empirical = TRUE)\n",
    "T <- dat[, 1]\n",
    "E <- dat[, 2]"
   ]
  },
  {
   "cell_type": "markdown",
   "id": "b0d17951",
   "metadata": {},
   "source": [
    "Le istruzioni precedenti (`empirical = TRUE`) creano un campione di valori nei quali  le medie e la matrice di covarianze assumono esattamente i valori richiesti. Possiamo dunque immaginare tale insieme di dati come la \"popolazione\".\n",
    "\n",
    "Secondo la CTT, il punteggio osservato è $X = T + E$. Simuliamo dunque\n",
    "il punteggio osservato $X$ come:"
   ]
  },
  {
   "cell_type": "code",
   "execution_count": 3,
   "id": "89b44772",
   "metadata": {
    "vscode": {
     "languageId": "r"
    }
   },
   "outputs": [],
   "source": [
    "X <- T + E"
   ]
  },
  {
   "cell_type": "markdown",
   "id": "c1d15464",
   "metadata": {},
   "source": [
    "Le prime 6 osservazioni così ottenute sono:"
   ]
  },
  {
   "cell_type": "code",
   "execution_count": 4,
   "id": "1377a5cb",
   "metadata": {
    "vscode": {
     "languageId": "r"
    }
   },
   "outputs": [
    {
     "data": {
      "text/html": [
       "<table class=\"dataframe\">\n",
       "<caption>A tibble: 6 x 3</caption>\n",
       "<thead>\n",
       "\t<tr><th scope=col>X</th><th scope=col>T</th><th scope=col>E</th></tr>\n",
       "\t<tr><th scope=col>&lt;dbl&gt;</th><th scope=col>&lt;dbl&gt;</th><th scope=col>&lt;dbl&gt;</th></tr>\n",
       "</thead>\n",
       "<tbody>\n",
       "\t<tr><td>15.70</td><td>16.77</td><td>-1.067</td></tr>\n",
       "\t<tr><td>13.66</td><td>12.25</td><td> 1.409</td></tr>\n",
       "\t<tr><td> 6.73</td><td> 7.85</td><td>-1.120</td></tr>\n",
       "\t<tr><td>14.62</td><td>14.23</td><td> 0.388</td></tr>\n",
       "\t<tr><td>10.61</td><td>10.19</td><td> 0.420</td></tr>\n",
       "\t<tr><td>12.37</td><td>13.33</td><td>-0.960</td></tr>\n",
       "</tbody>\n",
       "</table>\n"
      ],
      "text/latex": [
       "A tibble: 6 x 3\n",
       "\\begin{tabular}{lll}\n",
       " X & T & E\\\\\n",
       " <dbl> & <dbl> & <dbl>\\\\\n",
       "\\hline\n",
       "\t 15.70 & 16.77 & -1.067\\\\\n",
       "\t 13.66 & 12.25 &  1.409\\\\\n",
       "\t  6.73 &  7.85 & -1.120\\\\\n",
       "\t 14.62 & 14.23 &  0.388\\\\\n",
       "\t 10.61 & 10.19 &  0.420\\\\\n",
       "\t 12.37 & 13.33 & -0.960\\\\\n",
       "\\end{tabular}\n"
      ],
      "text/markdown": [
       "\n",
       "A tibble: 6 x 3\n",
       "\n",
       "| X &lt;dbl&gt; | T &lt;dbl&gt; | E &lt;dbl&gt; |\n",
       "|---|---|---|\n",
       "| 15.70 | 16.77 | -1.067 |\n",
       "| 13.66 | 12.25 |  1.409 |\n",
       "|  6.73 |  7.85 | -1.120 |\n",
       "| 14.62 | 14.23 |  0.388 |\n",
       "| 10.61 | 10.19 |  0.420 |\n",
       "| 12.37 | 13.33 | -0.960 |\n",
       "\n"
      ],
      "text/plain": [
       "  X     T     E     \n",
       "1 15.70 16.77 -1.067\n",
       "2 13.66 12.25  1.409\n",
       "3  6.73  7.85 -1.120\n",
       "4 14.62 14.23  0.388\n",
       "5 10.61 10.19  0.420\n",
       "6 12.37 13.33 -0.960"
      ]
     },
     "metadata": {},
     "output_type": "display_data"
    }
   ],
   "source": [
    "tibble(X, T, E) |> head()"
   ]
  },
  {
   "cell_type": "markdown",
   "id": "16bea309",
   "metadata": {},
   "source": [
    "\\\n",
    "Un diagramma di dispersione è fornito nella figura seguente:"
   ]
  },
  {
   "cell_type": "code",
   "execution_count": 5,
   "id": "f6420620",
   "metadata": {
    "vscode": {
     "languageId": "r"
    }
   },
   "outputs": [
    {
     "data": {
      "image/png": "[encoded data removed]",
      "text/plain": [
       "plot without title"
      ]
     },
     "metadata": {
      "image/png": {
       "height": 370.8204,
       "width": 600
      }
     },
     "output_type": "display_data"
    }
   ],
   "source": [
    "tibble(X, T) |>\n",
    "ggplot(aes(T, X)) +\n",
    "    geom_point(position = position_jitter(w = .3, h = .3)) +\n",
    "    geom_abline(col = \"blue\")"
   ]
  },
  {
   "cell_type": "markdown",
   "id": "e3f9176e",
   "metadata": {},
   "source": [
    "Secondo la CTT, il valore atteso di $T$ è uguale al valore atteso di\n",
    "$X$. Verifichiamo questa assunzione nei nostri dati"
   ]
  },
  {
   "cell_type": "code",
   "execution_count": 6,
   "id": "e30d1ee5",
   "metadata": {
    "vscode": {
     "languageId": "r"
    }
   },
   "outputs": [
    {
     "data": {
      "text/html": [
       "TRUE"
      ],
      "text/latex": [
       "TRUE"
      ],
      "text/markdown": [
       "TRUE"
      ],
      "text/plain": [
       "[1] TRUE"
      ]
     },
     "metadata": {},
     "output_type": "display_data"
    }
   ],
   "source": [
    "mean(T) == mean(X)"
   ]
  },
  {
   "cell_type": "markdown",
   "id": "40a5d2d2",
   "metadata": {},
   "source": [
    "\\\n",
    "L'errore deve avere media zero:"
   ]
  },
  {
   "cell_type": "code",
   "execution_count": 7,
   "id": "cf7774e0",
   "metadata": {
    "vscode": {
     "languageId": "r"
    }
   },
   "outputs": [
    {
     "data": {
      "text/html": [
       "-8.88178419700125e-17"
      ],
      "text/latex": [
       "-8.88178419700125e-17"
      ],
      "text/markdown": [
       "-8.88178419700125e-17"
      ],
      "text/plain": [
       "[1] -8.88e-17"
      ]
     },
     "metadata": {},
     "output_type": "display_data"
    }
   ],
   "source": [
    "mean(E)"
   ]
  },
  {
   "cell_type": "markdown",
   "id": "6a9bbb07",
   "metadata": {},
   "source": [
    "\\\n",
    "Le varianze dei punteggi veri, dei punteggi osservati e degli errori sono rispettivamente uguali a:"
   ]
  },
  {
   "cell_type": "code",
   "execution_count": 8,
   "id": "9a9fbf63",
   "metadata": {
    "vscode": {
     "languageId": "r"
    }
   },
   "outputs": [
    {
     "data": {
      "text/html": [
       "<style>\n",
       ".list-inline {list-style: none; margin:0; padding: 0}\n",
       ".list-inline>li {display: inline-block}\n",
       ".list-inline>li:not(:last-child)::after {content: \"\\00b7\"; padding: 0 .5ex}\n",
       "</style>\n",
       "<ol class=list-inline><li>6</li><li>9</li><li>3</li></ol>\n"
      ],
      "text/latex": [
       "\\begin{enumerate*}\n",
       "\\item 6\n",
       "\\item 9\n",
       "\\item 3\n",
       "\\end{enumerate*}\n"
      ],
      "text/markdown": [
       "1. 6\n",
       "2. 9\n",
       "3. 3\n",
       "\n",
       "\n"
      ],
      "text/plain": [
       "[1] 6 9 3"
      ]
     },
     "metadata": {},
     "output_type": "display_data"
    }
   ],
   "source": [
    "c(var(T), var(X), var(E))  "
   ]
  },
  {
   "cell_type": "markdown",
   "id": "630ba92f",
   "metadata": {},
   "source": [
    "## L'errore standard della misurazione $\\sigma_E$\n",
    "\n",
    "La radice quadrata della varianza degli errori di misurazione, ovvero la deviazione standard degli errori, $\\sigma_E$, è la quantità fondamentale della CTT ed è chiamata *errore standard della misurazione*. La stima dell'errore standard della misurazione costituisce uno degli obiettivi più importanti della CTT. \n",
    "\n",
    "Nel caso presente, abbiamo:"
   ]
  },
  {
   "cell_type": "code",
   "execution_count": 9,
   "id": "38a4d2b0",
   "metadata": {
    "vscode": {
     "languageId": "r"
    }
   },
   "outputs": [
    {
     "data": {
      "text/html": [
       "1.73205080756888"
      ],
      "text/latex": [
       "1.73205080756888"
      ],
      "text/markdown": [
       "1.73205080756888"
      ],
      "text/plain": [
       "[1] 1.73"
      ]
     },
     "metadata": {},
     "output_type": "display_data"
    }
   ],
   "source": [
    "sqrt(var(E))"
   ]
  },
  {
   "cell_type": "markdown",
   "id": "8f8d34ac",
   "metadata": {},
   "source": [
    "\\\n",
    "Ricordiamo che la deviazione standard indica quanto i dati di una distribuzione si discostano dalla media di quella distribuzione. È simile allo scarto tipico, ovvero la distanza media tra i valori della distribuzione e la loro media. Possiamo dunque utilizzare questa proprietà per descrivere il modo in cui la CTT interpreta la quantità $\\sigma_E$: l'errore standard della misurazione $\\sigma_E$ ci dice qual è, approssimativamente, la quantità attesa di variazione del punteggio osservato, se il test venisse somministrato ripetute volte al medesimo rispondente sotto le stesse condizioni (ovvero, in assenza di effetti di apprendimento o di fatica).\n",
    "\n",
    "## Assiomi della Teoria Classica\n",
    "\n",
    "La CTT _assume_ che gli errori siano delle variabili casuali incorrelate tra loro\n",
    "\n",
    "$$\n",
    "\\rho(E_i, E_k \\mid T) = 0, \\qquad\\text{con}\\; i \\neq k,\n",
    "$$\n",
    "\n",
    "e incorrelate con il punteggio vero,\n",
    "\n",
    "$$\n",
    "\\rho(E, T) = 0,\n",
    "$$\n",
    "\n",
    "le quali seguono una distribuzione gaussiana con media zero e deviazione standard pari a $\\sigma_E$:\n",
    "\n",
    "$$\n",
    "E \\sim \\mathcal{N}(0, \\sigma_E).\n",
    "$$\n",
    "\n",
    "La quantità $\\sigma_E$ è appunto l'errore standard della misurazione. Sulla base di tali assunzioni la CTT deriva la formula dell'attendibilità di un test. Si noti che le assunzioni della CTT hanno una corrispondenza puntuale con le assunzioni su cui si basa il modello di regressione lineare.\n",
    "\n",
    "Verifichiamo le assunzioni per i dati dell'esempio."
   ]
  },
  {
   "cell_type": "code",
   "execution_count": 10,
   "id": "8dc485ed",
   "metadata": {
    "vscode": {
     "languageId": "r"
    }
   },
   "outputs": [
    {
     "data": {
      "text/html": [
       "-4.22920527591589e-17"
      ],
      "text/latex": [
       "-4.22920527591589e-17"
      ],
      "text/markdown": [
       "-4.22920527591589e-17"
      ],
      "text/plain": [
       "[1] -4.23e-17"
      ]
     },
     "metadata": {},
     "output_type": "display_data"
    }
   ],
   "source": [
    "cor(E, T)"
   ]
  },
  {
   "cell_type": "code",
   "execution_count": 11,
   "id": "b8fd5bc8",
   "metadata": {
    "vscode": {
     "languageId": "r"
    }
   },
   "outputs": [
    {
     "data": {
      "image/png": "[encoded data removed]",
      "text/plain": [
       "Plot with title \"density(x = E)\""
      ]
     },
     "metadata": {
      "image/png": {
       "height": 370.8204,
       "width": 600
      }
     },
     "output_type": "display_data"
    }
   ],
   "source": [
    "plot(density(E))\n",
    "curve(dnorm(x, mean(E), sd(E)), add = TRUE, col = \"red\")"
   ]
  },
  {
   "cell_type": "markdown",
   "id": "bae1b5e9",
   "metadata": {},
   "source": [
    "## Quattro Livelli di Misurazione nella CTT\n",
    "\n",
    "Nell'ambito della CTT, le misure della stessa entità (che possono essere item, sottoscale o test) possono essere classificate in base al loro livello di similarità. In questa sezione, verranno definiti quattro livelli di similarità: misure parallele, $\\tau$-equivalenti, essenzialmente $\\tau$-equivalenti e congeneriche. \n",
    "\n",
    "È importante notare che questi livelli sono gerarchici nel senso che il livello più alto (misure parallele) richiede la maggiore similarità, mentre i livelli inferiori nella gerarchia consentono una minore similarità nelle proprietà del test. Ad esempio, le misure parallele devono avere varianze di vero punteggio uguali, mentre le misure congenetiche non richiedono questa condizione.\n",
    "\n",
    "Un modo utile per comprendere questi livelli è riflettere sulle relazioni tra i punteggi veri di coppie di misure [@komaroff1997effect]. Nella CTT, la relazione tra i punteggi veri su due misure ($t_i$ e $t_j$) è espressa come:\n",
    "\n",
    "$$\n",
    "t_i = a_{ij }+ b_{ij} t_{j}.\n",
    "$$\n",
    "\n",
    "* $a_{ij}$: Rappresenta lo *scarto medio* tra i punteggi delle due misure. Se è diverso da zero, una misura tende a dare punteggi sistematicamente più alti o più bassi dell'altra.\n",
    "\n",
    "* $b_{ij}$: Rappresenta la *scala* con cui una misura misura il tratto latente rispetto all'altra. Se è diverso da uno, le misure non misurano lo stesso tratto con la stessa intensità.\n",
    "\n",
    "**Cosa significano questi parametri per i livelli di similarità?**\n",
    "\n",
    "* **Misure parallele:** Entrambe le misure sono identiche, sia nella scala che nello scarto medio.\n",
    "\n",
    "* **Misure τ-equivalenti:** Le misure hanno la stessa scala, ma potrebbero avere uno scarto medio diverso.\n",
    "\n",
    "* **Misure essenzialmente τ-equivalenti:** Le misure possono differire sia nella scala che nello scarto medio, ma entro certi limiti.\n",
    "\n",
    "* **Misure congeneriche:** Le misure possono differire in modo sostanziale sia nella scala che nello scarto medio.\n",
    "\n",
    "In sostanza, più i parametri $a_{ij}$ e $b_{ij}$ sono vicini a zero e uno, rispettivamente, più le misure sono simili e misurano lo stesso costrutto in modo più coerente.\n",
    "\n",
    "### Misure parallele\n",
    "\n",
    "Le **misure parallele** rappresentano il livello più alto di similarità tra le misure. Ciò significa che due misure sono considerate parallele quando soddisfano le seguenti condizioni:\n",
    "\n",
    "* **Uguaglianza delle medie dei punteggi veri:** Il termine $a_{ij}$ nell'equazione è uguale a zero per tutte le coppie di misure, indicando che non esiste alcuna differenza sistematica tra le medie dei punteggi veri delle due misure.\n",
    "\n",
    "* **Uguaglianza delle varianze dei punteggi veri:** Il termine $b_{ij}$ è uguale a uno per tutte le coppie di misure, indicando che le varianze dei punteggi veri delle due misure sono identiche.\n",
    "\n",
    "* **Uguaglianza delle varianze di errore:** Le misure parallele presentano la stessa quantità di errore di misura.\n",
    "\n",
    "Queste condizioni implicano che:\n",
    "\n",
    "* I punteggi osservati (ovvero, i punteggi effettivamente ottenuti dai soggetti) avranno medie, varianze e correlazioni uguali. \n",
    "\n",
    "* Gli item che costituiscono misure parallele hanno lo stesso potere discriminativo (carico fattoriale) rispetto al costrutto che misurano.\n",
    "\n",
    "In sostanza, le misure parallele misurano esattamente lo stesso costrutto, con la stessa precisione e senza alcuna distorsione sistematica.\n",
    "\n",
    "Simuliamo i punteggi di due test paralleli in R."
   ]
  },
  {
   "cell_type": "code",
   "execution_count": 12,
   "id": "c977aa57",
   "metadata": {
    "vscode": {
     "languageId": "r"
    }
   },
   "outputs": [],
   "source": [
    "set.seed(2237) # setting the seed ensure reproducibility\n",
    "num_person <- 1000 # number of respondents\n",
    "# True scores for Test 1\n",
    "t1 <- rnorm(num_person, mean = 20, sd = 5)\n",
    "# Error scores for Test 1\n",
    "e1 <- rnorm(num_person, mean = 0, sd = 2)\n",
    "# Observed scores for Test 1\n",
    "x1 <- t1 + e1\n",
    "# True scores for Test 2\n",
    "t2 <- t1 # parallel tests have equal true scores\n",
    "# Error scores for Test 2\n",
    "e2 <- rnorm(num_person, mean = 0, sd = 2)\n",
    "# Observed scores for Test 2\n",
    "x2 <- t2 + e2"
   ]
  },
  {
   "cell_type": "code",
   "execution_count": 13,
   "id": "9c3ac6af",
   "metadata": {
    "vscode": {
     "languageId": "r"
    }
   },
   "outputs": [
    {
     "data": {
      "text/html": [
       "<table class=\"dataframe\">\n",
       "<caption>A data.frame: 2 x 3</caption>\n",
       "<thead>\n",
       "\t<tr><th scope=col> </th><th scope=col>Mean</th><th scope=col>Var</th></tr>\n",
       "\t<tr><th scope=col>&lt;chr&gt;</th><th scope=col>&lt;chr&gt;</th><th scope=col>&lt;chr&gt;</th></tr>\n",
       "</thead>\n",
       "<tbody>\n",
       "\t<tr><td>x1</td><td>20.41</td><td>29.20</td></tr>\n",
       "\t<tr><td>x2</td><td>20.31</td><td>30.27</td></tr>\n",
       "</tbody>\n",
       "</table>\n"
      ],
      "text/latex": [
       "A data.frame: 2 x 3\n",
       "\\begin{tabular}{lll}\n",
       "   & Mean & Var\\\\\n",
       " <chr> & <chr> & <chr>\\\\\n",
       "\\hline\n",
       "\t x1 & 20.41 & 29.20\\\\\n",
       "\t x2 & 20.31 & 30.27\\\\\n",
       "\\end{tabular}\n"
      ],
      "text/markdown": [
       "\n",
       "A data.frame: 2 x 3\n",
       "\n",
       "| <!----> &lt;chr&gt; | Mean &lt;chr&gt; | Var &lt;chr&gt; |\n",
       "|---|---|---|\n",
       "| x1 | 20.41 | 29.20 |\n",
       "| x2 | 20.31 | 30.27 |\n",
       "\n"
      ],
      "text/plain": [
       "     Mean  Var  \n",
       "1 x1 20.41 29.20\n",
       "2 x2 20.31 30.27"
      ]
     },
     "metadata": {},
     "output_type": "display_data"
    }
   ],
   "source": [
    "# Merge into a data frame\n",
    "test_df <- data.frame(x1, x2)\n",
    "# Get means and variances\n",
    "mv <- datasummary(x1 + x2 ~ Mean + Var,\n",
    "    data = test_df,\n",
    "    output = \"data.frame\"\n",
    ")\n",
    "mv"
   ]
  },
  {
   "cell_type": "code",
   "execution_count": 14,
   "id": "a94aa6eb",
   "metadata": {
    "vscode": {
     "languageId": "r"
    }
   },
   "outputs": [
    {
     "data": {
      "text/html": [
       "0.865310361839848"
      ],
      "text/latex": [
       "0.865310361839848"
      ],
      "text/markdown": [
       "0.865310361839848"
      ],
      "text/plain": [
       "[1] 0.865"
      ]
     },
     "metadata": {},
     "output_type": "display_data"
    }
   ],
   "source": [
    "cor(test_df$x1, test_df$x2)"
   ]
  },
  {
   "cell_type": "markdown",
   "id": "9962999c",
   "metadata": {},
   "source": [
    "\\\n",
    "Nel caso di due test paralleli, le medie e le varianze dei punteggi osservati sono (teoricamente) uguali; la correlazione descrive l'affidabilità del test."
   ]
  },
  {
   "cell_type": "markdown",
   "id": "14cb3c75",
   "metadata": {},
   "source": [
    "### Misure $\\tau$-equivalenti\n",
    "\n",
    "Le **misure τ-equivalenti** rappresentano un livello di similarità leggermente inferiore rispetto alle misure parallele. \n",
    "\n",
    "Caratteristiche delle misure τ-equivalenti:\n",
    "\n",
    "* **Uguaglianza delle varianze dei punteggi veri:** Come le misure parallele, anche le misure τ-equivalenti hanno lo stesso valore del punteggio vero per ogni individuo, indipendentemente dal test utilizzato. Ciò implica che il parametro $b_{ij}$ è sempre uguale a 1.\n",
    "\n",
    "* **Possibile differenza nelle varianze di errore:** A differenza delle misure parallele, le misure τ-equivalenti possono presentare diversi livelli di errore di misura. Questo significa che, pur misurando lo stesso costrutto, un test potrebbe essere più preciso di un altro.\n",
    "\n",
    "In sintesi, le misure τ-equivalenti misurano lo stesso costrutto sullo stesso scala, ma possono differire nella precisione con cui lo misurano. In altre parole, i punteggi veri sono uguali per tutti gli item, ma gli errori di misura possono variare.\n",
    "\n",
    "Conseguenze:\n",
    "\n",
    "* **Covarianze uguali:** Le misure τ-equivalenti presentano le stesse covarianze tra i punteggi veri e tra i punteggi osservati.\n",
    "\n",
    "* **Variazioni nelle varianze osservate:** A causa delle possibili differenze nelle varianze di errore, le varianze dei punteggi osservati possono differire tra le misure τ-equivalenti.\n",
    "\n",
    "Simuliamo due misure $\\tau$-equivalenti."
   ]
  },
  {
   "cell_type": "code",
   "execution_count": 15,
   "id": "a4ec1d2b",
   "metadata": {
    "vscode": {
     "languageId": "r"
    }
   },
   "outputs": [],
   "source": [
    "set.seed(2237) # setting the seed ensure reproducibility\n",
    "num_person <- 1000 # number of respondents\n",
    "# True scores for Test 1\n",
    "t1 <- rnorm(num_person, mean = 20, sd = 5)\n",
    "# Error scores for Test 1\n",
    "e1 <- rnorm(num_person, mean = 0, sd = 2)\n",
    "# Observed scores for Test 1\n",
    "x1 <- t1 + e1\n",
    "# True scores for Test 2\n",
    "t2 <- t1 # parallel tests have equal true scores\n",
    "# Error scores for Test 2\n",
    "e2 <- rnorm(num_person, mean = 0, sd = 2)\n",
    "# Observed scores for Test 2\n",
    "x2 <- t2 + e2"
   ]
  },
  {
   "cell_type": "markdown",
   "id": "e8132009",
   "metadata": {},
   "source": [
    "Se conosciamo i punteggi veri, le stime dell'affidabilità di x1 e x2 sono:"
   ]
  },
  {
   "cell_type": "code",
   "execution_count": 16,
   "id": "697b6405",
   "metadata": {
    "vscode": {
     "languageId": "r"
    }
   },
   "outputs": [
    {
     "data": {
      "text/html": [
       "0.878424313030747"
      ],
      "text/latex": [
       "0.878424313030747"
      ],
      "text/markdown": [
       "0.878424313030747"
      ],
      "text/plain": [
       "[1] 0.878"
      ]
     },
     "metadata": {},
     "output_type": "display_data"
    }
   ],
   "source": [
    "# Reliability for x1\n",
    "var(t1) / var(x1)"
   ]
  },
  {
   "cell_type": "code",
   "execution_count": 17,
   "id": "d334b7ef",
   "metadata": {
    "vscode": {
     "languageId": "r"
    }
   },
   "outputs": [
    {
     "data": {
      "text/html": [
       "0.847351804948915"
      ],
      "text/latex": [
       "0.847351804948915"
      ],
      "text/markdown": [
       "0.847351804948915"
      ],
      "text/plain": [
       "[1] 0.847"
      ]
     },
     "metadata": {},
     "output_type": "display_data"
    }
   ],
   "source": [
    "# Reliability for x2\n",
    "var(t2) / var(x2)"
   ]
  },
  {
   "cell_type": "code",
   "execution_count": 18,
   "id": "9cf11d9b",
   "metadata": {
    "vscode": {
     "languageId": "r"
    }
   },
   "outputs": [
    {
     "data": {
      "text/html": [
       "<table class=\"dataframe\">\n",
       "<caption>A data.frame: 2 x 3</caption>\n",
       "<thead>\n",
       "\t<tr><th scope=col> </th><th scope=col>Mean</th><th scope=col>Var</th></tr>\n",
       "\t<tr><th scope=col>&lt;chr&gt;</th><th scope=col>&lt;chr&gt;</th><th scope=col>&lt;chr&gt;</th></tr>\n",
       "</thead>\n",
       "<tbody>\n",
       "\t<tr><td>x1</td><td>20.41</td><td>29.20</td></tr>\n",
       "\t<tr><td>x2</td><td>20.31</td><td>30.27</td></tr>\n",
       "</tbody>\n",
       "</table>\n"
      ],
      "text/latex": [
       "A data.frame: 2 x 3\n",
       "\\begin{tabular}{lll}\n",
       "   & Mean & Var\\\\\n",
       " <chr> & <chr> & <chr>\\\\\n",
       "\\hline\n",
       "\t x1 & 20.41 & 29.20\\\\\n",
       "\t x2 & 20.31 & 30.27\\\\\n",
       "\\end{tabular}\n"
      ],
      "text/markdown": [
       "\n",
       "A data.frame: 2 x 3\n",
       "\n",
       "| <!----> &lt;chr&gt; | Mean &lt;chr&gt; | Var &lt;chr&gt; |\n",
       "|---|---|---|\n",
       "| x1 | 20.41 | 29.20 |\n",
       "| x2 | 20.31 | 30.27 |\n",
       "\n"
      ],
      "text/plain": [
       "     Mean  Var  \n",
       "1 x1 20.41 29.20\n",
       "2 x2 20.31 30.27"
      ]
     },
     "metadata": {},
     "output_type": "display_data"
    }
   ],
   "source": [
    "# Merge into a data frame\n",
    "test_df <- data.frame(x1, x2)\n",
    "# Get means and variances\n",
    "mv <- datasummary(x1 + x2 ~ Mean + Var,\n",
    "    data = test_df,\n",
    "    output = \"data.frame\"\n",
    ")\n",
    "mv"
   ]
  },
  {
   "cell_type": "code",
   "execution_count": 19,
   "id": "8cec9afd",
   "metadata": {
    "vscode": {
     "languageId": "r"
    }
   },
   "outputs": [
    {
     "data": {
      "text/html": [
       "0.865310361839848"
      ],
      "text/latex": [
       "0.865310361839848"
      ],
      "text/markdown": [
       "0.865310361839848"
      ],
      "text/plain": [
       "[1] 0.865"
      ]
     },
     "metadata": {},
     "output_type": "display_data"
    }
   ],
   "source": [
    "cor(test_df$x1, test_df$x2)"
   ]
  },
  {
   "cell_type": "markdown",
   "id": "bb414497",
   "metadata": {},
   "source": [
    "\\\n",
    "In conclusione, nel caso di due test $\\tau$-equivalenti, le medie e le varianze dei punteggi osservati sono (teoricamente) uguali. Anche in questo caso, la correlazione descrive l'affidabilità del test."
   ]
  },
  {
   "cell_type": "markdown",
   "id": "764541e9",
   "metadata": {},
   "source": [
    "### Misure essenzialmente $\\tau$-equivalenti\n",
    "\n",
    "Le **misure essenzialmente $\\tau$-equivalenti** rappresentano una forma di misurazione in cui i punteggi veri possono differire di una costante additiva. Ciò significa che, pur misurando lo stesso costrutto, le medie dei punteggi veri di diversi item possono variare leggermente.\n",
    "\n",
    "Caratteristiche delle misure essenzialmente $\\tau$-equivalenti:\n",
    "\n",
    "* **Uguaglianza delle varianze dei punteggi veri:** Come nelle misure $\\tau$-equivalenti, la varianza del punteggio vero è la stessa per tutti gli item. \n",
    "\n",
    "* **Possibili differenze nelle medie dei punteggi veri:** Il parametro $a_{ij}$ può essere diverso da zero, indicando che le medie dei punteggi veri possono variare.\n",
    "\n",
    "* **Possibili differenze nelle varianze di errore:** Come nelle misure $\\tau$-equivalenti, gli item possono avere diversi livelli di precisione, ovvero diverse varianze di errore.\n",
    "\n",
    "Implicazioni:\n",
    "\n",
    "* **Correlazione perfetta tra i punteggi veri:** Nonostante le differenze nelle medie, i punteggi veri sono perfettamente correlati linearmente.\n",
    "\n",
    "* **Covarianze uguali tra i punteggi veri:** Le covarianze tra i punteggi veri sono uguali per tutte le coppie di item.\n",
    "\n",
    "* **Possibili differenze nelle varianze e nelle covarianze dei punteggi osservati:** A causa delle differenze nelle varianze di errore, le varianze e le covarianze dei punteggi osservati possono variare.\n",
    "\n",
    "In sintesi, le misure essenzialmente $\\tau$-equivalenti sono utili quando si desidera confrontare diversi item che misurano lo stesso costrutto, ma si ammette la possibilità di piccole differenze sistematiche nelle medie dei punteggi."
   ]
  },
  {
   "cell_type": "code",
   "execution_count": 20,
   "id": "1b42c004",
   "metadata": {
    "vscode": {
     "languageId": "r"
    }
   },
   "outputs": [],
   "source": [
    "# True scores for Test 3\n",
    "t3 <- 5 + t1 # essentially tau-equivalent tests\n",
    "# Error scores for Test 3 (larger error SDs)\n",
    "e3 <- rnorm(num_person, mean = 0, sd = 4)\n",
    "# Observed scores for Test 2\n",
    "x3 <- t3 + e3"
   ]
  },
  {
   "cell_type": "code",
   "execution_count": 21,
   "id": "57dbdadc",
   "metadata": {
    "vscode": {
     "languageId": "r"
    }
   },
   "outputs": [
    {
     "data": {
      "text/html": [
       "<table class=\"dataframe\">\n",
       "<caption>A data.frame: 2 x 3</caption>\n",
       "<thead>\n",
       "\t<tr><th scope=col> </th><th scope=col>Mean</th><th scope=col>Var</th></tr>\n",
       "\t<tr><th scope=col>&lt;chr&gt;</th><th scope=col>&lt;chr&gt;</th><th scope=col>&lt;chr&gt;</th></tr>\n",
       "</thead>\n",
       "<tbody>\n",
       "\t<tr><td>x1</td><td>20.41</td><td>29.20</td></tr>\n",
       "\t<tr><td>x3</td><td>25.41</td><td>41.50</td></tr>\n",
       "</tbody>\n",
       "</table>\n"
      ],
      "text/latex": [
       "A data.frame: 2 x 3\n",
       "\\begin{tabular}{lll}\n",
       "   & Mean & Var\\\\\n",
       " <chr> & <chr> & <chr>\\\\\n",
       "\\hline\n",
       "\t x1 & 20.41 & 29.20\\\\\n",
       "\t x3 & 25.41 & 41.50\\\\\n",
       "\\end{tabular}\n"
      ],
      "text/markdown": [
       "\n",
       "A data.frame: 2 x 3\n",
       "\n",
       "| <!----> &lt;chr&gt; | Mean &lt;chr&gt; | Var &lt;chr&gt; |\n",
       "|---|---|---|\n",
       "| x1 | 20.41 | 29.20 |\n",
       "| x3 | 25.41 | 41.50 |\n",
       "\n"
      ],
      "text/plain": [
       "     Mean  Var  \n",
       "1 x1 20.41 29.20\n",
       "2 x3 25.41 41.50"
      ]
     },
     "metadata": {},
     "output_type": "display_data"
    }
   ],
   "source": [
    "# Merge into a data frame\n",
    "test_df2 <- data.frame(x1, x3)\n",
    "# Get means and variances\n",
    "mv <- datasummary(x1 + x3 ~ Mean + Var,\n",
    "    data = test_df2,\n",
    "    output = \"data.frame\"\n",
    ")\n",
    "mv"
   ]
  },
  {
   "cell_type": "markdown",
   "id": "6d6f589c",
   "metadata": {},
   "source": [
    "Se conosciamo i punteggi veri, la stima dell'affidabilità di x3 è:"
   ]
  },
  {
   "cell_type": "code",
   "execution_count": 22,
   "id": "6b5f7e7d",
   "metadata": {
    "vscode": {
     "languageId": "r"
    }
   },
   "outputs": [
    {
     "data": {
      "text/html": [
       "0.618012243898734"
      ],
      "text/latex": [
       "0.618012243898734"
      ],
      "text/markdown": [
       "0.618012243898734"
      ],
      "text/plain": [
       "[1] 0.618"
      ]
     },
     "metadata": {},
     "output_type": "display_data"
    }
   ],
   "source": [
    "# Reliability for x3\n",
    "var(t3) / var(x3)"
   ]
  },
  {
   "cell_type": "markdown",
   "id": "3b12343d",
   "metadata": {},
   "source": [
    "\\\n",
    "In conclusione, nel caso di test essenzialmente $\\tau$-equivalenti, le medie e le varianze dei punteggi osservati sono diverse; la correlazione non è uguale all'affidabilità."
   ]
  },
  {
   "cell_type": "markdown",
   "id": "d4103533",
   "metadata": {},
   "source": [
    "### Misure Congeneriche\n",
    "\n",
    "Le **misure congeneriche** rappresentano il livello di similarità più basso tra le diverse tipologie di misure. \n",
    "\n",
    "Caratteristiche delle misure congeneriche:\n",
    "\n",
    "* **Nessuna restrizione:** A differenza delle misure parallele, τ-equivalenti ed essenzialmente τ-equivalenti, le misure congeneriche non sono soggette a restrizioni specifiche sui parametri $a_{ij}$ e $b_{ij}$. Ciò significa che:\n",
    "\n",
    "  * Le medie dei punteggi veri possono differire significativamente.\n",
    "\n",
    "  * Le varianze dei punteggi veri possono essere diverse.\n",
    "  \n",
    "  * Le varianze di errore possono variare notevolmente.\n",
    "\n",
    "* **Unidimensionalità:** Nonostante queste differenze, si assume che tutte le misure congeneriche misurino lo stesso costrutto latente sottostante.\n",
    "\n",
    "Implicazioni:\n",
    "\n",
    "* **Flessibilità:** Le misure congeneriche offrono la massima flessibilità in termini di differenze tra gli item.\n",
    "\n",
    "* **Minor comparabilità:** A causa delle numerose differenze, confrontare direttamente i punteggi ottenuti con misure congeneriche può essere più complesso.\n",
    "\n",
    "In sintesi, le misure congeneriche rappresentano un modello molto generale, che consente di includere una vasta gamma di situazioni. Tuttavia, la loro flessibilità comporta una minore comparabilità tra gli item."
   ]
  },
  {
   "cell_type": "code",
   "execution_count": 23,
   "id": "9bcf8bec",
   "metadata": {
    "vscode": {
     "languageId": "r"
    }
   },
   "outputs": [],
   "source": [
    "# True scores for Test 4\n",
    "t4 <- 2 + 0.8 * t1\n",
    "# Error scores for Test 4 (larger error SDs)\n",
    "e4 <- rnorm(num_person, mean = 0, sd = 3)\n",
    "# Observed scores for Test 2\n",
    "x4 <- t4 + e4"
   ]
  },
  {
   "cell_type": "code",
   "execution_count": 24,
   "id": "9cbc56b5",
   "metadata": {
    "vscode": {
     "languageId": "r"
    }
   },
   "outputs": [
    {
     "data": {
      "text/html": [
       "<table class=\"dataframe\">\n",
       "<caption>A data.frame: 2 x 3</caption>\n",
       "<thead>\n",
       "\t<tr><th scope=col> </th><th scope=col>Mean</th><th scope=col>Var</th></tr>\n",
       "\t<tr><th scope=col>&lt;chr&gt;</th><th scope=col>&lt;chr&gt;</th><th scope=col>&lt;chr&gt;</th></tr>\n",
       "</thead>\n",
       "<tbody>\n",
       "\t<tr><td>x1</td><td>20.41</td><td>29.20</td></tr>\n",
       "\t<tr><td>x4</td><td>18.27</td><td>24.23</td></tr>\n",
       "</tbody>\n",
       "</table>\n"
      ],
      "text/latex": [
       "A data.frame: 2 x 3\n",
       "\\begin{tabular}{lll}\n",
       "   & Mean & Var\\\\\n",
       " <chr> & <chr> & <chr>\\\\\n",
       "\\hline\n",
       "\t x1 & 20.41 & 29.20\\\\\n",
       "\t x4 & 18.27 & 24.23\\\\\n",
       "\\end{tabular}\n"
      ],
      "text/markdown": [
       "\n",
       "A data.frame: 2 x 3\n",
       "\n",
       "| <!----> &lt;chr&gt; | Mean &lt;chr&gt; | Var &lt;chr&gt; |\n",
       "|---|---|---|\n",
       "| x1 | 20.41 | 29.20 |\n",
       "| x4 | 18.27 | 24.23 |\n",
       "\n"
      ],
      "text/plain": [
       "     Mean  Var  \n",
       "1 x1 20.41 29.20\n",
       "2 x4 18.27 24.23"
      ]
     },
     "metadata": {},
     "output_type": "display_data"
    }
   ],
   "source": [
    "# Merge into a data frame\n",
    "test_df3 <- data.frame(x1, x4)\n",
    "# Get means and variances\n",
    "mv <- datasummary(x1 + x4 ~ Mean + Var,\n",
    "    data = test_df3,\n",
    "    output = \"data.frame\"\n",
    ")\n",
    "mv"
   ]
  },
  {
   "cell_type": "markdown",
   "id": "ff956efa",
   "metadata": {},
   "source": [
    "Se conosciamo i punteggi veri, la stima dell'affidabilità di x4 è:"
   ]
  },
  {
   "cell_type": "code",
   "execution_count": 25,
   "id": "0747772c",
   "metadata": {
    "vscode": {
     "languageId": "r"
    }
   },
   "outputs": [
    {
     "data": {
      "text/html": [
       "0.677398252481377"
      ],
      "text/latex": [
       "0.677398252481377"
      ],
      "text/markdown": [
       "0.677398252481377"
      ],
      "text/plain": [
       "[1] 0.677"
      ]
     },
     "metadata": {},
     "output_type": "display_data"
    }
   ],
   "source": [
    "# Reliability for x4\n",
    "var(t4) / var(x4)"
   ]
  },
  {
   "cell_type": "markdown",
   "id": "90056f10",
   "metadata": {},
   "source": [
    "\\\n",
    "Nel caso di test congenerici, le medie e le varianze dei punteggi osservati sono diverse; la correlazione non è uguale all'affidabilità. Per distinguere test congenerici dai test essenzialmente $\\tau$-equivalenti sono necessari più di due test.\n",
    "\n",
    "## Riflessioni Conclusive\n",
    "\n",
    "Questo capitolo ha offerto una panoramica dei concetti chiave della teoria classica dei test (CTT) e ha introdotto quattro tipi di misure psicometriche. Le **misure parallele** si distinguono per l'elevata somiglianza nei punteggi veri, garantendo che le varianze siano uguali per tutte le misure. Le **misure τ-equivalenti** condividono questa equivalenza nelle varianze dei punteggi veri, ma non richiedono una somiglianza così stretta come le misure parallele. Le **misure essenzialmente τ-equivalenti** tollerano una maggiore variabilità nei punteggi veri, pur mantenendo la coerenza dei risultati. Infine, le **misure congeneriche** presentano le minori restrizioni tra le quattro tipologie, consentendo differenze sia nelle medie sia nelle varianze dei punteggi veri. \n",
    "\n",
    "Comprendere le differenze tra queste tipologie di misure è fondamentale per valutare l’affidabilità e la validità di un test e per interpretare in modo accurato i risultati. Nelle prossime sezioni della dispensa, approfondiremo l’applicazione pratica della CTT nello sviluppo e nella valutazione dei test psicometrici. Per un’esplorazione più dettagliata, si rimanda alle letture di riferimento: @mcdonald2013test e @lord1968statistical."
   ]
  },
  {
   "cell_type": "markdown",
   "id": "130b09fa",
   "metadata": {},
   "source": [
    "## Session Info"
   ]
  },
  {
   "cell_type": "code",
   "execution_count": 12,
   "id": "5aa362ed",
   "metadata": {
    "vscode": {
     "languageId": "r"
    }
   },
   "outputs": [
    {
     "data": {
      "text/plain": [
       "R version 4.4.2 (2024-10-31)\n",
       "Platform: aarch64-apple-darwin20\n",
       "Running under: macOS Sequoia 15.1\n",
       "\n",
       "Matrix products: default\n",
       "BLAS:   /Library/Frameworks/R.framework/Versions/4.4-arm64/Resources/lib/libRblas.0.dylib \n",
       "LAPACK: /Library/Frameworks/R.framework/Versions/4.4-arm64/Resources/lib/libRlapack.dylib;  LAPACK version 3.12.0\n",
       "\n",
       "locale:\n",
       "[1] C\n",
       "\n",
       "time zone: Europe/Rome\n",
       "tzcode source: internal\n",
       "\n",
       "attached base packages:\n",
       "[1] stats     graphics  grDevices utils     datasets  methods   base     \n",
       "\n",
       "other attached packages:\n",
       " [1] modelsummary_2.2.0 MASS_7.3-61        viridis_0.6.5     \n",
       " [4] viridisLite_0.4.2  ggpubr_0.6.0       ggExtra_0.10.1    \n",
       " [7] gridExtra_2.3      patchwork_1.3.0    bayesplot_1.11.1  \n",
       "[10] semTools_0.5-6     semPlot_1.1.6      lavaan_0.6-19     \n",
       "[13] psych_2.4.6.26     scales_1.3.0       markdown_1.13     \n",
       "[16] knitr_1.49         lubridate_1.9.3    forcats_1.0.0     \n",
       "[19] stringr_1.5.1      dplyr_1.1.4        purrr_1.0.2       \n",
       "[22] readr_2.1.5        tidyr_1.3.1        tibble_3.2.1      \n",
       "[25] ggplot2_3.5.1      tidyverse_2.0.0    here_1.0.1        \n",
       "\n",
       "loaded via a namespace (and not attached):\n",
       "  [1] rstudioapi_0.17.1  jsonlite_1.8.9     magrittr_2.0.3    \n",
       "  [4] TH.data_1.1-2      estimability_1.5.1 farver_2.1.2      \n",
       "  [7] nloptr_2.1.1       rmarkdown_2.29     vctrs_0.6.5       \n",
       " [10] Cairo_1.6-2        minqa_1.2.8        base64enc_0.1-3   \n",
       " [13] rstatix_0.7.2      htmltools_0.5.8.1  broom_1.0.7       \n",
       " [16] Formula_1.2-5      htmlwidgets_1.6.4  plyr_1.8.9        \n",
       " [19] sandwich_3.1-1     emmeans_1.10.5     zoo_1.8-12        \n",
       " [22] uuid_1.2-1         igraph_2.1.1       mime_0.12         \n",
       " [25] lifecycle_1.0.4    pkgconfig_2.0.3    Matrix_1.7-1      \n",
       " [28] R6_2.5.1           fastmap_1.2.0      shiny_1.9.1       \n",
       " [31] digest_0.6.37      OpenMx_2.21.13     fdrtool_1.2.18    \n",
       " [34] colorspace_2.1-1   rprojroot_2.0.4    Hmisc_5.2-0       \n",
       " [37] labeling_0.4.3     fansi_1.0.6        timechange_0.3.0  \n",
       " [40] abind_1.4-8        compiler_4.4.2     withr_3.0.2       \n",
       " [43] glasso_1.11        htmlTable_2.4.3    backports_1.5.0   \n",
       " [46] carData_3.0-5      ggsignif_0.6.4     corpcor_1.6.10    \n",
       " [49] gtools_3.9.5       tools_4.4.2        pbivnorm_0.6.0    \n",
       " [52] foreign_0.8-87     zip_2.3.1          httpuv_1.6.15     \n",
       " [55] nnet_7.3-19        glue_1.8.0         quadprog_1.5-8    \n",
       " [58] promises_1.3.0     nlme_3.1-166       lisrelToR_0.3     \n",
       " [61] grid_4.4.2         pbdZMQ_0.3-13      checkmate_2.3.2   \n",
       " [64] cluster_2.1.6      reshape2_1.4.4     generics_0.1.3    \n",
       " [67] gtable_0.3.6       tzdb_0.4.0         data.table_1.16.2 \n",
       " [70] hms_1.1.3          car_3.1-3          utf8_1.2.4        \n",
       " [73] tables_0.9.31      sem_3.1-16         pillar_1.9.0      \n",
       " [76] IRdisplay_1.1      rockchalk_1.8.157  later_1.3.2       \n",
       " [79] splines_4.4.2      lattice_0.22-6     survival_3.7-0    \n",
       " [82] kutils_1.73        tidyselect_1.2.1   miniUI_0.1.1.1    \n",
       " [85] pbapply_1.7-2      stats4_4.4.2       xfun_0.49         \n",
       " [88] qgraph_1.9.8       arm_1.14-4         stringi_1.8.4     \n",
       " [91] pacman_0.5.1       boot_1.3-31        evaluate_1.0.1    \n",
       " [94] codetools_0.2-20   mi_1.1             cli_3.6.3         \n",
       " [97] RcppParallel_5.1.9 IRkernel_1.3.2     rpart_4.1.23      \n",
       "[100] xtable_1.8-4       repr_1.1.7         munsell_0.5.1     \n",
       "[103] Rcpp_1.0.13-1      coda_0.19-4.1      png_0.1-8         \n",
       "[106] XML_3.99-0.17      parallel_4.4.2     jpeg_0.1-10       \n",
       "[109] lme4_1.1-35.5      mvtnorm_1.3-2      insight_0.20.5    \n",
       "[112] openxlsx_4.2.7.1   crayon_1.5.3       rlang_1.1.4       \n",
       "[115] multcomp_1.4-26    mnormt_2.1.1      "
      ]
     },
     "metadata": {},
     "output_type": "display_data"
    }
   ],
   "source": [
    "sessionInfo()"
   ]
  }
 ],
 "metadata": {
  "jupytext": {
   "cell_metadata_filter": "fig.cap,tags,-all",
   "main_language": "R",
   "notebook_metadata_filter": "-all"
  },
  "kernelspec": {
   "display_name": "R",
   "language": "R",
   "name": "ir"
  },
  "language_info": {
   "codemirror_mode": "r",
   "file_extension": ".r",
   "mimetype": "text/x-r-source",
   "name": "R",
   "pygments_lexer": "r",
   "version": "4.4.2"
  }
 },
 "nbformat": 4,
 "nbformat_minor": 5
}
