{
 "cells": [
  {
   "attachments": {},
   "cell_type": "markdown",
   "id": "2c19761a",
   "metadata": {},
   "source": [
    "# Metodi di stima dell'affidabilità {#sec-ctt-3}"
   ]
  },
  {
   "cell_type": "markdown",
   "id": "e5d95fe9",
   "metadata": {},
   "source": [
    "**Prerequisiti**\n",
    "\n",
    "**Concetti e Competenze Chiave**\n",
    "\n",
    "**Preparazione del Notebook**"
   ]
  },
  {
   "cell_type": "code",
   "execution_count": null,
   "id": "0981303d",
   "metadata": {
    "vscode": {
     "languageId": "r"
    }
   },
   "outputs": [],
   "source": [
    "# Carica il file _common.R per impostazioni di pacchetti e opzioni\n",
    "here::here(\"code\", \"_common.R\") |> source()\n",
    "\n",
    "# Carica pacchetti aggiuntivi\n",
    "pacman::p_load(modelsummary, ltm)"
   ]
  },
  {
   "cell_type": "markdown",
   "id": "266617c7",
   "metadata": {},
   "source": [
    "## Introduzione \n",
    "\n",
    "Nel capitolo precedente abbiamo evidenziato come i punteggi dei test possano variare in diverse situazioni, ad esempio, in relazione alle differenze tra insiemi di item o alle variazioni tra diverse somministrazioni o valutazioni. A tal fine, sono stati sviluppati vari metodi per valutare l'affidabilità, o quanto i risultati del test siano stabili e coerenti, considerando diversi tipi di errori casuali."
   ]
  },
  {
   "cell_type": "markdown",
   "id": "f65ef198",
   "metadata": {},
   "source": [
    "## La Definizione di Attendibilità\n",
    "\n",
    "La Teoria Classica dei Test (CTT) assume che il \"punteggio osservato\" $X$ sia composto da due componenti: il \"punteggio vero\" $T$ e l'errore di misurazione $E$. Formalmente, questa relazione può essere espressa come $X = T + E$, dove $E$ rappresenta l'errore di misurazione che si sovrappone al \"punteggio vero\" $T$. \n",
    "\n",
    "Secondo questa definizione, l'errore per una singola misurazione è dato dalla differenza tra il \"punteggio osservato\" e il \"punteggio vero\", cioè $E = X - T$. È importante notare che l'errore atteso è zero ($E(X) = 0$), e che non vi è alcuna correlazione o covarianza tra l'errore e il \"punteggio vero\" ($Cov(E,T) = 0$).\n",
    "\n",
    "Con queste premesse, l'affidabilità può essere definita come il quadrato della correlazione tra il \"punteggio vero\" e il \"punteggio osservato\", ossia $\\rho^2_{XT}$. In altre parole, rappresenta la frazione di varianza del \"punteggio osservato\" che è spiegata dal \"punteggio vero\". Un'alta affidabilità ($\\rho^2_{XT} = 1$) indica che l'errore di misurazione è praticamente assente, mentre un valore inferiore indica la presenza di un errore significativo.\n",
    "\n",
    "Un'altra prospettiva per comprendere l'affidabilità è considerare la relazione tra le varianze del \"punteggio osservato\", del \"punteggio vero\" e dell'errore. Secondo l'assunzione di indipendenza tra l'errore e il \"punteggio vero\", le varianze osservate, vere e di errore sono correlate secondo l'equazione $\\sigma^2_X = \\sigma^2_T + \\sigma^2_E$. Di conseguenza, $\\rho^2_{XT}$ può essere interpretato come la proporzione di varianza del \"punteggio osservato\" spiegata dal \"punteggio vero\", o come 1 meno il rapporto della varianza dell'errore rispetto alla varianza del \"punteggio osservato\".\n",
    "\n",
    "In sintesi, l'affidabilità di un test può essere concepita in diversi modi, riflettendo la sua relazione con il concetto di \"punteggio vero\" e l'errore di misurazione. La sfida successiva è quella di stimare l'affidabilità in modo accurato, tenendo conto di queste considerazioni."
   ]
  },
  {
   "cell_type": "markdown",
   "id": "42745648",
   "metadata": {},
   "source": [
    "## Approcci per Stimare l'Affidabilità\n",
    "\n",
    "Per stimare l'affidabilità ($\\rho_{TT'}$), ci troviamo di fronte alla sfida di dover stimare una delle due componenti non direttamente osservabili: il punteggio vero o la varianza dell'errore. Ma come possiamo affrontare questa sfida? La risposta è complessa e dipende da come intendiamo concettualizzare la varianza dell'errore ($\\sigma^2_E$).\n",
    "\n",
    "1. **Affidabilità delle Forme Parallele:**\n",
    "Se il nostro interesse principale è misurare quanto accuratamente possiamo stimare il punteggio vero dai dati osservati, potrebbe essere più appropriato considerare $\\sigma^2_E$ come l'incertezza nella nostra stima attraverso ripetute somministrazioni di una misura equivalente. Questo approccio ci porta alla definizione di affidabilità delle forme parallele.\n",
    "\n",
    "2. **Consistenza Interna:**\n",
    "Se invece vogliamo valutare se più elementi su una scala riflettono lo stesso costrutto sottostante, possiamo utilizzare un concetto simile all'Alpha di Cronbach ($\\alpha$). Questo ci porta alla definizione di affidabilità come consistenza interna.\n",
    "\n",
    "3. **Coerenza Temporale (Affidabilità Test-Retest):**\n",
    "Se ci interessa la coerenza di una misura nel tempo, allora $\\sigma^2_E$ potrebbe essere meglio interpretato come la varianza non comune attraverso diverse somministrazioni della stessa misura su un periodo di tempo arbitrario. Questo concetto ci conduce alla definizione di coerenza temporale o affidabilità test-retest.\n",
    "\n",
    "In sostanza, le equazioni dell'affidabilità presentate in precedenza possono essere applicate a ciascuno dei tre tipi di affidabilità descritti sopra. La differenza fondamentale risiede nella nostra concezione e nel calcolo di $\\sigma^2_E$, che varia a seconda del contesto e degli obiettivi specifici dell'analisi."
   ]
  },
  {
   "cell_type": "markdown",
   "id": "8eec43db",
   "metadata": {},
   "source": [
    "### Affidabilità come Consistenza Interna\n",
    "\n",
    "Iniziamo esaminando tre scenari distinti che illustrano le possibili relazioni tra gli item di un test: quelli con indicatori congenerici, tau-equivalenti e paralleli. Nell'ambito della CTT, sono disponibili due indicatori principali per valutare l'affidabilità in termini di coerenza interna, a seconda del tipo di relazione tra gli item presunta: l'indice alpha di Cronbach per gli item \n",
    "tau-equivalenti e l'indice di Spearman-Brown per gli item paralleli.\n",
    "\n",
    "Oltre alla consistenza interna, esistono altre misure di affidabilità, tra cui la affidabilità test-retest, la affidabilità tra forme alternative, la affidabilità tra valutatori, la affidabilità dei punteggi compositi e la affidabilità dei punteggi delle differenze.\n",
    "\n",
    "Al centro della misurazione dell'affidabilità c'è l'errore di misurazione, e in precedenza abbiamo esaminato come lo *standard error of measurement* sia uno dei metodi per valutare l'errore di misurazione.\n",
    "\n",
    "Va notato che ci riferiamo all'affidabilità come una stima, poiché l'affidabilità assoluta o precisa dei risultati della valutazione non può essere conosciuta con certezza. Proprio come ci sono sempre degli errori nei punteggi dei test, ci sono anche degli errori nei nostri tentativi di misurare l'affidabilità. Tuttavia, i metodi di stima dell'affidabilità che discuteremo sono considerati stime conservative e rappresentano il limite inferiore della vera affidabilità dei punteggi dei test. In altre parole, l'affidabilità effettiva dei punteggi dei test è almeno altrettanto alta, se non superiore, rispetto all'affidabilità stimata (Reynolds, 1999)."
   ]
  },
  {
   "cell_type": "markdown",
   "id": "0df872bb",
   "metadata": {},
   "source": [
    "#### Coefficienti di consistenza interna\n",
    "\n",
    "La CTT presenta il metodo delle forme parallele come un approccio parziale per stimare l'attendibilità dei test. Questo metodo prevede la somministrazione di due test distinti, indicati come $X$ e $X^\\prime$, che valutano lo stesso costrutto, a un campione di individui nello stesso momento. In questo contesto, la correlazione tra i punteggi totali dei due test, $\\rho^2_{XT} = \\rho_{XX^\\prime}$, rappresenta l'indicatore principale dell'attendibilità. Tuttavia, è cruciale che le due versioni del test siano effettivamente parallele, secondo la definizione fornita dalla teoria classica dei test, affinché questa relazione sia valida.\n",
    "\n",
    "Nella pratica, risulta impraticabile somministrare lo stesso test due volte agli stessi partecipanti \"nelle stesse condizioni\", come richiesto dal metodo delle forme parallele. Di conseguenza, la stima dell'attendibilità deve basarsi sui dati raccolti attraverso una singola somministrazione del test. La CTT risponde a questa sfida introducendo specifici indicatori di coerenza interna, mirati a valutare l'affidabilità.\n",
    "\n",
    "Questi indicatori di coerenza interna costituiscono la soluzione proposta dalla CTT per affrontare tale problematica. La loro logica si basa sull'idea che una correlazione tra i punteggi di diversi item che misurano lo stesso costrutto rifletta la varianza condivisa del punteggio reale, anziché la varianza condivisa dell'errore. Considerando che gli errori casuali dovrebbero mancare di una varianza condivisa, i coefficienti di coerenza interna riflettono la correlazione tra gli item all'interno del test, offrendo così un'indicazione dell'affidabilità generale della scala di misurazione.\n",
    "\n",
    "Oltre a questo, gli item stessi possono rappresentare una fonte di errore nei punteggi dei test. Problemi come formulazioni confuse, item non coerenti con il costrutto, linguaggio poco comprensibile o item con risposte ambigue possono emergere quando gli item non sono formulati in modo adeguato. Tali problemi possono portare a risposte inconsistenti per due ragioni: innanzitutto, i partecipanti potrebbero reagire in modi diversi agli item problematici; in secondo luogo, tali item interferiscono con la capacità dei partecipanti di esprimere il loro reale livello del costrutto.\n",
    "\n",
    "Per valutare la coerenza delle risposte tra gli item all'interno di una scala, vengono impiegati i coefficienti di consistenza interna. Questi coefficienti si basano sull'assunto che una correlazione tra due punteggi osservati, che misurano lo stesso costrutto, rifletta la varianza condivisa del punteggio reale, non la varianza condivisa dell'errore. Dal momento che gli errori casuali dovrebbero mancare di varianza condivisa, i coefficienti di consistenza interna riflettono la correlazione tra gli item del test e forniscono un'indicazione dell'affidabilità complessiva della scala.\n",
    "\n",
    "Quando si valuta l'attendibilità con una singola somministrazione del test, sono disponibili vari approcci. In questo capitolo, esamineremo due metodi proposti dalla CTT: l'indice $\\alpha$ di Cronbach e il metodo di Spearman-Brown. L'indice $\\alpha$ è l'indicatore più comunemente usato per valutare l'attendibilità in termini di coerenza interna o omogeneità. Analizzeremo come questo indice rappresenta il valore minimo possibile dell'attendibilità di un test, sotto determinate ipotesi soddisfatte, e come, allo stesso tempo, può fornire una valutazione distorta dell'attendibilità se le assunzioni che delineeremo non sono rispettate.\n",
    "\n",
    "Tuttavia, prima di esplorare dettagliatamente questi due diversi metodi di stima dell'attendibilità come coerenza interna, è essenziale distinguere tra tre diverse tipologie di relazioni tra gli item: item congenerici, item $\\tau$-equivalenti e item paralleli.\n",
    "\n",
    "#### Test paralleli\n",
    "\n",
    "Simuliamo i punteggi di due test paralleli."
   ]
  },
  {
   "cell_type": "code",
   "execution_count": 5,
   "id": "f7953baa",
   "metadata": {
    "vscode": {
     "languageId": "r"
    }
   },
   "outputs": [
    {
     "data": {
      "text/html": [
       "<table class=\"dataframe\">\n",
       "<caption>A data.frame: 2 x 3</caption>\n",
       "<thead>\n",
       "\t<tr><th scope=col> </th><th scope=col>Mean</th><th scope=col>Var</th></tr>\n",
       "\t<tr><th scope=col>&lt;chr&gt;</th><th scope=col>&lt;chr&gt;</th><th scope=col>&lt;chr&gt;</th></tr>\n",
       "</thead>\n",
       "<tbody>\n",
       "\t<tr><td>x1</td><td>20.41</td><td>29.20</td></tr>\n",
       "\t<tr><td>x2</td><td>20.31</td><td>30.27</td></tr>\n",
       "</tbody>\n",
       "</table>\n"
      ],
      "text/latex": [
       "A data.frame: 2 x 3\n",
       "\\begin{tabular}{lll}\n",
       "   & Mean & Var\\\\\n",
       " <chr> & <chr> & <chr>\\\\\n",
       "\\hline\n",
       "\t x1 & 20.41 & 29.20\\\\\n",
       "\t x2 & 20.31 & 30.27\\\\\n",
       "\\end{tabular}\n"
      ],
      "text/markdown": [
       "\n",
       "A data.frame: 2 x 3\n",
       "\n",
       "| <!----> &lt;chr&gt; | Mean &lt;chr&gt; | Var &lt;chr&gt; |\n",
       "|---|---|---|\n",
       "| x1 | 20.41 | 29.20 |\n",
       "| x2 | 20.31 | 30.27 |\n",
       "\n"
      ],
      "text/plain": [
       "     Mean  Var  \n",
       "1 x1 20.41 29.20\n",
       "2 x2 20.31 30.27"
      ]
     },
     "metadata": {},
     "output_type": "display_data"
    }
   ],
   "source": [
    "set.seed(2237) # setting the seed ensure reproducibility\n",
    "num_person <- 1000 # number of respondents\n",
    "# True scores for Test 1\n",
    "t1 <- rnorm(num_person, mean = 20, sd = 5)\n",
    "# Error scores for Test 1\n",
    "e1 <- rnorm(num_person, mean = 0, sd = 2)\n",
    "# Observed scores for Test 1\n",
    "x1 <- t1 + e1\n",
    "# True scores for Test 2\n",
    "t2 <- t1 # parallel tests have equal true scores\n",
    "# Error scores for Test 2\n",
    "e2 <- rnorm(num_person, mean = 0, sd = 2)\n",
    "# Observed scores for Test 2\n",
    "x2 <- t2 + e2\n",
    "\n",
    "# Merge into a data frame\n",
    "test_df <- data.frame(x1, x2)\n",
    "\n",
    "mv <- datasummary(x1 + x2 ~ Mean + Var,\n",
    "    data = test_df,\n",
    "    output = \"data.frame\"\n",
    ")\n",
    "mv"
   ]
  },
  {
   "cell_type": "code",
   "execution_count": 6,
   "id": "89137fae",
   "metadata": {
    "vscode": {
     "languageId": "r"
    }
   },
   "outputs": [
    {
     "data": {
      "text/html": [
       "<table class=\"dataframe\">\n",
       "<caption>A matrix: 2 x 2 of type dbl</caption>\n",
       "<thead>\n",
       "\t<tr><th></th><th scope=col>x1</th><th scope=col>x2</th></tr>\n",
       "</thead>\n",
       "<tbody>\n",
       "\t<tr><th scope=row>x1</th><td>1.00</td><td>0.87</td></tr>\n",
       "\t<tr><th scope=row>x2</th><td>0.87</td><td>1.00</td></tr>\n",
       "</tbody>\n",
       "</table>\n"
      ],
      "text/latex": [
       "A matrix: 2 x 2 of type dbl\n",
       "\\begin{tabular}{r|ll}\n",
       "  & x1 & x2\\\\\n",
       "\\hline\n",
       "\tx1 & 1.00 & 0.87\\\\\n",
       "\tx2 & 0.87 & 1.00\\\\\n",
       "\\end{tabular}\n"
      ],
      "text/markdown": [
       "\n",
       "A matrix: 2 x 2 of type dbl\n",
       "\n",
       "| <!--/--> | x1 | x2 |\n",
       "|---|---|---|\n",
       "| x1 | 1.00 | 0.87 |\n",
       "| x2 | 0.87 | 1.00 |\n",
       "\n"
      ],
      "text/plain": [
       "   x1   x2  \n",
       "x1 1.00 0.87\n",
       "x2 0.87 1.00"
      ]
     },
     "metadata": {},
     "output_type": "display_data"
    }
   ],
   "source": [
    "# Correlation\n",
    "cor(test_df) |>\n",
    "    round(2)"
   ]
  },
  {
   "cell_type": "code",
   "execution_count": 7,
   "id": "402e1f4a",
   "metadata": {
    "vscode": {
     "languageId": "r"
    }
   },
   "outputs": [
    {
     "data": {
      "text/html": [
       "0.878424313030747"
      ],
      "text/latex": [
       "0.878424313030747"
      ],
      "text/markdown": [
       "0.878424313030747"
      ],
      "text/plain": [
       "[1] 0.8784243"
      ]
     },
     "metadata": {},
     "output_type": "display_data"
    }
   ],
   "source": [
    "var(t1) / var(x1)"
   ]
  },
  {
   "cell_type": "code",
   "execution_count": 8,
   "id": "62da793f",
   "metadata": {
    "vscode": {
     "languageId": "r"
    }
   },
   "outputs": [
    {
     "data": {
      "text/html": [
       "0.847351804948915"
      ],
      "text/latex": [
       "0.847351804948915"
      ],
      "text/markdown": [
       "0.847351804948915"
      ],
      "text/plain": [
       "[1] 0.8473518"
      ]
     },
     "metadata": {},
     "output_type": "display_data"
    }
   ],
   "source": [
    "var(t2) / var(x2)"
   ]
  },
  {
   "cell_type": "markdown",
   "id": "f51130bf",
   "metadata": {},
   "source": [
    "In conclusione, per test paralleli:\n",
    "- le medie e le varianze dei punteggi osservati sono statisticamente uguali;\n",
    "- la correlazione è uguale all'attendibilità.\n",
    "\n",
    "#### Test $\\tau$-equivalenti"
   ]
  },
  {
   "cell_type": "code",
   "execution_count": 9,
   "id": "c1d1e72b",
   "metadata": {
    "vscode": {
     "languageId": "r"
    }
   },
   "outputs": [
    {
     "data": {
      "text/html": [
       "<table class=\"dataframe\">\n",
       "<caption>A data.frame: 2 x 3</caption>\n",
       "<thead>\n",
       "\t<tr><th scope=col> </th><th scope=col>Mean</th><th scope=col>Var</th></tr>\n",
       "\t<tr><th scope=col>&lt;chr&gt;</th><th scope=col>&lt;chr&gt;</th><th scope=col>&lt;chr&gt;</th></tr>\n",
       "</thead>\n",
       "<tbody>\n",
       "\t<tr><td>x1</td><td>20.41</td><td>29.20</td></tr>\n",
       "\t<tr><td>x3</td><td>25.41</td><td>41.50</td></tr>\n",
       "</tbody>\n",
       "</table>\n"
      ],
      "text/latex": [
       "A data.frame: 2 x 3\n",
       "\\begin{tabular}{lll}\n",
       "   & Mean & Var\\\\\n",
       " <chr> & <chr> & <chr>\\\\\n",
       "\\hline\n",
       "\t x1 & 20.41 & 29.20\\\\\n",
       "\t x3 & 25.41 & 41.50\\\\\n",
       "\\end{tabular}\n"
      ],
      "text/markdown": [
       "\n",
       "A data.frame: 2 x 3\n",
       "\n",
       "| <!----> &lt;chr&gt; | Mean &lt;chr&gt; | Var &lt;chr&gt; |\n",
       "|---|---|---|\n",
       "| x1 | 20.41 | 29.20 |\n",
       "| x3 | 25.41 | 41.50 |\n",
       "\n"
      ],
      "text/plain": [
       "     Mean  Var  \n",
       "1 x1 20.41 29.20\n",
       "2 x3 25.41 41.50"
      ]
     },
     "metadata": {},
     "output_type": "display_data"
    }
   ],
   "source": [
    "# True scores for Test 3\n",
    "t3 <- 5 + t1 # essentially tau-equivalent tests\n",
    "# Error scores for Test 3 (larger error SDs)\n",
    "e3 <- rnorm(num_person, mean = 0, sd = 4)\n",
    "# Observed scores for Test 2\n",
    "x3 <- t3 + e3\n",
    "\n",
    "# Merge into a data frame\n",
    "test_df2 <- data.frame(x1, x3)\n",
    "# Get means and variances\n",
    "mv <- datasummary(x1 + x3 ~ Mean + Var,\n",
    "    data = test_df2,\n",
    "    output = \"data.frame\"\n",
    ")\n",
    "mv"
   ]
  },
  {
   "cell_type": "code",
   "execution_count": 10,
   "id": "33959865",
   "metadata": {
    "vscode": {
     "languageId": "r"
    }
   },
   "outputs": [
    {
     "data": {
      "text/html": [
       "<table class=\"dataframe\">\n",
       "<caption>A matrix: 2 x 2 of type dbl</caption>\n",
       "<thead>\n",
       "\t<tr><th></th><th scope=col>x1</th><th scope=col>x3</th></tr>\n",
       "</thead>\n",
       "<tbody>\n",
       "\t<tr><th scope=row>x1</th><td>1.00</td><td>0.72</td></tr>\n",
       "\t<tr><th scope=row>x3</th><td>0.72</td><td>1.00</td></tr>\n",
       "</tbody>\n",
       "</table>\n"
      ],
      "text/latex": [
       "A matrix: 2 x 2 of type dbl\n",
       "\\begin{tabular}{r|ll}\n",
       "  & x1 & x3\\\\\n",
       "\\hline\n",
       "\tx1 & 1.00 & 0.72\\\\\n",
       "\tx3 & 0.72 & 1.00\\\\\n",
       "\\end{tabular}\n"
      ],
      "text/markdown": [
       "\n",
       "A matrix: 2 x 2 of type dbl\n",
       "\n",
       "| <!--/--> | x1 | x3 |\n",
       "|---|---|---|\n",
       "| x1 | 1.00 | 0.72 |\n",
       "| x3 | 0.72 | 1.00 |\n",
       "\n"
      ],
      "text/plain": [
       "   x1   x3  \n",
       "x1 1.00 0.72\n",
       "x3 0.72 1.00"
      ]
     },
     "metadata": {},
     "output_type": "display_data"
    }
   ],
   "source": [
    "# Correlation\n",
    "cor(test_df2) |>\n",
    "    round(2)"
   ]
  },
  {
   "cell_type": "markdown",
   "id": "64dcbacb",
   "metadata": {},
   "source": [
    "Se conosciamo i punteggi veri, l'attendibilità di X3 si trova come"
   ]
  },
  {
   "cell_type": "code",
   "execution_count": 11,
   "id": "00081530",
   "metadata": {
    "vscode": {
     "languageId": "r"
    }
   },
   "outputs": [
    {
     "data": {
      "text/html": [
       "0.618012243898734"
      ],
      "text/latex": [
       "0.618012243898734"
      ],
      "text/markdown": [
       "0.618012243898734"
      ],
      "text/plain": [
       "[1] 0.6180122"
      ]
     },
     "metadata": {},
     "output_type": "display_data"
    }
   ],
   "source": [
    "# Reliability for x3\n",
    "var(t3) / var(x3)"
   ]
  },
  {
   "cell_type": "markdown",
   "id": "38c36563",
   "metadata": {},
   "source": [
    "In conclusione, per test tau-equivalenti:\n",
    "- le medie e le varianze dei punteggi osservati sono diverse;\n",
    "- correlazione $\\neq$ attendibilità.\n",
    "\n",
    "#### Test congenerici"
   ]
  },
  {
   "cell_type": "code",
   "execution_count": 12,
   "id": "6c849809",
   "metadata": {
    "vscode": {
     "languageId": "r"
    }
   },
   "outputs": [
    {
     "data": {
      "text/html": [
       "<table class=\"dataframe\">\n",
       "<caption>A data.frame: 2 x 3</caption>\n",
       "<thead>\n",
       "\t<tr><th scope=col> </th><th scope=col>Mean</th><th scope=col>Var</th></tr>\n",
       "\t<tr><th scope=col>&lt;chr&gt;</th><th scope=col>&lt;chr&gt;</th><th scope=col>&lt;chr&gt;</th></tr>\n",
       "</thead>\n",
       "<tbody>\n",
       "\t<tr><td>x1</td><td>20.41</td><td>29.20</td></tr>\n",
       "\t<tr><td>x4</td><td>18.27</td><td>24.23</td></tr>\n",
       "</tbody>\n",
       "</table>\n"
      ],
      "text/latex": [
       "A data.frame: 2 x 3\n",
       "\\begin{tabular}{lll}\n",
       "   & Mean & Var\\\\\n",
       " <chr> & <chr> & <chr>\\\\\n",
       "\\hline\n",
       "\t x1 & 20.41 & 29.20\\\\\n",
       "\t x4 & 18.27 & 24.23\\\\\n",
       "\\end{tabular}\n"
      ],
      "text/markdown": [
       "\n",
       "A data.frame: 2 x 3\n",
       "\n",
       "| <!----> &lt;chr&gt; | Mean &lt;chr&gt; | Var &lt;chr&gt; |\n",
       "|---|---|---|\n",
       "| x1 | 20.41 | 29.20 |\n",
       "| x4 | 18.27 | 24.23 |\n",
       "\n"
      ],
      "text/plain": [
       "     Mean  Var  \n",
       "1 x1 20.41 29.20\n",
       "2 x4 18.27 24.23"
      ]
     },
     "metadata": {},
     "output_type": "display_data"
    }
   ],
   "source": [
    "# True scores for Test 4\n",
    "t4 <- 2 + 0.8 * t1\n",
    "# Error scores for Test 4 (larger error SDs)\n",
    "e4 <- rnorm(num_person, mean = 0, sd = 3)\n",
    "# Observed scores for Test 2\n",
    "x4 <- t4 + e4\n",
    "\n",
    "# Merge into a data frame\n",
    "test_df3 <- data.frame(x1, x4)\n",
    "# Get means and variances\n",
    "mv <- datasummary(x1 + x4 ~ Mean + Var,\n",
    "    data = test_df3,\n",
    "    output = \"data.frame\"\n",
    ")\n",
    "mv"
   ]
  },
  {
   "cell_type": "code",
   "execution_count": 13,
   "id": "0b997047",
   "metadata": {
    "vscode": {
     "languageId": "r"
    }
   },
   "outputs": [
    {
     "data": {
      "text/html": [
       "<table class=\"dataframe\">\n",
       "<caption>A matrix: 2 x 2 of type dbl</caption>\n",
       "<thead>\n",
       "\t<tr><th></th><th scope=col>x1</th><th scope=col>x4</th></tr>\n",
       "</thead>\n",
       "<tbody>\n",
       "\t<tr><th scope=row>x1</th><td>1.00</td><td>0.73</td></tr>\n",
       "\t<tr><th scope=row>x4</th><td>0.73</td><td>1.00</td></tr>\n",
       "</tbody>\n",
       "</table>\n"
      ],
      "text/latex": [
       "A matrix: 2 x 2 of type dbl\n",
       "\\begin{tabular}{r|ll}\n",
       "  & x1 & x4\\\\\n",
       "\\hline\n",
       "\tx1 & 1.00 & 0.73\\\\\n",
       "\tx4 & 0.73 & 1.00\\\\\n",
       "\\end{tabular}\n"
      ],
      "text/markdown": [
       "\n",
       "A matrix: 2 x 2 of type dbl\n",
       "\n",
       "| <!--/--> | x1 | x4 |\n",
       "|---|---|---|\n",
       "| x1 | 1.00 | 0.73 |\n",
       "| x4 | 0.73 | 1.00 |\n",
       "\n"
      ],
      "text/plain": [
       "   x1   x4  \n",
       "x1 1.00 0.73\n",
       "x4 0.73 1.00"
      ]
     },
     "metadata": {},
     "output_type": "display_data"
    }
   ],
   "source": [
    "# Correlation\n",
    "cor(test_df3) |>\n",
    "    round(2)"
   ]
  },
  {
   "cell_type": "markdown",
   "id": "494dce11",
   "metadata": {},
   "source": [
    "Se conosciamo i punteggi veri, l'attendibilità di X4 si trova come"
   ]
  },
  {
   "cell_type": "code",
   "execution_count": 14,
   "id": "10f16742",
   "metadata": {
    "vscode": {
     "languageId": "r"
    }
   },
   "outputs": [
    {
     "data": {
      "text/html": [
       "0.677398252481377"
      ],
      "text/latex": [
       "0.677398252481377"
      ],
      "text/markdown": [
       "0.677398252481377"
      ],
      "text/plain": [
       "[1] 0.6773983"
      ]
     },
     "metadata": {},
     "output_type": "display_data"
    }
   ],
   "source": [
    "# Reliability for x4\n",
    "var(t4) / var(x4)"
   ]
  },
  {
   "cell_type": "markdown",
   "id": "9490adb4",
   "metadata": {},
   "source": [
    "In conclusione, per test congenerici:\n",
    "- le medie e le varianze dei punteggi osservati sono diverse;\n",
    "- correlazione $\\neq$ attendibilità;\n",
    "- sono necessari più di due test per distinguere test congenerici e test $\\tau$-equivalenti."
   ]
  },
  {
   "cell_type": "markdown",
   "id": "a1802180",
   "metadata": {},
   "source": [
    "#### Coefficiente $\\alpha$ di Cronbach\n",
    "\n",
    "Il coefficiente $\\alpha$ consente la stima dell'affidabilità nel contesto di indicatori $\\tau$-equivalenti. In queste circostanze, l'attendibilità viene valutata utilizzando l'equazione:\n",
    "\n",
    "$$\n",
    "\\alpha = \\frac{{k}}{{k-1}} \\left( 1 - \\frac{{\\sum_{i=1}^{k} \\sigma_{X_i}^{2}}}{{\\sigma_{X}^{2}}} \\right)\n",
    "$$\n",
    "\n",
    "dove:\n",
    "- $k$ è il numero di item nel test,\n",
    "- $\\sigma_{i}^{2}$ rappresenta la varianza del punteggio dell'item $i$,\n",
    "- $\\sigma_{X}^{2}$ è la varianza totale dei punteggi del test.\n",
    "\n",
    "Una derivazione della formula del coefficiente alpha di Cronbach è fornita nel capitolo {ref}`reliability-fa-notebook`.\n",
    "\n",
    "Fu Guttman nel 1945 a scoprire questo coefficiente, anche se erroneamente attribuito a Cronbach. È spesso noto come coefficiente $\\alpha$ di Guttman-Cronbach o G-C $\\alpha$.\n",
    "\n",
    "Quando il modello di $\\tau$-equivalenza è applicabile, il coefficiente $\\alpha$ costituisce un limite inferiore dell'affidabilità, in altri termini, il coefficiente $\\alpha$ offre una stima prudente dell'affidabilità. Questa caratteristica è considerata uno dei principali vantaggi di questo indice. Tuttavia, è fondamentale notare che questa natura conservativa del coefficiente $\\alpha$ vale solo se le ipotesi del modello $\\tau$-equivalente sono rispettate.\n",
    "\n",
    "Il coefficiente di attendibilità $\\alpha$ è ampiamente utilizzato nell'ambito della psicometria. Tuttavia, come menzionato in precedenza, quando l'assunzione di $\\tau$-equivalenza non è valida, $\\alpha$ può perdere la sua proprietà conservativa e sovrastimare l'attendibilità del test (Sijtsma, 2009). In tal caso, è necessario valutare attentamente l'adeguatezza dell'utilizzo del coefficiente $\\alpha$ come indicatore di affidabilità."
   ]
  },
  {
   "cell_type": "markdown",
   "id": "ac0f4f37",
   "metadata": {},
   "source": [
    "**Esempio.** Per illustrare la procedura di calcolo del coefficiente $\\alpha$, useremo i dati `bfi` contenuti nel pacchetto `psych`. Il dataframe `bfi` comprende 25 item di autovalutazione della personalità. Sono riportati i dati di 2800 soggetti. Ci concentreremo qui sulla sottoscala *Openness*. \n",
    "- O1: *Am full of ideas*; \n",
    "- O2: *Avoid difficult reading material*; \n",
    "- O3: *Carry the conversation to a higher level*; \n",
    "- O4: *Spend time reflecting on things*; \n",
    "- O5: *Will not probe deeply into a subject*. \n",
    "\n",
    "Leggiamo i dati in R."
   ]
  },
  {
   "cell_type": "code",
   "execution_count": 15,
   "id": "2514c0a1",
   "metadata": {
    "vscode": {
     "languageId": "r"
    }
   },
   "outputs": [
    {
     "data": {
      "text/html": [
       "<table class=\"dataframe\">\n",
       "<caption>A data.frame: 6 x 5</caption>\n",
       "<thead>\n",
       "\t<tr><th></th><th scope=col>O1</th><th scope=col>O2</th><th scope=col>O3</th><th scope=col>O4</th><th scope=col>O5</th></tr>\n",
       "\t<tr><th></th><th scope=col>&lt;int&gt;</th><th scope=col>&lt;int&gt;</th><th scope=col>&lt;int&gt;</th><th scope=col>&lt;int&gt;</th><th scope=col>&lt;int&gt;</th></tr>\n",
       "</thead>\n",
       "<tbody>\n",
       "\t<tr><th scope=row>61617</th><td>3</td><td>6</td><td>3</td><td>4</td><td>3</td></tr>\n",
       "\t<tr><th scope=row>61618</th><td>4</td><td>2</td><td>4</td><td>3</td><td>3</td></tr>\n",
       "\t<tr><th scope=row>61620</th><td>4</td><td>2</td><td>5</td><td>5</td><td>2</td></tr>\n",
       "\t<tr><th scope=row>61621</th><td>3</td><td>3</td><td>4</td><td>3</td><td>5</td></tr>\n",
       "\t<tr><th scope=row>61622</th><td>3</td><td>3</td><td>4</td><td>3</td><td>3</td></tr>\n",
       "\t<tr><th scope=row>61623</th><td>4</td><td>3</td><td>5</td><td>6</td><td>1</td></tr>\n",
       "</tbody>\n",
       "</table>\n"
      ],
      "text/latex": [
       "A data.frame: 6 x 5\n",
       "\\begin{tabular}{r|lllll}\n",
       "  & O1 & O2 & O3 & O4 & O5\\\\\n",
       "  & <int> & <int> & <int> & <int> & <int>\\\\\n",
       "\\hline\n",
       "\t61617 & 3 & 6 & 3 & 4 & 3\\\\\n",
       "\t61618 & 4 & 2 & 4 & 3 & 3\\\\\n",
       "\t61620 & 4 & 2 & 5 & 5 & 2\\\\\n",
       "\t61621 & 3 & 3 & 4 & 3 & 5\\\\\n",
       "\t61622 & 3 & 3 & 4 & 3 & 3\\\\\n",
       "\t61623 & 4 & 3 & 5 & 6 & 1\\\\\n",
       "\\end{tabular}\n"
      ],
      "text/markdown": [
       "\n",
       "A data.frame: 6 x 5\n",
       "\n",
       "| <!--/--> | O1 &lt;int&gt; | O2 &lt;int&gt; | O3 &lt;int&gt; | O4 &lt;int&gt; | O5 &lt;int&gt; |\n",
       "|---|---|---|---|---|---|\n",
       "| 61617 | 3 | 6 | 3 | 4 | 3 |\n",
       "| 61618 | 4 | 2 | 4 | 3 | 3 |\n",
       "| 61620 | 4 | 2 | 5 | 5 | 2 |\n",
       "| 61621 | 3 | 3 | 4 | 3 | 5 |\n",
       "| 61622 | 3 | 3 | 4 | 3 | 3 |\n",
       "| 61623 | 4 | 3 | 5 | 6 | 1 |\n",
       "\n"
      ],
      "text/plain": [
       "      O1 O2 O3 O4 O5\n",
       "61617 3  6  3  4  3 \n",
       "61618 4  2  4  3  3 \n",
       "61620 4  2  5  5  2 \n",
       "61621 3  3  4  3  5 \n",
       "61622 3  3  4  3  3 \n",
       "61623 4  3  5  6  1 "
      ]
     },
     "metadata": {},
     "output_type": "display_data"
    }
   ],
   "source": [
    "data(bfi, package = \"psych\")\n",
    "head(bfi[c(\"O1\", \"O2\", \"O3\", \"O4\", \"O5\")])"
   ]
  },
  {
   "cell_type": "markdown",
   "id": "7c28ce5c",
   "metadata": {},
   "source": [
    "Esaminiamo la correlazione tra gli item della sottoscale Openness."
   ]
  },
  {
   "cell_type": "code",
   "execution_count": 16,
   "id": "6a9e877b",
   "metadata": {
    "vscode": {
     "languageId": "r"
    }
   },
   "outputs": [
    {
     "data": {
      "text/html": [
       "<table class=\"dataframe\">\n",
       "<caption>A matrix: 5 x 5 of type dbl</caption>\n",
       "<thead>\n",
       "\t<tr><th></th><th scope=col>O1</th><th scope=col>O2</th><th scope=col>O3</th><th scope=col>O4</th><th scope=col>O5</th></tr>\n",
       "</thead>\n",
       "<tbody>\n",
       "\t<tr><th scope=row>O1</th><td> 1.00</td><td>-0.21</td><td> 0.40</td><td> 0.18</td><td>-0.24</td></tr>\n",
       "\t<tr><th scope=row>O2</th><td>-0.21</td><td> 1.00</td><td>-0.26</td><td>-0.07</td><td> 0.32</td></tr>\n",
       "\t<tr><th scope=row>O3</th><td> 0.40</td><td>-0.26</td><td> 1.00</td><td> 0.19</td><td>-0.31</td></tr>\n",
       "\t<tr><th scope=row>O4</th><td> 0.18</td><td>-0.07</td><td> 0.19</td><td> 1.00</td><td>-0.18</td></tr>\n",
       "\t<tr><th scope=row>O5</th><td>-0.24</td><td> 0.32</td><td>-0.31</td><td>-0.18</td><td> 1.00</td></tr>\n",
       "</tbody>\n",
       "</table>\n"
      ],
      "text/latex": [
       "A matrix: 5 x 5 of type dbl\n",
       "\\begin{tabular}{r|lllll}\n",
       "  & O1 & O2 & O3 & O4 & O5\\\\\n",
       "\\hline\n",
       "\tO1 &  1.00 & -0.21 &  0.40 &  0.18 & -0.24\\\\\n",
       "\tO2 & -0.21 &  1.00 & -0.26 & -0.07 &  0.32\\\\\n",
       "\tO3 &  0.40 & -0.26 &  1.00 &  0.19 & -0.31\\\\\n",
       "\tO4 &  0.18 & -0.07 &  0.19 &  1.00 & -0.18\\\\\n",
       "\tO5 & -0.24 &  0.32 & -0.31 & -0.18 &  1.00\\\\\n",
       "\\end{tabular}\n"
      ],
      "text/markdown": [
       "\n",
       "A matrix: 5 x 5 of type dbl\n",
       "\n",
       "| <!--/--> | O1 | O2 | O3 | O4 | O5 |\n",
       "|---|---|---|---|---|---|\n",
       "| O1 |  1.00 | -0.21 |  0.40 |  0.18 | -0.24 |\n",
       "| O2 | -0.21 |  1.00 | -0.26 | -0.07 |  0.32 |\n",
       "| O3 |  0.40 | -0.26 |  1.00 |  0.19 | -0.31 |\n",
       "| O4 |  0.18 | -0.07 |  0.19 |  1.00 | -0.18 |\n",
       "| O5 | -0.24 |  0.32 | -0.31 | -0.18 |  1.00 |\n",
       "\n"
      ],
      "text/plain": [
       "   O1    O2    O3    O4    O5   \n",
       "O1  1.00 -0.21  0.40  0.18 -0.24\n",
       "O2 -0.21  1.00 -0.26 -0.07  0.32\n",
       "O3  0.40 -0.26  1.00  0.19 -0.31\n",
       "O4  0.18 -0.07  0.19  1.00 -0.18\n",
       "O5 -0.24  0.32 -0.31 -0.18  1.00"
      ]
     },
     "metadata": {},
     "output_type": "display_data"
    }
   ],
   "source": [
    "cor(bfi[c(\"O1\", \"O2\", \"O3\", \"O4\", \"O5\")], use = \"pairwise.complete.obs\") |>\n",
    "    round(2)"
   ]
  },
  {
   "cell_type": "markdown",
   "id": "25862f0b",
   "metadata": {},
   "source": [
    "È necessario ricodificare due item."
   ]
  },
  {
   "cell_type": "code",
   "execution_count": 17,
   "id": "2a8e3e79",
   "metadata": {
    "vscode": {
     "languageId": "r"
    }
   },
   "outputs": [],
   "source": [
    "bfi$O2r <- 7 - bfi$O2\n",
    "bfi$O5r <- 7 - bfi$O5"
   ]
  },
  {
   "cell_type": "code",
   "execution_count": 18,
   "id": "e224caf9",
   "metadata": {
    "vscode": {
     "languageId": "r"
    }
   },
   "outputs": [
    {
     "data": {
      "text/html": [
       "<table class=\"dataframe\">\n",
       "<caption>A matrix: 5 x 5 of type dbl</caption>\n",
       "<thead>\n",
       "\t<tr><th></th><th scope=col>O1</th><th scope=col>O2r</th><th scope=col>O3</th><th scope=col>O4</th><th scope=col>O5r</th></tr>\n",
       "</thead>\n",
       "<tbody>\n",
       "\t<tr><th scope=row>O1</th><td>1.00</td><td>0.21</td><td>0.40</td><td>0.18</td><td>0.24</td></tr>\n",
       "\t<tr><th scope=row>O2r</th><td>0.21</td><td>1.00</td><td>0.26</td><td>0.07</td><td>0.32</td></tr>\n",
       "\t<tr><th scope=row>O3</th><td>0.40</td><td>0.26</td><td>1.00</td><td>0.19</td><td>0.31</td></tr>\n",
       "\t<tr><th scope=row>O4</th><td>0.18</td><td>0.07</td><td>0.19</td><td>1.00</td><td>0.18</td></tr>\n",
       "\t<tr><th scope=row>O5r</th><td>0.24</td><td>0.32</td><td>0.31</td><td>0.18</td><td>1.00</td></tr>\n",
       "</tbody>\n",
       "</table>\n"
      ],
      "text/latex": [
       "A matrix: 5 x 5 of type dbl\n",
       "\\begin{tabular}{r|lllll}\n",
       "  & O1 & O2r & O3 & O4 & O5r\\\\\n",
       "\\hline\n",
       "\tO1 & 1.00 & 0.21 & 0.40 & 0.18 & 0.24\\\\\n",
       "\tO2r & 0.21 & 1.00 & 0.26 & 0.07 & 0.32\\\\\n",
       "\tO3 & 0.40 & 0.26 & 1.00 & 0.19 & 0.31\\\\\n",
       "\tO4 & 0.18 & 0.07 & 0.19 & 1.00 & 0.18\\\\\n",
       "\tO5r & 0.24 & 0.32 & 0.31 & 0.18 & 1.00\\\\\n",
       "\\end{tabular}\n"
      ],
      "text/markdown": [
       "\n",
       "A matrix: 5 x 5 of type dbl\n",
       "\n",
       "| <!--/--> | O1 | O2r | O3 | O4 | O5r |\n",
       "|---|---|---|---|---|---|\n",
       "| O1 | 1.00 | 0.21 | 0.40 | 0.18 | 0.24 |\n",
       "| O2r | 0.21 | 1.00 | 0.26 | 0.07 | 0.32 |\n",
       "| O3 | 0.40 | 0.26 | 1.00 | 0.19 | 0.31 |\n",
       "| O4 | 0.18 | 0.07 | 0.19 | 1.00 | 0.18 |\n",
       "| O5r | 0.24 | 0.32 | 0.31 | 0.18 | 1.00 |\n",
       "\n"
      ],
      "text/plain": [
       "    O1   O2r  O3   O4   O5r \n",
       "O1  1.00 0.21 0.40 0.18 0.24\n",
       "O2r 0.21 1.00 0.26 0.07 0.32\n",
       "O3  0.40 0.26 1.00 0.19 0.31\n",
       "O4  0.18 0.07 0.19 1.00 0.18\n",
       "O5r 0.24 0.32 0.31 0.18 1.00"
      ]
     },
     "metadata": {},
     "output_type": "display_data"
    }
   ],
   "source": [
    "cor(bfi[c(\"O1\", \"O2r\", \"O3\", \"O4\", \"O5r\")], use = \"pairwise.complete.obs\") |>\n",
    "    round(2)"
   ]
  },
  {
   "cell_type": "markdown",
   "id": "4007bb63",
   "metadata": {},
   "source": [
    "Consideriamo la matrice di varianze e covarianze della sottoscala Openness. "
   ]
  },
  {
   "cell_type": "code",
   "execution_count": 19,
   "id": "2dd9e307",
   "metadata": {
    "vscode": {
     "languageId": "r"
    }
   },
   "outputs": [
    {
     "data": {
      "text/html": [
       "<table class=\"dataframe\">\n",
       "<caption>A matrix: 5 x 5 of type dbl</caption>\n",
       "<thead>\n",
       "\t<tr><th></th><th scope=col>O1</th><th scope=col>O2r</th><th scope=col>O3</th><th scope=col>O4</th><th scope=col>O5r</th></tr>\n",
       "</thead>\n",
       "<tbody>\n",
       "\t<tr><th scope=row>O1</th><td>1.28</td><td>0.38</td><td>0.54</td><td>0.25</td><td>0.36</td></tr>\n",
       "\t<tr><th scope=row>O2r</th><td>0.38</td><td>2.45</td><td>0.50</td><td>0.13</td><td>0.67</td></tr>\n",
       "\t<tr><th scope=row>O3</th><td>0.54</td><td>0.50</td><td>1.49</td><td>0.29</td><td>0.50</td></tr>\n",
       "\t<tr><th scope=row>O4</th><td>0.25</td><td>0.13</td><td>0.29</td><td>1.49</td><td>0.29</td></tr>\n",
       "\t<tr><th scope=row>O5r</th><td>0.36</td><td>0.67</td><td>0.50</td><td>0.29</td><td>1.76</td></tr>\n",
       "</tbody>\n",
       "</table>\n"
      ],
      "text/latex": [
       "A matrix: 5 x 5 of type dbl\n",
       "\\begin{tabular}{r|lllll}\n",
       "  & O1 & O2r & O3 & O4 & O5r\\\\\n",
       "\\hline\n",
       "\tO1 & 1.28 & 0.38 & 0.54 & 0.25 & 0.36\\\\\n",
       "\tO2r & 0.38 & 2.45 & 0.50 & 0.13 & 0.67\\\\\n",
       "\tO3 & 0.54 & 0.50 & 1.49 & 0.29 & 0.50\\\\\n",
       "\tO4 & 0.25 & 0.13 & 0.29 & 1.49 & 0.29\\\\\n",
       "\tO5r & 0.36 & 0.67 & 0.50 & 0.29 & 1.76\\\\\n",
       "\\end{tabular}\n"
      ],
      "text/markdown": [
       "\n",
       "A matrix: 5 x 5 of type dbl\n",
       "\n",
       "| <!--/--> | O1 | O2r | O3 | O4 | O5r |\n",
       "|---|---|---|---|---|---|\n",
       "| O1 | 1.28 | 0.38 | 0.54 | 0.25 | 0.36 |\n",
       "| O2r | 0.38 | 2.45 | 0.50 | 0.13 | 0.67 |\n",
       "| O3 | 0.54 | 0.50 | 1.49 | 0.29 | 0.50 |\n",
       "| O4 | 0.25 | 0.13 | 0.29 | 1.49 | 0.29 |\n",
       "| O5r | 0.36 | 0.67 | 0.50 | 0.29 | 1.76 |\n",
       "\n"
      ],
      "text/plain": [
       "    O1   O2r  O3   O4   O5r \n",
       "O1  1.28 0.38 0.54 0.25 0.36\n",
       "O2r 0.38 2.45 0.50 0.13 0.67\n",
       "O3  0.54 0.50 1.49 0.29 0.50\n",
       "O4  0.25 0.13 0.29 1.49 0.29\n",
       "O5r 0.36 0.67 0.50 0.29 1.76"
      ]
     },
     "metadata": {},
     "output_type": "display_data"
    }
   ],
   "source": [
    "C <- cov(bfi[c(\"O1\", \"O2r\", \"O3\", \"O4\", \"O5r\")], use = \"pairwise.complete.obs\")\n",
    "C |> round(2)"
   ]
  },
  {
   "cell_type": "markdown",
   "id": "eda4755e",
   "metadata": {},
   "source": [
    "Calcoliamo alpha:"
   ]
  },
  {
   "cell_type": "code",
   "execution_count": 20,
   "id": "6ce0c3c5",
   "metadata": {
    "vscode": {
     "languageId": "r"
    }
   },
   "outputs": [
    {
     "data": {
      "text/html": [
       "0.600172514820215"
      ],
      "text/latex": [
       "0.600172514820215"
      ],
      "text/markdown": [
       "0.600172514820215"
      ],
      "text/plain": [
       "[1] 0.6001725"
      ]
     },
     "metadata": {},
     "output_type": "display_data"
    }
   ],
   "source": [
    "p <- 5\n",
    "alpha <- (p / (p - 1)) * (1 - tr(C) / sum(C))\n",
    "alpha"
   ]
  },
  {
   "cell_type": "markdown",
   "id": "c273c87d",
   "metadata": {},
   "source": [
    "Lo stesso risultato si ottiene utilizzando la funzione `alpha()`\n",
    "contenuta nel pacchetto `psych`:"
   ]
  },
  {
   "cell_type": "code",
   "execution_count": 21,
   "id": "ab490db5",
   "metadata": {
    "vscode": {
     "languageId": "r"
    }
   },
   "outputs": [
    {
     "data": {
      "text/plain": [
       "\n",
       "Reliability analysis   \n",
       "Call: psych::alpha(x = C)\n",
       "\n",
       "  raw_alpha std.alpha G6(smc) average_r S/N median_r\n",
       "       0.6      0.61    0.57      0.24 1.5     0.23\n",
       "\n",
       "    95% confidence boundaries \n",
       "      lower alpha upper\n",
       "Feldt -0.49   0.6  0.95\n",
       "\n",
       " Reliability if an item is dropped:\n",
       "    raw_alpha std.alpha G6(smc) average_r S/N  var.r med.r\n",
       "O1       0.53      0.53    0.48      0.22 1.1 0.0092  0.23\n",
       "O2r      0.57      0.57    0.51      0.25 1.3 0.0076  0.22\n",
       "O3       0.50      0.50    0.44      0.20 1.0 0.0071  0.20\n",
       "O4       0.61      0.62    0.56      0.29 1.6 0.0044  0.29\n",
       "O5r      0.51      0.53    0.47      0.22 1.1 0.0115  0.20\n",
       "\n",
       " Item statistics \n",
       "       r r.cor r.drop\n",
       "O1  0.65  0.52   0.39\n",
       "O2r 0.60  0.43   0.33\n",
       "O3  0.69  0.59   0.45\n",
       "O4  0.52  0.29   0.22\n",
       "O5r 0.66  0.52   0.42"
      ]
     },
     "metadata": {},
     "output_type": "display_data"
    }
   ],
   "source": [
    "psych::alpha(C)"
   ]
  },
  {
   "cell_type": "markdown",
   "id": "36ffeef6",
   "metadata": {},
   "source": [
    "#### Metodi alternativi per la stima del coefficiente di attendibilità\n",
    "\n",
    "Ci sono altri coefficienti di consistenza interna oltre al coefficiente alpha di Cronbach. Alcuni esempi includono il coefficiente KR-20 e il coefficiente KR-21, che vengono utilizzati con item  dicotomici (ossia con risposte a due alternative, come vero/falso). \n",
    "\n",
    "#### Coefficiente KR-20\n",
    "\n",
    "La formula di Kuder-Richardson-20 (KR-20) è un caso particolare del coefficiente α. Se ogni item è dicotomico, il coefficiente α diventa il KR-20. Il coefficiente Coefficiente KR-20 si calcola con la formula:\n",
    "\n",
    "$$\n",
    "KR\\_20 = \\frac{{k}}{{k-1}} \\left( 1 - \\frac{{p(1-p)}}{{\\sigma_{X}^{2}}} \\right) \n",
    "$$\n",
    "\n",
    "dove:\n",
    "- $k$ è il numero di item nel test,\n",
    "- $p$ è la proporzione di individui che rispondono correttamente all'item,\n",
    "- $\\sigma_{X}^{2}$ è la varianza totale dei punteggi del test."
   ]
  },
  {
   "cell_type": "markdown",
   "id": "3e6d31fb",
   "metadata": {},
   "source": [
    "**Esempio.** Per fare un esempio, consideriamo il data-set `LSAT` contenuto nel pacchetto `ltm`."
   ]
  },
  {
   "cell_type": "code",
   "execution_count": 22,
   "id": "b56b3585",
   "metadata": {
    "vscode": {
     "languageId": "r"
    }
   },
   "outputs": [],
   "source": [
    "KR20 <- function(responses) {\n",
    "    # Get number of items (N) and individuals\n",
    "    n.items <- ncol(responses)\n",
    "    n.persons <- nrow(responses)\n",
    "    # get p_j for each item\n",
    "    p <- colMeans(responses)\n",
    "    # Get total scores (X)\n",
    "    x <- rowSums(responses)\n",
    "    # observed score variance\n",
    "    var.x <- var(x) * (n.persons - 1) / n.persons\n",
    "    # Apply KR-20 formula\n",
    "    rel <- (n.items / (n.items - 1)) * (1 - sum(p * (1 - p)) / var.x)\n",
    "    return(rel)\n",
    "}"
   ]
  },
  {
   "cell_type": "code",
   "execution_count": 23,
   "id": "0a3b7970",
   "metadata": {
    "vscode": {
     "languageId": "r"
    }
   },
   "outputs": [
    {
     "data": {
      "text/html": [
       "<table class=\"dataframe\">\n",
       "<caption>A data.frame: 6 x 5</caption>\n",
       "<thead>\n",
       "\t<tr><th></th><th scope=col>Item 1</th><th scope=col>Item 2</th><th scope=col>Item 3</th><th scope=col>Item 4</th><th scope=col>Item 5</th></tr>\n",
       "\t<tr><th></th><th scope=col>&lt;int&gt;</th><th scope=col>&lt;int&gt;</th><th scope=col>&lt;int&gt;</th><th scope=col>&lt;int&gt;</th><th scope=col>&lt;int&gt;</th></tr>\n",
       "</thead>\n",
       "<tbody>\n",
       "\t<tr><th scope=row>1</th><td>0</td><td>0</td><td>0</td><td>0</td><td>0</td></tr>\n",
       "\t<tr><th scope=row>2</th><td>0</td><td>0</td><td>0</td><td>0</td><td>0</td></tr>\n",
       "\t<tr><th scope=row>3</th><td>0</td><td>0</td><td>0</td><td>0</td><td>0</td></tr>\n",
       "\t<tr><th scope=row>4</th><td>0</td><td>0</td><td>0</td><td>0</td><td>1</td></tr>\n",
       "\t<tr><th scope=row>5</th><td>0</td><td>0</td><td>0</td><td>0</td><td>1</td></tr>\n",
       "\t<tr><th scope=row>6</th><td>0</td><td>0</td><td>0</td><td>0</td><td>1</td></tr>\n",
       "</tbody>\n",
       "</table>\n"
      ],
      "text/latex": [
       "A data.frame: 6 x 5\n",
       "\\begin{tabular}{r|lllll}\n",
       "  & Item 1 & Item 2 & Item 3 & Item 4 & Item 5\\\\\n",
       "  & <int> & <int> & <int> & <int> & <int>\\\\\n",
       "\\hline\n",
       "\t1 & 0 & 0 & 0 & 0 & 0\\\\\n",
       "\t2 & 0 & 0 & 0 & 0 & 0\\\\\n",
       "\t3 & 0 & 0 & 0 & 0 & 0\\\\\n",
       "\t4 & 0 & 0 & 0 & 0 & 1\\\\\n",
       "\t5 & 0 & 0 & 0 & 0 & 1\\\\\n",
       "\t6 & 0 & 0 & 0 & 0 & 1\\\\\n",
       "\\end{tabular}\n"
      ],
      "text/markdown": [
       "\n",
       "A data.frame: 6 x 5\n",
       "\n",
       "| <!--/--> | Item 1 &lt;int&gt; | Item 2 &lt;int&gt; | Item 3 &lt;int&gt; | Item 4 &lt;int&gt; | Item 5 &lt;int&gt; |\n",
       "|---|---|---|---|---|---|\n",
       "| 1 | 0 | 0 | 0 | 0 | 0 |\n",
       "| 2 | 0 | 0 | 0 | 0 | 0 |\n",
       "| 3 | 0 | 0 | 0 | 0 | 0 |\n",
       "| 4 | 0 | 0 | 0 | 0 | 1 |\n",
       "| 5 | 0 | 0 | 0 | 0 | 1 |\n",
       "| 6 | 0 | 0 | 0 | 0 | 1 |\n",
       "\n"
      ],
      "text/plain": [
       "  Item 1 Item 2 Item 3 Item 4 Item 5\n",
       "1 0      0      0      0      0     \n",
       "2 0      0      0      0      0     \n",
       "3 0      0      0      0      0     \n",
       "4 0      0      0      0      1     \n",
       "5 0      0      0      0      1     \n",
       "6 0      0      0      0      1     "
      ]
     },
     "metadata": {},
     "output_type": "display_data"
    }
   ],
   "source": [
    "data(LSAT)\n",
    "head(LSAT)"
   ]
  },
  {
   "cell_type": "code",
   "execution_count": 24,
   "id": "16cea030",
   "metadata": {
    "vscode": {
     "languageId": "r"
    }
   },
   "outputs": [
    {
     "data": {
      "text/html": [
       "0.294997192215955"
      ],
      "text/latex": [
       "0.294997192215955"
      ],
      "text/markdown": [
       "0.294997192215955"
      ],
      "text/plain": [
       "[1] 0.2949972"
      ]
     },
     "metadata": {},
     "output_type": "display_data"
    }
   ],
   "source": [
    "KR20(LSAT)"
   ]
  },
  {
   "cell_type": "markdown",
   "id": "4e206fe9",
   "metadata": {},
   "source": [
    "#### Coefficiente KR-21\n",
    "\n",
    "Il coefficiente Coefficiente KR-21 si calcola con la formula:\n",
    "\n",
    "$$\n",
    "KR\\_21 = \\frac{{k}}{{k-1}} \\left( 1 - \\frac{{\\frac{{\\sum_{i=1}^{k} p_{i}(1-p_{i})}}{{\\sigma_{X}^{2}}}}}{{1 - \\frac{{\\sum_{i=1}^{k} p_{i}}}{k}}} \\right) \n",
    "$$\n",
    "\n",
    "dove:\n",
    "- $k$ è il numero di item nel test,\n",
    "- $p_{i}$ è la proporzione di individui che rispondono correttamente all'item $i$,\n",
    "- $\\sigma_{X}^{2}$ è la varianza totale dei punteggi del test."
   ]
  },
  {
   "cell_type": "markdown",
   "id": "a391d4ff",
   "metadata": {},
   "source": [
    "#### La formula \"profetica\" di Spearman-Brown \n",
    "\n",
    "L'indice di Spearman-Brown stima l'attendibilità nel caso di $p$ indicatori paralleli:\n",
    "\n",
    "$$\n",
    "\\begin{equation}\n",
    "  \\rho_p = \\frac{p \\rho_1}{(p-1)\\rho_1 + 1},\n",
    "\\end{equation}\n",
    "$$ (eq-spearman-brown-der)\n",
    "\n",
    "dove $\\rho_1$ rappresenta l'attendibilità di un singolo elemento.\n",
    "\n",
    "Una derivazione della formula Spearman-Brown è fornita nel capitolo {ref}`reliability-fa-notebook`.\n",
    "\n",
    "L'equazione {eq}`eq-spearman-brown-der` esprime l'attendibilità $\\rho_p$ di un test composto da $p$ elementi paralleli in termini dell'attendibilità di un singolo elemento. Questa equazione è universalmente riconosciuta come la formula \"profetica\" di Spearman-Brown (*Spearman-Brown prophecy formula*).\n",
    "\n",
    "Per fare un esempio concreto, poniamoci il problema di calcolare l'attendibilità della sottoscala Openness utilizzando la formula di Spearman-Brown. Ipotizziamo dunque che gli item della scala Openness siano paralleli. La matrice di correlazione è:"
   ]
  },
  {
   "cell_type": "code",
   "execution_count": 25,
   "id": "b4d182e6",
   "metadata": {
    "vscode": {
     "languageId": "r"
    }
   },
   "outputs": [
    {
     "data": {
      "text/html": [
       "<table class=\"dataframe\">\n",
       "<caption>A matrix: 5 x 5 of type dbl</caption>\n",
       "<thead>\n",
       "\t<tr><th></th><th scope=col>O1</th><th scope=col>O2r</th><th scope=col>O3</th><th scope=col>O4</th><th scope=col>O5r</th></tr>\n",
       "</thead>\n",
       "<tbody>\n",
       "\t<tr><th scope=row>O1</th><td>1.00</td><td>0.21</td><td>0.40</td><td>0.18</td><td>0.24</td></tr>\n",
       "\t<tr><th scope=row>O2r</th><td>0.21</td><td>1.00</td><td>0.26</td><td>0.07</td><td>0.32</td></tr>\n",
       "\t<tr><th scope=row>O3</th><td>0.40</td><td>0.26</td><td>1.00</td><td>0.19</td><td>0.31</td></tr>\n",
       "\t<tr><th scope=row>O4</th><td>0.18</td><td>0.07</td><td>0.19</td><td>1.00</td><td>0.18</td></tr>\n",
       "\t<tr><th scope=row>O5r</th><td>0.24</td><td>0.32</td><td>0.31</td><td>0.18</td><td>1.00</td></tr>\n",
       "</tbody>\n",
       "</table>\n"
      ],
      "text/latex": [
       "A matrix: 5 x 5 of type dbl\n",
       "\\begin{tabular}{r|lllll}\n",
       "  & O1 & O2r & O3 & O4 & O5r\\\\\n",
       "\\hline\n",
       "\tO1 & 1.00 & 0.21 & 0.40 & 0.18 & 0.24\\\\\n",
       "\tO2r & 0.21 & 1.00 & 0.26 & 0.07 & 0.32\\\\\n",
       "\tO3 & 0.40 & 0.26 & 1.00 & 0.19 & 0.31\\\\\n",
       "\tO4 & 0.18 & 0.07 & 0.19 & 1.00 & 0.18\\\\\n",
       "\tO5r & 0.24 & 0.32 & 0.31 & 0.18 & 1.00\\\\\n",
       "\\end{tabular}\n"
      ],
      "text/markdown": [
       "\n",
       "A matrix: 5 x 5 of type dbl\n",
       "\n",
       "| <!--/--> | O1 | O2r | O3 | O4 | O5r |\n",
       "|---|---|---|---|---|---|\n",
       "| O1 | 1.00 | 0.21 | 0.40 | 0.18 | 0.24 |\n",
       "| O2r | 0.21 | 1.00 | 0.26 | 0.07 | 0.32 |\n",
       "| O3 | 0.40 | 0.26 | 1.00 | 0.19 | 0.31 |\n",
       "| O4 | 0.18 | 0.07 | 0.19 | 1.00 | 0.18 |\n",
       "| O5r | 0.24 | 0.32 | 0.31 | 0.18 | 1.00 |\n",
       "\n"
      ],
      "text/plain": [
       "    O1   O2r  O3   O4   O5r \n",
       "O1  1.00 0.21 0.40 0.18 0.24\n",
       "O2r 0.21 1.00 0.26 0.07 0.32\n",
       "O3  0.40 0.26 1.00 0.19 0.31\n",
       "O4  0.18 0.07 0.19 1.00 0.18\n",
       "O5r 0.24 0.32 0.31 0.18 1.00"
      ]
     },
     "metadata": {},
     "output_type": "display_data"
    }
   ],
   "source": [
    "R <- cor(bfi[c(\"O1\", \"O2r\", \"O3\", \"O4\", \"O5r\")], use = \"pairwise.complete.obs\")\n",
    "R |> round(2)"
   ]
  },
  {
   "cell_type": "markdown",
   "id": "03fa92ee",
   "metadata": {},
   "source": [
    "Supponiamo di calcolare l'attendibilità di un singolo item ($\\rho_1$) come la correlazione media tra gli item:"
   ]
  },
  {
   "cell_type": "code",
   "execution_count": 26,
   "id": "d52b4a51",
   "metadata": {
    "vscode": {
     "languageId": "r"
    }
   },
   "outputs": [
    {
     "data": {
      "text/html": [
       "0.236538319550858"
      ],
      "text/latex": [
       "0.236538319550858"
      ],
      "text/markdown": [
       "0.236538319550858"
      ],
      "text/plain": [
       "[1] 0.2365383"
      ]
     },
     "metadata": {},
     "output_type": "display_data"
    }
   ],
   "source": [
    "rr <- NULL\n",
    "p <- 5\n",
    "k <- 1\n",
    "for (i in 1:p) {\n",
    "    for (j in 1:p) {\n",
    "        if (j != i) {\n",
    "            rr[k] <- R[i, j]\n",
    "        }\n",
    "        k <- k + 1\n",
    "    }\n",
    "}\n",
    "ro_1 <- mean(rr, na.rm = TRUE)\n",
    "ro_1"
   ]
  },
  {
   "cell_type": "markdown",
   "id": "ddfcea0d",
   "metadata": {},
   "source": [
    "Applicando la formula di Spearman-Brown, la stima dell'attendibilità del\n",
    "test diventa pari a"
   ]
  },
  {
   "cell_type": "code",
   "execution_count": 27,
   "id": "61be1526",
   "metadata": {
    "vscode": {
     "languageId": "r"
    }
   },
   "outputs": [
    {
     "data": {
      "text/html": [
       "0.607707322439719"
      ],
      "text/latex": [
       "0.607707322439719"
      ],
      "text/markdown": [
       "0.607707322439719"
      ],
      "text/plain": [
       "[1] 0.6077073"
      ]
     },
     "metadata": {},
     "output_type": "display_data"
    }
   ],
   "source": [
    "(p * ro_1) / ((p - 1) * ro_1 + 1)"
   ]
  },
  {
   "attachments": {},
   "cell_type": "markdown",
   "id": "9c88acc2",
   "metadata": {},
   "source": [
    "### Forme parallele del test\n",
    "\n",
    "In alcune situazioni, è possibile avere a disposizione diverse versioni di un test che sono progettate per essere interscambiabili, in modo tale che la specifica versione del test non influenzi i punteggi ottenuti dai partecipanti. Queste forme alternative del test sono comuni soprattutto nel campo dell'educazione, dove spesso vengono preparate diverse versioni al fine di prevenire frodi o imbrogli. Inoltre, anche i ricercatori possono adottare forme alternative in studi che coinvolgono pre-test e post-test, al fine di evitare che i partecipanti beneficiino degli effetti di pratica o memoria. Tuttavia, è di fondamentale importanza determinare se i punteggi ottenuti da queste diverse versioni sono coerenti, poiché la mancanza di equivalenza tra le forme potrebbe condurre a conclusioni errate riguardo alle variazioni dei punteggi.\n",
    "\n",
    "Le principali fonti di errore di misurazione per le forme alternative di test cognitivi derivano dalle differenze nei contenuti, nella difficoltà e nella complessità cognitiva degli item. Per quanto riguarda i test non-cognitivi, le differenze nei contenuti e nell'intensità degli item sono motivo di attenzione. Gli sviluppatori di forme alternative adottano diverse procedure al fine di garantire l'equivalenza tra le varie versioni, basandosi sulla stessa tabella di specifiche che stabilisce la proporzione di item per i diversi domini di contenuto e i livelli cognitivi o non-cognitivi. Inoltre, vengono appaiati gli item in base alla loro difficoltà e alla loro capacità discriminante.\n",
    "\n",
    "I coefficienti di equivalenza, noti anche come affidabilità delle forme alternative, valutano la similitudine tra due o più versioni di un test. Per calcolare questi coefficienti, le diverse forme vengono somministrate agli stessi partecipanti e i punteggi ottenuti vengono correlati. Tuttavia, vi sono alcune considerazioni legate alla somministrazione dei test e alla possibile fatica dei partecipanti. Al fine di affrontare tali problematiche, possono essere adottate strategie come il bilanciamento dell'ordine di somministrazione e l'introduzione di un breve intervallo di tempo tra le diverse versioni. Inoltre, è importante considerare gli effetti della pratica o della memoria, i quali potrebbero influenzare i punteggi ottenuti nel secondo test somministrato. L'impiego del bilanciamento tra gruppi può contribuire a controllare tali effetti.\n",
    "\n",
    "### Attendibilità test-retest\n",
    "\n",
    "Infine, esaminiamo il concetto di \"affidabilità test-retest\", che si riferisce alla coerenza o stabilità dei punteggi di un test in diverse occasioni nel corso del tempo. Questo tipo di affidabilità riveste una particolare importanza nelle situazioni in cui i punteggi vengono ottenuti in momenti diversi e confrontati, come nel caso di test effettuati prima e dopo un intervento. Inoltre, è di rilievo quando i punteggi del test vengono utilizzati per prendere decisioni diagnostiche, di selezione o di collocazione. Tuttavia, è importante sottolineare che l'affidabilità test-retest non è adatta per valutare costrutti che non sono noti per la loro stabilità nel tempo. Ciò deriva dal fatto che l'analisi della stabilità di un test potrebbe essere influenzata da effettivi cambiamenti nei livelli veri del costrutto tra i partecipanti. Di conseguenza, è essenziale che i ricercatori siano consapevoli in anticipo della stabilità del costrutto che intendono misurare. È importante notare che molti costrutti di interesse nelle scienze sociali sono generalmente considerati stabili nel tempo, come ad esempio la creatività, l'abilità cognitiva e alcune caratteristiche della personalità.\n",
    "\n",
    "## Affidabilità dei punteggi compositi\n",
    "\n",
    "L'affidabilità dei punteggi compositi si riferisce alla misura in cui più punteggi ottenuti da diverse fonti possono essere combinati per creare un punteggio complessivo. Ad esempio, nella valutazione educativa, la determinazione delle votazioni spesso si basa su un punteggio complessivo ottenuto da diverse prove e altre valutazioni somministrate durante un periodo di valutazione o un semestre. Molti test psicologici standardizzati includono diverse sottoscale che vengono combinate per formare un punteggio complessivo. \n",
    "\n",
    "Il vantaggio dei punteggi compositi è che la loro affidabilità è generalmente maggiore rispetto a quella dei punteggi individuali delle sottoscale (o item) che contribuiscono al punteggio composto. Più precisamente, l'affidabilità di un punteggio composto è il risultato del numero di punteggi inclusi nel composto, dell'affidabilità dei punteggi individuali e della correlazione tra questi punteggi. Più punteggi sono inclusi nel composto, più alta è la correlazione tra di essi e maggiore è l'affidabilità individuale, maggiore è l'affidabilità del composto. Come abbiamo notato in precedenza, i test rappresentano semplicemente dei campioni del dominio che si intende misurare, e la combinazione di misurazioni multiple è analoga all'aumento del numero di osservazioni o della dimensione del campione. \n",
    "\n",
    "Per fare un esempio, supponiamo di avere due variabili aleatorie, $ X $ e $ Y $, che rappresentano i punteggi di due subtest diversi. L'affidabilità (indicata come $ \\rho $) di un test è legata alla varianza del test stesso. Un modo per esprimere l'affidabilità è attraverso il rapporto tra la varianza del vero punteggio (quello che il test intende misurare) e la varianza totale del test. Supponendo che il vero punteggio e l'errore di misura siano indipendenti, la varianza totale del test è la somma della varianza del vero punteggio e della varianza dell'errore.\n",
    "\n",
    "Quando combiniamo più subtest in un punteggio composito, stiamo in effetti aumentando la varianza del vero punteggio (poiché stiamo combinando più misurazioni del costrutto che vogliamo misurare) mentre l'errore di misura, supposto indipendente tra i subtest, si somma meno che proporzionalmente.\n",
    "\n",
    "Per rendere queste affermazioni più concrete, consideriamo un esempio numerico nel quale supponiamo che i subtest siano correlati (il che è spesso il caso in psicometria, dove diversi subtest possono misurare aspetti correlati di un costrutto più ampio). \n",
    "\n",
    "### Calcolo per il Puniteggio Composito\n",
    "\n",
    "Per esempio, dati due subtest con una varianza del vero punteggio di 25 ciascuno e una covarianza di 15 (dovuta al vero punteggio), la varianza del vero punteggio nel composito è data da:\n",
    "\n",
    "$$ \\text{Var}(Z_{vero}) = 25 + 25 + 2 \\cdot 15 = 80 $$\n",
    "\n",
    "La varianza totale nel composito, tenendo conto anche della varianza dell'errore di misura, sarà:\n",
    "\n",
    "$$ \\text{Var}(Z_{totale}) = 35 + 35 + 2 \\cdot 15 = 100 $$\n",
    "\n",
    "Il rapporto tra la varianza del vero punteggio e la varianza totale nel composito è:\n",
    "\n",
    "$$ \\text{Rapporto} = \\frac{\\text{Var}(Z_{vero})}{\\text{Var}(Z_{totale})} = \\frac{80}{100} = 0.8 $$\n",
    "\n",
    "### Confronto con un Singolo Subtest\n",
    "\n",
    "La varianza del vero punteggio in un singolo subtest è data (come da ipotesi) da 25.\n",
    "\n",
    "La varianza totale in un singolo subtest è la somma della varianza del vero punteggio e quella dell'errore di misura, quindi 35 (25 di vero punteggio + 10 di errore).\n",
    "\n",
    "Il rapporto tra la varianza del vero punteggio e la varianza totale in un singolo subtest è:\n",
    "\n",
    "$$ \\text{Rapporto} = \\frac{\\text{Var}(X_{vero})}{\\text{Var}(X_{totale})} = \\frac{25}{35} \\approx 0.714 $$\n",
    "\n",
    "Il confronto mostra che l'affidabilità del punteggio composito (0.8) è maggiore di quella di un singolo subtest (circa 0.714). Questo esemplifica come la correlazione positiva tra i subtest possa effettivamente aumentare l'affidabilità del punteggio composito rispetto ai subtest individuali.\n",
    "\n",
    "Quindi, il vantaggio di combinare i punteggi dai subtest in un punteggio composito emerge principalmente quando i subtest sono in qualche modo correlati e/o quando la varianza dell'errore di misura è ridotta rispetto alla varianza del vero punteggio. In pratica, l'uso di punteggi compositi è spesso giustificato dall'idea che essi forniscono una misura più completa e rappresentativa del costrutto di interesse, riducendo l'impatto dell'errore di misura specifico di ciascun subtest.\n",
    "\n",
    "## L'affidabilità dei Punteggi Differenza\n",
    "\n",
    "Ci sono numerose situazioni in cui ricercatori e clinici vogliono considerare la differenza tra due punteggi. Qui, la variabile di interesse è un punteggio differenza che viene calcolato come:\n",
    "\n",
    "$$ D = X - Y, $$\n",
    "\n",
    "dove X è il punteggio su un test e Y su un altro. Ad esempio, un approccio alla diagnosi delle difficoltà di apprendimento prevede il calcolo dei punteggi differenza sottraendo il punteggio di un esaminando in un test di rendimento (ad esempio, comprensione della lettura) dal suo QI. Si presume che se la discrepanza è negativa e sufficientemente ampia (ad esempio, due o più deviazioni standard), l'esaminando non sta dimostrando un rendimento accademico commisurato all'attitudine. Se ulteriori valutazioni escludono una serie di spiegazioni come opportunità educative inadeguate o problemi sensoriali (ad esempio, problemi visivi o uditivi), la discrepanza potrebbe riflettere una difficoltà di apprendimento intrinseca.\n",
    "\n",
    "Un altro esempio comune dell'utilizzo dei punteggi differenza si ha quando uno psicologo vuole considerare i guadagni (o le perdite) nella performance di un test nel tempo. Ad esempio, un ricercatore potrebbe voler determinare se un trattamento specifico ha portato a un miglioramento nelle prestazioni su un determinato compito. Ciò è spesso realizzato somministrando test prima e dopo l'intervento.\n",
    "\n",
    "In queste situazioni, la variabile di interesse è un punteggio differenza. Quando si trattano punteggi differenza, è però importante ricordare che l'affidabilità dei punteggi differenza è tipicamente considerevolmente inferiore rispetto alle affidabilità dei punteggi individuali. Come regola generale, l'affidabilità dei punteggi differenza diminuisce all'aumentare della correlazione tra le misure individuali. \n",
    "\n",
    "La formula per l'affidabilità dei punteggi differenza è data da:\n",
    "\n",
    "$$\n",
    "r_{dd} = \\frac{0.5 (r_{xx} + r_{yy}) - r_{xy}}{1 - r_{xy}}\n",
    "$$,\n",
    "\n",
    "dove $r_{xx}$ e $r_{yy}$ sono le affidabilità delle due componenti della differenza e $r_{xy}$ è la loro correlazione. Facciamo un esempio numerico varianza la correlazione tra le due componenti."
   ]
  },
  {
   "cell_type": "code",
   "execution_count": 28,
   "id": "52a3591e",
   "metadata": {
    "vscode": {
     "languageId": "r"
    }
   },
   "outputs": [
    {
     "data": {
      "text/html": [
       "<style>\n",
       ".list-inline {list-style: none; margin:0; padding: 0}\n",
       ".list-inline>li {display: inline-block}\n",
       ".list-inline>li:not(:last-child)::after {content: \"\\00b7\"; padding: 0 .5ex}\n",
       "</style>\n",
       "<ol class=list-inline><li>0.01</li><li>0.11</li><li>0.21</li><li>0.31</li><li>0.41</li><li>0.51</li><li>0.61</li><li>0.71</li><li>0.81</li></ol>\n"
      ],
      "text/latex": [
       "\\begin{enumerate*}\n",
       "\\item 0.01\n",
       "\\item 0.11\n",
       "\\item 0.21\n",
       "\\item 0.31\n",
       "\\item 0.41\n",
       "\\item 0.51\n",
       "\\item 0.61\n",
       "\\item 0.71\n",
       "\\item 0.81\n",
       "\\end{enumerate*}\n"
      ],
      "text/markdown": [
       "1. 0.01\n",
       "2. 0.11\n",
       "3. 0.21\n",
       "4. 0.31\n",
       "5. 0.41\n",
       "6. 0.51\n",
       "7. 0.61\n",
       "8. 0.71\n",
       "9. 0.81\n",
       "\n",
       "\n"
      ],
      "text/plain": [
       "[1] 0.01 0.11 0.21 0.31 0.41 0.51 0.61 0.71 0.81"
      ]
     },
     "metadata": {},
     "output_type": "display_data"
    }
   ],
   "source": [
    "rdd <- function(rxx, ryy, rxy) {\n",
    "    (0.5 * (rxx + ryy) - rxy) / (1 - rxy)\n",
    "}\n",
    "\n",
    "seq(0.01, 0.81, by = 0.1)"
   ]
  },
  {
   "cell_type": "code",
   "execution_count": 29,
   "id": "265ac0f4",
   "metadata": {
    "vscode": {
     "languageId": "r"
    }
   },
   "outputs": [
    {
     "data": {
      "text/html": [
       "<style>\n",
       ".list-inline {list-style: none; margin:0; padding: 0}\n",
       ".list-inline>li {display: inline-block}\n",
       ".list-inline>li:not(:last-child)::after {content: \"\\00b7\"; padding: 0 .5ex}\n",
       "</style>\n",
       "<ol class=list-inline><li>0.848484848484849</li><li>0.831460674157304</li><li>0.810126582278481</li><li>0.782608695652174</li><li>0.745762711864407</li><li>0.693877551020408</li><li>0.615384615384616</li><li>0.482758620689655</li><li>0.210526315789474</li></ol>\n"
      ],
      "text/latex": [
       "\\begin{enumerate*}\n",
       "\\item 0.848484848484849\n",
       "\\item 0.831460674157304\n",
       "\\item 0.810126582278481\n",
       "\\item 0.782608695652174\n",
       "\\item 0.745762711864407\n",
       "\\item 0.693877551020408\n",
       "\\item 0.615384615384616\n",
       "\\item 0.482758620689655\n",
       "\\item 0.210526315789474\n",
       "\\end{enumerate*}\n"
      ],
      "text/markdown": [
       "1. 0.848484848484849\n",
       "2. 0.831460674157304\n",
       "3. 0.810126582278481\n",
       "4. 0.782608695652174\n",
       "5. 0.745762711864407\n",
       "6. 0.693877551020408\n",
       "7. 0.615384615384616\n",
       "8. 0.482758620689655\n",
       "9. 0.210526315789474\n",
       "\n",
       "\n"
      ],
      "text/plain": [
       "[1] 0.8484848 0.8314607 0.8101266 0.7826087 0.7457627 0.6938776 0.6153846\n",
       "[8] 0.4827586 0.2105263"
      ]
     },
     "metadata": {},
     "output_type": "display_data"
    }
   ],
   "source": [
    "rxx <- 0.9\n",
    "ryy <- 0.8\n",
    "\n",
    "rdd(rxx, ryy, seq(0.01, 0.81, by = 0.1))"
   ]
  },
  {
   "cell_type": "markdown",
   "id": "8718f700",
   "metadata": {},
   "source": [
    "Si vede che, all'aumentare di $r_{xy}$, l'affidabilità del punteggio differenza diminuisce.\n",
    "\n",
    "In sintesi, si dovrebbe essere cauti nell'interpretare i punteggi differenza. L'affidabilità dei punteggi differenza è tipicamente considerevolmente inferiore rispetto alle affidabilità dei punteggi individuali. Per aggravare il problema, i punteggi differenza sono spesso calcolati utilizzando punteggi che hanno correlazioni piuttosto forti tra loro (ad esempio, punteggi di QI e di rendimento; punteggi pre e post test).\n",
    "\n",
    "\n",
    "## Scelta del Coefficiente di Affidabilità in Funzione del Contesto\n",
    "\n",
    "La selezione di un coefficiente di affidabilità adeguato dipende da vari fattori, inclusa la natura del costrutto psicologico e l'utilizzo previsto dei punteggi del test. È essenziale considerare il contesto specifico in cui il test verrà impiegato per determinare l'indice di affidabilità più appropriato.\n",
    "\n",
    "### Affidabilità Test-Retest\n",
    "\n",
    "L'affidabilità test-retest è rilevante quando un test viene somministrato ripetutamente agli stessi soggetti. Questo tipo di affidabilità misura la stabilità dei punteggi nel tempo, rendendola particolarmente utile per test che sono sensibili agli errori di misurazione legati al tempo. Ad esempio, se un test è impiegato per predire il comportamento futuro di un individuo, l'affidabilità test-retest fornisce una stima significativa dell'errore dovuto alla variabilità temporale.\n",
    "\n",
    "### Affidabilità della Coerenza Interna\n",
    "\n",
    "Quando un test è previsto per essere somministrato una sola volta, è più pertinente considerare la coerenza interna. Ci sono due approcci principali:\n",
    "\n",
    "1. **Affidabilità Split-Half:** Questo metodo stima l'errore dovuto alla varianza del campionamento del contenuto. È adatto per test con contenuti eterogenei, dove l'eterogeneità è intenzionale. Ad esempio, in un test che valuta più costrutti psicologici (come depressione, ansia, rabbia, impulsività), l'approccio split-half può essere preferibile. Qui, si divide idealmente il test in due parti, con un numero equo di item per ogni tratto o caratteristica in ciascuna metà.\n",
    "\n",
    "2. **Coefficienti Alfa e KR-20:** Questi coefficienti stimano l'errore dovuto sia al campionamento del contenuto che all'eterogeneità di questo. Sono applicabili quando il test misura un'area di conoscenza omogenea o un singolo tratto. Per esempio, un test che valuta specificamente l'umore depressivo potrebbe avvalersi efficacemente del coefficiente alfa o del KR-20, poiché si focalizza su un dominio omogeneo.\n",
    "\n",
    "### Affidabilità delle Forme Alternate\n",
    "\n",
    "Se esistono diverse forme di un test, è importante stimare l'affidabilità delle forme alternate. Questo approccio misura la consistenza dei punteggi tra diverse versioni del test, garantendo che le varie forme siano equivalenti e affidabili.\n",
    "\n",
    "### Affidabilità Intervalutatori\n",
    "\n",
    "Nel caso in cui il test richieda un giudizio soggettivo da parte dei valutatori, diventa cruciale considerare l'affidabilità intervalutatori. Questo tipo di affidabilità valuta la consistenza dei giudizi tra diversi valutatori, assicurando che le valutazioni siano obiettive e non dipendano significativamente dall'interpretazione individuale.\n",
    "\n",
    "In sintesi, la scelta del coefficiente di affidabilità dipende dal contesto specifico del test, dalla natura del costrutto da misurare e dall'uso previsto dei risultati del test. È fondamentale valutare attentamente questi fattori per garantire la validità e l'accuratezza delle misurazioni psicologiche.\n",
    "\n",
    "## Linee Guida sulla Scelta e Valutazione dei Coefficienti di Affidabilità\n",
    "\n",
    "La scelta e la valutazione dei coefficienti di affidabilità in ambito psicometrico sono processi complessi influenzati da diversi fattori. \n",
    "\n",
    "### Significato e Importanza dei Coefficienti di Affidabilità\n",
    "\n",
    "I coefficienti di affidabilità possono essere interpretati come la proporzione della varianza dei punteggi di un test attribuibile a differenze reali tra gli individui nel costrutto valutato. Idealmente, vorremmo che questi coefficienti raggiungessero il valore di 1.0, indicando che il 100% della varianza dei punteggi di test è dovuto a vere differenze tra gli individui. Tuttavia, a causa dell'errore di misurazione, una misura perfettamente affidabile non esiste. Non vi è una risposta univoca su quale sia un livello accettabile di affidabilità; ciò dipende da vari fattori come il costrutto misurato, il tempo disponibile per il test, l'uso dei punteggi e il metodo di stima dell'affidabilità.\n",
    "\n",
    "### Fattori da Considerare nella Valutazione dell'Affidabilità\n",
    "\n",
    "#### Il Costrutto\n",
    "\n",
    "Alcuni costrutti sono più difficili da misurare rispetto ad altri a causa della complessità del dominio degli item. Ad esempio, le variabili di personalità sono generalmente più difficili da misurare rispetto alle abilità cognitive. Pertanto, un livello di affidabilità accettabile per un test sulla \"dipendenza\" potrebbe essere inadeguato per un test sull'intelligenza. È importante considerare la natura del costrutto e la sua difficoltà di misurazione.\n",
    "\n",
    "#### Tempo Disponibile per il Test\n",
    "\n",
    "Se il tempo disponibile per il test è limitato, ciò può influenzare l'affidabilità. Un numero limitato di item può aumentare l'errore nel campionamento del dominio del test. Ad esempio, test rapidi per lo screening dei problemi di lettura richiederanno standard di affidabilità diversi rispetto a test più lunghi, come quelli per l'intelligenza.\n",
    "\n",
    "#### Uso dei Punteggi del Test\n",
    "\n",
    "L'uso previsto dei punteggi del test è un altro fattore cruciale. Test diagnostici che influenzano decisioni importanti su un individuo richiedono standard di affidabilità più elevati rispetto ai test utilizzati per ricerche di gruppo o screening. Ad esempio, test sull'intelligenza utilizzati nella diagnosi di disabilità intellettuali richiedono un'alta affidabilità.\n",
    "\n",
    "#### Metodo di Stima dell'Affidabilità\n",
    "\n",
    "Il metodo scelto per stimare l'affidabilità può influenzare la grandezza dei coefficienti di affidabilità. Alcuni metodi, come KR-20 e il coefficiente alfa, tendono a produrre stime di affidabilità minori rispetto al metodo split-half. È importante considerare il metodo utilizzato quando si valutano e si confrontano l'affidabilità di diversi test.\n",
    "\n",
    "### Linee Guida Generali per i Coefficienti di Affidabilità\n",
    "\n",
    "Sebbene molti fattori meritino considerazione, possiamo fornire alcune linee guida generali:\n",
    "\n",
    "- Per decisioni importanti che hanno un impatto significativo e non facilmente reversibile sugli individui, si dovrebbero aspettare coefficienti di affidabilità di 0.90 o addirittura 0.95. \n",
    "- Stime di affidabilità di 0.80 o superiori sono generalmente accettabili per molti test di rendimento e personalità.\n",
    "- Per test creati da insegnanti o usati per lo screening, si aspettano stime di affidabilità di almeno 0.70.\n",
    "- Alcuni suggeriscono che coefficienti di affidabilità fino a 0.60 possano essere accettabili per ricerche di gruppo, ma è consigliabile cautela nell'usare test con affidabilità al di sotto di 0.70.\n",
    "\n",
    "In sintesi, la valutazione dell'affidabilità di un test psicometrico richiede un'attenta considerazione di diversi fattori chiave, e gli standard di accettabilità variano in base al contesto specifico del test e al suo uso previsto.\n",
    "\n",
    "## Considerazioni conclusive\n",
    "\n",
    "In conclusione, la valutazione dell'affidabilità di un test richiede l'impiego di diversi coefficienti che tengono conto delle varie fonti di errore. I coefficienti di consistenza interna si concentrano sull'errore derivante dalle fluttuazioni delle risposte tra gli item, mentre quelli di equivalenza esaminano la coerenza dei punteggi tra diverse versioni del test. I coefficienti di stabilità misurano la coerenza dei punteggi nel corso del tempo. È di fondamentale importanza selezionare il tipo di affidabilità appropriato in base allo scopo del test, al fine di ottenere informazioni affidabili e utili per le decisioni basate sui punteggi ottenuti dal test."
   ]
  },
  {
   "cell_type": "markdown",
   "id": "d926047f",
   "metadata": {},
   "source": [
    "## Session Info"
   ]
  },
  {
   "cell_type": "code",
   "execution_count": 30,
   "id": "069e1151",
   "metadata": {
    "vscode": {
     "languageId": "r"
    }
   },
   "outputs": [
    {
     "data": {
      "text/plain": [
       "R version 4.3.3 (2024-02-29)\n",
       "Platform: aarch64-apple-darwin20 (64-bit)\n",
       "Running under: macOS Sonoma 14.4\n",
       "\n",
       "Matrix products: default\n",
       "BLAS:   /Library/Frameworks/R.framework/Versions/4.3-arm64/Resources/lib/libRblas.0.dylib \n",
       "LAPACK: /Library/Frameworks/R.framework/Versions/4.3-arm64/Resources/lib/libRlapack.dylib;  LAPACK version 3.11.0\n",
       "\n",
       "locale:\n",
       "[1] C\n",
       "\n",
       "time zone: Europe/Rome\n",
       "tzcode source: internal\n",
       "\n",
       "attached base packages:\n",
       "[1] stats     graphics  grDevices utils     datasets  methods   base     \n",
       "\n",
       "other attached packages:\n",
       " [1] ltm_1.2-0          polycor_0.8-1      msm_1.7.1          MASS_7.3-60.0.1   \n",
       " [5] modelsummary_1.4.5 ggokabeito_0.1.0   viridis_0.6.5      viridisLite_0.4.2 \n",
       " [9] ggpubr_0.6.0       ggExtra_0.10.1     bayesplot_1.11.1   gridExtra_2.3     \n",
       "[13] patchwork_1.2.0    semTools_0.5-6     semPlot_1.1.6      lavaan_0.6-17     \n",
       "[17] psych_2.4.1        scales_1.3.0       markdown_1.12      knitr_1.45        \n",
       "[21] lubridate_1.9.3    forcats_1.0.0      stringr_1.5.1      dplyr_1.1.4       \n",
       "[25] purrr_1.0.2        readr_2.1.5        tidyr_1.3.1        tibble_3.2.1      \n",
       "[29] ggplot2_3.5.0      tidyverse_2.0.0    here_1.0.1        \n",
       "\n",
       "loaded via a namespace (and not attached):\n",
       "  [1] rstudioapi_0.15.0  jsonlite_1.8.8     magrittr_2.0.3    \n",
       "  [4] nloptr_2.0.3       rmarkdown_2.26     vctrs_0.6.5       \n",
       "  [7] minqa_1.2.6        base64enc_0.1-3    rstatix_0.7.2     \n",
       " [10] htmltools_0.5.7    broom_1.0.5        Formula_1.2-5     \n",
       " [13] htmlwidgets_1.6.4  plyr_1.8.9         uuid_1.2-0        \n",
       " [16] admisc_0.35        igraph_2.0.2       mime_0.12         \n",
       " [19] lifecycle_1.0.4    pkgconfig_2.0.3    Matrix_1.6-5      \n",
       " [22] R6_2.5.1           fastmap_1.1.1      shiny_1.8.0       \n",
       " [25] digest_0.6.34      OpenMx_2.21.11     fdrtool_1.2.17    \n",
       " [28] colorspace_2.1-0   rprojroot_2.0.4    Hmisc_5.1-1       \n",
       " [31] fansi_1.0.6        timechange_0.3.0   abind_1.4-5       \n",
       " [34] compiler_4.3.3     withr_3.0.0        glasso_1.11       \n",
       " [37] htmlTable_2.4.2    backports_1.4.1    carData_3.0-5     \n",
       " [40] ggsignif_0.6.4     corpcor_1.6.10     gtools_3.9.5      \n",
       " [43] tools_4.3.3        pbivnorm_0.6.0     foreign_0.8-86    \n",
       " [46] zip_2.3.1          httpuv_1.6.14      nnet_7.3-19       \n",
       " [49] glue_1.7.0         quadprog_1.5-8     nlme_3.1-164      \n",
       " [52] promises_1.2.1     lisrelToR_0.3      grid_4.3.3        \n",
       " [55] pbdZMQ_0.3-11      checkmate_2.3.1    cluster_2.1.6     \n",
       " [58] reshape2_1.4.4     generics_0.1.3     gtable_0.3.4      \n",
       " [61] tzdb_0.4.0         data.table_1.15.2  hms_1.1.3         \n",
       " [64] car_3.1-2          utf8_1.2.4         tables_0.9.17     \n",
       " [67] sem_3.1-15         pillar_1.9.0       IRdisplay_1.1     \n",
       " [70] rockchalk_1.8.157  later_1.3.2        splines_4.3.3     \n",
       " [73] lattice_0.22-5     survival_3.5-8     kutils_1.73       \n",
       " [76] tidyselect_1.2.0   miniUI_0.1.1.1     pbapply_1.7-2     \n",
       " [79] stats4_4.3.3       xfun_0.42          expm_0.999-9      \n",
       " [82] qgraph_1.9.8       arm_1.13-1         stringi_1.8.3     \n",
       " [85] boot_1.3-29        evaluate_0.23      mi_1.1            \n",
       " [88] cli_3.6.2          RcppParallel_5.1.7 IRkernel_1.3.2    \n",
       " [91] rpart_4.1.23       xtable_1.8-4       repr_1.1.6        \n",
       " [94] munsell_0.5.0      Rcpp_1.0.12        coda_0.19-4.1     \n",
       " [97] png_0.1-8          XML_3.99-0.16.1    parallel_4.3.3    \n",
       "[100] ellipsis_0.3.2     jpeg_0.1-10        lme4_1.1-35.1     \n",
       "[103] mvtnorm_1.2-4      insight_0.19.8     openxlsx_4.2.5.2  \n",
       "[106] crayon_1.5.2       rlang_1.1.3        mnormt_2.1.1      "
      ]
     },
     "metadata": {},
     "output_type": "display_data"
    }
   ],
   "source": [
    "sessionInfo()"
   ]
  },
  {
   "attachments": {},
   "cell_type": "markdown",
   "id": "455bbb23",
   "metadata": {},
   "source": [
    "<!-- [^2]: Vedremo in seguito -->\n",
    "<!--     (§ [$$ch:err_stnd_stima$$](#ch:err_stnd_stima){reference-type=\"ref\" -->\n",
    "<!--     reference=\"ch:err_stnd_stima\"}) come il livello di abilità latente -->\n",
    "<!--     (il punteggio vero) possa essere stimato con la formula di Kelley -->\n",
    "<!--     (1923), ovvero $$\\begin{aligned} -->\n",
    "<!--     \\hat{T}_i &= \\rho_{XT} x_i + (1 - \\rho_{XT})\\mu_x\\notag\\\\ -->\n",
    "<!--     &= \\mu_x + \\rho_{XT} (x_i - \\mu_x),\\notag\\end{aligned}$$ dove -->\n",
    "<!--     $\\mu_x$ è la media dei punteggio osservato e $\\hat{T}_i$ è la stima -->\n",
    "<!--     del punteggio vero per l'$i$-esimo rispondente. -->\n",
    "\n",
    "<!-- [^3]:  -->"
   ]
  }
 ],
 "metadata": {
  "jupytext": {
   "cell_metadata_filter": "fig.cap,tags,-all",
   "main_language": "R",
   "notebook_metadata_filter": "-all"
  },
  "kernelspec": {
   "display_name": "R",
   "language": "R",
   "name": "ir"
  },
  "language_info": {
   "codemirror_mode": "r",
   "file_extension": ".r",
   "mimetype": "text/x-r-source",
   "name": "R",
   "pygments_lexer": "r",
   "version": "4.3.3"
  }
 },
 "nbformat": 4,
 "nbformat_minor": 5
}
