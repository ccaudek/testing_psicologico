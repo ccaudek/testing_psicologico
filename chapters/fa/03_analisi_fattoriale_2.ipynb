{
 "cells": [
  {
   "attachments": {},
   "cell_type": "markdown",
   "id": "d3ea71ac",
   "metadata": {},
   "source": [
    "# Il modello statistico dell'analisi fattoriale {#sec-fa-model-1}"
   ]
  },
  {
   "cell_type": "code",
   "execution_count": 1,
   "id": "f0403700",
   "metadata": {
    "tags": [
     "remove_cell"
    ],
    "vscode": {
     "languageId": "r"
    }
   },
   "outputs": [],
   "source": [
    "source(\"../_common.R\")\n",
    "suppressPackageStartupMessages({\n",
    "    library(\"lavaan\")\n",
    "})"
   ]
  },
  {
   "attachments": {},
   "cell_type": "markdown",
   "id": "9b203066",
   "metadata": {},
   "source": [
    "## Modello monofattoriale\n",
    "\n",
    "Il punto di partenza dell'*analisi fattoriale esplorativa* è\n",
    "rappresentato da una marice di dimensioni $p \\times p$ (dove $p$ è il\n",
    "numero di variabili osservate) che contiene i coefficienti di\n",
    "correlazione (o di covarianza) tra le variabili. Il punto di arrivo è\n",
    "rappresentato da una matrice di dimensioni $p \\times k$ (dove $k$) è il\n",
    "numero di fattori comuni che contiene i coefficienti (le *saturazioni*)\n",
    "che esprimono la relazione tra i fattori e le variabili osservate.\n",
    "Considereremo ora il modello matematico dell'analisi fattoriale\n",
    "esplorativa, con un solo fattore comune, che rappresenta il caso più\n",
    "semplice.\n",
    "\n",
    "Con $p$ variabili manifeste $Y_i$, il modello ad un fattore comune può\n",
    "essere espresso algebricamente nel modo seguente:\n",
    "\n",
    "$$\n",
    "Y_i = \\mu_i + \\lambda_{i} \\xi + \\delta_i \\qquad i=1, \\dots, p\n",
    "$$ \n",
    "\n",
    "dove $\\xi$ rappresenta il fattore latente, chiamato anche *fattore comune*,\n",
    "poiché è comune a tutte le $Y_i$, i $\\delta_i$ sono invece specifici di\n",
    "ogni variabile osservata e per tale ragione vengono chiamati *fattori\n",
    "specifici* o *unici*, e infine i $\\lambda_i$ sono detti *saturazioni* (o\n",
    "*pesi*) fattoriali poiché consentono di valutare il peso del fattore\n",
    "latente su ciascuna variabile osservata. Si suole assumere per comodità\n",
    "che $\\mu=0$, il che corrisponde a considerare le variabili $Y_i$ come\n",
    "ottenute dagli scarti dalle medie $\\mu_i$ per $i = 1, \\dots, p$:\n",
    "\n",
    "$$\n",
    "Y_i -\\mu_i = \\lambda_i \\xi + \\delta_i.\n",
    "$$\n",
    "\n",
    "Si assume che il fattore comune abbia media zero, $\\mathbb{E}(\\xi)=0$, e\n",
    "varianza unitaria, $\\mathbb{V}(\\xi)=1$, che i fattori specifici abbiano media\n",
    "zero, $\\mathbb{E}(\\delta_j)=0$, e varianza $\\mathbb{V}(\\delta_j)=\\psi_{i}$, che i\n",
    "fattori specifici siano incorrelati tra loro, $\\mathbb{E}(\\delta_i \\delta_k)=0$, e che i fattori specifici siano incorrelati con il fattore comune, $\\mathbb{E}(\\delta_i \\xi)=0$.\n",
    "\n",
    "In questo modello, poiché i fattori specifici sono tra loro incorrelati,\n",
    "l'interdipendenza tra le variabili manifeste è completamente spiegata\n",
    "dal fattore comune. Dalle ipotesi precedenti è possibile ricavare la\n",
    "covarianza tra $Y_i$ e il fattore comune, la varianza della $i$-esima\n",
    "variabile manifesta $Y_i$ e la covarianza tra due variabili manifeste\n",
    "$Y_i$ e $Y_k$.\n",
    "\n",
    "## Covarianza tra un indicatore e il fattore comune\n",
    "\n",
    "Dal modello monofattoriale è possibile determinare l'espressione della\n",
    "covarianza teorica tra una variabile manifesta $Y_i$ e il fattore comune\n",
    "$\\xi$: \n",
    "\n",
    "$$\n",
    "Cov(Y_i,\\xi)=\\mathbb{E}(Y_i \\xi)-\\mathbb{E}(Y_i)\\mathbb{E}(\\xi).\n",
    "$$ \n",
    "\n",
    "Dato che $\\mathbb{E}(\\xi)=0$, possiamo scrivere \n",
    "\n",
    "$$\n",
    "\\begin{equation}\n",
    "\\begin{aligned}\n",
    "  Cov(Y_i,\\xi) &= \\mathbb{E}(Y_i \\xi)=\\mathbb{E}[(\\lambda_i \\xi + \\delta_i) \\xi]\\notag\\\\\n",
    "  &=\\mathbb{E}(\\lambda_i \\xi^2 + \\delta_i \\xi)\\notag\\\\\n",
    "  &=\\lambda_i\\underbrace{\\mathbb{E}(\\xi^2)}_{\\mathbb{V}(\\xi)=1} + \\underbrace{\\mathbb{E}(\\delta_i \\xi)}_{Cov(\\delta_i, \\xi)=0}\\notag\\\\\n",
    "  &= \\lambda_i.\\notag\n",
    "\\end{aligned}\n",
    "\\end{equation}\n",
    "$$\n",
    "  \n",
    "Nel modello a un solo fattore, dunque, la saturazione $\\lambda_j$ rappresenta la covarianza la variabile manifesta $Y_i$ e il fattore comune $\\xi$ e indica\n",
    "l'importanza del fattore nel determinare il punteggio osservato. Se le\n",
    "variabili $Y_i$ sono standardizzate, la saturazione fattoriale\n",
    "$\\lambda_i$ corrisponde alla correlazione tra $Y_i$ e $\\xi$.\n",
    "\n",
    "## Espressione fattoriale della varianza\n",
    "\n",
    "Nell'ipotesi che le variabili $Y_i$ abbiano media nulla, la varianza di $Y_i$\n",
    "\n",
    "$$\n",
    "\\begin{equation}\n",
    "  \\mathbb{V}(Y_i) = \\mathbb{E}(Y_i^2) -[\\mathbb{E}(Y_i)]^2 = \\mathbb{E}(Y_i^2)\\notag\n",
    "\\end{equation}\n",
    "$$\n",
    "\n",
    "è data da\n",
    "\n",
    "$$\n",
    "\\begin{equation}\n",
    "\\begin{aligned}\n",
    "  \\mathbb{V}(Y_i) &= \\mathbb{E}[(\\lambda_i \\xi + \\delta_i)^2 ]\\notag\\\\\n",
    "  &=\\lambda_i^2 \\underbrace{\\mathbb{E}(\\xi^2) }_{\\mathbb{V}(\\xi)=1} + \\underbrace{\\mathbb{E}(\\delta_i^2) }_{\\mathbb{V}(\\delta_i)=\\psi_{i}} + 2\\lambda_i \\underbrace{\\mathbb{E}(\\xi \\delta_i) }_{Cov(\\xi, \\delta_{i})=0}\\notag\\\\\n",
    "  &=\\lambda^2_i + \\psi_{i}.\n",
    "\\end{aligned}\n",
    "\\end{equation}\n",
    "$$\n",
    "\n",
    "La quantità $\\lambda^2_i$ è denominata *comunalità* della $i$-esima variabile\n",
    "manifesta e corrisponde alla quota della varianza della $Y_i$ spiegata\n",
    "dal fattore comune. Di conseguenza $\\psi_{i}$ è la parte residua della\n",
    "varianza di $Y_i$ non spiegata dal fattore comune ed è denominata\n",
    "*unicità* di $Y_i$. Nel caso di variabili standardizzate, l'unicità\n",
    "diventa uguale a \n",
    "\n",
    "$$\n",
    "\\psi_{i}=1-\\lambda^2_i.\n",
    "$$ \n",
    "\n",
    "In definitiva, la varianza totale di una variabile osservata può essere divisa in una quota che ciascuna variabile condivide con le altre variabili ed è spiegata dal\n",
    "fattore comune (questa quota è chiamata *comunalità* ed è uguale uguale\n",
    "al quadrato della saturazione della variabile osservata nel fattore\n",
    "comune, ovvero $h^2_i = \\lambda_i^2$), e in una quota che è spiegata dal\n",
    "fattore specifico (questa parte è chiamata *unicità* ed è\n",
    "uguale a $u_i = \\psi_{i}$).\n",
    "\n",
    "**Esempio.** Riprendiamo l'analisi della matrice di correlazioni di Spearman.\n",
    "Nell'output prodotto dalla funzione `factanal()` viene riportata la\n",
    "quantità denominata `SS loadings`. Tale quantità indica la porzione della varianza totale delle 4 variabili manifeste che viene spiegata dal fattore comune. Ciascuna variabile\n",
    "standardizzata contribuisce con un'unità di varianza; nel caso presente,\n",
    "dunque la varianza totale è uguale a 4. Si ricordi che, nella statistica multivariata, per *varianza totale* si intende la somma delle varianze delle variabili manifeste (nel linguaggio dell'algebra matriciale questa quantità corrisponde alla *traccia* della matrice di covarianze). La quota della varianza totale spiegata dal modello, invece, è data dalla somma delle comunalità delle quattro variabili, ovvero dalla somma delle saturazioni fattoriali innalzate al quadrato."
   ]
  },
  {
   "cell_type": "code",
   "execution_count": 2,
   "id": "9052fc4e",
   "metadata": {
    "vscode": {
     "languageId": "r"
    }
   },
   "outputs": [
    {
     "name": "stdout",
     "output_type": "stream",
     "text": [
      "     C    E    M    P\n",
      "C 1.00 0.78 0.70 0.66\n",
      "E 0.78 1.00 0.64 0.54\n",
      "M 0.70 0.64 1.00 0.45\n",
      "P 0.66 0.54 0.45 1.00\n"
     ]
    }
   ],
   "source": [
    "Spearman <- matrix(c(\n",
    "  1.0, .78, .70, .66,\n",
    "  .78, 1.0, .64, .54,\n",
    "  .70, .64, 1.0, .45,\n",
    "  .66, .54, .45, 1.0\n",
    "),\n",
    "byrow = TRUE, ncol = 4\n",
    ")\n",
    "rownames(Spearman) <- c(\"C\", \"E\", \"M\", \"P\")\n",
    "colnames(Spearman) <- c(\"C\", \"E\", \"M\", \"P\")\n",
    "Spearman |>\n",
    "  print()"
   ]
  },
  {
   "attachments": {},
   "cell_type": "markdown",
   "id": "b116603e",
   "metadata": {},
   "source": [
    "Eseguiamo l'analisi fattoriale:"
   ]
  },
  {
   "cell_type": "code",
   "execution_count": 3,
   "id": "8c5a4af7",
   "metadata": {
    "vscode": {
     "languageId": "r"
    }
   },
   "outputs": [
    {
     "name": "stdout",
     "output_type": "stream",
     "text": [
      "\n",
      "Call:\n",
      "factanal(factors = 1, covmat = Spearman)\n",
      "\n",
      "Uniquenesses:\n",
      "    C     E     M     P \n",
      "0.086 0.329 0.460 0.539 \n",
      "\n",
      "Loadings:\n",
      "  Factor1\n",
      "C 0.956  \n",
      "E 0.819  \n",
      "M 0.735  \n",
      "P 0.679  \n",
      "\n",
      "               Factor1\n",
      "SS loadings      2.587\n",
      "Proportion Var   0.647\n",
      "\n",
      "The degrees of freedom for the model is 2 and the fit was 0.023 \n"
     ]
    }
   ],
   "source": [
    "fm <- factanal(covmat = Spearman, factors = 1)\n",
    "fm |>\n",
    "    print()"
   ]
  },
  {
   "attachments": {},
   "cell_type": "markdown",
   "id": "c02ae55f",
   "metadata": {},
   "source": [
    "Le saturazioni fattoriali sono:"
   ]
  },
  {
   "cell_type": "code",
   "execution_count": 4,
   "id": "832f168e",
   "metadata": {
    "vscode": {
     "languageId": "r"
    }
   },
   "outputs": [
    {
     "name": "stdout",
     "output_type": "stream",
     "text": [
      "[1] 0.9562592 0.8193902 0.7350316 0.6790212\n"
     ]
    }
   ],
   "source": [
    "L <- c(fm$load[1], fm$load[2], fm$load[3], fm$load[4])\n",
    "print(L)"
   ]
  },
  {
   "attachments": {},
   "cell_type": "markdown",
   "id": "601dc989",
   "metadata": {},
   "source": [
    "Facendo il prodotto interno otteniamo:"
   ]
  },
  {
   "cell_type": "code",
   "execution_count": 5,
   "id": "2cc38e88",
   "metadata": {
    "vscode": {
     "languageId": "r"
    }
   },
   "outputs": [
    {
     "data": {
      "text/html": [
       "<table class=\"dataframe\">\n",
       "<caption>A matrix: 1 x 1 of type dbl</caption>\n",
       "<tbody>\n",
       "\t<tr><td>2.587173</td></tr>\n",
       "</tbody>\n",
       "</table>\n"
      ],
      "text/latex": [
       "A matrix: 1 x 1 of type dbl\n",
       "\\begin{tabular}{l}\n",
       "\t 2.587173\\\\\n",
       "\\end{tabular}\n"
      ],
      "text/markdown": [
       "\n",
       "A matrix: 1 x 1 of type dbl\n",
       "\n",
       "| 2.587173 |\n",
       "\n"
      ],
      "text/plain": [
       "     [,1]    \n",
       "[1,] 2.587173"
      ]
     },
     "metadata": {},
     "output_type": "display_data"
    }
   ],
   "source": [
    "t(L) %*% L "
   ]
  },
  {
   "attachments": {},
   "cell_type": "markdown",
   "id": "af0be0a8",
   "metadata": {},
   "source": [
    "In termini proporzionali, la quota della varianza totale delle variabile manifeste che viene spiegata dal modello ad un fattore comune è dunque uguale a $2.587 / 4 = 0.647$. Questa quantità è indicata nell'output con la denominazione `Proportion Var`.\n",
    "\n",
    "Si dice unicità (*uniqueness*) la quota della varianza della variabile considerata che non viene spiegata dalla soluzione fattoriale:"
   ]
  },
  {
   "cell_type": "code",
   "execution_count": 6,
   "id": "8c585273",
   "metadata": {
    "vscode": {
     "languageId": "r"
    }
   },
   "outputs": [
    {
     "name": "stdout",
     "output_type": "stream",
     "text": [
      "    C     E     M     P \n",
      "0.086 0.329 0.460 0.539 \n"
     ]
    }
   ],
   "source": [
    "round(fm$uniqueness, 3) |>\n",
    "    print()"
   ]
  },
  {
   "attachments": {},
   "cell_type": "markdown",
   "id": "662e3e2c",
   "metadata": {},
   "source": [
    "La comunalità (ovvero, la quota di varianza di ciascuna variabile manifesta che viene spiegata dal fattore comune) può essere trovata come:"
   ]
  },
  {
   "cell_type": "code",
   "execution_count": 7,
   "id": "2c530276",
   "metadata": {
    "vscode": {
     "languageId": "r"
    }
   },
   "outputs": [
    {
     "name": "stdout",
     "output_type": "stream",
     "text": [
      "    C     E     M     P \n",
      "0.914 0.671 0.540 0.461 \n"
     ]
    }
   ],
   "source": [
    "round(1 - fm$uniqueness, 3) |>\n",
    "    print()"
   ]
  },
  {
   "attachments": {},
   "cell_type": "markdown",
   "id": "5ed0191f",
   "metadata": {},
   "source": [
    "oppure con"
   ]
  },
  {
   "cell_type": "code",
   "execution_count": 8,
   "id": "efb86a24",
   "metadata": {
    "lines_to_next_cell": 0,
    "vscode": {
     "languageId": "r"
    }
   },
   "outputs": [
    {
     "name": "stdout",
     "output_type": "stream",
     "text": [
      "[1] 0.9144316 0.6714003 0.5402714 0.4610697\n"
     ]
    }
   ],
   "source": [
    "L^2 |>\n",
    "    print()"
   ]
  },
  {
   "attachments": {},
   "cell_type": "markdown",
   "id": "8a2fe06a",
   "metadata": {},
   "source": [
    "## Covarianza tra due variabili manifeste\n",
    "\n",
    "Nell'ipotesi che le variabili $Y_i$ abbiano media nulla, la covarianza\n",
    "tra $Y_i$ e $Y_k$\n",
    "\n",
    "$$\n",
    "Cov(Y_i, Y_k)=\\mathbb{E}(Y_i Y_k) -\n",
    "\\mathbb{E}(Y_i)\\mathbb{E}(Y_k)=\\mathbb{E}(Y_i Y_k)\n",
    "$$\n",
    "\n",
    "è uguale al prodotto delle corrispondenti saturazioni fattoriali:\n",
    "\n",
    "$$\n",
    "\\begin{equation}\n",
    "\\begin{aligned}\n",
    " Cov(Y_i, Y_k) &= \\mathbb{E}(Y_i Y_k) \\notag\\\\\n",
    "  & =\\mathbb{E}[(\\lambda_i \\xi + \\delta_i)(\\lambda_k \\xi +  \\delta_k)]\\notag\\\\\n",
    "  &=\\mathbb{E}(\\lambda_i\\lambda_k\\xi^2 + \\lambda_i  \\xi \\delta_k + \\lambda_k \\delta_i \\xi + \\delta_i \\delta_k)\\notag\\\\\n",
    "  &=\\lambda_i\\lambda_k\\underbrace{\\mathbb{E}(\\xi^2)}_{\\mathbb{V}(\\xi)=1}+\\lambda_i\\underbrace{\\mathbb{E}(\\xi \\delta_k)}_{Cov(\\xi, \\delta_k) =0}+\\notag\\\\ \\;&+\\lambda_k\\underbrace{\\mathbb{E}(\\delta_i \\xi)}_{Cov(\\delta_i, \\xi) =0} +\\underbrace{\\mathbb{E}(\\delta_i \\delta_k)}_{Cov(\\delta_i, \\delta_k)=0}\\notag\\\\\n",
    "  &=\\lambda_i\\lambda_k.\n",
    "\\end{aligned}\n",
    "\\end{equation}\n",
    "$$\n",
    "\n",
    "## Correlazioni osservate e correlazioni riprodotte dal modello\n",
    "\n",
    "In generale possiamo affermare che il modello monofattoriale è adeguato\n",
    "se si verifica che $Cov(Y_i, Y_k \\mid \\xi) = 0$\n",
    "($i, k = 1, \\dots,p; \\; i\\neq k$), ossia se il fattore comune spiega\n",
    "tutta la covarianza tra le variabili osservate. La matrice di\n",
    "correlazioni riprodotte dal modello è chiamata $\\boldsymbol{\\Sigma}$ e\n",
    "può essere espressa come:\n",
    "\n",
    "$$\n",
    "\\boldsymbol{\\Sigma} = \\boldsymbol{\\Lambda} \\boldsymbol{\\Lambda}^\\prime + \\boldsymbol{\\Psi}\n",
    "$$\n",
    "\n",
    "In altri termini, il modello monofattoriale è adeguato se è nulla la\n",
    "differenza tra la matrice di correlazioni osservate e la matrice di\n",
    "correlazioni riprodotte dal modello. Per i dati di Spearman, le\n",
    "correlazioni riprodotte dal modello ad un fattore sono"
   ]
  },
  {
   "cell_type": "code",
   "execution_count": 9,
   "id": "6001a5e1",
   "metadata": {
    "vscode": {
     "languageId": "r"
    }
   },
   "outputs": [
    {
     "name": "stdout",
     "output_type": "stream",
     "text": [
      "      [,1]  [,2]  [,3]  [,4]\n",
      "[1,] 1.000 0.784 0.703 0.649\n",
      "[2,] 0.784 1.000 0.602 0.556\n",
      "[3,] 0.703 0.602 1.000 0.499\n",
      "[4,] 0.649 0.556 0.499 1.000\n"
     ]
    }
   ],
   "source": [
    "round( L %*% t(L) + diag(fm$uniq), 3) |>\n",
    "    print()"
   ]
  },
  {
   "attachments": {},
   "cell_type": "markdown",
   "id": "9c040655",
   "metadata": {},
   "source": [
    "La matrice delle differenze tra le correlazioni campionarie e quelle\n",
    "riprodotte è"
   ]
  },
  {
   "cell_type": "code",
   "execution_count": 10,
   "id": "e49dcad0",
   "metadata": {
    "vscode": {
     "languageId": "r"
    }
   },
   "outputs": [
    {
     "name": "stdout",
     "output_type": "stream",
     "text": [
      "       C      E      M      P\n",
      "C  0.000 -0.004 -0.003  0.011\n",
      "E -0.004  0.000  0.038 -0.016\n",
      "M -0.003  0.038  0.000 -0.049\n",
      "P  0.011 -0.016 -0.049  0.000\n"
     ]
    }
   ],
   "source": [
    "round(Spearman - (L %*% t(L) + diag(fm$uniq)), 3) |>\n",
    "    print()"
   ]
  },
  {
   "attachments": {},
   "cell_type": "markdown",
   "id": "eda3bfbd",
   "metadata": {},
   "source": [
    "Lo scarto maggiore tra le correlazioni campionarie e quelle riprodotte è\n",
    "uguale a 0.049. Si può dunque concludere che il modello monofattoriale\n",
    "spiega in maniera ragionevole i dati di Spearman.\n",
    "\n",
    "## Bontà di adattamento del modello ai dati\n",
    "\n",
    "La verifica della bontà di adattamento del modello ai dati si determina\n",
    "mediante un test statistico che valuta la differenza tra la matrice di\n",
    "correlazioni (o di covarianze) osservata e la matrice di correlazioni (o\n",
    "covarianze) predetta dal modello fattoriale. L'ipotesi nulla che viene\n",
    "valutata è che la matrice delle correlazioni residue sia dovuta\n",
    "semplicemente agli errori di campionamento, ovvero che la matrice di\n",
    "correlazioni predetta dal modello $\\boldsymbol{\\Sigma}(\\theta)$ sia\n",
    "uguale alla matrice di correlazioni $\\boldsymbol{\\Sigma}$ nella\n",
    "popolazione.\n",
    "\n",
    "La statistica test $v$ è una funzione della differenza tra la matrice\n",
    "riprodotta $\\boldsymbol{S}(\\theta)$ e quella osservata $\\boldsymbol{S}$\n",
    "\n",
    "$$\n",
    "v = f\\left[\\boldsymbol{S}(\\theta) - \\boldsymbol{S}\\right]\n",
    "$$\n",
    "\n",
    "e si distribuisce come una $\\chi^2$ con $\\nu$ gradi di libertà\n",
    "\n",
    "$$\n",
    "\\nu = p(p+1)/ 2 - q,\n",
    "$$\n",
    "\n",
    "dove $p$ è il numero di variabili manifeste e\n",
    "$q$ è il numero di parametri stimati dal modello fattoriale (ovvero,\n",
    "$\\lambda$ e $\\psi$). \n",
    "\n",
    "La statistica $v$ assume valore 0 se i parametri del modello riproducono esattamente la matrice di correlazioni tra le variabili nella popolazione. Tanto maggiore è la statistica $v$ tanto maggiore è la discrepanza tra le correlazioni osservate e quelle\n",
    "predette dal modello fattoriale. \n",
    "\n",
    "Un risultato statisticamente significativo (es., $p$ \\< .05) -- il quale suggerisce che una tale differenza *non* è uguale a zero -- rivela dunque una discrepanza tra il modello e i dati. Il test del modello fattoriale mediante la statistica $\\chi^2$\n",
    "segue dunque una logica diversa da quella utilizzata nei normali test di\n",
    "ipotesi statistiche: *un risultato statisticamente significativo indica una mancanza di adattamento del modello ai dati*.\n",
    "\n",
    "L'applicazione del test $\\chi^2$ per valutare la bontà di adattamento del modello ai dati richiede che ciascuna variabile manifesta sia distribuita normalmente -- più precisamente, richiede che le variabili manifeste siano un campione casuale che deriva da una normale\n",
    "multivariata. Questo requisito non è facile da rispettare in pratica.\n",
    "\n",
    "Tuttavia, il limite principale della statistica $\\chi^2$ è che essa dipende fortemente dalle dimensioni del campione: al crescere delle dimensioni campionarie è più facile ottenere un risultato statisticamente significativo (ovvero, concludere che vi è un cattivo adattamento del modello ai dati). Per questa ragione, la bontà di adattamento del modello ai dati viene valutata da molteplici indici, non soltanto dalla statistica $\\chi^2$. Più comune è calcolare il rapporto $\\chi^2 / \\nu$ e usare tale rapporto per valutare la bontà dell'adattamento. Valori minori di 3 o 4 suggeriscono che il modello ben si adatta ai dati.\n",
    "\n",
    "## L'errore standard della misurazione e il modello fattoriale\n",
    "\n",
    "In questa sezione, approfondiamo la connessione tra l'errore standard di misurazione, un concetto fondamentale della Classical Test Theory (CTT), e l'applicazione del modello fattoriale. Questa connessione ci permette di reinterpretare l'errore standard di misurazione attraverso il prisma dell'analisi fattoriale. Procediamo con un'esposizione dettagliata.\n",
    "\n",
    "All'interno della CTT, si afferma che il punteggio ottenuto ($X$) in un test corrisponde alla somma del valore vero ($T$) e dell'errore di misurazione ($E$), dove $E$ è considerato una variabile casuale indipendente da $T$. Se focalizziamo l'attenzione sul soggetto $i$-esimo, la formula diventa $X_i = T_i + E_i$, con $T_i$ rappresentante il valore vero e $E_i$ l'errore di misurazione, quest'ultimo avente media zero.\n",
    "\n",
    "Trasformiamo questa relazione nel contesto di un modello fattoriale monofattoriale che coinvolge $p$ variabili osservate (o item). Per ogni item, la relazione è espressa come:\n",
    "\n",
    "$$\n",
    "\\begin{equation}\n",
    "\\begin{aligned}\n",
    " Y_{1i} &=  \\lambda_1 \\xi_i + \\delta_{1i} \\notag\\\\\n",
    " Y_{2i} &=  \\lambda_2 \\xi_i + \\delta_{2i} \\notag\\\\\n",
    "  \\dots\\notag\\\\\n",
    " Y_{pi} &=  \\lambda_p \\xi_i + \\delta_{pi}, \\notag\n",
    " \\end{aligned}\n",
    " \\end{equation}\n",
    " $$\n",
    "\n",
    "dove $Y_{ji}$ rappresenta il punteggio osservato per l'item $j$ del soggetto $i$, $\\lambda_j$ è il carico fattoriale dell'item $j$ sul fattore comune $\\xi_i$, e $\\delta_{ji}$ è l'errore unico associato all'item $j$ per il soggetto $i$.\n",
    "\n",
    "Il punteggio totale $X_i$ per il soggetto $i$-esimo deriva dalla somma dei punteggi di ciascun item, il che si traduce in:\n",
    "\n",
    "$$\n",
    "\\begin{equation}\n",
    "\\begin{aligned}\n",
    " X_i &= \\sum_{j=1}^p Y_{ji} = \\sum_{j=1}^p \\lambda_j \\xi_i + \\sum_{j=1}^p \\delta_{ji}\\notag\\\\[12pt]\n",
    "  &=  \\left( \\sum_{j=1}^p \\lambda_j \\right) \\xi_i  +  \\sum_{j=1}^p \\delta_{ji} \\notag\\\\[12pt]\n",
    "  &= T_i + E_i\\notag\n",
    "\\end{aligned}\n",
    "\\end{equation}\n",
    "$$\n",
    "\n",
    "Rispettando la struttura della CTT, la varianza del punteggio osservato $X_i$ si decompone in due componenti fondamentali: la varianza del valore vero $\\sigma^2_{T_i}$ e la varianza dell'errore $\\sigma^2_{E_i}$. Nel contesto dell'analisi fattoriale, $\\sigma^2_{T_i}$ corrisponde al quadrato della somma dei carichi fattoriali:\n",
    "\n",
    "$$\n",
    "\\begin{equation}\n",
    "\\begin{aligned}\n",
    " \\sigma^2_{T_i} &= \\mathbb{V}\\left[ \\left( \\sum_{j=1}^p \\lambda_j \\right) \\xi_i \\right]\\notag\\\\\n",
    " &= \\left( \\sum_{j=1}^p \\lambda_j \\right)^2 \\mathbb{V}(\\xi_i)\\notag\\\\\n",
    " &= \\left( \\sum_{j=1}^p \\lambda_j \\right)^2 \\notag\n",
    "\\end{aligned}\n",
    "\\end{equation}\n",
    "$$\n",
    "\n",
    "Inoltre, considerando la varianza dell'errore di misurazione $\\sigma^2_{E_i}$ nel contesto fattoriale, questa è equivalente alla somma delle varianze degli errori unici ($\\delta_{ji}$), ovvero le unicità:\n",
    "\n",
    "$$\n",
    "\\begin{equation}\n",
    "\\begin{aligned}\n",
    " \\sigma^2_{E_i} &= \\mathbb{V}\\left( \\sum_{j=1}^p \\delta_{ji} \\right)\\notag\\\\\n",
    " &= \\sum_{j=1}^p \\mathbb{V}\\left( \\delta_{ji} \\right)\\notag\\\\\n",
    " &= \\sum_{j=1}^p \\Psi_j\\notag\n",
    "\\end{aligned}\n",
    "\\end{equation}\n",
    "$$\n",
    "\n",
    "Pertanto, nel contesto dell'analisi fattoriale, l'errore standard di misurazione per il punteggio totale del test è quantificabile come la radice quadrata della somma delle unicità:\n",
    "\n",
    "$$\n",
    "\\begin{equation}\n",
    "\\sigma_{E} = \\sqrt{\\sum_{j=1}^p \\Psi_j}\n",
    "\\end{equation}\n",
    "$$(eq-err-stnd-meas-FA)\n",
    "\n",
    "Questo collegamento tra la CTT e l'analisi fattoriale offre una prospettiva rinnovata sull'errore standard di misurazione, arricchendo la nostra comprensione della precisione dei test psicometrici.\n",
    "\n",
    "## Un esempio concreto\n",
    "\n",
    "Applichiamo ora il risultato precedente ad un caso concreto. Consideriamo i dati utilizzati nella validazione italiana del *Cognitive Style Questionnaire - Short Form* (CSQ-SF, Meins et al. 2012). Il CSQ-SF viene utilizzato per misurare la vulnerabilità all'ansia e alla depressione. È costituito da cinque sottoscale: *Internality*, *Globality*, *Stability*, *Negative consequences* e *Self-worth*. \n",
    "\n",
    "Leggiamo i dati in $\\textsf{R}$:"
   ]
  },
  {
   "cell_type": "code",
   "execution_count": 11,
   "id": "6ae31540",
   "metadata": {
    "vscode": {
     "languageId": "r"
    }
   },
   "outputs": [],
   "source": [
    "csq <- rio::import(here::here(\"data\", \"csq540.csv\"))"
   ]
  },
  {
   "attachments": {},
   "cell_type": "markdown",
   "id": "30f09458",
   "metadata": {},
   "source": [
    "Il numero di partecipanti è"
   ]
  },
  {
   "cell_type": "code",
   "execution_count": 12,
   "id": "e2038b8f",
   "metadata": {
    "vscode": {
     "languageId": "r"
    }
   },
   "outputs": [
    {
     "data": {
      "text/html": [
       "540"
      ],
      "text/latex": [
       "540"
      ],
      "text/markdown": [
       "540"
      ],
      "text/plain": [
       "[1] 540"
      ]
     },
     "metadata": {},
     "output_type": "display_data"
    }
   ],
   "source": [
    "n <- nrow(csq)\n",
    "n"
   ]
  },
  {
   "attachments": {},
   "cell_type": "markdown",
   "id": "9fbdb4f0",
   "metadata": {},
   "source": [
    "Le statistiche descrittive si ottengono con la seguente istruzione:"
   ]
  },
  {
   "cell_type": "code",
   "execution_count": 13,
   "id": "03129cf7",
   "metadata": {
    "vscode": {
     "languageId": "r"
    }
   },
   "outputs": [
    {
     "name": "stdout",
     "output_type": "stream",
     "text": [
      "  vars   n  mean    sd median trimmed   mad min max range  skew kurtosis   se\n",
      "I    1 540 47.76  5.78     48   47.87  4.45  21  64    43 -0.31     1.07 0.25\n",
      "G    2 540 45.00 11.94     42   44.55 11.86  16  78    62  0.34    -0.70 0.51\n",
      "S    3 540 44.60 12.18     42   44.24 13.34  16  77    61  0.27    -0.77 0.52\n",
      "N    4 540 22.01  6.92     21   21.86  7.41   8  39    31  0.21    -0.74 0.30\n",
      "W    5 540 44.05 13.10     43   43.66 13.34  16  79    63  0.31    -0.53 0.56\n"
     ]
    }
   ],
   "source": [
    "psych::describe(csq, type = 2) |>\n",
    "    print()"
   ]
  },
  {
   "attachments": {},
   "cell_type": "markdown",
   "id": "8832c994",
   "metadata": {},
   "source": [
    "Esaminiamo la matrice di correlazione:"
   ]
  },
  {
   "cell_type": "code",
   "execution_count": 14,
   "id": "14bd5d10",
   "metadata": {
    "vscode": {
     "languageId": "r"
    }
   },
   "outputs": [
    {
     "name": "stdout",
     "output_type": "stream",
     "text": [
      "NULL\n"
     ]
    },
    {
     "data": {
      "image/png": "[encoded data removed]",
      "text/plain": [
       "plot without title"
      ]
     },
     "metadata": {
      "image/png": {
       "height": 420,
       "width": 679.6117
      }
     },
     "output_type": "display_data"
    }
   ],
   "source": [
    "psych::pairs.panels(csq) |>\n",
    "    print()"
   ]
  },
  {
   "attachments": {},
   "cell_type": "markdown",
   "id": "5377395d",
   "metadata": {},
   "source": [
    "La sottoscala di *Internality* è problematica, come messo anche in evidenza dall'autore del test. La consideriamo comunque in questa analisi statistica.\n",
    "\n",
    "Specifichiamo il modello unifattoriale nella sintassi di `lavaan`:"
   ]
  },
  {
   "cell_type": "code",
   "execution_count": 15,
   "id": "9e19f68f",
   "metadata": {
    "vscode": {
     "languageId": "r"
    }
   },
   "outputs": [],
   "source": [
    "mod_csq <- \"\n",
    "   F =~ NA*I + G + S + N + W\n",
    "   F ~~ 1*F\n",
    "\" "
   ]
  },
  {
   "attachments": {},
   "cell_type": "markdown",
   "id": "40cfecb9",
   "metadata": {},
   "source": [
    "Adattiamo il modello ai dati:"
   ]
  },
  {
   "cell_type": "code",
   "execution_count": 16,
   "id": "c1f479a2",
   "metadata": {
    "vscode": {
     "languageId": "r"
    }
   },
   "outputs": [],
   "source": [
    "fit <- lavaan:::cfa(\n",
    "  mod_csq,\n",
    "  data = csq\n",
    ")"
   ]
  },
  {
   "attachments": {},
   "cell_type": "markdown",
   "id": "6415fe53",
   "metadata": {},
   "source": [
    "Esaminiamo i risultati:"
   ]
  },
  {
   "cell_type": "code",
   "execution_count": 17,
   "id": "7bcb5229",
   "metadata": {
    "vscode": {
     "languageId": "r"
    }
   },
   "outputs": [
    {
     "name": "stdout",
     "output_type": "stream",
     "text": [
      "lavaan 0.6.17 ended normally after 26 iterations\n",
      "\n",
      "  Estimator                                         ML\n",
      "  Optimization method                           NLMINB\n",
      "  Number of model parameters                        10\n",
      "\n",
      "  Number of observations                           540\n",
      "\n",
      "Model Test User Model:\n",
      "                                                      \n",
      "  Test statistic                                46.716\n",
      "  Degrees of freedom                                 5\n",
      "  P-value (Chi-square)                           0.000\n",
      "\n",
      "Model Test Baseline Model:\n",
      "\n",
      "  Test statistic                              2361.816\n",
      "  Degrees of freedom                                10\n",
      "  P-value                                        0.000\n",
      "\n",
      "User Model versus Baseline Model:\n",
      "\n",
      "  Comparative Fit Index (CFI)                    0.982\n",
      "  Tucker-Lewis Index (TLI)                       0.965\n",
      "\n",
      "Loglikelihood and Information Criteria:\n",
      "\n",
      "  Loglikelihood user model (H0)              -8741.781\n",
      "  Loglikelihood unrestricted model (H1)      -8718.423\n",
      "                                                      \n",
      "  Akaike (AIC)                               17503.562\n",
      "  Bayesian (BIC)                             17546.478\n",
      "  Sample-size adjusted Bayesian (SABIC)      17514.734\n",
      "\n",
      "Root Mean Square Error of Approximation:\n",
      "\n",
      "  RMSEA                                          0.124\n",
      "  90 Percent confidence interval - lower         0.093\n",
      "  90 Percent confidence interval - upper         0.158\n",
      "  P-value H_0: RMSEA <= 0.050                    0.000\n",
      "  P-value H_0: RMSEA >= 0.080                    0.989\n",
      "\n",
      "Standardized Root Mean Square Residual:\n",
      "\n",
      "  SRMR                                           0.033\n",
      "\n",
      "Parameter Estimates:\n",
      "\n",
      "  Standard errors                             Standard\n",
      "  Information                                 Expected\n",
      "  Information saturated (h1) model          Structured\n",
      "\n",
      "Latent Variables:\n",
      "                   Estimate  Std.Err  z-value  P(>|z|)   Std.lv  Std.all\n",
      "  F =~                                                                  \n",
      "    I                 0.725    0.253    2.867    0.004    0.725    0.126\n",
      "    G               -11.322    0.384  -29.481    0.000  -11.322   -0.949\n",
      "    S               -11.342    0.398  -28.513    0.000  -11.342   -0.932\n",
      "    N                -6.163    0.233  -26.398    0.000   -6.163   -0.891\n",
      "    W               -11.598    0.444  -26.137    0.000  -11.598   -0.886\n",
      "\n",
      "Variances:\n",
      "                   Estimate  Std.Err  z-value  P(>|z|)   Std.lv  Std.all\n",
      "    F                 1.000                               1.000    1.000\n",
      "   .I                32.840    2.000   16.420    0.000   32.840    0.984\n",
      "   .G                14.038    1.473    9.532    0.000   14.038    0.099\n",
      "   .S                19.508    1.718   11.353    0.000   19.508    0.132\n",
      "   .N                 9.847    0.725   13.573    0.000    9.847    0.206\n",
      "   .W                36.892    2.685   13.737    0.000   36.892    0.215\n",
      "\n"
     ]
    }
   ],
   "source": [
    "summary(\n",
    "  fit, \n",
    "  standardized = TRUE,\n",
    "  fit.measures = TRUE\n",
    ") |>\n",
    "    print()"
   ]
  },
  {
   "attachments": {},
   "cell_type": "markdown",
   "id": "b700657b",
   "metadata": {},
   "source": [
    "Esaminiamo solo le stime dei parametri del modello:"
   ]
  },
  {
   "cell_type": "code",
   "execution_count": 18,
   "id": "ddebc7fb",
   "metadata": {
    "vscode": {
     "languageId": "r"
    }
   },
   "outputs": [
    {
     "name": "stdout",
     "output_type": "stream",
     "text": [
      "   lhs op rhs     est    se       z pvalue ci.lower ci.upper\n",
      "1    F =~   I   0.725 0.253   2.867  0.004    0.229    1.220\n",
      "2    F =~   G -11.322 0.384 -29.481  0.000  -12.075  -10.569\n",
      "3    F =~   S -11.342 0.398 -28.513  0.000  -12.122  -10.563\n",
      "4    F =~   N  -6.163 0.233 -26.398  0.000   -6.621   -5.705\n",
      "5    F =~   W -11.598 0.444 -26.137  0.000  -12.467  -10.728\n",
      "6    F ~~   F   1.000 0.000      NA     NA    1.000    1.000\n",
      "7    I ~~   I  32.840 2.000  16.420  0.000   28.920   36.759\n",
      "8    G ~~   G  14.038 1.473   9.532  0.000   11.151   16.924\n",
      "9    S ~~   S  19.508 1.718  11.353  0.000   16.140   22.876\n",
      "10   N ~~   N   9.847 0.725  13.573  0.000    8.425   11.269\n",
      "11   W ~~   W  36.892 2.685  13.737  0.000   31.628   42.155\n"
     ]
    }
   ],
   "source": [
    "parameterEstimates(fit) |>\n",
    "    print()"
   ]
  },
  {
   "attachments": {},
   "cell_type": "markdown",
   "id": "aff41c33",
   "metadata": {},
   "source": [
    "Recuperiamo le specificità:"
   ]
  },
  {
   "cell_type": "code",
   "execution_count": 19,
   "id": "8a8a6cd4",
   "metadata": {
    "vscode": {
     "languageId": "r"
    }
   },
   "outputs": [
    {
     "name": "stdout",
     "output_type": "stream",
     "text": [
      "[1] 32.839665 14.037578 19.508119  9.846927 36.891617\n"
     ]
    }
   ],
   "source": [
    "psi <- parameterEstimates(fit)$est[7:11]\n",
    "psi |>\n",
    "    print()"
   ]
  },
  {
   "attachments": {},
   "cell_type": "markdown",
   "id": "072da7e7",
   "metadata": {},
   "source": [
    "Stimiamo l'errore standard della misurazione con la \\@ref(eq:err-stnd-meas-FA):"
   ]
  },
  {
   "cell_type": "code",
   "execution_count": 20,
   "id": "0d3a1643",
   "metadata": {
    "vscode": {
     "languageId": "r"
    }
   },
   "outputs": [
    {
     "name": "stdout",
     "output_type": "stream",
     "text": [
      "[1] 10.63597\n"
     ]
    }
   ],
   "source": [
    "sqrt(sum(psi)) |>\n",
    "    print()"
   ]
  },
  {
   "attachments": {},
   "cell_type": "markdown",
   "id": "09f8e16f",
   "metadata": {},
   "source": [
    "Applichiamo ora la formula della TCT:\n",
    "\n",
    "$$\n",
    "\\sigma_E = \\sigma_X \\sqrt{1 -\\rho_{XX^\\prime}}.\n",
    "$$\n",
    "\n",
    "Per trovare $\\sigma$ calcoliamo prima il punteggio totale:\n"
   ]
  },
  {
   "cell_type": "code",
   "execution_count": 21,
   "id": "fad2d7ba",
   "metadata": {
    "vscode": {
     "languageId": "r"
    }
   },
   "outputs": [],
   "source": [
    "tot_score <- rowSums(csq)"
   ]
  },
  {
   "attachments": {},
   "cell_type": "markdown",
   "id": "8786ce53",
   "metadata": {},
   "source": [
    "La deviazione standard di `tot_score` ci fornisce una stima di $\\sigma_X$:"
   ]
  },
  {
   "cell_type": "code",
   "execution_count": 22,
   "id": "5e85595b",
   "metadata": {
    "vscode": {
     "languageId": "r"
    }
   },
   "outputs": [
    {
     "name": "stdout",
     "output_type": "stream",
     "text": [
      "[1] 41.26414\n"
     ]
    }
   ],
   "source": [
    "sigma <- sd(tot_score)\n",
    "sigma |>\n",
    "    print()"
   ]
  },
  {
   "attachments": {},
   "cell_type": "markdown",
   "id": "1064074f",
   "metadata": {},
   "source": [
    "Per applicare la formula della TCT abbiamo bisogno dell'attendibilità. La stimiamo usando la funzione `reliability` del pacchetto `semTools` dall'oggetto creato da `lavaan:::cfa()`:"
   ]
  },
  {
   "cell_type": "code",
   "execution_count": 23,
   "id": "075e52ed",
   "metadata": {
    "vscode": {
     "languageId": "r"
    }
   },
   "outputs": [
    {
     "name": "stdout",
     "output_type": "stream",
     "text": [
      "               F\n",
      "alpha  0.8506572\n",
      "omega  0.9330313\n",
      "omega2 0.9330313\n",
      "omega3 0.9273385\n",
      "avevar 0.7916575\n"
     ]
    }
   ],
   "source": [
    "rel <- semTools::reliability(fit)\n",
    "rel |>\n",
    "    print()"
   ]
  },
  {
   "attachments": {},
   "cell_type": "markdown",
   "id": "26724144",
   "metadata": {},
   "source": [
    "Utilizzando $\\Omega$ otteniamo:"
   ]
  },
  {
   "cell_type": "code",
   "execution_count": 24,
   "id": "cfe0d78d",
   "metadata": {
    "vscode": {
     "languageId": "r"
    }
   },
   "outputs": [
    {
     "name": "stdout",
     "output_type": "stream",
     "text": [
      "[1] 0.2587831\n"
     ]
    },
    {
     "data": {
      "text/html": [
       "10.67846074554"
      ],
      "text/latex": [
       "10.67846074554"
      ],
      "text/markdown": [
       "10.67846074554"
      ],
      "text/plain": [
       "[1] 10.67846"
      ]
     },
     "metadata": {},
     "output_type": "display_data"
    }
   ],
   "source": [
    "sigma * sqrt(1- rel[2]) |>\n",
    "    print()"
   ]
  },
  {
   "attachments": {},
   "cell_type": "markdown",
   "id": "e08e2bbc",
   "metadata": {},
   "source": [
    "Si noti come il risultato sia molto simile a quello trovato con la formula della TCT."
   ]
  },
  {
   "attachments": {},
   "cell_type": "markdown",
   "id": "60235177",
   "metadata": {},
   "source": [
    "### Correlazioni osservate e riprodotte\n",
    "\n",
    "Le correlazioni riprodotte dal modello si ottengono nel modo seguente dall'oggetto `fit`."
   ]
  },
  {
   "cell_type": "code",
   "execution_count": 25,
   "id": "611bf9a6",
   "metadata": {
    "vscode": {
     "languageId": "r"
    }
   },
   "outputs": [
    {
     "name": "stdout",
     "output_type": "stream",
     "text": [
      "       I      G      S      N      W\n",
      "I  1.000                            \n",
      "G -0.119  1.000                     \n",
      "S -0.117  0.885  1.000              \n",
      "N -0.112  0.846  0.830  1.000       \n",
      "W -0.111  0.841  0.825  0.789  1.000\n"
     ]
    }
   ],
   "source": [
    "cor_mat <- lavInspect(fit, \"cor.ov\")\n",
    "cor_mat |>\n",
    "    print()"
   ]
  },
  {
   "attachments": {},
   "cell_type": "markdown",
   "id": "d868a5c0",
   "metadata": {},
   "source": [
    "Abbiamo visto come il modello unifattoriale predice che la correlazione tra due variabili manifeste sia il prodotto delle rispettive correlazioni fattoriali. Estraiamo le saturazioni fattoriali."
   ]
  },
  {
   "cell_type": "code",
   "execution_count": 26,
   "id": "5601108a",
   "metadata": {
    "vscode": {
     "languageId": "r"
    }
   },
   "outputs": [
    {
     "name": "stdout",
     "output_type": "stream",
     "text": [
      "       F\n",
      "I  0.126\n",
      "G -0.949\n",
      "S -0.932\n",
      "N -0.891\n",
      "W -0.886\n"
     ]
    }
   ],
   "source": [
    "l <- inspect(fit, what=\"std\")$lambda\n",
    "l |>\n",
    "    print()"
   ]
  },
  {
   "attachments": {},
   "cell_type": "markdown",
   "id": "3d182c37",
   "metadata": {},
   "source": [
    "Per esempio, se consideriamo `I` e `G`, la correlazione predetta dal modello fattoriale tra queste due sottoscale è data dal prodotto delle rispettive saturazioni fattoriali."
   ]
  },
  {
   "cell_type": "code",
   "execution_count": 28,
   "id": "be554e3f",
   "metadata": {
    "vscode": {
     "languageId": "r"
    }
   },
   "outputs": [
    {
     "name": "stdout",
     "output_type": "stream",
     "text": [
      "[1] -0.9493687\n"
     ]
    },
    {
     "data": {
      "text/html": [
       "-0.11915121205349"
      ],
      "text/latex": [
       "-0.11915121205349"
      ],
      "text/markdown": [
       "-0.11915121205349"
      ],
      "text/plain": [
       "[1] -0.1191512"
      ]
     },
     "metadata": {},
     "output_type": "display_data"
    }
   ],
   "source": [
    "l[1] * l[2] |>\n",
    "    print()"
   ]
  },
  {
   "attachments": {},
   "cell_type": "markdown",
   "id": "714e612e",
   "metadata": {},
   "source": [
    "La matrice di correlazioni riprodotte riportata sopra mostra il risultato di questo prodotto per ciascuna coppia di variabili manifeste."
   ]
  },
  {
   "cell_type": "code",
   "execution_count": 29,
   "id": "b467c107",
   "metadata": {
    "vscode": {
     "languageId": "r"
    }
   },
   "outputs": [
    {
     "name": "stdout",
     "output_type": "stream",
     "text": [
      "       I      G      S      N      W\n",
      "I  0.016 -0.119 -0.117 -0.112 -0.111\n",
      "G -0.119  0.901  0.885  0.846  0.841\n",
      "S -0.117  0.885  0.868  0.830  0.825\n",
      "N -0.112  0.846  0.830  0.794  0.789\n",
      "W -0.111  0.841  0.825  0.789  0.785\n"
     ]
    }
   ],
   "source": [
    "l %*% t(l) |> round(3) |>\n",
    "    print()"
   ]
  },
  {
   "attachments": {},
   "cell_type": "markdown",
   "id": "602d3f3e",
   "metadata": {},
   "source": [
    "### Scomposizione della varianza\n",
    "\n",
    "Consideriamo la variabile manifesta `W`. Calcoliamo la varianza."
   ]
  },
  {
   "cell_type": "code",
   "execution_count": 33,
   "id": "30abaa92",
   "metadata": {
    "vscode": {
     "languageId": "r"
    }
   },
   "outputs": [
    {
     "name": "stdout",
     "output_type": "stream",
     "text": [
      "[1] 171.714\n"
     ]
    }
   ],
   "source": [
    "var(csq$W) |> print()"
   ]
  },
  {
   "attachments": {},
   "cell_type": "markdown",
   "id": "8215b3be",
   "metadata": {},
   "source": [
    "La varianza *riprodotta* di questa variabile, secondo il modello fattoriale, dovrebbe esere uguale alla somma di due componenti: la varianza predetta dall'effetto causale del fattore latente e la varianza residua.  La varianza predetta dall'effetto causale del fattore latente è uguale alla saturazione elevata al quadrato:"
   ]
  },
  {
   "cell_type": "code",
   "execution_count": 31,
   "id": "4d55b492",
   "metadata": {
    "vscode": {
     "languageId": "r"
    }
   },
   "outputs": [
    {
     "data": {
      "text/html": [
       "134.513604"
      ],
      "text/latex": [
       "134.513604"
      ],
      "text/markdown": [
       "134.513604"
      ],
      "text/plain": [
       "[1] 134.5136"
      ]
     },
     "metadata": {},
     "output_type": "display_data"
    }
   ],
   "source": [
    "(-11.598)^2 "
   ]
  },
  {
   "attachments": {},
   "cell_type": "markdown",
   "id": "dcb25556",
   "metadata": {},
   "source": [
    "Calcolo ora la proporzione di varianza residua normalizzando rispetto alla varianza osservata (non a quella riprodotta dal modello):"
   ]
  },
  {
   "cell_type": "code",
   "execution_count": 35,
   "id": "5ff54c40",
   "metadata": {
    "vscode": {
     "languageId": "r"
    }
   },
   "outputs": [
    {
     "data": {
      "text/html": [
       "0.216641572893455"
      ],
      "text/latex": [
       "0.216641572893455"
      ],
      "text/markdown": [
       "0.216641572893455"
      ],
      "text/plain": [
       "[1] 0.2166416"
      ]
     },
     "metadata": {},
     "output_type": "display_data"
    }
   ],
   "source": [
    "1 - (-11.598)^2 / var(csq$W) "
   ]
  },
  {
   "attachments": {},
   "cell_type": "markdown",
   "id": "11f1c368",
   "metadata": {},
   "source": [
    "Il valore così ottenuto è molto simile al valore della varianza residua di `W`. \n",
    "\n",
    "Ripeto i calcoli per la variabile `G`"
   ]
  },
  {
   "cell_type": "code",
   "execution_count": 36,
   "id": "7e1ead0b",
   "metadata": {
    "vscode": {
     "languageId": "r"
    }
   },
   "outputs": [
    {
     "data": {
      "text/html": [
       "0.1003728851332"
      ],
      "text/latex": [
       "0.1003728851332"
      ],
      "text/markdown": [
       "0.1003728851332"
      ],
      "text/plain": [
       "[1] 0.1003729"
      ]
     },
     "metadata": {},
     "output_type": "display_data"
    }
   ],
   "source": [
    "1 - (-11.322)^2 / var(csq$G) "
   ]
  },
  {
   "attachments": {},
   "cell_type": "markdown",
   "id": "61cd96b5",
   "metadata": {},
   "source": [
    "e per la variabile `I`"
   ]
  },
  {
   "cell_type": "code",
   "execution_count": 37,
   "id": "8c9805f1",
   "metadata": {
    "vscode": {
     "languageId": "r"
    }
   },
   "outputs": [
    {
     "data": {
      "text/html": [
       "0.984275494822392"
      ],
      "text/latex": [
       "0.984275494822392"
      ],
      "text/markdown": [
       "0.984275494822392"
      ],
      "text/plain": [
       "[1] 0.9842755"
      ]
     },
     "metadata": {},
     "output_type": "display_data"
    }
   ],
   "source": [
    "1 - (0.725)^2 / var(csq$I) "
   ]
  },
  {
   "attachments": {},
   "cell_type": "markdown",
   "id": "d8267a9d",
   "metadata": {},
   "source": [
    "In tutti i casi, i valori ottenuti sono molto simili alle varianze residue ipotizzate dal modello unifattoriale."
   ]
  },
  {
   "attachments": {},
   "cell_type": "markdown",
   "id": "99867cfe",
   "metadata": {},
   "source": [
    "### Correlazione tra variabili manifeste e fattore comune\n",
    "\n",
    "Un modo per verificare il fatto che, nel modello unifattoriale, la saturazione fattoriale della $i$-esima variabile manifesta è uguale alla correlazione tra i punteggi osservati sulla i$-esima variabile manifesta e il fattore latente è quella di calcolare le correlazioni tra le variabili manifeste e i punteggi fattoriali. I punteggi fattoriali rappresentano una *stima* del punteggio \"vero\", ovvero del punteggio che ciascun rispondente otterrebbe in assenza di errori di misurazione. Vedremo in seguito come si possono stimare i punteggi fattoriali. Per ora ci limitiamo a calcolarli usando `lavaan`."
   ]
  },
  {
   "cell_type": "code",
   "execution_count": 38,
   "id": "6f51749a",
   "metadata": {
    "vscode": {
     "languageId": "r"
    }
   },
   "outputs": [
    {
     "name": "stdout",
     "output_type": "stream",
     "text": [
      "              F\n",
      "[1,]  0.2693790\n",
      "[2,] -0.9110820\n",
      "[3,]  0.1871406\n",
      "[4,] -0.3315541\n",
      "[5,]  0.8306627\n",
      "[6,]  1.1534515\n"
     ]
    }
   ],
   "source": [
    "head(lavPredict(fit)) |>\n",
    "    print()"
   ]
  },
  {
   "attachments": {},
   "cell_type": "markdown",
   "id": "d79d94e0",
   "metadata": {},
   "source": [
    "Abbiamo un punteggio diverso per ciascuno dei 540 individui che appartengono al campione di dati esaminato."
   ]
  },
  {
   "cell_type": "code",
   "execution_count": 39,
   "id": "0cdc2158",
   "metadata": {
    "vscode": {
     "languageId": "r"
    }
   },
   "outputs": [
    {
     "data": {
      "text/html": [
       "<style>\n",
       ".list-inline {list-style: none; margin:0; padding: 0}\n",
       ".list-inline>li {display: inline-block}\n",
       ".list-inline>li:not(:last-child)::after {content: \"\\00b7\"; padding: 0 .5ex}\n",
       "</style>\n",
       "<ol class=list-inline><li>540</li><li>1</li></ol>\n"
      ],
      "text/latex": [
       "\\begin{enumerate*}\n",
       "\\item 540\n",
       "\\item 1\n",
       "\\end{enumerate*}\n"
      ],
      "text/markdown": [
       "1. 540\n",
       "2. 1\n",
       "\n",
       "\n"
      ],
      "text/plain": [
       "[1] 540   1"
      ]
     },
     "metadata": {},
     "output_type": "display_data"
    }
   ],
   "source": [
    "dim(lavPredict(fit))"
   ]
  },
  {
   "attachments": {},
   "cell_type": "markdown",
   "id": "f7a9219d",
   "metadata": {},
   "source": [
    "Calcoliamo ora le correlazioni tra i valori osservati su ciascuna delle cinque scale del CSQ e le stime dei punteggi veri."
   ]
  },
  {
   "cell_type": "code",
   "execution_count": 40,
   "id": "7823dbc5",
   "metadata": {
    "vscode": {
     "languageId": "r"
    }
   },
   "outputs": [
    {
     "name": "stdout",
     "output_type": "stream",
     "text": [
      "[1]  0.128 -0.970 -0.952 -0.910 -0.905\n"
     ]
    }
   ],
   "source": [
    "c(\n",
    "  cor(csq$I, lavPredict(fit)),\n",
    "  cor(csq$G, lavPredict(fit)),\n",
    "  cor(csq$S, lavPredict(fit)),\n",
    "  cor(csq$N, lavPredict(fit)),\n",
    "  cor(csq$W, lavPredict(fit))\n",
    ") |> \n",
    "  round(3) |>\n",
    "    print()\n"
   ]
  },
  {
   "attachments": {},
   "cell_type": "markdown",
   "id": "56461eb9",
   "metadata": {},
   "source": [
    "Si noti che i valori ottenui sono molto simili ai valori delle saturazioni fattoriali. La piccola differenza tra le correlazioni ottenute e i valori delle saturazioni fattoriali dipende dal fatto che abbiamo *stimato* i punteggi fattoriali."
   ]
  },
  {
   "cell_type": "code",
   "execution_count": 41,
   "id": "9063a234",
   "metadata": {
    "lines_to_next_cell": 0,
    "vscode": {
     "languageId": "r"
    }
   },
   "outputs": [
    {
     "name": "stdout",
     "output_type": "stream",
     "text": [
      "       F\n",
      "I  0.126\n",
      "G -0.949\n",
      "S -0.932\n",
      "N -0.891\n",
      "W -0.886\n"
     ]
    }
   ],
   "source": [
    "inspect(fit, what=\"std\")$lambda |>\n",
    "    print()"
   ]
  },
  {
   "cell_type": "markdown",
   "id": "550dc3b5",
   "metadata": {},
   "source": [
    "## Session Info"
   ]
  },
  {
   "cell_type": "code",
   "execution_count": null,
   "id": "c2fea9ed",
   "metadata": {
    "vscode": {
     "languageId": "r"
    }
   },
   "outputs": [],
   "source": [
    "sessionInfo()"
   ]
  }
 ],
 "metadata": {
  "jupytext": {
   "cell_metadata_filter": "tags,-all",
   "main_language": "R",
   "notebook_metadata_filter": "-all"
  },
  "kernelspec": {
   "display_name": "R",
   "language": "R",
   "name": "ir"
  },
  "language_info": {
   "codemirror_mode": "r",
   "file_extension": ".r",
   "mimetype": "text/x-r-source",
   "name": "R",
   "pygments_lexer": "r",
   "version": "4.3.2"
  }
 },
 "nbformat": 4,
 "nbformat_minor": 5
}
