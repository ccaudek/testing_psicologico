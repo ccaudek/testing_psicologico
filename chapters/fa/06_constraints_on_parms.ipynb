{
 "cells": [
  {
   "attachments": {},
   "cell_type": "markdown",
   "id": "ad9e3346",
   "metadata": {},
   "source": [
    "# Attendibilità e modello fattoriale {#sec-fa-model-1}"
   ]
  },
  {
   "cell_type": "code",
   "execution_count": 1,
   "id": "b3c30e25",
   "metadata": {
    "tags": [
     "remove_cell"
    ],
    "vscode": {
     "languageId": "r"
    }
   },
   "outputs": [],
   "source": [
    "source(\"../../code/_common.R\")\n",
    "suppressPackageStartupMessages({\n",
    "    library(\"psych\")\n",
    "    library(\"lavaan\")\n",
    "    library(\"modelsummary\") # for summarizing data\n",
    "})"
   ]
  },
  {
   "attachments": {},
   "cell_type": "markdown",
   "id": "aa1a75fa",
   "metadata": {},
   "source": [
    "In questo capitolo esamineremo il problema relativo alla valutazione dell'affidabilità di uno strumento mediante l'impiego della tecnica dell'analisi fattoriale. Saranno differenziati tre distinti modelli che delineano le connessioni tra gli indicatori e il sottostante fattore latente comune (modelli congenerico, tau-equivalente, parallelo). Saranno presentati altresì tre diversi indici volti a caratterizzare l'affidabilità, intesa come coerenza interna, in accordo con il modello adottato. Tali indici includono l'indice omega di McDonald, l'indice alpha di Cronbach e l'indice rho, derivato dalla formula \"profetica\" di Spearman-Brown.\n",
    "\n",
    "Sarà evidente che l'utilizzo dell'indice alpha di Cronbach è giustificato soltanto se particolari condizioni specifiche vengono soddisfatte, circostanza che si verifica piuttosto raramente nei dati empirici. A causa di tale ragione, in linea generale, risulta più opportuno adottare l'indice omega di McDonald quale misura di coerenza interna.\n",
    "\n",
    "## Teoria classica dei test e analisi fattoriale\n",
    "\n",
    "{cite:t}`mcdonald2013test` illustra come la teoria classica dei test possa essere correlata al modello dell'analisi fattoriale. La figura rappresenta, attraverso i termini del modello fattoriale, la relazione che sussiste tra i punteggi $Y$, derivanti dalla somministrazione di un test composto da cinque item, e i punteggi veri.\n",
    "\n",
    "\n",
    "```{figure} ../images/factmod1.png\n",
    "---\n",
    "height: 300px\n",
    "name: lcsm1-fig\n",
    "---\n",
    "**Diagramma di percorso del modello monofattoriale.** \n",
    "```"
   ]
  },
  {
   "cell_type": "markdown",
   "id": "370bac7c",
   "metadata": {},
   "source": [
    "Esistono diverse strategie per stimare l'attendibilità in situazioni in cui viene somministrato un unico test. In questo contesto, analizzeremo tre metodologie che possono essere implementate attraverso l'analisi fattoriale: l'$\\alpha$ di Cronbach, l'$\\omega$ di McDonald e il metodo di Spearman-Brown.\n",
    "\n",
    "Il coefficiente $\\alpha$ rappresenta il principale indice utilizzato per quantificare l'attendibilità come misura di coerenza interna o omogeneità. Approfondiremo come questo indice rappresenti il limite inferiore dell'attendibilità di un test, a condizione che siano soddisfatte alcune ipotesi. Tuttavia, se queste assunzioni non vengono rispettate, l'$\\alpha$ si rivela un stimatore distorto dell'attendibilità.\n",
    "\n",
    "Prima di esaminare le diverse metodologie per stimare l'attendibilità in termini di coerenza interna, è essenziale distinguere tra le tre diverse forme che il modello unifattoriale può assumere. Queste tre forme corrispondono al modello con indicatori congenerici, al modello $\\tau$-equivalente e al modello parallelo.\n",
    "\n",
    "## Modello fattoriale e CTT\n",
    "\n",
    "Considerando un insieme di item osservati $X_1, X_2, \\dots, X_p$, con $p>2$, i punteggi ottenuti da questi item sono composti da due elementi distinti: una componente di punteggio vero e una componente di errore.\n",
    "\n",
    "$$\n",
    "\\begin{equation}\n",
    "\\begin{aligned}\n",
    "X_1 &=T_1+E_1,\\notag\\\\ \n",
    "X_2 &=T_2+E_2,\\notag\\\\ \n",
    "&\\dots\\notag\\\\ \n",
    "X_p &=T_p+E_p.\\notag\n",
    "\\end{aligned}\n",
    "\\end{equation}\n",
    "$$\n",
    "\n",
    "In linea con l'approccio delineato da {cite:t}`mcdonald2013test`, questa decomposizione tra la componente vera e quella di errore può essere formalizzata mediante l'utilizzo dei parametri del modello fattoriale. L'equazione $X_i = T_i + E_i$ può quindi essere riformulata come segue:\n",
    "\n",
    "$$\n",
    "X_i = \\lambda_i \\xi + \\delta_i, \\quad{i=1, \\dots, p},\n",
    "$$ \n",
    "\n",
    "In questa equazione, $X_i$ rappresenta il punteggio osservato per l'item $i$-esimo (espresso in termini di scarti dalla media), $\\lambda_i$ è il carico fattoriale associato all'item $i$-esimo, $\\xi$ costituisce il fattore comune e $\\delta_i$ è la componente residuale del punteggio osservato per l'item $i$-esimo. Tale formulazione si basa sulle assunzioni del modello monofattoriale. Nello specifico, si ipotizza che $\\xi$ e $\\delta_i$ siano incorrelati per ogni item $i$, e che $\\delta_i$ e $\\delta_k$ siano incorrelati per ogni coppia $i \\neq k$.\n",
    "\n",
    "## Classi di modelli\n",
    "\n",
    "Nell'ambito dei modelli monofattoriali, possiamo distinguere tre scenari principali:\n",
    "\n",
    "1. **Modello con indicatori congenerici:** Questo modello rappresenta il caso più generale, in cui non vi sono restrizioni imposte sulla struttura degli indicatori. Gli indicatori sono correlati in quanto riflettono un fattore comune, ma possono avere carichi fattoriali diversi e specificità uniche.\n",
    "\n",
    "2. **Modello con indicatori $\\tau$-equivalenti:** In questo scenario, tutti gli indicatori hanno lo stesso carico fattoriale, il che implica che misurano il fattore comune con la stessa forza. Tuttavia, possono differire per quanto riguarda la loro varianza e specificità.\n",
    "\n",
    "3. **Modello con indicatori paralleli:** Qui, gli indicatori non solo condividono lo stesso carico fattoriale, ma presentano anche identica varianza degli errori. Questo indica una completa equivalenza tra gli indicatori, mostrando una struttura molto più rigida rispetto al modello $\\tau$-equivalente.\n",
    "\n",
    "Il modello con indicatori congenerici funge da base più flessibile, mentre i modelli con indicatori $\\tau$-equivalenti e paralleli introducono vincoli crescenti che specificano relazioni sempre più strette tra gli indicatori.\n",
    "\n",
    "### Indicatori congenerici\n",
    "\n",
    "Gli indicatori *congenerici* rappresentano misure di uno stesso costrutto, ma non è necessario che riflettano tale costrutto con la medesima intensità. Nel contesto degli indicatori congenerici all'interno del modello monofattoriale, non vengono introdotte limitazioni né sulle saturazioni fattoriali né sulle specificità:\n",
    "\n",
    "$$\n",
    "\\lambda_1\\neq \\lambda_2 \\neq \\dots\\neq \\lambda_p,\n",
    "$$\n",
    "\n",
    "$$\n",
    "\\psi_{11}\\neq \\psi_{22} \\neq \\dots\\neq \\psi_{pp}.\n",
    "$$ \n",
    "\n",
    "Il modello mono-fattoriale con indicatori congenerici è dunque\n",
    "\n",
    "$$\n",
    "\\begin{equation}\n",
    "X_i = \\lambda_i \\xi + \\delta_i.\n",
    "\\end{equation}\n",
    "$$(eq-mod-tau-eq)\n",
    "\n",
    "Dalle assunzioni precedenti possiamo derivare la matrice $\\boldsymbol{\\Sigma}$ riprodotta in base al modello congenerico la quale risulta essere uguale a\n",
    "\n",
    "$$\n",
    "\\boldsymbol{\\Sigma}=\\left[\n",
    "      \\begin{array}{ c c c c }\n",
    "        \\sigma_{11} & \\sigma_{12} & \\dots & \\sigma_{1p}, \\\\\n",
    "        \\sigma_{21} & \\sigma_{22} & \\dots & \\sigma_{2p}. \\\\\n",
    "        \\vdots & \\vdots & & \\vdots\\\\\n",
    "        \\sigma_{p1} & \\sigma_{p2} & \\dots & \\sigma_{pp} \n",
    "      \\end{array} \n",
    "    \\right].\n",
    "$$ \n",
    "    \n",
    "Si noti come tutte le varianze e tutte le covarianze siano tra loro diverse.\n",
    "\n",
    "### Indicatori tau-equivalenti\n",
    "\n",
    "Nel caso di indicatori $\\tau$-equivalenti, si ha che\n",
    "\n",
    "$$\n",
    "\\lambda_1=\\lambda_2=\\dots=\\lambda_p=\\lambda,\n",
    "$$\n",
    "\n",
    "$$\n",
    "\\psi_{11}\\neq \\psi_{22} \\neq \\dots\\neq \\psi_{pp}.\n",
    "$$ \n",
    "\n",
    "Il modello monofattoriale con indicatori $\\tau$-equivalenti diventa dunque\n",
    "\n",
    "$$\n",
    "\\begin{equation}\n",
    "X_i = \\lambda \\xi + \\delta_i, \n",
    "\\end{equation}\n",
    "$$(eq-mod-tau-eq)\n",
    "\n",
    "ovvero \n",
    "\n",
    "$$\n",
    "\\begin{equation}\n",
    "X_i = \\tau + \\delta_i,\n",
    "\\end{equation}\n",
    "$$(eq-mod-tau-eq-b)\n",
    "\n",
    "dove $\\tau=\\lambda \\xi$ è l'attributo comune scalato nell'unità di misura dell'indicatore. Secondo il modello {eq}`eq-mod-tau-eq`, tutte le $p(p-1)$ covarianze tra gli item\n",
    "del test devono essere uguali, ovvero\n",
    "\n",
    "$$\n",
    "\\begin{equation}\n",
    "\\sigma_{ik} = \\lambda^2=\\sigma^2_T,\n",
    "\\end{equation}\n",
    "$$(eq-cov-tau-eq)\n",
    "\n",
    "per $i\\neq k$. Gli elementi sulla diagonale principale della matrice di varianze e covarianze saranno invece\n",
    "\n",
    "$$\n",
    "\\begin{equation}\n",
    "\\sigma_{ii} = \\lambda^2 + \\psi_{ii} =\\sigma^2_T + \\psi_{ii}.\n",
    "\\end{equation}\n",
    "$$(eq-var-tau)\n",
    "\n",
    "La matrice $\\boldsymbol{\\Sigma}$ riprodotta in base al modello $\\tau$-equivalente è dunque uguale a\n",
    "\n",
    "$$\n",
    "\\begin{equation}\n",
    "\\boldsymbol{\\Sigma}=\\left[\n",
    "      \\begin{array}{ c c c c }\n",
    "        \\sigma_{T}^2 + \\psi_{11} & \\sigma_{T}^2 & \\dots & \\sigma_{T}^2 \\\\\n",
    "        \\sigma_{T}^2 & \\sigma_{T}^2 + \\psi_{22} & \\dots & \\sigma_{T}^2 \\\\\n",
    "        \\vdots & \\vdots & & \\vdots\\\\\n",
    "        \\sigma_{T}^2 & \\sigma_{T}^2 & \\dots & \\sigma_{T}^2 + \\psi_{pp} \n",
    "      \\end{array} \n",
    "    \\right].\n",
    "\\end{equation}\n",
    "$$(eq-sigma-tau-eq)\n",
    "    \n",
    "Tutte le covarianze sono uguali, mentre le varianze sono tra loro diverse.\n",
    "\n",
    "### Indicatori paralleli\n",
    "\n",
    "Nel caso di indicatori paralleli si ha che\n",
    "\n",
    "$$\n",
    "\\lambda_1=\\lambda_2=\\dots=\\lambda_p=\\lambda,\n",
    "$$\n",
    "\n",
    "$$\n",
    "\\psi_{11}=\\psi_{22}=\\dots=\\psi_{pp}=\\psi.\n",
    "$$ \n",
    "\n",
    "Il modello costituito da indicatori paralleli impone dunque un'ulteriore restrizione che riguarda le varianze degli item, ovvero:\n",
    "\n",
    "$$\n",
    "\\sigma_{ii} = \\lambda^2 + \\psi =\\sigma^2_T + \\sigma^2.\n",
    "$$ \n",
    "\n",
    "La struttura di varianze e covarianze imposta dal modello per indicatori paralleli è\n",
    "dunque tale da richiedere l'uguaglianza tra tutte le covarianze tra gli\n",
    "item e l'uguaglianza tra tutte le varianze degli item. La matrice\n",
    "$\\boldsymbol{\\Sigma}$ riprodotta in base al modello con indicatori\n",
    "paralleli è dunque uguale a \n",
    "\n",
    "$$\n",
    "\\boldsymbol{\\Sigma}=\\left[\n",
    "      \\begin{array}{ c c c c }\n",
    "        \\sigma_{T}^2 + \\sigma^2 & \\sigma_{T}^2 & \\dots & \\sigma_{T}^2 \\\\\n",
    "        \\sigma_{T}^2 & \\sigma_{T}^2 + \\sigma^2 & \\dots & \\sigma_{T}^2 \\\\\n",
    "        \\vdots & \\vdots & & \\vdots\\\\\n",
    "        \\sigma_{T}^2 & \\sigma_{T}^2 & \\dots & \\sigma_{T}^2 +\\sigma^2 \\notag\n",
    "      \\end{array} \n",
    "    \\right].\n",
    "$$\n"
   ]
  },
  {
   "attachments": {},
   "cell_type": "markdown",
   "id": "f8181967",
   "metadata": {},
   "source": [
    "\n",
    "## Metodo dei minimi quadrati non pesati\n",
    "\n",
    "Nel contesto del modello unifattoriale, la varianza di ciascun indicatore è decomposta in due componenti: la componente $\\sigma^2_T$, attribuibile all'effetto del fattore latente comune, e la componente $\\psi$, riferita all'influenza del fattore specifico. {cite:t}`mcdonald2013test` dimostra come sia possibile ottenere stime di tali componenti dai dati osservati. Queste stime vengono successivamente impiegate per calcolare l'affidabilità interna del test mediante le formule degli indici $\\alpha$ di Cronbach e $\\omega$ di McDonald.\n",
    "\n",
    "In precedenza, abbiamo esaminato come la varianza del punteggio vero possa essere equivalente alla covarianza tra due forme parallele dello stesso test: $\\sigma^2_T = \\sigma_{XX^\\prime}$. Nel caso di indicatori $\\tau$-equivalenti, la matrice $\\boldsymbol{\\Sigma}$ prevista dal modello risulta essere:\n",
    "\n",
    "$$\n",
    "\\boldsymbol{\\Sigma}=\\left[\n",
    "      \\begin{array}{ c c c c }\n",
    "        \\sigma_{T}^2 + \\psi_{11} & \\sigma_{T}^2 & \\dots & \\sigma_{T}^2 \\\\\n",
    "        \\sigma_{T}^2 & \\sigma_{T}^2 + \\psi_{22} & \\dots & \\sigma_{T}^2 \\\\\n",
    "        \\vdots & \\vdots & & \\vdots\\\\\n",
    "        \\sigma_{T}^2 & \\sigma_{T}^2 & \\dots & \\sigma_{T}^2 + \\psi_{pp} \\notag\n",
    "      \\end{array}\n",
    "    \\right],\n",
    "$$\n",
    "\n",
    "ossia, tutte le covarianze sono equivalenti tra loro. Nel caso degli indicatori $\\tau$-equivalenti, dunque, una stima $\\hat{\\sigma}^2_T$ di $\\sigma^2_T$ si ottiene calcolando la media delle covarianze della matrice **S**:\n",
    "\n",
    "$$\n",
    "\\begin{equation}\n",
    "\\hat{\\sigma}_T^2 = \\frac{1}{p(p-1)} {\\sum \\sum}_{i \\neq k} s_{ik}.\n",
    "\\end{equation}\n",
    "$$ (eq-sigma-t)\n",
    "\n",
    "Questo metodo di stima di $\\sigma^2_T$ è noto come \"metodo dei minimi quadrati non pesati\" {cite:p}`mcdonald2013test`.\n",
    "\n",
    "Inoltre, nel caso di indicatori $\\tau$-equivalenti, la stima di $\\psi_{ii}$ nell'eq. {eq}`eq-var-tau` è calcolata come:\n",
    "\n",
    "$$\n",
    "\\hat{\\psi}_{ii }= s_{ii} - \\hat{\\sigma}_T^2,\n",
    "$$\n",
    "\n",
    "per ogni item $i$.\n",
    "\n",
    "Per quanto riguarda gli *indicatori paralleli*, la stima di $\\sigma^2_T$ è ancora basata sull'eq. {eq}`eq-sigma-t`, ovvero sulla media delle covarianze della matrice $\\boldsymbol{\\Sigma}$. Tuttavia, la stima del valore costante $\\psi$ è ottenuta tramite l'equazione:\n",
    "\n",
    "$$\n",
    "\\begin{equation}\n",
    "\\hat{\\psi} = \\frac{1}{p} \\sum_i (s_{ii} - \\hat{\\sigma}_T^2)\n",
    "\\end{equation}\n",
    "$$(eq-psi-par-st)\n",
    "\n",
    "## Varianza del punteggio totale di un test\n",
    "\n",
    "Consideriamo un test omogeneo costituito da $p$ item, il cui punteggio totale $Y$ è dato dalla somma dei punteggi individuali degli item, espressi come $Y = \\sum_{i=1}^p X_i$. Analizziamo la varianza di $Y$ utilizzando un modello unifattoriale.\n",
    "\n",
    "In un modello congenerico con un singolo fattore comune, il punteggio di ciascun item $i$, $X_i$, può essere rappresentato dalla seguente equazione:\n",
    "\n",
    "$$\n",
    "X_i = \\lambda_i \\xi + \\delta_i,\n",
    "$$\n",
    "\n",
    "dove $\\lambda_i$ rappresenta la carica fattoriale dell'item $i$ sul fattore comune $\\xi$, e $\\delta_i$ è l'errore specifico associato all'item. Questa formulazione è analoga all'equazione $X_i = T_i + E_i$ della teoria classica dei test, dove $T_i$ è il vero punteggio e $E_i$ l'errore di misurazione.\n",
    "\n",
    "Il punteggio totale, essendo la somma di tutti gli item, si esprime come $\\sum_i (\\lambda_i \\xi + \\delta_i)$. La varianza del punteggio totale può quindi essere calcolata come segue:\n",
    "\n",
    "$$\n",
    "\\begin{equation}\n",
    "\\begin{aligned}\n",
    "  \\mathbb{V}(Y) &= \\mathbb{V}\\left[ \\sum_i  (\\lambda_i \\xi + \\delta_i)  \\right] \\\\\n",
    "  &= \\mathbb{V}\\left[ \\left( \\sum_i \\lambda_i\\right) \\xi + \\sum_i \\delta_i\\right] \\\\\n",
    "  &=  \\left(\\sum_i \\lambda_i\\right)^2 \\mathbb{V}(\\xi) +  \\sum_i  \\mathbb{V}(\\delta_i) \\\\\n",
    "  &= \\left(\\sum_i \\lambda_i\\right)^2 + \\sum_i \\psi_{ii},\n",
    "\\end{aligned}\n",
    "\\end{equation}\n",
    "$$ (eq-var-y)\n",
    "\n",
    "dove $\\mathbb{V}(\\xi) = 1$ per ipotesi. La varianza di $Y$ si decompone in due parti principali: la prima parte, $(\\sum_i \\lambda_i)^2$, rappresenta la varianza attribuibile al fattore comune, riflettendo la variazione legata all'attributo misurato dagli item; la seconda parte, $\\sum_i \\psi_{ii}$, corrisponde alla somma delle varianze degli errori specifici di ciascun item, rappresentando la variazione dovuta agli errori di misurazione.\n",
    "\n",
    "## Stima dell'attendibilità\n",
    "\n",
    "### Coefficiente Omega\n",
    "\n",
    "Dopo aver analizzato la varianza del punteggio totale di un test come indicato nella precedente equazione:\n",
    "\n",
    "$$\n",
    "\\mathbb{V}(Y) = \\left( \\sum_i \\lambda_i\\right)^2 + \\sum_i \\psi_{ii},\n",
    "$$\n",
    "\n",
    "si introduce il coefficiente di affidabilità $\\omega$. {cite:t}`mcdonald2013test` definisce $\\omega$ come il rapporto tra la varianza attribuibile al fattore comune e la varianza totale del punteggio. Basandosi sui parametri del modello monofattoriale, il coefficiente $\\omega$ può essere formulato come segue:\n",
    "\n",
    "$$\n",
    "\\begin{equation}\n",
    "\\begin{aligned}\n",
    "\\omega &= \\frac{\\left( \\sum_{i=1}^p \\lambda_i \\right)^2}{\\mathbb{V}(Y)} \\\\\n",
    "&= \\frac{\\left( \\sum_{i=1}^p \\lambda_i \\right)^2}{\\left( \\sum_{i=1}^p \\lambda_i \\right)^2  + \\sum_{i=1}^p \\psi_{ii}}\n",
    "\\end{aligned}\n",
    "\\end{equation}\n",
    "$$ (eq-omega)\n",
    "\n",
    "Questo coefficiente $\\omega$ offre una stima quantitativa dell'affidabilità di un test, basata sui parametri del modello congenerico e utilizzando i dati raccolti da una singola somministrazione del test. La sua utilità risiede nel quantificare quanto della varianza osservata nel punteggio totale è effettivamente spiegata dal fattore comune misurato dal test.\n",
    "\n",
    "#### Un esempio concreto\n",
    "\n",
    "Consideriamo nuovamente la scala *Openness* del dataframe `bfi` discussi nel capitolo {ref}`ctt-3-notebook`. Leggiamo i dati in R."
   ]
  },
  {
   "cell_type": "code",
   "execution_count": 2,
   "id": "d3363486",
   "metadata": {
    "vscode": {
     "languageId": "r"
    }
   },
   "outputs": [],
   "source": [
    "data(bfi, package = \"psych\")"
   ]
  },
  {
   "cell_type": "markdown",
   "id": "19a1a153",
   "metadata": {},
   "source": [
    "È necessario ricodificare due item."
   ]
  },
  {
   "cell_type": "code",
   "execution_count": 3,
   "id": "4d1240d5",
   "metadata": {
    "vscode": {
     "languageId": "r"
    }
   },
   "outputs": [],
   "source": [
    "bfi$O2r <- 7 - bfi$O2\n",
    "bfi$O5r <- 7 - bfi$O5"
   ]
  },
  {
   "cell_type": "code",
   "execution_count": 4,
   "id": "881fcf4d",
   "metadata": {
    "vscode": {
     "languageId": "r"
    }
   },
   "outputs": [
    {
     "data": {
      "text/html": [
       "<table class=\"dataframe\">\n",
       "<caption>A matrix: 5 x 5 of type dbl</caption>\n",
       "<thead>\n",
       "\t<tr><th></th><th scope=col>O1</th><th scope=col>O2r</th><th scope=col>O3</th><th scope=col>O4</th><th scope=col>O5r</th></tr>\n",
       "</thead>\n",
       "<tbody>\n",
       "\t<tr><th scope=row>O1</th><td>1.00</td><td>0.21</td><td>0.40</td><td>0.18</td><td>0.24</td></tr>\n",
       "\t<tr><th scope=row>O2r</th><td>0.21</td><td>1.00</td><td>0.26</td><td>0.07</td><td>0.32</td></tr>\n",
       "\t<tr><th scope=row>O3</th><td>0.40</td><td>0.26</td><td>1.00</td><td>0.19</td><td>0.31</td></tr>\n",
       "\t<tr><th scope=row>O4</th><td>0.18</td><td>0.07</td><td>0.19</td><td>1.00</td><td>0.18</td></tr>\n",
       "\t<tr><th scope=row>O5r</th><td>0.24</td><td>0.32</td><td>0.31</td><td>0.18</td><td>1.00</td></tr>\n",
       "</tbody>\n",
       "</table>\n"
      ],
      "text/latex": [
       "A matrix: 5 x 5 of type dbl\n",
       "\\begin{tabular}{r|lllll}\n",
       "  & O1 & O2r & O3 & O4 & O5r\\\\\n",
       "\\hline\n",
       "\tO1 & 1.00 & 0.21 & 0.40 & 0.18 & 0.24\\\\\n",
       "\tO2r & 0.21 & 1.00 & 0.26 & 0.07 & 0.32\\\\\n",
       "\tO3 & 0.40 & 0.26 & 1.00 & 0.19 & 0.31\\\\\n",
       "\tO4 & 0.18 & 0.07 & 0.19 & 1.00 & 0.18\\\\\n",
       "\tO5r & 0.24 & 0.32 & 0.31 & 0.18 & 1.00\\\\\n",
       "\\end{tabular}\n"
      ],
      "text/markdown": [
       "\n",
       "A matrix: 5 x 5 of type dbl\n",
       "\n",
       "| <!--/--> | O1 | O2r | O3 | O4 | O5r |\n",
       "|---|---|---|---|---|---|\n",
       "| O1 | 1.00 | 0.21 | 0.40 | 0.18 | 0.24 |\n",
       "| O2r | 0.21 | 1.00 | 0.26 | 0.07 | 0.32 |\n",
       "| O3 | 0.40 | 0.26 | 1.00 | 0.19 | 0.31 |\n",
       "| O4 | 0.18 | 0.07 | 0.19 | 1.00 | 0.18 |\n",
       "| O5r | 0.24 | 0.32 | 0.31 | 0.18 | 1.00 |\n",
       "\n"
      ],
      "text/plain": [
       "    O1   O2r  O3   O4   O5r \n",
       "O1  1.00 0.21 0.40 0.18 0.24\n",
       "O2r 0.21 1.00 0.26 0.07 0.32\n",
       "O3  0.40 0.26 1.00 0.19 0.31\n",
       "O4  0.18 0.07 0.19 1.00 0.18\n",
       "O5r 0.24 0.32 0.31 0.18 1.00"
      ]
     },
     "metadata": {},
     "output_type": "display_data"
    }
   ],
   "source": [
    "cor(bfi[c(\"O1\", \"O2r\", \"O3\", \"O4\", \"O5r\")], use = \"pairwise.complete.obs\") |>\n",
    "    round(2)"
   ]
  },
  {
   "attachments": {},
   "cell_type": "markdown",
   "id": "0ca63bed",
   "metadata": {},
   "source": [
    "Eseguiamo l'analisi fattoriale confermativa con `lavaan`."
   ]
  },
  {
   "cell_type": "code",
   "execution_count": 5,
   "id": "f872f4e5",
   "metadata": {
    "vscode": {
     "languageId": "r"
    }
   },
   "outputs": [],
   "source": [
    "mod <- \"\n",
    "    f =~ NA*O1 + O2r + O3 + O4 + O5r\n",
    "    f ~~ 1*f\n",
    "\"\n",
    "\n",
    "fit <- cfa(mod, data = bfi, std.ov = TRUE, std.lv = TRUE)"
   ]
  },
  {
   "attachments": {},
   "cell_type": "markdown",
   "id": "aa396f4b",
   "metadata": {},
   "source": [
    "Estraiamo le saturazioni fattoriali e le specificità dall'oggetto `fit`."
   ]
  },
  {
   "cell_type": "code",
   "execution_count": 6,
   "id": "a9b8abaf",
   "metadata": {
    "vscode": {
     "languageId": "r"
    }
   },
   "outputs": [],
   "source": [
    "lambda <- inspect(fit, what = \"std\")$lambda\n",
    "psy <- diag(inspect(fit, what = \"est\")$theta)"
   ]
  },
  {
   "cell_type": "markdown",
   "id": "b464fe85",
   "metadata": {},
   "source": [
    "Calcoliamo il coefficiente $\\omega$\n",
    "\n",
    "$$\n",
    "\\omega = \\frac{\\left( \\sum_{i=1}^p \\lambda_i \\right)^2}{\\left( \\sum_{i=1}^p \\lambda_i \\right)^2  + \\sum_{i=1}^p \\psi_{ii}}\n",
    "$$\n",
    "\n",
    "usando i parametri del modello fattoriale."
   ]
  },
  {
   "cell_type": "code",
   "execution_count": 7,
   "id": "cc5e23c8",
   "metadata": {
    "vscode": {
     "languageId": "r"
    }
   },
   "outputs": [
    {
     "data": {
      "text/html": [
       "0.618064541281708"
      ],
      "text/latex": [
       "0.618064541281708"
      ],
      "text/markdown": [
       "0.618064541281708"
      ],
      "text/plain": [
       "[1] 0.6180645"
      ]
     },
     "metadata": {},
     "output_type": "display_data"
    }
   ],
   "source": [
    "sum(lambda)^2 / (sum(lambda)^2 + sum(psy))"
   ]
  },
  {
   "cell_type": "markdown",
   "id": "d2d8e27f",
   "metadata": {},
   "source": [
    "Ripetiamo i calcoli usando la funzione `compRelSEM` del pacchetto `semTools`."
   ]
  },
  {
   "cell_type": "code",
   "execution_count": 9,
   "id": "83cd4481",
   "metadata": {
    "vscode": {
     "languageId": "r"
    }
   },
   "outputs": [
    {
     "data": {
      "text/html": [
       "<strong>f:</strong> 0.618110889806653"
      ],
      "text/latex": [
       "\\textbf{f:} 0.618110889806653"
      ],
      "text/markdown": [
       "**f:** 0.618110889806653"
      ],
      "text/plain": [
       "    f \n",
       "0.618 "
      ]
     },
     "metadata": {},
     "output_type": "display_data"
    }
   ],
   "source": [
    "semTools::compRelSEM(fit, tau.eq = FALSE)"
   ]
  },
  {
   "attachments": {},
   "cell_type": "markdown",
   "id": "1584d5a3",
   "metadata": {},
   "source": [
    "Il coefficiente $\\omega=0.62$ può essere interpretato dicendo che il 62% della varianza del punteggio totale $Y$ della sottoscala Openness viene spiegato dal fattore comune latente.\n",
    "\n",
    "#### Coefficiente $\\omega$ e assunzioni della teoria classica dei test\n",
    "\n",
    "Il calcolo del coefficiente $\\omega$ si appoggia su un'assunzione fondamentale della teoria classica dei test: che non esistano covarianze tra gli errori specifici degli item, ossia $\\psi_{ik}=0$ per ogni $i \\neq k$. Tuttavia, questa ipotesi potrebbe non reggere in contesti di dati empirici. Bollen (1980) sottolinea che, qualora le covarianze tra errori specifici non siano trascurabili, l'equazione per $\\omega$ dovrebbe essere modificata come segue:\n",
    "\n",
    "$$\n",
    "\\begin{equation}\n",
    "\\omega = \\frac{\\left( \\sum_{i=1}^p \\lambda_i \\right)^2}{\\left( \\sum_{i=1}^p \\lambda_i \\right)^2  + \\sum_{i=1}^p \\psi_{ii} + \\sum_{i, k, i\\neq k}^p \\psi_{ik}}.\n",
    "\\end{equation}\n",
    "$$\n",
    "\n",
    "Per verificare la validità dell'assunzione di indipendenza tra gli errori specifici, si può ricorrere a un'analisi fattoriale confermativa. Se l'analisi rivela correlazioni significative tra molti errori specifici, potrebbe essere necessario incorporare ulteriori fattori nel modello per accomodare queste covarianze. Questo può suggerire una struttura non più unidimensionale, indicando la presenza di diverse sottoscale all'interno del test. Tuttavia, anche con l'identificazione di tali sottoscale, le covarianze tra i fattori specifici possono rimanere inesplicate. In tali casi, l'uso dell'equazione modificata per $\\omega$ diventa indispensabile.\n",
    "\n",
    "#### Interpretazione del Coefficiente $\\omega$\n",
    "\n",
    "{cite:t}`mcdonald2013test` propone diverse interpretazioni del coefficiente $\\omega$ che aiutano a comprenderne il significato nel contesto della teoria dei test:\n",
    "- $\\omega$ può essere visto come il quadrato della correlazione tra il punteggio totale $Y$ e il fattore comune $\\xi$, che rappresenta anche la correlazione tra $Y$ e il punteggio vero. Questo si allinea alla definizione classica di affidabilità, espressa come $\\rho_{XT}^2 = \\sigma^2_{\\tau}/\\sigma^2_X$, dove $\\sigma^2_{\\tau}$ è la varianza del punteggio vero e $\\sigma^2_X$ quella del punteggio osservato.\n",
    "- $\\omega$ descrive anche la correlazione tra due applicazioni ipotetiche del test, $Y$ e $Y'$, che condividono le stesse somme (o medie) delle cariche fattoriali e delle varianze specifiche nel contesto di un modello a singolo fattore.\n",
    "- $\\omega$ rappresenta il quadrato della correlazione tra il punteggio totale di $p$ item e il punteggio medio di un insieme infinito di item all'interno di un dominio omogeneo, dove i $p$ item analizzati sono un sottoinsieme rappresentativo.\n",
    "\n",
    "In sintesi, il coefficiente $\\omega$ fornisce una misura di quanto il punteggio totale di un test sia rappresentativo del fattore latente che il test intende misurare. Attraverso la correlazione, l'omogeneità e la consistenza osservata tra diverse somministrazioni o versioni di un test, $\\omega$ aiuta a interpretare la qualità e l'affidabilità del test stesso.\n",
    "\n",
    "### Coefficienti $\\alpha$ e $\\omega$ nel modello $\\tau$-equivalente\n",
    "\n",
    "Nel contesto dei modelli monofattoriali, i coefficienti $\\omega$ e $\\alpha$ offrono stime dell'attendibilità, ma in contesti distinti. Il coefficiente $\\omega$ è utile per i modelli con indicatori congenerici, mentre il coefficiente $\\alpha$ è specifico per i modelli con indicatori $\\tau$-equivalenti.\n",
    "\n",
    "In un modello $\\tau$-equivalente, dove ciascun item ha la stessa carica fattoriale $\\lambda$, la varianza di ogni item si scompone in una parte dovuta al punteggio vero e una parte d'errore, espressa come $\\sigma_{ii} = \\lambda^2 + \\psi_{ii} = \\sigma^2_T + \\sigma^2_i$. In questo scenario, la formula per il coefficiente $\\omega$ si semplifica nel seguente modo:\n",
    "\n",
    "$$\n",
    "\\omega = \\frac{\\left( \\sum_i \\lambda_i \\right)^2}{\\left( \\sum_i \\lambda_i \\right)^2  + \\sum_i \\psi_{ii}} = \\frac{p^2 \\lambda^2}{\\sigma^2_Y} = \\frac{p^2 \\sigma_T^2}{\\sigma_Y^2},\n",
    "$$\n",
    "\n",
    "dove $Y$ rappresenta il punteggio totale del test.\n",
    "\n",
    "Applicando il metodo dei minimi quadrati non pesati, possiamo derivare la stima seguente per $\\omega$:\n",
    "\n",
    "$$\n",
    "\\hat{\\omega} = \\frac{p^2 \\hat{\\sigma}_T^2}{s_Y^2},\n",
    "$$\n",
    "\n",
    "dove $\\hat{\\sigma}_T^2$ è stimato come:\n",
    "\n",
    "$$\n",
    "\\hat{\\sigma}_T^2 = \\frac{1}{p(p-1)} \\sum \\sum_{i \\neq k} s_{ik}.\n",
    "$$\n",
    "\n",
    "Integrando questa stima nella formula precedente, otteniamo:\n",
    "\n",
    "$$\n",
    "\\hat{\\omega} = \\frac{p}{p-1}\\frac{\\sum \\sum_{i \\neq k} s_{ik}}{s_Y^2}.\n",
    "$$\n",
    "\n",
    "Per gli indicatori $\\tau$-equivalenti, quindi, $\\omega$ può essere stimato da:\n",
    "\n",
    "$$\n",
    "\\hat{\\omega} = \\frac{p}{p-1}\\left(1-\\frac{\\sum_i s_{ii}}{s_Y^2}\\right).\n",
    "$$ (eq-alpha-camp)\n",
    "\n",
    "Questa stima di $\\omega$ ha un parallelo nei valori di popolazione definiti da $\\alpha$, che si esprime come:\n",
    "\n",
    "$$\n",
    "\\alpha = \\frac{p}{p-1}\\left(1-\\frac{\\sum_{i=1}^p \\sigma_{ii}}{\\sigma_Y^2}\\right) = \\frac{p}{p-1}\\frac{\\sum_{i \\neq k}^p \\text{Cov}(X_i, X_k)}{\\mathbb{V}(Y)}.\n",
    "$$ (eq-alpha-pop)\n",
    "\n",
    "In condizioni ideali del modello $\\tau$-equivalente, i valori di $\\alpha$ e $\\omega$ convergono. Tuttavia, $\\alpha$ tende a sottostimare $\\omega$, posizionandosi come un limite inferiore per $\\omega$. Data questa natura conservativa di $\\alpha$, alcuni ricercatori lo preferiscono a $\\omega$, sebbene questa proprietà valga solamente quando le assunzioni del modello $\\tau$-equivalente sono rigorosamente rispettate.\n",
    "\n",
    "#### Un esempio concreto\n",
    "\n",
    "Consideriamo la matrice di varianze e covarianze della sottoscala Openness. "
   ]
  },
  {
   "cell_type": "code",
   "execution_count": 10,
   "id": "8c301c52",
   "metadata": {
    "vscode": {
     "languageId": "r"
    }
   },
   "outputs": [
    {
     "data": {
      "text/html": [
       "<table class=\"dataframe\">\n",
       "<caption>A matrix: 5 x 5 of type dbl</caption>\n",
       "<thead>\n",
       "\t<tr><th></th><th scope=col>O1</th><th scope=col>O2r</th><th scope=col>O3</th><th scope=col>O4</th><th scope=col>O5r</th></tr>\n",
       "</thead>\n",
       "<tbody>\n",
       "\t<tr><th scope=row>O1</th><td>1.28</td><td>0.38</td><td>0.54</td><td>0.25</td><td>0.36</td></tr>\n",
       "\t<tr><th scope=row>O2r</th><td>0.38</td><td>2.45</td><td>0.50</td><td>0.13</td><td>0.67</td></tr>\n",
       "\t<tr><th scope=row>O3</th><td>0.54</td><td>0.50</td><td>1.49</td><td>0.29</td><td>0.50</td></tr>\n",
       "\t<tr><th scope=row>O4</th><td>0.25</td><td>0.13</td><td>0.29</td><td>1.49</td><td>0.29</td></tr>\n",
       "\t<tr><th scope=row>O5r</th><td>0.36</td><td>0.67</td><td>0.50</td><td>0.29</td><td>1.76</td></tr>\n",
       "</tbody>\n",
       "</table>\n"
      ],
      "text/latex": [
       "A matrix: 5 x 5 of type dbl\n",
       "\\begin{tabular}{r|lllll}\n",
       "  & O1 & O2r & O3 & O4 & O5r\\\\\n",
       "\\hline\n",
       "\tO1 & 1.28 & 0.38 & 0.54 & 0.25 & 0.36\\\\\n",
       "\tO2r & 0.38 & 2.45 & 0.50 & 0.13 & 0.67\\\\\n",
       "\tO3 & 0.54 & 0.50 & 1.49 & 0.29 & 0.50\\\\\n",
       "\tO4 & 0.25 & 0.13 & 0.29 & 1.49 & 0.29\\\\\n",
       "\tO5r & 0.36 & 0.67 & 0.50 & 0.29 & 1.76\\\\\n",
       "\\end{tabular}\n"
      ],
      "text/markdown": [
       "\n",
       "A matrix: 5 x 5 of type dbl\n",
       "\n",
       "| <!--/--> | O1 | O2r | O3 | O4 | O5r |\n",
       "|---|---|---|---|---|---|\n",
       "| O1 | 1.28 | 0.38 | 0.54 | 0.25 | 0.36 |\n",
       "| O2r | 0.38 | 2.45 | 0.50 | 0.13 | 0.67 |\n",
       "| O3 | 0.54 | 0.50 | 1.49 | 0.29 | 0.50 |\n",
       "| O4 | 0.25 | 0.13 | 0.29 | 1.49 | 0.29 |\n",
       "| O5r | 0.36 | 0.67 | 0.50 | 0.29 | 1.76 |\n",
       "\n"
      ],
      "text/plain": [
       "    O1   O2r  O3   O4   O5r \n",
       "O1  1.28 0.38 0.54 0.25 0.36\n",
       "O2r 0.38 2.45 0.50 0.13 0.67\n",
       "O3  0.54 0.50 1.49 0.29 0.50\n",
       "O4  0.25 0.13 0.29 1.49 0.29\n",
       "O5r 0.36 0.67 0.50 0.29 1.76"
      ]
     },
     "metadata": {},
     "output_type": "display_data"
    }
   ],
   "source": [
    "C <- cov(bfi[c(\"O1\", \"O2r\", \"O3\", \"O4\", \"O5r\")], use = \"pairwise.complete.obs\")\n",
    "C |> round(2)"
   ]
  },
  {
   "cell_type": "markdown",
   "id": "addba824",
   "metadata": {},
   "source": [
    "Calcoliamo il coefficiente $\\alpha$ usando l'eq. {eq}`eq-alpha-camp`:"
   ]
  },
  {
   "cell_type": "code",
   "execution_count": 11,
   "id": "494388a6",
   "metadata": {
    "vscode": {
     "languageId": "r"
    }
   },
   "outputs": [
    {
     "data": {
      "text/html": [
       "0.600172514820215"
      ],
      "text/latex": [
       "0.600172514820215"
      ],
      "text/markdown": [
       "0.600172514820215"
      ],
      "text/plain": [
       "[1] 0.6001725"
      ]
     },
     "metadata": {},
     "output_type": "display_data"
    }
   ],
   "source": [
    "p <- 5\n",
    "alpha <- (p / (p - 1)) * (1 - tr(C) / sum(C))\n",
    "alpha"
   ]
  },
  {
   "cell_type": "markdown",
   "id": "6f11c433",
   "metadata": {},
   "source": [
    "### La formula \"profetica\" di Spearman-Brown\n",
    "\n",
    "La formula profetica di Spearman-Brown è impiegata per calcolare l'affidabilità nei modelli di misurazione che utilizzano indicatori paralleli. Supponiamo di avere un test composto da $p$ item paralleli, in cui ogni item ha la stessa carica fattoriale $\\lambda$ e la stessa varianza dell'errore specifico $\\psi$, ovvero $\\lambda_1=\\lambda_2=\\dots=\\lambda_p=\\lambda$ e $\\psi_{11}=\\psi_{22}=\\dots=\\psi_{pp}=\\psi$.\n",
    "\n",
    "La proporzione di varianza nel punteggio totale del test spiegata dalla variabile latente è quindi:\n",
    "\n",
    "$$\n",
    "\\left(\\sum_i \\lambda_i \\right)^2 = (p \\lambda)^2 = p^2 \\lambda^2.\n",
    "$$\n",
    "\n",
    "Definendo l'affidabilità di un singolo item, $\\rho_1$, come\n",
    "\n",
    "$$\n",
    "\\rho_1 = \\frac{\\lambda^2}{\\lambda^2 + \\psi},\n",
    "$$\n",
    "\n",
    "per $p$ item paralleli, l'affidabilità del test, $\\rho_p$, diventa:\n",
    "\n",
    "$$\n",
    "\\begin{equation}\n",
    "\\begin{aligned}\n",
    "  \\rho_p &= \\frac{p^2 \\lambda^2}{p^2 \\lambda^2 + p \\psi} \\\\\n",
    "         &= \\frac{p \\lambda^2}{ p \\lambda^2 + \\psi} \\\\\n",
    "         &= \\frac{p \\lambda^2}{(p-1) \\lambda^2 + (\\lambda^2 + \\psi)}.\n",
    "\\end{aligned}\n",
    "\\end{equation}\n",
    "$$\n",
    "\n",
    "Sfruttando l'affidabilità di un singolo item $\\rho_1$, possiamo riformulare $\\rho_p$ come:\n",
    "\n",
    "$$\n",
    "\\begin{equation}\n",
    "\\begin{aligned}\n",
    "  \\rho_p &= \\frac{p \\rho_1}{(p-1)\\rho_1 + 1}.\n",
    "\\end{aligned}\n",
    "\\end{equation}\n",
    "$$ (eq-spearman-brown-der)\n",
    "\n",
    "Questa espressione, derivata qui sopra, mostra come l'affidabilità $\\rho_p$ di un test composto da $p$ item paralleli possa essere calcolata a partire dall'affidabilità di un singolo item. Tale formula è nota come \"formula di predizione\" di Spearman-Brown (*Spearman-Brown prophecy formula*). \n",
    "\n",
    "In contesti con item paralleli, è importante notare che le misure di affidabilità $\\omega$, $\\alpha$, e $\\rho_p$ risultano equivalenti."
   ]
  },
  {
   "attachments": {},
   "cell_type": "markdown",
   "id": "c1bf5533",
   "metadata": {},
   "source": [
    "#### Un esempio concreto\n",
    "\n",
    "Poniamoci il problema di calcolare l'attendibilità della sottoscala Openness utilizzando la formula di Spearman-Brown. Ipotizziamo dunque che gli item della scala Openness siano paralleli. La matrice di correlazione è:"
   ]
  },
  {
   "cell_type": "code",
   "execution_count": 13,
   "id": "756a8169",
   "metadata": {
    "vscode": {
     "languageId": "r"
    }
   },
   "outputs": [
    {
     "name": "stdout",
     "output_type": "stream",
     "text": [
      "           O1       O2r        O3        O4       O5r\n",
      "O1  1.0000000 0.2137348 0.3953359 0.1783758 0.2389921\n",
      "O2r 0.2137348 1.0000000 0.2615580 0.0683203 0.3248698\n",
      "O3  0.3953359 0.2615580 1.0000000 0.1945048 0.3106404\n",
      "O4  0.1783758 0.0683203 0.1945048 1.0000000 0.1790512\n",
      "O5r 0.2389921 0.3248698 0.3106404 0.1790512 1.0000000\n"
     ]
    }
   ],
   "source": [
    "R <- cor(bfi[c(\"O1\", \"O2r\", \"O3\", \"O4\", \"O5r\")], use = \"pairwise.complete.obs\")\n",
    "print(R)"
   ]
  },
  {
   "attachments": {},
   "cell_type": "markdown",
   "id": "534c5e3b",
   "metadata": {},
   "source": [
    "Seguendo {cite:t}`mcdonald2013test`, supponiamo di calcolare l'attendibilità di un singolo item ($\\rho_1$) come la correlazione media tra gli item:"
   ]
  },
  {
   "cell_type": "code",
   "execution_count": 14,
   "id": "4170c752",
   "metadata": {
    "vscode": {
     "languageId": "r"
    }
   },
   "outputs": [
    {
     "data": {
      "text/html": [
       "0.236538319550858"
      ],
      "text/latex": [
       "0.236538319550858"
      ],
      "text/markdown": [
       "0.236538319550858"
      ],
      "text/plain": [
       "[1] 0.2365383"
      ]
     },
     "metadata": {},
     "output_type": "display_data"
    }
   ],
   "source": [
    "rr <- NULL\n",
    "p <- 5\n",
    "k <- 1\n",
    "for (i in 1:p) {\n",
    "  for (j in 1:p) {\n",
    "    if (j != i) {\n",
    "      rr[k] <- R[i, j]\n",
    "    }\n",
    "    k <- k + 1\n",
    "  }\n",
    "}\n",
    "ro_1 <- mean(rr, na.rm = TRUE)\n",
    "ro_1"
   ]
  },
  {
   "attachments": {},
   "cell_type": "markdown",
   "id": "d330993d",
   "metadata": {},
   "source": [
    "Applicando la formula di Spearman-Brown, la stima dell'attendibilità del\n",
    "test diventa pari a"
   ]
  },
  {
   "cell_type": "code",
   "execution_count": 15,
   "id": "9ddf57a3",
   "metadata": {
    "vscode": {
     "languageId": "r"
    }
   },
   "outputs": [
    {
     "data": {
      "text/html": [
       "0.607707322439719"
      ],
      "text/latex": [
       "0.607707322439719"
      ],
      "text/markdown": [
       "0.607707322439719"
      ],
      "text/plain": [
       "[1] 0.6077073"
      ]
     },
     "metadata": {},
     "output_type": "display_data"
    }
   ],
   "source": [
    "(p * ro_1) / ((p - 1) * ro_1 + 1)"
   ]
  },
  {
   "attachments": {},
   "cell_type": "markdown",
   "id": "7baabbbd",
   "metadata": {},
   "source": [
    "## Commenti e considerazioni conclusive\n",
    "\n",
    "Il coefficiente $\\alpha$ di Cronbach è uno degli indici di affidabilità più diffusi in psicometria. Tuttavia, la sua efficacia dipende strettamente dalla $\\tau$-equivalenza degli item, che presuppongono un tratto latente unidimensionale. Nella pratica, questa condizione è spesso violata: molti test misurano più di un fattore, e le comunalità degli item non sono uniformi, mettendo in discussione la validità dell'ipotesi di $\\tau$-equivalenza. Se gli errori sono incorrelati, il coefficiente $\\alpha$ può sottostimare l'affidabilità; se invece gli errori sono correlati, può sovrastimarla.\n",
    "\n",
    "Data questa limitazione, l'utilizzo del coefficiente $\\omega$ di McDonald è generalmente più consigliabile. Il coefficiente $\\omega$ fornisce una stima più robusta dell'affidabilità in vari contesti, inclusi quelli con assunzioni meno restrittive rispetto alla $\\tau$-equivalenza. Altri indici come il $glb$ (*Greatest Lower Bound*), discusso da Ten Berge e Sočan (2004), e l'indice $\\beta$ di Revelle (1979), rappresentano alternative valide al coefficiente $\\alpha$, offrendo diversi vantaggi metodologici a seconda delle specifiche esigenze di misurazione e delle caratteristiche dei dati analizzati.\n"
   ]
  },
  {
   "cell_type": "markdown",
   "id": "a24aee27",
   "metadata": {},
   "source": [
    "## Session Info"
   ]
  },
  {
   "cell_type": "code",
   "execution_count": 2,
   "id": "a4edba83",
   "metadata": {
    "vscode": {
     "languageId": "r"
    }
   },
   "outputs": [
    {
     "data": {
      "text/plain": [
       "R version 4.3.2 (2023-10-31)\n",
       "Platform: aarch64-apple-darwin20 (64-bit)\n",
       "Running under: macOS Sonoma 14.3.1\n",
       "\n",
       "Matrix products: default\n",
       "BLAS:   /Library/Frameworks/R.framework/Versions/4.3-arm64/Resources/lib/libRblas.0.dylib \n",
       "LAPACK: /Library/Frameworks/R.framework/Versions/4.3-arm64/Resources/lib/libRlapack.dylib;  LAPACK version 3.11.0\n",
       "\n",
       "locale:\n",
       "[1] C\n",
       "\n",
       "time zone: Europe/Rome\n",
       "tzcode source: internal\n",
       "\n",
       "attached base packages:\n",
       "[1] stats     graphics  grDevices utils     datasets  methods   base     \n",
       "\n",
       "other attached packages:\n",
       " [1] modelsummary_1.4.5 ggokabeito_0.1.0   viridis_0.6.5      viridisLite_0.4.2 \n",
       " [5] ggpubr_0.6.0       ggExtra_0.10.1     bayesplot_1.11.1   gridExtra_2.3     \n",
       " [9] patchwork_1.2.0    semTools_0.5-6     semPlot_1.1.6      lavaan_0.6-17     \n",
       "[13] psych_2.4.1        scales_1.3.0       markdown_1.12      knitr_1.45        \n",
       "[17] lubridate_1.9.3    forcats_1.0.0      stringr_1.5.1      dplyr_1.1.4       \n",
       "[21] purrr_1.0.2        readr_2.1.5        tidyr_1.3.1        tibble_3.2.1      \n",
       "[25] ggplot2_3.4.4      tidyverse_2.0.0    here_1.0.1        \n",
       "\n",
       "loaded via a namespace (and not attached):\n",
       "  [1] rstudioapi_0.15.0  jsonlite_1.8.8     magrittr_2.0.3    \n",
       "  [4] TH.data_1.1-2      estimability_1.5   nloptr_2.0.3      \n",
       "  [7] rmarkdown_2.25     vctrs_0.6.5        minqa_1.2.6       \n",
       " [10] base64enc_0.1-3    rstatix_0.7.2      htmltools_0.5.7   \n",
       " [13] broom_1.0.5        Formula_1.2-5      htmlwidgets_1.6.4 \n",
       " [16] plyr_1.8.9         sandwich_3.1-0     emmeans_1.10.0    \n",
       " [19] zoo_1.8-12         uuid_1.2-0         igraph_2.0.2      \n",
       " [22] mime_0.12          lifecycle_1.0.4    pkgconfig_2.0.3   \n",
       " [25] Matrix_1.6-5       R6_2.5.1           fastmap_1.1.1     \n",
       " [28] shiny_1.8.0        digest_0.6.34      OpenMx_2.21.11    \n",
       " [31] fdrtool_1.2.17     colorspace_2.1-0   rprojroot_2.0.4   \n",
       " [34] Hmisc_5.1-1        fansi_1.0.6        timechange_0.3.0  \n",
       " [37] abind_1.4-5        compiler_4.3.2     withr_3.0.0       \n",
       " [40] glasso_1.11        htmlTable_2.4.2    backports_1.4.1   \n",
       " [43] carData_3.0-5      ggsignif_0.6.4     MASS_7.3-60.0.1   \n",
       " [46] corpcor_1.6.10     gtools_3.9.5       tools_4.3.2       \n",
       " [49] pbivnorm_0.6.0     foreign_0.8-86     zip_2.3.1         \n",
       " [52] httpuv_1.6.14      nnet_7.3-19        glue_1.7.0        \n",
       " [55] quadprog_1.5-8     nlme_3.1-164       promises_1.2.1    \n",
       " [58] lisrelToR_0.3      grid_4.3.2         pbdZMQ_0.3-11     \n",
       " [61] checkmate_2.3.1    cluster_2.1.6      reshape2_1.4.4    \n",
       " [64] generics_0.1.3     gtable_0.3.4       tzdb_0.4.0        \n",
       " [67] data.table_1.15.0  hms_1.1.3          car_3.1-2         \n",
       " [70] utf8_1.2.4         tables_0.9.17      sem_3.1-15        \n",
       " [73] pillar_1.9.0       IRdisplay_1.1      rockchalk_1.8.157 \n",
       " [76] later_1.3.2        splines_4.3.2      lattice_0.22-5    \n",
       " [79] survival_3.5-8     kutils_1.73        tidyselect_1.2.0  \n",
       " [82] miniUI_0.1.1.1     pbapply_1.7-2      stats4_4.3.2      \n",
       " [85] xfun_0.42          qgraph_1.9.8       arm_1.13-1        \n",
       " [88] stringi_1.8.3      boot_1.3-29        evaluate_0.23     \n",
       " [91] codetools_0.2-19   mi_1.1             cli_3.6.2         \n",
       " [94] RcppParallel_5.1.7 IRkernel_1.3.2     rpart_4.1.23      \n",
       " [97] xtable_1.8-4       repr_1.1.6         munsell_0.5.0     \n",
       "[100] Rcpp_1.0.12        coda_0.19-4.1      png_0.1-8         \n",
       "[103] XML_3.99-0.16.1    parallel_4.3.2     ellipsis_0.3.2    \n",
       "[106] jpeg_0.1-10        lme4_1.1-35.1      mvtnorm_1.2-4     \n",
       "[109] insight_0.19.8     openxlsx_4.2.5.2   crayon_1.5.2      \n",
       "[112] rlang_1.1.3        multcomp_1.4-25    mnormt_2.1.1      "
      ]
     },
     "metadata": {},
     "output_type": "display_data"
    }
   ],
   "source": [
    "sessionInfo()"
   ]
  }
 ],
 "metadata": {
  "jupytext": {
   "cell_metadata_filter": "fig.cap,tags,name,out.width,-all",
   "main_language": "R",
   "notebook_metadata_filter": "-all"
  },
  "kernelspec": {
   "display_name": "R",
   "language": "R",
   "name": "ir"
  },
  "language_info": {
   "codemirror_mode": "r",
   "file_extension": ".r",
   "mimetype": "text/x-r-source",
   "name": "R",
   "pygments_lexer": "r",
   "version": "4.3.3"
  }
 },
 "nbformat": 4,
 "nbformat_minor": 5
}
