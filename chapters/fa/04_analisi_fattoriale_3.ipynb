{
 "cells": [
  {
   "attachments": {},
   "cell_type": "markdown",
   "id": "3d6d81b5",
   "metadata": {},
   "source": [
    "# Il modello multifattoriale {#sec-fa-model-1}"
   ]
  },
  {
   "cell_type": "markdown",
   "id": "210f4f59",
   "metadata": {},
   "source": [
    "**Prerequisiti**\n",
    "\n",
    "- Leggere il capitolo 6, *Factor Analysis and Principal Component Analysis*, del testo *Principles of psychological assessment* di @petersen2024principles. \n",
    "\n",
    "**Concetti e Competenze Chiave**\n",
    "\n",
    "- Correlazione parziale\n",
    "- Teoria dei due fattori\n",
    "- Annullamento della tetrade\n",
    "\n",
    "**Preparazione del Notebook**"
   ]
  },
  {
   "cell_type": "code",
   "execution_count": 2,
   "id": "2de5da7a",
   "metadata": {
    "vscode": {
     "languageId": "r"
    }
   },
   "outputs": [],
   "source": [
    "# Carica il file _common.R per impostazioni di pacchetti e opzioni\n",
    "here::here(\"code\", \"_common.R\") |> source()\n",
    "\n",
    "# Carica pacchetti aggiuntivi\n",
    "pacman::p_load(lavaan, semPlot, corrplot, tidyr, tidySEM, kableExtra)"
   ]
  },
  {
   "attachments": {},
   "cell_type": "markdown",
   "id": "bed86c26",
   "metadata": {},
   "source": [
    "## Fattori ortogonali\n",
    "\n",
    "La teoria dei due fattori ha orientato per diversi anni le ricerche\n",
    "sull'intelligenza, finché Thurstone (1945) non propose una sua modifica,\n",
    "conosciuta come teoria multifattoriale. Secondo Thurstone la\n",
    "covariazione tra le variabili manifeste non può essere spiegata da un\n",
    "unico fattore generale. Invece è necessario ipotizzare l'azione causale\n",
    "di diversi fattori, definiti comuni, i quali si riferiscono solo ad\n",
    "alcune delle variabili considerate.\n",
    "\n",
    "Il modello plurifattoriale assume che ciascuna variabile manifesta sia\n",
    "espressa come funzione lineare di un certo numero $m$ di fattori comuni,\n",
    "$\\xi_1, \\xi_2, \\dots, \\xi_m$, responsabili della correlazione con le\n",
    "altre variabili, e di un solo fattore specifico (termine d'errore),\n",
    "responsabile della variabilità della variabile stessa. Per $p$ variabili\n",
    "manifeste, $Y_1, Y_2, \\dots, Y_p$, il modello fattoriale diventa quello\n",
    "indicato dal sistema di equazioni lineari descritto di seguito.\n",
    "Idealmente, $m$ dovrebbe essere molto più piccolo di $p$ così da\n",
    "consentire una descrizione parsimoniosa delle variabili manifeste in\n",
    "funzione di pochi fattori soggiacenti.\n",
    "\n",
    "Le variabili manifeste $Y$ sono indicizzate da $i = 1, \\dots, p.$ Le\n",
    "variabili latenti $\\xi$ (fattori) sono indicizzate da $j = 1, \\dots, m.$\n",
    "I fattori specifici $\\delta$ sono indicizzati da $i = 1, \\dots, p.$ Le\n",
    "saturazioni fattoriali si distinguono dunque tramite due indici, $i$ e\n",
    "$j$: il primo indice si riferisce alle variabili manifeste, il secondo\n",
    "si riferisce ai fattori latenti.\n",
    "\n",
    "Indichiamo con $\\mu_i$, con $i=1, \\dots, p$ le medie delle $p$ variabili\n",
    "manifeste $Y_1, Y_2, \\dots, Y_p$. Se non vi è alcun effetto delle\n",
    "variabili comuni latenti, allora la variabile $Y_{ijk}$, dove $k$ è\n",
    "l'indice usato per i soggetti, sarà uguale a:\n",
    "\n",
    "$$\n",
    "\\begin{equation}\n",
    "\\begin{cases} \n",
    "  Y_{1k}    &= \\mu_1 + \\delta_{1k} \\\\\n",
    "&\\vdots\\\\\n",
    "Y_{ik}   &= \\mu_i + \\delta_{ik}\\\\\n",
    "&\\vdots\\\\\n",
    "Y_{pk}   &= \\mu_p + \\delta_{pk} \\notag\n",
    "\\end{cases}\n",
    "\\end{equation}\n",
    "$$\n",
    "\n",
    "Se invece le variabili manifeste rappresentano la somma\n",
    "dell'effetto causale di $m$ fattori comuni e di $p$ fattori specifici,\n",
    "allora possiamo scrivere: \n",
    "\n",
    "$$\n",
    "\\begin{equation}\n",
    "\\begin{cases} \n",
    "  Y_1  - \\mu_1  &= \\lambda_{11}\\xi_1 + \\dots + \\lambda_{1k}\\xi_k \\dots +\\lambda_{1m}\\xi_m + \\delta_1 \\\\\n",
    "&\\vdots\\\\\n",
    "Y_i -  \\mu_i  &= \\lambda_{i1}\\xi_1 + \\dots +  \\lambda_{ik}\\xi_k \\dots +\\lambda_{im}\\xi_m + \\delta_i\\\\\n",
    "&\\vdots\\\\\n",
    "Y_p - \\mu_p  &= \\lambda_{p1}\\xi_1 + \\dots +  \\lambda_{pk}\\xi_k \\dots +\\lambda_{pm}\\xi_m + \\delta_p \\notag\n",
    "\\end{cases}\n",
    "\\end{equation}\n",
    "$$\n",
    "\n",
    "Nel precedente sistema di equazioni lineari,\n",
    "\n",
    "-   $\\xi_j$, con $j=1, \\dots, m$, rappresenta la $j$-esima variabile\n",
    "    inosservabile a fattore comune (ossia il $j$-esimo fattore comune a\n",
    "    tutte le variabili $Y_i$);\n",
    "-   $\\lambda_{ij}$ rappresenta il parametro, detto *saturazione* o\n",
    "    *peso* fattoriale, che riflette l'importanza del $j$-esimo fattore\n",
    "    comune nella composizione della $i$-esima variabile osservabile;\n",
    "-   $\\delta_i$ rappresenta il fattore specifico (o unico) di ogni\n",
    "    variabile manifesta $Y_i$.\n",
    "\n",
    "In conclusione, secondo il modello multifattoriale, le variabili\n",
    "manifeste $Y_i$, con $i=1, \\dots, p$, sono il risultato di una\n",
    "*combinazione lineare* di $m < p$ fattori inosservabili ad esse comuni\n",
    "$\\xi_j$, con $j=1, \\dots, m$, e di $p$ fattori specifici $\\delta_i$, con\n",
    "$i=1, \\dots, p$, anch'essi inosservabili e di natura residua.\n",
    "\n",
    "### Assunzioni del modello multifattoriale\n",
    "\n",
    "Le variabili inosservabili a fattore comune $\\xi_j$, con\n",
    "$j=1, \\dots, m$, in quanto latenti, non possiedono unità di misura.\n",
    "Pertanto, per semplicità si assume che abbiano media zero,\n",
    "$\\mathbb{E}(\\xi_j)=0$, abbiano varianza unitaria,\n",
    "$\\mathbb{V} (\\xi_j)= \\mathbb{E}(\\xi_j^2) - [\\mathbb{E}(\\xi_j)]^2=1$, e siano incorrelate\n",
    "tra loro, $Cov(\\xi_j, \\xi_h)=0$, con $j, h = 1, \\dots, m; \\;j \\neq h$.\n",
    "Si assume inoltre che le variabili a fattore specifico $\\delta_i$ siano\n",
    "tra loro incorrelate, $Cov(\\delta_i,\\delta_k)=0$, con\n",
    "$i, k = 1, \\dots, p, \\; i \\neq k$, abbiano media zero,\n",
    "$\\mathbb{E}(\\delta_i)=0$, e varianza uguale a $\\mathbb{V} (\\delta_i) = \\psi_{ii}$.\n",
    "La varianza $\\psi_{ii}$ è detta *varianza specifica* o *unicità* della\n",
    "$i$-esima variabile manifesta $Y_i$. Si assume infine che i fattori\n",
    "specifici siano linearmente incorrelati con i fattori comuni, ovvero\n",
    "$Cov(\\xi_j, \\delta_i)=0$ per ogni $j=1, \\dots, m$ e per ogni\n",
    "$i=1\\dots,p$.\n",
    "\n",
    "### Interpretazione dei parametri del modello\n",
    "\n",
    "#### Covarianza tra variabili e fattori\n",
    "\n",
    "Nell'ipotesi che le variabili $Y_i$ abbiano media nulla, la covarianza\n",
    "tra $Y_i$ e $\\xi_j$ è uguale alla saturazione fattoriale $\\lambda_{ij}$:\n",
    "\n",
    "$$\n",
    "\\begin{equation}\n",
    "\\begin{aligned}\n",
    "  Cov(Y_i, \\xi_j) &= \\mathbb{E}(Y_i \\xi_j)\\notag\\\\\n",
    "  &=\\mathbb{E}\\left[(\\lambda_{i1} \\xi_1 + \\dots + \\lambda_{im} \\xi_m + \\delta_i)\\xi_j \\right]\\notag\\\\\n",
    "  &= \\lambda_{i1}\\underbrace{\\mathbb{E}(\\xi_1\\xi_j)}_{=0} + \\dots + \n",
    "\\lambda_{ij}\\underbrace{\\mathbb{E}(\\xi_j^2)}_{=1} + \\dots \\notag\\\\\n",
    "& \\; + \\lambda_{im}\\underbrace{\\mathbb{E}(\\xi_m\\xi_j)}_{=0} +\n",
    "  \\underbrace{\\mathbb{E}(\\delta_i \\xi_j)}_{=0}\\notag\\\\\n",
    "  &= \\lambda_{ij}.\\notag\n",
    "\\end{aligned}\n",
    "\\end{equation}\n",
    "$$\n",
    "\n",
    "Anche nel modello multifattoriale, dunque, le saturazioni fattoriali rappresentano le covarianze tra le variabili e i fattori:\n",
    "\n",
    "$$\n",
    "Cov(Y_i, \\xi_j) = \\lambda_{ij} \\qquad i=1, \\dots, p; \\quad j= 1, \\dots, m. \n",
    "$$\n",
    "\n",
    "Naturalmente, se le variabili sono standardizzate, le saturazioni fattoriali diventano correlazioni: \n",
    "\n",
    "$$\n",
    "r_{ij} = \\lambda_{ij}. \n",
    "$$\n",
    "\n",
    "#### Espressione fattoriale della varianza\n",
    "\n",
    "Come nel modello monofattoriale, la varianza delle variabili manifeste\n",
    "si decompone in una componente dovuta ai fattori comuni, chiamata\n",
    "*comunalità*, e in una componente specifica alle $Y_i$, chiamata\n",
    "*unicità*. Nell'ipotesi che le variabili $Y_i$ abbiano media nulla, la\n",
    "varianza di $Y_i$ è uguale a \n",
    "\n",
    "$$\n",
    "\\begin{aligned}\n",
    "  \\mathbb{V} (Y_i) \n",
    "  &=\\mathbb{E}\\left[ (\\lambda_{i1} \\xi_1 + \\dots +\n",
    "    \\lambda_{im} \\xi_m + \\delta_i)^2 \\right].\n",
    "\\end{aligned}\n",
    "$$ {#eq-var-multifatt}\n",
    "\n",
    "Come si sviluppa il polinomio precedente? Il quadrato di un polinomio è uguale alla somma\n",
    "dei quadrati di tutti i termini più il doppio prodotto di ogni termine\n",
    "per ciascuno di quelli che lo seguono. Il valore atteso del quadrato del\n",
    "primo termine è uguale a $\\lambda_{i1}^2\\mathbb{E}(\\xi_1^2)$ ma, essendo la\n",
    "varianza di $\\xi_1$ uguale a $1$, otteniamo semplicemente\n",
    "$\\lambda_{i1}^2$. Lo stesso vale per i quadrati di tutti i termini\n",
    "seguenti tranne l'ultimo. Infatti, $\\mathbb{E}(\\delta_i^2)=\\psi_{ii}$. Per quel\n",
    "che riguarda i doppi prodotti, sono tutti nulli. In primo luogo perché,\n",
    "nel caso di fattori ortogonali, la covarianza tra i fattori comuni è\n",
    "nulla, $\\mathbb{E}(\\xi_j \\xi_h)=0$, con $j \\neq h$. In secondo luogo perché il\n",
    "fattori comuni cono incorrelati con i fattori specifici, quindi\n",
    "$\\mathbb{E}(\\delta_i \\xi_j)=0$.\n",
    "\n",
    "In conclusione, \n",
    "\n",
    "$$\n",
    "\\begin{aligned}\n",
    "  \\mathbb{V}(Y_i) &= \\lambda_{i1}^2 + \\lambda_{i2}^2 + \\dots + \\lambda_{im}^2 + \\psi_{ii} \\notag\\\\\n",
    "  &= \\sum_{j=1}^m \\lambda_{ij}^2 + \\psi_{ii}\\notag\\\\\n",
    "  &= h_i^2 + \\psi_{ii}\\notag\\\\\n",
    "  &=\\text{communalità} + \\text{unicità},\\notag\n",
    "\\end{aligned}\n",
    "$$\n",
    "  \n",
    "la varianza della variabile manifesta $Y_i$ è suddivisa in due parti: il\n",
    "primo addendo è definito comunalità poiché rappresenta la parte di\n",
    "variabilità della $Y_i$ spiegata dai fattori comuni; il secondo addendo\n",
    "è invece definito varianza specifica (o unicità) poiché esprime la parte\n",
    "di variabilità della $Y_i$ non spiegata dai fattori comuni.\n",
    "\n",
    "#### Espressione fattoriale della covarianza\n",
    "\n",
    "Quale esempio, consideriamo il caso di $p=5$ variabili osservabili e\n",
    "$m=2$ fattori ortogonali. Se le variabili manifeste sono 'centrate'\n",
    "(ovvero, se a ciascuna di esse sottraiamo la rispettiva media), allora\n",
    "il modello multifattoriale diventa \n",
    "\n",
    "$$\n",
    "\\begin{aligned}\n",
    "  Y_1 &= \\lambda_{11} \\xi_1 + \\lambda_{12} \\xi_2 + \\delta_1,\\notag\\\\\n",
    "  Y_2 &= \\lambda_{21} \\xi_1 + \\lambda_{22} \\xi_2 + \\delta_2,\\notag\\\\\n",
    "  Y_3 &= \\lambda_{31} \\xi_1 + \\lambda_{32} \\xi_2 + \\delta_3,\\notag\\\\\n",
    "  Y_4 &= \\lambda_{41} \\xi_1 + \\lambda_{42} \\xi_2 + \\delta_4,\\notag\\\\\n",
    "  Y_5 &= \\lambda_{51} \\xi_1 + \\lambda_{52} \\xi_2 + \\delta_5.\\notag\n",
    "\\end{aligned}\n",
    "$$\n",
    "\n",
    "Nell'ipotesi che le variabili $Y_i$ abbiano media nulla, la\n",
    "covarianza tra $Y_1$ e $Y_2$, ad esempio, è uguale a: \n",
    "\n",
    "$$\n",
    "\\begin{aligned}\n",
    "  Cov(Y_1, Y_2) &= \\mathbb{E}\\left( Y_1 Y_2\\right) \\notag\\\\\n",
    "  &= \\mathbb{E}\\left[ \n",
    "  (\\lambda_{11} \\xi_1 + \\lambda_{12} \\xi_2 + \\delta_1)\n",
    "   (\\lambda_{21} \\xi_1 + \\lambda_{22} \\xi_2 +  \\delta_2)\n",
    "  \\right]\\notag\\\\\n",
    "  &= \\lambda_{11} \\lambda_{21} \\mathbb{E}(\\xi_1^2) +\n",
    "      \\lambda_{11} \\lambda_{22} \\mathbb{E}(\\xi_1 \\xi_2) +\\notag \n",
    "      \\lambda_{11} \\mathbb{E}(\\xi_1 \\delta_2) +\\notag\\\\\n",
    "    &\\quad \\lambda_{12} \\lambda_{21}\\mathbb{E}(\\xi_1 \\xi_2)\\, + \n",
    "      \\lambda_{12} \\lambda_{22}\\mathbb{E}(\\xi^2_2)\\, + \n",
    "      \\lambda_{12} \\mathbb{E}(\\xi_2\\delta_2) +\\notag\\\\\n",
    "    &\\quad \\lambda_{21} \\mathbb{E}(\\xi_1\\delta_1) +\\notag \n",
    "     \\lambda_{22} \\mathbb{E}(\\xi_2\\delta_1) + \\mathbb{E}(\\delta_1 \\delta_2)\\notag\\\\\n",
    "   &= \\lambda_{11} \\lambda_{21} + \\lambda_{12} \\lambda_{22}.\\notag\n",
    "\\end{aligned}\n",
    "$$\n",
    "\n",
    "In conclusione, la covarianza tra le variabili manifeste $Y_l$ e $Y_m$\n",
    "riprodotta dal modello è data dalla somma dei prodotti delle saturazioni\n",
    "$\\lambda_l \\lambda_m$ nei due fattori.\n",
    "\n",
    "**Esempio.** Consideriamo i dati riportati da @brown2015confirmatory, ovvero otto misure di personalità raccolte su un campione di 250 pazienti che hanno concluso un programma di psicoterapia. Le scale sono le seguenti:\n",
    "\n",
    "- anxiety (N1), \n",
    "- hostility (N2), \n",
    "- depression (N3), \n",
    "- self-consciousness (N4), \n",
    "- warmth (E1), \n",
    "- gregariousness (E2), \n",
    "- assertiveness (E3), \n",
    "- positive emotions (E4). "
   ]
  },
  {
   "cell_type": "code",
   "execution_count": 3,
   "id": "d8b2d4d6",
   "metadata": {
    "vscode": {
     "languageId": "r"
    }
   },
   "outputs": [],
   "source": [
    "varnames <- c(\"N1\", \"N2\", \"N3\", \"N4\", \"E1\", \"E2\", \"E3\", \"E4\")\n",
    "sds <- '5.7  5.6  6.4  5.7  6.0  6.2  5.7  5.6'\n",
    "\n",
    "cors <- '\n",
    "    1.000\n",
    "    0.767  1.000 \n",
    "    0.731  0.709  1.000 \n",
    "    0.778  0.738  0.762  1.000 \n",
    "    -0.351  -0.302  -0.356  -0.318  1.000 \n",
    "    -0.316  -0.280  -0.300  -0.267  0.675  1.000 \n",
    "    -0.296  -0.289  -0.297  -0.296  0.634  0.651  1.000 \n",
    "    -0.282  -0.254  -0.292  -0.245  0.534  0.593  0.566  1.000\n",
    "'\n",
    "\n",
    "psychot_cor_mat <- getCov(cors, names = varnames)\n",
    "n <- 250"
   ]
  },
  {
   "attachments": {},
   "cell_type": "markdown",
   "id": "1d8951e8",
   "metadata": {},
   "source": [
    "Eseguiamo l'analisi fattoriale esplorativa con il metodo della massima verosimiglianza ipotizzando due fattori comuni incorrelati:"
   ]
  },
  {
   "cell_type": "code",
   "execution_count": 4,
   "id": "d5da3a92",
   "metadata": {
    "vscode": {
     "languageId": "r"
    }
   },
   "outputs": [],
   "source": [
    "n_facs <- 2\n",
    "fit_efa <- factanal(\n",
    "  covmat = psychot_cor_mat,\n",
    "  factors = n_facs,\n",
    "  rotation = \"varimax\",\n",
    "  n.obs = n\n",
    ")"
   ]
  },
  {
   "attachments": {},
   "cell_type": "markdown",
   "id": "70000970",
   "metadata": {},
   "source": [
    "Esaminiamo le saturazioni fattoriali:"
   ]
  },
  {
   "cell_type": "code",
   "execution_count": 5,
   "id": "160aafec",
   "metadata": {
    "vscode": {
     "languageId": "r"
    }
   },
   "outputs": [
    {
     "name": "stdout",
     "output_type": "stream",
     "text": [
      "\n",
      "Loadings:\n",
      "   Factor1 Factor2\n",
      "N1  0.854  -0.228 \n",
      "N2  0.826  -0.194 \n",
      "N3  0.811  -0.233 \n",
      "N4  0.865  -0.186 \n",
      "E1 -0.202   0.773 \n",
      "E2 -0.139   0.829 \n",
      "E3 -0.158   0.771 \n",
      "E4 -0.147   0.684 \n",
      "\n",
      "               Factor1 Factor2\n",
      "SS loadings      2.923   2.526\n",
      "Proportion Var   0.365   0.316\n",
      "Cumulative Var   0.365   0.681\n"
     ]
    }
   ],
   "source": [
    "lambda <- fit_efa$loadings\n",
    "print(lambda)"
   ]
  },
  {
   "attachments": {},
   "cell_type": "markdown",
   "id": "99c50c84",
   "metadata": {},
   "source": [
    "La soluzione fattoriale conferma la presenza di due fattori: il primo fattore satura sulle scale di neutoricismo, il secono sulle scale di estroversione.\n",
    "\n",
    "La correlazione riprodotta $r_{12}$ è uguale a $\\lambda_{11}\\lambda_{21} + \\lambda_{12}\\lambda_{22}$ "
   ]
  },
  {
   "cell_type": "code",
   "execution_count": 6,
   "id": "922db63d",
   "metadata": {
    "vscode": {
     "languageId": "r"
    }
   },
   "outputs": [
    {
     "data": {
      "text/html": [
       "0.749284399375181"
      ],
      "text/latex": [
       "0.749284399375181"
      ],
      "text/markdown": [
       "0.749284399375181"
      ],
      "text/plain": [
       "[1] 0.7492844"
      ]
     },
     "metadata": {},
     "output_type": "display_data"
    }
   ],
   "source": [
    "lambda[1, 1] * lambda[2, 1] + lambda[1, 2] * lambda[2, 2]"
   ]
  },
  {
   "attachments": {},
   "cell_type": "markdown",
   "id": "24fd8a88",
   "metadata": {},
   "source": [
    "e corrisponde da vicino alla correlazione osservata 0.767.\n",
    "\n",
    "L'intera matrice di correlazioni riprodotte è\n",
    "$\\boldsymbol{\\Lambda} \\boldsymbol{\\Lambda}^{\\mathsf{T}} + \\boldsymbol{\\psi}$:"
   ]
  },
  {
   "cell_type": "code",
   "execution_count": 7,
   "id": "c71edbe4",
   "metadata": {
    "vscode": {
     "languageId": "r"
    }
   },
   "outputs": [
    {
     "data": {
      "text/html": [
       "<table class=\"dataframe\">\n",
       "<caption>A matrix: 8 x 8 of type dbl</caption>\n",
       "<thead>\n",
       "\t<tr><th></th><th scope=col>N1</th><th scope=col>N2</th><th scope=col>N3</th><th scope=col>N4</th><th scope=col>E1</th><th scope=col>E2</th><th scope=col>E3</th><th scope=col>E4</th></tr>\n",
       "</thead>\n",
       "<tbody>\n",
       "\t<tr><th scope=row>N1</th><td> 1.000</td><td> 0.749</td><td> 0.745</td><td> 0.781</td><td>-0.348</td><td>-0.307</td><td>-0.311</td><td>-0.281</td></tr>\n",
       "\t<tr><th scope=row>N2</th><td> 0.749</td><td> 1.000</td><td> 0.715</td><td> 0.751</td><td>-0.317</td><td>-0.276</td><td>-0.281</td><td>-0.254</td></tr>\n",
       "\t<tr><th scope=row>N3</th><td> 0.745</td><td> 0.715</td><td> 1.000</td><td> 0.745</td><td>-0.344</td><td>-0.306</td><td>-0.308</td><td>-0.279</td></tr>\n",
       "\t<tr><th scope=row>N4</th><td> 0.781</td><td> 0.751</td><td> 0.745</td><td> 1.000</td><td>-0.318</td><td>-0.274</td><td>-0.280</td><td>-0.254</td></tr>\n",
       "\t<tr><th scope=row>E1</th><td>-0.348</td><td>-0.317</td><td>-0.344</td><td>-0.318</td><td> 1.000</td><td> 0.669</td><td> 0.628</td><td> 0.558</td></tr>\n",
       "\t<tr><th scope=row>E2</th><td>-0.307</td><td>-0.276</td><td>-0.306</td><td>-0.274</td><td> 0.669</td><td> 1.000</td><td> 0.661</td><td> 0.587</td></tr>\n",
       "\t<tr><th scope=row>E3</th><td>-0.311</td><td>-0.281</td><td>-0.308</td><td>-0.280</td><td> 0.628</td><td> 0.661</td><td> 1.000</td><td> 0.550</td></tr>\n",
       "\t<tr><th scope=row>E4</th><td>-0.281</td><td>-0.254</td><td>-0.279</td><td>-0.254</td><td> 0.558</td><td> 0.587</td><td> 0.550</td><td> 1.000</td></tr>\n",
       "</tbody>\n",
       "</table>\n"
      ],
      "text/latex": [
       "A matrix: 8 x 8 of type dbl\n",
       "\\begin{tabular}{r|llllllll}\n",
       "  & N1 & N2 & N3 & N4 & E1 & E2 & E3 & E4\\\\\n",
       "\\hline\n",
       "\tN1 &  1.000 &  0.749 &  0.745 &  0.781 & -0.348 & -0.307 & -0.311 & -0.281\\\\\n",
       "\tN2 &  0.749 &  1.000 &  0.715 &  0.751 & -0.317 & -0.276 & -0.281 & -0.254\\\\\n",
       "\tN3 &  0.745 &  0.715 &  1.000 &  0.745 & -0.344 & -0.306 & -0.308 & -0.279\\\\\n",
       "\tN4 &  0.781 &  0.751 &  0.745 &  1.000 & -0.318 & -0.274 & -0.280 & -0.254\\\\\n",
       "\tE1 & -0.348 & -0.317 & -0.344 & -0.318 &  1.000 &  0.669 &  0.628 &  0.558\\\\\n",
       "\tE2 & -0.307 & -0.276 & -0.306 & -0.274 &  0.669 &  1.000 &  0.661 &  0.587\\\\\n",
       "\tE3 & -0.311 & -0.281 & -0.308 & -0.280 &  0.628 &  0.661 &  1.000 &  0.550\\\\\n",
       "\tE4 & -0.281 & -0.254 & -0.279 & -0.254 &  0.558 &  0.587 &  0.550 &  1.000\\\\\n",
       "\\end{tabular}\n"
      ],
      "text/markdown": [
       "\n",
       "A matrix: 8 x 8 of type dbl\n",
       "\n",
       "| <!--/--> | N1 | N2 | N3 | N4 | E1 | E2 | E3 | E4 |\n",
       "|---|---|---|---|---|---|---|---|---|\n",
       "| N1 |  1.000 |  0.749 |  0.745 |  0.781 | -0.348 | -0.307 | -0.311 | -0.281 |\n",
       "| N2 |  0.749 |  1.000 |  0.715 |  0.751 | -0.317 | -0.276 | -0.281 | -0.254 |\n",
       "| N3 |  0.745 |  0.715 |  1.000 |  0.745 | -0.344 | -0.306 | -0.308 | -0.279 |\n",
       "| N4 |  0.781 |  0.751 |  0.745 |  1.000 | -0.318 | -0.274 | -0.280 | -0.254 |\n",
       "| E1 | -0.348 | -0.317 | -0.344 | -0.318 |  1.000 |  0.669 |  0.628 |  0.558 |\n",
       "| E2 | -0.307 | -0.276 | -0.306 | -0.274 |  0.669 |  1.000 |  0.661 |  0.587 |\n",
       "| E3 | -0.311 | -0.281 | -0.308 | -0.280 |  0.628 |  0.661 |  1.000 |  0.550 |\n",
       "| E4 | -0.281 | -0.254 | -0.279 | -0.254 |  0.558 |  0.587 |  0.550 |  1.000 |\n",
       "\n"
      ],
      "text/plain": [
       "   N1     N2     N3     N4     E1     E2     E3     E4    \n",
       "N1  1.000  0.749  0.745  0.781 -0.348 -0.307 -0.311 -0.281\n",
       "N2  0.749  1.000  0.715  0.751 -0.317 -0.276 -0.281 -0.254\n",
       "N3  0.745  0.715  1.000  0.745 -0.344 -0.306 -0.308 -0.279\n",
       "N4  0.781  0.751  0.745  1.000 -0.318 -0.274 -0.280 -0.254\n",
       "E1 -0.348 -0.317 -0.344 -0.318  1.000  0.669  0.628  0.558\n",
       "E2 -0.307 -0.276 -0.306 -0.274  0.669  1.000  0.661  0.587\n",
       "E3 -0.311 -0.281 -0.308 -0.280  0.628  0.661  1.000  0.550\n",
       "E4 -0.281 -0.254 -0.279 -0.254  0.558  0.587  0.550  1.000"
      ]
     },
     "metadata": {},
     "output_type": "display_data"
    }
   ],
   "source": [
    "Rr <- lambda %*% t(lambda) + diag(fit_efa$uniq)\n",
    "Rr %>% \n",
    "  round(3)"
   ]
  },
  {
   "attachments": {},
   "cell_type": "markdown",
   "id": "41aab4e4",
   "metadata": {},
   "source": [
    "La differenza tra la matrice di correlazioni riprodotte e la matrice di\n",
    "correlazioni osservate è uguale a:"
   ]
  },
  {
   "cell_type": "code",
   "execution_count": 8,
   "id": "4fc58583",
   "metadata": {
    "lines_to_next_cell": 0,
    "vscode": {
     "languageId": "r"
    }
   },
   "outputs": [
    {
     "data": {
      "text/html": [
       "<table class=\"dataframe\">\n",
       "<caption>A matrix: 8 x 8 of type dbl</caption>\n",
       "<thead>\n",
       "\t<tr><th></th><th scope=col>N1</th><th scope=col>N2</th><th scope=col>N3</th><th scope=col>N4</th><th scope=col>E1</th><th scope=col>E2</th><th scope=col>E3</th><th scope=col>E4</th></tr>\n",
       "</thead>\n",
       "<tbody>\n",
       "\t<tr><th scope=row>N1</th><td> 0.000</td><td> 0.018</td><td>-0.014</td><td>-0.003</td><td>-0.003</td><td>-0.009</td><td> 0.015</td><td>-0.001</td></tr>\n",
       "\t<tr><th scope=row>N2</th><td> 0.018</td><td> 0.000</td><td>-0.006</td><td>-0.013</td><td> 0.015</td><td>-0.004</td><td>-0.008</td><td> 0.000</td></tr>\n",
       "\t<tr><th scope=row>N3</th><td>-0.014</td><td>-0.006</td><td> 0.000</td><td> 0.017</td><td>-0.012</td><td> 0.006</td><td> 0.011</td><td>-0.013</td></tr>\n",
       "\t<tr><th scope=row>N4</th><td>-0.003</td><td>-0.013</td><td> 0.017</td><td> 0.000</td><td> 0.000</td><td> 0.007</td><td>-0.016</td><td> 0.009</td></tr>\n",
       "\t<tr><th scope=row>E1</th><td>-0.003</td><td> 0.015</td><td>-0.012</td><td> 0.000</td><td> 0.000</td><td> 0.006</td><td> 0.006</td><td>-0.024</td></tr>\n",
       "\t<tr><th scope=row>E2</th><td>-0.009</td><td>-0.004</td><td> 0.006</td><td> 0.007</td><td> 0.006</td><td> 0.000</td><td>-0.010</td><td> 0.006</td></tr>\n",
       "\t<tr><th scope=row>E3</th><td> 0.015</td><td>-0.008</td><td> 0.011</td><td>-0.016</td><td> 0.006</td><td>-0.010</td><td> 0.000</td><td> 0.016</td></tr>\n",
       "\t<tr><th scope=row>E4</th><td>-0.001</td><td> 0.000</td><td>-0.013</td><td> 0.009</td><td>-0.024</td><td> 0.006</td><td> 0.016</td><td> 0.000</td></tr>\n",
       "</tbody>\n",
       "</table>\n"
      ],
      "text/latex": [
       "A matrix: 8 x 8 of type dbl\n",
       "\\begin{tabular}{r|llllllll}\n",
       "  & N1 & N2 & N3 & N4 & E1 & E2 & E3 & E4\\\\\n",
       "\\hline\n",
       "\tN1 &  0.000 &  0.018 & -0.014 & -0.003 & -0.003 & -0.009 &  0.015 & -0.001\\\\\n",
       "\tN2 &  0.018 &  0.000 & -0.006 & -0.013 &  0.015 & -0.004 & -0.008 &  0.000\\\\\n",
       "\tN3 & -0.014 & -0.006 &  0.000 &  0.017 & -0.012 &  0.006 &  0.011 & -0.013\\\\\n",
       "\tN4 & -0.003 & -0.013 &  0.017 &  0.000 &  0.000 &  0.007 & -0.016 &  0.009\\\\\n",
       "\tE1 & -0.003 &  0.015 & -0.012 &  0.000 &  0.000 &  0.006 &  0.006 & -0.024\\\\\n",
       "\tE2 & -0.009 & -0.004 &  0.006 &  0.007 &  0.006 &  0.000 & -0.010 &  0.006\\\\\n",
       "\tE3 &  0.015 & -0.008 &  0.011 & -0.016 &  0.006 & -0.010 &  0.000 &  0.016\\\\\n",
       "\tE4 & -0.001 &  0.000 & -0.013 &  0.009 & -0.024 &  0.006 &  0.016 &  0.000\\\\\n",
       "\\end{tabular}\n"
      ],
      "text/markdown": [
       "\n",
       "A matrix: 8 x 8 of type dbl\n",
       "\n",
       "| <!--/--> | N1 | N2 | N3 | N4 | E1 | E2 | E3 | E4 |\n",
       "|---|---|---|---|---|---|---|---|---|\n",
       "| N1 |  0.000 |  0.018 | -0.014 | -0.003 | -0.003 | -0.009 |  0.015 | -0.001 |\n",
       "| N2 |  0.018 |  0.000 | -0.006 | -0.013 |  0.015 | -0.004 | -0.008 |  0.000 |\n",
       "| N3 | -0.014 | -0.006 |  0.000 |  0.017 | -0.012 |  0.006 |  0.011 | -0.013 |\n",
       "| N4 | -0.003 | -0.013 |  0.017 |  0.000 |  0.000 |  0.007 | -0.016 |  0.009 |\n",
       "| E1 | -0.003 |  0.015 | -0.012 |  0.000 |  0.000 |  0.006 |  0.006 | -0.024 |\n",
       "| E2 | -0.009 | -0.004 |  0.006 |  0.007 |  0.006 |  0.000 | -0.010 |  0.006 |\n",
       "| E3 |  0.015 | -0.008 |  0.011 | -0.016 |  0.006 | -0.010 |  0.000 |  0.016 |\n",
       "| E4 | -0.001 |  0.000 | -0.013 |  0.009 | -0.024 |  0.006 |  0.016 |  0.000 |\n",
       "\n"
      ],
      "text/plain": [
       "   N1     N2     N3     N4     E1     E2     E3     E4    \n",
       "N1  0.000  0.018 -0.014 -0.003 -0.003 -0.009  0.015 -0.001\n",
       "N2  0.018  0.000 -0.006 -0.013  0.015 -0.004 -0.008  0.000\n",
       "N3 -0.014 -0.006  0.000  0.017 -0.012  0.006  0.011 -0.013\n",
       "N4 -0.003 -0.013  0.017  0.000  0.000  0.007 -0.016  0.009\n",
       "E1 -0.003  0.015 -0.012  0.000  0.000  0.006  0.006 -0.024\n",
       "E2 -0.009 -0.004  0.006  0.007  0.006  0.000 -0.010  0.006\n",
       "E3  0.015 -0.008  0.011 -0.016  0.006 -0.010  0.000  0.016\n",
       "E4 -0.001  0.000 -0.013  0.009 -0.024  0.006  0.016  0.000"
      ]
     },
     "metadata": {},
     "output_type": "display_data"
    }
   ],
   "source": [
    "(psychot_cor_mat - Rr) %>% \n",
    "  round(3)"
   ]
  },
  {
   "attachments": {},
   "cell_type": "markdown",
   "id": "e9181667",
   "metadata": {},
   "source": [
    "## Fattori obliqui\n",
    "\n",
    "Anche nel caso di fattori comuni correlati è possibile esprimere nei\n",
    "termini dei parametri del modello la covarianza teorica tra una\n",
    "variabile manifesta $Y_i$ e uno dei fattori comuni, la covarianza\n",
    "teorica tra due variabili manifeste, e la comunalità di ciascuna\n",
    "variabile manifesta. Dato però che i fattori comuni risultano correlati,\n",
    "l'espressione fattoriale di tali quantità è più complessa che nel caso\n",
    "di fattori comuni ortogonali.\n",
    "\n",
    "### Covarianza teorica tra variabili e fattori\n",
    "\n",
    "In base al modello multifattoriale con $m$ fattori comuni la variabile\n",
    "$Y_i$ è\n",
    "\n",
    "$$\n",
    "Y_i = \\lambda_{i1} \\xi_1 + \\dots + \\lambda_{im} \\xi_m + \\delta_i.\n",
    "(\\#eq:mod-multifact)\n",
    "$$ \n",
    "\n",
    "Poniamoci il problema di trovare la\n",
    "covarianza teorica tra la variabile manifesta $Y_i$ e il fattore comune\n",
    "$\\xi_j$. Come in precedenza, il problema si riduce a quello di trovare\n",
    "$\\mathbb{E}(Y_i \\xi_j)$. Ne segue che \n",
    "\n",
    "$$\n",
    "\\begin{equation}\n",
    "\\begin{aligned}\n",
    "  Cov(Y_i, \\xi_j) &= \\mathbb{E}(Y_i \\xi_j)\\notag\\\\\n",
    "  &=\\mathbb{E}\\left[(\\lambda_{i1} \\xi_1 + \\dots + \\lambda_{ij} \\xi_j + \\dots + \\lambda_{im} \\xi_m + \\delta_i)\\xi_j \\right]\\notag\\\\\n",
    "  &= \\lambda_{i1}\\underbrace{\\mathbb{E}(\\xi_1\\xi_j)}_{\\neq 0} + \\dots + \\lambda_{ij}\\underbrace{\\mathbb{E}(\\xi_j^2)}_{=1} + \\dots \\notag\\\\\n",
    "& \\quad + \\lambda_{im}\\underbrace{\\mathbb{E}(\\xi_m\\xi_j)}_{\\neq 0} + \\underbrace{\\mathbb{E}(\\delta_i \\xi_j)}_{=0}\\notag\\\\\n",
    "  &= \\lambda_{ij} + \\lambda_{i1} Cov(\\xi_1, \\xi_j) + \\dots + \\lambda_{im} Cov(\\xi_m, \\xi_j).\n",
    "\\end{aligned}\n",
    "\\end{equation}\n",
    "$$\n",
    "\n",
    "Ad esempio, nel caso di tre fattori comuni $\\xi_1, \\xi_2, \\xi_3$, la\n",
    "covarianza tra $Y_1$ e $\\xi_{1}$ diventa\n",
    "\n",
    "$$\n",
    "\\lambda_{11} + \\lambda_{12}Cov(\\xi_1, \\xi_2) + \\lambda_{13}Cov(\\xi_1, \\xi_3).\n",
    "$$\n",
    "\n",
    "### Espressione fattoriale della varianza\n",
    "\n",
    "Poniamoci ora il problema di trovare la varianza teorica della variabile\n",
    "manifesta $Y_i$. In base al modello fattoriale, la variabile $Y_i$ è\n",
    "specificata come nella \\@ref(eq:mod-multifact). La varianza di $Y_i$ è\n",
    "$\\mathbb{V}(Y_i) = \\mathbb{E}(Y_i^2) -[\\mathbb{E}(Y_i)]^2$. Però, avendo espresso $Y_i$ nei\n",
    "termini della differenza dalla sua media, l'espressione della varianza\n",
    "si riduce a $\\mathbb{V}(Y_i) = \\mathbb{E}(Y_i^2)$. Dobbiamo dunque sviluppare\n",
    "l'espressione\n",
    "\n",
    "$$\n",
    "\\mathbb{E}(Y_i^2) = \\mathbb{E}[(\\lambda_{i1} \\xi_1 + \\dots + \\lambda_{im} \\xi_m + \\delta_i)^2].\n",
    "$$\n",
    "\n",
    "In conclusione, la varianza teorica di $Y_i$ è uguale a \n",
    "\n",
    "$$\n",
    "\\begin{equation}\n",
    "\\begin{split}\n",
    "\\mathbb{V}(Y_i) &= \\lambda_{i1}^2 + \\lambda_{i2}^2 + \\dots + \\lambda_{im}^2  + \\\\\n",
    "&\\quad 2 \\lambda_{i1} \\lambda_{i2} Cov(\\xi_1, \\xi_2) + \\dots + 2 \\lambda_{i,m-1} \\lambda_{im} Cov(\\xi_{m-1}, \\xi_m) + \\\\\n",
    "&\\quad \\psi_{ii}.\\notag\n",
    "\\end{split}\n",
    "\\end{equation}\n",
    "$$\n",
    "\n",
    "Ad esempio, nel caso di tre fattori comuni, $\\xi_1, \\xi_2, \\xi_3$, la\n",
    "varianza di $Y_1$ è \n",
    "\n",
    "$$\n",
    "\\begin{equation}\n",
    "\\begin{split}\n",
    "\\mathbb{V}(Y_1) = &\\lambda_{11}^2 + \\lambda_{12}^2 + \\lambda_{13}^2 +\\\\ \n",
    "&\\quad 2 \\lambda_{11} \\lambda_{12} Cov(\\xi_1, \\xi_2) + \\\\ \n",
    "&\\quad 2 \\lambda_{11} \\lambda_{13} Cov(\\xi_1, \\xi_3) + \\\\ \n",
    "&\\quad 2 \\lambda_{12} \\lambda_{13} Cov(\\xi_2, \\xi_3) + \\\\ \n",
    "&\\quad \\psi_{11}. \\notag\n",
    "\\end{split}\n",
    "\\end{equation}\n",
    "$$\n",
    "\n",
    "### Covarianza teorica tra due variabili\n",
    "\n",
    "Consideriamo ora il caso più semplice di due soli fattori comuni\n",
    "correlati e calcoliamo la covarianza tra $Y_1$ e $Y_2$:\n",
    "\n",
    "$$\n",
    "\\begin{equation}\n",
    "\\begin{aligned}\n",
    "\\mathbb{E}(Y_1 Y_2) =\\mathbb{E}[(&\\lambda_{11}\\xi_1 + \\lambda_{12}\\xi_2+\\delta_1) (\\lambda_{21}\\xi_1 + \\lambda_{22}\\xi_2+\\delta_2)]\\notag\\\\\n",
    "=\\mathbb{E}( \n",
    "&\\lambda_{11}\\lambda_{21}\\xi_1^2 +\n",
    "\\lambda_{11}\\lambda_{22}\\xi_1\\xi_2 +\n",
    "\\lambda_{11}\\xi_1\\delta_2 +\\notag\\\\\n",
    "+&\\lambda_{12}\\lambda_{21}\\xi_1\\xi_2 +\n",
    "\\lambda_{12}\\lambda_{22}\\xi_2^2 +\n",
    "\\lambda_{12}\\xi_2\\delta_2 +\\notag\\\\\n",
    "+&\\lambda_{21}\\xi_1\\delta_1 +\n",
    "\\lambda_{22}\\xi_2\\delta_1 +\n",
    "\\delta_1\\delta_2).\\notag\n",
    "\\end{aligned}\n",
    "\\end{equation}\n",
    "$$\n",
    "\n",
    "Distribuendo l'operatore di valore atteso, dato che $\\mathbb{E}(\\xi^2)=1$ e $\\mathbb{E}(\\xi \\delta)=0$, otteniamo\n",
    "\n",
    "$$\n",
    "Cov(Y_1, Y_2) = \\lambda_{11} \\lambda_{21} + \\lambda_{12} \\lambda_{22} + \n",
    "\\lambda_{12} \\lambda_{21}Cov(\\xi_1, \\xi_2) +\\lambda_{11} \\lambda_{22}Cov(\\xi_1, \\xi_2).\n",
    "$$\n",
    "\n",
    "In termini matriciali si scrive \n",
    "\n",
    "$$\n",
    "\\boldsymbol{\\Sigma} =\\boldsymbol{\\Lambda} \\boldsymbol{\\Phi} \\boldsymbol{\\Lambda}^{\\mathsf{T}} + \\boldsymbol{\\Psi}, \n",
    "$$\n",
    "\n",
    "dove $\\boldsymbol{\\Phi}$ è la matrice di ordine $m \\times m$ di varianze\n",
    "e covarianze tra i fattori comuni e $\\boldsymbol{\\Psi}$ è una matrice\n",
    "diagonale di ordine $p$ con le unicità delle variabili.\n",
    "\n",
    "**Esempio.** Consideriamo nuovamente i dati esaminati negli esercizi precedenti, ma questa volta il modello consente una correlazione tra i due fattori comuni:"
   ]
  },
  {
   "cell_type": "code",
   "execution_count": 9,
   "id": "c11d2f18",
   "metadata": {
    "vscode": {
     "languageId": "r"
    }
   },
   "outputs": [
    {
     "name": "stderr",
     "output_type": "stream",
     "text": [
      "Caricamento dei namespace richiesti: GPArotation\n",
      "\n"
     ]
    },
    {
     "name": "stdout",
     "output_type": "stream",
     "text": [
      "Factor Analysis using method =  minres\n",
      "Call: fa(r = psychot_cor_mat, nfactors = 2, n.obs = n, rotate = \"oblimin\")\n",
      "Standardized loadings (pattern matrix) based upon correlation matrix\n",
      "     MR1   MR2   h2   u2 com\n",
      "N1  0.88 -0.02 0.78 0.22   1\n",
      "N2  0.85  0.01 0.72 0.28   1\n",
      "N3  0.83 -0.04 0.71 0.29   1\n",
      "N4  0.90  0.03 0.78 0.22   1\n",
      "E1 -0.05  0.77 0.63 0.37   1\n",
      "E2  0.03  0.86 0.71 0.29   1\n",
      "E3  0.00  0.79 0.63 0.37   1\n",
      "E4 -0.01  0.70 0.49 0.51   1\n",
      "\n",
      "                       MR1  MR2\n",
      "SS loadings           3.00 2.45\n",
      "Proportion Var        0.37 0.31\n",
      "Cumulative Var        0.37 0.68\n",
      "Proportion Explained  0.55 0.45\n",
      "Cumulative Proportion 0.55 1.00\n",
      "\n",
      " With factor correlations of \n",
      "      MR1   MR2\n",
      "MR1  1.00 -0.43\n",
      "MR2 -0.43  1.00\n",
      "\n",
      "Mean item complexity =  1\n",
      "Test of the hypothesis that 2 factors are sufficient.\n",
      "\n",
      "df null model =  28  with the objective function =  5.02 with Chi Square =  1231.22\n",
      "df of  the model are 13  and the objective function was  0.04 \n",
      "\n",
      "The root mean square of the residuals (RMSR) is  0.01 \n",
      "The df corrected root mean square of the residuals is  0.02 \n",
      "\n",
      "The harmonic n.obs is  250 with the empirical chi square  1.73  with prob <  1 \n",
      "The total n.obs was  250  with Likelihood Chi Square =  9.65  with prob <  0.72 \n",
      "\n",
      "Tucker Lewis Index of factoring reliability =  1.006\n",
      "RMSEA index =  0  and the 90 % confidence intervals are  0 0.047\n",
      "BIC =  -62.12\n",
      "Fit based upon off diagonal values = 1\n",
      "Measures of factor score adequacy             \n",
      "                                                   MR1  MR2\n",
      "Correlation of (regression) scores with factors   0.96 0.94\n",
      "Multiple R square of scores with factors          0.93 0.87\n",
      "Minimum correlation of possible factor scores     0.85 0.75\n"
     ]
    }
   ],
   "source": [
    "efa_result <- fa(\n",
    "    psychot_cor_mat, \n",
    "    nfactors = 2, \n",
    "    n.obs = n, \n",
    "    rotate = \"oblimin\"\n",
    ")\n",
    "print(efa_result)"
   ]
  },
  {
   "cell_type": "code",
   "execution_count": 10,
   "id": "b92192cd",
   "metadata": {
    "vscode": {
     "languageId": "r"
    }
   },
   "outputs": [
    {
     "data": {
      "image/png": "[encoded data removed]",
      "text/plain": [
       "Plot with title \"Factor Analysis\""
      ]
     },
     "metadata": {
      "image/png": {
       "height": 296.6563,
       "width": 480
      }
     },
     "output_type": "display_data"
    }
   ],
   "source": [
    "fa.diagram(efa_result)"
   ]
  },
  {
   "attachments": {},
   "cell_type": "markdown",
   "id": "197173a3",
   "metadata": {},
   "source": [
    "Esaminiamo la matrice delle correlazioni residue:"
   ]
  },
  {
   "cell_type": "code",
   "execution_count": 11,
   "id": "10e33e0d",
   "metadata": {
    "vscode": {
     "languageId": "r"
    }
   },
   "outputs": [
    {
     "name": "stdout",
     "output_type": "stream",
     "text": [
      "   N1    N2    N3    N4    E1    E2    E3    E4   \n",
      "N1  0.22                                          \n",
      "N2  0.02  0.28                                    \n",
      "N3 -0.01  0.00  0.29                              \n",
      "N4  0.00 -0.01  0.02  0.22                        \n",
      "E1  0.00  0.01 -0.01  0.00  0.37                  \n",
      "E2 -0.01  0.00  0.01  0.01  0.01  0.29            \n",
      "E3  0.01 -0.01  0.01 -0.02  0.01 -0.01  0.37      \n",
      "E4  0.00  0.00 -0.01  0.01 -0.02  0.01  0.01  0.51\n"
     ]
    }
   ],
   "source": [
    "residuals <- residuals(efa_result)\n",
    "print(residuals)"
   ]
  },
  {
   "attachments": {},
   "cell_type": "markdown",
   "id": "d70ec99d",
   "metadata": {},
   "source": [
    "Esaminiamo più da vicino la matrice di correlazioni riprodotta dal modello, nel caso di fattori obliqui. Le saturazioni fattoriali sono:"
   ]
  },
  {
   "cell_type": "code",
   "execution_count": 12,
   "id": "e7e59f87",
   "metadata": {
    "vscode": {
     "languageId": "r"
    }
   },
   "outputs": [
    {
     "name": "stdout",
     "output_type": "stream",
     "text": [
      "        Factor1     Factor2\n",
      "N1  0.877075569 -0.01577815\n",
      "N2  0.852280802  0.01128419\n",
      "N3  0.826584447 -0.03684789\n",
      "N4  0.898762806  0.03121279\n",
      "E1 -0.048589010  0.77186847\n",
      "E2  0.034700239  0.85566012\n",
      "E3  0.002815265  0.79291602\n",
      "E4 -0.007884591  0.69545191\n"
     ]
    }
   ],
   "source": [
    "# Estrai i carichi fattoriali (saturazioni fattoriali)\n",
    "lambda <- efa_result$loadings\n",
    "\n",
    "# Converti i carichi in una matrice 8 x 2 (assumendo 2 fattori)\n",
    "# e assegna i nomi appropriati alle righe e alle colonne\n",
    "lambda <- matrix(lambda[, 1:2], nrow = 8, ncol = 2)\n",
    "rownames(lambda) <- c(\"N1\", \"N2\", \"N3\", \"N4\", \"E1\", \"E2\", \"E3\", \"E4\")\n",
    "colnames(lambda) <- c(\"Factor1\", \"Factor2\")\n",
    "\n",
    "# Stampa la matrice dei carichi\n",
    "print(lambda)"
   ]
  },
  {
   "attachments": {},
   "cell_type": "markdown",
   "id": "6c6f5cbf",
   "metadata": {},
   "source": [
    "La matrice di intercorrelazoni fattoriali è"
   ]
  },
  {
   "cell_type": "code",
   "execution_count": 13,
   "id": "35d931b7",
   "metadata": {
    "vscode": {
     "languageId": "r"
    }
   },
   "outputs": [
    {
     "name": "stdout",
     "output_type": "stream",
     "text": [
      "           MR1        MR2\n",
      "MR1  1.0000000 -0.4313609\n",
      "MR2 -0.4313609  1.0000000\n"
     ]
    }
   ],
   "source": [
    "# Estrai la matrice delle intercorrelazioni fattoriali\n",
    "Phi <- efa_result$Phi\n",
    "\n",
    "# Stampa la matrice delle intercorrelazioni\n",
    "print(Phi)"
   ]
  },
  {
   "attachments": {},
   "cell_type": "markdown",
   "id": "fa472fdb",
   "metadata": {},
   "source": [
    "Le varianze residue sono:"
   ]
  },
  {
   "cell_type": "code",
   "execution_count": 17,
   "id": "896656da",
   "metadata": {
    "vscode": {
     "languageId": "r"
    }
   },
   "outputs": [
    {
     "data": {
      "text/html": [
       "<table class=\"dataframe\">\n",
       "<caption>A matrix: 8 x 8 of type dbl</caption>\n",
       "<tbody>\n",
       "\t<tr><td>0.22</td><td>0.00</td><td>0.00</td><td>0.00</td><td>0.00</td><td>0.00</td><td>0.00</td><td>0.00</td></tr>\n",
       "\t<tr><td>0.00</td><td>0.28</td><td>0.00</td><td>0.00</td><td>0.00</td><td>0.00</td><td>0.00</td><td>0.00</td></tr>\n",
       "\t<tr><td>0.00</td><td>0.00</td><td>0.29</td><td>0.00</td><td>0.00</td><td>0.00</td><td>0.00</td><td>0.00</td></tr>\n",
       "\t<tr><td>0.00</td><td>0.00</td><td>0.00</td><td>0.22</td><td>0.00</td><td>0.00</td><td>0.00</td><td>0.00</td></tr>\n",
       "\t<tr><td>0.00</td><td>0.00</td><td>0.00</td><td>0.00</td><td>0.37</td><td>0.00</td><td>0.00</td><td>0.00</td></tr>\n",
       "\t<tr><td>0.00</td><td>0.00</td><td>0.00</td><td>0.00</td><td>0.00</td><td>0.29</td><td>0.00</td><td>0.00</td></tr>\n",
       "\t<tr><td>0.00</td><td>0.00</td><td>0.00</td><td>0.00</td><td>0.00</td><td>0.00</td><td>0.37</td><td>0.00</td></tr>\n",
       "\t<tr><td>0.00</td><td>0.00</td><td>0.00</td><td>0.00</td><td>0.00</td><td>0.00</td><td>0.00</td><td>0.51</td></tr>\n",
       "</tbody>\n",
       "</table>\n"
      ],
      "text/latex": [
       "A matrix: 8 x 8 of type dbl\n",
       "\\begin{tabular}{llllllll}\n",
       "\t 0.22 & 0.00 & 0.00 & 0.00 & 0.00 & 0.00 & 0.00 & 0.00\\\\\n",
       "\t 0.00 & 0.28 & 0.00 & 0.00 & 0.00 & 0.00 & 0.00 & 0.00\\\\\n",
       "\t 0.00 & 0.00 & 0.29 & 0.00 & 0.00 & 0.00 & 0.00 & 0.00\\\\\n",
       "\t 0.00 & 0.00 & 0.00 & 0.22 & 0.00 & 0.00 & 0.00 & 0.00\\\\\n",
       "\t 0.00 & 0.00 & 0.00 & 0.00 & 0.37 & 0.00 & 0.00 & 0.00\\\\\n",
       "\t 0.00 & 0.00 & 0.00 & 0.00 & 0.00 & 0.29 & 0.00 & 0.00\\\\\n",
       "\t 0.00 & 0.00 & 0.00 & 0.00 & 0.00 & 0.00 & 0.37 & 0.00\\\\\n",
       "\t 0.00 & 0.00 & 0.00 & 0.00 & 0.00 & 0.00 & 0.00 & 0.51\\\\\n",
       "\\end{tabular}\n"
      ],
      "text/markdown": [
       "\n",
       "A matrix: 8 x 8 of type dbl\n",
       "\n",
       "| 0.22 | 0.00 | 0.00 | 0.00 | 0.00 | 0.00 | 0.00 | 0.00 |\n",
       "| 0.00 | 0.28 | 0.00 | 0.00 | 0.00 | 0.00 | 0.00 | 0.00 |\n",
       "| 0.00 | 0.00 | 0.29 | 0.00 | 0.00 | 0.00 | 0.00 | 0.00 |\n",
       "| 0.00 | 0.00 | 0.00 | 0.22 | 0.00 | 0.00 | 0.00 | 0.00 |\n",
       "| 0.00 | 0.00 | 0.00 | 0.00 | 0.37 | 0.00 | 0.00 | 0.00 |\n",
       "| 0.00 | 0.00 | 0.00 | 0.00 | 0.00 | 0.29 | 0.00 | 0.00 |\n",
       "| 0.00 | 0.00 | 0.00 | 0.00 | 0.00 | 0.00 | 0.37 | 0.00 |\n",
       "| 0.00 | 0.00 | 0.00 | 0.00 | 0.00 | 0.00 | 0.00 | 0.51 |\n",
       "\n"
      ],
      "text/plain": [
       "     [,1] [,2] [,3] [,4] [,5] [,6] [,7] [,8]\n",
       "[1,] 0.22 0.00 0.00 0.00 0.00 0.00 0.00 0.00\n",
       "[2,] 0.00 0.28 0.00 0.00 0.00 0.00 0.00 0.00\n",
       "[3,] 0.00 0.00 0.29 0.00 0.00 0.00 0.00 0.00\n",
       "[4,] 0.00 0.00 0.00 0.22 0.00 0.00 0.00 0.00\n",
       "[5,] 0.00 0.00 0.00 0.00 0.37 0.00 0.00 0.00\n",
       "[6,] 0.00 0.00 0.00 0.00 0.00 0.29 0.00 0.00\n",
       "[7,] 0.00 0.00 0.00 0.00 0.00 0.00 0.37 0.00\n",
       "[8,] 0.00 0.00 0.00 0.00 0.00 0.00 0.00 0.51"
      ]
     },
     "metadata": {},
     "output_type": "display_data"
    }
   ],
   "source": [
    "# Estrai le varianze residue\n",
    "diag(efa_result$uniquenesses) |>\n",
    "    round(2)"
   ]
  },
  {
   "attachments": {},
   "cell_type": "markdown",
   "id": "e812f237",
   "metadata": {},
   "source": [
    "Mediante i parametri del modello  la matrice di correlazione si riproduce nel modo seguente:\n",
    "\n",
    "$$\n",
    "\\boldsymbol{\\Sigma} =\\boldsymbol{\\Lambda} \\boldsymbol{\\Phi} \\boldsymbol{\\Lambda}^{\\mathsf{T}} + \\boldsymbol{\\Psi}. \n",
    "$$\n",
    "\n",
    "In $\\textsf{R}$ scriviamo:"
   ]
  },
  {
   "cell_type": "code",
   "execution_count": 18,
   "id": "c25eccfd",
   "metadata": {
    "vscode": {
     "languageId": "r"
    }
   },
   "outputs": [
    {
     "data": {
      "text/html": [
       "<table class=\"dataframe\">\n",
       "<caption>A matrix: 8 x 8 of type dbl</caption>\n",
       "<thead>\n",
       "\t<tr><th></th><th scope=col>N1</th><th scope=col>N2</th><th scope=col>N3</th><th scope=col>N4</th><th scope=col>E1</th><th scope=col>E2</th><th scope=col>E3</th><th scope=col>E4</th></tr>\n",
       "</thead>\n",
       "<tbody>\n",
       "\t<tr><th scope=row>N1</th><td> 1.00</td><td> 0.75</td><td> 0.75</td><td> 0.78</td><td>-0.35</td><td>-0.31</td><td>-0.31</td><td>-0.28</td></tr>\n",
       "\t<tr><th scope=row>N2</th><td> 0.75</td><td> 1.00</td><td> 0.71</td><td> 0.75</td><td>-0.32</td><td>-0.28</td><td>-0.28</td><td>-0.25</td></tr>\n",
       "\t<tr><th scope=row>N3</th><td> 0.75</td><td> 0.71</td><td> 1.00</td><td> 0.74</td><td>-0.34</td><td>-0.31</td><td>-0.31</td><td>-0.28</td></tr>\n",
       "\t<tr><th scope=row>N4</th><td> 0.78</td><td> 0.75</td><td> 0.74</td><td> 1.00</td><td>-0.32</td><td>-0.27</td><td>-0.28</td><td>-0.25</td></tr>\n",
       "\t<tr><th scope=row>E1</th><td>-0.35</td><td>-0.32</td><td>-0.34</td><td>-0.32</td><td> 1.00</td><td> 0.67</td><td> 0.63</td><td> 0.55</td></tr>\n",
       "\t<tr><th scope=row>E2</th><td>-0.31</td><td>-0.28</td><td>-0.31</td><td>-0.27</td><td> 0.67</td><td> 1.00</td><td> 0.67</td><td> 0.59</td></tr>\n",
       "\t<tr><th scope=row>E3</th><td>-0.31</td><td>-0.28</td><td>-0.31</td><td>-0.28</td><td> 0.63</td><td> 0.67</td><td> 1.00</td><td> 0.55</td></tr>\n",
       "\t<tr><th scope=row>E4</th><td>-0.28</td><td>-0.25</td><td>-0.28</td><td>-0.25</td><td> 0.55</td><td> 0.59</td><td> 0.55</td><td> 1.00</td></tr>\n",
       "</tbody>\n",
       "</table>\n"
      ],
      "text/latex": [
       "A matrix: 8 x 8 of type dbl\n",
       "\\begin{tabular}{r|llllllll}\n",
       "  & N1 & N2 & N3 & N4 & E1 & E2 & E3 & E4\\\\\n",
       "\\hline\n",
       "\tN1 &  1.00 &  0.75 &  0.75 &  0.78 & -0.35 & -0.31 & -0.31 & -0.28\\\\\n",
       "\tN2 &  0.75 &  1.00 &  0.71 &  0.75 & -0.32 & -0.28 & -0.28 & -0.25\\\\\n",
       "\tN3 &  0.75 &  0.71 &  1.00 &  0.74 & -0.34 & -0.31 & -0.31 & -0.28\\\\\n",
       "\tN4 &  0.78 &  0.75 &  0.74 &  1.00 & -0.32 & -0.27 & -0.28 & -0.25\\\\\n",
       "\tE1 & -0.35 & -0.32 & -0.34 & -0.32 &  1.00 &  0.67 &  0.63 &  0.55\\\\\n",
       "\tE2 & -0.31 & -0.28 & -0.31 & -0.27 &  0.67 &  1.00 &  0.67 &  0.59\\\\\n",
       "\tE3 & -0.31 & -0.28 & -0.31 & -0.28 &  0.63 &  0.67 &  1.00 &  0.55\\\\\n",
       "\tE4 & -0.28 & -0.25 & -0.28 & -0.25 &  0.55 &  0.59 &  0.55 &  1.00\\\\\n",
       "\\end{tabular}\n"
      ],
      "text/markdown": [
       "\n",
       "A matrix: 8 x 8 of type dbl\n",
       "\n",
       "| <!--/--> | N1 | N2 | N3 | N4 | E1 | E2 | E3 | E4 |\n",
       "|---|---|---|---|---|---|---|---|---|\n",
       "| N1 |  1.00 |  0.75 |  0.75 |  0.78 | -0.35 | -0.31 | -0.31 | -0.28 |\n",
       "| N2 |  0.75 |  1.00 |  0.71 |  0.75 | -0.32 | -0.28 | -0.28 | -0.25 |\n",
       "| N3 |  0.75 |  0.71 |  1.00 |  0.74 | -0.34 | -0.31 | -0.31 | -0.28 |\n",
       "| N4 |  0.78 |  0.75 |  0.74 |  1.00 | -0.32 | -0.27 | -0.28 | -0.25 |\n",
       "| E1 | -0.35 | -0.32 | -0.34 | -0.32 |  1.00 |  0.67 |  0.63 |  0.55 |\n",
       "| E2 | -0.31 | -0.28 | -0.31 | -0.27 |  0.67 |  1.00 |  0.67 |  0.59 |\n",
       "| E3 | -0.31 | -0.28 | -0.31 | -0.28 |  0.63 |  0.67 |  1.00 |  0.55 |\n",
       "| E4 | -0.28 | -0.25 | -0.28 | -0.25 |  0.55 |  0.59 |  0.55 |  1.00 |\n",
       "\n"
      ],
      "text/plain": [
       "   N1    N2    N3    N4    E1    E2    E3    E4   \n",
       "N1  1.00  0.75  0.75  0.78 -0.35 -0.31 -0.31 -0.28\n",
       "N2  0.75  1.00  0.71  0.75 -0.32 -0.28 -0.28 -0.25\n",
       "N3  0.75  0.71  1.00  0.74 -0.34 -0.31 -0.31 -0.28\n",
       "N4  0.78  0.75  0.74  1.00 -0.32 -0.27 -0.28 -0.25\n",
       "E1 -0.35 -0.32 -0.34 -0.32  1.00  0.67  0.63  0.55\n",
       "E2 -0.31 -0.28 -0.31 -0.27  0.67  1.00  0.67  0.59\n",
       "E3 -0.31 -0.28 -0.31 -0.28  0.63  0.67  1.00  0.55\n",
       "E4 -0.28 -0.25 -0.28 -0.25  0.55  0.59  0.55  1.00"
      ]
     },
     "metadata": {},
     "output_type": "display_data"
    }
   ],
   "source": [
    "R_hat <- lambda %*% Phi %*% t(lambda) + Psi\n",
    "R_hat |> \n",
    "  round(2)"
   ]
  },
  {
   "attachments": {},
   "cell_type": "markdown",
   "id": "e5bcd34a",
   "metadata": {},
   "source": [
    "Le correlazioni residue sono:"
   ]
  },
  {
   "cell_type": "code",
   "execution_count": 19,
   "id": "27744fa4",
   "metadata": {
    "vscode": {
     "languageId": "r"
    }
   },
   "outputs": [
    {
     "data": {
      "text/html": [
       "<table class=\"dataframe\">\n",
       "<caption>A matrix: 8 x 8 of type dbl</caption>\n",
       "<thead>\n",
       "\t<tr><th></th><th scope=col>N1</th><th scope=col>N2</th><th scope=col>N3</th><th scope=col>N4</th><th scope=col>E1</th><th scope=col>E2</th><th scope=col>E3</th><th scope=col>E4</th></tr>\n",
       "</thead>\n",
       "<tbody>\n",
       "\t<tr><th scope=row>N1</th><td> 0.000</td><td> 0.017</td><td>-0.019</td><td>-0.002</td><td>-0.001</td><td>-0.006</td><td> 0.014</td><td>-0.002</td></tr>\n",
       "\t<tr><th scope=row>N2</th><td> 0.017</td><td> 0.000</td><td>-0.001</td><td>-0.012</td><td> 0.018</td><td> 0.000</td><td>-0.009</td><td>-0.004</td></tr>\n",
       "\t<tr><th scope=row>N3</th><td>-0.019</td><td>-0.001</td><td> 0.000</td><td> 0.022</td><td>-0.016</td><td> 0.010</td><td> 0.013</td><td>-0.012</td></tr>\n",
       "\t<tr><th scope=row>N4</th><td>-0.002</td><td>-0.012</td><td> 0.022</td><td> 0.000</td><td> 0.002</td><td> 0.003</td><td>-0.016</td><td> 0.005</td></tr>\n",
       "\t<tr><th scope=row>E1</th><td>-0.001</td><td> 0.018</td><td>-0.016</td><td> 0.002</td><td> 0.000</td><td> 0.005</td><td> 0.004</td><td>-0.016</td></tr>\n",
       "\t<tr><th scope=row>E2</th><td>-0.006</td><td> 0.000</td><td> 0.010</td><td> 0.003</td><td> 0.005</td><td> 0.000</td><td>-0.019</td><td> 0.003</td></tr>\n",
       "\t<tr><th scope=row>E3</th><td> 0.014</td><td>-0.009</td><td> 0.013</td><td>-0.016</td><td> 0.004</td><td>-0.019</td><td> 0.000</td><td> 0.016</td></tr>\n",
       "\t<tr><th scope=row>E4</th><td>-0.002</td><td>-0.004</td><td>-0.012</td><td> 0.005</td><td>-0.016</td><td> 0.003</td><td> 0.016</td><td> 0.000</td></tr>\n",
       "</tbody>\n",
       "</table>\n"
      ],
      "text/latex": [
       "A matrix: 8 x 8 of type dbl\n",
       "\\begin{tabular}{r|llllllll}\n",
       "  & N1 & N2 & N3 & N4 & E1 & E2 & E3 & E4\\\\\n",
       "\\hline\n",
       "\tN1 &  0.000 &  0.017 & -0.019 & -0.002 & -0.001 & -0.006 &  0.014 & -0.002\\\\\n",
       "\tN2 &  0.017 &  0.000 & -0.001 & -0.012 &  0.018 &  0.000 & -0.009 & -0.004\\\\\n",
       "\tN3 & -0.019 & -0.001 &  0.000 &  0.022 & -0.016 &  0.010 &  0.013 & -0.012\\\\\n",
       "\tN4 & -0.002 & -0.012 &  0.022 &  0.000 &  0.002 &  0.003 & -0.016 &  0.005\\\\\n",
       "\tE1 & -0.001 &  0.018 & -0.016 &  0.002 &  0.000 &  0.005 &  0.004 & -0.016\\\\\n",
       "\tE2 & -0.006 &  0.000 &  0.010 &  0.003 &  0.005 &  0.000 & -0.019 &  0.003\\\\\n",
       "\tE3 &  0.014 & -0.009 &  0.013 & -0.016 &  0.004 & -0.019 &  0.000 &  0.016\\\\\n",
       "\tE4 & -0.002 & -0.004 & -0.012 &  0.005 & -0.016 &  0.003 &  0.016 &  0.000\\\\\n",
       "\\end{tabular}\n"
      ],
      "text/markdown": [
       "\n",
       "A matrix: 8 x 8 of type dbl\n",
       "\n",
       "| <!--/--> | N1 | N2 | N3 | N4 | E1 | E2 | E3 | E4 |\n",
       "|---|---|---|---|---|---|---|---|---|\n",
       "| N1 |  0.000 |  0.017 | -0.019 | -0.002 | -0.001 | -0.006 |  0.014 | -0.002 |\n",
       "| N2 |  0.017 |  0.000 | -0.001 | -0.012 |  0.018 |  0.000 | -0.009 | -0.004 |\n",
       "| N3 | -0.019 | -0.001 |  0.000 |  0.022 | -0.016 |  0.010 |  0.013 | -0.012 |\n",
       "| N4 | -0.002 | -0.012 |  0.022 |  0.000 |  0.002 |  0.003 | -0.016 |  0.005 |\n",
       "| E1 | -0.001 |  0.018 | -0.016 |  0.002 |  0.000 |  0.005 |  0.004 | -0.016 |\n",
       "| E2 | -0.006 |  0.000 |  0.010 |  0.003 |  0.005 |  0.000 | -0.019 |  0.003 |\n",
       "| E3 |  0.014 | -0.009 |  0.013 | -0.016 |  0.004 | -0.019 |  0.000 |  0.016 |\n",
       "| E4 | -0.002 | -0.004 | -0.012 |  0.005 | -0.016 |  0.003 |  0.016 |  0.000 |\n",
       "\n"
      ],
      "text/plain": [
       "   N1     N2     N3     N4     E1     E2     E3     E4    \n",
       "N1  0.000  0.017 -0.019 -0.002 -0.001 -0.006  0.014 -0.002\n",
       "N2  0.017  0.000 -0.001 -0.012  0.018  0.000 -0.009 -0.004\n",
       "N3 -0.019 -0.001  0.000  0.022 -0.016  0.010  0.013 -0.012\n",
       "N4 -0.002 -0.012  0.022  0.000  0.002  0.003 -0.016  0.005\n",
       "E1 -0.001  0.018 -0.016  0.002  0.000  0.005  0.004 -0.016\n",
       "E2 -0.006  0.000  0.010  0.003  0.005  0.000 -0.019  0.003\n",
       "E3  0.014 -0.009  0.013 -0.016  0.004 -0.019  0.000  0.016\n",
       "E4 -0.002 -0.004 -0.012  0.005 -0.016  0.003  0.016  0.000"
      ]
     },
     "metadata": {},
     "output_type": "display_data"
    }
   ],
   "source": [
    "psychot_cor_mat - R_hat |>\n",
    "  round(2)"
   ]
  },
  {
   "attachments": {},
   "cell_type": "markdown",
   "id": "a7b8ab05",
   "metadata": {},
   "source": [
    "Per fare un esempio relativo alla correlazione tra due indicatori, calcoliamo la correlazione predetta dal modello tra le variabili $Y_1$ e $Y_2$:"
   ]
  },
  {
   "cell_type": "code",
   "execution_count": 22,
   "id": "a7b11e6b",
   "metadata": {
    "vscode": {
     "languageId": "r"
    }
   },
   "outputs": [
    {
     "data": {
      "text/html": [
       "0.748868098259251"
      ],
      "text/latex": [
       "0.748868098259251"
      ],
      "text/markdown": [
       "0.748868098259251"
      ],
      "text/plain": [
       "[1] 0.7488681"
      ]
     },
     "metadata": {},
     "output_type": "display_data"
    }
   ],
   "source": [
    "lambda[1, 1] * lambda[2, 1] + lambda[1, 2] * lambda[2, 2] +\n",
    "  lambda[1, 1] * lambda[2, 2] * Phi[1, 2] + \n",
    "  lambda[1, 2] * lambda[2, 1] * Phi[1, 2] "
   ]
  },
  {
   "attachments": {},
   "cell_type": "markdown",
   "id": "ffaa14cd",
   "metadata": {},
   "source": [
    "Questo valore si avvicina al valore contenuto dell'elemento (1, 2) della\n",
    "matrice di correlazioni osservate:"
   ]
  },
  {
   "cell_type": "code",
   "execution_count": 23,
   "id": "f6852d54",
   "metadata": {
    "vscode": {
     "languageId": "r"
    }
   },
   "outputs": [
    {
     "data": {
      "text/html": [
       "0.767"
      ],
      "text/latex": [
       "0.767"
      ],
      "text/markdown": [
       "0.767"
      ],
      "text/plain": [
       "[1] 0.767"
      ]
     },
     "metadata": {},
     "output_type": "display_data"
    }
   ],
   "source": [
    "psychot_cor_mat[1, 2]"
   ]
  },
  {
   "cell_type": "markdown",
   "id": "538d1326",
   "metadata": {},
   "source": [
    "Usando questa procedura possiamo riprodurre tutti gli elementi della matrice di correlazione osservata tramite i parametri stimati dal modello EFA replicando così il risultato che si trova con $\n",
    "\\boldsymbol{\\Sigma} =\\boldsymbol{\\Lambda} \\boldsymbol{\\Phi} \\boldsymbol{\\Lambda}^{\\mathsf{T}} + \\boldsymbol{\\Psi}. \n",
    "$"
   ]
  },
  {
   "cell_type": "markdown",
   "id": "fb705efc",
   "metadata": {},
   "source": [
    "## Session Info"
   ]
  },
  {
   "cell_type": "code",
   "execution_count": 24,
   "id": "f7bf9120",
   "metadata": {
    "vscode": {
     "languageId": "r"
    }
   },
   "outputs": [
    {
     "data": {
      "text/plain": [
       "R version 4.4.1 (2024-06-14)\n",
       "Platform: aarch64-apple-darwin20\n",
       "Running under: macOS 15.0.1\n",
       "\n",
       "Matrix products: default\n",
       "BLAS:   /Library/Frameworks/R.framework/Versions/4.4-arm64/Resources/lib/libRblas.0.dylib \n",
       "LAPACK: /Library/Frameworks/R.framework/Versions/4.4-arm64/Resources/lib/libRlapack.dylib;  LAPACK version 3.12.0\n",
       "\n",
       "locale:\n",
       "[1] C\n",
       "\n",
       "time zone: Europe/Rome\n",
       "tzcode source: internal\n",
       "\n",
       "attached base packages:\n",
       "[1] stats     graphics  grDevices utils     datasets  methods  \n",
       "[7] base     \n",
       "\n",
       "other attached packages:\n",
       " [1] kableExtra_1.4.0  tidySEM_0.2.7     OpenMx_2.21.12   \n",
       " [4] corrplot_0.94     nortest_1.0-4     MASS_7.3-61      \n",
       " [7] ggokabeito_0.1.0  viridis_0.6.5     viridisLite_0.4.2\n",
       "[10] ggpubr_0.6.0      ggExtra_0.10.1    gridExtra_2.3    \n",
       "[13] patchwork_1.3.0   bayesplot_1.11.1  semTools_0.5-6   \n",
       "[16] semPlot_1.1.6     lavaan_0.6-19     psych_2.4.6.26   \n",
       "[19] scales_1.3.0      markdown_1.13     knitr_1.48       \n",
       "[22] lubridate_1.9.3   forcats_1.0.0     stringr_1.5.1    \n",
       "[25] dplyr_1.1.4       purrr_1.0.2       readr_2.1.5      \n",
       "[28] tidyr_1.3.1       tibble_3.2.1      ggplot2_3.5.1    \n",
       "[31] tidyverse_2.0.0   here_1.0.1       \n",
       "\n",
       "loaded via a namespace (and not attached):\n",
       "  [1] splines_4.4.1         later_1.3.2          \n",
       "  [3] pbdZMQ_0.3-13         XML_3.99-0.17        \n",
       "  [5] rpart_4.1.23          fastDummies_1.7.4    \n",
       "  [7] lifecycle_1.0.4       rstatix_0.7.2        \n",
       "  [9] StanHeaders_2.32.10   rprojroot_2.0.4      \n",
       " [11] globals_0.16.3        lattice_0.22-6       \n",
       " [13] rockchalk_1.8.157     backports_1.5.0      \n",
       " [15] magrittr_2.0.3        openxlsx_4.2.7.1     \n",
       " [17] Hmisc_5.1-3           rmarkdown_2.28       \n",
       " [19] httpuv_1.6.15         tmvnsim_1.0-2        \n",
       " [21] qgraph_1.9.8          zip_2.3.1            \n",
       " [23] pkgbuild_1.4.4        pbapply_1.7-2        \n",
       " [25] minqa_1.2.8           multcomp_1.4-26      \n",
       " [27] abind_1.4-8           quadprog_1.5-8       \n",
       " [29] nnet_7.3-19           TH.data_1.1-2        \n",
       " [31] sandwich_3.1-1        inline_0.3.19        \n",
       " [33] listenv_0.9.1         arm_1.14-4           \n",
       " [35] proto_1.0.0           parallelly_1.38.0    \n",
       " [37] texreg_1.39.4         svglite_2.1.3        \n",
       " [39] codetools_0.2-20      xml2_1.3.6           \n",
       " [41] tidyselect_1.2.1      farver_2.1.2         \n",
       " [43] lme4_1.1-35.5         matrixStats_1.4.1    \n",
       " [45] stats4_4.4.1          base64enc_0.1-3      \n",
       " [47] jsonlite_1.8.9        progressr_0.14.0     \n",
       " [49] Formula_1.2-5         survival_3.7-0       \n",
       " [51] emmeans_1.10.4        systemfonts_1.1.0    \n",
       " [53] dbscan_1.2-0          tools_4.4.1          \n",
       " [55] Rcpp_1.0.13           glue_1.8.0           \n",
       " [57] mnormt_2.1.1          xfun_0.48            \n",
       " [59] MplusAutomation_1.1.1 IRdisplay_1.1        \n",
       " [61] loo_2.8.0             withr_3.0.1          \n",
       " [63] fastmap_1.2.0         boot_1.3-31          \n",
       " [65] fansi_1.0.6           digest_0.6.37        \n",
       " [67] mi_1.1                timechange_0.3.0     \n",
       " [69] R6_2.5.1              mime_0.12            \n",
       " [71] estimability_1.5.1    colorspace_2.1-1     \n",
       " [73] Cairo_1.6-2           gtools_3.9.5         \n",
       " [75] jpeg_0.1-10           utf8_1.2.4           \n",
       " [77] generics_0.1.3        data.table_1.16.0    \n",
       " [79] corpcor_1.6.10        httr_1.4.7           \n",
       " [81] htmlwidgets_1.6.4     pkgconfig_2.0.3      \n",
       " [83] sem_3.1-16            gtable_0.3.5         \n",
       " [85] bain_0.2.11           htmltools_0.5.8.1    \n",
       " [87] carData_3.0-5         blavaan_0.5-6        \n",
       " [89] png_0.1-8             rstudioapi_0.16.0    \n",
       " [91] tzdb_0.4.0            reshape2_1.4.4       \n",
       " [93] uuid_1.2-1            curl_5.2.3           \n",
       " [95] coda_0.19-4.1         checkmate_2.3.2      \n",
       " [97] nlme_3.1-166          nloptr_2.1.1         \n",
       " [99] repr_1.1.7            zoo_1.8-12           \n",
       "[101] parallel_4.4.1        miniUI_0.1.1.1       \n",
       "[103] nonnest2_0.5-8        foreign_0.8-87       \n",
       "[105] pillar_1.9.0          grid_4.4.1           \n",
       "[107] vctrs_0.6.5           RANN_2.6.2           \n",
       "[109] promises_1.3.0        car_3.1-3            \n",
       "[111] xtable_1.8-4          cluster_2.1.6        \n",
       "[113] GPArotation_2024.3-1  htmlTable_2.4.3      \n",
       "[115] evaluate_1.0.0        pbivnorm_0.6.0       \n",
       "[117] gsubfn_0.7            mvtnorm_1.3-1        \n",
       "[119] cli_3.6.3             kutils_1.73          \n",
       "[121] compiler_4.4.1        rlang_1.1.4          \n",
       "[123] crayon_1.5.3          rstantools_2.4.0     \n",
       "[125] future.apply_1.11.2   ggsignif_0.6.4       \n",
       "[127] fdrtool_1.2.18        plyr_1.8.9           \n",
       "[129] stringi_1.8.4         rstan_2.32.6         \n",
       "[131] pander_0.6.5          QuickJSR_1.4.0       \n",
       "[133] munsell_0.5.1         lisrelToR_0.3        \n",
       "[135] CompQuadForm_1.4.3    V8_5.0.1             \n",
       "[137] pacman_0.5.1          Matrix_1.7-0         \n",
       "[139] IRkernel_1.3.2        hms_1.1.3            \n",
       "[141] glasso_1.11           future_1.34.0        \n",
       "[143] shiny_1.9.1           igraph_2.0.3         \n",
       "[145] broom_1.0.7           RcppParallel_5.1.9   "
      ]
     },
     "metadata": {},
     "output_type": "display_data"
    }
   ],
   "source": [
    "sessionInfo()"
   ]
  }
 ],
 "metadata": {
  "jupytext": {
   "cell_metadata_filter": "tags,-all",
   "main_language": "R",
   "notebook_metadata_filter": "-all"
  },
  "kernelspec": {
   "display_name": "R",
   "language": "R",
   "name": "ir"
  },
  "language_info": {
   "codemirror_mode": "r",
   "file_extension": ".r",
   "mimetype": "text/x-r-source",
   "name": "R",
   "pygments_lexer": "r",
   "version": "4.4.1"
  }
 },
 "nbformat": 4,
 "nbformat_minor": 5
}
