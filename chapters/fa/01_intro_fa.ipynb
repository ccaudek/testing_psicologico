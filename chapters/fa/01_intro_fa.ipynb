{
 "cells": [
  {
   "attachments": {},
   "cell_type": "markdown",
   "id": "24322356",
   "metadata": {},
   "source": [
    "# Introduzione all'analisi fattoriale {#sec-fa-intro}"
   ]
  },
  {
   "cell_type": "markdown",
   "id": "87258829",
   "metadata": {},
   "source": [
    "::: {.chapterintro data-latex=\"\"}\n",
    "L'analisi fattoriale è una tecnica statistica utilizzata per identificare la struttura latente sottostante a un insieme di variabili osservate, con lo scopo di ridurre la complessità del dato e individuare costrutti latenti che spiegano le relazioni tra le variabili. Le due principali forme di analisi fattoriale sono l'**analisi fattoriale esplorativa (EFA)** e l'**analisi fattoriale confermativa (CFA)**, che differiscono nel loro scopo e nel grado di definizione a priori della struttura da parte del ricercatore.\n",
    ":::"
   ]
  },
  {
   "attachments": {},
   "cell_type": "markdown",
   "id": "54551573",
   "metadata": {},
   "source": [
    "## Analisi Fattoriale Esplorativa (EFA)\n",
    "\n",
    "L'**EFA** viene utilizzata quando il ricercatore non ha ipotesi a priori su come un gruppo di variabili si strutturi. Il suo scopo è identificare empiricamente il modello che meglio si adatta ai dati, bilanciando precisione e semplicità. Questa tecnica esplora la struttura sottostante ai dati, permettendo di individuare fattori latenti che spiegano la varianza comune tra le variabili osservate. È particolarmente utile nei primi stadi di sviluppo di test psicometrici, quando si desidera identificare le dimensioni latenti sottostanti a un nuovo insieme di item. Tuttavia, la scelta di parametri e metodi di estrazione influisce pesantemente sul risultato finale.\n",
    "\n",
    "## Analisi Fattoriale Confermativa (CFA)\n",
    "\n",
    "L'**CFA** è un approccio utilizzato quando il ricercatore ha un modello teorico ben definito e desidera valutare quanto questo modello ipotizzato si adatti ai dati osservati. La CFA consente di confrontare modelli teorici alternativi e valutare quale meglio spiega i dati, tenendo conto di vari fattori come i carichi fattoriali, gli errori e le covarianze. In psicometria, viene comunemente utilizzata per verificare la validità strutturale di un test o questionario, valutando se i dati empirici supportano il modello teorico ipotizzato.\n",
    "\n",
    "## Struttura e Componenti dell'Analisi Fattoriale\n",
    "\n",
    "Indipendentemente dal tipo di analisi, l'analisi fattoriale si basa sulla distinzione tra variabili **osservate** (o manifest) e variabili **latenti** (o fattori). Le variabili latenti rappresentano costrutti teorici non direttamente osservabili, mentre le variabili osservate sono i punteggi effettivi ottenuti da misure dirette. Un modello fattoriale può includere carichi fattoriali, errori, covarianze e percorsi di regressione.\n",
    "\n",
    "Un **carico fattoriale** rappresenta la forza della relazione tra una variabile osservata e il fattore latente, mentre il **residuo** o **errore** rappresenta la varianza non spiegata dal fattore latente. Le **covarianze** esprimono le relazioni tra le variabili o tra i fattori latenti. L'equazione generale di un indicatore osservato $X$ in relazione a un fattore latente $F$ può essere espressa come:\n",
    "\n",
    "$$\n",
    "X = \\lambda \\cdot F + \\text{Intercept} + \\text{Errore}\n",
    "$$\n",
    "\n",
    "dove:\n",
    "\n",
    "- $X$ è il valore osservato dell'indicatore;\n",
    "- $\\lambda$ è il carico fattoriale;\n",
    "- $F$ è il valore del fattore latente;\n",
    "- Intercept è il valore atteso dell'indicatore quando il fattore latente è zero;\n",
    "- Errore è la parte di varianza non spiegata dal fattore latente.\n",
    "\n",
    "## Modelli Fattoriali Gerarchici e Bifattoriali\n",
    "\n",
    "Esistono varianti più avanzate dell'analisi fattoriale, come i **modelli gerarchici** e i **modelli bifattoriali**, che permettono di rappresentare strutture latenti più complesse. In particolare, i modelli bifattoriali sono utili quando si ritiene che un insieme di variabili possa essere spiegato sia da un fattore generale che da fattori specifici. Ad esempio, nel contesto della misurazione dell'intelligenza, un modello bifattoriale potrebbe includere un fattore generale (g) che spiega la varianza comune tra tutte le variabili, e fattori specifici che spiegano varianze più circoscritte a singoli domini cognitivi.\n",
    "\n",
    "## Sviluppo Storico dell'Analisi Fattoriale\n",
    "\n",
    "L'analisi fattoriale è stata sviluppata all'inizio del XX secolo da Charles Spearman per studiare la struttura dell'intelligenza. Spearman introdusse il concetto di **fattore generale (g)**, che rappresentava la dimensione comune che spiegava la covarianza tra diverse abilità cognitive. Successivamente, psicologi come Thurstone criticarono il modello unifattoriale di Spearman e proposero un modello **multifattoriale**, che permetteva di individuare più fattori specifici, ciascuno dei quali spiegava una dimensione distinta dell'intelligenza.\n",
    "\n",
    "Negli anni '60 e '70, l'analisi fattoriale subì una trasformazione con lo sviluppo dei **modelli di equazioni strutturali (SEM)**, che combinavano l'analisi fattoriale con la **path analysis** per rappresentare relazioni più complesse tra variabili osservate e latenti. Questo sviluppo permise ai ricercatori di verificare ipotesi teoriche più articolate riguardanti la struttura di costrutti psicologici complessi.\n",
    "\n",
    "## Applicazioni dell'Analisi Fattoriale\n",
    "\n",
    "L'analisi fattoriale è ampiamente utilizzata nello sviluppo di strumenti psicometrici, come i test di intelligenza, le scale di personalità e i questionari di auto-valutazione. Viene utilizzata per valutare la **validità di costrutto**, ovvero la capacità di uno strumento di misurare effettivamente il costrutto teorico che si propone di valutare. Inoltre, l'analisi fattoriale può essere impiegata per esaminare la **validità discriminante**, ovvero la capacità di uno strumento di distinguere tra costrutti correlati ma distinti.\n",
    "\n",
    "Infine, l'analisi fattoriale è uno strumento fondamentale per individuare variabili latenti sottostanti e semplificare i dati complessi, consentendo ai ricercatori di ridurre grandi set di variabili osservate a un insieme più ristretto di fattori interpretabili. La sua applicazione, tuttavia, richiede attenzione nella scelta dei parametri e delle assunzioni, poiché le decisioni prese nel processo di analisi possono influenzare significativamente i risultati finali."
   ]
  }
 ],
 "metadata": {
  "jupytext": {
   "cell_metadata_filter": "tags,-all",
   "main_language": "R",
   "notebook_metadata_filter": "-all"
  },
  "kernelspec": {
   "display_name": "R",
   "language": "R",
   "name": "ir"
  },
  "language_info": {
   "codemirror_mode": "r",
   "file_extension": ".r",
   "mimetype": "text/x-r-source",
   "name": "R",
   "pygments_lexer": "r",
   "version": "4.3.2"
  }
 },
 "nbformat": 4,
 "nbformat_minor": 5
}
