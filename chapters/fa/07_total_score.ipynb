{
 "cells": [
  {
   "attachments": {},
   "cell_type": "markdown",
   "id": "ad9e3346",
   "metadata": {},
   "source": [
    "# Punteggio totale e modello fattoriale {#sec-fa-model-1}"
   ]
  },
  {
   "cell_type": "markdown",
   "id": "3991703e",
   "metadata": {},
   "source": [
    "**Prerequisiti**\n",
    "\n",
    "- Leggere il capitolo 6, *Factor Analysis and Principal Component Analysis*, del testo *Principles of psychological assessment* di @petersen2024principles. \n",
    "\n",
    "**Concetti e Competenze Chiave**\n",
    "\n",
    "**Preparazione del Notebook**"
   ]
  },
  {
   "cell_type": "code",
   "execution_count": 2,
   "id": "939ecc87",
   "metadata": {
    "vscode": {
     "languageId": "r"
    }
   },
   "outputs": [],
   "source": [
    "# Carica il file _common.R per impostazioni di pacchetti e opzioni\n",
    "here::here(\"code\", \"_common.R\") |> source()\n",
    "\n",
    "# Carica pacchetti aggiuntivi\n",
    "pacman::p_load(lavaan, modelsummary)"
   ]
  },
  {
   "attachments": {},
   "cell_type": "markdown",
   "id": "aa1a75fa",
   "metadata": {},
   "source": [
    "In questo capitolo discute l'uso del punteggio totale del test quale misura del costrutto latente. Questa è una pratica largamente usata, ma solo in parte giustificata. Esamineremo a questo proposito le considerazioni di McNeish e Wolf (2020)."
   ]
  },
  {
   "attachments": {},
   "cell_type": "markdown",
   "id": "00d0d62a",
   "metadata": {},
   "source": [
    "## Punteggio totale e modello fattoriale parallelo\n",
    "\n",
    "McNeish e Wolf (2020) richiamano l'attenzione sul fatto che usare il punteggio totale quale misura di un costrutto è possibile solo quando i dati soddisfano i vincoli di un modello fattoriale parallelo.\n",
    "\n",
    "Consideriamo l'esempio seguente, nel quale McNeish e Wolf (2020) esaminano i dati \"classici\" di Holzinger and Swineford (1939), i quali si riferiscono ai seguenti item:\n",
    "\n",
    "- Paragraph comprehension\n",
    "- Sentence completion\n",
    "- Word definitions\n",
    "- Speeded addition\n",
    "- Speeded dot counting\n",
    "- Discrimination between curved and straight letters\n",
    "\n",
    "Leggiamo i dati in R."
   ]
  },
  {
   "cell_type": "code",
   "execution_count": 4,
   "id": "319ca112",
   "metadata": {
    "vscode": {
     "languageId": "r"
    }
   },
   "outputs": [],
   "source": [
    "d <- rio::import(\n",
    "  here::here(\"data\", \"1_Factor_Parallel.csv\")\n",
    ")"
   ]
  },
  {
   "attachments": {},
   "cell_type": "markdown",
   "id": "aa461352",
   "metadata": {},
   "source": [
    "McNeish e Wolf (2020) sottolineano il fatto che il punteggio totale \n",
    "\n",
    "$$\n",
    "\\text{Punteggio totale} = \\text{Item 1 + Item 2 + Item 3 + Item 4 + Item 5 + Item 6}\n",
    "$$\n",
    "\n",
    "rappresenta l'idea che ciasun item fornisca la stessa quantità di informazione relativamente alla misura del costrutto. Ciò può essere specificato da un modello fattoriale nel quale le saturazioni fattoriali degli item sono tutte uguali a 1. Questo corrisponde al modello parallelo che abbiamo discusso in precedenza. In tali circostanze, i punteggi fattoriali del test risultano perfettamente associati al punteggio totale (correlazione uguale a 1). Dunque, se tale modello fattoriale è giustificato dai dati, questo giustifica l'uso del punteggio totale del test quale misura del costrutto.\n",
    "\n",
    "È facile verificare tali affermazioni.  Implementiamo il modello parallelo."
   ]
  },
  {
   "cell_type": "code",
   "execution_count": 5,
   "id": "c0942e65",
   "metadata": {
    "vscode": {
     "languageId": "r"
    }
   },
   "outputs": [],
   "source": [
    "m_parallel <-\n",
    "  \"\n",
    "  # all loadings are fixed to one\n",
    "  f1 =~ 1*X4 + 1*X5 + 1*X6 + 1*X7 + 1*X8 + 1*X9\n",
    "  \n",
    "  # all residual variances constrained to same value\n",
    "  X4 ~~ theta*X4\n",
    "  X5 ~~ theta*X5\n",
    "  X6 ~~ theta*X6\n",
    "  X7 ~~ theta*X7\n",
    "  X8 ~~ theta*X8\n",
    "  X9 ~~ theta*X9\n",
    "\""
   ]
  },
  {
   "attachments": {},
   "cell_type": "markdown",
   "id": "c17e3dfa",
   "metadata": {},
   "source": [
    "Adattiamo il modello parallelo ai dati forniti dagli autori."
   ]
  },
  {
   "cell_type": "code",
   "execution_count": 6,
   "id": "a41046cf",
   "metadata": {
    "vscode": {
     "languageId": "r"
    }
   },
   "outputs": [],
   "source": [
    "fit_parallel <- sem(m_parallel, data=d)"
   ]
  },
  {
   "attachments": {},
   "cell_type": "markdown",
   "id": "d17eb8a3",
   "metadata": {},
   "source": [
    "Calcoliamo il punteggio totale."
   ]
  },
  {
   "cell_type": "code",
   "execution_count": 7,
   "id": "7c4cffb6",
   "metadata": {
    "vscode": {
     "languageId": "r"
    }
   },
   "outputs": [],
   "source": [
    "d$ts <- with(\n",
    "  d,\n",
    "  X4 + X5 + X6 + X7 + X8 + X9\n",
    ")"
   ]
  },
  {
   "attachments": {},
   "cell_type": "markdown",
   "id": "5cf10545",
   "metadata": {},
   "source": [
    "Calcoliamo i punteggi fattoriali."
   ]
  },
  {
   "cell_type": "code",
   "execution_count": 8,
   "id": "2f1fa4b5",
   "metadata": {
    "vscode": {
     "languageId": "r"
    }
   },
   "outputs": [],
   "source": [
    "scores <- lavPredict(fit_parallel, method=\"regression\")\n",
    "d$scores <- as.numeric(scores)"
   ]
  },
  {
   "attachments": {},
   "cell_type": "markdown",
   "id": "484c631d",
   "metadata": {},
   "source": [
    "Un diagramma a dispersione tra il punteggio totale e i punteggi fattoriali conferma che i due sono perfettamente associati. Quindi, usare il punteggio totale o i punteggi fattoriali è equivalente."
   ]
  },
  {
   "cell_type": "code",
   "execution_count": 9,
   "id": "e9075522",
   "metadata": {
    "vscode": {
     "languageId": "r"
    }
   },
   "outputs": [
    {
     "data": {
      "image/png": "[encoded data removed]",
      "text/plain": [
       "plot without title"
      ]
     },
     "metadata": {
      "image/png": {
       "height": 296.6563,
       "width": 480
      }
     },
     "output_type": "display_data"
    }
   ],
   "source": [
    "d |> \n",
    "  ggplot(aes(x=ts, y=scores)) + \n",
    "  geom_point()"
   ]
  },
  {
   "attachments": {},
   "cell_type": "markdown",
   "id": "d232c0fb",
   "metadata": {},
   "source": [
    "Tuttavia, questa conclusione è valida solo se il modello parallelo è giustificato per i dati.  Se esaminiamo l'output di lavaan vediamo che, nel caso presente, questo non è vero."
   ]
  },
  {
   "cell_type": "code",
   "execution_count": 10,
   "id": "433b70ae",
   "metadata": {
    "vscode": {
     "languageId": "r"
    }
   },
   "outputs": [
    {
     "name": "stdout",
     "output_type": "stream",
     "text": [
      "lavaan 0.6-19 ended normally after 13 iterations\n",
      "\n",
      "  Estimator                                         ML\n",
      "  Optimization method                           NLMINB\n",
      "  Number of model parameters                         7\n",
      "  Number of equality constraints                     5\n",
      "\n",
      "  Number of observations                           301\n",
      "\n",
      "Model Test User Model:\n",
      "                                                      \n",
      "  Test statistic                               325.899\n",
      "  Degrees of freedom                                19\n",
      "  P-value (Chi-square)                           0.000\n",
      "\n",
      "Model Test Baseline Model:\n",
      "\n",
      "  Test statistic                               568.519\n",
      "  Degrees of freedom                                15\n",
      "  P-value                                        0.000\n",
      "\n",
      "User Model versus Baseline Model:\n",
      "\n",
      "  Comparative Fit Index (CFI)                    0.446\n",
      "  Tucker-Lewis Index (TLI)                       0.562\n",
      "\n",
      "Loglikelihood and Information Criteria:\n",
      "\n",
      "  Loglikelihood user model (H0)              -2680.931\n",
      "  Loglikelihood unrestricted model (H1)      -2517.981\n",
      "                                                      \n",
      "  Akaike (AIC)                                5365.862\n",
      "  Bayesian (BIC)                              5373.276\n",
      "  Sample-size adjusted Bayesian (SABIC)       5366.933\n",
      "\n",
      "Root Mean Square Error of Approximation:\n",
      "\n",
      "  RMSEA                                          0.232\n",
      "  90 Percent confidence interval - lower         0.210\n",
      "  90 Percent confidence interval - upper         0.254\n",
      "  P-value H_0: RMSEA <= 0.050                    0.000\n",
      "  P-value H_0: RMSEA >= 0.080                    1.000\n",
      "\n",
      "Standardized Root Mean Square Residual:\n",
      "\n",
      "  SRMR                                           0.206\n",
      "\n",
      "Parameter Estimates:\n",
      "\n",
      "  Standard errors                             Standard\n",
      "  Information                                 Expected\n",
      "  Information saturated (h1) model          Structured\n",
      "\n",
      "Latent Variables:\n",
      "                   Estimate  Std.Err  z-value  P(>|z|)   Std.lv\n",
      "  f1 =~                                                        \n",
      "    X4                1.000                               0.633\n",
      "    X5                1.000                               0.633\n",
      "    X6                1.000                               0.633\n",
      "    X7                1.000                               0.633\n",
      "    X8                1.000                               0.633\n",
      "    X9                1.000                               0.633\n",
      "  Std.all\n",
      "         \n",
      "    0.551\n",
      "    0.551\n",
      "    0.551\n",
      "    0.551\n",
      "    0.551\n",
      "    0.551\n",
      "\n",
      "Variances:\n",
      "                   Estimate  Std.Err  z-value  P(>|z|)   Std.lv\n",
      "   .X4      (thet)    0.920    0.034   27.432    0.000    0.920\n",
      "   .X5      (thet)    0.920    0.034   27.432    0.000    0.920\n",
      "   .X6      (thet)    0.920    0.034   27.432    0.000    0.920\n",
      "   .X7      (thet)    0.920    0.034   27.432    0.000    0.920\n",
      "   .X8      (thet)    0.920    0.034   27.432    0.000    0.920\n",
      "   .X9      (thet)    0.920    0.034   27.432    0.000    0.920\n",
      "    f1                0.400    0.045    8.803    0.000    1.000\n",
      "  Std.all\n",
      "    0.697\n",
      "    0.697\n",
      "    0.697\n",
      "    0.697\n",
      "    0.697\n",
      "    0.697\n",
      "    1.000\n",
      "\n"
     ]
    }
   ],
   "source": [
    "# report output with fit measures and standardized estimates\n",
    "out = summary(fit_parallel, fit.measures = TRUE, standardized = TRUE)\n",
    "print(out)"
   ]
  },
  {
   "attachments": {},
   "cell_type": "markdown",
   "id": "4401ccd5",
   "metadata": {},
   "source": [
    "Dunque, per questi dati, il punteggio totale può ovviamente essere calcolato. Ma *non fornisce una misura adeguata del costrutto*. Dunque, il punteggio totale non dovrebbe essere usato nel caso dei dati ottenuti con questo test.\n",
    "\n",
    "## Punteggio totale e modello fattoriale congenerico\n",
    "\n",
    "Gli autori adattano ai dati un modello congenerico."
   ]
  },
  {
   "cell_type": "code",
   "execution_count": 11,
   "id": "8adaef9b",
   "metadata": {
    "vscode": {
     "languageId": "r"
    }
   },
   "outputs": [],
   "source": [
    "m_congeneric <- \n",
    "'\n",
    "  #all loadings are uniquely estimated\n",
    "  f1 =~ NA*X4 + X5 + X6 + X7 + X8 + X9\n",
    "  #constrain factor variance to 1\n",
    "  f1 ~~ 1*f1\n",
    "'"
   ]
  },
  {
   "cell_type": "code",
   "execution_count": 12,
   "id": "a43d5a42",
   "metadata": {
    "vscode": {
     "languageId": "r"
    }
   },
   "outputs": [],
   "source": [
    "# Fit above model\n",
    "fit_congeneric <- sem(m_congeneric, data=d)"
   ]
  },
  {
   "cell_type": "code",
   "execution_count": 13,
   "id": "b6e35980",
   "metadata": {
    "vscode": {
     "languageId": "r"
    }
   },
   "outputs": [
    {
     "data": {
      "text/plain": [
       "\n",
       "\n",
       "Table: Factor Loadings\n",
       "\n",
       "|Latent Factor |Indicator |     B|    SE|      Z| p-value|  Beta|\n",
       "|:-------------|:---------|-----:|-----:|------:|-------:|-----:|\n",
       "|f1            |X4        | 0.963| 0.059| 16.274|   0.000| 0.824|\n",
       "|f1            |X5        | 1.121| 0.067| 16.835|   0.000| 0.846|\n",
       "|f1            |X6        | 0.894| 0.058| 15.450|   0.000| 0.792|\n",
       "|f1            |X7        | 0.195| 0.071|  2.767|   0.006| 0.170|\n",
       "|f1            |X8        | 0.185| 0.063|  2.938|   0.003| 0.180|\n",
       "|f1            |X9        | 0.278| 0.065|  4.245|   0.000| 0.258|"
      ]
     },
     "metadata": {},
     "output_type": "display_data"
    }
   ],
   "source": [
    "parameterEstimates(fit_congeneric, standardized = TRUE) %>%\n",
    "  dplyr::filter(op == \"=~\") %>%\n",
    "  dplyr::select(\n",
    "    \"Latent Factor\" = lhs,\n",
    "    Indicator = rhs,\n",
    "    B = est,\n",
    "    SE = se,\n",
    "    Z = z,\n",
    "    \"p-value\" = pvalue,\n",
    "    Beta = std.all\n",
    "  ) %>%\n",
    "  knitr::kable(\n",
    "    digits = 3, booktabs = TRUE, format = \"markdown\",\n",
    "    caption = \"Factor Loadings\"\n",
    "  )"
   ]
  },
  {
   "attachments": {},
   "cell_type": "markdown",
   "id": "e25dd634",
   "metadata": {},
   "source": [
    "Si noti che le saturazioni fattoriali sono molto diverse tra loro, suggerendo che il punteggio del costrutto si relaziona in modo diverso con ciascun item e che sarebbe inappropriato stimare il punteggio del costrutto assegnando un peso unitario agli item.\n",
    "\n",
    "McNeish e Wolf (2020) calcolano poi i punteggi fattoriali del modello congenerico."
   ]
  },
  {
   "cell_type": "code",
   "execution_count": 14,
   "id": "87aa1219",
   "metadata": {
    "vscode": {
     "languageId": "r"
    }
   },
   "outputs": [],
   "source": [
    "scores_cong <- lavPredict(fit_congeneric, method=\"regression\")\n",
    "d$scores_cong <- as.numeric(scores_cong)"
   ]
  },
  {
   "attachments": {},
   "cell_type": "markdown",
   "id": "7bdb0fe9",
   "metadata": {},
   "source": [
    "Il grafico seguente mostra la relazione tra i punteggi fattoriali e il punteggio totale."
   ]
  },
  {
   "cell_type": "code",
   "execution_count": 15,
   "id": "1aa728ad",
   "metadata": {
    "vscode": {
     "languageId": "r"
    }
   },
   "outputs": [
    {
     "data": {
      "image/png": "[encoded data removed]",
      "text/plain": [
       "plot without title"
      ]
     },
     "metadata": {
      "image/png": {
       "height": 296.6563,
       "width": 480
      }
     },
     "output_type": "display_data"
    }
   ],
   "source": [
    "d |> \n",
    "  ggplot(aes(x=ts, y=scores_cong)) + \n",
    "  geom_point()"
   ]
  },
  {
   "attachments": {},
   "cell_type": "markdown",
   "id": "3670d0bc",
   "metadata": {},
   "source": [
    "Nel caso presente, il coefficiente di determinazione tra punteggio totale e punteggi fattoriali è 0.77."
   ]
  },
  {
   "cell_type": "code",
   "execution_count": 16,
   "id": "89b91b74",
   "metadata": {
    "vscode": {
     "languageId": "r"
    }
   },
   "outputs": [
    {
     "data": {
      "text/html": [
       "0.765992021080728"
      ],
      "text/latex": [
       "0.765992021080728"
      ],
      "text/markdown": [
       "0.765992021080728"
      ],
      "text/plain": [
       "[1] 0.765992"
      ]
     },
     "metadata": {},
     "output_type": "display_data"
    }
   ],
   "source": [
    "cor(d$ts, d$scores_cong)^2"
   ]
  },
  {
   "attachments": {},
   "cell_type": "markdown",
   "id": "23e176df",
   "metadata": {},
   "source": [
    "Secondo gli autori, ciò significa che due persone con un punteggio totale identico potrebbero avere punteggi di modello congenerico potenzialmente diversi perché hanno raggiunto il loro particolare punteggio totale approvando item diversi. Poiché il modello congenerico assegna pesi diversi agli item, ciascun item contribuisce in modo diverso al punteggio fattoriale del modello congenerico, il che non è vero per il punteggio totale. \n",
    "\n",
    "Si noti che, per i dati di Holzinger and Swineford (1939), neppure un modello congenerico ad un fattore si dimostra adeguato."
   ]
  },
  {
   "cell_type": "code",
   "execution_count": 17,
   "id": "90d1d9ce",
   "metadata": {
    "vscode": {
     "languageId": "r"
    }
   },
   "outputs": [
    {
     "name": "stdout",
     "output_type": "stream",
     "text": [
      "lavaan 0.6-19 ended normally after 16 iterations\n",
      "\n",
      "  Estimator                                         ML\n",
      "  Optimization method                           NLMINB\n",
      "  Number of model parameters                        12\n",
      "\n",
      "  Number of observations                           301\n",
      "\n",
      "Model Test User Model:\n",
      "                                                      \n",
      "  Test statistic                               115.366\n",
      "  Degrees of freedom                                 9\n",
      "  P-value (Chi-square)                           0.000\n",
      "\n",
      "Model Test Baseline Model:\n",
      "\n",
      "  Test statistic                               568.519\n",
      "  Degrees of freedom                                15\n",
      "  P-value                                        0.000\n",
      "\n",
      "User Model versus Baseline Model:\n",
      "\n",
      "  Comparative Fit Index (CFI)                    0.808\n",
      "  Tucker-Lewis Index (TLI)                       0.680\n",
      "\n",
      "Loglikelihood and Information Criteria:\n",
      "\n",
      "  Loglikelihood user model (H0)              -2575.664\n",
      "  Loglikelihood unrestricted model (H1)      -2517.981\n",
      "                                                      \n",
      "  Akaike (AIC)                                5175.328\n",
      "  Bayesian (BIC)                              5219.813\n",
      "  Sample-size adjusted Bayesian (SABIC)       5181.756\n",
      "\n",
      "Root Mean Square Error of Approximation:\n",
      "\n",
      "  RMSEA                                          0.198\n",
      "  90 Percent confidence interval - lower         0.167\n",
      "  90 Percent confidence interval - upper         0.231\n",
      "  P-value H_0: RMSEA <= 0.050                    0.000\n",
      "  P-value H_0: RMSEA >= 0.080                    1.000\n",
      "\n",
      "Standardized Root Mean Square Residual:\n",
      "\n",
      "  SRMR                                           0.129\n",
      "\n",
      "Parameter Estimates:\n",
      "\n",
      "  Standard errors                             Standard\n",
      "  Information                                 Expected\n",
      "  Information saturated (h1) model          Structured\n",
      "\n",
      "Latent Variables:\n",
      "                   Estimate  Std.Err  z-value  P(>|z|)   Std.lv\n",
      "  f1 =~                                                        \n",
      "    X4                0.963    0.059   16.274    0.000    0.963\n",
      "    X5                1.121    0.067   16.835    0.000    1.121\n",
      "    X6                0.894    0.058   15.450    0.000    0.894\n",
      "    X7                0.195    0.071    2.767    0.006    0.195\n",
      "    X8                0.185    0.063    2.938    0.003    0.185\n",
      "    X9                0.278    0.065    4.245    0.000    0.278\n",
      "  Std.all\n",
      "         \n",
      "    0.824\n",
      "    0.846\n",
      "    0.792\n",
      "    0.170\n",
      "    0.180\n",
      "    0.258\n",
      "\n",
      "Variances:\n",
      "                   Estimate  Std.Err  z-value  P(>|z|)   Std.lv\n",
      "    f1                1.000                               1.000\n",
      "   .X4                0.437    0.056    7.775    0.000    0.437\n",
      "   .X5                0.500    0.071    6.998    0.000    0.500\n",
      "   .X6                0.474    0.054    8.777    0.000    0.474\n",
      "   .X7                1.278    0.105   12.211    0.000    1.278\n",
      "   .X8                1.023    0.084   12.204    0.000    1.023\n",
      "   .X9                1.080    0.089   12.132    0.000    1.080\n",
      "  Std.all\n",
      "    1.000\n",
      "    0.320\n",
      "    0.285\n",
      "    0.372\n",
      "    0.971\n",
      "    0.967\n",
      "    0.933\n",
      "\n"
     ]
    }
   ],
   "source": [
    "out = summary(fit_congeneric, fit.measures = TRUE, standardized = TRUE)\n",
    "print(out)"
   ]
  },
  {
   "attachments": {},
   "cell_type": "markdown",
   "id": "7d37936d",
   "metadata": {},
   "source": [
    "Se trascuriamo le considerazioni sulla struttura fattoriale e esaminiamo (per esempio) unicamente il coefficiente omega, finiamo per trovare una risposta accettabile, ma sbagliata."
   ]
  },
  {
   "cell_type": "code",
   "execution_count": 18,
   "id": "ab69bd88",
   "metadata": {
    "lines_to_next_cell": 2,
    "vscode": {
     "languageId": "r"
    }
   },
   "outputs": [
    {
     "name": "stderr",
     "output_type": "stream",
     "text": [
      "Caricamento dei namespace richiesti: GPArotation\n",
      "\n"
     ]
    },
    {
     "data": {
      "text/plain": [
       "Omega \n",
       "Call: omegah(m = m, nfactors = nfactors, fm = fm, key = key, flip = flip, \n",
       "    digits = digits, title = title, sl = sl, labels = labels, \n",
       "    plot = plot, n.obs = n.obs, rotate = rotate, Phi = Phi, option = option, \n",
       "    covar = covar)\n",
       "Alpha:                 0.72 \n",
       "G.6:                   0.76 \n",
       "Omega Hierarchical:    0.55 \n",
       "Omega H asymptotic:    0.65 \n",
       "Omega Total            0.84 \n",
       "\n",
       "Schmid Leiman Factor loadings greater than  0.2 \n",
       "      g  F1*  F2*   F3*   h2   h2   u2   p2  com\n",
       "X4 0.73            0.68 1.00 1.00 0.00 0.53 1.99\n",
       "X5 0.96                 0.92 0.92 0.08 1.00 1.01\n",
       "X6 0.69            0.22 0.54 0.54 0.46 0.90 1.22\n",
       "X7           0.56       0.33 0.33 0.67 0.03 1.15\n",
       "X8           0.75       0.59 0.59 0.41 0.05 1.12\n",
       "X9 0.22      0.49       0.29 0.29 0.71 0.16 1.41\n",
       "\n",
       "With Sums of squares  of:\n",
       "   g  F1*  F2*  F3*   h2 \n",
       "2.02 0.00 1.11 0.54 2.67 \n",
       "\n",
       "general/max  0.75   max/min =   622.07\n",
       "mean percent general =  0.44    with sd =  0.43 and cv of  0.97 \n",
       "Explained Common Variance of the general factor =  0.55 \n",
       "\n",
       "The degrees of freedom are 0  and the fit is  0 \n",
       "The number of observations was  301  with Chi Square =  0.03  with prob <  NA\n",
       "The root mean square of the residuals is  0 \n",
       "The df corrected root mean square of the residuals is  NA\n",
       "\n",
       "Compare this with the adequacy of just a general factor and no group factors\n",
       "The degrees of freedom for just the general factor are 9  and the fit is  0.48 \n",
       "The number of observations was  301  with Chi Square =  142.26  with prob <  3.5e-26\n",
       "The root mean square of the residuals is  0.17 \n",
       "The df corrected root mean square of the residuals is  0.21 \n",
       "\n",
       "RMSEA index =  0.222  and the 10 % confidence intervals are  0.191 0.255\n",
       "BIC =  90.9 \n",
       "\n",
       "Measures of factor score adequacy             \n",
       "                                                 g   F1*  F2*  F3*\n",
       "Correlation of scores with factors            0.96  0.08 0.83 0.96\n",
       "Multiple R square of scores with factors      0.93  0.01 0.68 0.91\n",
       "Minimum correlation of factor score estimates 0.86 -0.99 0.36 0.83\n",
       "\n",
       " Total, General and Subset omega for each subset\n",
       "                                                 g  F1*  F2*  F3*\n",
       "Omega total for total scores and subscales    0.84 0.92 0.66 0.86\n",
       "Omega general for total scores and subscales  0.55 0.92 0.04 0.61\n",
       "Omega group for total scores and subscales    0.27 0.00 0.61 0.25"
      ]
     },
     "metadata": {},
     "output_type": "display_data"
    },
    {
     "data": {
      "image/png": "[encoded data removed]",
      "text/plain": [
       "Plot with title \"Omega\""
      ]
     },
     "metadata": {
      "image/png": {
       "height": 296.6563,
       "width": 480
      }
     },
     "output_type": "display_data"
    }
   ],
   "source": [
    "psych::omega(d[, 1:6])"
   ]
  },
  {
   "attachments": {},
   "cell_type": "markdown",
   "id": "d29ff9b5",
   "metadata": {},
   "source": [
    "È invece necessario ipotizzare un modello congenerico a due fattori."
   ]
  },
  {
   "cell_type": "code",
   "execution_count": 19,
   "id": "9b67ae69",
   "metadata": {
    "vscode": {
     "languageId": "r"
    }
   },
   "outputs": [],
   "source": [
    "m2f_cong <- '\n",
    "  # all loadings are uniquely estimated on each factor\n",
    "  f1 =~ NA*X4 + X5 + X6\n",
    "  f2 =~ NA*X7 + X8 + X9\n",
    "  \n",
    "  # constrain factor variancse to 1\n",
    "  f1 ~~ 1*f1\n",
    "  f2 ~~ 1*f2\n",
    "  \n",
    "  # estimate factor covariance\n",
    "  f1 ~~ f2\n",
    "'"
   ]
  },
  {
   "cell_type": "code",
   "execution_count": 20,
   "id": "62925039",
   "metadata": {
    "vscode": {
     "languageId": "r"
    }
   },
   "outputs": [],
   "source": [
    "# Fit above model\n",
    "fit_2f_congeneric <- sem(m2f_cong, data=d)"
   ]
  },
  {
   "attachments": {},
   "cell_type": "markdown",
   "id": "518d9644",
   "metadata": {},
   "source": [
    "Solo questo modello fornisce un adattamento adeguato ai dati."
   ]
  },
  {
   "cell_type": "code",
   "execution_count": 21,
   "id": "6915838c",
   "metadata": {
    "lines_to_next_cell": 2,
    "vscode": {
     "languageId": "r"
    }
   },
   "outputs": [
    {
     "name": "stdout",
     "output_type": "stream",
     "text": [
      "lavaan 0.6-19 ended normally after 18 iterations\n",
      "\n",
      "  Estimator                                         ML\n",
      "  Optimization method                           NLMINB\n",
      "  Number of model parameters                        13\n",
      "\n",
      "  Number of observations                           301\n",
      "\n",
      "Model Test User Model:\n",
      "                                                      \n",
      "  Test statistic                                14.736\n",
      "  Degrees of freedom                                 8\n",
      "  P-value (Chi-square)                           0.064\n",
      "\n",
      "Model Test Baseline Model:\n",
      "\n",
      "  Test statistic                               568.519\n",
      "  Degrees of freedom                                15\n",
      "  P-value                                        0.000\n",
      "\n",
      "User Model versus Baseline Model:\n",
      "\n",
      "  Comparative Fit Index (CFI)                    0.988\n",
      "  Tucker-Lewis Index (TLI)                       0.977\n",
      "\n",
      "Loglikelihood and Information Criteria:\n",
      "\n",
      "  Loglikelihood user model (H0)              -2525.349\n",
      "  Loglikelihood unrestricted model (H1)      -2517.981\n",
      "                                                      \n",
      "  Akaike (AIC)                                5076.698\n",
      "  Bayesian (BIC)                              5124.891\n",
      "  Sample-size adjusted Bayesian (SABIC)       5083.662\n",
      "\n",
      "Root Mean Square Error of Approximation:\n",
      "\n",
      "  RMSEA                                          0.053\n",
      "  90 Percent confidence interval - lower         0.000\n",
      "  90 Percent confidence interval - upper         0.095\n",
      "  P-value H_0: RMSEA <= 0.050                    0.402\n",
      "  P-value H_0: RMSEA >= 0.080                    0.159\n",
      "\n",
      "Standardized Root Mean Square Residual:\n",
      "\n",
      "  SRMR                                           0.035\n",
      "\n",
      "Parameter Estimates:\n",
      "\n",
      "  Standard errors                             Standard\n",
      "  Information                                 Expected\n",
      "  Information saturated (h1) model          Structured\n",
      "\n",
      "Latent Variables:\n",
      "                   Estimate  Std.Err  z-value  P(>|z|)   Std.lv\n",
      "  f1 =~                                                        \n",
      "    X4                0.965    0.059   16.296    0.000    0.965\n",
      "    X5                1.123    0.067   16.845    0.000    1.123\n",
      "    X6                0.895    0.058   15.465    0.000    0.895\n",
      "  f2 =~                                                        \n",
      "    X7                0.659    0.080    8.218    0.000    0.659\n",
      "    X8                0.733    0.077    9.532    0.000    0.733\n",
      "    X9                0.599    0.075    8.025    0.000    0.599\n",
      "  Std.all\n",
      "         \n",
      "    0.826\n",
      "    0.847\n",
      "    0.793\n",
      "         \n",
      "    0.575\n",
      "    0.712\n",
      "    0.557\n",
      "\n",
      "Covariances:\n",
      "                   Estimate  Std.Err  z-value  P(>|z|)   Std.lv\n",
      "  f1 ~~                                                        \n",
      "    f2                0.275    0.072    3.813    0.000    0.275\n",
      "  Std.all\n",
      "         \n",
      "    0.275\n",
      "\n",
      "Variances:\n",
      "                   Estimate  Std.Err  z-value  P(>|z|)   Std.lv\n",
      "    f1                1.000                               1.000\n",
      "    f2                1.000                               1.000\n",
      "   .X4                0.433    0.056    7.679    0.000    0.433\n",
      "   .X5                0.496    0.072    6.892    0.000    0.496\n",
      "   .X6                0.472    0.054    8.732    0.000    0.472\n",
      "   .X7                0.881    0.100    8.807    0.000    0.881\n",
      "   .X8                0.521    0.094    5.534    0.000    0.521\n",
      "   .X9                0.798    0.087    9.162    0.000    0.798\n",
      "  Std.all\n",
      "    1.000\n",
      "    1.000\n",
      "    0.318\n",
      "    0.282\n",
      "    0.371\n",
      "    0.670\n",
      "    0.492\n",
      "    0.689\n",
      "\n"
     ]
    }
   ],
   "source": [
    "out = summary(fit_2f_congeneric, fit.measures = TRUE, standardized = TRUE)\n",
    "print(out)"
   ]
  },
  {
   "cell_type": "markdown",
   "id": "a5f22ab2",
   "metadata": {},
   "source": [
    "Nel contesto di questi dati, l'utilizzo di un modello congenerico non è sufficiente a giustificare l'impiego del punteggio totale, che rappresenta la somma dei punteggi degli item. Questo perché, nel caso specifico, sommando i punteggi di tutti gli item, finiremmo per includere misurazioni di due costrutti distinti."
   ]
  },
  {
   "cell_type": "markdown",
   "id": "ec8ba2cc",
   "metadata": {},
   "source": [
    "## Session Info"
   ]
  },
  {
   "cell_type": "code",
   "execution_count": 22,
   "id": "04d756f3",
   "metadata": {
    "vscode": {
     "languageId": "r"
    }
   },
   "outputs": [
    {
     "data": {
      "text/plain": [
       "R version 4.4.1 (2024-06-14)\n",
       "Platform: aarch64-apple-darwin20\n",
       "Running under: macOS 15.0.1\n",
       "\n",
       "Matrix products: default\n",
       "BLAS:   /Library/Frameworks/R.framework/Versions/4.4-arm64/Resources/lib/libRblas.0.dylib \n",
       "LAPACK: /Library/Frameworks/R.framework/Versions/4.4-arm64/Resources/lib/libRlapack.dylib;  LAPACK version 3.12.0\n",
       "\n",
       "locale:\n",
       "[1] C\n",
       "\n",
       "time zone: Europe/Rome\n",
       "tzcode source: internal\n",
       "\n",
       "attached base packages:\n",
       "[1] stats     graphics  grDevices utils     datasets  methods  \n",
       "[7] base     \n",
       "\n",
       "other attached packages:\n",
       " [1] modelsummary_2.2.0 nortest_1.0-4      MASS_7.3-61       \n",
       " [4] ggokabeito_0.1.0   viridis_0.6.5      viridisLite_0.4.2 \n",
       " [7] ggpubr_0.6.0       ggExtra_0.10.1     gridExtra_2.3     \n",
       "[10] patchwork_1.3.0    bayesplot_1.11.1   semTools_0.5-6    \n",
       "[13] semPlot_1.1.6      lavaan_0.6-19      psych_2.4.6.26    \n",
       "[16] scales_1.3.0       markdown_1.13      knitr_1.48        \n",
       "[19] lubridate_1.9.3    forcats_1.0.0      stringr_1.5.1     \n",
       "[22] dplyr_1.1.4        purrr_1.0.2        readr_2.1.5       \n",
       "[25] tidyr_1.3.1        tibble_3.2.1       ggplot2_3.5.1     \n",
       "[28] tidyverse_2.0.0    here_1.0.1        \n",
       "\n",
       "loaded via a namespace (and not attached):\n",
       "  [1] rstudioapi_0.16.0    jsonlite_1.8.9       magrittr_2.0.3      \n",
       "  [4] TH.data_1.1-2        estimability_1.5.1   farver_2.1.2        \n",
       "  [7] nloptr_2.1.1         rmarkdown_2.28       vctrs_0.6.5         \n",
       " [10] Cairo_1.6-2          minqa_1.2.8          base64enc_0.1-3     \n",
       " [13] rstatix_0.7.2        htmltools_0.5.8.1    broom_1.0.7         \n",
       " [16] Formula_1.2-5        htmlwidgets_1.6.4    plyr_1.8.9          \n",
       " [19] sandwich_3.1-1       rio_1.2.3            emmeans_1.10.4      \n",
       " [22] zoo_1.8-12           uuid_1.2-1           igraph_2.0.3        \n",
       " [25] mime_0.12            lifecycle_1.0.4      pkgconfig_2.0.3     \n",
       " [28] Matrix_1.7-0         R6_2.5.1             fastmap_1.2.0       \n",
       " [31] shiny_1.9.1          digest_0.6.37        OpenMx_2.21.12      \n",
       " [34] fdrtool_1.2.18       colorspace_2.1-1     rprojroot_2.0.4     \n",
       " [37] Hmisc_5.1-3          labeling_0.4.3       fansi_1.0.6         \n",
       " [40] timechange_0.3.0     abind_1.4-8          compiler_4.4.1      \n",
       " [43] withr_3.0.1          glasso_1.11          htmlTable_2.4.3     \n",
       " [46] backports_1.5.0      carData_3.0-5        R.utils_2.12.3      \n",
       " [49] ggsignif_0.6.4       GPArotation_2024.3-1 corpcor_1.6.10      \n",
       " [52] gtools_3.9.5         tools_4.4.1          pbivnorm_0.6.0      \n",
       " [55] foreign_0.8-87       zip_2.3.1            httpuv_1.6.15       \n",
       " [58] nnet_7.3-19          R.oo_1.26.0          glue_1.8.0          \n",
       " [61] quadprog_1.5-8       promises_1.3.0       nlme_3.1-166        \n",
       " [64] lisrelToR_0.3        grid_4.4.1           pbdZMQ_0.3-13       \n",
       " [67] checkmate_2.3.2      cluster_2.1.6        reshape2_1.4.4      \n",
       " [70] generics_0.1.3       gtable_0.3.5         tzdb_0.4.0          \n",
       " [73] R.methodsS3_1.8.2    data.table_1.16.0    hms_1.1.3           \n",
       " [76] car_3.1-3            utf8_1.2.4           tables_0.9.31       \n",
       " [79] sem_3.1-16           pillar_1.9.0         IRdisplay_1.1       \n",
       " [82] rockchalk_1.8.157    later_1.3.2          splines_4.4.1       \n",
       " [85] lattice_0.22-6       survival_3.7-0       kutils_1.73         \n",
       " [88] tidyselect_1.2.1     miniUI_0.1.1.1       pbapply_1.7-2       \n",
       " [91] stats4_4.4.1         xfun_0.48            qgraph_1.9.8        \n",
       " [94] arm_1.14-4           stringi_1.8.4        pacman_0.5.1        \n",
       " [97] boot_1.3-31          evaluate_1.0.0       codetools_0.2-20    \n",
       "[100] mi_1.1               cli_3.6.3            RcppParallel_5.1.9  \n",
       "[103] IRkernel_1.3.2       rpart_4.1.23         xtable_1.8-4        \n",
       "[106] repr_1.1.7           munsell_0.5.1        Rcpp_1.0.13         \n",
       "[109] coda_0.19-4.1        png_0.1-8            XML_3.99-0.17       \n",
       "[112] parallel_4.4.1       jpeg_0.1-10          lme4_1.1-35.5       \n",
       "[115] mvtnorm_1.3-1        insight_0.20.5       openxlsx_4.2.7.1    \n",
       "[118] crayon_1.5.3         rlang_1.1.4          multcomp_1.4-26     \n",
       "[121] mnormt_2.1.1        "
      ]
     },
     "metadata": {},
     "output_type": "display_data"
    }
   ],
   "source": [
    "sessionInfo()"
   ]
  }
 ],
 "metadata": {
  "jupytext": {
   "cell_metadata_filter": "fig.cap,tags,name,out.width,-all",
   "main_language": "R",
   "notebook_metadata_filter": "-all"
  },
  "kernelspec": {
   "display_name": "R",
   "language": "R",
   "name": "ir"
  },
  "language_info": {
   "codemirror_mode": "r",
   "file_extension": ".r",
   "mimetype": "text/x-r-source",
   "name": "R",
   "pygments_lexer": "r",
   "version": "4.4.1"
  }
 },
 "nbformat": 4,
 "nbformat_minor": 5
}
