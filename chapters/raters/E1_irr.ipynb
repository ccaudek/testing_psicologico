{
 "cells": [
  {
   "cell_type": "markdown",
   "metadata": {},
   "source": [
    "(esercizi-irr)=\n",
    "# ✏️ Esercizi"
   ]
  },
  {
   "cell_type": "markdown",
   "metadata": {},
   "source": [
    "In questo tutorial vedremo come calcolare l'affidabilità tra giudici. Il metodo per calcolare l'affidabilità tra giudici dipende dal tipo di dati (categoriali, ordinali, continui) e dal numero di giudici."
   ]
  },
  {
   "cell_type": "code",
   "execution_count": 2,
   "metadata": {
    "vscode": {
     "languageId": "r"
    }
   },
   "outputs": [],
   "source": [
    "source(\"../../code/_common.R\")\n",
    "suppressPackageStartupMessages({\n",
    "    library(\"irr\")\n",
    "    library(\"lme4\")\n",
    "})"
   ]
  },
  {
   "cell_type": "markdown",
   "metadata": {},
   "source": [
    "## Dati categoriali\n",
    "\n",
    "Iniziamo con dati categoriali e utilizziamo un sottoinsieme dei dati forniti dal data frame `diagnoses` del pacchetto irr."
   ]
  },
  {
   "cell_type": "code",
   "execution_count": 3,
   "metadata": {
    "vscode": {
     "languageId": "r"
    }
   },
   "outputs": [
    {
     "name": "stdout",
     "output_type": "stream",
     "text": [
      "Rows: 30\n",
      "Columns: 6\n",
      "$ rater1 \u001b[3m\u001b[90m<fct>\u001b[39m\u001b[23m 4. Neurosis, 2. Personality Disorder, 2. Personality Disorder, ~\n",
      "$ rater2 \u001b[3m\u001b[90m<fct>\u001b[39m\u001b[23m 4. Neurosis, 2. Personality Disorder, 3. Schizophrenia, 5. Othe~\n",
      "$ rater3 \u001b[3m\u001b[90m<fct>\u001b[39m\u001b[23m 4. Neurosis, 2. Personality Disorder, 3. Schizophrenia, 5. Othe~\n",
      "$ rater4 \u001b[3m\u001b[90m<fct>\u001b[39m\u001b[23m 4. Neurosis, 5. Other, 3. Schizophrenia, 5. Other, 4. Neurosis,~\n",
      "$ rater5 \u001b[3m\u001b[90m<fct>\u001b[39m\u001b[23m 4. Neurosis, 5. Other, 3. Schizophrenia, 5. Other, 4. Neurosis,~\n",
      "$ rater6 \u001b[3m\u001b[90m<fct>\u001b[39m\u001b[23m 4. Neurosis, 5. Other, 5. Other, 5. Other, 4. Neurosis, 3. Schi~\n"
     ]
    }
   ],
   "source": [
    "data(diagnoses)\n",
    "glimpse(diagnoses)"
   ]
  },
  {
   "cell_type": "code",
   "execution_count": 4,
   "metadata": {
    "vscode": {
     "languageId": "r"
    }
   },
   "outputs": [
    {
     "data": {
      "text/html": [
       "<table class=\"dataframe\">\n",
       "<caption>A data.frame: 6 x 3</caption>\n",
       "<thead>\n",
       "\t<tr><th></th><th scope=col>rater1</th><th scope=col>rater2</th><th scope=col>rater3</th></tr>\n",
       "\t<tr><th></th><th scope=col>&lt;fct&gt;</th><th scope=col>&lt;fct&gt;</th><th scope=col>&lt;fct&gt;</th></tr>\n",
       "</thead>\n",
       "<tbody>\n",
       "\t<tr><th scope=row>1</th><td>4. Neurosis            </td><td>4. Neurosis            </td><td>4. Neurosis            </td></tr>\n",
       "\t<tr><th scope=row>2</th><td>2. Personality Disorder</td><td>2. Personality Disorder</td><td>2. Personality Disorder</td></tr>\n",
       "\t<tr><th scope=row>3</th><td>2. Personality Disorder</td><td>3. Schizophrenia       </td><td>3. Schizophrenia       </td></tr>\n",
       "\t<tr><th scope=row>4</th><td>5. Other               </td><td>5. Other               </td><td>5. Other               </td></tr>\n",
       "\t<tr><th scope=row>5</th><td>2. Personality Disorder</td><td>2. Personality Disorder</td><td>2. Personality Disorder</td></tr>\n",
       "\t<tr><th scope=row>6</th><td>1. Depression          </td><td>1. Depression          </td><td>3. Schizophrenia       </td></tr>\n",
       "</tbody>\n",
       "</table>\n"
      ],
      "text/latex": [
       "A data.frame: 6 x 3\n",
       "\\begin{tabular}{r|lll}\n",
       "  & rater1 & rater2 & rater3\\\\\n",
       "  & <fct> & <fct> & <fct>\\\\\n",
       "\\hline\n",
       "\t1 & 4. Neurosis             & 4. Neurosis             & 4. Neurosis            \\\\\n",
       "\t2 & 2. Personality Disorder & 2. Personality Disorder & 2. Personality Disorder\\\\\n",
       "\t3 & 2. Personality Disorder & 3. Schizophrenia        & 3. Schizophrenia       \\\\\n",
       "\t4 & 5. Other                & 5. Other                & 5. Other               \\\\\n",
       "\t5 & 2. Personality Disorder & 2. Personality Disorder & 2. Personality Disorder\\\\\n",
       "\t6 & 1. Depression           & 1. Depression           & 3. Schizophrenia       \\\\\n",
       "\\end{tabular}\n"
      ],
      "text/markdown": [
       "\n",
       "A data.frame: 6 x 3\n",
       "\n",
       "| <!--/--> | rater1 &lt;fct&gt; | rater2 &lt;fct&gt; | rater3 &lt;fct&gt; |\n",
       "|---|---|---|---|\n",
       "| 1 | 4. Neurosis             | 4. Neurosis             | 4. Neurosis             |\n",
       "| 2 | 2. Personality Disorder | 2. Personality Disorder | 2. Personality Disorder |\n",
       "| 3 | 2. Personality Disorder | 3. Schizophrenia        | 3. Schizophrenia        |\n",
       "| 4 | 5. Other                | 5. Other                | 5. Other                |\n",
       "| 5 | 2. Personality Disorder | 2. Personality Disorder | 2. Personality Disorder |\n",
       "| 6 | 1. Depression           | 1. Depression           | 3. Schizophrenia        |\n",
       "\n"
      ],
      "text/plain": [
       "  rater1                  rater2                  rater3                 \n",
       "1 4. Neurosis             4. Neurosis             4. Neurosis            \n",
       "2 2. Personality Disorder 2. Personality Disorder 2. Personality Disorder\n",
       "3 2. Personality Disorder 3. Schizophrenia        3. Schizophrenia       \n",
       "4 5. Other                5. Other                5. Other               \n",
       "5 2. Personality Disorder 2. Personality Disorder 2. Personality Disorder\n",
       "6 1. Depression           1. Depression           3. Schizophrenia       "
      ]
     },
     "metadata": {},
     "output_type": "display_data"
    }
   ],
   "source": [
    "dat <- diagnoses[, 1:3]\n",
    "head(dat)"
   ]
  },
  {
   "cell_type": "markdown",
   "metadata": {},
   "source": [
    "Iniziamo considerando il caso di due giudici. Per questi dati calcoleremo il Kappa di Cohen."
   ]
  },
  {
   "cell_type": "code",
   "execution_count": 5,
   "metadata": {
    "vscode": {
     "languageId": "r"
    }
   },
   "outputs": [
    {
     "data": {
      "text/plain": [
       " Cohen's Kappa for 2 Raters (Weights: unweighted)\n",
       "\n",
       " Subjects = 30 \n",
       "   Raters = 2 \n",
       "    Kappa = 0.651 \n",
       "\n",
       "        z = 7 \n",
       "  p-value = 2.63e-12 "
      ]
     },
     "metadata": {},
     "output_type": "display_data"
    }
   ],
   "source": [
    "kappa2(dat[, c(1, 2)], \"unweighted\")"
   ]
  },
  {
   "cell_type": "markdown",
   "metadata": {},
   "source": [
    "Il Kappa di Cohen valuta la concordanza tra due valutatori su una scala categoriale. Può essere usato quando i valutatori assegnano categorie, non punteggi numerici, agli oggetti di interesse. Un valore di Kappa maggiore di 0 indica una maggiore concordanza tra i valutatori rispetto a quella che ci si aspetterebbe per caso, mentre un valore di 0 indica che la concordanza non è maggiore di quella casuale.\n",
    "\n",
    "Nel caso presente, l'output indica che:\n",
    "\n",
    "- **Subjects = 30**: Ci sono 30 oggetti o soggetti che sono stati valutati dai giudici.\n",
    "- **Raters = 2**: Due valutatori hanno partecipato alla valutazione.\n",
    "- **Kappa = 0.651**: Il valore di Kappa, 0.651, suggerisce una concordanza sostanziale tra i due valutatori. Secondo le linee guida generalmente accettate per l'interpretazione del coefficiente di Kappa, un valore tra 0.61 e 0.80 indica una concordanza sostanziale.\n",
    "\n",
    "L'output fornisce anche un test statistico per valutare se la concordanza osservata è significativamente maggiore di quella che ci si aspetterebbe per caso:\n",
    "\n",
    "- **z = 7**: Il valore z del test statistico è 7. Questo indica la distanza della statistica di test (Kappa osservato) dal valore di Kappa atteso sotto l'ipotesi nulla (nessuna concordanza oltre il caso), misurata in unità di deviazione standard. Un valore elevato indica una forte evidenza contro l'ipotesi nulla.\n",
    "- **p-value = 2.63e-12**: Il p-value è estremamente basso, molto inferiore a qualsiasi soglia di significatività comune (ad esempio, 0.05 o 0.01). Questo suggerisce che la probabilità di osservare un valore di Kappa come quello ottenuto (o più estremo) se in realtà non ci fosse concordanza tra i valutatori (oltre quella casuale) è estremamente bassa. In altre parole, c'è una forte evidenza statistica che la concordanza tra i due valutatori è significativamente maggiore di quella che ci si aspetterebbe per caso.\n",
    "\n",
    "In sintesi, l'output indica una concordanza sostanziale tra i due valutatori sulla scala categorica utilizzata, e questa concordanza è statisticamente significativa. Questo suggerisce che i giudizi dei due valutatori sono affidabili e consistenti tra loro oltre quello che ci si aspetterebbe semplicemente per caso."
   ]
  },
  {
   "cell_type": "markdown",
   "metadata": {},
   "source": [
    "Se ci sono più di due giudici, usiamo il Kappa di Fleiss."
   ]
  },
  {
   "cell_type": "code",
   "execution_count": 6,
   "metadata": {
    "vscode": {
     "languageId": "r"
    }
   },
   "outputs": [
    {
     "data": {
      "text/plain": [
       " Fleiss' Kappa for m Raters\n",
       "\n",
       " Subjects = 30 \n",
       "   Raters = 3 \n",
       "    Kappa = 0.534 \n",
       "\n",
       "        z = 9.89 \n",
       "  p-value = 0 "
      ]
     },
     "metadata": {},
     "output_type": "display_data"
    }
   ],
   "source": [
    "kappam.fleiss(dat)"
   ]
  },
  {
   "cell_type": "markdown",
   "metadata": {},
   "source": [
    "È anche possibile utilizzare il Kappa esatto di Conger (1980)."
   ]
  },
  {
   "cell_type": "code",
   "execution_count": 7,
   "metadata": {
    "vscode": {
     "languageId": "r"
    }
   },
   "outputs": [
    {
     "data": {
      "text/plain": [
       " Fleiss' Kappa for m Raters (exact value)\n",
       "\n",
       " Subjects = 30 \n",
       "   Raters = 3 \n",
       "    Kappa = 0.55 "
      ]
     },
     "metadata": {},
     "output_type": "display_data"
    }
   ],
   "source": [
    "kappam.fleiss(dat, exact = TRUE)"
   ]
  },
  {
   "cell_type": "markdown",
   "metadata": {},
   "source": [
    "Nel caso di 3 giudici, otteniamo un valore di Kappa di Fleiss pari a 0.53, il che indica un'accordo moderato tra gli osservatori. Questo significa che c'è una certa concordanza tra di loro, ma non c'è né una forte né una perfetta corrispondenza. In generale, un Kappa di Fleiss compreso tra 0.41 e 0.60 può essere considerato come un'accordo moderato."
   ]
  },
  {
   "cell_type": "markdown",
   "metadata": {},
   "source": [
    "## Dati ordinali\n",
    "\n",
    "Se i dati sono ordinali, è necessario utilizzare un Kappa ponderato. Ad esempio, se i valori possibili sono basso, medio e alto, allora se un caso viene valutato come medio da un codificatore e alto dall'altro, essi sarebbero in un accordo maggiore rispetto a una situazione in cui le valutazioni fossero basso e alto. \n",
    "\n",
    "Per chiarire ulteriormente, il concetto di Kappa ponderato si basa sull'idea che non tutte le discrepanze tra i codificatori siano ugualmente gravi. Nell'esempio dato, la differenza tra le valutazioni medio e alto è considerata meno significativa rispetto alla differenza tra basso e alto, perché le categorie sono vicine l'una all'altra nell'ordine. Il Kappa ponderato introduce quindi dei pesi per riflettere questa differenza di gravità nelle discrepanze, valutando le discrepanze minori (come tra medio e alto) meno severamente delle discrepanze maggiori (come tra basso e alto). Questo approccio è particolarmente utile in contesti dove l'ordine e la distanza tra le categorie sono informativi e importanti per l'analisi.\n",
    "\n",
    "Usiamo i dati forniti dal data frame `anxiety` del pacchetto irr."
   ]
  },
  {
   "cell_type": "code",
   "execution_count": 8,
   "metadata": {
    "vscode": {
     "languageId": "r"
    }
   },
   "outputs": [
    {
     "data": {
      "text/html": [
       "<table class=\"dataframe\">\n",
       "<caption>A data.frame: 20 x 2</caption>\n",
       "<thead>\n",
       "\t<tr><th></th><th scope=col>rater1</th><th scope=col>rater2</th></tr>\n",
       "\t<tr><th></th><th scope=col>&lt;int&gt;</th><th scope=col>&lt;int&gt;</th></tr>\n",
       "</thead>\n",
       "<tbody>\n",
       "\t<tr><th scope=row>1</th><td>3</td><td>3</td></tr>\n",
       "\t<tr><th scope=row>2</th><td>3</td><td>6</td></tr>\n",
       "\t<tr><th scope=row>3</th><td>3</td><td>4</td></tr>\n",
       "\t<tr><th scope=row>4</th><td>4</td><td>6</td></tr>\n",
       "\t<tr><th scope=row>5</th><td>5</td><td>2</td></tr>\n",
       "\t<tr><th scope=row>6</th><td>5</td><td>4</td></tr>\n",
       "\t<tr><th scope=row>7</th><td>2</td><td>2</td></tr>\n",
       "\t<tr><th scope=row>8</th><td>3</td><td>4</td></tr>\n",
       "\t<tr><th scope=row>9</th><td>5</td><td>3</td></tr>\n",
       "\t<tr><th scope=row>10</th><td>2</td><td>3</td></tr>\n",
       "\t<tr><th scope=row>11</th><td>2</td><td>2</td></tr>\n",
       "\t<tr><th scope=row>12</th><td>6</td><td>3</td></tr>\n",
       "\t<tr><th scope=row>13</th><td>1</td><td>3</td></tr>\n",
       "\t<tr><th scope=row>14</th><td>5</td><td>3</td></tr>\n",
       "\t<tr><th scope=row>15</th><td>2</td><td>2</td></tr>\n",
       "\t<tr><th scope=row>16</th><td>2</td><td>2</td></tr>\n",
       "\t<tr><th scope=row>17</th><td>1</td><td>1</td></tr>\n",
       "\t<tr><th scope=row>18</th><td>2</td><td>3</td></tr>\n",
       "\t<tr><th scope=row>19</th><td>4</td><td>3</td></tr>\n",
       "\t<tr><th scope=row>20</th><td>3</td><td>4</td></tr>\n",
       "</tbody>\n",
       "</table>\n"
      ],
      "text/latex": [
       "A data.frame: 20 x 2\n",
       "\\begin{tabular}{r|ll}\n",
       "  & rater1 & rater2\\\\\n",
       "  & <int> & <int>\\\\\n",
       "\\hline\n",
       "\t1 & 3 & 3\\\\\n",
       "\t2 & 3 & 6\\\\\n",
       "\t3 & 3 & 4\\\\\n",
       "\t4 & 4 & 6\\\\\n",
       "\t5 & 5 & 2\\\\\n",
       "\t6 & 5 & 4\\\\\n",
       "\t7 & 2 & 2\\\\\n",
       "\t8 & 3 & 4\\\\\n",
       "\t9 & 5 & 3\\\\\n",
       "\t10 & 2 & 3\\\\\n",
       "\t11 & 2 & 2\\\\\n",
       "\t12 & 6 & 3\\\\\n",
       "\t13 & 1 & 3\\\\\n",
       "\t14 & 5 & 3\\\\\n",
       "\t15 & 2 & 2\\\\\n",
       "\t16 & 2 & 2\\\\\n",
       "\t17 & 1 & 1\\\\\n",
       "\t18 & 2 & 3\\\\\n",
       "\t19 & 4 & 3\\\\\n",
       "\t20 & 3 & 4\\\\\n",
       "\\end{tabular}\n"
      ],
      "text/markdown": [
       "\n",
       "A data.frame: 20 x 2\n",
       "\n",
       "| <!--/--> | rater1 &lt;int&gt; | rater2 &lt;int&gt; |\n",
       "|---|---|---|\n",
       "| 1 | 3 | 3 |\n",
       "| 2 | 3 | 6 |\n",
       "| 3 | 3 | 4 |\n",
       "| 4 | 4 | 6 |\n",
       "| 5 | 5 | 2 |\n",
       "| 6 | 5 | 4 |\n",
       "| 7 | 2 | 2 |\n",
       "| 8 | 3 | 4 |\n",
       "| 9 | 5 | 3 |\n",
       "| 10 | 2 | 3 |\n",
       "| 11 | 2 | 2 |\n",
       "| 12 | 6 | 3 |\n",
       "| 13 | 1 | 3 |\n",
       "| 14 | 5 | 3 |\n",
       "| 15 | 2 | 2 |\n",
       "| 16 | 2 | 2 |\n",
       "| 17 | 1 | 1 |\n",
       "| 18 | 2 | 3 |\n",
       "| 19 | 4 | 3 |\n",
       "| 20 | 3 | 4 |\n",
       "\n"
      ],
      "text/plain": [
       "   rater1 rater2\n",
       "1  3      3     \n",
       "2  3      6     \n",
       "3  3      4     \n",
       "4  4      6     \n",
       "5  5      2     \n",
       "6  5      4     \n",
       "7  2      2     \n",
       "8  3      4     \n",
       "9  5      3     \n",
       "10 2      3     \n",
       "11 2      2     \n",
       "12 6      3     \n",
       "13 1      3     \n",
       "14 5      3     \n",
       "15 2      2     \n",
       "16 2      2     \n",
       "17 1      1     \n",
       "18 2      3     \n",
       "19 4      3     \n",
       "20 3      4     "
      ]
     },
     "metadata": {},
     "output_type": "display_data"
    }
   ],
   "source": [
    "data(anxiety)\n",
    "\n",
    "dfa <- anxiety[, c(1, 2)]\n",
    "dfa"
   ]
  },
  {
   "cell_type": "markdown",
   "metadata": {},
   "source": [
    "Possiamo calcolare il Kappa ponderato sui giudizi di due valutatori. È possibile usare pesi lineari o quadrati delle differenze."
   ]
  },
  {
   "cell_type": "code",
   "execution_count": 9,
   "metadata": {
    "vscode": {
     "languageId": "r"
    }
   },
   "outputs": [
    {
     "data": {
      "text/plain": [
       " Cohen's Kappa for 2 Raters (Weights: squared)\n",
       "\n",
       " Subjects = 20 \n",
       "   Raters = 2 \n",
       "    Kappa = 0.297 \n",
       "\n",
       "        z = 1.34 \n",
       "  p-value = 0.18 "
      ]
     },
     "metadata": {},
     "output_type": "display_data"
    }
   ],
   "source": [
    "kappa2(dfa, \"squared\")"
   ]
  },
  {
   "cell_type": "markdown",
   "metadata": {},
   "source": [
    "Questo valore di Kappa suggerisce che c'è un livello di accordo \"equo\" tra i due valutatori, considerando che i pesi delle discrepanze tra le valutazioni sono calcolati al quadrato. La scala convenzionale per interpretare Kappa è la seguente: valori ≤ 0 indicano nessun accordo, 0.01–0.20 leggero, 0.21–0.40 equo, 0.41–0.60 moderato, 0.61–0.80 sostanziale, e 0.81–1.00 quasi perfetto.\n",
    "\n",
    "Il valore di z è una misura della distanza statistica del valore di Kappa dal valore nullo (nessun accordo oltre il caso), espresso in termini di deviazioni standard. Un p-value di 0.18 indica che non c'è una significatività statistica per rifiutare l'ipotesi nulla di nessun accordo oltre il caso, al livello di significatività convenzionale di 0.05."
   ]
  },
  {
   "cell_type": "code",
   "execution_count": 10,
   "metadata": {
    "vscode": {
     "languageId": "r"
    }
   },
   "outputs": [
    {
     "data": {
      "text/plain": [
       " Cohen's Kappa for 2 Raters (Weights: equal)\n",
       "\n",
       " Subjects = 20 \n",
       "   Raters = 2 \n",
       "    Kappa = 0.189 \n",
       "\n",
       "        z = 1.42 \n",
       "  p-value = 0.157 "
      ]
     },
     "metadata": {},
     "output_type": "display_data"
    }
   ],
   "source": [
    "kappa2(dfa, \"equal\")"
   ]
  },
  {
   "cell_type": "markdown",
   "metadata": {},
   "source": [
    "Con pesi uguali per le discrepanze tra le valutazioni, il valore di Kappa scende a 0.189, indicando sempre un livello di accordo \"leggero\" verso \"equo\" tra i valutatori. Questo suggerisce che l'accordo non è molto forte e che le valutazioni differiscono più di quanto non facciano con i pesi al quadrato.\n",
    "\n",
    "Con un valore di z leggermente più alto rispetto al primo caso e un p-value di 0.157, anche qui non c'è evidenza statistica sufficiente per rifiutare l'ipotesi nulla. Il risultato implica che l'accordo osservato potrebbe ancora essere dovuto al caso, anche se il p-value è leggermente più basso qui, suggerendo una tendenza (anche se non significativa) verso un accordo maggiore rispetto al caso.\n",
    "\n",
    "In conclusione, entrambi gli output indicano un livello di accordo che va da leggero a equo tra i due valutatori, con nessuna delle due misure che raggiunge la significatività statistica. Ciò suggerisce che, mentre c'è qualche grado di accordo oltre la coincidenza casuale, non è forte. La scelta dei pesi influisce leggermente sui risultati, con i pesi al quadrato che mostrano un livello di accordo leggermente superiore rispetto ai pesi uguali. Questo potrebbe riflettere la natura delle discrepanze nelle valutazioni: l'utilizzo di pesi al quadrato penalizza di più le grandi discrepanze rispetto ai pesi uguali."
   ]
  },
  {
   "cell_type": "code",
   "execution_count": 11,
   "metadata": {
    "vscode": {
     "languageId": "r"
    }
   },
   "outputs": [
    {
     "data": {
      "text/plain": [
       " Cohen's Kappa for 2 Raters (Weights: unweighted)\n",
       "\n",
       " Subjects = 20 \n",
       "   Raters = 2 \n",
       "    Kappa = 0.119 \n",
       "\n",
       "        z = 1.16 \n",
       "  p-value = 0.245 "
      ]
     },
     "metadata": {},
     "output_type": "display_data"
    }
   ],
   "source": [
    "kappa2(dfa, \"unweighted\")"
   ]
  },
  {
   "cell_type": "markdown",
   "metadata": {},
   "source": [
    "- Kappa = 0.119: Questo valore rappresenta il livello più basso di accordo tra i tre casi analizzati, indicando un accordo molto debole tra i valutatori. La mancanza di pesi implica che tutti i disaccordi sono stati trattati uniformemente, indipendentemente dalla loro gravità o distanza.\n",
    "- z = 1.16, p-value = 0.245: Questo risultato conferma ulteriormente che l'accordo tra i valutatori non è statisticamente significativo, con un p-value ancora più alto rispetto ai casi precedenti, suggerendo una forte possibilità che qualsiasi accordo osservato sia casuale.\n",
    "\n",
    "I diversi valori di Kappa nei tre scenari riflettono l'effetto della ponderazione (o mancanza di essa) sulla valutazione dell'accordo. L'accordo sembra diminuire man mano che si passa da pesi quadrati a pesi uguali e infine a nessuna ponderazione, indicando che la severità dei disaccordi ha un impatto notevole sull'accordo percepito.\n",
    "\n",
    "Nessuno dei tre scenari ha mostrato un accordo statisticamente significativo tra i valutatori, come indicato dai p-value superiori a 0.05. Ciò suggerisce che, indipendentemente dal metodo di ponderazione utilizzato, l'accordo osservato tra i valutatori potrebbe non essere distintamente migliore di quello che ci si aspetterebbe per caso.\n",
    "\n",
    "La scelta del metodo di ponderazione può influenzare fortemente la stima dell'accordo tra i valutatori. In contesti dove la gravità dei disaccordi è importante, i pesi possono fornire una misura più accurata dell'accordo effettivo. Tuttavia, la mancanza di significatività statistica in tutti e tre i casi solleva questioni sulla coerenza delle valutazioni o sulla possibile necessità di formazione aggiuntiva per i valutatori per migliorare l'affidabilità delle loro valutazioni."
   ]
  },
  {
   "cell_type": "markdown",
   "metadata": {},
   "source": [
    "I dati usati in precedenza erano numerici, ma il Kappa ponderato può anche essere calcolato nel caso di dati categoriali. In R i dati categoriali sono codificati in termini di fattori. Si noti che i livelli dei fattori devono essere nell'ordine corretto, altrimenti i risultati saranno errati."
   ]
  },
  {
   "cell_type": "code",
   "execution_count": 12,
   "metadata": {
    "vscode": {
     "languageId": "r"
    }
   },
   "outputs": [
    {
     "data": {
      "text/html": [
       "<table class=\"dataframe\">\n",
       "<caption>A data.frame: 6 x 2</caption>\n",
       "<thead>\n",
       "\t<tr><th></th><th scope=col>rater1</th><th scope=col>rater2</th></tr>\n",
       "\t<tr><th></th><th scope=col>&lt;fct&gt;</th><th scope=col>&lt;fct&gt;</th></tr>\n",
       "</thead>\n",
       "<tbody>\n",
       "\t<tr><th scope=row>1</th><td>C</td><td>C</td></tr>\n",
       "\t<tr><th scope=row>2</th><td>C</td><td>F</td></tr>\n",
       "\t<tr><th scope=row>3</th><td>C</td><td>D</td></tr>\n",
       "\t<tr><th scope=row>4</th><td>D</td><td>F</td></tr>\n",
       "\t<tr><th scope=row>5</th><td>E</td><td>B</td></tr>\n",
       "\t<tr><th scope=row>6</th><td>E</td><td>D</td></tr>\n",
       "</tbody>\n",
       "</table>\n"
      ],
      "text/latex": [
       "A data.frame: 6 x 2\n",
       "\\begin{tabular}{r|ll}\n",
       "  & rater1 & rater2\\\\\n",
       "  & <fct> & <fct>\\\\\n",
       "\\hline\n",
       "\t1 & C & C\\\\\n",
       "\t2 & C & F\\\\\n",
       "\t3 & C & D\\\\\n",
       "\t4 & D & F\\\\\n",
       "\t5 & E & B\\\\\n",
       "\t6 & E & D\\\\\n",
       "\\end{tabular}\n"
      ],
      "text/markdown": [
       "\n",
       "A data.frame: 6 x 2\n",
       "\n",
       "| <!--/--> | rater1 &lt;fct&gt; | rater2 &lt;fct&gt; |\n",
       "|---|---|---|\n",
       "| 1 | C | C |\n",
       "| 2 | C | F |\n",
       "| 3 | C | D |\n",
       "| 4 | D | F |\n",
       "| 5 | E | B |\n",
       "| 6 | E | D |\n",
       "\n"
      ],
      "text/plain": [
       "  rater1 rater2\n",
       "1 C      C     \n",
       "2 C      F     \n",
       "3 C      D     \n",
       "4 D      F     \n",
       "5 E      B     \n",
       "6 E      D     "
      ]
     },
     "metadata": {},
     "output_type": "display_data"
    }
   ],
   "source": [
    "dfa2 <- dfa\n",
    "dfa2$rater1 <- factor(dfa2$rater1, levels = 1:6, labels = LETTERS[1:6])\n",
    "dfa2$rater2 <- factor(dfa2$rater2, levels = 1:6, labels = LETTERS[1:6])\n",
    "dfa2 |> head()"
   ]
  },
  {
   "cell_type": "code",
   "execution_count": 13,
   "metadata": {
    "vscode": {
     "languageId": "r"
    }
   },
   "outputs": [
    {
     "name": "stdout",
     "output_type": "stream",
     "text": [
      "[1] \"A\" \"B\" \"C\" \"D\" \"E\" \"F\"\n"
     ]
    }
   ],
   "source": [
    "levels(dfa2$rater1) |> print()"
   ]
  },
  {
   "cell_type": "code",
   "execution_count": 14,
   "metadata": {
    "vscode": {
     "languageId": "r"
    }
   },
   "outputs": [
    {
     "name": "stdout",
     "output_type": "stream",
     "text": [
      "[1] \"A\" \"B\" \"C\" \"D\" \"E\" \"F\"\n"
     ]
    }
   ],
   "source": [
    "levels(dfa2$rater2) |> print()"
   ]
  },
  {
   "cell_type": "markdown",
   "metadata": {},
   "source": [
    "I risultati sono uguali a quelli ottenuti con i dati numerici."
   ]
  },
  {
   "cell_type": "code",
   "execution_count": 15,
   "metadata": {
    "vscode": {
     "languageId": "r"
    }
   },
   "outputs": [
    {
     "data": {
      "text/plain": [
       " Cohen's Kappa for 2 Raters (Weights: squared)\n",
       "\n",
       " Subjects = 20 \n",
       "   Raters = 2 \n",
       "    Kappa = 0.297 \n",
       "\n",
       "        z = 1.34 \n",
       "  p-value = 0.18 "
      ]
     },
     "metadata": {},
     "output_type": "display_data"
    }
   ],
   "source": [
    "kappa2(dfa2, \"squared\")"
   ]
  },
  {
   "cell_type": "code",
   "execution_count": 16,
   "metadata": {
    "vscode": {
     "languageId": "r"
    }
   },
   "outputs": [
    {
     "data": {
      "text/plain": [
       " Cohen's Kappa for 2 Raters (Weights: equal)\n",
       "\n",
       " Subjects = 20 \n",
       "   Raters = 2 \n",
       "    Kappa = 0.189 \n",
       "\n",
       "        z = 1.42 \n",
       "  p-value = 0.157 "
      ]
     },
     "metadata": {},
     "output_type": "display_data"
    }
   ],
   "source": [
    "kappa2(dfa2, \"equal\")"
   ]
  },
  {
   "cell_type": "markdown",
   "metadata": {},
   "source": [
    "## Dati continui\n",
    "\n",
    "Quando ci si confronta con variabili continue, è necessario calcolare il Coefficiente di Correlazione Intraclasse (ICC) per valutare l'accordo tra le misurazioni. La selezione dell'ICC appropriato richiede l'attenzione su diversi aspetti (Shrout e Fleiss, 1979). Questi includono:\n",
    "\n",
    "1. **Selezione del Modello**: È cruciale determinare se trattare esclusivamente i soggetti come effetti casuali, seguendo il modello \"oneway\" (impostazione predefinita), oppure se sia soggetti che valutatori sono stati scelti casualmente da un pool più ampio, adottando il modello \"twoway\". Tale decisione dipende dalla struttura del disegno di studio e dall'obiettivo dell'analisi.\n",
    "\n",
    "2. **Interesse per le Differenze**: Nel caso in cui si desideri esaminare le differenze nei punteggi medi tra i valutatori, è preferibile calcolare l'\"accordo\" anziché la \"coerenza\" (quest'ultima è l'opzione predefinita). Questa scelta è cruciale quando le differenze sistematiche tra i valutatori sono rilevanti per l'analisi.\n",
    "\n",
    "3. **Unità di Analisi**: È necessario decidere se l'unità di analisi dovrebbe essere la media di più punteggi o se mantenere l'analisi su valori singoli (impostazione predefinita, unità=\"singola\"). La trasformazione dell'unità di analisi in \"media\" può essere appropriata quando l'interesse è concentrato sulla stima aggregata delle misurazioni, mentre l'opzione \"singola\" è generalmente preferita per esaminare la variabilità tra misurazioni individuali.\n",
    "\n",
    "La scelta tra queste opzioni dovrebbe essere guidata dagli obiettivi specifici della ricerca, dalla natura dei dati e dal contesto in cui le misurazioni sono state raccolte. Tali decisioni influenzano notevolmente l'interpretazione del Coefficiente di Correlazione Intraclasse e, di conseguenza, le conclusioni che possono essere tratte riguardo all'accordo o alla variabilità delle misurazioni all'interno del campione studiato.\n",
    "\n",
    "Per illustrare questi concetti, useremo il set di dati `anxiety` dal pacchetto \"irr\"."
   ]
  },
  {
   "cell_type": "code",
   "execution_count": 17,
   "metadata": {
    "vscode": {
     "languageId": "r"
    }
   },
   "outputs": [
    {
     "data": {
      "text/html": [
       "<table class=\"dataframe\">\n",
       "<caption>A data.frame: 6 x 3</caption>\n",
       "<thead>\n",
       "\t<tr><th></th><th scope=col>rater1</th><th scope=col>rater2</th><th scope=col>rater3</th></tr>\n",
       "\t<tr><th></th><th scope=col>&lt;int&gt;</th><th scope=col>&lt;int&gt;</th><th scope=col>&lt;int&gt;</th></tr>\n",
       "</thead>\n",
       "<tbody>\n",
       "\t<tr><th scope=row>1</th><td>3</td><td>3</td><td>2</td></tr>\n",
       "\t<tr><th scope=row>2</th><td>3</td><td>6</td><td>1</td></tr>\n",
       "\t<tr><th scope=row>3</th><td>3</td><td>4</td><td>4</td></tr>\n",
       "\t<tr><th scope=row>4</th><td>4</td><td>6</td><td>4</td></tr>\n",
       "\t<tr><th scope=row>5</th><td>5</td><td>2</td><td>3</td></tr>\n",
       "\t<tr><th scope=row>6</th><td>5</td><td>4</td><td>2</td></tr>\n",
       "</tbody>\n",
       "</table>\n"
      ],
      "text/latex": [
       "A data.frame: 6 x 3\n",
       "\\begin{tabular}{r|lll}\n",
       "  & rater1 & rater2 & rater3\\\\\n",
       "  & <int> & <int> & <int>\\\\\n",
       "\\hline\n",
       "\t1 & 3 & 3 & 2\\\\\n",
       "\t2 & 3 & 6 & 1\\\\\n",
       "\t3 & 3 & 4 & 4\\\\\n",
       "\t4 & 4 & 6 & 4\\\\\n",
       "\t5 & 5 & 2 & 3\\\\\n",
       "\t6 & 5 & 4 & 2\\\\\n",
       "\\end{tabular}\n"
      ],
      "text/markdown": [
       "\n",
       "A data.frame: 6 x 3\n",
       "\n",
       "| <!--/--> | rater1 &lt;int&gt; | rater2 &lt;int&gt; | rater3 &lt;int&gt; |\n",
       "|---|---|---|---|\n",
       "| 1 | 3 | 3 | 2 |\n",
       "| 2 | 3 | 6 | 1 |\n",
       "| 3 | 3 | 4 | 4 |\n",
       "| 4 | 4 | 6 | 4 |\n",
       "| 5 | 5 | 2 | 3 |\n",
       "| 6 | 5 | 4 | 2 |\n",
       "\n"
      ],
      "text/plain": [
       "  rater1 rater2 rater3\n",
       "1 3      3      2     \n",
       "2 3      6      1     \n",
       "3 3      4      4     \n",
       "4 4      6      4     \n",
       "5 5      2      3     \n",
       "6 5      4      2     "
      ]
     },
     "metadata": {},
     "output_type": "display_data"
    }
   ],
   "source": [
    "data(anxiety)\n",
    "anxiety |> head()"
   ]
  },
  {
   "cell_type": "code",
   "execution_count": 18,
   "metadata": {
    "vscode": {
     "languageId": "r"
    }
   },
   "outputs": [
    {
     "data": {
      "text/plain": [
       " Single Score Intraclass Correlation\n",
       "\n",
       "   Model: twoway \n",
       "   Type : agreement \n",
       "\n",
       "   Subjects = 20 \n",
       "     Raters = 3 \n",
       "   ICC(A,1) = 0.198\n",
       "\n",
       " F-Test, H0: r0 = 0 ; H1: r0 > 0 \n",
       " F(19,39.7) = 1.83 , p = 0.0543 \n",
       "\n",
       " 95%-Confidence Interval for ICC Population Values:\n",
       "  -0.039 < ICC < 0.494"
      ]
     },
     "metadata": {},
     "output_type": "display_data"
    }
   ],
   "source": [
    "icc(anxiety, model = \"twoway\", type = \"agreement\")"
   ]
  },
  {
   "cell_type": "markdown",
   "metadata": {},
   "source": [
    "Possiamo replicare questo risultato usando un modello ad effetti misti. Per fare questo dobbiamo prima trasformare i dati in formato long."
   ]
  },
  {
   "cell_type": "code",
   "execution_count": 19,
   "metadata": {
    "vscode": {
     "languageId": "r"
    }
   },
   "outputs": [
    {
     "name": "stdout",
     "output_type": "stream",
     "text": [
      "Rows: 60\n",
      "Columns: 3\n",
      "$ subject \u001b[3m\u001b[90m<int>\u001b[39m\u001b[23m 1, 1, 1, 2, 2, 2, 3, 3, 3, 4, 4, 4, 5, 5, 5, 6, 6, 6, 7, 7, 7,~\n",
      "$ rater   \u001b[3m\u001b[90m<chr>\u001b[39m\u001b[23m \"1\", \"2\", \"3\", \"1\", \"2\", \"3\", \"1\", \"2\", \"3\", \"1\", \"2\", \"3\", \"1~\n",
      "$ score   \u001b[3m\u001b[90m<int>\u001b[39m\u001b[23m 3, 3, 2, 3, 6, 1, 3, 4, 4, 4, 6, 4, 5, 2, 3, 5, 4, 2, 2, 2, 1,~\n"
     ]
    }
   ],
   "source": [
    "anxiety_long <- anxiety %>%\n",
    "    mutate(subject = row_number()) %>%\n",
    "    pivot_longer(\n",
    "        cols = starts_with(\"rater\"),\n",
    "        names_to = \"rater\",\n",
    "        values_to = \"score\",\n",
    "        names_prefix = \"rater\"\n",
    "    )\n",
    "glimpse(anxiety_long)"
   ]
  },
  {
   "cell_type": "markdown",
   "metadata": {},
   "source": [
    "Possiamo ora adattare il modello misto ai dati."
   ]
  },
  {
   "cell_type": "code",
   "execution_count": 24,
   "metadata": {
    "vscode": {
     "languageId": "r"
    }
   },
   "outputs": [],
   "source": [
    "model <- lmer(score ~ 1 + (1 | subject) + (1 | rater), data = anxiety_long)"
   ]
  },
  {
   "cell_type": "markdown",
   "metadata": {},
   "source": [
    "Il procedimento utilizzato da `lmer` per modellare i dati e calcolare componenti di varianza, che poi possono essere utilizzati per stimare l'Intraclass Correlation Coefficient (ICC), si basa sull'analisi degli effetti misti. Ecco una spiegazione dettagliata del processo:\n",
    "\n",
    "1. **Definizione del Modello**: `lmer(score ~ 1 + (1 | subject) + (1 | rater), data = anxiety_long)` specifica un modello lineare misto, dove `score` è la variabile dipendente. La notazione `(1 | subject)` indica che si vuole considerare un effetto casuale per ogni soggetto (`subject`) che corrisponde unicamente all'intercetta. Analogamente, `(1 | rater)` indica un effetto casuale, corrispondente all'intercetta, per ogni valutatore (`rater`), permettendo che ogni valutatore possa avere una sua propria tendenza generale nella valutazione. Il termine `1` rappresenta l'intercetta fissa comune a tutti i dati.\n",
    "\n",
    "2. **Effetti Fissi e Casuali**: In questo modello, l'unico effetto fisso è l'intercetta globale (il termine `1` nel modello), che rappresenta la media generale dei punteggi di ansia. Gli effetti casuali sono rappresentati dalle varianze associate a ciascun soggetto e valutatore, indicando che si riconosce la presenza di variazioni individuali nei punteggi di ansia attribuibili a questi due fattori.\n",
    "\n",
    "3. **Interpretazione delle Componenti di Varianza**: Le componenti di varianza estratte dal modello rappresentano la quantità di variazione nei punteggi di ansia attribuibili a variazioni tra soggetti (`var_subject`), a variazioni tra valutatori (`var_rater`), e alla variazione residua non spiegata dal modello (`var_residual`). \n",
    "\n",
    "Dopo aver stimato le componenti di varianza, l'ICC può essere calcolato come una proporzione della varianza tra soggetti e tra giudici rispetto alla varianza totale. "
   ]
  },
  {
   "cell_type": "markdown",
   "metadata": {},
   "source": [
    "Esaminiamo le componenti di varianza:"
   ]
  },
  {
   "cell_type": "code",
   "execution_count": 22,
   "metadata": {
    "vscode": {
     "languageId": "r"
    }
   },
   "outputs": [
    {
     "data": {
      "text/html": [
       "<table class=\"dataframe\">\n",
       "<caption>A data.frame: 3 x 5</caption>\n",
       "<thead>\n",
       "\t<tr><th scope=col>grp</th><th scope=col>var1</th><th scope=col>var2</th><th scope=col>vcov</th><th scope=col>sdcor</th></tr>\n",
       "\t<tr><th scope=col>&lt;chr&gt;</th><th scope=col>&lt;chr&gt;</th><th scope=col>&lt;chr&gt;</th><th scope=col>&lt;dbl&gt;</th><th scope=col>&lt;dbl&gt;</th></tr>\n",
       "</thead>\n",
       "<tbody>\n",
       "\t<tr><td>subject </td><td>(Intercept)</td><td>NA</td><td>0.3991227</td><td>0.6317616</td></tr>\n",
       "\t<tr><td>rater   </td><td>(Intercept)</td><td>NA</td><td>0.1684205</td><td>0.4103906</td></tr>\n",
       "\t<tr><td>Residual</td><td>NA         </td><td>NA</td><td>1.4482458</td><td>1.2034308</td></tr>\n",
       "</tbody>\n",
       "</table>\n"
      ],
      "text/latex": [
       "A data.frame: 3 x 5\n",
       "\\begin{tabular}{lllll}\n",
       " grp & var1 & var2 & vcov & sdcor\\\\\n",
       " <chr> & <chr> & <chr> & <dbl> & <dbl>\\\\\n",
       "\\hline\n",
       "\t subject  & (Intercept) & NA & 0.3991227 & 0.6317616\\\\\n",
       "\t rater    & (Intercept) & NA & 0.1684205 & 0.4103906\\\\\n",
       "\t Residual & NA          & NA & 1.4482458 & 1.2034308\\\\\n",
       "\\end{tabular}\n"
      ],
      "text/markdown": [
       "\n",
       "A data.frame: 3 x 5\n",
       "\n",
       "| grp &lt;chr&gt; | var1 &lt;chr&gt; | var2 &lt;chr&gt; | vcov &lt;dbl&gt; | sdcor &lt;dbl&gt; |\n",
       "|---|---|---|---|---|\n",
       "| subject  | (Intercept) | NA | 0.3991227 | 0.6317616 |\n",
       "| rater    | (Intercept) | NA | 0.1684205 | 0.4103906 |\n",
       "| Residual | NA          | NA | 1.4482458 | 1.2034308 |\n",
       "\n"
      ],
      "text/plain": [
       "  grp      var1        var2 vcov      sdcor    \n",
       "1 subject  (Intercept) NA   0.3991227 0.6317616\n",
       "2 rater    (Intercept) NA   0.1684205 0.4103906\n",
       "3 Residual NA          NA   1.4482458 1.2034308"
      ]
     },
     "metadata": {},
     "output_type": "display_data"
    }
   ],
   "source": [
    "vc <- as.data.frame(VarCorr(model))\n",
    "vc"
   ]
  },
  {
   "cell_type": "markdown",
   "metadata": {},
   "source": [
    "Calcolo dell'ICC:"
   ]
  },
  {
   "cell_type": "code",
   "execution_count": 23,
   "metadata": {
    "vscode": {
     "languageId": "r"
    }
   },
   "outputs": [
    {
     "data": {
      "text/html": [
       "0.281548906954477"
      ],
      "text/latex": [
       "0.281548906954477"
      ],
      "text/markdown": [
       "0.281548906954477"
      ],
      "text/plain": [
       "[1] 0.2815489"
      ]
     },
     "metadata": {},
     "output_type": "display_data"
    }
   ],
   "source": [
    "(vc$vcov[1] + vc$vcov[2]) / (vc$vcov[1] + vc$vcov[2] + vc$vcov[3])"
   ]
  },
  {
   "cell_type": "markdown",
   "metadata": {},
   "source": [
    "Questo risultato riproduce quello trovato da `icc()`:"
   ]
  },
  {
   "cell_type": "code",
   "execution_count": 25,
   "metadata": {
    "vscode": {
     "languageId": "r"
    }
   },
   "outputs": [
    {
     "data": {
      "text/html": [
       "<table class=\"dataframe\">\n",
       "<caption>A icc: 1 x 3</caption>\n",
       "<thead>\n",
       "\t<tr><th scope=col>ICC_adjusted</th><th scope=col>ICC_conditional</th><th scope=col>ICC_unadjusted</th></tr>\n",
       "\t<tr><th scope=col>&lt;dbl&gt;</th><th scope=col>&lt;dbl&gt;</th><th scope=col>&lt;dbl&gt;</th></tr>\n",
       "</thead>\n",
       "<tbody>\n",
       "\t<tr><td>0.2815489</td><td>0.2815489</td><td>0.2815489</td></tr>\n",
       "</tbody>\n",
       "</table>\n"
      ],
      "text/latex": [
       "A icc: 1 x 3\n",
       "\\begin{tabular}{lll}\n",
       " ICC\\_adjusted & ICC\\_conditional & ICC\\_unadjusted\\\\\n",
       " <dbl> & <dbl> & <dbl>\\\\\n",
       "\\hline\n",
       "\t 0.2815489 & 0.2815489 & 0.2815489\\\\\n",
       "\\end{tabular}\n"
      ],
      "text/markdown": [
       "\n",
       "A icc: 1 x 3\n",
       "\n",
       "| ICC_adjusted &lt;dbl&gt; | ICC_conditional &lt;dbl&gt; | ICC_unadjusted &lt;dbl&gt; |\n",
       "|---|---|---|\n",
       "| 0.2815489 | 0.2815489 | 0.2815489 |\n",
       "\n"
      ],
      "text/plain": [
       "  ICC_adjusted ICC_conditional ICC_unadjusted\n",
       "1 0.2815489    0.2815489       0.2815489     "
      ]
     },
     "metadata": {},
     "output_type": "display_data"
    }
   ],
   "source": [
    "performance::icc(model)"
   ]
  }
 ],
 "metadata": {
  "kernelspec": {
   "display_name": "R",
   "language": "R",
   "name": "ir"
  },
  "language_info": {
   "codemirror_mode": "r",
   "file_extension": ".r",
   "mimetype": "text/x-r-source",
   "name": "R",
   "pygments_lexer": "r",
   "version": "4.3.3"
  }
 },
 "nbformat": 4,
 "nbformat_minor": 2
}
