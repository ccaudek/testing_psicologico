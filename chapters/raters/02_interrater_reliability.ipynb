{
 "cells": [
  {
   "cell_type": "markdown",
   "metadata": {},
   "source": [
    "# L'affidabilità tra giudici {#sec-interrater-reliability}"
   ]
  },
  {
   "cell_type": "markdown",
   "metadata": {},
   "source": [
    "**Prerequisiti**\n",
    "\n",
    "**Concetti e Competenze Chiave**\n",
    "\n",
    "**Preparazione del Notebook**"
   ]
  },
  {
   "cell_type": "code",
   "execution_count": null,
   "metadata": {
    "vscode": {
     "languageId": "r"
    }
   },
   "outputs": [],
   "source": [
    "here::here(\"code\", \"_common.R\") |>\n",
    "    source()\n",
    "\n",
    "# Load packages\n",
    "if (!requireNamespace(\"pacman\")) install.packages(\"pacman\")\n",
    "pacman::p_load(lme4)"
   ]
  },
  {
   "cell_type": "markdown",
   "metadata": {},
   "source": [
    "## Introduzione\n",
    "\n",
    "Se la valutazione di un test dipende da giudizi soggettivi, è essenziale valutare il grado di accordo tra diversi individui che assegnano i punteggi. Questo tipo di affidabilità è conosciuto come affidabilità inter-valutatore (o inter-scorer, inter-rater reliability in inglese). L'affidabilità inter-valutatore si riferisce alla coerenza o concordanza nelle valutazioni tra due o più giudici che esaminano lo stesso fenomeno o campione. Questo aspetto è fondamentale, in quanto indica il livello di similitudine nei risultati ottenuti da diversi valutatori quando si trovano a esprimere giudizi o a effettuare misurazioni in contesti simili. \n",
    "\n",
    "In pratica, l'affidabilità inter-valutatore si misura calcolando quanto siano vicini tra loro i punteggi o le valutazioni fornite da diversi osservatori. Una forte affidabilità inter-valutatore indica che il test o lo strumento di valutazione produce risultati consistenti e riproducibili, nonostante la presenza di diversi valutatori. Questo è cruciale per garantire che le conclusioni tratte dai risultati del test siano valide e affidabili.\n",
    "\n",
    "L'affidabilità tra giudici è un aspetto fondamentale in molti ambiti della psicologia. Consideriamo il caso di una diagnosi psicologica. Quando diversi psicologi valutano i sintomi di un paziente, è essenziale che le loro valutazioni siano coerenti per garantire una diagnosi accurata. Ad esempio, nella valutazione dei disturbi dell'umore, gli psicologi devono giungere a conclusioni simili basandosi su sintomi osservabili e risposte del paziente a questionari standardizzati. Un esempio nella ricerca potrebbe essere uno studio sull'efficacia di una nuova terapia per l'ansia. Qui, vari terapeuti valutano il livello di ansia dei partecipanti prima e dopo il trattamento. L'affidabilità tra le valutazioni di questi terapeuti è cruciale per validare l'efficacia del trattamento.\n",
    "\n",
    "Questo capitolo esamina l'affidabilità tra giudici in due contesti: con due giudici e con giudici molteplici. Nel primo caso, analizzeremo l'accordo nominale e il Kappa di Cohen. Nel secondo caso, useremo l'ICC, l'ANOVA ad una via e l'ANOVA a due vie. In questo contesto, i modelli a effetti misti si dimostrano fondamentali per gestire disegni con giudici molteplici, catturando le variazioni tra i giudici e tra i partecipanti e fornendo una visione completa dell'affidabilità delle valutazioni."
   ]
  },
  {
   "cell_type": "markdown",
   "metadata": {},
   "source": [
    "Nella discussione seguente useremo i dati dello studio [The Reliability and Validity of Speech-Language Pathologists’ Estimations of Intelligibility in Dysarthria](https://www.mdpi.com/2076-3425/12/8/1011/) di @hirsch2022reliability. In questo studio, i giudici valutano la \"Percentuale di Intelligibilità del Discorso\" di persone affette da disartria. Questa misura soggettiva descrive la percentuale di discorso compreso durante una conversazione con un parlante che soffre di disartria, una condizione che influisce sulla chiarezza e sull'intelligibilità della parola. I giudici ascoltano e valutano le registrazioni vocali dei partecipanti affetti da disartria e stimano la percentuale di parole o frasi che sono in grado di comprendere chiaramente. Questa valutazione fornisce una misura importante dell'impatto della disartria sulla comunicazione verbale quotidiana."
   ]
  },
  {
   "cell_type": "code",
   "execution_count": 4,
   "metadata": {
    "vscode": {
     "languageId": "r"
    }
   },
   "outputs": [
    {
     "data": {
      "text/html": [
       "<table class=\"dataframe\">\n",
       "<caption>A tibble: 6 x 22</caption>\n",
       "<thead>\n",
       "\t<tr><th scope=col>Speaker</th><th scope=col>slp10</th><th scope=col>slp11</th><th scope=col>slp13</th><th scope=col>slp14</th><th scope=col>slp15</th><th scope=col>slp16</th><th scope=col>slp17</th><th scope=col>slp18</th><th scope=col>slp19</th><th scope=col>...</th><th scope=col>slp21</th><th scope=col>slp22</th><th scope=col>slp23</th><th scope=col>slp25</th><th scope=col>slp3</th><th scope=col>slp4</th><th scope=col>slp5</th><th scope=col>slp6</th><th scope=col>slp8</th><th scope=col>slp9</th></tr>\n",
       "\t<tr><th scope=col>&lt;chr&gt;</th><th scope=col>&lt;dbl&gt;</th><th scope=col>&lt;dbl&gt;</th><th scope=col>&lt;dbl&gt;</th><th scope=col>&lt;dbl&gt;</th><th scope=col>&lt;dbl&gt;</th><th scope=col>&lt;dbl&gt;</th><th scope=col>&lt;dbl&gt;</th><th scope=col>&lt;dbl&gt;</th><th scope=col>&lt;dbl&gt;</th><th scope=col>...</th><th scope=col>&lt;dbl&gt;</th><th scope=col>&lt;dbl&gt;</th><th scope=col>&lt;dbl&gt;</th><th scope=col>&lt;dbl&gt;</th><th scope=col>&lt;dbl&gt;</th><th scope=col>&lt;dbl&gt;</th><th scope=col>&lt;dbl&gt;</th><th scope=col>&lt;dbl&gt;</th><th scope=col>&lt;dbl&gt;</th><th scope=col>&lt;dbl&gt;</th></tr>\n",
       "</thead>\n",
       "<tbody>\n",
       "\t<tr><td>AF1  </td><td>96.28</td><td>100.00</td><td>96.56</td><td>99.30</td><td>100.00</td><td>12.58</td><td>100.00</td><td>88.16</td><td>52.58</td><td>...</td><td>77.42</td><td>73.64</td><td>100.00</td><td>100.00</td><td> 37.82</td><td>73.24</td><td>55.01</td><td>100.00</td><td>53.94</td><td>85.07</td></tr>\n",
       "\t<tr><td>AF9  </td><td>12.32</td><td> 34.68</td><td> 0.86</td><td> 3.52</td><td> 12.58</td><td> 0.00</td><td>  6.69</td><td> 0.00</td><td> 7.42</td><td>...</td><td>13.55</td><td> 0.00</td><td>  0.00</td><td>  2.90</td><td>  0.00</td><td>14.51</td><td> 1.72</td><td>    NA</td><td> 6.76</td><td>10.28</td></tr>\n",
       "\t<tr><td>ALSF6</td><td>   NA</td><td> 30.84</td><td> 5.73</td><td>73.94</td><td> 73.87</td><td> 4.52</td><td> 45.13</td><td>41.92</td><td>26.13</td><td>...</td><td>25.81</td><td> 8.31</td><td> 18.46</td><td> 86.77</td><td>  0.00</td><td>26.20</td><td> 3.72</td><td>    NA</td><td> 9.86</td><td>37.75</td></tr>\n",
       "\t<tr><td>ALSF7</td><td>93.98</td><td> 96.31</td><td>61.32</td><td>64.37</td><td>100.00</td><td> 7.74</td><td> 69.92</td><td>88.16</td><td>37.42</td><td>...</td><td>59.35</td><td>34.10</td><td> 90.63</td><td> 53.23</td><td> 99.71</td><td>63.10</td><td>56.73</td><td> 88.83</td><td>64.93</td><td>53.80</td></tr>\n",
       "\t<tr><td>ALSF9</td><td>29.51</td><td> 52.20</td><td>43.55</td><td>46.76</td><td> 60.65</td><td>23.87</td><td> 25.21</td><td>91.64</td><td>37.10</td><td>...</td><td>57.74</td><td>29.51</td><td> 50.14</td><td> 64.84</td><td>  0.00</td><td>31.13</td><td>40.11</td><td> 16.91</td><td> 5.92</td><td>50.00</td></tr>\n",
       "\t<tr><td>ALSM1</td><td>96.28</td><td>    NA</td><td>29.23</td><td>69.44</td><td> 99.35</td><td>82.26</td><td> 70.19</td><td>79.72</td><td>78.39</td><td>...</td><td>83.87</td><td>84.24</td><td> 92.29</td><td>100.00</td><td>100.00</td><td>18.03</td><td>58.74</td><td> 66.48</td><td>51.83</td><td>60.28</td></tr>\n",
       "</tbody>\n",
       "</table>\n"
      ],
      "text/latex": [
       "A tibble: 6 x 22\n",
       "\\begin{tabular}{lllllllllllllllllllll}\n",
       " Speaker & slp10 & slp11 & slp13 & slp14 & slp15 & slp16 & slp17 & slp18 & slp19 & ... & slp21 & slp22 & slp23 & slp25 & slp3 & slp4 & slp5 & slp6 & slp8 & slp9\\\\\n",
       " <chr> & <dbl> & <dbl> & <dbl> & <dbl> & <dbl> & <dbl> & <dbl> & <dbl> & <dbl> & ... & <dbl> & <dbl> & <dbl> & <dbl> & <dbl> & <dbl> & <dbl> & <dbl> & <dbl> & <dbl>\\\\\n",
       "\\hline\n",
       "\t AF1   & 96.28 & 100.00 & 96.56 & 99.30 & 100.00 & 12.58 & 100.00 & 88.16 & 52.58 & ... & 77.42 & 73.64 & 100.00 & 100.00 &  37.82 & 73.24 & 55.01 & 100.00 & 53.94 & 85.07\\\\\n",
       "\t AF9   & 12.32 &  34.68 &  0.86 &  3.52 &  12.58 &  0.00 &   6.69 &  0.00 &  7.42 & ... & 13.55 &  0.00 &   0.00 &   2.90 &   0.00 & 14.51 &  1.72 &     NA &  6.76 & 10.28\\\\\n",
       "\t ALSF6 &    NA &  30.84 &  5.73 & 73.94 &  73.87 &  4.52 &  45.13 & 41.92 & 26.13 & ... & 25.81 &  8.31 &  18.46 &  86.77 &   0.00 & 26.20 &  3.72 &     NA &  9.86 & 37.75\\\\\n",
       "\t ALSF7 & 93.98 &  96.31 & 61.32 & 64.37 & 100.00 &  7.74 &  69.92 & 88.16 & 37.42 & ... & 59.35 & 34.10 &  90.63 &  53.23 &  99.71 & 63.10 & 56.73 &  88.83 & 64.93 & 53.80\\\\\n",
       "\t ALSF9 & 29.51 &  52.20 & 43.55 & 46.76 &  60.65 & 23.87 &  25.21 & 91.64 & 37.10 & ... & 57.74 & 29.51 &  50.14 &  64.84 &   0.00 & 31.13 & 40.11 &  16.91 &  5.92 & 50.00\\\\\n",
       "\t ALSM1 & 96.28 &     NA & 29.23 & 69.44 &  99.35 & 82.26 &  70.19 & 79.72 & 78.39 & ... & 83.87 & 84.24 &  92.29 & 100.00 & 100.00 & 18.03 & 58.74 &  66.48 & 51.83 & 60.28\\\\\n",
       "\\end{tabular}\n"
      ],
      "text/markdown": [
       "\n",
       "A tibble: 6 x 22\n",
       "\n",
       "| Speaker &lt;chr&gt; | slp10 &lt;dbl&gt; | slp11 &lt;dbl&gt; | slp13 &lt;dbl&gt; | slp14 &lt;dbl&gt; | slp15 &lt;dbl&gt; | slp16 &lt;dbl&gt; | slp17 &lt;dbl&gt; | slp18 &lt;dbl&gt; | slp19 &lt;dbl&gt; | ... ... | slp21 &lt;dbl&gt; | slp22 &lt;dbl&gt; | slp23 &lt;dbl&gt; | slp25 &lt;dbl&gt; | slp3 &lt;dbl&gt; | slp4 &lt;dbl&gt; | slp5 &lt;dbl&gt; | slp6 &lt;dbl&gt; | slp8 &lt;dbl&gt; | slp9 &lt;dbl&gt; |\n",
       "|---|---|---|---|---|---|---|---|---|---|---|---|---|---|---|---|---|---|---|---|---|\n",
       "| AF1   | 96.28 | 100.00 | 96.56 | 99.30 | 100.00 | 12.58 | 100.00 | 88.16 | 52.58 | ... | 77.42 | 73.64 | 100.00 | 100.00 |  37.82 | 73.24 | 55.01 | 100.00 | 53.94 | 85.07 |\n",
       "| AF9   | 12.32 |  34.68 |  0.86 |  3.52 |  12.58 |  0.00 |   6.69 |  0.00 |  7.42 | ... | 13.55 |  0.00 |   0.00 |   2.90 |   0.00 | 14.51 |  1.72 |     NA |  6.76 | 10.28 |\n",
       "| ALSF6 |    NA |  30.84 |  5.73 | 73.94 |  73.87 |  4.52 |  45.13 | 41.92 | 26.13 | ... | 25.81 |  8.31 |  18.46 |  86.77 |   0.00 | 26.20 |  3.72 |     NA |  9.86 | 37.75 |\n",
       "| ALSF7 | 93.98 |  96.31 | 61.32 | 64.37 | 100.00 |  7.74 |  69.92 | 88.16 | 37.42 | ... | 59.35 | 34.10 |  90.63 |  53.23 |  99.71 | 63.10 | 56.73 |  88.83 | 64.93 | 53.80 |\n",
       "| ALSF9 | 29.51 |  52.20 | 43.55 | 46.76 |  60.65 | 23.87 |  25.21 | 91.64 | 37.10 | ... | 57.74 | 29.51 |  50.14 |  64.84 |   0.00 | 31.13 | 40.11 |  16.91 |  5.92 | 50.00 |\n",
       "| ALSM1 | 96.28 |     NA | 29.23 | 69.44 |  99.35 | 82.26 |  70.19 | 79.72 | 78.39 | ... | 83.87 | 84.24 |  92.29 | 100.00 | 100.00 | 18.03 | 58.74 |  66.48 | 51.83 | 60.28 |\n",
       "\n"
      ],
      "text/plain": [
       "  Speaker slp10 slp11  slp13 slp14 slp15  slp16 slp17  slp18 slp19 ... slp21\n",
       "1 AF1     96.28 100.00 96.56 99.30 100.00 12.58 100.00 88.16 52.58 ... 77.42\n",
       "2 AF9     12.32  34.68  0.86  3.52  12.58  0.00   6.69  0.00  7.42 ... 13.55\n",
       "3 ALSF6      NA  30.84  5.73 73.94  73.87  4.52  45.13 41.92 26.13 ... 25.81\n",
       "4 ALSF7   93.98  96.31 61.32 64.37 100.00  7.74  69.92 88.16 37.42 ... 59.35\n",
       "5 ALSF9   29.51  52.20 43.55 46.76  60.65 23.87  25.21 91.64 37.10 ... 57.74\n",
       "6 ALSM1   96.28     NA 29.23 69.44  99.35 82.26  70.19 79.72 78.39 ... 83.87\n",
       "  slp22 slp23  slp25  slp3   slp4  slp5  slp6   slp8  slp9 \n",
       "1 73.64 100.00 100.00  37.82 73.24 55.01 100.00 53.94 85.07\n",
       "2  0.00   0.00   2.90   0.00 14.51  1.72     NA  6.76 10.28\n",
       "3  8.31  18.46  86.77   0.00 26.20  3.72     NA  9.86 37.75\n",
       "4 34.10  90.63  53.23  99.71 63.10 56.73  88.83 64.93 53.80\n",
       "5 29.51  50.14  64.84   0.00 31.13 40.11  16.91  5.92 50.00\n",
       "6 84.24  92.29 100.00 100.00 18.03 58.74  66.48 51.83 60.28"
      ]
     },
     "metadata": {},
     "output_type": "display_data"
    }
   ],
   "source": [
    "slp_dat <- read.csv(\"https://osf.io/download/p9gqk/\")\n",
    "slp_vas_wide <- slp_dat |>\n",
    "    select(slpID, Speaker, slp_VAS) |>\n",
    "    pivot_wider(names_from = slpID, values_from = slp_VAS)\n",
    "head(slp_vas_wide)"
   ]
  },
  {
   "cell_type": "markdown",
   "metadata": {},
   "source": [
    "## Due giudici\n",
    "\n",
    "Selezioniamo unicamente due giudici."
   ]
  },
  {
   "cell_type": "code",
   "execution_count": 5,
   "metadata": {
    "vscode": {
     "languageId": "r"
    }
   },
   "outputs": [
    {
     "data": {
      "text/html": [
       "<table class=\"dataframe\">\n",
       "<caption>A tibble: 6 x 2</caption>\n",
       "<thead>\n",
       "\t<tr><th scope=col>slp14</th><th scope=col>slp15</th></tr>\n",
       "\t<tr><th scope=col>&lt;dbl&gt;</th><th scope=col>&lt;dbl&gt;</th></tr>\n",
       "</thead>\n",
       "<tbody>\n",
       "\t<tr><td>99.30</td><td>100.00</td></tr>\n",
       "\t<tr><td> 3.52</td><td> 12.58</td></tr>\n",
       "\t<tr><td>73.94</td><td> 73.87</td></tr>\n",
       "\t<tr><td>64.37</td><td>100.00</td></tr>\n",
       "\t<tr><td>46.76</td><td> 60.65</td></tr>\n",
       "\t<tr><td>69.44</td><td> 99.35</td></tr>\n",
       "</tbody>\n",
       "</table>\n"
      ],
      "text/latex": [
       "A tibble: 6 x 2\n",
       "\\begin{tabular}{ll}\n",
       " slp14 & slp15\\\\\n",
       " <dbl> & <dbl>\\\\\n",
       "\\hline\n",
       "\t 99.30 & 100.00\\\\\n",
       "\t  3.52 &  12.58\\\\\n",
       "\t 73.94 &  73.87\\\\\n",
       "\t 64.37 & 100.00\\\\\n",
       "\t 46.76 &  60.65\\\\\n",
       "\t 69.44 &  99.35\\\\\n",
       "\\end{tabular}\n"
      ],
      "text/markdown": [
       "\n",
       "A tibble: 6 x 2\n",
       "\n",
       "| slp14 &lt;dbl&gt; | slp15 &lt;dbl&gt; |\n",
       "|---|---|\n",
       "| 99.30 | 100.00 |\n",
       "|  3.52 |  12.58 |\n",
       "| 73.94 |  73.87 |\n",
       "| 64.37 | 100.00 |\n",
       "| 46.76 |  60.65 |\n",
       "| 69.44 |  99.35 |\n",
       "\n"
      ],
      "text/plain": [
       "  slp14 slp15 \n",
       "1 99.30 100.00\n",
       "2  3.52  12.58\n",
       "3 73.94  73.87\n",
       "4 64.37 100.00\n",
       "5 46.76  60.65\n",
       "6 69.44  99.35"
      ]
     },
     "metadata": {},
     "output_type": "display_data"
    }
   ],
   "source": [
    "slp_2rater <- slp_vas_wide |>\n",
    "    select(slp14, slp15)\n",
    "head(slp_2rater)"
   ]
  },
  {
   "cell_type": "markdown",
   "metadata": {},
   "source": [
    "### Accordo nominale\n",
    "\n",
    "Per calcolare l'accordo nominale, è necessario analizzare quali valutazioni tra i due giudici corrispondono in modo perfettamente uguale. Utilizzando questa definizione, si ottiene:"
   ]
  },
  {
   "cell_type": "code",
   "execution_count": 6,
   "metadata": {
    "vscode": {
     "languageId": "r"
    }
   },
   "outputs": [
    {
     "data": {
      "text/html": [
       "0.1"
      ],
      "text/latex": [
       "0.1"
      ],
      "text/markdown": [
       "0.1"
      ],
      "text/plain": [
       "[1] 0.1"
      ]
     },
     "metadata": {},
     "output_type": "display_data"
    }
   ],
   "source": [
    "with(slp_2rater, mean(slp14 == slp15))"
   ]
  },
  {
   "cell_type": "markdown",
   "metadata": {},
   "source": [
    "Se invece modifichiamo leggermente la definizione e affermiamo che l'accordo è raggiunto quando rimane invariato anche dopo l'arrotondamento, si ottiene:"
   ]
  },
  {
   "cell_type": "code",
   "execution_count": 7,
   "metadata": {
    "vscode": {
     "languageId": "r"
    }
   },
   "outputs": [
    {
     "name": "stdout",
     "output_type": "stream",
     "text": [
      "   slp14 slp15\n",
      "1     10    10\n",
      "2      0     1\n",
      "3      7     7\n",
      "4      6    10\n",
      "5      5     6\n",
      "6      7    10\n",
      "7      8     9\n",
      "8      8     9\n",
      "9      9     8\n",
      "10    10    10\n",
      "11    10     7\n",
      "12    10    10\n",
      "13     6     5\n",
      "14    10    10\n",
      "15     6    10\n",
      "16    10    10\n",
      "17    10    10\n",
      "18     9    10\n",
      "19     9    10\n",
      "20    10    10\n"
     ]
    }
   ],
   "source": [
    "slp_2round <- round(slp_2rater / 10)\n",
    "slp_2round |> print()"
   ]
  },
  {
   "cell_type": "code",
   "execution_count": 8,
   "metadata": {
    "vscode": {
     "languageId": "r"
    }
   },
   "outputs": [
    {
     "data": {
      "text/plain": [
       "     slp15\n",
       "slp14 0 1 2 3 4 5 6 7 8 9 10\n",
       "   0  0 1 0 0 0 0 0 0 0 0  0\n",
       "   1  0 0 0 0 0 0 0 0 0 0  0\n",
       "   2  0 0 0 0 0 0 0 0 0 0  0\n",
       "   3  0 0 0 0 0 0 0 0 0 0  0\n",
       "   4  0 0 0 0 0 0 0 0 0 0  0\n",
       "   5  0 0 0 0 0 0 1 0 0 0  0\n",
       "   6  0 0 0 0 0 1 0 0 0 0  2\n",
       "   7  0 0 0 0 0 0 0 1 0 0  1\n",
       "   8  0 0 0 0 0 0 0 0 0 2  0\n",
       "   9  0 0 0 0 0 0 0 0 1 0  2\n",
       "   10 0 0 0 0 0 0 0 1 0 0  7"
      ]
     },
     "metadata": {},
     "output_type": "display_data"
    }
   ],
   "source": [
    "slp_2round <- lapply(slp_2round, FUN = factor, levels = 0:10)\n",
    "# Contingency table\n",
    "table(slp_2round)"
   ]
  },
  {
   "cell_type": "markdown",
   "metadata": {},
   "source": [
    "Il codice precedente fa uso di due funzioni principali: `lapply()` e `table()`. Esso opera su una lista o su un dataframe chiamato `slp_2round`, applicando una trasformazione ai dati e successivamente creando una tabella di contingenza. \n",
    "\n",
    "1. `slp_2round <- lapply(slp_2round, FUN = factor, levels = 0:10)`\n",
    "\n",
    "- `lapply()`: questa funzione appartiene alla famiglia delle funzioni \"*apply\" in R, che sono utilizzate per applicare una funzione a ciascun elemento di una lista o di un vettore. `lapply()` restituisce sempre una lista come risultato, mantenendo la lunghezza dell'input originale.\n",
    "  \n",
    "- `slp_2round`: è la lista o il dataframe su cui si sta operando. Il codice modifica questa variabile, sostituendola con il risultato dell'applicazione di `lapply()`.\n",
    "  \n",
    "- `FUN = factor`: specifica che la funzione da applicare a ciascun elemento di `slp_2round` è `factor()`. La funzione `factor()` è utilizzata per codificare un vettore come un fattore, che è utile in R per rappresentare dati categorici.\n",
    "  \n",
    "- `levels = 0:10`: indica i livelli del fattore, che in questo caso sono i numeri da 0 a 10. Questo parametro assicura che i fattori creati abbiano esattamente questi livelli, anche se alcuni di essi non appaiono nei dati. Questo è particolarmente utile per garantire la coerenza dei livelli dei fattori attraverso vari elementi di `slp_2round`, soprattutto se si intende confrontarli o combinarli in seguito.\n",
    "\n",
    "2. `table(slp_2round)`\n",
    "\n",
    "- `table()`: questa funzione crea una tabella di contingenza dai dati forniti. Una tabella di contingenza è un tipo di tabella in formato matriciale che conta la frequenza di combinazioni specifiche di valori all'interno di una o più variabili categoriche.\n",
    "\n",
    "Dopo l'applicazione di `lapply()`, `slp_2round` diventa una lista di elementi, ciascuno dei quali è un fattore con livelli da 0 a 10. Quando si passa questa lista modificata alla funzione `table()`, viene generata una tabella di contingenza. Questa tabella riassume le frequenze dei vari livelli dei fattori attraverso gli elementi della lista `slp_2round`."
   ]
  },
  {
   "cell_type": "code",
   "execution_count": 9,
   "metadata": {
    "vscode": {
     "languageId": "r"
    }
   },
   "outputs": [
    {
     "data": {
      "text/html": [
       "0.4"
      ],
      "text/latex": [
       "0.4"
      ],
      "text/markdown": [
       "0.4"
      ],
      "text/plain": [
       "[1] 0.4"
      ]
     },
     "metadata": {},
     "output_type": "display_data"
    }
   ],
   "source": [
    "p0 <- with(slp_2round, mean(slp14 == slp15))\n",
    "p0"
   ]
  },
  {
   "cell_type": "markdown",
   "metadata": {},
   "source": [
    "Qui, l'arrotondamento serve a ridurre la specificità delle valutazioni, permettendo un confronto più ampio e potenzialmente più flessibile tra le valutazioni dei due giudici​​. Questo approccio riflette una visione più tollerante dell'accordo, riconoscendo che piccole discrepanze nelle valutazioni potrebbero non essere significative in un contesto pratico.\n",
    "\n",
    "Nel contesto specifico descritto, l'arrotondamento implica dividere le valutazioni per 10 e poi arrotondarle al numero intero più vicino. Questo processo rende i valori leggermente diversi equivalenti. Ad esempio, se un giudice assegna una valutazione di 75 e l'altro assegna 78, dividendo per 10 otteniamo 7.5 e 7.8; arrotondando, entrambi i valori diventano 8. Così, valutazioni originalmente diverse vengono arrotondate allo stesso numero intero, permettendo un accordo più ampio tra i giudici. Questo metodo riconosce l'accordo anche in presenza di piccole variazioni nelle valutazioni, riflettendo una visione più flessibile dell'accordo tra i giudici."
   ]
  },
  {
   "cell_type": "markdown",
   "metadata": {},
   "source": [
    "### Kappa di Cohen\n",
    "\n",
    "L'indice di concordanza Kappa di Cohen è definito nel modo seguente:\n",
    "\n",
    "$$\n",
    "\\kappa = \\frac{p_o - p_c}{1 - p_c},\n",
    "$$\n",
    "\n",
    "dove:\n",
    "\n",
    "- $\\kappa$ rappresenta il coefficiente di Kappa di Cohen.\n",
    "- $p_o$ è l'indice di concordanza osservato tra gli osservatori.\n",
    "- $p_c$ è l'indice di concordanza attesa per caso.\n",
    "\n",
    "$p_o$ (indice di concordanza osservato tra gli osservatori):\n",
    "\n",
    "$$\n",
    "p_o = \\frac{{\\text{Numero di accordi osservati}}}{{\\text{Numero totale di confronti}}}\n",
    "$$\n",
    "\n",
    "In altre parole, $p_o$ è il rapporto tra il numero di volte in cui gli osservatori sono concordi (hanno dato la stessa valutazione) e il numero totale di confronti effettuati.\n",
    "\n",
    "$p_c$ è l'indice di concordanza attesa per caso:\n",
    "\n",
    "$$\n",
    "p_c = \\frac{{\\sum (\\text{Riga i-esima del totale}) \\times (\\text{Colonna i-esima del totale})}}{{\\text{Numero totale di confronti}}^2} \n",
    "$$\n",
    "\n",
    "In altre parole, $p_c$ è il rapporto atteso di concordanza tra gli osservatori nel caso in cui le loro valutazioni siano indipendenti.\n",
    "\n",
    "Queste formule vengono utilizzate per calcolare il coefficiente di Kappa di Cohen, che misura la concordanza tra osservatori che stanno misurando una variabile categoriale, tenendo conto della concordanza casuale attesa. Un valore di $\\kappa$ vicino a 1 indica un'alta concordanza, mentre un valore vicino a 0 indica una concordanza casuale e un valore negativo indica una concordanza peggiore di quella casuale."
   ]
  },
  {
   "cell_type": "code",
   "execution_count": 10,
   "metadata": {
    "vscode": {
     "languageId": "r"
    }
   },
   "outputs": [
    {
     "data": {
      "text/html": [
       "0.166666666666667"
      ],
      "text/latex": [
       "0.166666666666667"
      ],
      "text/markdown": [
       "0.166666666666667"
      ],
      "text/plain": [
       "[1] 0.1666667"
      ]
     },
     "metadata": {},
     "output_type": "display_data"
    }
   ],
   "source": [
    "slp_2tab <- table(slp_2round)\n",
    "pc <- sum(colSums(slp_2tab) * rowSums(slp_2tab)) / sum(slp_2tab)^2\n",
    "(kappa <- (p0 - pc) / (1 - pc))"
   ]
  },
  {
   "cell_type": "markdown",
   "metadata": {},
   "source": [
    "Svantaggio: Il coefficiente di Kappa tende a essere basso quando i punteggi sono distribuiti in maniera disomogenea (ad esempio, quando la maggior parte dei punteggi appartiene a determinate categorie). Questa situazione corrisponde esattamente al caso dell'esempio presente.\n",
    "\n",
    "## Giudici multipli\n",
    "\n",
    "### Coefficiente $\\alpha$\n",
    "\n",
    "Il coefficiente $\\alpha$ di Cronbach è comunemente utilizzato per misurare l'affidabilità interna di un test, cioè la coerenza con cui gli item all'interno del test misurano un costrutto comune. Tuttavia, può essere utilizzato anche per valutare l'affidabilità tra giudici in uno studio in cui più valutatori assegnano punteggi o giudizi a una serie di item.\n",
    "\n",
    "Nel contesto dell'affidabilità tra giudici, il coefficiente $\\alpha$ di Cronbach misura quanto consistentemente i diversi giudici valutano gli stessi item. Un valore di $\\alpha$ vicino a 1 indica un alto livello di consistenza (o affidabilità) tra i giudici, suggerendo che stanno valutando gli item in modo simile. Un valore più basso indica una minore coerenza nelle valutazioni tra i giudici.\n",
    "\n",
    "Per calcolare il coefficiente $\\alpha$ di Cronbach in questo contesto, si considerano i punteggi assegnati da ciascun giudice a ciascun item come se fossero item individuali di un test. Quindi, si applica la formula standard del coefficiente $\\alpha$ per valutare la coerenza interna di questi \"item\" (in questo caso, le valutazioni dei giudici)."
   ]
  },
  {
   "cell_type": "code",
   "execution_count": 11,
   "metadata": {
    "vscode": {
     "languageId": "r"
    }
   },
   "outputs": [
    {
     "name": "stderr",
     "output_type": "stream",
     "text": [
      "Number of categories should be increased  in order to count frequencies. \n",
      "\n"
     ]
    },
    {
     "name": "stderr",
     "output_type": "stream",
     "text": [
      "Warning message in cor.smooth(r):\n",
      "\"Matrix was not positive definite, smoothing was done\"\n",
      "In smc, smcs > 1 were set to 1.0\n",
      "\n",
      "In smc, smcs > 1 were set to 1.0\n",
      "\n",
      "In smc, smcs > 1 were set to 1.0\n",
      "\n",
      "In smc, smcs > 1 were set to 1.0\n",
      "\n",
      "In smc, smcs < 0 were set to .0\n",
      "\n",
      "In smc, smcs < 0 were set to .0\n",
      "\n",
      "In smc, smcs < 0 were set to .0\n",
      "\n",
      "In smc, smcs < 0 were set to .0\n",
      "\n",
      "In smc, smcs > 1 were set to 1.0\n",
      "\n",
      "In smc, smcs < 0 were set to .0\n",
      "\n",
      "In smc, smcs > 1 were set to 1.0\n",
      "\n",
      "In smc, smcs > 1 were set to 1.0\n",
      "\n",
      "In smc, smcs > 1 were set to 1.0\n",
      "\n",
      "In smc, smcs > 1 were set to 1.0\n",
      "\n",
      "In smc, smcs < 0 were set to .0\n",
      "\n",
      "In smc, smcs > 1 were set to 1.0\n",
      "\n",
      "In smc, smcs < 0 were set to .0\n",
      "\n",
      "In smc, smcs > 1 were set to 1.0\n",
      "\n",
      "In smc, smcs < 0 were set to .0\n",
      "\n",
      "In smc, smcs > 1 were set to 1.0\n",
      "\n",
      "In smc, smcs > 1 were set to 1.0\n",
      "\n",
      "In smc, smcs > 1 were set to 1.0\n",
      "\n",
      "In smc, smcs > 1 were set to 1.0\n",
      "\n",
      "In smc, smcs > 1 were set to 1.0\n",
      "\n",
      "In smc, smcs < 0 were set to .0\n",
      "\n",
      "In smc, smcs > 1 were set to 1.0\n",
      "\n"
     ]
    },
    {
     "data": {
      "text/plain": [
       "\n",
       "Reliability analysis   \n",
       "Call: psych::alpha(x = slp_vas_wide[-1])\n",
       "\n",
       "  raw_alpha std.alpha G6(smc) average_r S/N    ase mean sd median_r\n",
       "      0.98      0.98       1      0.69  46 0.0076   62 25      0.7\n",
       "\n",
       "    95% confidence boundaries \n",
       "         lower alpha upper\n",
       "Feldt     0.96  0.98  0.99\n",
       "Duhachek  0.96  0.98  0.99\n",
       "\n",
       " Reliability if an item is dropped:\n",
       "      raw_alpha std.alpha G6(smc) average_r S/N var.r med.r\n",
       "slp10      0.97      0.98    0.99      0.68  43 0.014  0.70\n",
       "slp11      0.97      0.98    0.99      0.68  43 0.014  0.70\n",
       "slp13      0.97      0.98    0.99      0.69  44 0.015  0.70\n",
       "slp14      0.97      0.98    0.99      0.69  44 0.015  0.70\n",
       "slp15      0.97      0.98    0.99      0.69  44 0.014  0.70\n",
       "slp16      0.98      0.98    0.99      0.70  46 0.014  0.71\n",
       "slp17      0.97      0.98    0.99      0.68  43 0.015  0.69\n",
       "slp18      0.97      0.98    0.99      0.69  45 0.013  0.70\n",
       "slp19      0.97      0.98    0.99      0.69  45 0.014  0.71\n",
       "slp2       0.97      0.98    1.00      0.69  45 0.014  0.71\n",
       "slp20      0.97      0.98    0.99      0.68  43 0.015  0.69\n",
       "slp21      0.97      0.98    0.99      0.68  43 0.014  0.69\n",
       "slp22      0.97      0.98    0.99      0.69  44 0.015  0.70\n",
       "slp23      0.97      0.98    0.99      0.68  43 0.015  0.69\n",
       "slp25      0.97      0.98    0.99      0.69  45 0.014  0.71\n",
       "slp3       0.98      0.98    0.99      0.70  46 0.014  0.71\n",
       "slp4       0.97      0.98    0.99      0.69  45 0.014  0.71\n",
       "slp5       0.97      0.98    0.99      0.69  45 0.015  0.70\n",
       "slp6       0.98      0.98    0.99      0.70  47 0.010  0.71\n",
       "slp8       0.97      0.98    0.99      0.69  44 0.015  0.70\n",
       "slp9       0.97      0.98    1.00      0.68  43 0.014  0.69\n",
       "\n",
       " Item statistics \n",
       "       n raw.r std.r r.cor r.drop mean sd\n",
       "slp10 18  0.89  0.89  0.90   0.86   81 28\n",
       "slp11 18  0.89  0.90  0.90   0.90   69 33\n",
       "slp13 19  0.86  0.86  0.85   0.86   54 33\n",
       "slp14 20  0.82  0.84  0.84   0.81   80 25\n",
       "slp15 20  0.81  0.83  0.83   0.80   85 22\n",
       "slp16 20  0.77  0.76  0.76   0.73   50 42\n",
       "slp17 20  0.90  0.91  0.91   0.90   63 34\n",
       "slp18 20  0.82  0.80  0.77   0.79   70 30\n",
       "slp19 19  0.83  0.82  0.82   0.81   56 25\n",
       "slp2  20  0.83  0.82  0.82   0.80   64 32\n",
       "slp20 20  0.90  0.90  0.90   0.89   49 25\n",
       "slp21 19  0.91  0.91  0.90   0.91   59 25\n",
       "slp22 20  0.86  0.86  0.86   0.84   50 27\n",
       "slp23 20  0.89  0.89  0.89   0.86   71 32\n",
       "slp25 20  0.79  0.79  0.79   0.77   79 28\n",
       "slp3  19  0.76  0.75  0.76   0.74   52 40\n",
       "slp4  20  0.79  0.79  0.78   0.77   47 27\n",
       "slp5  19  0.82  0.82  0.82   0.81   43 23\n",
       "slp6  13  0.80  0.71  0.71   0.54   76 23\n",
       "slp8  20  0.86  0.87  0.87   0.86   53 31\n",
       "slp9  19  0.89  0.90  0.90   0.90   58 23"
      ]
     },
     "metadata": {},
     "output_type": "display_data"
    }
   ],
   "source": [
    "psych::alpha(slp_vas_wide[-1])"
   ]
  },
  {
   "cell_type": "markdown",
   "metadata": {},
   "source": [
    "Nell'esempio in discussione, il valore del coefficiente $\\alpha$ di Cronbach è 0.98. Questo indica un'altissima affidabilità interna, suggerendo che i giudici coinvolti nello studio hanno fornito delle valutazioni molto consistenti tra loro. Un valore così elevato di $\\alpha$ è raro e suggerisce che ci sia un'alta coerenza nelle valutazioni tra i giudici. In termini pratici, questo significa che si può avere un'elevata fiducia nel fatto che le valutazioni fornite dai diversi giudici siano intercambiabili e riflettano in modo affidabile la \"Percentuale di Intelligibilità del Discorso\" che viene valutata."
   ]
  },
  {
   "cell_type": "markdown",
   "metadata": {},
   "source": [
    "### Coefficiente di correlazione intraclasse\n",
    "\n",
    "Il Coefficiente di Correlazione Intraclasse (ICC) quantifica il grado di somiglianza tra le unità all'interno dello stesso gruppo. A differenza della maggior parte delle altre misure di correlazione, l'ICC viene impiegato con dati organizzati in gruppi anziché con coppie di osservazioni. Questo lo rende particolarmente idoneo per valutare la concordanza tra giudici che stanno valutando lo stesso insieme di individui o item.\n",
    "\n",
    "L'ICC si basa sul framework del modello a effetti misti. Questi modelli statistici consentono di analizzare le variazioni dei punteggi sia all'interno dei gruppi (ovvero le differenze tra le osservazioni all'interno dello stesso gruppo) che tra i gruppi (ovvero le differenze tra i gruppi stessi). Pertanto, l'ICC tiene conto di due fonti di varianza: la varianza all'interno dei gruppi (varianza delle valutazioni dei giudici all'interno dello stesso gruppo) e la varianza tra i gruppi (varianza delle valutazioni dei giudici tra gruppi diversi). Inoltre, viene considerato l'errore casuale presente nelle valutazioni.\n",
    "\n",
    "In sintesi, l'ICC valuta la consistenza delle misurazioni quando queste vengono effettuate da diversi osservatori su un insieme di soggetti o item. Un valore elevato di ICC segnala una forte concordanza tra le valutazioni degli osservatori, indicando che le misurazioni sono affidabili e riproducibili. Al contrario, un ICC basso riflette una discrepanza significativa tra gli osservatori, suggerendo che le valutazioni sono meno consistenti.\n",
    "\n",
    "Il calcolo dell'ICC si basa sull'uso di un modello statistico ad effetti misti, in cui gli osservatori (giudici) fungono da variabili indipendenti e i punteggi assegnati rappresentano la variabile dipendente. Questo modello consente di esaminare e quantificare diverse fonti di variazione nei dati, tra cui:\n",
    "\n",
    "1. La variazione attribuibile ai soggetti (o item) valutati (la varianza di interesse principale).\n",
    "2. La variazione attribuibile agli osservatori (giudici).\n",
    "3. La variazione dovuta all'interazione tra i soggetti (o item) valutati e gli osservatori.\n",
    "4. La variazione causata da errore casuale.\n",
    "\n",
    "L'ICC si calcola dividendo la varianza relativa ai soggetti valutati (o item) per la somma di questa varianza più la varianza dovuta all'errore casuale. Questo rapporto esprime la proporzione della varianza totale dei punteggi che può essere attribuita alla differenziazione tra i soggetti valutati (o item), offrendo un indicatore diretto dell'affidabilità delle misurazioni. Pertanto, un ICC elevato indica che la maggior parte della varianza nei punteggi deriva dalle differenze tra i soggetti valutati (o item), confermando l'affidabilità delle valutazioni fornite dagli osservatori.\n",
    "\n",
    "Tuttavia, ciò che viene considerato come errore dipende da diverse considerazioni, tra cui:\n",
    "\n",
    "1. Se il disegno è \"crossed\" (cioè tutti i giudici valutano ciascun individuo o item) o \"nested\" (diversi gruppi di giudici valutano ciascun individuo o item). Nel primo caso, l'errore sarà associato alle differenze tra i giudici all'interno dello stesso gruppo di individui (o item) valutati, mentre nel secondo caso l'errore sarà relativo alle differenze tra i gruppi di giudici che valutano individui (o item) diversi.\n",
    "2. Se i giudici sono considerati \"fixed\" (non generalizzabili) o \"random\" (generalizzabili a una \"popolazione di giudici\"). Nel caso in cui i giudici siano considerati \"fixed\", si presume che i giudici specifici coinvolti nello studio siano l'unica popolazione rilevante, e l'interesse è focalizzato sulla concordanza tra di loro. Nel caso in cui i giudici siano considerati \"random\", si ammette che i giudici coinvolti nello studio siano solo un campione di una popolazione più ampia di giudici, e l'interesse è sulla concordanza che può essere generalizzata a tale popolazione più vasta.\n",
    "3. La distinzione tra \"consistenza\" (decisioni relative; viene giudicato di interesse solo l'ordinamento dei punteggi) e \"accordo assoluto\" (decisioni assolute; viene giudicato di interesse il valore effettivo del punteggio). Nel contesto della valutazione dei giudici, la consistenza si riferisce al grado in cui i giudici sono concordi nell'ordine di classificazione degli individui valutati, indipendentemente dai valori numerici dei punteggi. D'altra parte, l'accordo assoluto misura il grado di concordanza tra i giudici riguardo ai valori numerici dei punteggi assegnati agli individui valutati.\n",
    "\n",
    "Queste considerazioni sono fondamentali quando si analizzano e interpretano i risultati dell'ICC o di altri metodi di valutazione dell'affidabilità tra giudici o osservatori. La scelta del modello statistico e la definizione dell'errore dipendono da queste varie considerazioni, e la comprensione di questi aspetti è essenziale per una valutazione accurata della concordanza e dell'affidabilità nelle misurazioni effettuate da più giudici o osservatori.\n",
    "\n",
    "### ANOVA ad una via per disegni nidificati\n",
    "\n",
    "Consideriamo il caso in cui i dati rappresentano da due valutazioni assegnate a ciascuna persona da giudici diversi."
   ]
  },
  {
   "cell_type": "code",
   "execution_count": 12,
   "metadata": {
    "vscode": {
     "languageId": "r"
    }
   },
   "outputs": [
    {
     "data": {
      "text/html": [
       "<table class=\"dataframe\">\n",
       "<caption>A grouped_df: 6 x 7</caption>\n",
       "<thead>\n",
       "\t<tr><th scope=col>slpID</th><th scope=col>Speaker</th><th scope=col>slp_VAS</th><th scope=col>slp_VAS.Rel</th><th scope=col>slp_EST</th><th scope=col>slp_EST.Rel</th><th scope=col>SpeakerID</th></tr>\n",
       "\t<tr><th scope=col>&lt;chr&gt;</th><th scope=col>&lt;chr&gt;</th><th scope=col>&lt;dbl&gt;</th><th scope=col>&lt;dbl&gt;</th><th scope=col>&lt;int&gt;</th><th scope=col>&lt;int&gt;</th><th scope=col>&lt;dbl&gt;</th></tr>\n",
       "</thead>\n",
       "<tbody>\n",
       "\t<tr><td>slp10</td><td>AF1  </td><td> 96.28</td><td>  NA</td><td>90</td><td>NA</td><td>1</td></tr>\n",
       "\t<tr><td>slp11</td><td>AF1  </td><td>100.00</td><td>  NA</td><td>80</td><td>NA</td><td>1</td></tr>\n",
       "\t<tr><td>slp13</td><td>AF9  </td><td>  0.86</td><td>  NA</td><td>10</td><td>NA</td><td>2</td></tr>\n",
       "\t<tr><td>slp14</td><td>AF9  </td><td>  3.52</td><td>  NA</td><td>10</td><td>NA</td><td>2</td></tr>\n",
       "\t<tr><td>slp15</td><td>ALSF6</td><td> 73.87</td><td>  NA</td><td>10</td><td>NA</td><td>3</td></tr>\n",
       "\t<tr><td>slp16</td><td>ALSF6</td><td>  4.52</td><td>9.03</td><td> 5</td><td>NA</td><td>3</td></tr>\n",
       "</tbody>\n",
       "</table>\n"
      ],
      "text/latex": [
       "A grouped\\_df: 6 x 7\n",
       "\\begin{tabular}{lllllll}\n",
       " slpID & Speaker & slp\\_VAS & slp\\_VAS.Rel & slp\\_EST & slp\\_EST.Rel & SpeakerID\\\\\n",
       " <chr> & <chr> & <dbl> & <dbl> & <int> & <int> & <dbl>\\\\\n",
       "\\hline\n",
       "\t slp10 & AF1   &  96.28 &   NA & 90 & NA & 1\\\\\n",
       "\t slp11 & AF1   & 100.00 &   NA & 80 & NA & 1\\\\\n",
       "\t slp13 & AF9   &   0.86 &   NA & 10 & NA & 2\\\\\n",
       "\t slp14 & AF9   &   3.52 &   NA & 10 & NA & 2\\\\\n",
       "\t slp15 & ALSF6 &  73.87 &   NA & 10 & NA & 3\\\\\n",
       "\t slp16 & ALSF6 &   4.52 & 9.03 &  5 & NA & 3\\\\\n",
       "\\end{tabular}\n"
      ],
      "text/markdown": [
       "\n",
       "A grouped_df: 6 x 7\n",
       "\n",
       "| slpID &lt;chr&gt; | Speaker &lt;chr&gt; | slp_VAS &lt;dbl&gt; | slp_VAS.Rel &lt;dbl&gt; | slp_EST &lt;int&gt; | slp_EST.Rel &lt;int&gt; | SpeakerID &lt;dbl&gt; |\n",
       "|---|---|---|---|---|---|---|\n",
       "| slp10 | AF1   |  96.28 |   NA | 90 | NA | 1 |\n",
       "| slp11 | AF1   | 100.00 |   NA | 80 | NA | 1 |\n",
       "| slp13 | AF9   |   0.86 |   NA | 10 | NA | 2 |\n",
       "| slp14 | AF9   |   3.52 |   NA | 10 | NA | 2 |\n",
       "| slp15 | ALSF6 |  73.87 |   NA | 10 | NA | 3 |\n",
       "| slp16 | ALSF6 |   4.52 | 9.03 |  5 | NA | 3 |\n",
       "\n"
      ],
      "text/plain": [
       "  slpID Speaker slp_VAS slp_VAS.Rel slp_EST slp_EST.Rel SpeakerID\n",
       "1 slp10 AF1      96.28    NA        90      NA          1        \n",
       "2 slp11 AF1     100.00    NA        80      NA          1        \n",
       "3 slp13 AF9       0.86    NA        10      NA          2        \n",
       "4 slp14 AF9       3.52    NA        10      NA          2        \n",
       "5 slp15 ALSF6    73.87    NA        10      NA          3        \n",
       "6 slp16 ALSF6     4.52  9.03         5      NA          3        "
      ]
     },
     "metadata": {},
     "output_type": "display_data"
    }
   ],
   "source": [
    "slp_vas_nested <- slp_dat |>\n",
    "    mutate(SpeakerID = as.numeric(as.factor(Speaker))) |>\n",
    "    # Select only 10 speakers\n",
    "    filter(SpeakerID <= 10) |>\n",
    "    group_by(Speaker) |>\n",
    "    # Filter specific raters\n",
    "    filter(row_number() %in% (SpeakerID[1] * 2 - (1:0)))\n",
    "\n",
    "head(slp_vas_nested)"
   ]
  },
  {
   "cell_type": "markdown",
   "metadata": {},
   "source": [
    "Verifichiamo che ogni giudice abbia fornito due giudizi per soggetto:"
   ]
  },
  {
   "cell_type": "code",
   "execution_count": 13,
   "metadata": {
    "vscode": {
     "languageId": "r"
    }
   },
   "outputs": [
    {
     "data": {
      "text/html": [
       "<table class=\"dataframe\">\n",
       "<caption>A tibble: 10 x 2</caption>\n",
       "<thead>\n",
       "\t<tr><th scope=col>Speaker</th><th scope=col>Count</th></tr>\n",
       "\t<tr><th scope=col>&lt;chr&gt;</th><th scope=col>&lt;int&gt;</th></tr>\n",
       "</thead>\n",
       "<tbody>\n",
       "\t<tr><td>AF1  </td><td>2</td></tr>\n",
       "\t<tr><td>AF9  </td><td>2</td></tr>\n",
       "\t<tr><td>ALSF6</td><td>2</td></tr>\n",
       "\t<tr><td>ALSF7</td><td>2</td></tr>\n",
       "\t<tr><td>ALSF9</td><td>2</td></tr>\n",
       "\t<tr><td>ALSM1</td><td>2</td></tr>\n",
       "\t<tr><td>ALSM4</td><td>2</td></tr>\n",
       "\t<tr><td>AM1  </td><td>2</td></tr>\n",
       "\t<tr><td>AM3  </td><td>2</td></tr>\n",
       "\t<tr><td>AM5  </td><td>2</td></tr>\n",
       "</tbody>\n",
       "</table>\n"
      ],
      "text/latex": [
       "A tibble: 10 x 2\n",
       "\\begin{tabular}{ll}\n",
       " Speaker & Count\\\\\n",
       " <chr> & <int>\\\\\n",
       "\\hline\n",
       "\t AF1   & 2\\\\\n",
       "\t AF9   & 2\\\\\n",
       "\t ALSF6 & 2\\\\\n",
       "\t ALSF7 & 2\\\\\n",
       "\t ALSF9 & 2\\\\\n",
       "\t ALSM1 & 2\\\\\n",
       "\t ALSM4 & 2\\\\\n",
       "\t AM1   & 2\\\\\n",
       "\t AM3   & 2\\\\\n",
       "\t AM5   & 2\\\\\n",
       "\\end{tabular}\n"
      ],
      "text/markdown": [
       "\n",
       "A tibble: 10 x 2\n",
       "\n",
       "| Speaker &lt;chr&gt; | Count &lt;int&gt; |\n",
       "|---|---|\n",
       "| AF1   | 2 |\n",
       "| AF9   | 2 |\n",
       "| ALSF6 | 2 |\n",
       "| ALSF7 | 2 |\n",
       "| ALSF9 | 2 |\n",
       "| ALSM1 | 2 |\n",
       "| ALSM4 | 2 |\n",
       "| AM1   | 2 |\n",
       "| AM3   | 2 |\n",
       "| AM5   | 2 |\n",
       "\n"
      ],
      "text/plain": [
       "   Speaker Count\n",
       "1  AF1     2    \n",
       "2  AF9     2    \n",
       "3  ALSF6   2    \n",
       "4  ALSF7   2    \n",
       "5  ALSF9   2    \n",
       "6  ALSM1   2    \n",
       "7  ALSM4   2    \n",
       "8  AM1     2    \n",
       "9  AM3     2    \n",
       "10 AM5     2    "
      ]
     },
     "metadata": {},
     "output_type": "display_data"
    }
   ],
   "source": [
    "slp_vas_nested %>%\n",
    "  group_by(Speaker) %>%\n",
    "  summarise(Count = n())"
   ]
  },
  {
   "cell_type": "markdown",
   "metadata": {},
   "source": [
    "Ci sono 20 giudici:"
   ]
  },
  {
   "cell_type": "code",
   "execution_count": 16,
   "metadata": {
    "vscode": {
     "languageId": "r"
    }
   },
   "outputs": [
    {
     "data": {
      "text/html": [
       "20"
      ],
      "text/latex": [
       "20"
      ],
      "text/markdown": [
       "20"
      ],
      "text/plain": [
       "[1] 20"
      ]
     },
     "metadata": {},
     "output_type": "display_data"
    }
   ],
   "source": [
    "length(slp_vas_nested$Speaker)"
   ]
  },
  {
   "cell_type": "markdown",
   "metadata": {},
   "source": [
    "In questo studio, analizziamo dati costituiti da due valutazioni fornite a ciascun individuo da giudici diversi. Il nostro obiettivo è identificare e separare due principali fonti di variazione: le differenze tra i giudici e le variazioni casuali all'interno delle valutazioni di ciascun giudice. \n",
    "\n",
    "La sfida risiede nel distinguere queste fonti di variazione, essenziale per determinare la proporzione di variabilità nei punteggi attribuibile a reali differenze tra i giudici, rispetto a quella derivante da errori casuali. Per affrontare questo problema, applichiamo un'analisi della varianza a effetti casuali (Random-Effects ANOVA), utilizzando il modello lineare misto implementato attraverso la funzione `lmer()` di R. Questa metodologia ci permette di stimare separatamente la varianza dovuta alle differenze tra i giudici e quella associata all'errore casuale.\n",
    "\n",
    "Implementiamo il modello `lmer(slp_VAS ~ 1 + (1 | Speaker), data = slp_vas_nested)`, dove il termine `Speaker` rappresenta i giudici. Attraverso questo modello, trattiamo le intercette associate a ciascun giudice come effetti casuali, consentendoci di catturare le specifiche variazioni tra i giudici al di là delle fluttuazioni casuali."
   ]
  },
  {
   "cell_type": "code",
   "execution_count": 15,
   "metadata": {
    "vscode": {
     "languageId": "r"
    }
   },
   "outputs": [
    {
     "data": {
      "text/plain": [
       "Linear mixed model fit by REML ['lmerMod']\n",
       "Formula: slp_VAS ~ 1 + (1 | Speaker)\n",
       "   Data: slp_vas_nested\n",
       "\n",
       "REML criterion at convergence: 179.6\n",
       "\n",
       "Scaled residuals: \n",
       "     Min       1Q   Median       3Q      Max \n",
       "-1.50049 -0.77609 -0.05948  0.87584  1.35589 \n",
       "\n",
       "Random effects:\n",
       " Groups   Name        Variance Std.Dev.\n",
       " Speaker  (Intercept) 308.9    17.58   \n",
       " Residual             816.8    28.58   \n",
       "Number of obs: 19, groups:  Speaker, 10\n",
       "\n",
       "Fixed effects:\n",
       "            Estimate Std. Error t value\n",
       "(Intercept)   53.613      8.627   6.214"
      ]
     },
     "metadata": {},
     "output_type": "display_data"
    }
   ],
   "source": [
    "m1 <- lmer(slp_VAS ~ 1 + (1 | Speaker), data = slp_vas_nested)\n",
    "summary(m1)"
   ]
  },
  {
   "cell_type": "markdown",
   "metadata": {},
   "source": [
    "Dall'analisi emergono due componenti principali di varianza:\n",
    "- La varianza attribuibile a differenze intrinseche tra i soggetti valutati (`slpID`), che riflette la variabilità naturale tra gli individui.\n",
    "- La varianza attribuibile ai giudici (`Speaker`), che misura l'estensione del bias sistematico, ossia la tendenza di alcuni giudici a fornire valutazioni sistematicamente più alte o più basse rispetto ad altri.\n",
    "\n",
    "In aggiunta, abbiamo la varianza residua, che include l'errore di misurazione e altre fonti di variabilità non spiegate dal modello."
   ]
  },
  {
   "cell_type": "code",
   "execution_count": 17,
   "metadata": {
    "vscode": {
     "languageId": "r"
    }
   },
   "outputs": [
    {
     "data": {
      "text/html": [
       "<table class=\"dataframe\">\n",
       "<caption>A data.frame: 2 x 5</caption>\n",
       "<thead>\n",
       "\t<tr><th scope=col>grp</th><th scope=col>var1</th><th scope=col>var2</th><th scope=col>vcov</th><th scope=col>sdcor</th></tr>\n",
       "\t<tr><th scope=col>&lt;chr&gt;</th><th scope=col>&lt;chr&gt;</th><th scope=col>&lt;chr&gt;</th><th scope=col>&lt;dbl&gt;</th><th scope=col>&lt;dbl&gt;</th></tr>\n",
       "</thead>\n",
       "<tbody>\n",
       "\t<tr><td>Speaker </td><td>(Intercept)</td><td>NA</td><td>308.9062</td><td>17.57573</td></tr>\n",
       "\t<tr><td>Residual</td><td>NA         </td><td>NA</td><td>816.8141</td><td>28.57996</td></tr>\n",
       "</tbody>\n",
       "</table>\n"
      ],
      "text/latex": [
       "A data.frame: 2 x 5\n",
       "\\begin{tabular}{lllll}\n",
       " grp & var1 & var2 & vcov & sdcor\\\\\n",
       " <chr> & <chr> & <chr> & <dbl> & <dbl>\\\\\n",
       "\\hline\n",
       "\t Speaker  & (Intercept) & NA & 308.9062 & 17.57573\\\\\n",
       "\t Residual & NA          & NA & 816.8141 & 28.57996\\\\\n",
       "\\end{tabular}\n"
      ],
      "text/markdown": [
       "\n",
       "A data.frame: 2 x 5\n",
       "\n",
       "| grp &lt;chr&gt; | var1 &lt;chr&gt; | var2 &lt;chr&gt; | vcov &lt;dbl&gt; | sdcor &lt;dbl&gt; |\n",
       "|---|---|---|---|---|\n",
       "| Speaker  | (Intercept) | NA | 308.9062 | 17.57573 |\n",
       "| Residual | NA          | NA | 816.8141 | 28.57996 |\n",
       "\n"
      ],
      "text/plain": [
       "  grp      var1        var2 vcov     sdcor   \n",
       "1 Speaker  (Intercept) NA   308.9062 17.57573\n",
       "2 Residual NA          NA   816.8141 28.57996"
      ]
     },
     "metadata": {},
     "output_type": "display_data"
    }
   ],
   "source": [
    "vc_m1 <- as.data.frame(VarCorr(m1))\n",
    "vc_m1"
   ]
  },
  {
   "cell_type": "markdown",
   "metadata": {},
   "source": [
    "Per valutare l'affidabilità delle valutazioni, calcoliamo l'Intraclass Correlation Coefficient (ICC) utilizzando i dati estratti dal modello. Questo coefficiente quantifica la proporzione della varianza totale attribuibile alle differenze tra i soggetti valutati, offrendoci un indice dell'affidabilità delle valutazioni in contesti dove sono coinvolti giudizi o misurazioni ripetute.\n",
    "\n",
    "Un ICC prossimo a 1 indica che la maggior parte della variabilità nei dati è dovuta a differenze reali tra i soggetti valutati, mentre un valore più basso suggerisce un'influenza significativa di variazioni casuali o di bias dei giudici sulla variabilità totale osservata."
   ]
  },
  {
   "cell_type": "markdown",
   "metadata": {},
   "source": [
    "Calcoliamo l'ICC per una singola valutazione:\n",
    "\n",
    "$$\n",
    "ICC = \\frac{\\sigma^2_{\\text{giudici}}} {\\sigma^2_{\\text{giudici}} + \\sigma^2_E}.\n",
    "$$\n",
    "\n",
    "Nella formula, l'ICC misura la proporzione della varianza totale del punteggio `slp_VAS` che è attribuibile alla variazione tra i gruppi dei giudici (Speaker) rispetto alla variazione residua o errore."
   ]
  },
  {
   "cell_type": "code",
   "execution_count": 15,
   "metadata": {
    "vscode": {
     "languageId": "r"
    }
   },
   "outputs": [
    {
     "data": {
      "text/html": [
       "0.274407605476794"
      ],
      "text/latex": [
       "0.274407605476794"
      ],
      "text/markdown": [
       "0.274407605476794"
      ],
      "text/plain": [
       "[1] 0.2744076"
      ]
     },
     "metadata": {},
     "output_type": "display_data"
    }
   ],
   "source": [
    "vc_m1$vcov[1] / (vc_m1$vcov[1] + vc_m1$vcov[2])"
   ]
  },
  {
   "cell_type": "markdown",
   "metadata": {},
   "source": [
    "Utilizziamo la funzione `icc()` del pacchetto `performance`:"
   ]
  },
  {
   "cell_type": "code",
   "execution_count": 16,
   "metadata": {
    "vscode": {
     "languageId": "r"
    }
   },
   "outputs": [
    {
     "data": {
      "text/html": [
       "<table class=\"dataframe\">\n",
       "<caption>A icc: 1 x 3</caption>\n",
       "<thead>\n",
       "\t<tr><th scope=col>ICC_adjusted</th><th scope=col>ICC_conditional</th><th scope=col>ICC_unadjusted</th></tr>\n",
       "\t<tr><th scope=col>&lt;dbl&gt;</th><th scope=col>&lt;dbl&gt;</th><th scope=col>&lt;dbl&gt;</th></tr>\n",
       "</thead>\n",
       "<tbody>\n",
       "\t<tr><td>0.2744076</td><td>0.2744076</td><td>0.2744076</td></tr>\n",
       "</tbody>\n",
       "</table>\n"
      ],
      "text/latex": [
       "A icc: 1 x 3\n",
       "\\begin{tabular}{lll}\n",
       " ICC\\_adjusted & ICC\\_conditional & ICC\\_unadjusted\\\\\n",
       " <dbl> & <dbl> & <dbl>\\\\\n",
       "\\hline\n",
       "\t 0.2744076 & 0.2744076 & 0.2744076\\\\\n",
       "\\end{tabular}\n"
      ],
      "text/markdown": [
       "\n",
       "A icc: 1 x 3\n",
       "\n",
       "| ICC_adjusted &lt;dbl&gt; | ICC_conditional &lt;dbl&gt; | ICC_unadjusted &lt;dbl&gt; |\n",
       "|---|---|---|\n",
       "| 0.2744076 | 0.2744076 | 0.2744076 |\n",
       "\n"
      ],
      "text/plain": [
       "  ICC_adjusted ICC_conditional ICC_unadjusted\n",
       "1 0.2744076    0.2744076       0.2744076     "
      ]
     },
     "metadata": {},
     "output_type": "display_data"
    }
   ],
   "source": [
    "performance::icc(m1)"
   ]
  },
  {
   "cell_type": "markdown",
   "metadata": {},
   "source": [
    "Questa formula calcola l'affidabilità per una singola valutazione da un singolo giudice. La formula considera la varianza tra i soggetti rispetto alla varianza totale, che include sia la varianza tra i soggetti sia l'errore di misurazione.\n",
    "\n",
    "Calcoliamo ora l'ICC per la valutazione media:\n",
    "\n",
    "$$\n",
    "ICC = \\frac{\\sigma^2_{\\text{giudici}}} {\\sigma^2_{\\text{giudici}} + \\sigma^2_E / k},\n",
    "$$\n",
    "\n",
    "dove $k$ rappresenta il numero di giudizi assegnati a ciascun soggetto da ciascun giudice. \n",
    "\n",
    "La formula calcola l'ICC basandosi sulla varianza tra i gruppi (in questo caso, la varianza attribuibile ai giudici, $\\sigma^2_{\\text{giudici}}$) e la varianza entro i gruppi (l'errore casuale, $\\sigma^2_E$), aggiustando per il numero di giudizi ($k$) dati per ogni soggetto. L'inserimento di $k$ nel denominatore serve a normalizzare l'effetto dell'errore casuale in base al numero di giudizi, assumendo che più giudizi per soggetto possano ridurre l'impatto dell'errore casuale sulla stima dell'affidabilità.\n",
    "\n",
    "Quindi, se l'ICC è vicino a 1, ciò indica che la maggior parte della varianza nei dati è dovuta a differenze reali tra i soggetti valutati, piuttosto che a variazioni casuali o a differenze tra i giudici. In questo modo, l'ICC fornisce un indice utile per valutare l'affidabilità delle valutazioni in studi in cui sono coinvolti giudizi o misurazioni ripetute.\n",
    "\n",
    "Nel caso presente, ogni giudice fornisce due valutazioni per ogni soggetto:"
   ]
  },
  {
   "cell_type": "code",
   "execution_count": 17,
   "metadata": {
    "vscode": {
     "languageId": "r"
    }
   },
   "outputs": [
    {
     "data": {
      "text/html": [
       "0.430643389599249"
      ],
      "text/latex": [
       "0.430643389599249"
      ],
      "text/markdown": [
       "0.430643389599249"
      ],
      "text/plain": [
       "[1] 0.4306434"
      ]
     },
     "metadata": {},
     "output_type": "display_data"
    }
   ],
   "source": [
    "vc_m1$vcov[1] / (vc_m1$vcov[1] + vc_m1$vcov[2] / 2)"
   ]
  },
  {
   "cell_type": "markdown",
   "metadata": {},
   "source": [
    "Questa seconda formula calcola l'affidabilità per la media delle valutazioni di più giudici. È pertinente quando si ha a che fare con più valutazioni per ciascun soggetto e si vuole sapere l'affidabilità della media di queste valutazioni. Questa formula differisce dalla prima perché considera la riduzione dell'errore di misurazione che si verifica quando si calcola la media di più valutazioni."
   ]
  },
  {
   "cell_type": "markdown",
   "metadata": {},
   "source": [
    "### ANOVA a due vie e l'Impatto del Bias dei Giudici\n",
    "\n",
    "L'ANOVA a due vie è uno strumento statistico cruciale per esaminare gli effetti di più fattori, inclusi i giudici, sulla variabile dipendente in contesti di valutazione. Per interpretare accuratamente i risultati, è fondamentale distinguere tra il bias sistematico introdotto dai giudici e la variabilità intrinseca nelle valutazioni.\n",
    "\n",
    "- **Bias dei Giudici**: Questo si verifica quando i giudici hanno una tendenza costante a fornire valutazioni più alte o più basse rispetto agli altri, influenzando potenzialmente l'equità delle valutazioni.\n",
    "  \n",
    "- **Variabilità Intrinseca**: Si riferisce alle differenze naturali nelle valutazioni che emergono dalle percezioni individuali o dalle interpretazioni soggettive dei giudici.\n",
    "\n",
    "In termini di **Contesto di Valutazione**:\n",
    "- Nelle analisi di **Consistenza**, dove l'attenzione è sull'ordine relativo delle valutazioni, il bias dei giudici non è considerato problematico poiché non altera questo ordine.\n",
    "- Nelle analisi di **Accordo**, che si concentrano sulla concordanza dei valori assoluti delle misurazioni, il bias dei giudici è trattato come una fonte di errore significativa.\n",
    "\n",
    "L'applicazione dell'**ANOVA a due vie** consente di distinguere l'effetto del bias dei giudici rispetto ad altre fonti di varianza, offrendo così un'importante metodologia per valutare l'affidabilità delle valutazioni e l'impatto del bias in diversi contesti.\n",
    "\n",
    "Utilizzando `lmer(slp_VAS ~ 1 + (1 | Speaker) + (1 | slpID), data = slp_dat)`, analizziamo i dati considerando due principali fonti di variazione:\n",
    "- **Effetti Casuali dei Giudici (`(1 | Speaker)`):** Valutiamo il bias dei giudici come fonte di variazione, distinguendo tra analisi di consistenza e di accordo a seconda di come questo bias influisce sui risultati.\n",
    "- **Variabilità Intrinseca tra i Soggetti (`(1 | slpID)`):** Esploriamo le differenze naturali tra i soggetti valutati, fondamentali per comprendere la diversità delle risposte individuali.\n",
    "\n",
    "Questo approccio ci permette di facilitare la distinzione tra l'effetto del bias dei giudici e altre fonti di varianza, fornendo una metodologia preziosa per valutare l'affidabilità delle valutazioni e l'impatto del bias in diversi contesti.\n",
    "\n",
    "Eseguiamo l'analisi con `lmer()`:"
   ]
  },
  {
   "cell_type": "code",
   "execution_count": 18,
   "metadata": {
    "vscode": {
     "languageId": "r"
    }
   },
   "outputs": [],
   "source": [
    "m2 <- lmer(slp_VAS ~ 1 + (1 | Speaker) + (1 | slpID), data = slp_dat)"
   ]
  },
  {
   "cell_type": "markdown",
   "metadata": {},
   "source": [
    "Questa formula considera due principali fonti di variazione:\n",
    "\n",
    "- Effetti Casuali dei Giudici (`(1 | Speaker)`): Valutiamo il bias dei giudici come una fonte di variazione, differenziando tra le analisi di consistenza e di accordo a seconda dell'impatto di questo bias sui risultati.\n",
    "- Variabilità Intrinseca tra i Soggetti (`(1 | slpID)`): Esploriamo le differenze naturali tra i soggetti valutati, cruciali per comprendere la diversità delle risposte individuali."
   ]
  },
  {
   "cell_type": "code",
   "execution_count": 19,
   "metadata": {
    "vscode": {
     "languageId": "r"
    }
   },
   "outputs": [
    {
     "data": {
      "text/plain": [
       "Linear mixed model fit by REML ['lmerMod']\n",
       "Formula: slp_VAS ~ 1 + (1 | Speaker) + (1 | slpID)\n",
       "   Data: slp_dat\n",
       "\n",
       "REML criterion at convergence: 3544.1\n",
       "\n",
       "Scaled residuals: \n",
       "    Min      1Q  Median      3Q     Max \n",
       "-3.3281 -0.5813  0.0862  0.6611  2.5747 \n",
       "\n",
       "Random effects:\n",
       " Groups   Name        Variance Std.Dev.\n",
       " slpID    (Intercept) 132.8    11.53   \n",
       " Speaker  (Intercept) 585.7    24.20   \n",
       " Residual             291.2    17.07   \n",
       "Number of obs: 403, groups:  slpID, 21; Speaker, 20\n",
       "\n",
       "Fixed effects:\n",
       "            Estimate Std. Error t value\n",
       "(Intercept)   61.882      6.028   10.27"
      ]
     },
     "metadata": {},
     "output_type": "display_data"
    }
   ],
   "source": [
    "summary(m2)"
   ]
  },
  {
   "cell_type": "markdown",
   "metadata": {},
   "source": [
    "Estraiamo le fonti di varianza:"
   ]
  },
  {
   "cell_type": "code",
   "execution_count": 20,
   "metadata": {
    "vscode": {
     "languageId": "r"
    }
   },
   "outputs": [
    {
     "data": {
      "text/html": [
       "<table class=\"dataframe\">\n",
       "<caption>A data.frame: 3 x 5</caption>\n",
       "<thead>\n",
       "\t<tr><th scope=col>grp</th><th scope=col>var1</th><th scope=col>var2</th><th scope=col>vcov</th><th scope=col>sdcor</th></tr>\n",
       "\t<tr><th scope=col>&lt;chr&gt;</th><th scope=col>&lt;chr&gt;</th><th scope=col>&lt;chr&gt;</th><th scope=col>&lt;dbl&gt;</th><th scope=col>&lt;dbl&gt;</th></tr>\n",
       "</thead>\n",
       "<tbody>\n",
       "\t<tr><td>slpID   </td><td>(Intercept)</td><td>NA</td><td>132.8257</td><td>11.52500</td></tr>\n",
       "\t<tr><td>Speaker </td><td>(Intercept)</td><td>NA</td><td>585.6568</td><td>24.20035</td></tr>\n",
       "\t<tr><td>Residual</td><td>NA         </td><td>NA</td><td>291.2401</td><td>17.06576</td></tr>\n",
       "</tbody>\n",
       "</table>\n"
      ],
      "text/latex": [
       "A data.frame: 3 x 5\n",
       "\\begin{tabular}{lllll}\n",
       " grp & var1 & var2 & vcov & sdcor\\\\\n",
       " <chr> & <chr> & <chr> & <dbl> & <dbl>\\\\\n",
       "\\hline\n",
       "\t slpID    & (Intercept) & NA & 132.8257 & 11.52500\\\\\n",
       "\t Speaker  & (Intercept) & NA & 585.6568 & 24.20035\\\\\n",
       "\t Residual & NA          & NA & 291.2401 & 17.06576\\\\\n",
       "\\end{tabular}\n"
      ],
      "text/markdown": [
       "\n",
       "A data.frame: 3 x 5\n",
       "\n",
       "| grp &lt;chr&gt; | var1 &lt;chr&gt; | var2 &lt;chr&gt; | vcov &lt;dbl&gt; | sdcor &lt;dbl&gt; |\n",
       "|---|---|---|---|---|\n",
       "| slpID    | (Intercept) | NA | 132.8257 | 11.52500 |\n",
       "| Speaker  | (Intercept) | NA | 585.6568 | 24.20035 |\n",
       "| Residual | NA          | NA | 291.2401 | 17.06576 |\n",
       "\n"
      ],
      "text/plain": [
       "  grp      var1        var2 vcov     sdcor   \n",
       "1 slpID    (Intercept) NA   132.8257 11.52500\n",
       "2 Speaker  (Intercept) NA   585.6568 24.20035\n",
       "3 Residual NA          NA   291.2401 17.06576"
      ]
     },
     "metadata": {},
     "output_type": "display_data"
    }
   ],
   "source": [
    "vc_m2 <- as.data.frame(VarCorr(m2))\n",
    "vc_m2"
   ]
  },
  {
   "cell_type": "markdown",
   "metadata": {},
   "source": [
    "### Componenti di Varianza\n",
    "\n",
    "- **Variazione dovuta a `slpID` (Intercept):** Indica la variabilità attribuibile alle differenze tra i soggetti.\n",
    "- **Variazione dovuta a `Speaker` (Intercept):** Riflette la variabilità nelle valutazioni dovuta al bias dei giudici.\n",
    "- **Residui (Residual):** Comprende l'errore di misurazione e altre fonti di variabilità non spiegate."
   ]
  },
  {
   "cell_type": "markdown",
   "metadata": {},
   "source": [
    "### Calcolo dell'ICC\n",
    "\n",
    "Per calcolare l'ICC, dobbiamo distinguere tra le diverse versioni dell'ICC basate sulle definizioni generali. Tuttavia, il calcolo specifico dell'ICC può variare a seconda della struttura del modello e dell'interpretazione desiderata. Nella versione più semplice e comune, si considera la formula:\n",
    "\n",
    "$$ \n",
    "\\text{ICC} = \\frac{\\sigma^2_{\\text{tra gruppo}}}{\\sigma^2_{\\text{tra gruppo}} + \\sigma^2_{\\text{errore}}} $$\n",
    "\n",
    "Dove $ \\sigma^2_{\\text{tra gruppo}} $ è la varianza attribuita agli effetti casuali tra gruppi, e $ \\sigma^2_{\\text{errore}} $ è la varianza residua.\n",
    "\n",
    "Nel modello precedente, ci sono due componenti di varianza tra gruppi (`slpID` e `Speaker`), quindi è possibile considerare la somma di queste due come la varianza totale tra gruppo. Così, l'ICC adjusted può essere calcolato come:\n",
    "\n",
    "$$ \n",
    "\\text{ICC}_{\\text{adjusted}} = \\frac{\\sigma^2_{slpID} + \\sigma^2_{Speaker}}{\\sigma^2_{slpID} + \\sigma^2_{Speaker} + \\sigma^2_{Residual}} \n",
    "$$\n",
    "\n",
    "Sostituendo i valori ottenuti:\n",
    "\n",
    "$$ \\text{ICC}_{\\text{adjusted}} = \\frac{132.8257 + 585.6568}{132.8257 + 585.6568 + 291.2401} $$\n",
    "\n",
    "Questo calcolo assume che tutte le componenti di varianza contribuiscano al calcolo dell'ICC in modo equivalente e che l'ICC adjusted consideri la somma delle varianze tra gruppi (in questo caso, `slpID` e `Speaker`) rispetto alla varianza totale (inclusa la varianza residua).\n",
    "\n",
    "Calcoliamo ora questo valore usando Python per ottenere il risultato esatto."
   ]
  },
  {
   "cell_type": "code",
   "execution_count": 21,
   "metadata": {
    "vscode": {
     "languageId": "r"
    }
   },
   "outputs": [
    {
     "data": {
      "text/html": [
       "0.711564270978534"
      ],
      "text/latex": [
       "0.711564270978534"
      ],
      "text/markdown": [
       "0.711564270978534"
      ],
      "text/plain": [
       "[1] 0.7115643"
      ]
     },
     "metadata": {},
     "output_type": "display_data"
    }
   ],
   "source": [
    "(vc_m2$vcov[1] + vc_m2$vcov[2]) / (vc_m2$vcov[1] + vc_m2$vcov[2] + vc_m2$vcov[3])"
   ]
  },
  {
   "cell_type": "markdown",
   "metadata": {},
   "source": [
    "Questo valore riproduce quello trovato da `performance::icc()`:"
   ]
  },
  {
   "cell_type": "code",
   "execution_count": 22,
   "metadata": {
    "vscode": {
     "languageId": "r"
    }
   },
   "outputs": [
    {
     "data": {
      "text/html": [
       "<table class=\"dataframe\">\n",
       "<caption>A icc: 1 x 3</caption>\n",
       "<thead>\n",
       "\t<tr><th scope=col>ICC_adjusted</th><th scope=col>ICC_conditional</th><th scope=col>ICC_unadjusted</th></tr>\n",
       "\t<tr><th scope=col>&lt;dbl&gt;</th><th scope=col>&lt;dbl&gt;</th><th scope=col>&lt;dbl&gt;</th></tr>\n",
       "</thead>\n",
       "<tbody>\n",
       "\t<tr><td>0.7115643</td><td>0.7115643</td><td>0.7115643</td></tr>\n",
       "</tbody>\n",
       "</table>\n"
      ],
      "text/latex": [
       "A icc: 1 x 3\n",
       "\\begin{tabular}{lll}\n",
       " ICC\\_adjusted & ICC\\_conditional & ICC\\_unadjusted\\\\\n",
       " <dbl> & <dbl> & <dbl>\\\\\n",
       "\\hline\n",
       "\t 0.7115643 & 0.7115643 & 0.7115643\\\\\n",
       "\\end{tabular}\n"
      ],
      "text/markdown": [
       "\n",
       "A icc: 1 x 3\n",
       "\n",
       "| ICC_adjusted &lt;dbl&gt; | ICC_conditional &lt;dbl&gt; | ICC_unadjusted &lt;dbl&gt; |\n",
       "|---|---|---|\n",
       "| 0.7115643 | 0.7115643 | 0.7115643 |\n",
       "\n"
      ],
      "text/plain": [
       "  ICC_adjusted ICC_conditional ICC_unadjusted\n",
       "1 0.7115643    0.7115643       0.7115643     "
      ]
     },
     "metadata": {},
     "output_type": "display_data"
    }
   ],
   "source": [
    "performance::icc(m2)"
   ]
  },
  {
   "cell_type": "markdown",
   "metadata": {},
   "source": [
    "L'Intraclass Correlation Coefficient (ICC) di 0.7115643 offre una misura dell'affidabilità o della coerenza delle valutazioni all'interno dei gruppi definiti nel tuo modello (in questo caso, `slpID` e `Speaker`). \n",
    "\n",
    "- **Valore dell'ICC**: Il valore di 0.71 indica un livello relativamente alto di coerenza o omogeneità tra le misurazioni all'interno dei gruppi rispetto alla variabilità totale. In altre parole, una proporzione sostanziale della varianza totale nei dati è attribuibile alle differenze tra i gruppi piuttosto che alle variazioni casuali all'interno dei gruppi o agli errori di misurazione.\n",
    "\n",
    "- **Affidabilità delle Misure**: Un ICC più vicino a 1 suggerisce che le misure sono molto affidabili, poiché indica che la maggior parte della varianza nei dati può essere attribuita alle differenze sistematiche tra i gruppi piuttosto che al rumore casuale o agli errori. Nel tuo caso, un ICC di circa 0.71 può essere interpretato come indicativo di un'alta affidabilità, suggerendo che le differenze tra i gruppi (ad esempio, tra diversi `Speaker` o differenti `slpID`) sono significative e consistenti.\n",
    "\n",
    "- **Implicazioni per la Ricerca**: Per la ricerca, un ICC alto come questo implica che il disegno dello studio e la misurazione utilizzata sono adeguatamente sensibili per distinguere tra gli individui o le unità all'interno dei gruppi definiti. Questo è particolarmente rilevante quando si studiano gli effetti di interventi o trattamenti specifici su gruppi distinti o si valuta la consistenza delle risposte tra i membri di un gruppo.\n",
    "\n",
    "- **Contesto e Benchmark**: L'interpretazione dell'ICC dipende dal contesto specifico e dal campo di studio. Alcuni campi potrebbero considerare un ICC di 0.71 come eccellente, mentre altri potrebbero considerarlo solo moderatamente buono. È importante confrontare questo valore con benchmark o standard specifici del campo di interesse.\n",
    "\n",
    "- **Struttura del Modello e Dati**: L'interpretazione dovrebbe anche tenere conto della struttura specifica del modello e della natura dei dati. Diversi tipi di ICC possono essere calcolati a seconda degli obiettivi dello studio e della configurazione del modello misto, quindi è cruciale assicurarsi che l'ICC calcolato sia il più appropriato per il tuo specifico contesto di ricerca.\n",
    "\n",
    "In sintesi, un ICC di 0.7115643 indica un'alta affidabilità nelle misure all'interno dei gruppi definiti nel tuo modello, suggerendo che le variazioni osservate sono significativamente influenzate dalle differenze tra i gruppi piuttosto che dalla varianza casuale o dall'errore di misurazione."
   ]
  },
  {
   "cell_type": "markdown",
   "metadata": {},
   "source": [
    "## Conclusioni\n",
    "\n",
    "L'*Intraclass Correlation Coefficient* (ICC) può essere interpretato come \"la proporzione di varianza spiegata dalla struttura di raggruppamento nella popolazione\". Questa struttura di raggruppamento implica che le misurazioni siano organizzate in gruppi (ad esempio, i punteggi di un test in una scuola possono essere raggruppati per classe, se ci sono più classi e a ciascuna è stato somministrato lo stesso test), e l'ICC indica quanto fortemente le misurazioni nello stesso gruppo si assomiglino. Questo indice varia da 0, se il raggruppamento non trasmette alcuna informazione, a 1, se tutte le osservazioni in un gruppo sono identiche (Gelman e Hill, 2007, p. 258). In altre parole, l'ICC - a volte concettualizzato come ripetibilità della misurazione - \"può anche essere interpretato come la correlazione attesa tra due unità estratte casualmente che si trovano nello stesso gruppo\" (Hox 2010), sebbene questa definizione potrebbe non applicarsi a modelli misti con strutture di effetti casuali più complesse. L'ICC può aiutare a determinare se un modello misto è necessario: un ICC pari a zero (o molto vicino a zero) significa che le osservazioni all'interno dei cluster non sono più simili tra loro rispetto a osservazioni di cluster diversi, e quindi considerarlo come un fattore casuale potrebbe non essere necessario.\n",
    "\n",
    "- *Alto ICC* significa che i dati sono altamente raggruppati, il che significa che i risultati dipendono fortemente dai gruppi a cui appartengono le osservazioni.\n",
    "- *Basso ICC* significa che i dati non sono altamente (o per niente) raggruppati, il che significa che i risultati non dipendono molto (o per niente) dai gruppi a cui appartengono le osservazioni.\n",
    "\n",
    "**Differenza con R^2**\n",
    "\n",
    "Il coefficiente di determinazione R^2 quantifica la proporzione di varianza spiegata da un modello statistico, ma la sua definizione in modelli misti è complessa (da qui l'esistenza di diversi metodi per calcolare un'approssimazione). L'ICC è associato a R^2 poiché entrambi sono rapporti di componenti di varianza. Più precisamente, R^2 rappresenta la proporzione della varianza spiegata (del modello completo), mentre l'ICC è la proporzione della varianza spiegata attribuibile agli effetti casuali. \n",
    "\n",
    "**Calcolo**\n",
    "\n",
    "L'ICC viene calcolato dividendo la varianza degli effetti casuali, σ^2_i, per la varianza totale, cioè la somma della varianza degli effetti casuali e della varianza residua, σ^2_ε.\n",
    "\n",
    "**ICC aggiustato e non aggiustato**\n",
    "\n",
    "La funzione `icc()` calcola un ICC aggiustato e uno non aggiustato, che tengono conto di tutte le fonti di incertezza (cioè di tutti gli effetti casuali). Mentre l'ICC aggiustato si riferisce solo agli effetti casuali, l'ICC non aggiustato considera anche le varianze degli effetti fissi, aggiungendo più precisamente la varianza degli effetti fissi al denominatore della formula per calcolare l'ICC (vedi Nakagawa et al. 2017). Tipicamente, l'ICC aggiustato è di interesse quando l'analisi degli effetti casuali è di interesse. `icc()` restituisce un valore ICC anche per strutture di effetti casuali più complesse, come modelli con pendenze casuali o design nidificato (più di due livelli) ed è applicabile per modelli con distribuzioni diverse dalla gaussiana. "
   ]
  },
  {
   "cell_type": "markdown",
   "metadata": {},
   "source": [
    "## Session Info"
   ]
  },
  {
   "cell_type": "code",
   "execution_count": 42,
   "metadata": {
    "vscode": {
     "languageId": "r"
    }
   },
   "outputs": [
    {
     "data": {
      "text/plain": [
       "R version 4.3.3 (2024-02-29)\n",
       "Platform: aarch64-apple-darwin20 (64-bit)\n",
       "Running under: macOS Sonoma 14.4\n",
       "\n",
       "Matrix products: default\n",
       "BLAS:   /Library/Frameworks/R.framework/Versions/4.3-arm64/Resources/lib/libRblas.0.dylib \n",
       "LAPACK: /Library/Frameworks/R.framework/Versions/4.3-arm64/Resources/lib/libRlapack.dylib;  LAPACK version 3.11.0\n",
       "\n",
       "locale:\n",
       "[1] C\n",
       "\n",
       "time zone: Europe/Rome\n",
       "tzcode source: internal\n",
       "\n",
       "attached base packages:\n",
       "[1] stats     graphics  grDevices utils     datasets  methods   base     \n",
       "\n",
       "other attached packages:\n",
       " [1] lme4_1.1-35.1     Matrix_1.6-5      ggokabeito_0.1.0  viridis_0.6.5    \n",
       " [5] viridisLite_0.4.2 ggpubr_0.6.0      ggExtra_0.10.1    bayesplot_1.11.1 \n",
       " [9] gridExtra_2.3     patchwork_1.2.0   semTools_0.5-6    semPlot_1.1.6    \n",
       "[13] lavaan_0.6-17     psych_2.4.1       scales_1.3.0      markdown_1.12    \n",
       "[17] knitr_1.45        lubridate_1.9.3   forcats_1.0.0     stringr_1.5.1    \n",
       "[21] dplyr_1.1.4       purrr_1.0.2       readr_2.1.5       tidyr_1.3.1      \n",
       "[25] tibble_3.2.1      ggplot2_3.5.0     tidyverse_2.0.0   here_1.0.1       \n",
       "\n",
       "loaded via a namespace (and not attached):\n",
       "  [1] rstudioapi_0.15.0  jsonlite_1.8.8     magrittr_2.0.3    \n",
       "  [4] nloptr_2.0.3       rmarkdown_2.26     vctrs_0.6.5       \n",
       "  [7] minqa_1.2.6        base64enc_0.1-3    rstatix_0.7.2     \n",
       " [10] htmltools_0.5.7    broom_1.0.5        Formula_1.2-5     \n",
       " [13] htmlwidgets_1.6.4  plyr_1.8.9         uuid_1.2-0        \n",
       " [16] igraph_2.0.2       mime_0.12          lifecycle_1.0.4   \n",
       " [19] pkgconfig_2.0.3    R6_2.5.1           fastmap_1.1.1     \n",
       " [22] shiny_1.8.0        digest_0.6.35      OpenMx_2.21.11    \n",
       " [25] fdrtool_1.2.17     colorspace_2.1-0   rprojroot_2.0.4   \n",
       " [28] Hmisc_5.1-1        fansi_1.0.6        timechange_0.3.0  \n",
       " [31] abind_1.4-5        compiler_4.3.3     withr_3.0.0       \n",
       " [34] glasso_1.11        htmlTable_2.4.2    backports_1.4.1   \n",
       " [37] carData_3.0-5      ggsignif_0.6.4     MASS_7.3-60.0.1   \n",
       " [40] corpcor_1.6.10     gtools_3.9.5       tools_4.3.3       \n",
       " [43] pbivnorm_0.6.0     foreign_0.8-86     zip_2.3.1         \n",
       " [46] httpuv_1.6.14      nnet_7.3-19        glue_1.7.0        \n",
       " [49] quadprog_1.5-8     nlme_3.1-164       promises_1.2.1    \n",
       " [52] lisrelToR_0.3      grid_4.3.3         pbdZMQ_0.3-11     \n",
       " [55] checkmate_2.3.1    cluster_2.1.6      reshape2_1.4.4    \n",
       " [58] generics_0.1.3     gtable_0.3.4       tzdb_0.4.0        \n",
       " [61] data.table_1.15.2  hms_1.1.3          car_3.1-2         \n",
       " [64] utf8_1.2.4         sem_3.1-15         pillar_1.9.0      \n",
       " [67] IRdisplay_1.1      rockchalk_1.8.157  later_1.3.2       \n",
       " [70] splines_4.3.3      lattice_0.22-5     kutils_1.73       \n",
       " [73] tidyselect_1.2.0   miniUI_0.1.1.1     pbapply_1.7-2     \n",
       " [76] stats4_4.3.3       xfun_0.42          qgraph_1.9.8      \n",
       " [79] arm_1.13-1         stringi_1.8.3      boot_1.3-29       \n",
       " [82] evaluate_0.23      mi_1.1             cli_3.6.2         \n",
       " [85] RcppParallel_5.1.7 IRkernel_1.3.2     rpart_4.1.23      \n",
       " [88] xtable_1.8-4       repr_1.1.6         munsell_0.5.0     \n",
       " [91] Rcpp_1.0.12        coda_0.19-4.1      png_0.1-8         \n",
       " [94] XML_3.99-0.16.1    parallel_4.3.3     ellipsis_0.3.2    \n",
       " [97] jpeg_0.1-10        openxlsx_4.2.5.2   crayon_1.5.2      \n",
       "[100] rlang_1.1.3        mnormt_2.1.1      "
      ]
     },
     "metadata": {},
     "output_type": "display_data"
    }
   ],
   "source": [
    "sessionInfo()"
   ]
  }
 ],
 "metadata": {
  "kernelspec": {
   "display_name": "R",
   "language": "R",
   "name": "ir"
  },
  "language_info": {
   "codemirror_mode": "r",
   "file_extension": ".r",
   "mimetype": "text/x-r-source",
   "name": "R",
   "pygments_lexer": "r",
   "version": "4.4.1"
  },
  "orig_nbformat": 4
 },
 "nbformat": 4,
 "nbformat_minor": 2
}
