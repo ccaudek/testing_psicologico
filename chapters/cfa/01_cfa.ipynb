{
 "cells": [
  {
   "attachments": {},
   "cell_type": "markdown",
   "id": "756eb571",
   "metadata": {},
   "source": [
    "# Analisti Fattoriale Confermativa {#sec-cfa}"
   ]
  },
  {
   "cell_type": "markdown",
   "id": "a890abad",
   "metadata": {},
   "source": [
    "**Prerequisiti**\n",
    "\n",
    "**Concetti e Competenze Chiave**\n",
    "\n",
    "**Preparazione del Notebook**"
   ]
  },
  {
   "cell_type": "code",
   "execution_count": 1,
   "id": "da55a23f",
   "metadata": {
    "vscode": {
     "languageId": "r"
    }
   },
   "outputs": [
    {
     "name": "stderr",
     "output_type": "stream",
     "text": [
      "Caricamento dei namespace richiesti: pacman\n",
      "\n"
     ]
    }
   ],
   "source": [
    "# Carica il file _common.R per impostazioni di pacchetti e opzioni\n",
    "here::here(\"code\", \"_common.R\") |> source()\n",
    "\n",
    "# Carica pacchetti aggiuntivi\n",
    "pacman::p_load(semTools)"
   ]
  },
  {
   "cell_type": "markdown",
   "id": "0b474922",
   "metadata": {},
   "source": [
    "## Introduzione\n",
    "\n",
    "In questo capitolo esamineremo la CFA per l'analisi dei modelli di misurazione con fattori comuni e indicatori continui. A differenza dell'analisi fattoriale esplorativa (EFA), nella CFA vengono analizzati modelli di misurazione vincolati. Ciò significa che il ricercatore specifica (1) il numero esatto di fattori; (2) il pattern dei carichi fattoriali, ossia la corrispondenza specifica tra i fattori e gli indicatori; e (3) la presenza di errori correlati, se presenti. \n",
    "\n",
    "La seconda caratteristica menzionata sopra implica che un indicatore satura solo sui fattori specificati dal ricercatore, e tutte le saturazioni incrociate di quell'indicatore su altri fattori sono fissate a zero. Sebbene sia possibile specificare un numero esatto di fattori nella EFA, la tecnica analizza modelli di misurazione non restrittivi, in cui ciascun indicatore satura su tutti i fattori (ossia tutte le saturazioni incrociate sono liberamente stimate). \n",
    "\n",
    "Un'altra differenza è che i modelli EFA con più fattori sono identificati solo dopo aver specificato un metodo di rotazione dei fattori, come obliqua (i fattori possono covariare) oppure ortogonale (i fattori sono non correlati). Poiché la CFA richiede un modello identificato, non c'è una fase di rotazione e di solito è permesso ai fattori di covariare. \n",
    "\n",
    "Nell'ambito dei requisiti per l'identificazione, è possibile stimare errori correlati nella CFA, ma è più difficile ottenere questo risultato nella EFA. Pertanto, la tecnica della CFA supporta meglio l'analisi delle strutture di covarianza degli errori rispetto alla EFA."
   ]
  },
  {
   "cell_type": "markdown",
   "id": "95782ae5",
   "metadata": {},
   "source": [
    "## Limitazioni dell'approccio fattoriale\n",
    "\n",
    "L'approccio classico dell'analisi fattoriale (EFA più rotazione fattoriale) ha rivelato avere diversi limiti. Nella ricerca iniziale, dibattiti teorici importanti, come il numero di fattori dell'intelligenza o della personalità, erano basati sui risultati di diverse rotazioni fattoriali. Questi dibattiti si sono rivelati essere semplici speculazioni, poiché conclusioni diverse potevano essere supportate a seconda dell'interpretazione dei dati. Per esempio, il dibattito tra Eysenck e Cattell sul numero di fattori della personalità (due o sedici) dipendeva dall'uso di rotazioni ortogonali o oblique sugli stessi dati.\n",
    "\n",
    "Nella seconda metà del XX secolo, c'era una generale insoddisfazione verso l'analisi fattoriale a causa della sua apparente capacità di adattarsi a quasi qualsiasi soluzione. Furono raccomandati criteri rigorosi per il suo uso, come la necessità di grandi campioni, che spesso rendevano l'analisi impraticabile a quei tempi. Inoltre, furono introdotti vincoli relativi alle ipotesi del modello e al requisito che le variabili nella matrice di correlazione avessero varianze equivalenti, creando problemi pratici significativi, specialmente con dati binari spesso usati nei test psicometrici.\n",
    "\n",
    "Solo con l'introduzione di metodi psicometrici moderni, come l'analisi fattoriale confermativa (CFA) discussa in questo capitolo e la Teoria di Risposta all'Item (discussa in una sezione successiva), questi problemi sono stati risolti. "
   ]
  },
  {
   "cell_type": "markdown",
   "id": "72a4dc4c",
   "metadata": {},
   "source": [
    "## EFA vs. CFA: Confronto tra Analisi Fattoriale Esplorativa e Confermativa\n",
    "\n",
    "### Fondamenti Comuni e Differenze\n",
    "\n",
    "Sia l'Analisi Fattoriale Esplorativa (EFA) che quella Confermativa (CFA) si basano sul modello dei fattori comuni. Entrambe le tecniche presuppongono che la varianza degli indicatori osservati possa essere suddivisa in varianza comune e varianza unica. La varianza comune è quella condivisa tra gli indicatori e sottende le covarianze osservate, mentre la varianza unica comprende sia la varianza specifica delle variabili che l'errore di misurazione. I fattori estratti, detti fattori comuni, rappresentano le variabili latenti costruite da questa varianza comune.\n",
    "\n",
    "Nell'EFA, la struttura dei fattori è indeterminata e viene esplorata senza ipotesi a priori riguardo al numero o alla natura dei fattori. L'EFA è quindi particolarmente utile nelle fasi iniziali di ricerca, quando la teoria è poco sviluppata o si sospetta la presenza di fattori inaspettati.\n",
    "\n",
    "Al contrario, la CFA si basa su un modello di fattori predefinito, che specifica a priori quali indicatori sono associati a ciascun fattore, rendendola idonea per confermare teorie esistenti o per validare strutture fattoriali precedentemente esplorate. In CFA, i carichi incrociati (indicatori che caricano su più di un fattore) sono generalmente vincolati a zero, stabilendo una relazione diretta e specifica tra fattori e indicatori.\n",
    "\n",
    "### Indeterminatezza Fattoriale\n",
    "\n",
    "Un problema ricorrente in entrambe le tecniche è l'indeterminatezza fattoriale, dove i fattori comuni non possono essere definiti in modo univoco dai loro indicatori a causa della natura approssimativa delle stime. Questo si manifesta sia in EFA, con l'indeterminatezza della rotazione, che in CFA, dove l'analisi potrebbe non replicarsi in nuovi campioni a causa dell'uso dei medesimi dati per verificare il modello.\n",
    "\n",
    "### Indeterminatezza dei Punteggi Fattoriali\n",
    "\n",
    "Un'altra complicazione è l'indeterminatezza dei punteggi fattoriali, che si verifica quando esistono infinite soluzioni valide per i punteggi fattoriali a partire dagli indicatori. Questo comporta che diversi metodi possono produrre ordinamenti differenti dei casi, un problema noto come indeterminatezza dei punteggi fattoriali (Grice, 2001).\n",
    "\n",
    "### Rotazione e Specificazione del Modello\n",
    "\n",
    "La EFA può presentare ambiguità a causa dell'infinita quantità di configurazioni dei carichi fattoriali che potrebbero adattarsi ai dati, un fenomeno meno pronunciato nella CFA dove la specifica del modello è più rigida.\n",
    "\n",
    "### Applicazioni Pratiche\n",
    "\n",
    "L'EFA è spesso preferita in nuovi ambiti di ricerca, dove i fattori potrebbero non essere ben definiti, mentre la CFA è utilizzata per confermare le strutture fattoriali in studi di validazione o in seguito a revisioni di test esistenti.\n",
    "\n",
    "### Problemi con l'Uso Combinato di EFA e CFA\n",
    "\n",
    "Si noti che l'applicazione della CFA immediatamente dopo la EFA nello stesso campione può essere problematica. Talvolta, l'uso congiunto non verifica né conferma i risultati dell'EFA. La restrittività dei modelli CFA, con i carichi incrociati impostati a zero, può portare a risultati che non sono coerenti con i dati analizzati nell'EFA.\n",
    "\n",
    "### Nuove Approcci Intermedi\n",
    "\n",
    "Metodi come l'Analisi Strutturale Esplorativa (ESEM) offrono un approccio ibrido che combina la flessibilità dell'EFA con alcuni degli aspetti confirmatori della CFA. Questo permette una maggiore precisione nel testare l'adattamento del modello, pur mantenendo la capacità di esplorare nuove strutture fattoriali."
   ]
  },
  {
   "cell_type": "markdown",
   "id": "ea09b7ee",
   "metadata": {},
   "source": [
    "## Raccomandazioni per la Selezione degli Indicatori nell'Analisi Fattoriale\n",
    "\n",
    "La selezione accurata degli indicatori è cruciale per il successo dell'analisi fattoriale, sia essa Esplorativa (EFA) o Confermativa (CFA). Le linee guida suggerite da Fabrigar e Wegener (2012) e Little et al. (1999), come riassunto in @kline2023principles, enfatizzano i seguenti punti chiave:\n",
    "\n",
    "1. **Definizione dei Concetti Teorici**: È essenziale articolare i concetti teorici in modo dettagliato per delineare chiaramente ogni dominio di interesse. Ad esempio, se lo studio riguarda le dimensioni dell'ansia, è importante riferirsi a letteratura teorica ed empirica che discute vari aspetti come ansia di stato, ansia di tratto e ansia sociale.\n",
    "\n",
    "2. **Scelta degli Indicatori**: Gli indicatori selezionati dovrebbero coprire adeguatamente i domini d'interesse senza affidarsi esclusivamente allo stesso metodo di misurazione, come i questionari di autovalutazione, per ridurre la varianza dovuta a metodi comuni. L'impiego di modelli CFA specializzati può aiutare a stimare questi effetti del metodo.\n",
    "\n",
    "3. **Guida Teorica o Empirica Forte**: Se esiste una solida base teorica o empirica, gli indicatori omogenei sono preferibili poiché forniscono stime più precise e meno distorte, specialmente in analisi di tipo più confermativo.\n",
    "\n",
    "4. **Analisi di Indicatori Meno Omogenei**: Se la guida teorica è debole, può essere vantaggioso esaminare un insieme di indicatori meno omogenei che coprono un'ampia gamma del dominio d'interesse. Ciò evita di basarsi su approssimazioni che potrebbero non riflettere pienamente i concetti chiave.\n",
    "\n",
    "5. **Uso di Indicatori di Qualità Psicometrica Inferiore**: Anche gli indicatori con minore qualità psicometrica possono essere utili se coprono ampiamente il costrutto, generano punteggi che riflettono ampie differenze individuali e sono analizzati attraverso metodi più confermativi.\n",
    "\n",
    "6. **Problemi Tecnici**: L'analisi potrebbe incontrare problemi come i casi Heywood o la mancata convergenza se alcuni fattori hanno un numero insufficiente di indicatori, specialmente in campioni piccoli. Un numero sicuro minimo di indicatori per ogni fattore previsto è di circa 3-5. Tuttavia, in alcuni casi, potrebbe essere vantaggioso utilizzare meno indicatori per fattore se questi sono psicometricamente solidi.\n",
    "\n",
    "Hayduk e Littvay (2012) hanno sottolineato che non è sempre preferibile avere più indicatori per fattore; in certi contesti, un singolo indicatore ben scelto può essere sufficiente. Se gli indicatori sono altamente ridondanti, non aggiungono informazioni significative. L'idea di una \"regola d'oro\" di 3-5 indicatori per fattore è una guida generale, ma la scelta dovrebbe essere basata sulle ipotesi specifiche di ricerca piuttosto che su una regola arbitraria."
   ]
  },
  {
   "cell_type": "markdown",
   "id": "cc66a71c",
   "metadata": {},
   "source": [
    "## Fondamenti dei Modelli di Base nella CFA\n",
    "\n",
    "I modelli di base nella Confermative Factor Analysis (CFA) con più fattori sono caratterizzati da specifiche fondamentali che garantiscono una misurazione precisa delle variabili latenti. Ecco una sintesi delle caratteristiche principali di tali modelli:\n",
    "\n",
    "1. **Relazione tra Indicatori e Fattori**: Ogni indicatore è una variabile continua influenzata da due principali componenti: un fattore comune, che rappresenta la variabile latente che l'indicatore è inteso a misurare, e la varianza unica. Quest'ultima include sia l'errore di misurazione casuale sia la varianza specifica non spiegata dal fattore, entrambi rappresentati dal termine di errore.\n",
    "\n",
    "2. **Indipendenza dei Termini di Errore**: I termini di errore sono assunti come indipendenti l'uno dall'altro e dai fattori. Ciò implica l'assenza di confondenti non misurati per qualsiasi coppia di indicatori e l'indipendenza delle cause omesse dai fattori.\n",
    "\n",
    "3. **Linearità e Covarianza**: Le relazioni all'interno del modello sono lineari e i fattori possono covariare, il che significa che non esistono effetti causali diretti tra i fattori.\n",
    "\n",
    "Queste caratteristiche definiscono la misurazione unidimensionale, sottolineando che ciascun indicatore è pensato per misurare una sola dimensione e non condivide varianza con altri indicatori una volta controllati i fattori comuni. Tuttavia, è anche possibile specificare modelli CFA multidimensionali, dove alcuni indicatori possono caricare su più di un fattore o dove coppie di termini di errore possono essere correlati.\n",
    "\n",
    "Inoltre, esistono metodi specializzati per analizzare relazioni non lineari tra fattori e indicatori continui, o tra i fattori stessi, come descritto da Amemiya e Yalcin (2001). Le relazioni tra indicatori categorici e fattori sono intrinsecamente non lineari, e questi scenari sono trattati nel CFA categorico.\n",
    "\n",
    "Un esempio di modello CFA di base con due fattori e sei indicatori viene presentato di seguito, dove tutti i carichi incrociati sono fissati a zero, @fig-kline-14-1. Per esempio, il fattore B non ha un effetto causale diretto sull'indicatore X1, il quale è misurato da un altro fattore (A). Tuttavia, ciò non significa che X1 e il fattore B siano completamente scorrelati. La struttura del modello permette a X1 di covariare con B poiché B è correlato con A, che è una causa di X1 (l'altra causa è E1, il termine di errore di X1). In modo simile, si prevede che gli indicatori X1 e X4 covarino poiché sono influenzati dai fattori A e B, rispettivamente, i quali sono correlati.\n",
    "\n",
    "Le costanti di scala, indicate come (1) nel modello, definiscono le metriche per le variabili non misurate, inclusi i fattori comuni e i termini di errore degli indicatori, stabilendo così una base uniforme per la misurazione nel modello CFA."
   ]
  },
  {
   "cell_type": "markdown",
   "id": "aba9da75",
   "metadata": {},
   "source": [
    "::: {#fig-kline-14-1}\n",
    "![](../../figures/kline_14_1.png){width=\"60%\"}\n",
    "\n",
    "Modello di analisi fattoriali confermativa con due fattori comuni e sei indicatori. (Figura tratta da @kline2023principles)\n",
    ":::\n",
    "\n",
    "## Scalatura dei Fattori e Inclusione delle Covariate nei Modelli CFA di Base\n",
    "\n",
    "Nella rappresentazione di base dei modelli Confermative Factor Analysis (CFA), la scalatura dei fattori viene spesso eseguita utilizzando il metodo della variabile di riferimento, conosciuto anche come metodo della variabile marker o approccio di identificazione del carico di riferimento (Newsom, 2015). In questo approccio, un vincolo di *Unit Loading Identification* (ULI) è applicato al carico di un indicatore per ciascun fattore. Per esempio, nel modello illustrato, il carico di $X1$ sul fattore $A$ è fissato a 1.0, stabilendo così la varianza del fattore $A$ sulla base della varianza comune dell'indicatore $X1$, che funge da variabile di riferimento per $A$. Analogamente, la varianza del fattore $B$ è calibrata utilizzando $X4$ come variabile marker.\n",
    "\n",
    "Quando più indicatori per lo stesso fattore presentano precisione equivalente e nessuno di essi è considerato particolarmente rappresentativo del concetto sottostante, la scelta dell'indicatore come variabile di riferimento diventa generalmente arbitraria. Questa selezione non influisce solitamente sull'adattamento globale del modello, sulla soluzione standardizzata, o sulle stime delle varianze di errore dell'indicatore nelle soluzioni non standardizzate. Le saturazioni fisse a 1.0 per le variabili di riferimento rimangono invariate nelle soluzioni non standardizzate e non sono soggette a test di significatività, poiché sono considerate costanti.\n",
    "\n",
    "Un potenziale svantaggio di questo metodo è l'assenza di test di significatività per le saturazioni fisse, il che può essere limitante se si desidera valutare la significatività di tutte le saturazioni. Metodi alternativi per scalare i fattori, che non richiedono la selezione di variabili di riferimento, saranno discussi nelle sezioni successive.\n",
    "\n",
    "Nei modelli CFA di base, tutti i fattori sono considerati variabili esogene, il che significa che sono liberi di variare e covariare indipendentemente l'uno dall'altro. Tuttavia, è possibile includere variabili esterne, dette covariate, che si presume possano influenzare i fattori comuni. Ad esempio, l'età dei partecipanti potrebbe essere vista come una covariata che influisce sui fattori comuni in un modello CFA.\n",
    "\n",
    "L'inclusione di covariate trasforma i fattori comuni da variabili esogene a endogene, implicando che non sono più completamente liberi di variare in modo indipendente, ma possono essere direttamente influenzati dalle covariate. Questo richiede l'aggiunta di termini di disturbo nei fattori comuni per rappresentare l'effetto diretto delle covariate su di essi, integrando così l'effetto delle variabili esterne nel modello CFA.\n",
    "\n",
    "### Parametri del Modello nella CFA\n",
    "\n",
    "In un modello CFA con indicatori continui, quando le medie delle variabili non sono considerate, i parametri liberi includono varianze, covarianze di variabili esogene e gli effetti diretti (carichi) sulle variabili endogene. Ad esempio, analizzando il modello di base illustrato in figura, i parametri liberi possono essere suddivisi come segue:\n",
    "\n",
    "1. **Varianze**: Comprendono le varianze di due fattori e sei termini di errore associati agli indicatori, per un totale di otto varianze.\n",
    "2. **Covarianza**: È presente una covarianza tra i due fattori.\n",
    "3. **Effetti Diretti (Carichi)**: Quattro carichi fattoriali rappresentano gli effetti diretti dei fattori sugli indicatori, specificamente per gli indicatori X2, X3, X5 e X6. Questi carichi non sono fissati, a differenza di quelli usati per scalare i fattori.\n",
    "\n",
    "Sommando questi parametri, il totale dei parametri liberi nel modello è 13. Con $v = 6$ variabili osservate, il numero totale di osservazioni statisticamente indipendenti, calcolato come $6(7)/2$, è 21. Di conseguenza, i gradi di libertà per il modello presentato sono calcolati sottraendo i parametri liberi dalle osservazioni indipendenti, risultando in $21 - 13 = 8$ gradi di libertà.\n",
    "\n",
    "#### Requisiti di Identificazione: Necessari ma Non Sufficienti per i Modelli di CFA\n",
    "\n",
    "Per assicurare che un modello di Confermative Factor Analysis (CFA) sia correttamente specificato e possa essere utilizzato per trarre conclusioni valide, è fondamentale soddisfare alcuni requisiti di identificazione essenziali. Questi requisiti sono necessari ma non sempre sufficienti; cioè, la loro soddisfazione non garantisce automaticamente l'identificazione completa del modello.\n",
    "\n",
    "1. **Gradi di Libertà (dfM) Maggiori o Uguali a Zero**:\n",
    "   - **Calcolo**: I gradi di libertà di un modello CFA si determinano sottraendo il numero di parametri liberi (come varianze, covarianze, e carichi fattoriali) dal numero totale di osservazioni indipendenti disponibili, solitamente le varianze e covarianze degli indicatori.\n",
    "   - **Significato**: Avere gradi di libertà positivi indica che ci sono sufficienti dati per stimare i parametri del modello e verificare il suo adattamento. Un modello con zero gradi di libertà è \"saturato\" e si adatterà perfettamente ai dati, ma non fornirà validazione ulteriore.\n",
    "   - **Importanza**: Mantenere dfM ≥ 0 è cruciale per evitare la sottospecificazione del modello, che potrebbe condurre a stime inaccurate e conclusioni fuorvianti.\n",
    "\n",
    "2. **Scalatura Corretta di Ogni Variabile Non Misurata**:\n",
    "   - **Necessità**: È essenziale scalare ogni variabile latente, come i fattori, per definirne l'unità di misura. Senza una scalatura adeguata, parametri come i carichi fattoriali rimarrebbero indeterminati.\n",
    "   - **Metodi**: La scalatura può essere effettuata in vari modi, come fissando il carico di un indicatore per fattore a 1.0 (metodo della variabile di riferimento), fissando la varianza del fattore a un valore preciso, tipicamente 1.0 (metodo della standardizzazione della varianza), o applicando vincoli alle stime delle saturazioni fattoriali (metodo di codifica degli effetti).\n",
    "\n",
    "In sintesi, pur essendo fondamentale soddisfare questi requisiti per stabilire una base identificabile e interpretabile per un modello CFA, l'identificazione completa del modello può richiedere considerazioni aggiuntive legate alla struttura specifica e alle ipotesi teoriche che sottendono al modello.\n",
    "\n",
    "::: {#fig-kline-14-2}\n",
    "![](../../figures/kline_14_2.png){width=\"90%\"}\n",
    "\n",
    "Scalatura dei fattori nel metodo della variabile di riferimento con vincoli di identificazione del carico unitario (ULI) (a), metodo di standardizzazione della variabile con vincoli di identificazione della varianza unitaria (UVI) (b) e metodo di codifica degli effetti con vincoli di identificazione della codifica degli effetti (ECI) (a + b + c)/3 = (d + e + f)/3 = 1.0 (c). (Figura tratta da @kline2023principles)\n",
    ":::\n",
    "\n",
    "#### Requisiti Sufficienti Aggiuntivi per l'Identificazione nei Modelli CFA\n",
    "\n",
    "Oltre ai criteri base, esistono requisiti addizionali che favoriscono l'identificazione adeguata nei modelli di Confermative Factor Analysis (CFA):\n",
    "\n",
    "1. **Regola dei Tre Indicatori per i Modelli a Singolo Fattore**: Affinché un modello CFA con un solo fattore sia pienamente identificabile, è necessario che disponga di almeno tre indicatori. Questo è dovuto al fatto che con solamente due indicatori non si dispone di sufficiente informazione per separare accuratamente la varianza del fattore e i suoi carichi specifici dagli errori di misurazione. Un modello con esattamente tre indicatori ha zero gradi di libertà, il che significa che si adatterà perfettamente ai dati ma non permetterà ulteriori test o validazioni. Per garantire gradi di libertà positivi (dfM > 0) e consentire un'efficace validazione del modello, è consigliabile utilizzare almeno quattro indicatori.\n",
    "\n",
    "2. **Regola dei Due Indicatori per i Modelli con Più Fattori**: Nei modelli CFA che coinvolgono più di un fattore, è essenziale che ogni fattore sia rappresentato da almeno due indicatori. Questa disposizione aiuta a definire chiaramente ogni fattore e a distinguerlo dagli altri fattori presenti nel modello. Tuttavia, i modelli che si limitano a due indicatori per fattore possono presentare problematiche, specialmente in campioni di dimensioni ridotte, poiché possono emergere instabilità nelle stime e complessità nell'interpretazione dei risultati.\n",
    "\n",
    "Questi requisiti aggiuntivi sono fondamentali non solo per garantire che un modello CFA sia teoricamente valido (attraverso una corretta scalatura e definizione delle variabili latenti), ma anche per assicurare la sua utilità pratica, fornendo sufficienti gradi di libertà per consentire validazioni affidabili e interpretazioni significative del modello."
   ]
  },
  {
   "cell_type": "markdown",
   "id": "e5f94bb6",
   "metadata": {},
   "source": [
    "## Oltre i Requisiti Minimi di Identificazione\n",
    "\n",
    "Nel contesto della Confermative Factor Analysis (CFA), i requisiti di identificazione sono considerati necessari ma non sufficienti. Questo significa che, anche se il loro soddisfacimento è cruciale per una corretta stima dei parametri del modello, essi non garantiscono da soli che il modello sia il migliore possibile o pienamente identificato in termini di struttura e fondamenti teorici. Questa distinzione sottolinea l'importanza di andare oltre i criteri minimi per esplorare l'adeguatezza complessiva e la validità del modello all'interno del suo contesto teorico e applicativo.\n",
    "\n",
    "### Perché sono Necessari\n",
    "\n",
    "1. **Gradi di Libertà (dfM) Maggiori o Uguali a Zero**: Avere gradi di libertà non negativi è essenziale per assicurare che ci siano abbastanza dati per stimare i parametri del modello. Se i gradi di libertà sono negativi, indica che ci sono troppi parametri da stimare rispetto alle informazioni disponibili, il che rende il modello inidentificabile.\n",
    "\n",
    "2. **Scalatura Corretta di Ogni Variabile Non Misurata**: La scalatura delle variabili latenti consente di stabilire un'unità di misura chiara, rendendo possibile l'interpretazione dei parametri come i carichi fattoriali. Senza una scalatura appropriata, i parametri del modello rimarrebbero indeterminati e potrebbero condurre a conclusioni ambigue.\n",
    "\n",
    "### Perché Non Sono Sufficienti\n",
    "\n",
    "Nonostante la soddisfazione di questi requisiti renda il modello tecnicamente identificabile e stima i parametri, ci sono altre considerazioni che possono influenzare l'adeguatezza del modello:\n",
    "\n",
    "- **Adeguamento del Modello**: Anche se un modello ha gradi di libertà positivi e le variabili sono correttamente scalate, potrebbe non adattarsi bene ai dati. L'adeguatezza del modello è valutata attraverso statistiche di fit come il Chi-quadrato, RMSEA, CFI, e altri. Un modello può soddisfare i requisiti di identificazione ma avere un cattivo fit.\n",
    "\n",
    "- **Validità Teorica**: Un modello può essere tecnicamente corretto ma non catturare accuratamente le relazioni teoriche tra le variabili. La costruzione del modello deve essere guidata da una solida base teorica che giustifica le relazioni tra i fattori e gli indicatori.\n",
    "\n",
    "### Esempio Pratico\n",
    "\n",
    "Immaginiamo un modello CFA per misurare due concetti psicologici, come l'ansia e la depressione, con tre indicatori per ciascun fattore. Anche se il modello potrebbe avere gradi di libertà sufficienti e ogni fattore è correttamente scalato con un indicatore con carico fissato a 1.0, potrebbero sorgere problemi:\n",
    "\n",
    "- **Cross-loadings**: Gli indicatori per l'ansia potrebbero anche avere carichi significativi sulla depressione, il che non è catturato nel modello perché ogni indicatore è supposto misurare un solo fattore. Questo problema di validità del modello non è rilevato dai semplici criteri di identificazione.\n",
    "\n",
    "- **Adattamento del Modello**: Il modello potrebbe mostrare un cattivo adattamento ai dati, suggerendo che la struttura ipotizzata dei fattori e degli indicatori non riflette accuratamente le relazioni tra le variabili osservate.\n",
    "\n",
    "In conclusione, mentre i requisiti di identificazione sono critici per la fattibilità tecnica di un modello CFA, non garantiscono di per sé che il modello sia il migliore possibile o che rifletta accuratamente le dinamiche sottostanti. Ulteriori analisi e valutazioni sono necessarie per assicurare che il modello sia sia identificabile che valido."
   ]
  },
  {
   "cell_type": "markdown",
   "id": "d20c5d4a",
   "metadata": {},
   "source": [
    "#### Altri Metodi per la Scalatura dei Fattori nei Modelli di CFA\n",
    "\n",
    "La scalatura dei fattori è fondamentale per garantire una corretta identificazione e interpretazione dei fattori in un modello di Confermative Factor Analysis (CFA). Oltre al comune metodo della variabile di riferimento, esistono altri due approcci principali:\n",
    "\n",
    "1. **Metodo di Standardizzazione della Varianza (Variance Standardization Method)**:\n",
    "   \n",
    "   - **Descrizione**: Questo metodo fissa la varianza di ciascun fattore a 1.0, un approccio noto come *unit variance identification* (UVI).\n",
    "   - **Implicazioni**: La standardizzazione dei fattori implica che le loro varianze non sono stimate come parametri liberi. Invece, le covarianze tra i fattori sono liberamente stimate e interpretate come correlazioni di Pearson.\n",
    "   - **Carichi degli Indicatori**: Tutti i carichi degli indicatori sono considerati parametri liberi, il che permette di testarne la significatività statistica attraverso i loro errori standard.\n",
    "   - **Vantaggi e Limitazioni**: Il principale vantaggio di questo metodo è la sua semplicità e l'assenza di necessità di selezionare una variabile di riferimento. Tuttavia, è generalmente più adatto per modellare fattori esogeni.\n",
    "\n",
    "2. **Metodo di Codifica degli Effetti (Effects Coding Method)**:\n",
    "   \n",
    "   - **Funzionamento**: A differenza dei metodi precedenti, questo non richiede la selezione di una variabile di riferimento e non implica la standardizzazione dei fattori.\n",
    "   - **Vincolo di Codifica degli Effetti (ECI)**: Si impone che la media dei carichi fattoriali per gli indicatori di un dato fattore sia uguale a 1.0. Questo obbliga il software SEM a trovare una combinazione ottimale di carichi che, in media, risultino in 1.0.\n",
    "   - **Stima della Varianza del Fattore**: La varianza del fattore viene stimata come la varianza comune media calcolata attraverso tutti gli indicatori, considerando il loro contributo individuale alla misurazione del fattore.\n",
    "   - **Vantaggi**: Questo metodo consente che tutti gli indicatori contribuiscano equamente alla scalatura del loro fattore comune. È particolarmente utile in studi longitudinali o quando si confrontano gruppi diversi, dato che le varianze dei fattori possono fornire informazioni preziose.\n",
    "\n",
    "Ogni metodo di scalatura presenta vantaggi specifici e limitazioni, che devono essere considerati in base agli obiettivi della ricerca e alle caratteristiche del modello CFA:\n",
    "\n",
    "- Il **Metodo di Standardizzazione della Varianza** offre una soluzione semplice e diretta, ma potrebbe non essere sempre il più appropriato, specialmente in contesti dove i fattori sono endogeni.\n",
    "- Il **Metodo di Codifica degli Effetti** è vantaggioso per stabilire una scalatura equilibrata e stabile dei fattori, utile soprattutto in studi comparativi o longitudinali.\n",
    "\n",
    "La scelta del metodo di scalatura dovrebbe essere guidata dalle necessità specifiche della ricerca, dalla struttura dei dati e dalle ipotesi teoriche del modello di CFA utilizzato."
   ]
  },
  {
   "cell_type": "markdown",
   "id": "fe00a9ed",
   "metadata": {},
   "source": [
    "## Esempio di CFA per un Modello di Abilità Cognitive: La Kaufman Assessment Battery for Children\n",
    "\n",
    "La *Kaufman Assessment Battery for Children* (KABC-I) è un test di valutazione delle abilità cognitive, somministrato individualmente a bambini dagli 2 anni e mezzo ai 12 anni e mezzo (Kaufman & Kaufman, 1983). Questo strumento è stato progettato per misurare due distinti fattori cognitivi attraverso otto indicatori.\n",
    "\n",
    "I primi tre compiti del test sono orientati all'elaborazione sequenziale e richiedono ai bambini di ricordare e ripetere stimoli uditivi (come nel Richiamo Numerico e nell'Ordine delle Parole) o visivi (come nei Movimenti della Mano) in un ordine specifico. Questi compiti sono pensati per riflettere la capacità di memoria a breve termine e di sequenziamento delle informazioni.\n",
    "\n",
    "Gli altri cinque compiti, che includono la Chiusura Gestaltica e la Serie Fotografica, sono ritenuti misurare un tipo di ragionamento più olistico e meno sequenziale, associato all'elaborazione simultanea. Questi compiti valutano la capacità di integrare e sintetizzare le informazioni visuo-spaziali in un contesto più ampio, spesso indipendentemente dall'ordine in cui le informazioni sono presentate.\n",
    "\n",
    "Keith (1985) ha proposto delle denominazioni alternative per i fattori misurati dalla KABC-I, suggerendo i termini \"memoria a breve termine\" per sostituire \"elaborazione sequenziale\" e \"ragionamento visuo-spaziale\" per \"elaborazione simultanea\". Queste etichette alternative riflettono una prospettiva leggermente diversa sui tipi di competenze cognitive che i due fattori intendono misurare.\n",
    "\n",
    "Questo modello di CFA, utilizzando i compiti della KABC-I come indicatori, fornisce una struttura utile per comprendere come diversi tipi di elaborazione cognitiva possano essere categorizzati e valutati nei contesti educativi e diagnostici."
   ]
  },
  {
   "cell_type": "code",
   "execution_count": 3,
   "id": "d5bb42c3",
   "metadata": {
    "vscode": {
     "languageId": "r"
    }
   },
   "outputs": [
    {
     "data": {
      "text/html": [
       "<table class=\"dataframe\">\n",
       "<caption>A matrix: 8 x 8 of type dbl</caption>\n",
       "<thead>\n",
       "\t<tr><th></th><th scope=col>hm</th><th scope=col>nr</th><th scope=col>wo</th><th scope=col>gc</th><th scope=col>tr</th><th scope=col>sm</th><th scope=col>ma</th><th scope=col>ps</th></tr>\n",
       "</thead>\n",
       "<tbody>\n",
       "\t<tr><th scope=row>hm</th><td>1.00</td><td>0.39</td><td>0.35</td><td>0.21</td><td>0.32</td><td>0.40</td><td>0.39</td><td>0.39</td></tr>\n",
       "\t<tr><th scope=row>nr</th><td>0.39</td><td>1.00</td><td>0.67</td><td>0.11</td><td>0.27</td><td>0.29</td><td>0.32</td><td>0.29</td></tr>\n",
       "\t<tr><th scope=row>wo</th><td>0.35</td><td>0.67</td><td>1.00</td><td>0.16</td><td>0.29</td><td>0.28</td><td>0.30</td><td>0.37</td></tr>\n",
       "\t<tr><th scope=row>gc</th><td>0.21</td><td>0.11</td><td>0.16</td><td>1.00</td><td>0.38</td><td>0.30</td><td>0.31</td><td>0.42</td></tr>\n",
       "\t<tr><th scope=row>tr</th><td>0.32</td><td>0.27</td><td>0.29</td><td>0.38</td><td>1.00</td><td>0.47</td><td>0.42</td><td>0.58</td></tr>\n",
       "\t<tr><th scope=row>sm</th><td>0.40</td><td>0.29</td><td>0.28</td><td>0.30</td><td>0.47</td><td>1.00</td><td>0.41</td><td>0.51</td></tr>\n",
       "\t<tr><th scope=row>ma</th><td>0.39</td><td>0.32</td><td>0.30</td><td>0.31</td><td>0.42</td><td>0.41</td><td>1.00</td><td>0.42</td></tr>\n",
       "\t<tr><th scope=row>ps</th><td>0.39</td><td>0.29</td><td>0.37</td><td>0.42</td><td>0.58</td><td>0.51</td><td>0.42</td><td>1.00</td></tr>\n",
       "</tbody>\n",
       "</table>\n"
      ],
      "text/latex": [
       "A matrix: 8 x 8 of type dbl\n",
       "\\begin{tabular}{r|llllllll}\n",
       "  & hm & nr & wo & gc & tr & sm & ma & ps\\\\\n",
       "\\hline\n",
       "\thm & 1.00 & 0.39 & 0.35 & 0.21 & 0.32 & 0.40 & 0.39 & 0.39\\\\\n",
       "\tnr & 0.39 & 1.00 & 0.67 & 0.11 & 0.27 & 0.29 & 0.32 & 0.29\\\\\n",
       "\two & 0.35 & 0.67 & 1.00 & 0.16 & 0.29 & 0.28 & 0.30 & 0.37\\\\\n",
       "\tgc & 0.21 & 0.11 & 0.16 & 1.00 & 0.38 & 0.30 & 0.31 & 0.42\\\\\n",
       "\ttr & 0.32 & 0.27 & 0.29 & 0.38 & 1.00 & 0.47 & 0.42 & 0.58\\\\\n",
       "\tsm & 0.40 & 0.29 & 0.28 & 0.30 & 0.47 & 1.00 & 0.41 & 0.51\\\\\n",
       "\tma & 0.39 & 0.32 & 0.30 & 0.31 & 0.42 & 0.41 & 1.00 & 0.42\\\\\n",
       "\tps & 0.39 & 0.29 & 0.37 & 0.42 & 0.58 & 0.51 & 0.42 & 1.00\\\\\n",
       "\\end{tabular}\n"
      ],
      "text/markdown": [
       "\n",
       "A matrix: 8 x 8 of type dbl\n",
       "\n",
       "| <!--/--> | hm | nr | wo | gc | tr | sm | ma | ps |\n",
       "|---|---|---|---|---|---|---|---|---|\n",
       "| hm | 1.00 | 0.39 | 0.35 | 0.21 | 0.32 | 0.40 | 0.39 | 0.39 |\n",
       "| nr | 0.39 | 1.00 | 0.67 | 0.11 | 0.27 | 0.29 | 0.32 | 0.29 |\n",
       "| wo | 0.35 | 0.67 | 1.00 | 0.16 | 0.29 | 0.28 | 0.30 | 0.37 |\n",
       "| gc | 0.21 | 0.11 | 0.16 | 1.00 | 0.38 | 0.30 | 0.31 | 0.42 |\n",
       "| tr | 0.32 | 0.27 | 0.29 | 0.38 | 1.00 | 0.47 | 0.42 | 0.58 |\n",
       "| sm | 0.40 | 0.29 | 0.28 | 0.30 | 0.47 | 1.00 | 0.41 | 0.51 |\n",
       "| ma | 0.39 | 0.32 | 0.30 | 0.31 | 0.42 | 0.41 | 1.00 | 0.42 |\n",
       "| ps | 0.39 | 0.29 | 0.37 | 0.42 | 0.58 | 0.51 | 0.42 | 1.00 |\n",
       "\n"
      ],
      "text/plain": [
       "   hm   nr   wo   gc   tr   sm   ma   ps  \n",
       "hm 1.00 0.39 0.35 0.21 0.32 0.40 0.39 0.39\n",
       "nr 0.39 1.00 0.67 0.11 0.27 0.29 0.32 0.29\n",
       "wo 0.35 0.67 1.00 0.16 0.29 0.28 0.30 0.37\n",
       "gc 0.21 0.11 0.16 1.00 0.38 0.30 0.31 0.42\n",
       "tr 0.32 0.27 0.29 0.38 1.00 0.47 0.42 0.58\n",
       "sm 0.40 0.29 0.28 0.30 0.47 1.00 0.41 0.51\n",
       "ma 0.39 0.32 0.30 0.31 0.42 0.41 1.00 0.42\n",
       "ps 0.39 0.29 0.37 0.42 0.58 0.51 0.42 1.00"
      ]
     },
     "metadata": {},
     "output_type": "display_data"
    }
   ],
   "source": [
    "# input the correlations in lower diagnonal form\n",
    "kabcLower.cor <- \"\n",
    " 1.00\n",
    " .39 1.00\n",
    " .35  .67 1.00\n",
    " .21  .11  .16 1.00\n",
    " .32  .27  .29  .38 1.00\n",
    " .40  .29  .28  .30  .47 1.00\n",
    " .39  .32  .30  .31  .42  .41 1.00\n",
    " .39  .29  .37  .42  .58  .51  .42 1.00 \"\n",
    "\n",
    "# name the variables and convert to full correlation matrix\n",
    "# hm, hand movements; nr, number recall; wo, word order; gc, gestalt closure;\n",
    "# tr, triangles; sm, spatial memory; ma, matrix analogies; ps, photo series\n",
    "kabc.cor <- lavaan::getCov(kabcLower.cor, names = c(\n",
    "    \"hm\", \"nr\", \"wo\",\n",
    "    \"gc\", \"tr\", \"sm\", \"ma\", \"ps\"\n",
    "))\n",
    "# display correlations\n",
    "kabc.cor"
   ]
  },
  {
   "cell_type": "code",
   "execution_count": 4,
   "id": "1b26582c",
   "metadata": {
    "vscode": {
     "languageId": "r"
    }
   },
   "outputs": [
    {
     "data": {
      "text/html": [
       "<table class=\"dataframe\">\n",
       "<caption>A matrix: 8 x 8 of type dbl</caption>\n",
       "<thead>\n",
       "\t<tr><th></th><th scope=col>hm</th><th scope=col>nr</th><th scope=col>wo</th><th scope=col>gc</th><th scope=col>tr</th><th scope=col>sm</th><th scope=col>ma</th><th scope=col>ps</th></tr>\n",
       "</thead>\n",
       "<tbody>\n",
       "\t<tr><th scope=row>hm</th><td>11.5600</td><td>3.1824</td><td>3.4510</td><td>1.9278</td><td>2.9376</td><td> 5.7120</td><td>3.7128</td><td>3.978</td></tr>\n",
       "\t<tr><th scope=row>nr</th><td> 3.1824</td><td>5.7600</td><td>4.6632</td><td>0.7128</td><td>1.7496</td><td> 2.9232</td><td>2.1504</td><td>2.088</td></tr>\n",
       "\t<tr><th scope=row>wo</th><td> 3.4510</td><td>4.6632</td><td>8.4100</td><td>1.2528</td><td>2.2707</td><td> 3.4104</td><td>2.4360</td><td>3.219</td></tr>\n",
       "\t<tr><th scope=row>gc</th><td> 1.9278</td><td>0.7128</td><td>1.2528</td><td>7.2900</td><td>2.7702</td><td> 3.4020</td><td>2.3436</td><td>3.402</td></tr>\n",
       "\t<tr><th scope=row>tr</th><td> 2.9376</td><td>1.7496</td><td>2.2707</td><td>2.7702</td><td>7.2900</td><td> 5.3298</td><td>3.1752</td><td>4.698</td></tr>\n",
       "\t<tr><th scope=row>sm</th><td> 5.7120</td><td>2.9232</td><td>3.4104</td><td>3.4020</td><td>5.3298</td><td>17.6400</td><td>4.8216</td><td>6.426</td></tr>\n",
       "\t<tr><th scope=row>ma</th><td> 3.7128</td><td>2.1504</td><td>2.4360</td><td>2.3436</td><td>3.1752</td><td> 4.8216</td><td>7.8400</td><td>3.528</td></tr>\n",
       "\t<tr><th scope=row>ps</th><td> 3.9780</td><td>2.0880</td><td>3.2190</td><td>3.4020</td><td>4.6980</td><td> 6.4260</td><td>3.5280</td><td>9.000</td></tr>\n",
       "</tbody>\n",
       "</table>\n"
      ],
      "text/latex": [
       "A matrix: 8 x 8 of type dbl\n",
       "\\begin{tabular}{r|llllllll}\n",
       "  & hm & nr & wo & gc & tr & sm & ma & ps\\\\\n",
       "\\hline\n",
       "\thm & 11.5600 & 3.1824 & 3.4510 & 1.9278 & 2.9376 &  5.7120 & 3.7128 & 3.978\\\\\n",
       "\tnr &  3.1824 & 5.7600 & 4.6632 & 0.7128 & 1.7496 &  2.9232 & 2.1504 & 2.088\\\\\n",
       "\two &  3.4510 & 4.6632 & 8.4100 & 1.2528 & 2.2707 &  3.4104 & 2.4360 & 3.219\\\\\n",
       "\tgc &  1.9278 & 0.7128 & 1.2528 & 7.2900 & 2.7702 &  3.4020 & 2.3436 & 3.402\\\\\n",
       "\ttr &  2.9376 & 1.7496 & 2.2707 & 2.7702 & 7.2900 &  5.3298 & 3.1752 & 4.698\\\\\n",
       "\tsm &  5.7120 & 2.9232 & 3.4104 & 3.4020 & 5.3298 & 17.6400 & 4.8216 & 6.426\\\\\n",
       "\tma &  3.7128 & 2.1504 & 2.4360 & 2.3436 & 3.1752 &  4.8216 & 7.8400 & 3.528\\\\\n",
       "\tps &  3.9780 & 2.0880 & 3.2190 & 3.4020 & 4.6980 &  6.4260 & 3.5280 & 9.000\\\\\n",
       "\\end{tabular}\n"
      ],
      "text/markdown": [
       "\n",
       "A matrix: 8 x 8 of type dbl\n",
       "\n",
       "| <!--/--> | hm | nr | wo | gc | tr | sm | ma | ps |\n",
       "|---|---|---|---|---|---|---|---|---|\n",
       "| hm | 11.5600 | 3.1824 | 3.4510 | 1.9278 | 2.9376 |  5.7120 | 3.7128 | 3.978 |\n",
       "| nr |  3.1824 | 5.7600 | 4.6632 | 0.7128 | 1.7496 |  2.9232 | 2.1504 | 2.088 |\n",
       "| wo |  3.4510 | 4.6632 | 8.4100 | 1.2528 | 2.2707 |  3.4104 | 2.4360 | 3.219 |\n",
       "| gc |  1.9278 | 0.7128 | 1.2528 | 7.2900 | 2.7702 |  3.4020 | 2.3436 | 3.402 |\n",
       "| tr |  2.9376 | 1.7496 | 2.2707 | 2.7702 | 7.2900 |  5.3298 | 3.1752 | 4.698 |\n",
       "| sm |  5.7120 | 2.9232 | 3.4104 | 3.4020 | 5.3298 | 17.6400 | 4.8216 | 6.426 |\n",
       "| ma |  3.7128 | 2.1504 | 2.4360 | 2.3436 | 3.1752 |  4.8216 | 7.8400 | 3.528 |\n",
       "| ps |  3.9780 | 2.0880 | 3.2190 | 3.4020 | 4.6980 |  6.4260 | 3.5280 | 9.000 |\n",
       "\n"
      ],
      "text/plain": [
       "   hm      nr     wo     gc     tr     sm      ma     ps   \n",
       "hm 11.5600 3.1824 3.4510 1.9278 2.9376  5.7120 3.7128 3.978\n",
       "nr  3.1824 5.7600 4.6632 0.7128 1.7496  2.9232 2.1504 2.088\n",
       "wo  3.4510 4.6632 8.4100 1.2528 2.2707  3.4104 2.4360 3.219\n",
       "gc  1.9278 0.7128 1.2528 7.2900 2.7702  3.4020 2.3436 3.402\n",
       "tr  2.9376 1.7496 2.2707 2.7702 7.2900  5.3298 3.1752 4.698\n",
       "sm  5.7120 2.9232 3.4104 3.4020 5.3298 17.6400 4.8216 6.426\n",
       "ma  3.7128 2.1504 2.4360 2.3436 3.1752  4.8216 7.8400 3.528\n",
       "ps  3.9780 2.0880 3.2190 3.4020 4.6980  6.4260 3.5280 9.000"
      ]
     },
     "metadata": {},
     "output_type": "display_data"
    }
   ],
   "source": [
    "# add the standard deviations and convert to covariances\n",
    "kabc.cov <- lavaan::cor2cov(kabc.cor, sds = c(3.40, 2.40, 2.90, 2.70, 2.70, 4.20, 2.80, 3.00))\n",
    "\n",
    "# display covariances\n",
    "kabc.cov"
   ]
  },
  {
   "cell_type": "markdown",
   "id": "628717d1",
   "metadata": {},
   "source": [
    "::: {#fig-kline-14-3}\n",
    "![](../../figures/kline_14_3.png){width=\"99%\"}\n",
    "\n",
    "Modello CFA per la Kaufman Assessment Battery for Children. (Figura tratta da @kline2023principles)\n",
    ":::"
   ]
  },
  {
   "cell_type": "markdown",
   "id": "dba450cc",
   "metadata": {},
   "source": [
    "#### Modello a Fattore Singolo\n",
    "\n",
    "Nell'ambito della CFA, se il modello bersaglio ha due o più fattori, spesso il primo modello analizzato è un modello a fattore singolo. Se non si può rigettare un modello a fattore singolo, non ha molto senso valutare modelli con più fattori.\n",
    "\n",
    "Specifichiamo il modello ad un fattore comune nella sintassi di `lavaan`."
   ]
  },
  {
   "cell_type": "code",
   "execution_count": 5,
   "id": "a4de644e",
   "metadata": {
    "vscode": {
     "languageId": "r"
    }
   },
   "outputs": [],
   "source": [
    "# single factor (general ability)\n",
    "# indicator hm automatically specified as reference variable\n",
    "kabc1.model <- \"\n",
    "    General =~ hm + nr + wo + gc + tr + sm + ma + ps \n",
    "\""
   ]
  },
  {
   "cell_type": "markdown",
   "id": "33b933d6",
   "metadata": {},
   "source": [
    "Adattiamo il modello ai dati."
   ]
  },
  {
   "cell_type": "code",
   "execution_count": 6,
   "id": "8847c796",
   "metadata": {
    "vscode": {
     "languageId": "r"
    }
   },
   "outputs": [],
   "source": [
    "# variances calculated with N in the denominator, not N - 1\n",
    "kabc1 <- lavaan::sem(\n",
    "    kabc1.model, \n",
    "    sample.cov = kabc.cov, \n",
    "    sample.nobs = 200\n",
    ")"
   ]
  },
  {
   "cell_type": "markdown",
   "id": "e5e59005",
   "metadata": {},
   "source": [
    "Generiamo un modello di percorso."
   ]
  },
  {
   "cell_type": "code",
   "execution_count": 7,
   "id": "6529405a",
   "metadata": {
    "vscode": {
     "languageId": "r"
    }
   },
   "outputs": [
    {
     "data": {
      "image/png": "[encoded data removed]",
      "text/plain": [
       "plot without title"
      ]
     },
     "metadata": {
      "image/png": {
       "height": 296.6563,
       "width": 480
      }
     },
     "output_type": "display_data"
    }
   ],
   "source": [
    "semPlot::semPaths(kabc1,\n",
    "    what = \"col\", whatLabels = \"par\", style = \"mx\", \n",
    "    layout = \"tree2\", nCharNodes = 7,\n",
    "    shapeMan = \"rectangle\", sizeMan = 8, sizeMan2 = 5\n",
    ")"
   ]
  },
  {
   "cell_type": "markdown",
   "id": "5390917c",
   "metadata": {},
   "source": [
    "Esaminiamo la soluzione non standardizzata."
   ]
  },
  {
   "cell_type": "code",
   "execution_count": 9,
   "id": "a4f4f04a",
   "metadata": {
    "vscode": {
     "languageId": "r"
    }
   },
   "outputs": [
    {
     "data": {
      "text/html": [
       "<table class=\"dataframe\">\n",
       "<caption>A lavaan.data.frame: 17 x 9</caption>\n",
       "<thead>\n",
       "\t<tr><th scope=col>lhs</th><th scope=col>op</th><th scope=col>rhs</th><th scope=col>est</th><th scope=col>se</th><th scope=col>z</th><th scope=col>pvalue</th><th scope=col>ci.lower</th><th scope=col>ci.upper</th></tr>\n",
       "\t<tr><th scope=col>&lt;chr&gt;</th><th scope=col>&lt;chr&gt;</th><th scope=col>&lt;chr&gt;</th><th scope=col>&lt;dbl&gt;</th><th scope=col>&lt;dbl&gt;</th><th scope=col>&lt;dbl&gt;</th><th scope=col>&lt;dbl&gt;</th><th scope=col>&lt;dbl&gt;</th><th scope=col>&lt;dbl&gt;</th></tr>\n",
       "</thead>\n",
       "<tbody>\n",
       "\t<tr><td>General</td><td>=~</td><td>hm     </td><td>1.0000000</td><td>0.0000000</td><td>      NA</td><td>          NA</td><td>1.0000000</td><td> 1.0000000</td></tr>\n",
       "\t<tr><td>General</td><td>=~</td><td>nr     </td><td>0.6358147</td><td>0.1113808</td><td>5.708474</td><td>1.139933e-08</td><td>0.4175122</td><td> 0.8541171</td></tr>\n",
       "\t<tr><td>General</td><td>=~</td><td>wo     </td><td>0.8052592</td><td>0.1362548</td><td>5.909952</td><td>3.422078e-09</td><td>0.5382048</td><td> 1.0723137</td></tr>\n",
       "\t<tr><td>General</td><td>=~</td><td>gc     </td><td>0.6587497</td><td>0.1228832</td><td>5.360780</td><td>8.286325e-08</td><td>0.4179031</td><td> 0.8995963</td></tr>\n",
       "\t<tr><td>General</td><td>=~</td><td>tr     </td><td>0.9631365</td><td>0.1379106</td><td>6.983774</td><td>2.873479e-12</td><td>0.6928367</td><td> 1.2334363</td></tr>\n",
       "\t<tr><td>General</td><td>=~</td><td>sm     </td><td>1.4325685</td><td>0.2107960</td><td>6.795994</td><td>1.075673e-11</td><td>1.0194159</td><td> 1.8457211</td></tr>\n",
       "\t<tr><td>General</td><td>=~</td><td>ma     </td><td>0.8827509</td><td>0.1366769</td><td>6.458669</td><td>1.056277e-10</td><td>0.6148691</td><td> 1.1506327</td></tr>\n",
       "\t<tr><td>General</td><td>=~</td><td>ps     </td><td>1.1663077</td><td>0.1592443</td><td>7.324014</td><td>2.406964e-13</td><td>0.8541946</td><td> 1.4784209</td></tr>\n",
       "\t<tr><td>hm     </td><td>~~</td><td>hm     </td><td>7.8123223</td><td>0.8633074</td><td>9.049294</td><td>0.000000e+00</td><td>6.1202709</td><td> 9.5043737</td></tr>\n",
       "\t<tr><td>nr     </td><td>~~</td><td>nr     </td><td>4.2395307</td><td>0.4561738</td><td>9.293675</td><td>0.000000e+00</td><td>3.3454465</td><td> 5.1336148</td></tr>\n",
       "\t<tr><td>wo     </td><td>~~</td><td>wo     </td><td>5.9752809</td><td>0.6498204</td><td>9.195280</td><td>0.000000e+00</td><td>4.7016563</td><td> 7.2489055</td></tr>\n",
       "\t<tr><td>gc     </td><td>~~</td><td>gc     </td><td>5.6523162</td><td>0.5992591</td><td>9.432174</td><td>0.000000e+00</td><td>4.4777900</td><td> 6.8268424</td></tr>\n",
       "\t<tr><td>tr     </td><td>~~</td><td>tr     </td><td>3.8306998</td><td>0.4679368</td><td>8.186362</td><td>2.220446e-16</td><td>2.9135606</td><td> 4.7478390</td></tr>\n",
       "\t<tr><td>sm     </td><td>~~</td><td>sm     </td><td>9.9792360</td><td>1.1791148</td><td>8.463329</td><td>0.000000e+00</td><td>7.6682135</td><td>12.2902584</td></tr>\n",
       "\t<tr><td>ma     </td><td>~~</td><td>ma     </td><td>4.9254754</td><td>0.5583124</td><td>8.822078</td><td>0.000000e+00</td><td>3.8312032</td><td> 6.0197475</td></tr>\n",
       "\t<tr><td>ps     </td><td>~~</td><td>ps     </td><td>3.9357558</td><td>0.5311293</td><td>7.410165</td><td>1.261213e-13</td><td>2.8947616</td><td> 4.9767501</td></tr>\n",
       "\t<tr><td>General</td><td>~~</td><td>General</td><td>3.6898743</td><td>0.9206831</td><td>4.007757</td><td>6.129807e-05</td><td>1.8853686</td><td> 5.4943800</td></tr>\n",
       "</tbody>\n",
       "</table>\n"
      ],
      "text/latex": [
       "A lavaan.data.frame: 17 x 9\n",
       "\\begin{tabular}{lllllllll}\n",
       " lhs & op & rhs & est & se & z & pvalue & ci.lower & ci.upper\\\\\n",
       " <chr> & <chr> & <chr> & <dbl> & <dbl> & <dbl> & <dbl> & <dbl> & <dbl>\\\\\n",
       "\\hline\n",
       "\t General & =\\textasciitilde{} & hm      & 1.0000000 & 0.0000000 &       NA &           NA & 1.0000000 &  1.0000000\\\\\n",
       "\t General & =\\textasciitilde{} & nr      & 0.6358147 & 0.1113808 & 5.708474 & 1.139933e-08 & 0.4175122 &  0.8541171\\\\\n",
       "\t General & =\\textasciitilde{} & wo      & 0.8052592 & 0.1362548 & 5.909952 & 3.422078e-09 & 0.5382048 &  1.0723137\\\\\n",
       "\t General & =\\textasciitilde{} & gc      & 0.6587497 & 0.1228832 & 5.360780 & 8.286325e-08 & 0.4179031 &  0.8995963\\\\\n",
       "\t General & =\\textasciitilde{} & tr      & 0.9631365 & 0.1379106 & 6.983774 & 2.873479e-12 & 0.6928367 &  1.2334363\\\\\n",
       "\t General & =\\textasciitilde{} & sm      & 1.4325685 & 0.2107960 & 6.795994 & 1.075673e-11 & 1.0194159 &  1.8457211\\\\\n",
       "\t General & =\\textasciitilde{} & ma      & 0.8827509 & 0.1366769 & 6.458669 & 1.056277e-10 & 0.6148691 &  1.1506327\\\\\n",
       "\t General & =\\textasciitilde{} & ps      & 1.1663077 & 0.1592443 & 7.324014 & 2.406964e-13 & 0.8541946 &  1.4784209\\\\\n",
       "\t hm      & \\textasciitilde{}\\textasciitilde{} & hm      & 7.8123223 & 0.8633074 & 9.049294 & 0.000000e+00 & 6.1202709 &  9.5043737\\\\\n",
       "\t nr      & \\textasciitilde{}\\textasciitilde{} & nr      & 4.2395307 & 0.4561738 & 9.293675 & 0.000000e+00 & 3.3454465 &  5.1336148\\\\\n",
       "\t wo      & \\textasciitilde{}\\textasciitilde{} & wo      & 5.9752809 & 0.6498204 & 9.195280 & 0.000000e+00 & 4.7016563 &  7.2489055\\\\\n",
       "\t gc      & \\textasciitilde{}\\textasciitilde{} & gc      & 5.6523162 & 0.5992591 & 9.432174 & 0.000000e+00 & 4.4777900 &  6.8268424\\\\\n",
       "\t tr      & \\textasciitilde{}\\textasciitilde{} & tr      & 3.8306998 & 0.4679368 & 8.186362 & 2.220446e-16 & 2.9135606 &  4.7478390\\\\\n",
       "\t sm      & \\textasciitilde{}\\textasciitilde{} & sm      & 9.9792360 & 1.1791148 & 8.463329 & 0.000000e+00 & 7.6682135 & 12.2902584\\\\\n",
       "\t ma      & \\textasciitilde{}\\textasciitilde{} & ma      & 4.9254754 & 0.5583124 & 8.822078 & 0.000000e+00 & 3.8312032 &  6.0197475\\\\\n",
       "\t ps      & \\textasciitilde{}\\textasciitilde{} & ps      & 3.9357558 & 0.5311293 & 7.410165 & 1.261213e-13 & 2.8947616 &  4.9767501\\\\\n",
       "\t General & \\textasciitilde{}\\textasciitilde{} & General & 3.6898743 & 0.9206831 & 4.007757 & 6.129807e-05 & 1.8853686 &  5.4943800\\\\\n",
       "\\end{tabular}\n"
      ],
      "text/markdown": [
       "\n",
       "A lavaan.data.frame: 17 x 9\n",
       "\n",
       "| lhs &lt;chr&gt; | op &lt;chr&gt; | rhs &lt;chr&gt; | est &lt;dbl&gt; | se &lt;dbl&gt; | z &lt;dbl&gt; | pvalue &lt;dbl&gt; | ci.lower &lt;dbl&gt; | ci.upper &lt;dbl&gt; |\n",
       "|---|---|---|---|---|---|---|---|---|\n",
       "| General | =~ | hm      | 1.0000000 | 0.0000000 |       NA |           NA | 1.0000000 |  1.0000000 |\n",
       "| General | =~ | nr      | 0.6358147 | 0.1113808 | 5.708474 | 1.139933e-08 | 0.4175122 |  0.8541171 |\n",
       "| General | =~ | wo      | 0.8052592 | 0.1362548 | 5.909952 | 3.422078e-09 | 0.5382048 |  1.0723137 |\n",
       "| General | =~ | gc      | 0.6587497 | 0.1228832 | 5.360780 | 8.286325e-08 | 0.4179031 |  0.8995963 |\n",
       "| General | =~ | tr      | 0.9631365 | 0.1379106 | 6.983774 | 2.873479e-12 | 0.6928367 |  1.2334363 |\n",
       "| General | =~ | sm      | 1.4325685 | 0.2107960 | 6.795994 | 1.075673e-11 | 1.0194159 |  1.8457211 |\n",
       "| General | =~ | ma      | 0.8827509 | 0.1366769 | 6.458669 | 1.056277e-10 | 0.6148691 |  1.1506327 |\n",
       "| General | =~ | ps      | 1.1663077 | 0.1592443 | 7.324014 | 2.406964e-13 | 0.8541946 |  1.4784209 |\n",
       "| hm      | ~~ | hm      | 7.8123223 | 0.8633074 | 9.049294 | 0.000000e+00 | 6.1202709 |  9.5043737 |\n",
       "| nr      | ~~ | nr      | 4.2395307 | 0.4561738 | 9.293675 | 0.000000e+00 | 3.3454465 |  5.1336148 |\n",
       "| wo      | ~~ | wo      | 5.9752809 | 0.6498204 | 9.195280 | 0.000000e+00 | 4.7016563 |  7.2489055 |\n",
       "| gc      | ~~ | gc      | 5.6523162 | 0.5992591 | 9.432174 | 0.000000e+00 | 4.4777900 |  6.8268424 |\n",
       "| tr      | ~~ | tr      | 3.8306998 | 0.4679368 | 8.186362 | 2.220446e-16 | 2.9135606 |  4.7478390 |\n",
       "| sm      | ~~ | sm      | 9.9792360 | 1.1791148 | 8.463329 | 0.000000e+00 | 7.6682135 | 12.2902584 |\n",
       "| ma      | ~~ | ma      | 4.9254754 | 0.5583124 | 8.822078 | 0.000000e+00 | 3.8312032 |  6.0197475 |\n",
       "| ps      | ~~ | ps      | 3.9357558 | 0.5311293 | 7.410165 | 1.261213e-13 | 2.8947616 |  4.9767501 |\n",
       "| General | ~~ | General | 3.6898743 | 0.9206831 | 4.007757 | 6.129807e-05 | 1.8853686 |  5.4943800 |\n",
       "\n"
      ],
      "text/plain": [
       "   lhs     op rhs     est       se        z        pvalue      \n",
       "1  General =~ hm      1.0000000 0.0000000       NA           NA\n",
       "2  General =~ nr      0.6358147 0.1113808 5.708474 1.139933e-08\n",
       "3  General =~ wo      0.8052592 0.1362548 5.909952 3.422078e-09\n",
       "4  General =~ gc      0.6587497 0.1228832 5.360780 8.286325e-08\n",
       "5  General =~ tr      0.9631365 0.1379106 6.983774 2.873479e-12\n",
       "6  General =~ sm      1.4325685 0.2107960 6.795994 1.075673e-11\n",
       "7  General =~ ma      0.8827509 0.1366769 6.458669 1.056277e-10\n",
       "8  General =~ ps      1.1663077 0.1592443 7.324014 2.406964e-13\n",
       "9  hm      ~~ hm      7.8123223 0.8633074 9.049294 0.000000e+00\n",
       "10 nr      ~~ nr      4.2395307 0.4561738 9.293675 0.000000e+00\n",
       "11 wo      ~~ wo      5.9752809 0.6498204 9.195280 0.000000e+00\n",
       "12 gc      ~~ gc      5.6523162 0.5992591 9.432174 0.000000e+00\n",
       "13 tr      ~~ tr      3.8306998 0.4679368 8.186362 2.220446e-16\n",
       "14 sm      ~~ sm      9.9792360 1.1791148 8.463329 0.000000e+00\n",
       "15 ma      ~~ ma      4.9254754 0.5583124 8.822078 0.000000e+00\n",
       "16 ps      ~~ ps      3.9357558 0.5311293 7.410165 1.261213e-13\n",
       "17 General ~~ General 3.6898743 0.9206831 4.007757 6.129807e-05\n",
       "   ci.lower  ci.upper  \n",
       "1  1.0000000  1.0000000\n",
       "2  0.4175122  0.8541171\n",
       "3  0.5382048  1.0723137\n",
       "4  0.4179031  0.8995963\n",
       "5  0.6928367  1.2334363\n",
       "6  1.0194159  1.8457211\n",
       "7  0.6148691  1.1506327\n",
       "8  0.8541946  1.4784209\n",
       "9  6.1202709  9.5043737\n",
       "10 3.3454465  5.1336148\n",
       "11 4.7016563  7.2489055\n",
       "12 4.4777900  6.8268424\n",
       "13 2.9135606  4.7478390\n",
       "14 7.6682135 12.2902584\n",
       "15 3.8312032  6.0197475\n",
       "16 2.8947616  4.9767501\n",
       "17 1.8853686  5.4943800"
      ]
     },
     "metadata": {},
     "output_type": "display_data"
    }
   ],
   "source": [
    "lavaan::parameterEstimates(kabc1) "
   ]
  },
  {
   "cell_type": "markdown",
   "id": "0a04539d",
   "metadata": {},
   "source": [
    "La saturazione non standardizzata per il compito \"Movimenti della Mano\" è stato fissato automaticamente a 1.0 per scalare il singolo fattore comune. Le istruzioni seguenti consentono di estrarre dall'output di `sem()` solo le informazioni relative alle saturazioni fattoriali."
   ]
  },
  {
   "cell_type": "code",
   "execution_count": 10,
   "id": "a698cab6",
   "metadata": {
    "vscode": {
     "languageId": "r"
    }
   },
   "outputs": [
    {
     "data": {
      "text/plain": [
       "\n",
       "\n",
       "Table: Factor Loadings\n",
       "\n",
       "|Latent Factor |Indicator |     B|    SE|     Z| p-value|  Beta|\n",
       "|:-------------|:---------|-----:|-----:|-----:|-------:|-----:|\n",
       "|General       |hm        | 1.000| 0.000|    NA|      NA| 0.566|\n",
       "|General       |nr        | 0.636| 0.111| 5.708|       0| 0.510|\n",
       "|General       |wo        | 0.805| 0.136| 5.910|       0| 0.535|\n",
       "|General       |gc        | 0.659| 0.123| 5.361|       0| 0.470|\n",
       "|General       |tr        | 0.963| 0.138| 6.984|       0| 0.687|\n",
       "|General       |sm        | 1.433| 0.211| 6.796|       0| 0.657|\n",
       "|General       |ma        | 0.883| 0.137| 6.459|       0| 0.607|\n",
       "|General       |ps        | 1.166| 0.159| 7.324|       0| 0.749|"
      ]
     },
     "metadata": {},
     "output_type": "display_data"
    }
   ],
   "source": [
    "parameterEstimates(kabc1, standardized = TRUE) %>%\n",
    "    dplyr::filter(op == \"=~\") %>%\n",
    "    dplyr::select(\n",
    "        \"Latent Factor\" = lhs,\n",
    "        Indicator = rhs,\n",
    "        B = est,\n",
    "        SE = se,\n",
    "        Z = z,\n",
    "        \"p-value\" = pvalue,\n",
    "        Beta = std.all\n",
    "    ) %>%\n",
    "    knitr::kable(\n",
    "        digits = 3, booktabs = TRUE, format = \"markdown\",\n",
    "        caption = \"Factor Loadings\"\n",
    "    )"
   ]
  },
  {
   "cell_type": "markdown",
   "id": "979d2d80",
   "metadata": {},
   "source": [
    "Esaminiamo le misure di bontà di adattamento."
   ]
  },
  {
   "cell_type": "code",
   "execution_count": 11,
   "id": "e0ed0373",
   "metadata": {
    "vscode": {
     "languageId": "r"
    }
   },
   "outputs": [
    {
     "data": {
      "text/html": [
       "<style>\n",
       ".dl-inline {width: auto; margin:0; padding: 0}\n",
       ".dl-inline>dt, .dl-inline>dd {float: none; width: auto; display: inline-block}\n",
       ".dl-inline>dt::after {content: \":\\0020\"; padding-right: .5ex}\n",
       ".dl-inline>dt:not(:first-of-type) {padding-left: .5ex}\n",
       "</style><dl class=dl-inline><dt>chisq</dt><dd>105.426636833896</dd><dt>df</dt><dd>20</dd><dt>cfi</dt><dd>0.818371182415794</dd><dt>tli</dt><dd>0.745719655382111</dd><dt>rmsea</dt><dd>0.146139177527705</dd><dt>srmr</dt><dd>0.0836549258603996</dd></dl>\n"
      ],
      "text/latex": [
       "\\begin{description*}\n",
       "\\item[chisq] 105.426636833896\n",
       "\\item[df] 20\n",
       "\\item[cfi] 0.818371182415794\n",
       "\\item[tli] 0.745719655382111\n",
       "\\item[rmsea] 0.146139177527705\n",
       "\\item[srmr] 0.0836549258603996\n",
       "\\end{description*}\n"
      ],
      "text/markdown": [
       "chisq\n",
       ":   105.426636833896df\n",
       ":   20cfi\n",
       ":   0.818371182415794tli\n",
       ":   0.745719655382111rmsea\n",
       ":   0.146139177527705srmr\n",
       ":   0.0836549258603996\n",
       "\n"
      ],
      "text/plain": [
       "  chisq      df     cfi     tli   rmsea    srmr \n",
       "105.427  20.000   0.818   0.746   0.146   0.084 "
      ]
     },
     "metadata": {},
     "output_type": "display_data"
    }
   ],
   "source": [
    "fitMeasures(kabc1, c(\"chisq\", \"df\", \"cfi\", \"tli\", \"rmsea\", \"srmr\")) "
   ]
  },
  {
   "cell_type": "markdown",
   "id": "922ff54f",
   "metadata": {},
   "source": [
    "Troviamo i residui grezzi, ovvero la differenza tra la matrice di *covarianza* osservata e quella predetta dal modello."
   ]
  },
  {
   "cell_type": "code",
   "execution_count": 12,
   "id": "81723e84",
   "metadata": {
    "vscode": {
     "languageId": "r"
    }
   },
   "outputs": [
    {
     "data": {
      "text/html": [
       "<dl>\n",
       "\t<dt>$type</dt>\n",
       "\t\t<dd>'raw'</dd>\n",
       "\t<dt>$cov</dt>\n",
       "\t\t<dd><table class=\"dataframe\">\n",
       "<caption>A lavaan.matrix.symmetric: 8 x 8 of type dbl</caption>\n",
       "<thead>\n",
       "\t<tr><th></th><th scope=col>hm</th><th scope=col>nr</th><th scope=col>wo</th><th scope=col>gc</th><th scope=col>tr</th><th scope=col>sm</th><th scope=col>ma</th><th scope=col>ps</th></tr>\n",
       "</thead>\n",
       "<tbody>\n",
       "\t<tr><th scope=row>hm</th><td> 3.391968e-06</td><td> 8.204118e-01</td><td> 4.624396e-01</td><td>-5.125426e-01</td><td>-6.309405e-01</td><td> 3.974422e-01</td><td> 4.369960e-01</td><td>-3.454190e-01</td></tr>\n",
       "\t<tr><th scope=row>nr</th><td> 8.204118e-01</td><td>-3.007158e-07</td><td> 2.750684e+00</td><td>-8.362410e-01</td><td>-5.187395e-01</td><td>-4.523309e-01</td><td> 6.864707e-02</td><td>-6.586868e-01</td></tr>\n",
       "\t<tr><th scope=row>wo</th><td> 4.624396e-01</td><td> 2.750684e+00</td><td>-1.997207e-06</td><td>-7.108105e-01</td><td>-6.024261e-01</td><td>-8.632506e-01</td><td>-1.991026e-01</td><td>-2.625515e-01</td></tr>\n",
       "\t<tr><th scope=row>gc</th><td>-5.125426e-01</td><td>-8.362410e-01</td><td>-7.108105e-01</td><td> 8.574682e-06</td><td> 4.152498e-01</td><td>-9.715946e-02</td><td> 1.861762e-01</td><td> 5.500416e-01</td></tr>\n",
       "\t<tr><th scope=row>tr</th><td>-6.309405e-01</td><td>-5.187395e-01</td><td>-6.024261e-01</td><td> 4.152498e-01</td><td> 5.252583e-06</td><td> 2.120137e-01</td><td> 2.215741e-02</td><td> 5.296243e-01</td></tr>\n",
       "\t<tr><th scope=row>sm</th><td> 3.974422e-01</td><td>-4.523309e-01</td><td>-8.632506e-01</td><td>-9.715946e-02</td><td> 2.120137e-01</td><td> 9.851239e-06</td><td> 1.312725e-01</td><td> 2.287698e-01</td></tr>\n",
       "\t<tr><th scope=row>ma</th><td> 4.369960e-01</td><td> 6.864707e-02</td><td>-1.991026e-01</td><td> 1.861762e-01</td><td> 2.215741e-02</td><td> 1.312725e-01</td><td>-6.972920e-06</td><td>-2.885842e-01</td></tr>\n",
       "\t<tr><th scope=row>ps</th><td>-3.454190e-01</td><td>-6.586868e-01</td><td>-2.625515e-01</td><td> 5.500416e-01</td><td> 5.296243e-01</td><td> 2.287698e-01</td><td>-2.885842e-01</td><td> 4.996915e-06</td></tr>\n",
       "</tbody>\n",
       "</table>\n",
       "</dd>\n",
       "</dl>\n"
      ],
      "text/latex": [
       "\\begin{description}\n",
       "\\item[\\$type] 'raw'\n",
       "\\item[\\$cov] A lavaan.matrix.symmetric: 8 x 8 of type dbl\n",
       "\\begin{tabular}{r|llllllll}\n",
       "  & hm & nr & wo & gc & tr & sm & ma & ps\\\\\n",
       "\\hline\n",
       "\thm &  3.391968e-06 &  8.204118e-01 &  4.624396e-01 & -5.125426e-01 & -6.309405e-01 &  3.974422e-01 &  4.369960e-01 & -3.454190e-01\\\\\n",
       "\tnr &  8.204118e-01 & -3.007158e-07 &  2.750684e+00 & -8.362410e-01 & -5.187395e-01 & -4.523309e-01 &  6.864707e-02 & -6.586868e-01\\\\\n",
       "\two &  4.624396e-01 &  2.750684e+00 & -1.997207e-06 & -7.108105e-01 & -6.024261e-01 & -8.632506e-01 & -1.991026e-01 & -2.625515e-01\\\\\n",
       "\tgc & -5.125426e-01 & -8.362410e-01 & -7.108105e-01 &  8.574682e-06 &  4.152498e-01 & -9.715946e-02 &  1.861762e-01 &  5.500416e-01\\\\\n",
       "\ttr & -6.309405e-01 & -5.187395e-01 & -6.024261e-01 &  4.152498e-01 &  5.252583e-06 &  2.120137e-01 &  2.215741e-02 &  5.296243e-01\\\\\n",
       "\tsm &  3.974422e-01 & -4.523309e-01 & -8.632506e-01 & -9.715946e-02 &  2.120137e-01 &  9.851239e-06 &  1.312725e-01 &  2.287698e-01\\\\\n",
       "\tma &  4.369960e-01 &  6.864707e-02 & -1.991026e-01 &  1.861762e-01 &  2.215741e-02 &  1.312725e-01 & -6.972920e-06 & -2.885842e-01\\\\\n",
       "\tps & -3.454190e-01 & -6.586868e-01 & -2.625515e-01 &  5.500416e-01 &  5.296243e-01 &  2.287698e-01 & -2.885842e-01 &  4.996915e-06\\\\\n",
       "\\end{tabular}\n",
       "\n",
       "\\end{description}\n"
      ],
      "text/markdown": [
       "$type\n",
       ":   'raw'\n",
       "$cov\n",
       ":   \n",
       "A lavaan.matrix.symmetric: 8 x 8 of type dbl\n",
       "\n",
       "| <!--/--> | hm | nr | wo | gc | tr | sm | ma | ps |\n",
       "|---|---|---|---|---|---|---|---|---|\n",
       "| hm |  3.391968e-06 |  8.204118e-01 |  4.624396e-01 | -5.125426e-01 | -6.309405e-01 |  3.974422e-01 |  4.369960e-01 | -3.454190e-01 |\n",
       "| nr |  8.204118e-01 | -3.007158e-07 |  2.750684e+00 | -8.362410e-01 | -5.187395e-01 | -4.523309e-01 |  6.864707e-02 | -6.586868e-01 |\n",
       "| wo |  4.624396e-01 |  2.750684e+00 | -1.997207e-06 | -7.108105e-01 | -6.024261e-01 | -8.632506e-01 | -1.991026e-01 | -2.625515e-01 |\n",
       "| gc | -5.125426e-01 | -8.362410e-01 | -7.108105e-01 |  8.574682e-06 |  4.152498e-01 | -9.715946e-02 |  1.861762e-01 |  5.500416e-01 |\n",
       "| tr | -6.309405e-01 | -5.187395e-01 | -6.024261e-01 |  4.152498e-01 |  5.252583e-06 |  2.120137e-01 |  2.215741e-02 |  5.296243e-01 |\n",
       "| sm |  3.974422e-01 | -4.523309e-01 | -8.632506e-01 | -9.715946e-02 |  2.120137e-01 |  9.851239e-06 |  1.312725e-01 |  2.287698e-01 |\n",
       "| ma |  4.369960e-01 |  6.864707e-02 | -1.991026e-01 |  1.861762e-01 |  2.215741e-02 |  1.312725e-01 | -6.972920e-06 | -2.885842e-01 |\n",
       "| ps | -3.454190e-01 | -6.586868e-01 | -2.625515e-01 |  5.500416e-01 |  5.296243e-01 |  2.287698e-01 | -2.885842e-01 |  4.996915e-06 |\n",
       "\n",
       "\n",
       "\n",
       "\n"
      ],
      "text/plain": [
       "$type\n",
       "[1] \"raw\"\n",
       "\n",
       "$cov\n",
       "       hm     nr     wo     gc     tr     sm     ma     ps\n",
       "hm  0.000                                                 \n",
       "nr  0.820  0.000                                          \n",
       "wo  0.462  2.751  0.000                                   \n",
       "gc -0.513 -0.836 -0.711  0.000                            \n",
       "tr -0.631 -0.519 -0.602  0.415  0.000                     \n",
       "sm  0.397 -0.452 -0.863 -0.097  0.212  0.000              \n",
       "ma  0.437  0.069 -0.199  0.186  0.022  0.131  0.000       \n",
       "ps -0.345 -0.659 -0.263  0.550  0.530  0.229 -0.289  0.000\n"
      ]
     },
     "metadata": {},
     "output_type": "display_data"
    }
   ],
   "source": [
    "lavaan::residuals(kabc1, type = \"raw\") "
   ]
  },
  {
   "cell_type": "markdown",
   "id": "c272a3c2",
   "metadata": {},
   "source": [
    "Specificando `type = \"cor.bollen\"` o `type = \"cor\"` otteniamo la differenza tra la matrice di *correlazione* osservata e quella predetta dal modello."
   ]
  },
  {
   "cell_type": "code",
   "execution_count": 13,
   "id": "c60d563d",
   "metadata": {
    "vscode": {
     "languageId": "r"
    }
   },
   "outputs": [
    {
     "data": {
      "text/html": [
       "<dl>\n",
       "\t<dt>$type</dt>\n",
       "\t\t<dd>'cor.bollen'</dd>\n",
       "\t<dt>$cov</dt>\n",
       "\t\t<dd><table class=\"dataframe\">\n",
       "<caption>A lavaan.matrix.symmetric: 8 x 8 of type dbl</caption>\n",
       "<thead>\n",
       "\t<tr><th></th><th scope=col>hm</th><th scope=col>nr</th><th scope=col>wo</th><th scope=col>gc</th><th scope=col>tr</th><th scope=col>sm</th><th scope=col>ma</th><th scope=col>ps</th></tr>\n",
       "</thead>\n",
       "<tbody>\n",
       "\t<tr><th scope=row>hm</th><td> 1.110223e-16</td><td> 0.10104586</td><td> 0.04713624</td><td>-5.611329e-02</td><td>-6.907548e-02</td><td> 2.797178e-02</td><td> 4.613372e-02</td><td>-3.403496e-02</td></tr>\n",
       "\t<tr><th scope=row>nr</th><td> 1.010459e-01</td><td> 0.00000000</td><td> 0.39719932</td><td>-1.296982e-01</td><td>-8.045479e-02</td><td>-4.509968e-02</td><td> 1.026682e-02</td><td>-9.194410e-02</td></tr>\n",
       "\t<tr><th scope=row>wo</th><td> 4.713624e-02</td><td> 0.39719932</td><td> 0.00000000</td><td>-9.123670e-02</td><td>-7.732491e-02</td><td>-7.123064e-02</td><td>-2.464305e-02</td><td>-3.033004e-02</td></tr>\n",
       "\t<tr><th scope=row>gc</th><td>-5.611329e-02</td><td>-0.12969816</td><td>-0.09123670</td><td>-2.220446e-16</td><td> 5.724749e-02</td><td>-8.611177e-03</td><td> 2.475019e-02</td><td> 6.824730e-02</td></tr>\n",
       "\t<tr><th scope=row>tr</th><td>-6.907548e-02</td><td>-0.08045479</td><td>-0.07732491</td><td> 5.724749e-02</td><td>-4.440892e-16</td><td> 1.878976e-02</td><td> 2.945638e-03</td><td> 6.571396e-02</td></tr>\n",
       "\t<tr><th scope=row>sm</th><td> 2.797178e-02</td><td>-0.04509968</td><td>-0.07123064</td><td>-8.611177e-03</td><td> 1.878976e-02</td><td> 1.110223e-16</td><td> 1.121879e-02</td><td> 1.824730e-02</td></tr>\n",
       "\t<tr><th scope=row>ma</th><td> 4.613372e-02</td><td> 0.01026682</td><td>-0.02464305</td><td> 2.475019e-02</td><td> 2.945638e-03</td><td> 1.121879e-02</td><td>-2.220446e-16</td><td>-3.452782e-02</td></tr>\n",
       "\t<tr><th scope=row>ps</th><td>-3.403496e-02</td><td>-0.09194410</td><td>-0.03033004</td><td> 6.824730e-02</td><td> 6.571396e-02</td><td> 1.824730e-02</td><td>-3.452782e-02</td><td> 1.110223e-16</td></tr>\n",
       "</tbody>\n",
       "</table>\n",
       "</dd>\n",
       "</dl>\n"
      ],
      "text/latex": [
       "\\begin{description}\n",
       "\\item[\\$type] 'cor.bollen'\n",
       "\\item[\\$cov] A lavaan.matrix.symmetric: 8 x 8 of type dbl\n",
       "\\begin{tabular}{r|llllllll}\n",
       "  & hm & nr & wo & gc & tr & sm & ma & ps\\\\\n",
       "\\hline\n",
       "\thm &  1.110223e-16 &  0.10104586 &  0.04713624 & -5.611329e-02 & -6.907548e-02 &  2.797178e-02 &  4.613372e-02 & -3.403496e-02\\\\\n",
       "\tnr &  1.010459e-01 &  0.00000000 &  0.39719932 & -1.296982e-01 & -8.045479e-02 & -4.509968e-02 &  1.026682e-02 & -9.194410e-02\\\\\n",
       "\two &  4.713624e-02 &  0.39719932 &  0.00000000 & -9.123670e-02 & -7.732491e-02 & -7.123064e-02 & -2.464305e-02 & -3.033004e-02\\\\\n",
       "\tgc & -5.611329e-02 & -0.12969816 & -0.09123670 & -2.220446e-16 &  5.724749e-02 & -8.611177e-03 &  2.475019e-02 &  6.824730e-02\\\\\n",
       "\ttr & -6.907548e-02 & -0.08045479 & -0.07732491 &  5.724749e-02 & -4.440892e-16 &  1.878976e-02 &  2.945638e-03 &  6.571396e-02\\\\\n",
       "\tsm &  2.797178e-02 & -0.04509968 & -0.07123064 & -8.611177e-03 &  1.878976e-02 &  1.110223e-16 &  1.121879e-02 &  1.824730e-02\\\\\n",
       "\tma &  4.613372e-02 &  0.01026682 & -0.02464305 &  2.475019e-02 &  2.945638e-03 &  1.121879e-02 & -2.220446e-16 & -3.452782e-02\\\\\n",
       "\tps & -3.403496e-02 & -0.09194410 & -0.03033004 &  6.824730e-02 &  6.571396e-02 &  1.824730e-02 & -3.452782e-02 &  1.110223e-16\\\\\n",
       "\\end{tabular}\n",
       "\n",
       "\\end{description}\n"
      ],
      "text/markdown": [
       "$type\n",
       ":   'cor.bollen'\n",
       "$cov\n",
       ":   \n",
       "A lavaan.matrix.symmetric: 8 x 8 of type dbl\n",
       "\n",
       "| <!--/--> | hm | nr | wo | gc | tr | sm | ma | ps |\n",
       "|---|---|---|---|---|---|---|---|---|\n",
       "| hm |  1.110223e-16 |  0.10104586 |  0.04713624 | -5.611329e-02 | -6.907548e-02 |  2.797178e-02 |  4.613372e-02 | -3.403496e-02 |\n",
       "| nr |  1.010459e-01 |  0.00000000 |  0.39719932 | -1.296982e-01 | -8.045479e-02 | -4.509968e-02 |  1.026682e-02 | -9.194410e-02 |\n",
       "| wo |  4.713624e-02 |  0.39719932 |  0.00000000 | -9.123670e-02 | -7.732491e-02 | -7.123064e-02 | -2.464305e-02 | -3.033004e-02 |\n",
       "| gc | -5.611329e-02 | -0.12969816 | -0.09123670 | -2.220446e-16 |  5.724749e-02 | -8.611177e-03 |  2.475019e-02 |  6.824730e-02 |\n",
       "| tr | -6.907548e-02 | -0.08045479 | -0.07732491 |  5.724749e-02 | -4.440892e-16 |  1.878976e-02 |  2.945638e-03 |  6.571396e-02 |\n",
       "| sm |  2.797178e-02 | -0.04509968 | -0.07123064 | -8.611177e-03 |  1.878976e-02 |  1.110223e-16 |  1.121879e-02 |  1.824730e-02 |\n",
       "| ma |  4.613372e-02 |  0.01026682 | -0.02464305 |  2.475019e-02 |  2.945638e-03 |  1.121879e-02 | -2.220446e-16 | -3.452782e-02 |\n",
       "| ps | -3.403496e-02 | -0.09194410 | -0.03033004 |  6.824730e-02 |  6.571396e-02 |  1.824730e-02 | -3.452782e-02 |  1.110223e-16 |\n",
       "\n",
       "\n",
       "\n",
       "\n"
      ],
      "text/plain": [
       "$type\n",
       "[1] \"cor.bollen\"\n",
       "\n",
       "$cov\n",
       "       hm     nr     wo     gc     tr     sm     ma     ps\n",
       "hm  0.000                                                 \n",
       "nr  0.101  0.000                                          \n",
       "wo  0.047  0.397  0.000                                   \n",
       "gc -0.056 -0.130 -0.091  0.000                            \n",
       "tr -0.069 -0.080 -0.077  0.057  0.000                     \n",
       "sm  0.028 -0.045 -0.071 -0.009  0.019  0.000              \n",
       "ma  0.046  0.010 -0.025  0.025  0.003  0.011  0.000       \n",
       "ps -0.034 -0.092 -0.030  0.068  0.066  0.018 -0.035  0.000\n"
      ]
     },
     "metadata": {},
     "output_type": "display_data"
    }
   ],
   "source": [
    "lavaan::residuals(kabc1, type = \"cor.bollen\") "
   ]
  },
  {
   "cell_type": "markdown",
   "id": "f0ddf36c",
   "metadata": {},
   "source": [
    "In alternativa, possiamo ottenere i residui standardizzati alla maniera di Mplus (`standardized.mplus`), che vengono calcolati utilizzando la seguente formula:\n",
    "\n",
    "$$\n",
    "    \\text{Residuo Standardizzato} = \\frac{\\text{Cov. Osservata} - \\text{Cov. Stimata}}{\\sqrt{\\text{Var. dell'Errore per X} \\times \\text{Var. dell'Errore per Y}}}, \n",
    "$$\n",
    "\n",
    "dove:\n",
    "- La covarianza osservata è il valore della covarianza tra due variabili nel set di dati.\n",
    "- La covarianza stimata è la covarianza tra le stesse due variabili, come previsto dal modello SEM.\n",
    "- La varianza dell'errore per la variabile X e Y sono le varianze degli errori per le due variabili in questione.\n",
    "\n",
    "I residui standardizzati misurano quanto la relazione osservata tra due variabili si discosta da quella prevista dal modello, in unità standardizzate. Un valore vicino a zero indica che il modello si adatta bene ai dati per quella specifica relazione. Valori più grandi in valore assoluto suggeriscono un cattivo adattamento in quella specifica parte del modello."
   ]
  },
  {
   "cell_type": "code",
   "execution_count": 14,
   "id": "90620220",
   "metadata": {
    "vscode": {
     "languageId": "r"
    }
   },
   "outputs": [
    {
     "data": {
      "text/html": [
       "<dl>\n",
       "\t<dt>$type</dt>\n",
       "\t\t<dd>'standardized.mplus'</dd>\n",
       "\t<dt>$cov</dt>\n",
       "\t\t<dd><table class=\"dataframe\">\n",
       "<caption>A lavaan.matrix.symmetric: 8 x 8 of type dbl</caption>\n",
       "<thead>\n",
       "\t<tr><th></th><th scope=col>hm</th><th scope=col>nr</th><th scope=col>wo</th><th scope=col>gc</th><th scope=col>tr</th><th scope=col>sm</th><th scope=col>ma</th><th scope=col>ps</th></tr>\n",
       "</thead>\n",
       "<tbody>\n",
       "\t<tr><th scope=row>hm</th><td> 3.391968e-06</td><td> 2.062139e+00</td><td> 1.025807e+00</td><td>-1.230613e+00</td><td>-2.200057e+00</td><td> 7.231232e-01</td><td> 1.086382e+00</td><td>-1.240744e+00</td></tr>\n",
       "\t<tr><th scope=row>nr</th><td> 2.062139e+00</td><td>-3.007158e-07</td><td> 6.217924e+00</td><td>-2.726883e+00</td><td>-2.364180e+00</td><td>-1.188246e+00</td><td> 2.365039e-01</td><td>-3.421534e+00</td></tr>\n",
       "\t<tr><th scope=row>wo</th><td> 1.025807e+00</td><td> 6.217924e+00</td><td>-1.997207e-06</td><td>-1.952162e+00</td><td>-2.354605e+00</td><td>-1.995031e+00</td><td>-6.007547e-01</td><td>-1.037442e+00</td></tr>\n",
       "\t<tr><th scope=row>gc</th><td>-1.230613e+00</td><td>-2.726883e+00</td><td>-1.952162e+00</td><td> 8.574682e-06</td><td> 1.378539e+00</td><td>-2.099879e-01</td><td> 5.442300e-01</td><td> 1.833012e+00</td></tr>\n",
       "\t<tr><th scope=row>tr</th><td>-2.200057e+00</td><td>-2.364180e+00</td><td>-2.354605e+00</td><td> 1.378539e+00</td><td> 5.252583e-06</td><td> 5.955481e-01</td><td> 8.866991e-02</td><td> 2.178031e+00</td></tr>\n",
       "\t<tr><th scope=row>sm</th><td> 7.231232e-01</td><td>-1.188246e+00</td><td>-1.995031e+00</td><td>-2.099879e-01</td><td> 5.955481e-01</td><td> 9.851239e-06</td><td> 3.134075e-01</td><td> 6.749792e-01</td></tr>\n",
       "\t<tr><th scope=row>ma</th><td> 1.086382e+00</td><td> 2.365039e-01</td><td>-6.007547e-01</td><td> 5.442300e-01</td><td> 8.866991e-02</td><td> 3.134075e-01</td><td>-6.972920e-06</td><td>-1.375249e+00</td></tr>\n",
       "\t<tr><th scope=row>ps</th><td>-1.240744e+00</td><td>-3.421534e+00</td><td>-1.037442e+00</td><td> 1.833012e+00</td><td> 2.178031e+00</td><td> 6.749792e-01</td><td>-1.375249e+00</td><td> 4.996915e-06</td></tr>\n",
       "</tbody>\n",
       "</table>\n",
       "</dd>\n",
       "</dl>\n"
      ],
      "text/latex": [
       "\\begin{description}\n",
       "\\item[\\$type] 'standardized.mplus'\n",
       "\\item[\\$cov] A lavaan.matrix.symmetric: 8 x 8 of type dbl\n",
       "\\begin{tabular}{r|llllllll}\n",
       "  & hm & nr & wo & gc & tr & sm & ma & ps\\\\\n",
       "\\hline\n",
       "\thm &  3.391968e-06 &  2.062139e+00 &  1.025807e+00 & -1.230613e+00 & -2.200057e+00 &  7.231232e-01 &  1.086382e+00 & -1.240744e+00\\\\\n",
       "\tnr &  2.062139e+00 & -3.007158e-07 &  6.217924e+00 & -2.726883e+00 & -2.364180e+00 & -1.188246e+00 &  2.365039e-01 & -3.421534e+00\\\\\n",
       "\two &  1.025807e+00 &  6.217924e+00 & -1.997207e-06 & -1.952162e+00 & -2.354605e+00 & -1.995031e+00 & -6.007547e-01 & -1.037442e+00\\\\\n",
       "\tgc & -1.230613e+00 & -2.726883e+00 & -1.952162e+00 &  8.574682e-06 &  1.378539e+00 & -2.099879e-01 &  5.442300e-01 &  1.833012e+00\\\\\n",
       "\ttr & -2.200057e+00 & -2.364180e+00 & -2.354605e+00 &  1.378539e+00 &  5.252583e-06 &  5.955481e-01 &  8.866991e-02 &  2.178031e+00\\\\\n",
       "\tsm &  7.231232e-01 & -1.188246e+00 & -1.995031e+00 & -2.099879e-01 &  5.955481e-01 &  9.851239e-06 &  3.134075e-01 &  6.749792e-01\\\\\n",
       "\tma &  1.086382e+00 &  2.365039e-01 & -6.007547e-01 &  5.442300e-01 &  8.866991e-02 &  3.134075e-01 & -6.972920e-06 & -1.375249e+00\\\\\n",
       "\tps & -1.240744e+00 & -3.421534e+00 & -1.037442e+00 &  1.833012e+00 &  2.178031e+00 &  6.749792e-01 & -1.375249e+00 &  4.996915e-06\\\\\n",
       "\\end{tabular}\n",
       "\n",
       "\\end{description}\n"
      ],
      "text/markdown": [
       "$type\n",
       ":   'standardized.mplus'\n",
       "$cov\n",
       ":   \n",
       "A lavaan.matrix.symmetric: 8 x 8 of type dbl\n",
       "\n",
       "| <!--/--> | hm | nr | wo | gc | tr | sm | ma | ps |\n",
       "|---|---|---|---|---|---|---|---|---|\n",
       "| hm |  3.391968e-06 |  2.062139e+00 |  1.025807e+00 | -1.230613e+00 | -2.200057e+00 |  7.231232e-01 |  1.086382e+00 | -1.240744e+00 |\n",
       "| nr |  2.062139e+00 | -3.007158e-07 |  6.217924e+00 | -2.726883e+00 | -2.364180e+00 | -1.188246e+00 |  2.365039e-01 | -3.421534e+00 |\n",
       "| wo |  1.025807e+00 |  6.217924e+00 | -1.997207e-06 | -1.952162e+00 | -2.354605e+00 | -1.995031e+00 | -6.007547e-01 | -1.037442e+00 |\n",
       "| gc | -1.230613e+00 | -2.726883e+00 | -1.952162e+00 |  8.574682e-06 |  1.378539e+00 | -2.099879e-01 |  5.442300e-01 |  1.833012e+00 |\n",
       "| tr | -2.200057e+00 | -2.364180e+00 | -2.354605e+00 |  1.378539e+00 |  5.252583e-06 |  5.955481e-01 |  8.866991e-02 |  2.178031e+00 |\n",
       "| sm |  7.231232e-01 | -1.188246e+00 | -1.995031e+00 | -2.099879e-01 |  5.955481e-01 |  9.851239e-06 |  3.134075e-01 |  6.749792e-01 |\n",
       "| ma |  1.086382e+00 |  2.365039e-01 | -6.007547e-01 |  5.442300e-01 |  8.866991e-02 |  3.134075e-01 | -6.972920e-06 | -1.375249e+00 |\n",
       "| ps | -1.240744e+00 | -3.421534e+00 | -1.037442e+00 |  1.833012e+00 |  2.178031e+00 |  6.749792e-01 | -1.375249e+00 |  4.996915e-06 |\n",
       "\n",
       "\n",
       "\n",
       "\n"
      ],
      "text/plain": [
       "$type\n",
       "[1] \"standardized.mplus\"\n",
       "\n",
       "$cov\n",
       "       hm     nr     wo     gc     tr     sm     ma     ps\n",
       "hm  0.000                                                 \n",
       "nr  2.062  0.000                                          \n",
       "wo  1.026  6.218  0.000                                   \n",
       "gc -1.231 -2.727 -1.952  0.000                            \n",
       "tr -2.200 -2.364 -2.355  1.379  0.000                     \n",
       "sm  0.723 -1.188 -1.995 -0.210  0.596  0.000              \n",
       "ma  1.086  0.237 -0.601  0.544  0.089  0.313  0.000       \n",
       "ps -1.241 -3.422 -1.037  1.833  2.178  0.675 -1.375  0.000\n"
      ]
     },
     "metadata": {},
     "output_type": "display_data"
    }
   ],
   "source": [
    "lavaan::residuals(kabc1, type = \"standardized.mplus\") "
   ]
  },
  {
   "cell_type": "markdown",
   "id": "fab93e55",
   "metadata": {},
   "source": [
    "Il modello a fattore singolo mostra un rapporto elevato chi-quadro/df. Inoltre, i residui per questa analisi indicano che l'adattamento locale è scadente. Pertanto, il modello a fattore singolo per la KABC-I è rigettato."
   ]
  },
  {
   "cell_type": "markdown",
   "id": "aab9ee95",
   "metadata": {},
   "source": [
    "#### Modello a Due Fattori\n",
    "\n",
    "In una seconda analisi, adattiamo ai dati il modello a due fattori rappresentato nella {numref}`kline-14-3-fig`. "
   ]
  },
  {
   "cell_type": "code",
   "execution_count": 15,
   "id": "2a4f52a2",
   "metadata": {
    "vscode": {
     "languageId": "r"
    }
   },
   "outputs": [],
   "source": [
    "kabc2_model <- \"\n",
    "    Sequent =~ hm + nr + wo\n",
    "    Simultan =~ gc + tr + sm + ma + ps \n",
    "\""
   ]
  },
  {
   "cell_type": "code",
   "execution_count": 16,
   "id": "f24c300a",
   "metadata": {
    "vscode": {
     "languageId": "r"
    }
   },
   "outputs": [],
   "source": [
    "kabc2 <- lavaan::sem(kabc2_model, sample.cov = kabc.cov, sample.nobs = 200)"
   ]
  },
  {
   "cell_type": "code",
   "execution_count": 17,
   "id": "19f7af1d",
   "metadata": {
    "vscode": {
     "languageId": "r"
    }
   },
   "outputs": [
    {
     "data": {
      "image/png": "[encoded data removed]",
      "text/plain": [
       "plot without title"
      ]
     },
     "metadata": {
      "image/png": {
       "height": 296.6563,
       "width": 480
      }
     },
     "output_type": "display_data"
    }
   ],
   "source": [
    "semPlot::semPaths(kabc2,\n",
    "    what = \"col\", whatLabels = \"par\", style = \"mx\", \n",
    "    layout = \"tree2\", nCharNodes = 7,\n",
    "    shapeMan = \"rectangle\", sizeMan = 8, sizeMan2 = 5\n",
    ")"
   ]
  },
  {
   "cell_type": "code",
   "execution_count": 18,
   "id": "0e12a56d",
   "metadata": {
    "vscode": {
     "languageId": "r"
    }
   },
   "outputs": [
    {
     "data": {
      "text/html": [
       "<table class=\"dataframe\">\n",
       "<caption>A lavaan.data.frame: 19 x 9</caption>\n",
       "<thead>\n",
       "\t<tr><th scope=col>lhs</th><th scope=col>op</th><th scope=col>rhs</th><th scope=col>est</th><th scope=col>se</th><th scope=col>z</th><th scope=col>pvalue</th><th scope=col>ci.lower</th><th scope=col>ci.upper</th></tr>\n",
       "\t<tr><th scope=col>&lt;chr&gt;</th><th scope=col>&lt;chr&gt;</th><th scope=col>&lt;chr&gt;</th><th scope=col>&lt;dbl&gt;</th><th scope=col>&lt;dbl&gt;</th><th scope=col>&lt;dbl&gt;</th><th scope=col>&lt;dbl&gt;</th><th scope=col>&lt;dbl&gt;</th><th scope=col>&lt;dbl&gt;</th></tr>\n",
       "</thead>\n",
       "<tbody>\n",
       "\t<tr><td>Sequent </td><td>=~</td><td>hm      </td><td>1.000000</td><td>0.0000000</td><td>      NA</td><td>          NA</td><td>1.0000000</td><td> 1.000000</td></tr>\n",
       "\t<tr><td>Sequent </td><td>=~</td><td>nr      </td><td>1.146800</td><td>0.1808640</td><td>6.340674</td><td>2.287626e-10</td><td>0.7923127</td><td> 1.501287</td></tr>\n",
       "\t<tr><td>Sequent </td><td>=~</td><td>wo      </td><td>1.387710</td><td>0.2188783</td><td>6.340100</td><td>2.296165e-10</td><td>0.9587167</td><td> 1.816704</td></tr>\n",
       "\t<tr><td>Simultan</td><td>=~</td><td>gc      </td><td>1.000000</td><td>0.0000000</td><td>      NA</td><td>          NA</td><td>1.0000000</td><td> 1.000000</td></tr>\n",
       "\t<tr><td>Simultan</td><td>=~</td><td>tr      </td><td>1.444543</td><td>0.2274092</td><td>6.352174</td><td>2.122924e-10</td><td>0.9988292</td><td> 1.890257</td></tr>\n",
       "\t<tr><td>Simultan</td><td>=~</td><td>sm      </td><td>2.029267</td><td>0.3347784</td><td>6.061522</td><td>1.348394e-09</td><td>1.3731130</td><td> 2.685420</td></tr>\n",
       "\t<tr><td>Simultan</td><td>=~</td><td>ma      </td><td>1.212293</td><td>0.2120626</td><td>5.716676</td><td>1.086279e-08</td><td>0.7966581</td><td> 1.627928</td></tr>\n",
       "\t<tr><td>Simultan</td><td>=~</td><td>ps      </td><td>1.727179</td><td>0.2648674</td><td>6.520921</td><td>6.987722e-11</td><td>1.2080488</td><td> 2.246310</td></tr>\n",
       "\t<tr><td>hm      </td><td>~~</td><td>hm      </td><td>8.663885</td><td>0.9379533</td><td>9.237011</td><td>0.000000e+00</td><td>6.8255305</td><td>10.502240</td></tr>\n",
       "\t<tr><td>nr      </td><td>~~</td><td>nr      </td><td>1.998406</td><td>0.4136628</td><td>4.831003</td><td>1.358468e-06</td><td>1.1876420</td><td> 2.809170</td></tr>\n",
       "\t<tr><td>wo      </td><td>~~</td><td>wo      </td><td>2.902105</td><td>0.6044697</td><td>4.801076</td><td>1.578156e-06</td><td>1.7173660</td><td> 4.086844</td></tr>\n",
       "\t<tr><td>gc      </td><td>~~</td><td>gc      </td><td>5.419079</td><td>0.5851519</td><td>9.260979</td><td>0.000000e+00</td><td>4.2722025</td><td> 6.565956</td></tr>\n",
       "\t<tr><td>tr      </td><td>~~</td><td>tr      </td><td>3.425503</td><td>0.4580211</td><td>7.478920</td><td>7.482903e-14</td><td>2.5277979</td><td> 4.323208</td></tr>\n",
       "\t<tr><td>sm      </td><td>~~</td><td>sm      </td><td>9.997500</td><td>1.2016198</td><td>8.320019</td><td>0.000000e+00</td><td>7.6423681</td><td>12.352631</td></tr>\n",
       "\t<tr><td>ma      </td><td>~~</td><td>ma      </td><td>5.104718</td><td>0.5776174</td><td>8.837541</td><td>0.000000e+00</td><td>3.9726083</td><td> 6.236827</td></tr>\n",
       "\t<tr><td>ps      </td><td>~~</td><td>ps      </td><td>3.482437</td><td>0.5372437</td><td>6.482043</td><td>9.048895e-11</td><td>2.4294583</td><td> 4.535415</td></tr>\n",
       "\t<tr><td>Sequent </td><td>~~</td><td>Sequent </td><td>2.838307</td><td>0.8375575</td><td>3.388791</td><td>7.020154e-04</td><td>1.1967246</td><td> 4.479889</td></tr>\n",
       "\t<tr><td>Simultan</td><td>~~</td><td>Simultan</td><td>1.834493</td><td>0.5302994</td><td>3.459354</td><td>5.414734e-04</td><td>0.7951254</td><td> 2.873861</td></tr>\n",
       "\t<tr><td>Sequent </td><td>~~</td><td>Simultan</td><td>1.270820</td><td>0.3243863</td><td>3.917614</td><td>8.942973e-05</td><td>0.6350349</td><td> 1.906606</td></tr>\n",
       "</tbody>\n",
       "</table>\n"
      ],
      "text/latex": [
       "A lavaan.data.frame: 19 x 9\n",
       "\\begin{tabular}{lllllllll}\n",
       " lhs & op & rhs & est & se & z & pvalue & ci.lower & ci.upper\\\\\n",
       " <chr> & <chr> & <chr> & <dbl> & <dbl> & <dbl> & <dbl> & <dbl> & <dbl>\\\\\n",
       "\\hline\n",
       "\t Sequent  & =\\textasciitilde{} & hm       & 1.000000 & 0.0000000 &       NA &           NA & 1.0000000 &  1.000000\\\\\n",
       "\t Sequent  & =\\textasciitilde{} & nr       & 1.146800 & 0.1808640 & 6.340674 & 2.287626e-10 & 0.7923127 &  1.501287\\\\\n",
       "\t Sequent  & =\\textasciitilde{} & wo       & 1.387710 & 0.2188783 & 6.340100 & 2.296165e-10 & 0.9587167 &  1.816704\\\\\n",
       "\t Simultan & =\\textasciitilde{} & gc       & 1.000000 & 0.0000000 &       NA &           NA & 1.0000000 &  1.000000\\\\\n",
       "\t Simultan & =\\textasciitilde{} & tr       & 1.444543 & 0.2274092 & 6.352174 & 2.122924e-10 & 0.9988292 &  1.890257\\\\\n",
       "\t Simultan & =\\textasciitilde{} & sm       & 2.029267 & 0.3347784 & 6.061522 & 1.348394e-09 & 1.3731130 &  2.685420\\\\\n",
       "\t Simultan & =\\textasciitilde{} & ma       & 1.212293 & 0.2120626 & 5.716676 & 1.086279e-08 & 0.7966581 &  1.627928\\\\\n",
       "\t Simultan & =\\textasciitilde{} & ps       & 1.727179 & 0.2648674 & 6.520921 & 6.987722e-11 & 1.2080488 &  2.246310\\\\\n",
       "\t hm       & \\textasciitilde{}\\textasciitilde{} & hm       & 8.663885 & 0.9379533 & 9.237011 & 0.000000e+00 & 6.8255305 & 10.502240\\\\\n",
       "\t nr       & \\textasciitilde{}\\textasciitilde{} & nr       & 1.998406 & 0.4136628 & 4.831003 & 1.358468e-06 & 1.1876420 &  2.809170\\\\\n",
       "\t wo       & \\textasciitilde{}\\textasciitilde{} & wo       & 2.902105 & 0.6044697 & 4.801076 & 1.578156e-06 & 1.7173660 &  4.086844\\\\\n",
       "\t gc       & \\textasciitilde{}\\textasciitilde{} & gc       & 5.419079 & 0.5851519 & 9.260979 & 0.000000e+00 & 4.2722025 &  6.565956\\\\\n",
       "\t tr       & \\textasciitilde{}\\textasciitilde{} & tr       & 3.425503 & 0.4580211 & 7.478920 & 7.482903e-14 & 2.5277979 &  4.323208\\\\\n",
       "\t sm       & \\textasciitilde{}\\textasciitilde{} & sm       & 9.997500 & 1.2016198 & 8.320019 & 0.000000e+00 & 7.6423681 & 12.352631\\\\\n",
       "\t ma       & \\textasciitilde{}\\textasciitilde{} & ma       & 5.104718 & 0.5776174 & 8.837541 & 0.000000e+00 & 3.9726083 &  6.236827\\\\\n",
       "\t ps       & \\textasciitilde{}\\textasciitilde{} & ps       & 3.482437 & 0.5372437 & 6.482043 & 9.048895e-11 & 2.4294583 &  4.535415\\\\\n",
       "\t Sequent  & \\textasciitilde{}\\textasciitilde{} & Sequent  & 2.838307 & 0.8375575 & 3.388791 & 7.020154e-04 & 1.1967246 &  4.479889\\\\\n",
       "\t Simultan & \\textasciitilde{}\\textasciitilde{} & Simultan & 1.834493 & 0.5302994 & 3.459354 & 5.414734e-04 & 0.7951254 &  2.873861\\\\\n",
       "\t Sequent  & \\textasciitilde{}\\textasciitilde{} & Simultan & 1.270820 & 0.3243863 & 3.917614 & 8.942973e-05 & 0.6350349 &  1.906606\\\\\n",
       "\\end{tabular}\n"
      ],
      "text/markdown": [
       "\n",
       "A lavaan.data.frame: 19 x 9\n",
       "\n",
       "| lhs &lt;chr&gt; | op &lt;chr&gt; | rhs &lt;chr&gt; | est &lt;dbl&gt; | se &lt;dbl&gt; | z &lt;dbl&gt; | pvalue &lt;dbl&gt; | ci.lower &lt;dbl&gt; | ci.upper &lt;dbl&gt; |\n",
       "|---|---|---|---|---|---|---|---|---|\n",
       "| Sequent  | =~ | hm       | 1.000000 | 0.0000000 |       NA |           NA | 1.0000000 |  1.000000 |\n",
       "| Sequent  | =~ | nr       | 1.146800 | 0.1808640 | 6.340674 | 2.287626e-10 | 0.7923127 |  1.501287 |\n",
       "| Sequent  | =~ | wo       | 1.387710 | 0.2188783 | 6.340100 | 2.296165e-10 | 0.9587167 |  1.816704 |\n",
       "| Simultan | =~ | gc       | 1.000000 | 0.0000000 |       NA |           NA | 1.0000000 |  1.000000 |\n",
       "| Simultan | =~ | tr       | 1.444543 | 0.2274092 | 6.352174 | 2.122924e-10 | 0.9988292 |  1.890257 |\n",
       "| Simultan | =~ | sm       | 2.029267 | 0.3347784 | 6.061522 | 1.348394e-09 | 1.3731130 |  2.685420 |\n",
       "| Simultan | =~ | ma       | 1.212293 | 0.2120626 | 5.716676 | 1.086279e-08 | 0.7966581 |  1.627928 |\n",
       "| Simultan | =~ | ps       | 1.727179 | 0.2648674 | 6.520921 | 6.987722e-11 | 1.2080488 |  2.246310 |\n",
       "| hm       | ~~ | hm       | 8.663885 | 0.9379533 | 9.237011 | 0.000000e+00 | 6.8255305 | 10.502240 |\n",
       "| nr       | ~~ | nr       | 1.998406 | 0.4136628 | 4.831003 | 1.358468e-06 | 1.1876420 |  2.809170 |\n",
       "| wo       | ~~ | wo       | 2.902105 | 0.6044697 | 4.801076 | 1.578156e-06 | 1.7173660 |  4.086844 |\n",
       "| gc       | ~~ | gc       | 5.419079 | 0.5851519 | 9.260979 | 0.000000e+00 | 4.2722025 |  6.565956 |\n",
       "| tr       | ~~ | tr       | 3.425503 | 0.4580211 | 7.478920 | 7.482903e-14 | 2.5277979 |  4.323208 |\n",
       "| sm       | ~~ | sm       | 9.997500 | 1.2016198 | 8.320019 | 0.000000e+00 | 7.6423681 | 12.352631 |\n",
       "| ma       | ~~ | ma       | 5.104718 | 0.5776174 | 8.837541 | 0.000000e+00 | 3.9726083 |  6.236827 |\n",
       "| ps       | ~~ | ps       | 3.482437 | 0.5372437 | 6.482043 | 9.048895e-11 | 2.4294583 |  4.535415 |\n",
       "| Sequent  | ~~ | Sequent  | 2.838307 | 0.8375575 | 3.388791 | 7.020154e-04 | 1.1967246 |  4.479889 |\n",
       "| Simultan | ~~ | Simultan | 1.834493 | 0.5302994 | 3.459354 | 5.414734e-04 | 0.7951254 |  2.873861 |\n",
       "| Sequent  | ~~ | Simultan | 1.270820 | 0.3243863 | 3.917614 | 8.942973e-05 | 0.6350349 |  1.906606 |\n",
       "\n"
      ],
      "text/plain": [
       "   lhs      op rhs      est      se        z        pvalue      \n",
       "1  Sequent  =~ hm       1.000000 0.0000000       NA           NA\n",
       "2  Sequent  =~ nr       1.146800 0.1808640 6.340674 2.287626e-10\n",
       "3  Sequent  =~ wo       1.387710 0.2188783 6.340100 2.296165e-10\n",
       "4  Simultan =~ gc       1.000000 0.0000000       NA           NA\n",
       "5  Simultan =~ tr       1.444543 0.2274092 6.352174 2.122924e-10\n",
       "6  Simultan =~ sm       2.029267 0.3347784 6.061522 1.348394e-09\n",
       "7  Simultan =~ ma       1.212293 0.2120626 5.716676 1.086279e-08\n",
       "8  Simultan =~ ps       1.727179 0.2648674 6.520921 6.987722e-11\n",
       "9  hm       ~~ hm       8.663885 0.9379533 9.237011 0.000000e+00\n",
       "10 nr       ~~ nr       1.998406 0.4136628 4.831003 1.358468e-06\n",
       "11 wo       ~~ wo       2.902105 0.6044697 4.801076 1.578156e-06\n",
       "12 gc       ~~ gc       5.419079 0.5851519 9.260979 0.000000e+00\n",
       "13 tr       ~~ tr       3.425503 0.4580211 7.478920 7.482903e-14\n",
       "14 sm       ~~ sm       9.997500 1.2016198 8.320019 0.000000e+00\n",
       "15 ma       ~~ ma       5.104718 0.5776174 8.837541 0.000000e+00\n",
       "16 ps       ~~ ps       3.482437 0.5372437 6.482043 9.048895e-11\n",
       "17 Sequent  ~~ Sequent  2.838307 0.8375575 3.388791 7.020154e-04\n",
       "18 Simultan ~~ Simultan 1.834493 0.5302994 3.459354 5.414734e-04\n",
       "19 Sequent  ~~ Simultan 1.270820 0.3243863 3.917614 8.942973e-05\n",
       "   ci.lower  ci.upper \n",
       "1  1.0000000  1.000000\n",
       "2  0.7923127  1.501287\n",
       "3  0.9587167  1.816704\n",
       "4  1.0000000  1.000000\n",
       "5  0.9988292  1.890257\n",
       "6  1.3731130  2.685420\n",
       "7  0.7966581  1.627928\n",
       "8  1.2080488  2.246310\n",
       "9  6.8255305 10.502240\n",
       "10 1.1876420  2.809170\n",
       "11 1.7173660  4.086844\n",
       "12 4.2722025  6.565956\n",
       "13 2.5277979  4.323208\n",
       "14 7.6423681 12.352631\n",
       "15 3.9726083  6.236827\n",
       "16 2.4294583  4.535415\n",
       "17 1.1967246  4.479889\n",
       "18 0.7951254  2.873861\n",
       "19 0.6350349  1.906606"
      ]
     },
     "metadata": {},
     "output_type": "display_data"
    }
   ],
   "source": [
    "lavaan::parameterEstimates(kabc2)"
   ]
  },
  {
   "cell_type": "code",
   "execution_count": 19,
   "id": "72f71467",
   "metadata": {
    "vscode": {
     "languageId": "r"
    }
   },
   "outputs": [
    {
     "data": {
      "text/html": [
       "<table class=\"dataframe\">\n",
       "<caption>A lavaan.data.frame: 19 x 9</caption>\n",
       "<thead>\n",
       "\t<tr><th scope=col>lhs</th><th scope=col>op</th><th scope=col>rhs</th><th scope=col>est.std</th><th scope=col>se</th><th scope=col>z</th><th scope=col>pvalue</th><th scope=col>ci.lower</th><th scope=col>ci.upper</th></tr>\n",
       "\t<tr><th scope=col>&lt;chr&gt;</th><th scope=col>&lt;chr&gt;</th><th scope=col>&lt;chr&gt;</th><th scope=col>&lt;dbl&gt;</th><th scope=col>&lt;dbl&gt;</th><th scope=col>&lt;dbl&gt;</th><th scope=col>&lt;dbl&gt;</th><th scope=col>&lt;dbl&gt;</th><th scope=col>&lt;dbl&gt;</th></tr>\n",
       "</thead>\n",
       "<tbody>\n",
       "\t<tr><td>Sequent </td><td>=~</td><td>hm      </td><td>0.4967517</td><td>0.06185190</td><td> 8.031309</td><td>8.881784e-16</td><td>0.3755242</td><td>0.6179792</td></tr>\n",
       "\t<tr><td>Sequent </td><td>=~</td><td>nr      </td><td>0.8070386</td><td>0.04626958</td><td>17.442098</td><td>0.000000e+00</td><td>0.7163519</td><td>0.8977253</td></tr>\n",
       "\t<tr><td>Sequent </td><td>=~</td><td>wo      </td><td>0.8082004</td><td>0.04624070</td><td>17.478118</td><td>0.000000e+00</td><td>0.7175703</td><td>0.8988305</td></tr>\n",
       "\t<tr><td>Simultan</td><td>=~</td><td>gc      </td><td>0.5029005</td><td>0.06088027</td><td> 8.260485</td><td>2.220446e-16</td><td>0.3835774</td><td>0.6222236</td></tr>\n",
       "\t<tr><td>Simultan</td><td>=~</td><td>tr      </td><td>0.7264627</td><td>0.04412957</td><td>16.462040</td><td>0.000000e+00</td><td>0.6399703</td><td>0.8129550</td></tr>\n",
       "\t<tr><td>Simultan</td><td>=~</td><td>sm      </td><td>0.6560490</td><td>0.04959951</td><td>13.226925</td><td>0.000000e+00</td><td>0.5588358</td><td>0.7532623</td></tr>\n",
       "\t<tr><td>Simultan</td><td>=~</td><td>ma      </td><td>0.5878905</td><td>0.05485948</td><td>10.716298</td><td>0.000000e+00</td><td>0.4803679</td><td>0.6954131</td></tr>\n",
       "\t<tr><td>Simultan</td><td>=~</td><td>ps      </td><td>0.7817406</td><td>0.04012341</td><td>19.483401</td><td>0.000000e+00</td><td>0.7031001</td><td>0.8603810</td></tr>\n",
       "\t<tr><td>hm      </td><td>~~</td><td>hm      </td><td>0.7532377</td><td>0.06145007</td><td>12.257719</td><td>0.000000e+00</td><td>0.6327978</td><td>0.8736777</td></tr>\n",
       "\t<tr><td>nr      </td><td>~~</td><td>nr      </td><td>0.3486887</td><td>0.07468267</td><td> 4.668937</td><td>3.027615e-06</td><td>0.2023134</td><td>0.4950641</td></tr>\n",
       "\t<tr><td>wo      </td><td>~~</td><td>wo      </td><td>0.3468121</td><td>0.07474351</td><td> 4.640030</td><td>3.483594e-06</td><td>0.2003175</td><td>0.4933067</td></tr>\n",
       "\t<tr><td>gc      </td><td>~~</td><td>gc      </td><td>0.7470911</td><td>0.06123343</td><td>12.200705</td><td>0.000000e+00</td><td>0.6270758</td><td>0.8671064</td></tr>\n",
       "\t<tr><td>tr      </td><td>~~</td><td>tr      </td><td>0.4722520</td><td>0.06411696</td><td> 7.365476</td><td>1.765255e-13</td><td>0.3465850</td><td>0.5979189</td></tr>\n",
       "\t<tr><td>sm      </td><td>~~</td><td>sm      </td><td>0.5695997</td><td>0.06507943</td><td> 8.752377</td><td>0.000000e+00</td><td>0.4420463</td><td>0.6971530</td></tr>\n",
       "\t<tr><td>ma      </td><td>~~</td><td>ma      </td><td>0.6543848</td><td>0.06450273</td><td>10.145071</td><td>0.000000e+00</td><td>0.5279617</td><td>0.7808078</td></tr>\n",
       "\t<tr><td>ps      </td><td>~~</td><td>ps      </td><td>0.3888817</td><td>0.06273220</td><td> 6.199076</td><td>5.679559e-10</td><td>0.2659288</td><td>0.5118345</td></tr>\n",
       "\t<tr><td>Sequent </td><td>~~</td><td>Sequent </td><td>1.0000000</td><td>0.00000000</td><td>       NA</td><td>          NA</td><td>1.0000000</td><td>1.0000000</td></tr>\n",
       "\t<tr><td>Simultan</td><td>~~</td><td>Simultan</td><td>1.0000000</td><td>0.00000000</td><td>       NA</td><td>          NA</td><td>1.0000000</td><td>1.0000000</td></tr>\n",
       "\t<tr><td>Sequent </td><td>~~</td><td>Simultan</td><td>0.5569247</td><td>0.06673231</td><td> 8.345654</td><td>0.000000e+00</td><td>0.4261318</td><td>0.6877176</td></tr>\n",
       "</tbody>\n",
       "</table>\n"
      ],
      "text/latex": [
       "A lavaan.data.frame: 19 x 9\n",
       "\\begin{tabular}{lllllllll}\n",
       " lhs & op & rhs & est.std & se & z & pvalue & ci.lower & ci.upper\\\\\n",
       " <chr> & <chr> & <chr> & <dbl> & <dbl> & <dbl> & <dbl> & <dbl> & <dbl>\\\\\n",
       "\\hline\n",
       "\t Sequent  & =\\textasciitilde{} & hm       & 0.4967517 & 0.06185190 &  8.031309 & 8.881784e-16 & 0.3755242 & 0.6179792\\\\\n",
       "\t Sequent  & =\\textasciitilde{} & nr       & 0.8070386 & 0.04626958 & 17.442098 & 0.000000e+00 & 0.7163519 & 0.8977253\\\\\n",
       "\t Sequent  & =\\textasciitilde{} & wo       & 0.8082004 & 0.04624070 & 17.478118 & 0.000000e+00 & 0.7175703 & 0.8988305\\\\\n",
       "\t Simultan & =\\textasciitilde{} & gc       & 0.5029005 & 0.06088027 &  8.260485 & 2.220446e-16 & 0.3835774 & 0.6222236\\\\\n",
       "\t Simultan & =\\textasciitilde{} & tr       & 0.7264627 & 0.04412957 & 16.462040 & 0.000000e+00 & 0.6399703 & 0.8129550\\\\\n",
       "\t Simultan & =\\textasciitilde{} & sm       & 0.6560490 & 0.04959951 & 13.226925 & 0.000000e+00 & 0.5588358 & 0.7532623\\\\\n",
       "\t Simultan & =\\textasciitilde{} & ma       & 0.5878905 & 0.05485948 & 10.716298 & 0.000000e+00 & 0.4803679 & 0.6954131\\\\\n",
       "\t Simultan & =\\textasciitilde{} & ps       & 0.7817406 & 0.04012341 & 19.483401 & 0.000000e+00 & 0.7031001 & 0.8603810\\\\\n",
       "\t hm       & \\textasciitilde{}\\textasciitilde{} & hm       & 0.7532377 & 0.06145007 & 12.257719 & 0.000000e+00 & 0.6327978 & 0.8736777\\\\\n",
       "\t nr       & \\textasciitilde{}\\textasciitilde{} & nr       & 0.3486887 & 0.07468267 &  4.668937 & 3.027615e-06 & 0.2023134 & 0.4950641\\\\\n",
       "\t wo       & \\textasciitilde{}\\textasciitilde{} & wo       & 0.3468121 & 0.07474351 &  4.640030 & 3.483594e-06 & 0.2003175 & 0.4933067\\\\\n",
       "\t gc       & \\textasciitilde{}\\textasciitilde{} & gc       & 0.7470911 & 0.06123343 & 12.200705 & 0.000000e+00 & 0.6270758 & 0.8671064\\\\\n",
       "\t tr       & \\textasciitilde{}\\textasciitilde{} & tr       & 0.4722520 & 0.06411696 &  7.365476 & 1.765255e-13 & 0.3465850 & 0.5979189\\\\\n",
       "\t sm       & \\textasciitilde{}\\textasciitilde{} & sm       & 0.5695997 & 0.06507943 &  8.752377 & 0.000000e+00 & 0.4420463 & 0.6971530\\\\\n",
       "\t ma       & \\textasciitilde{}\\textasciitilde{} & ma       & 0.6543848 & 0.06450273 & 10.145071 & 0.000000e+00 & 0.5279617 & 0.7808078\\\\\n",
       "\t ps       & \\textasciitilde{}\\textasciitilde{} & ps       & 0.3888817 & 0.06273220 &  6.199076 & 5.679559e-10 & 0.2659288 & 0.5118345\\\\\n",
       "\t Sequent  & \\textasciitilde{}\\textasciitilde{} & Sequent  & 1.0000000 & 0.00000000 &        NA &           NA & 1.0000000 & 1.0000000\\\\\n",
       "\t Simultan & \\textasciitilde{}\\textasciitilde{} & Simultan & 1.0000000 & 0.00000000 &        NA &           NA & 1.0000000 & 1.0000000\\\\\n",
       "\t Sequent  & \\textasciitilde{}\\textasciitilde{} & Simultan & 0.5569247 & 0.06673231 &  8.345654 & 0.000000e+00 & 0.4261318 & 0.6877176\\\\\n",
       "\\end{tabular}\n"
      ],
      "text/markdown": [
       "\n",
       "A lavaan.data.frame: 19 x 9\n",
       "\n",
       "| lhs &lt;chr&gt; | op &lt;chr&gt; | rhs &lt;chr&gt; | est.std &lt;dbl&gt; | se &lt;dbl&gt; | z &lt;dbl&gt; | pvalue &lt;dbl&gt; | ci.lower &lt;dbl&gt; | ci.upper &lt;dbl&gt; |\n",
       "|---|---|---|---|---|---|---|---|---|\n",
       "| Sequent  | =~ | hm       | 0.4967517 | 0.06185190 |  8.031309 | 8.881784e-16 | 0.3755242 | 0.6179792 |\n",
       "| Sequent  | =~ | nr       | 0.8070386 | 0.04626958 | 17.442098 | 0.000000e+00 | 0.7163519 | 0.8977253 |\n",
       "| Sequent  | =~ | wo       | 0.8082004 | 0.04624070 | 17.478118 | 0.000000e+00 | 0.7175703 | 0.8988305 |\n",
       "| Simultan | =~ | gc       | 0.5029005 | 0.06088027 |  8.260485 | 2.220446e-16 | 0.3835774 | 0.6222236 |\n",
       "| Simultan | =~ | tr       | 0.7264627 | 0.04412957 | 16.462040 | 0.000000e+00 | 0.6399703 | 0.8129550 |\n",
       "| Simultan | =~ | sm       | 0.6560490 | 0.04959951 | 13.226925 | 0.000000e+00 | 0.5588358 | 0.7532623 |\n",
       "| Simultan | =~ | ma       | 0.5878905 | 0.05485948 | 10.716298 | 0.000000e+00 | 0.4803679 | 0.6954131 |\n",
       "| Simultan | =~ | ps       | 0.7817406 | 0.04012341 | 19.483401 | 0.000000e+00 | 0.7031001 | 0.8603810 |\n",
       "| hm       | ~~ | hm       | 0.7532377 | 0.06145007 | 12.257719 | 0.000000e+00 | 0.6327978 | 0.8736777 |\n",
       "| nr       | ~~ | nr       | 0.3486887 | 0.07468267 |  4.668937 | 3.027615e-06 | 0.2023134 | 0.4950641 |\n",
       "| wo       | ~~ | wo       | 0.3468121 | 0.07474351 |  4.640030 | 3.483594e-06 | 0.2003175 | 0.4933067 |\n",
       "| gc       | ~~ | gc       | 0.7470911 | 0.06123343 | 12.200705 | 0.000000e+00 | 0.6270758 | 0.8671064 |\n",
       "| tr       | ~~ | tr       | 0.4722520 | 0.06411696 |  7.365476 | 1.765255e-13 | 0.3465850 | 0.5979189 |\n",
       "| sm       | ~~ | sm       | 0.5695997 | 0.06507943 |  8.752377 | 0.000000e+00 | 0.4420463 | 0.6971530 |\n",
       "| ma       | ~~ | ma       | 0.6543848 | 0.06450273 | 10.145071 | 0.000000e+00 | 0.5279617 | 0.7808078 |\n",
       "| ps       | ~~ | ps       | 0.3888817 | 0.06273220 |  6.199076 | 5.679559e-10 | 0.2659288 | 0.5118345 |\n",
       "| Sequent  | ~~ | Sequent  | 1.0000000 | 0.00000000 |        NA |           NA | 1.0000000 | 1.0000000 |\n",
       "| Simultan | ~~ | Simultan | 1.0000000 | 0.00000000 |        NA |           NA | 1.0000000 | 1.0000000 |\n",
       "| Sequent  | ~~ | Simultan | 0.5569247 | 0.06673231 |  8.345654 | 0.000000e+00 | 0.4261318 | 0.6877176 |\n",
       "\n"
      ],
      "text/plain": [
       "   lhs      op rhs      est.std   se         z         pvalue      \n",
       "1  Sequent  =~ hm       0.4967517 0.06185190  8.031309 8.881784e-16\n",
       "2  Sequent  =~ nr       0.8070386 0.04626958 17.442098 0.000000e+00\n",
       "3  Sequent  =~ wo       0.8082004 0.04624070 17.478118 0.000000e+00\n",
       "4  Simultan =~ gc       0.5029005 0.06088027  8.260485 2.220446e-16\n",
       "5  Simultan =~ tr       0.7264627 0.04412957 16.462040 0.000000e+00\n",
       "6  Simultan =~ sm       0.6560490 0.04959951 13.226925 0.000000e+00\n",
       "7  Simultan =~ ma       0.5878905 0.05485948 10.716298 0.000000e+00\n",
       "8  Simultan =~ ps       0.7817406 0.04012341 19.483401 0.000000e+00\n",
       "9  hm       ~~ hm       0.7532377 0.06145007 12.257719 0.000000e+00\n",
       "10 nr       ~~ nr       0.3486887 0.07468267  4.668937 3.027615e-06\n",
       "11 wo       ~~ wo       0.3468121 0.07474351  4.640030 3.483594e-06\n",
       "12 gc       ~~ gc       0.7470911 0.06123343 12.200705 0.000000e+00\n",
       "13 tr       ~~ tr       0.4722520 0.06411696  7.365476 1.765255e-13\n",
       "14 sm       ~~ sm       0.5695997 0.06507943  8.752377 0.000000e+00\n",
       "15 ma       ~~ ma       0.6543848 0.06450273 10.145071 0.000000e+00\n",
       "16 ps       ~~ ps       0.3888817 0.06273220  6.199076 5.679559e-10\n",
       "17 Sequent  ~~ Sequent  1.0000000 0.00000000        NA           NA\n",
       "18 Simultan ~~ Simultan 1.0000000 0.00000000        NA           NA\n",
       "19 Sequent  ~~ Simultan 0.5569247 0.06673231  8.345654 0.000000e+00\n",
       "   ci.lower  ci.upper \n",
       "1  0.3755242 0.6179792\n",
       "2  0.7163519 0.8977253\n",
       "3  0.7175703 0.8988305\n",
       "4  0.3835774 0.6222236\n",
       "5  0.6399703 0.8129550\n",
       "6  0.5588358 0.7532623\n",
       "7  0.4803679 0.6954131\n",
       "8  0.7031001 0.8603810\n",
       "9  0.6327978 0.8736777\n",
       "10 0.2023134 0.4950641\n",
       "11 0.2003175 0.4933067\n",
       "12 0.6270758 0.8671064\n",
       "13 0.3465850 0.5979189\n",
       "14 0.4420463 0.6971530\n",
       "15 0.5279617 0.7808078\n",
       "16 0.2659288 0.5118345\n",
       "17 1.0000000 1.0000000\n",
       "18 1.0000000 1.0000000\n",
       "19 0.4261318 0.6877176"
      ]
     },
     "metadata": {},
     "output_type": "display_data"
    }
   ],
   "source": [
    "standardizedSolution(kabc2)"
   ]
  },
  {
   "cell_type": "code",
   "execution_count": 20,
   "id": "5b25b10f",
   "metadata": {
    "vscode": {
     "languageId": "r"
    }
   },
   "outputs": [
    {
     "data": {
      "text/html": [
       "<style>\n",
       ".dl-inline {width: auto; margin:0; padding: 0}\n",
       ".dl-inline>dt, .dl-inline>dd {float: none; width: auto; display: inline-block}\n",
       ".dl-inline>dt::after {content: \":\\0020\"; padding-right: .5ex}\n",
       ".dl-inline>dt:not(:first-of-type) {padding-left: .5ex}\n",
       "</style><dl class=dl-inline><dt>chisq</dt><dd>38.3247560709631</dd><dt>df</dt><dd>19</dd><dt>cfi</dt><dd>0.958912902048374</dd><dt>tli</dt><dd>0.939450592492341</dd><dt>rmsea</dt><dd>0.0713124261537753</dd><dt>srmr</dt><dd>0.0721641433704015</dd></dl>\n"
      ],
      "text/latex": [
       "\\begin{description*}\n",
       "\\item[chisq] 38.3247560709631\n",
       "\\item[df] 19\n",
       "\\item[cfi] 0.958912902048374\n",
       "\\item[tli] 0.939450592492341\n",
       "\\item[rmsea] 0.0713124261537753\n",
       "\\item[srmr] 0.0721641433704015\n",
       "\\end{description*}\n"
      ],
      "text/markdown": [
       "chisq\n",
       ":   38.3247560709631df\n",
       ":   19cfi\n",
       ":   0.958912902048374tli\n",
       ":   0.939450592492341rmsea\n",
       ":   0.0713124261537753srmr\n",
       ":   0.0721641433704015\n",
       "\n"
      ],
      "text/plain": [
       " chisq     df    cfi    tli  rmsea   srmr \n",
       "38.325 19.000  0.959  0.939  0.071  0.072 "
      ]
     },
     "metadata": {},
     "output_type": "display_data"
    }
   ],
   "source": [
    "fitMeasures(kabc2, c(\"chisq\", \"df\", \"cfi\", \"tli\", \"rmsea\", \"srmr\")) "
   ]
  },
  {
   "cell_type": "markdown",
   "id": "2272e30b",
   "metadata": {},
   "source": [
    "Un modello di analisi fattoriale confermativa (CFA) che utilizza un singolo fattore può essere visto come un caso specifico o un \"sottoinsieme\" di modelli CFA più complessi con due o più fattori che impiegano gli stessi indicatori e lo stesso schema di covarianza degli errori, se presente. Questa struttura gerarchica tra i modelli a singolo fattore e quelli multifattoriali implica che i ricercatori possono applicare il test del chi-quadro per confrontare direttamente l'adattamento di un modello CFA a singolo fattore con quello di modelli CFA a più fattori. In pratica, ciò permette di valutare se l'introduzione di fattori aggiuntivi migliora significativamente l'adattamento del modello ai dati rispetto a un modello più semplice a singolo fattore. Questo tipo di analisi è fondamentale per determinare la complessità ottimale del modello in base alla struttura sottostante dei dati. Sebbene questo argomento verrà approfondito successivamente, è importante anticipare qui l'utilizzo del test del rapporto di verosimiglianza, che consente di confrontare i modelli in maniera quantitativa."
   ]
  },
  {
   "cell_type": "code",
   "execution_count": 21,
   "id": "aba9936e",
   "metadata": {
    "vscode": {
     "languageId": "r"
    }
   },
   "outputs": [
    {
     "data": {
      "text/html": [
       "<table class=\"dataframe\">\n",
       "<caption>A anova: 2 x 8</caption>\n",
       "<thead>\n",
       "\t<tr><th></th><th scope=col>Df</th><th scope=col>AIC</th><th scope=col>BIC</th><th scope=col>Chisq</th><th scope=col>Chisq diff</th><th scope=col>RMSEA</th><th scope=col>Df diff</th><th scope=col>Pr(&gt;Chisq)</th></tr>\n",
       "\t<tr><th></th><th scope=col>&lt;int&gt;</th><th scope=col>&lt;dbl&gt;</th><th scope=col>&lt;dbl&gt;</th><th scope=col>&lt;dbl&gt;</th><th scope=col>&lt;dbl&gt;</th><th scope=col>&lt;dbl&gt;</th><th scope=col>&lt;int&gt;</th><th scope=col>&lt;dbl&gt;</th></tr>\n",
       "</thead>\n",
       "<tbody>\n",
       "\t<tr><th scope=row>kabc2</th><td>19</td><td>7592.082</td><td>7648.153</td><td> 38.32476</td><td>      NA</td><td>       NA</td><td>NA</td><td>          NA</td></tr>\n",
       "\t<tr><th scope=row>kabc1</th><td>20</td><td>7657.183</td><td>7709.956</td><td>105.42664</td><td>67.10188</td><td>0.5748995</td><td> 1</td><td>2.578323e-16</td></tr>\n",
       "</tbody>\n",
       "</table>\n"
      ],
      "text/latex": [
       "A anova: 2 x 8\n",
       "\\begin{tabular}{r|llllllll}\n",
       "  & Df & AIC & BIC & Chisq & Chisq diff & RMSEA & Df diff & Pr(>Chisq)\\\\\n",
       "  & <int> & <dbl> & <dbl> & <dbl> & <dbl> & <dbl> & <int> & <dbl>\\\\\n",
       "\\hline\n",
       "\tkabc2 & 19 & 7592.082 & 7648.153 &  38.32476 &       NA &        NA & NA &           NA\\\\\n",
       "\tkabc1 & 20 & 7657.183 & 7709.956 & 105.42664 & 67.10188 & 0.5748995 &  1 & 2.578323e-16\\\\\n",
       "\\end{tabular}\n"
      ],
      "text/markdown": [
       "\n",
       "A anova: 2 x 8\n",
       "\n",
       "| <!--/--> | Df &lt;int&gt; | AIC &lt;dbl&gt; | BIC &lt;dbl&gt; | Chisq &lt;dbl&gt; | Chisq diff &lt;dbl&gt; | RMSEA &lt;dbl&gt; | Df diff &lt;int&gt; | Pr(&gt;Chisq) &lt;dbl&gt; |\n",
       "|---|---|---|---|---|---|---|---|---|\n",
       "| kabc2 | 19 | 7592.082 | 7648.153 |  38.32476 |       NA |        NA | NA |           NA |\n",
       "| kabc1 | 20 | 7657.183 | 7709.956 | 105.42664 | 67.10188 | 0.5748995 |  1 | 2.578323e-16 |\n",
       "\n"
      ],
      "text/plain": [
       "      Df AIC      BIC      Chisq     Chisq diff RMSEA     Df diff\n",
       "kabc2 19 7592.082 7648.153  38.32476       NA          NA NA     \n",
       "kabc1 20 7657.183 7709.956 105.42664 67.10188   0.5748995  1     \n",
       "      Pr(>Chisq)  \n",
       "kabc2           NA\n",
       "kabc1 2.578323e-16"
      ]
     },
     "metadata": {},
     "output_type": "display_data"
    }
   ],
   "source": [
    "lavTestLRT(kabc1, kabc2)"
   ]
  },
  {
   "cell_type": "markdown",
   "id": "c8b6bf8c",
   "metadata": {},
   "source": [
    "I risultati del test indicano che l'adattamento del modello con due fattori è statisticamente migliore rispetto a quello del modello a fattore singolo (il modello ad un fattore ha un valore $\\chi^2$ superiore di 67.1 punti, con un grado di libertà). \n",
    "\n",
    "Anche se il test del rapporto tra verosimiglianze favorisce il modello a due fattori, possiamo notare che l'esame dei residui mostra un problema con l'indicatore `hm`."
   ]
  },
  {
   "cell_type": "code",
   "execution_count": 22,
   "id": "2deefb19",
   "metadata": {
    "vscode": {
     "languageId": "r"
    }
   },
   "outputs": [
    {
     "data": {
      "text/html": [
       "<dl>\n",
       "\t<dt>$type</dt>\n",
       "\t\t<dd>'standardized.mplus'</dd>\n",
       "\t<dt>$cov</dt>\n",
       "\t\t<dd><table class=\"dataframe\">\n",
       "<caption>A lavaan.matrix.symmetric: 8 x 8 of type dbl</caption>\n",
       "<thead>\n",
       "\t<tr><th></th><th scope=col>hm</th><th scope=col>nr</th><th scope=col>wo</th><th scope=col>gc</th><th scope=col>tr</th><th scope=col>sm</th><th scope=col>ma</th><th scope=col>ps</th></tr>\n",
       "</thead>\n",
       "<tbody>\n",
       "\t<tr><th scope=row>hm</th><td> 7.780153e-06</td><td>-5.910875e-01</td><td>-3.790464e+00</td><td> 1.1263137</td><td> 2.046028e+00</td><td> 3.463851e+00</td><td> 3.50524450</td><td> 2.990517e+00</td></tr>\n",
       "\t<tr><th scope=row>nr</th><td>-5.910875e-01</td><td>-3.514443e-06</td><td> 1.539009e+00</td><td>-2.3285301</td><td>-1.557830e+00</td><td>-1.118616e-01</td><td> 1.12918789</td><td>-2.001593e+00</td></tr>\n",
       "\t<tr><th scope=row>wo</th><td>-3.790464e+00</td><td> 1.539009e+00</td><td> 3.866527e-06</td><td>-1.3151837</td><td>-1.000758e+00</td><td>-3.546391e-01</td><td> 0.72661943</td><td> 5.240882e-01</td></tr>\n",
       "\t<tr><th scope=row>gc</th><td> 1.126314e+00</td><td>-2.328530e+00</td><td>-1.315184e+00</td><td>        NA</td><td> 4.285284e-01</td><td>-7.843301e-01</td><td> 0.32314851</td><td> 9.101754e-01</td></tr>\n",
       "\t<tr><th scope=row>tr</th><td> 2.046028e+00</td><td>-1.557830e+00</td><td>-1.000758e+00</td><td> 0.4285284</td><td> 1.458742e-06</td><td>-2.667037e-01</td><td>-0.24457751</td><td> 6.767396e-01</td></tr>\n",
       "\t<tr><th scope=row>sm</th><td> 3.463851e+00</td><td>-1.118616e-01</td><td>-3.546391e-01</td><td>-0.7843301</td><td>-2.667037e-01</td><td>-4.748427e-07</td><td> 0.66419233</td><td>-1.437615e-01</td></tr>\n",
       "\t<tr><th scope=row>ma</th><td> 3.505245e+00</td><td> 1.129188e+00</td><td> 7.266194e-01</td><td> 0.3231485</td><td>-2.445775e-01</td><td> 6.641923e-01</td><td> 0.00832857</td><td>-1.977762e+00</td></tr>\n",
       "\t<tr><th scope=row>ps</th><td> 2.990517e+00</td><td>-2.001593e+00</td><td> 5.240882e-01</td><td> 0.9101754</td><td> 6.767396e-01</td><td>-1.437615e-01</td><td>-1.97776188</td><td>-2.784206e-06</td></tr>\n",
       "</tbody>\n",
       "</table>\n",
       "</dd>\n",
       "</dl>\n"
      ],
      "text/latex": [
       "\\begin{description}\n",
       "\\item[\\$type] 'standardized.mplus'\n",
       "\\item[\\$cov] A lavaan.matrix.symmetric: 8 x 8 of type dbl\n",
       "\\begin{tabular}{r|llllllll}\n",
       "  & hm & nr & wo & gc & tr & sm & ma & ps\\\\\n",
       "\\hline\n",
       "\thm &  7.780153e-06 & -5.910875e-01 & -3.790464e+00 &  1.1263137 &  2.046028e+00 &  3.463851e+00 &  3.50524450 &  2.990517e+00\\\\\n",
       "\tnr & -5.910875e-01 & -3.514443e-06 &  1.539009e+00 & -2.3285301 & -1.557830e+00 & -1.118616e-01 &  1.12918789 & -2.001593e+00\\\\\n",
       "\two & -3.790464e+00 &  1.539009e+00 &  3.866527e-06 & -1.3151837 & -1.000758e+00 & -3.546391e-01 &  0.72661943 &  5.240882e-01\\\\\n",
       "\tgc &  1.126314e+00 & -2.328530e+00 & -1.315184e+00 &         NA &  4.285284e-01 & -7.843301e-01 &  0.32314851 &  9.101754e-01\\\\\n",
       "\ttr &  2.046028e+00 & -1.557830e+00 & -1.000758e+00 &  0.4285284 &  1.458742e-06 & -2.667037e-01 & -0.24457751 &  6.767396e-01\\\\\n",
       "\tsm &  3.463851e+00 & -1.118616e-01 & -3.546391e-01 & -0.7843301 & -2.667037e-01 & -4.748427e-07 &  0.66419233 & -1.437615e-01\\\\\n",
       "\tma &  3.505245e+00 &  1.129188e+00 &  7.266194e-01 &  0.3231485 & -2.445775e-01 &  6.641923e-01 &  0.00832857 & -1.977762e+00\\\\\n",
       "\tps &  2.990517e+00 & -2.001593e+00 &  5.240882e-01 &  0.9101754 &  6.767396e-01 & -1.437615e-01 & -1.97776188 & -2.784206e-06\\\\\n",
       "\\end{tabular}\n",
       "\n",
       "\\end{description}\n"
      ],
      "text/markdown": [
       "$type\n",
       ":   'standardized.mplus'\n",
       "$cov\n",
       ":   \n",
       "A lavaan.matrix.symmetric: 8 x 8 of type dbl\n",
       "\n",
       "| <!--/--> | hm | nr | wo | gc | tr | sm | ma | ps |\n",
       "|---|---|---|---|---|---|---|---|---|\n",
       "| hm |  7.780153e-06 | -5.910875e-01 | -3.790464e+00 |  1.1263137 |  2.046028e+00 |  3.463851e+00 |  3.50524450 |  2.990517e+00 |\n",
       "| nr | -5.910875e-01 | -3.514443e-06 |  1.539009e+00 | -2.3285301 | -1.557830e+00 | -1.118616e-01 |  1.12918789 | -2.001593e+00 |\n",
       "| wo | -3.790464e+00 |  1.539009e+00 |  3.866527e-06 | -1.3151837 | -1.000758e+00 | -3.546391e-01 |  0.72661943 |  5.240882e-01 |\n",
       "| gc |  1.126314e+00 | -2.328530e+00 | -1.315184e+00 |         NA |  4.285284e-01 | -7.843301e-01 |  0.32314851 |  9.101754e-01 |\n",
       "| tr |  2.046028e+00 | -1.557830e+00 | -1.000758e+00 |  0.4285284 |  1.458742e-06 | -2.667037e-01 | -0.24457751 |  6.767396e-01 |\n",
       "| sm |  3.463851e+00 | -1.118616e-01 | -3.546391e-01 | -0.7843301 | -2.667037e-01 | -4.748427e-07 |  0.66419233 | -1.437615e-01 |\n",
       "| ma |  3.505245e+00 |  1.129188e+00 |  7.266194e-01 |  0.3231485 | -2.445775e-01 |  6.641923e-01 |  0.00832857 | -1.977762e+00 |\n",
       "| ps |  2.990517e+00 | -2.001593e+00 |  5.240882e-01 |  0.9101754 |  6.767396e-01 | -1.437615e-01 | -1.97776188 | -2.784206e-06 |\n",
       "\n",
       "\n",
       "\n",
       "\n"
      ],
      "text/plain": [
       "$type\n",
       "[1] \"standardized.mplus\"\n",
       "\n",
       "$cov\n",
       "       hm     nr     wo     gc     tr     sm     ma     ps\n",
       "hm  0.000                                                 \n",
       "nr -0.591  0.000                                          \n",
       "wo -3.790  1.539  0.000                                   \n",
       "gc  1.126 -2.329 -1.315     NA                            \n",
       "tr  2.046 -1.558 -1.001  0.429  0.000                     \n",
       "sm  3.464 -0.112 -0.355 -0.784 -0.267  0.000              \n",
       "ma  3.505  1.129  0.727  0.323 -0.245  0.664  0.008       \n",
       "ps  2.991 -2.002  0.524  0.910  0.677 -0.144 -1.978  0.000\n"
      ]
     },
     "metadata": {},
     "output_type": "display_data"
    }
   ],
   "source": [
    "lavaan::residuals(kabc2, type = \"standardized.mplus\") "
   ]
  },
  {
   "cell_type": "markdown",
   "id": "ef49d38b",
   "metadata": {},
   "source": [
    "Per affrontare questo problema, calcoliamo i *modification indices* che ci dicono quale parametro del modello ha l'effetto maggiore sulla misura di fit complessivo."
   ]
  },
  {
   "cell_type": "code",
   "execution_count": 23,
   "id": "390ab15a",
   "metadata": {
    "vscode": {
     "languageId": "r"
    }
   },
   "outputs": [
    {
     "data": {
      "text/html": [
       "<table class=\"dataframe\">\n",
       "<caption>A lavaan.data.frame: 5 x 8</caption>\n",
       "<thead>\n",
       "\t<tr><th></th><th scope=col>lhs</th><th scope=col>op</th><th scope=col>rhs</th><th scope=col>mi</th><th scope=col>epc</th><th scope=col>sepc.lv</th><th scope=col>sepc.all</th><th scope=col>sepc.nox</th></tr>\n",
       "\t<tr><th></th><th scope=col>&lt;chr&gt;</th><th scope=col>&lt;chr&gt;</th><th scope=col>&lt;chr&gt;</th><th scope=col>&lt;dbl&gt;</th><th scope=col>&lt;dbl&gt;</th><th scope=col>&lt;dbl&gt;</th><th scope=col>&lt;dbl&gt;</th><th scope=col>&lt;dbl&gt;</th></tr>\n",
       "</thead>\n",
       "<tbody>\n",
       "\t<tr><th scope=row>25</th><td>Simultan</td><td>=~</td><td>hm</td><td>20.097078</td><td> 1.0539461</td><td> 1.4275011</td><td> 0.4209070</td><td> 0.4209070</td></tr>\n",
       "\t<tr><th scope=row>35</th><td>nr      </td><td>~~</td><td>wo</td><td>20.097058</td><td> 4.7406831</td><td> 4.7406831</td><td> 1.9685321</td><td> 1.9685321</td></tr>\n",
       "\t<tr><th scope=row>26</th><td>Simultan</td><td>=~</td><td>nr</td><td> 7.013048</td><td>-0.5104555</td><td>-0.6913786</td><td>-0.2887972</td><td>-0.2887972</td></tr>\n",
       "\t<tr><th scope=row>29</th><td>hm      </td><td>~~</td><td>wo</td><td> 7.012988</td><td>-1.7458372</td><td>-1.7458372</td><td>-0.3481696</td><td>-0.3481696</td></tr>\n",
       "\t<tr><th scope=row>32</th><td>hm      </td><td>~~</td><td>sm</td><td> 4.847027</td><td> 1.6094583</td><td> 1.6094583</td><td> 0.1729329</td><td> 0.1729329</td></tr>\n",
       "</tbody>\n",
       "</table>\n"
      ],
      "text/latex": [
       "A lavaan.data.frame: 5 x 8\n",
       "\\begin{tabular}{r|llllllll}\n",
       "  & lhs & op & rhs & mi & epc & sepc.lv & sepc.all & sepc.nox\\\\\n",
       "  & <chr> & <chr> & <chr> & <dbl> & <dbl> & <dbl> & <dbl> & <dbl>\\\\\n",
       "\\hline\n",
       "\t25 & Simultan & =\\textasciitilde{} & hm & 20.097078 &  1.0539461 &  1.4275011 &  0.4209070 &  0.4209070\\\\\n",
       "\t35 & nr       & \\textasciitilde{}\\textasciitilde{} & wo & 20.097058 &  4.7406831 &  4.7406831 &  1.9685321 &  1.9685321\\\\\n",
       "\t26 & Simultan & =\\textasciitilde{} & nr &  7.013048 & -0.5104555 & -0.6913786 & -0.2887972 & -0.2887972\\\\\n",
       "\t29 & hm       & \\textasciitilde{}\\textasciitilde{} & wo &  7.012988 & -1.7458372 & -1.7458372 & -0.3481696 & -0.3481696\\\\\n",
       "\t32 & hm       & \\textasciitilde{}\\textasciitilde{} & sm &  4.847027 &  1.6094583 &  1.6094583 &  0.1729329 &  0.1729329\\\\\n",
       "\\end{tabular}\n"
      ],
      "text/markdown": [
       "\n",
       "A lavaan.data.frame: 5 x 8\n",
       "\n",
       "| <!--/--> | lhs &lt;chr&gt; | op &lt;chr&gt; | rhs &lt;chr&gt; | mi &lt;dbl&gt; | epc &lt;dbl&gt; | sepc.lv &lt;dbl&gt; | sepc.all &lt;dbl&gt; | sepc.nox &lt;dbl&gt; |\n",
       "|---|---|---|---|---|---|---|---|---|\n",
       "| 25 | Simultan | =~ | hm | 20.097078 |  1.0539461 |  1.4275011 |  0.4209070 |  0.4209070 |\n",
       "| 35 | nr       | ~~ | wo | 20.097058 |  4.7406831 |  4.7406831 |  1.9685321 |  1.9685321 |\n",
       "| 26 | Simultan | =~ | nr |  7.013048 | -0.5104555 | -0.6913786 | -0.2887972 | -0.2887972 |\n",
       "| 29 | hm       | ~~ | wo |  7.012988 | -1.7458372 | -1.7458372 | -0.3481696 | -0.3481696 |\n",
       "| 32 | hm       | ~~ | sm |  4.847027 |  1.6094583 |  1.6094583 |  0.1729329 |  0.1729329 |\n",
       "\n"
      ],
      "text/plain": [
       "   lhs      op rhs mi        epc        sepc.lv    sepc.all  \n",
       "25 Simultan =~ hm  20.097078  1.0539461  1.4275011  0.4209070\n",
       "35 nr       ~~ wo  20.097058  4.7406831  4.7406831  1.9685321\n",
       "26 Simultan =~ nr   7.013048 -0.5104555 -0.6913786 -0.2887972\n",
       "29 hm       ~~ wo   7.012988 -1.7458372 -1.7458372 -0.3481696\n",
       "32 hm       ~~ sm   4.847027  1.6094583  1.6094583  0.1729329\n",
       "   sepc.nox  \n",
       "25  0.4209070\n",
       "35  1.9685321\n",
       "26 -0.2887972\n",
       "29 -0.3481696\n",
       "32  0.1729329"
      ]
     },
     "metadata": {},
     "output_type": "display_data"
    }
   ],
   "source": [
    "modindices(kabc2, sort = TRUE, maximum.number = 5)"
   ]
  },
  {
   "cell_type": "markdown",
   "id": "3d239a49",
   "metadata": {},
   "source": [
    "I risultati degli indici di modifica (MI) indicano che il misfit del modello è principalmente attribuibile alla fissazione a zero del carico tra l'indicatore `hm` e il fattore comune `Simulan`, nonché alla fissazione a zero della covarianza tra le componenti residue di `nr` e `wo`. Per migliorare l'adattamento del modello, si propone quindi di modificare questi aspetti, iniziando con il primo, ovvero riconsiderando il carico di `hm` sul fattore `Simulan`."
   ]
  },
  {
   "cell_type": "code",
   "execution_count": 24,
   "id": "708f9894",
   "metadata": {
    "vscode": {
     "languageId": "r"
    }
   },
   "outputs": [],
   "source": [
    "kabc3_model <- \"\n",
    "    Sequent =~ hm + nr + wo\n",
    "    Simultan =~ hm + gc + tr + sm + ma + ps\n",
    "\""
   ]
  },
  {
   "cell_type": "code",
   "execution_count": 25,
   "id": "9476526a",
   "metadata": {
    "vscode": {
     "languageId": "r"
    }
   },
   "outputs": [],
   "source": [
    "kabc3 <- lavaan::sem(kabc3_model, sample.cov = kabc.cov, sample.nobs = 200)"
   ]
  },
  {
   "cell_type": "code",
   "execution_count": 26,
   "id": "69f2283c",
   "metadata": {
    "vscode": {
     "languageId": "r"
    }
   },
   "outputs": [
    {
     "data": {
      "text/html": [
       "<table class=\"dataframe\">\n",
       "<caption>A lavaan.data.frame: 20 x 9</caption>\n",
       "<thead>\n",
       "\t<tr><th scope=col>lhs</th><th scope=col>op</th><th scope=col>rhs</th><th scope=col>est</th><th scope=col>se</th><th scope=col>z</th><th scope=col>pvalue</th><th scope=col>ci.lower</th><th scope=col>ci.upper</th></tr>\n",
       "\t<tr><th scope=col>&lt;chr&gt;</th><th scope=col>&lt;chr&gt;</th><th scope=col>&lt;chr&gt;</th><th scope=col>&lt;dbl&gt;</th><th scope=col>&lt;dbl&gt;</th><th scope=col>&lt;dbl&gt;</th><th scope=col>&lt;dbl&gt;</th><th scope=col>&lt;dbl&gt;</th><th scope=col>&lt;dbl&gt;</th></tr>\n",
       "</thead>\n",
       "<tbody>\n",
       "\t<tr><td>Sequent </td><td>=~</td><td>hm      </td><td>1.0000000</td><td>0.0000000</td><td>      NA</td><td>          NA</td><td> 1.0000000</td><td> 1.0000000</td></tr>\n",
       "\t<tr><td>Sequent </td><td>=~</td><td>nr      </td><td>2.2852332</td><td>0.7771491</td><td>2.940534</td><td>3.276473e-03</td><td> 0.7620489</td><td> 3.8084174</td></tr>\n",
       "\t<tr><td>Sequent </td><td>=~</td><td>wo      </td><td>2.7668158</td><td>0.9413238</td><td>2.939282</td><td>3.289738e-03</td><td> 0.9218551</td><td> 4.6117764</td></tr>\n",
       "\t<tr><td>Simultan</td><td>=~</td><td>hm      </td><td>1.0000000</td><td>0.0000000</td><td>      NA</td><td>          NA</td><td> 1.0000000</td><td> 1.0000000</td></tr>\n",
       "\t<tr><td>Simultan</td><td>=~</td><td>gc      </td><td>1.0142725</td><td>0.2548896</td><td>3.979261</td><td>6.912968e-05</td><td> 0.5146980</td><td> 1.5138470</td></tr>\n",
       "\t<tr><td>Simultan</td><td>=~</td><td>tr      </td><td>1.4565607</td><td>0.3290001</td><td>4.427235</td><td>9.544855e-06</td><td> 0.8117324</td><td> 2.1013889</td></tr>\n",
       "\t<tr><td>Simultan</td><td>=~</td><td>sm      </td><td>2.1034685</td><td>0.4831066</td><td>4.354046</td><td>1.336477e-05</td><td> 1.1565969</td><td> 3.0503401</td></tr>\n",
       "\t<tr><td>Simultan</td><td>=~</td><td>ma      </td><td>1.2587811</td><td>0.2976830</td><td>4.228595</td><td>2.351548e-05</td><td> 0.6753331</td><td> 1.8422292</td></tr>\n",
       "\t<tr><td>Simultan</td><td>=~</td><td>ps      </td><td>1.7520898</td><td>0.3905795</td><td>4.485872</td><td>7.261622e-06</td><td> 0.9865680</td><td> 2.5176116</td></tr>\n",
       "\t<tr><td>hm      </td><td>~~</td><td>hm      </td><td>7.8507750</td><td>0.8449706</td><td>9.291181</td><td>0.000000e+00</td><td> 6.1946630</td><td> 9.5068869</td></tr>\n",
       "\t<tr><td>nr      </td><td>~~</td><td>nr      </td><td>1.8989188</td><td>0.4874537</td><td>3.895588</td><td>9.796073e-05</td><td> 0.9435271</td><td> 2.8543105</td></tr>\n",
       "\t<tr><td>wo      </td><td>~~</td><td>wo      </td><td>2.7502708</td><td>0.7132588</td><td>3.855923</td><td>1.152939e-04</td><td> 1.3523092</td><td> 4.1482323</td></tr>\n",
       "\t<tr><td>gc      </td><td>~~</td><td>gc      </td><td>5.4435171</td><td>0.5854830</td><td>9.297482</td><td>0.000000e+00</td><td> 4.2959916</td><td> 6.5910426</td></tr>\n",
       "\t<tr><td>tr      </td><td>~~</td><td>tr      </td><td>3.5207608</td><td>0.4571204</td><td>7.702043</td><td>1.332268e-14</td><td> 2.6248213</td><td> 4.4167002</td></tr>\n",
       "\t<tr><td>sm      </td><td>~~</td><td>sm      </td><td>9.7669919</td><td>1.1785787</td><td>8.287093</td><td>2.220446e-16</td><td> 7.4570200</td><td>12.0769637</td></tr>\n",
       "\t<tr><td>ma      </td><td>~~</td><td>ma      </td><td>5.0129076</td><td>0.5686560</td><td>8.815361</td><td>0.000000e+00</td><td> 3.8983624</td><td> 6.1274528</td></tr>\n",
       "\t<tr><td>ps      </td><td>~~</td><td>ps      </td><td>3.5538129</td><td>0.5289941</td><td>6.718057</td><td>1.841638e-11</td><td> 2.5170035</td><td> 4.5906224</td></tr>\n",
       "\t<tr><td>Sequent </td><td>~~</td><td>Sequent </td><td>0.7338316</td><td>0.4895799</td><td>1.498901</td><td>1.338994e-01</td><td>-0.2257274</td><td> 1.6933905</td></tr>\n",
       "\t<tr><td>Simultan</td><td>~~</td><td>Simultan</td><td>1.7594443</td><td>0.7603419</td><td>2.314017</td><td>2.066678e-02</td><td> 0.2692015</td><td> 3.2496871</td></tr>\n",
       "\t<tr><td>Sequent </td><td>~~</td><td>Simultan</td><td>0.5790716</td><td>0.1780863</td><td>3.251635</td><td>1.147432e-03</td><td> 0.2300289</td><td> 0.9281142</td></tr>\n",
       "</tbody>\n",
       "</table>\n"
      ],
      "text/latex": [
       "A lavaan.data.frame: 20 x 9\n",
       "\\begin{tabular}{lllllllll}\n",
       " lhs & op & rhs & est & se & z & pvalue & ci.lower & ci.upper\\\\\n",
       " <chr> & <chr> & <chr> & <dbl> & <dbl> & <dbl> & <dbl> & <dbl> & <dbl>\\\\\n",
       "\\hline\n",
       "\t Sequent  & =\\textasciitilde{} & hm       & 1.0000000 & 0.0000000 &       NA &           NA &  1.0000000 &  1.0000000\\\\\n",
       "\t Sequent  & =\\textasciitilde{} & nr       & 2.2852332 & 0.7771491 & 2.940534 & 3.276473e-03 &  0.7620489 &  3.8084174\\\\\n",
       "\t Sequent  & =\\textasciitilde{} & wo       & 2.7668158 & 0.9413238 & 2.939282 & 3.289738e-03 &  0.9218551 &  4.6117764\\\\\n",
       "\t Simultan & =\\textasciitilde{} & hm       & 1.0000000 & 0.0000000 &       NA &           NA &  1.0000000 &  1.0000000\\\\\n",
       "\t Simultan & =\\textasciitilde{} & gc       & 1.0142725 & 0.2548896 & 3.979261 & 6.912968e-05 &  0.5146980 &  1.5138470\\\\\n",
       "\t Simultan & =\\textasciitilde{} & tr       & 1.4565607 & 0.3290001 & 4.427235 & 9.544855e-06 &  0.8117324 &  2.1013889\\\\\n",
       "\t Simultan & =\\textasciitilde{} & sm       & 2.1034685 & 0.4831066 & 4.354046 & 1.336477e-05 &  1.1565969 &  3.0503401\\\\\n",
       "\t Simultan & =\\textasciitilde{} & ma       & 1.2587811 & 0.2976830 & 4.228595 & 2.351548e-05 &  0.6753331 &  1.8422292\\\\\n",
       "\t Simultan & =\\textasciitilde{} & ps       & 1.7520898 & 0.3905795 & 4.485872 & 7.261622e-06 &  0.9865680 &  2.5176116\\\\\n",
       "\t hm       & \\textasciitilde{}\\textasciitilde{} & hm       & 7.8507750 & 0.8449706 & 9.291181 & 0.000000e+00 &  6.1946630 &  9.5068869\\\\\n",
       "\t nr       & \\textasciitilde{}\\textasciitilde{} & nr       & 1.8989188 & 0.4874537 & 3.895588 & 9.796073e-05 &  0.9435271 &  2.8543105\\\\\n",
       "\t wo       & \\textasciitilde{}\\textasciitilde{} & wo       & 2.7502708 & 0.7132588 & 3.855923 & 1.152939e-04 &  1.3523092 &  4.1482323\\\\\n",
       "\t gc       & \\textasciitilde{}\\textasciitilde{} & gc       & 5.4435171 & 0.5854830 & 9.297482 & 0.000000e+00 &  4.2959916 &  6.5910426\\\\\n",
       "\t tr       & \\textasciitilde{}\\textasciitilde{} & tr       & 3.5207608 & 0.4571204 & 7.702043 & 1.332268e-14 &  2.6248213 &  4.4167002\\\\\n",
       "\t sm       & \\textasciitilde{}\\textasciitilde{} & sm       & 9.7669919 & 1.1785787 & 8.287093 & 2.220446e-16 &  7.4570200 & 12.0769637\\\\\n",
       "\t ma       & \\textasciitilde{}\\textasciitilde{} & ma       & 5.0129076 & 0.5686560 & 8.815361 & 0.000000e+00 &  3.8983624 &  6.1274528\\\\\n",
       "\t ps       & \\textasciitilde{}\\textasciitilde{} & ps       & 3.5538129 & 0.5289941 & 6.718057 & 1.841638e-11 &  2.5170035 &  4.5906224\\\\\n",
       "\t Sequent  & \\textasciitilde{}\\textasciitilde{} & Sequent  & 0.7338316 & 0.4895799 & 1.498901 & 1.338994e-01 & -0.2257274 &  1.6933905\\\\\n",
       "\t Simultan & \\textasciitilde{}\\textasciitilde{} & Simultan & 1.7594443 & 0.7603419 & 2.314017 & 2.066678e-02 &  0.2692015 &  3.2496871\\\\\n",
       "\t Sequent  & \\textasciitilde{}\\textasciitilde{} & Simultan & 0.5790716 & 0.1780863 & 3.251635 & 1.147432e-03 &  0.2300289 &  0.9281142\\\\\n",
       "\\end{tabular}\n"
      ],
      "text/markdown": [
       "\n",
       "A lavaan.data.frame: 20 x 9\n",
       "\n",
       "| lhs &lt;chr&gt; | op &lt;chr&gt; | rhs &lt;chr&gt; | est &lt;dbl&gt; | se &lt;dbl&gt; | z &lt;dbl&gt; | pvalue &lt;dbl&gt; | ci.lower &lt;dbl&gt; | ci.upper &lt;dbl&gt; |\n",
       "|---|---|---|---|---|---|---|---|---|\n",
       "| Sequent  | =~ | hm       | 1.0000000 | 0.0000000 |       NA |           NA |  1.0000000 |  1.0000000 |\n",
       "| Sequent  | =~ | nr       | 2.2852332 | 0.7771491 | 2.940534 | 3.276473e-03 |  0.7620489 |  3.8084174 |\n",
       "| Sequent  | =~ | wo       | 2.7668158 | 0.9413238 | 2.939282 | 3.289738e-03 |  0.9218551 |  4.6117764 |\n",
       "| Simultan | =~ | hm       | 1.0000000 | 0.0000000 |       NA |           NA |  1.0000000 |  1.0000000 |\n",
       "| Simultan | =~ | gc       | 1.0142725 | 0.2548896 | 3.979261 | 6.912968e-05 |  0.5146980 |  1.5138470 |\n",
       "| Simultan | =~ | tr       | 1.4565607 | 0.3290001 | 4.427235 | 9.544855e-06 |  0.8117324 |  2.1013889 |\n",
       "| Simultan | =~ | sm       | 2.1034685 | 0.4831066 | 4.354046 | 1.336477e-05 |  1.1565969 |  3.0503401 |\n",
       "| Simultan | =~ | ma       | 1.2587811 | 0.2976830 | 4.228595 | 2.351548e-05 |  0.6753331 |  1.8422292 |\n",
       "| Simultan | =~ | ps       | 1.7520898 | 0.3905795 | 4.485872 | 7.261622e-06 |  0.9865680 |  2.5176116 |\n",
       "| hm       | ~~ | hm       | 7.8507750 | 0.8449706 | 9.291181 | 0.000000e+00 |  6.1946630 |  9.5068869 |\n",
       "| nr       | ~~ | nr       | 1.8989188 | 0.4874537 | 3.895588 | 9.796073e-05 |  0.9435271 |  2.8543105 |\n",
       "| wo       | ~~ | wo       | 2.7502708 | 0.7132588 | 3.855923 | 1.152939e-04 |  1.3523092 |  4.1482323 |\n",
       "| gc       | ~~ | gc       | 5.4435171 | 0.5854830 | 9.297482 | 0.000000e+00 |  4.2959916 |  6.5910426 |\n",
       "| tr       | ~~ | tr       | 3.5207608 | 0.4571204 | 7.702043 | 1.332268e-14 |  2.6248213 |  4.4167002 |\n",
       "| sm       | ~~ | sm       | 9.7669919 | 1.1785787 | 8.287093 | 2.220446e-16 |  7.4570200 | 12.0769637 |\n",
       "| ma       | ~~ | ma       | 5.0129076 | 0.5686560 | 8.815361 | 0.000000e+00 |  3.8983624 |  6.1274528 |\n",
       "| ps       | ~~ | ps       | 3.5538129 | 0.5289941 | 6.718057 | 1.841638e-11 |  2.5170035 |  4.5906224 |\n",
       "| Sequent  | ~~ | Sequent  | 0.7338316 | 0.4895799 | 1.498901 | 1.338994e-01 | -0.2257274 |  1.6933905 |\n",
       "| Simultan | ~~ | Simultan | 1.7594443 | 0.7603419 | 2.314017 | 2.066678e-02 |  0.2692015 |  3.2496871 |\n",
       "| Sequent  | ~~ | Simultan | 0.5790716 | 0.1780863 | 3.251635 | 1.147432e-03 |  0.2300289 |  0.9281142 |\n",
       "\n"
      ],
      "text/plain": [
       "   lhs      op rhs      est       se        z        pvalue      \n",
       "1  Sequent  =~ hm       1.0000000 0.0000000       NA           NA\n",
       "2  Sequent  =~ nr       2.2852332 0.7771491 2.940534 3.276473e-03\n",
       "3  Sequent  =~ wo       2.7668158 0.9413238 2.939282 3.289738e-03\n",
       "4  Simultan =~ hm       1.0000000 0.0000000       NA           NA\n",
       "5  Simultan =~ gc       1.0142725 0.2548896 3.979261 6.912968e-05\n",
       "6  Simultan =~ tr       1.4565607 0.3290001 4.427235 9.544855e-06\n",
       "7  Simultan =~ sm       2.1034685 0.4831066 4.354046 1.336477e-05\n",
       "8  Simultan =~ ma       1.2587811 0.2976830 4.228595 2.351548e-05\n",
       "9  Simultan =~ ps       1.7520898 0.3905795 4.485872 7.261622e-06\n",
       "10 hm       ~~ hm       7.8507750 0.8449706 9.291181 0.000000e+00\n",
       "11 nr       ~~ nr       1.8989188 0.4874537 3.895588 9.796073e-05\n",
       "12 wo       ~~ wo       2.7502708 0.7132588 3.855923 1.152939e-04\n",
       "13 gc       ~~ gc       5.4435171 0.5854830 9.297482 0.000000e+00\n",
       "14 tr       ~~ tr       3.5207608 0.4571204 7.702043 1.332268e-14\n",
       "15 sm       ~~ sm       9.7669919 1.1785787 8.287093 2.220446e-16\n",
       "16 ma       ~~ ma       5.0129076 0.5686560 8.815361 0.000000e+00\n",
       "17 ps       ~~ ps       3.5538129 0.5289941 6.718057 1.841638e-11\n",
       "18 Sequent  ~~ Sequent  0.7338316 0.4895799 1.498901 1.338994e-01\n",
       "19 Simultan ~~ Simultan 1.7594443 0.7603419 2.314017 2.066678e-02\n",
       "20 Sequent  ~~ Simultan 0.5790716 0.1780863 3.251635 1.147432e-03\n",
       "   ci.lower   ci.upper  \n",
       "1   1.0000000  1.0000000\n",
       "2   0.7620489  3.8084174\n",
       "3   0.9218551  4.6117764\n",
       "4   1.0000000  1.0000000\n",
       "5   0.5146980  1.5138470\n",
       "6   0.8117324  2.1013889\n",
       "7   1.1565969  3.0503401\n",
       "8   0.6753331  1.8422292\n",
       "9   0.9865680  2.5176116\n",
       "10  6.1946630  9.5068869\n",
       "11  0.9435271  2.8543105\n",
       "12  1.3523092  4.1482323\n",
       "13  4.2959916  6.5910426\n",
       "14  2.6248213  4.4167002\n",
       "15  7.4570200 12.0769637\n",
       "16  3.8983624  6.1274528\n",
       "17  2.5170035  4.5906224\n",
       "18 -0.2257274  1.6933905\n",
       "19  0.2692015  3.2496871\n",
       "20  0.2300289  0.9281142"
      ]
     },
     "metadata": {},
     "output_type": "display_data"
    }
   ],
   "source": [
    "lavaan::parameterEstimates(kabc3) "
   ]
  },
  {
   "cell_type": "markdown",
   "id": "6d17af08",
   "metadata": {},
   "source": [
    "Il modello così modificato fornisce un buon adattamento ai dati."
   ]
  },
  {
   "cell_type": "code",
   "execution_count": 27,
   "id": "cba5623a",
   "metadata": {
    "vscode": {
     "languageId": "r"
    }
   },
   "outputs": [
    {
     "data": {
      "text/html": [
       "<style>\n",
       ".dl-inline {width: auto; margin:0; padding: 0}\n",
       ".dl-inline>dt, .dl-inline>dd {float: none; width: auto; display: inline-block}\n",
       ".dl-inline>dt::after {content: \":\\0020\"; padding-right: .5ex}\n",
       ".dl-inline>dt:not(:first-of-type) {padding-left: .5ex}\n",
       "</style><dl class=dl-inline><dt>chisq</dt><dd>18.1076447310257</dd><dt>df</dt><dd>18</dd><dt>cfi</dt><dd>0.999771132448379</dd><dt>tli</dt><dd>0.99964398380859</dd><dt>rmsea</dt><dd>0.00546820941202999</dd><dt>srmr</dt><dd>0.0352903027571906</dd></dl>\n"
      ],
      "text/latex": [
       "\\begin{description*}\n",
       "\\item[chisq] 18.1076447310257\n",
       "\\item[df] 18\n",
       "\\item[cfi] 0.999771132448379\n",
       "\\item[tli] 0.99964398380859\n",
       "\\item[rmsea] 0.00546820941202999\n",
       "\\item[srmr] 0.0352903027571906\n",
       "\\end{description*}\n"
      ],
      "text/markdown": [
       "chisq\n",
       ":   18.1076447310257df\n",
       ":   18cfi\n",
       ":   0.999771132448379tli\n",
       ":   0.99964398380859rmsea\n",
       ":   0.00546820941202999srmr\n",
       ":   0.0352903027571906\n",
       "\n"
      ],
      "text/plain": [
       " chisq     df    cfi    tli  rmsea   srmr \n",
       "18.108 18.000  1.000  1.000  0.005  0.035 "
      ]
     },
     "metadata": {},
     "output_type": "display_data"
    }
   ],
   "source": [
    "fitMeasures(kabc3, c(\"chisq\", \"df\", \"cfi\", \"tli\", \"rmsea\", \"srmr\")) "
   ]
  },
  {
   "cell_type": "code",
   "execution_count": 28,
   "id": "760b049d",
   "metadata": {
    "vscode": {
     "languageId": "r"
    }
   },
   "outputs": [
    {
     "data": {
      "text/html": [
       "<dl>\n",
       "\t<dt>$type</dt>\n",
       "\t\t<dd>'standardized.mplus'</dd>\n",
       "\t<dt>$cov</dt>\n",
       "\t\t<dd><table class=\"dataframe\">\n",
       "<caption>A lavaan.matrix.symmetric: 8 x 8 of type dbl</caption>\n",
       "<thead>\n",
       "\t<tr><th></th><th scope=col>hm</th><th scope=col>nr</th><th scope=col>wo</th><th scope=col>gc</th><th scope=col>tr</th><th scope=col>sm</th><th scope=col>ma</th><th scope=col>ps</th></tr>\n",
       "</thead>\n",
       "<tbody>\n",
       "\t<tr><th scope=row>hm</th><td> 6.023887e-06</td><td> 1.165198e+00</td><td>-1.636709e+00</td><td>-1.065997e+00</td><td>-1.709965e+00</td><td> 1.325031e+00</td><td> 1.729549e+00</td><td>-0.511565953</td></tr>\n",
       "\t<tr><th scope=row>nr</th><td> 1.165198e+00</td><td>-4.958870e-07</td><td>-2.989195e-07</td><td>-1.919329e+00</td><td>-7.634603e-01</td><td> 2.866983e-01</td><td> 1.427665e+00</td><td>-1.059404206</td></tr>\n",
       "\t<tr><th scope=row>wo</th><td>-1.636709e+00</td><td>-2.989195e-07</td><td> 7.382537e-07</td><td>-9.387584e-01</td><td>-2.473958e-01</td><td> 4.443780e-02</td><td> 1.029014e+00</td><td> 1.284912040</td></tr>\n",
       "\t<tr><th scope=row>gc</th><td>-1.065997e+00</td><td>-1.919329e+00</td><td>-9.387584e-01</td><td> 6.890725e-06</td><td> 6.026587e-01</td><td>-8.665013e-01</td><td> 2.578925e-01</td><td> 1.034770669</td></tr>\n",
       "\t<tr><th scope=row>tr</th><td>-1.709965e+00</td><td>-7.634603e-01</td><td>-2.473958e-01</td><td> 6.026587e-01</td><td> 6.776975e-06</td><td>-3.044029e-01</td><td>-2.984495e-01</td><td> 1.087983988</td></tr>\n",
       "\t<tr><th scope=row>sm</th><td> 1.325031e+00</td><td> 2.866983e-01</td><td> 4.443780e-02</td><td>-8.665013e-01</td><td>-3.044029e-01</td><td> 6.851530e-06</td><td> 3.381911e-01</td><td>-0.360500264</td></tr>\n",
       "\t<tr><th scope=row>ma</th><td> 1.729549e+00</td><td> 1.427665e+00</td><td> 1.029014e+00</td><td> 2.578925e-01</td><td>-2.984495e-01</td><td> 3.381911e-01</td><td> 2.356012e-07</td><td>-2.180947375</td></tr>\n",
       "\t<tr><th scope=row>ps</th><td>-5.115660e-01</td><td>-1.059404e+00</td><td> 1.284912e+00</td><td> 1.034771e+00</td><td> 1.087984e+00</td><td>-3.605003e-01</td><td>-2.180947e+00</td><td> 0.008196077</td></tr>\n",
       "</tbody>\n",
       "</table>\n",
       "</dd>\n",
       "</dl>\n"
      ],
      "text/latex": [
       "\\begin{description}\n",
       "\\item[\\$type] 'standardized.mplus'\n",
       "\\item[\\$cov] A lavaan.matrix.symmetric: 8 x 8 of type dbl\n",
       "\\begin{tabular}{r|llllllll}\n",
       "  & hm & nr & wo & gc & tr & sm & ma & ps\\\\\n",
       "\\hline\n",
       "\thm &  6.023887e-06 &  1.165198e+00 & -1.636709e+00 & -1.065997e+00 & -1.709965e+00 &  1.325031e+00 &  1.729549e+00 & -0.511565953\\\\\n",
       "\tnr &  1.165198e+00 & -4.958870e-07 & -2.989195e-07 & -1.919329e+00 & -7.634603e-01 &  2.866983e-01 &  1.427665e+00 & -1.059404206\\\\\n",
       "\two & -1.636709e+00 & -2.989195e-07 &  7.382537e-07 & -9.387584e-01 & -2.473958e-01 &  4.443780e-02 &  1.029014e+00 &  1.284912040\\\\\n",
       "\tgc & -1.065997e+00 & -1.919329e+00 & -9.387584e-01 &  6.890725e-06 &  6.026587e-01 & -8.665013e-01 &  2.578925e-01 &  1.034770669\\\\\n",
       "\ttr & -1.709965e+00 & -7.634603e-01 & -2.473958e-01 &  6.026587e-01 &  6.776975e-06 & -3.044029e-01 & -2.984495e-01 &  1.087983988\\\\\n",
       "\tsm &  1.325031e+00 &  2.866983e-01 &  4.443780e-02 & -8.665013e-01 & -3.044029e-01 &  6.851530e-06 &  3.381911e-01 & -0.360500264\\\\\n",
       "\tma &  1.729549e+00 &  1.427665e+00 &  1.029014e+00 &  2.578925e-01 & -2.984495e-01 &  3.381911e-01 &  2.356012e-07 & -2.180947375\\\\\n",
       "\tps & -5.115660e-01 & -1.059404e+00 &  1.284912e+00 &  1.034771e+00 &  1.087984e+00 & -3.605003e-01 & -2.180947e+00 &  0.008196077\\\\\n",
       "\\end{tabular}\n",
       "\n",
       "\\end{description}\n"
      ],
      "text/markdown": [
       "$type\n",
       ":   'standardized.mplus'\n",
       "$cov\n",
       ":   \n",
       "A lavaan.matrix.symmetric: 8 x 8 of type dbl\n",
       "\n",
       "| <!--/--> | hm | nr | wo | gc | tr | sm | ma | ps |\n",
       "|---|---|---|---|---|---|---|---|---|\n",
       "| hm |  6.023887e-06 |  1.165198e+00 | -1.636709e+00 | -1.065997e+00 | -1.709965e+00 |  1.325031e+00 |  1.729549e+00 | -0.511565953 |\n",
       "| nr |  1.165198e+00 | -4.958870e-07 | -2.989195e-07 | -1.919329e+00 | -7.634603e-01 |  2.866983e-01 |  1.427665e+00 | -1.059404206 |\n",
       "| wo | -1.636709e+00 | -2.989195e-07 |  7.382537e-07 | -9.387584e-01 | -2.473958e-01 |  4.443780e-02 |  1.029014e+00 |  1.284912040 |\n",
       "| gc | -1.065997e+00 | -1.919329e+00 | -9.387584e-01 |  6.890725e-06 |  6.026587e-01 | -8.665013e-01 |  2.578925e-01 |  1.034770669 |\n",
       "| tr | -1.709965e+00 | -7.634603e-01 | -2.473958e-01 |  6.026587e-01 |  6.776975e-06 | -3.044029e-01 | -2.984495e-01 |  1.087983988 |\n",
       "| sm |  1.325031e+00 |  2.866983e-01 |  4.443780e-02 | -8.665013e-01 | -3.044029e-01 |  6.851530e-06 |  3.381911e-01 | -0.360500264 |\n",
       "| ma |  1.729549e+00 |  1.427665e+00 |  1.029014e+00 |  2.578925e-01 | -2.984495e-01 |  3.381911e-01 |  2.356012e-07 | -2.180947375 |\n",
       "| ps | -5.115660e-01 | -1.059404e+00 |  1.284912e+00 |  1.034771e+00 |  1.087984e+00 | -3.605003e-01 | -2.180947e+00 |  0.008196077 |\n",
       "\n",
       "\n",
       "\n",
       "\n"
      ],
      "text/plain": [
       "$type\n",
       "[1] \"standardized.mplus\"\n",
       "\n",
       "$cov\n",
       "       hm     nr     wo     gc     tr     sm     ma     ps\n",
       "hm  0.000                                                 \n",
       "nr  1.165  0.000                                          \n",
       "wo -1.637  0.000  0.000                                   \n",
       "gc -1.066 -1.919 -0.939  0.000                            \n",
       "tr -1.710 -0.763 -0.247  0.603  0.000                     \n",
       "sm  1.325  0.287  0.044 -0.867 -0.304  0.000              \n",
       "ma  1.730  1.428  1.029  0.258 -0.298  0.338  0.000       \n",
       "ps -0.512 -1.059  1.285  1.035  1.088 -0.361 -2.181  0.008\n"
      ]
     },
     "metadata": {},
     "output_type": "display_data"
    }
   ],
   "source": [
    "lavaan::residuals(kabc3, type = \"standardized.mplus\") "
   ]
  },
  {
   "cell_type": "markdown",
   "id": "94193a0e",
   "metadata": {},
   "source": [
    "Eseguiamo il confronto tra questo terzo modello e il secondo."
   ]
  },
  {
   "cell_type": "code",
   "execution_count": 29,
   "id": "badbb14b",
   "metadata": {
    "vscode": {
     "languageId": "r"
    }
   },
   "outputs": [
    {
     "data": {
      "text/html": [
       "<table class=\"dataframe\">\n",
       "<caption>A anova: 2 x 8</caption>\n",
       "<thead>\n",
       "\t<tr><th></th><th scope=col>Df</th><th scope=col>AIC</th><th scope=col>BIC</th><th scope=col>Chisq</th><th scope=col>Chisq diff</th><th scope=col>RMSEA</th><th scope=col>Df diff</th><th scope=col>Pr(&gt;Chisq)</th></tr>\n",
       "\t<tr><th></th><th scope=col>&lt;int&gt;</th><th scope=col>&lt;dbl&gt;</th><th scope=col>&lt;dbl&gt;</th><th scope=col>&lt;dbl&gt;</th><th scope=col>&lt;dbl&gt;</th><th scope=col>&lt;dbl&gt;</th><th scope=col>&lt;int&gt;</th><th scope=col>&lt;dbl&gt;</th></tr>\n",
       "</thead>\n",
       "<tbody>\n",
       "\t<tr><th scope=row>kabc3</th><td>18</td><td>7573.864</td><td>7633.234</td><td>18.10764</td><td>      NA</td><td>       NA</td><td>NA</td><td>          NA</td></tr>\n",
       "\t<tr><th scope=row>kabc2</th><td>19</td><td>7592.082</td><td>7648.153</td><td>38.32476</td><td>20.21711</td><td>0.3099767</td><td> 1</td><td>6.913179e-06</td></tr>\n",
       "</tbody>\n",
       "</table>\n"
      ],
      "text/latex": [
       "A anova: 2 x 8\n",
       "\\begin{tabular}{r|llllllll}\n",
       "  & Df & AIC & BIC & Chisq & Chisq diff & RMSEA & Df diff & Pr(>Chisq)\\\\\n",
       "  & <int> & <dbl> & <dbl> & <dbl> & <dbl> & <dbl> & <int> & <dbl>\\\\\n",
       "\\hline\n",
       "\tkabc3 & 18 & 7573.864 & 7633.234 & 18.10764 &       NA &        NA & NA &           NA\\\\\n",
       "\tkabc2 & 19 & 7592.082 & 7648.153 & 38.32476 & 20.21711 & 0.3099767 &  1 & 6.913179e-06\\\\\n",
       "\\end{tabular}\n"
      ],
      "text/markdown": [
       "\n",
       "A anova: 2 x 8\n",
       "\n",
       "| <!--/--> | Df &lt;int&gt; | AIC &lt;dbl&gt; | BIC &lt;dbl&gt; | Chisq &lt;dbl&gt; | Chisq diff &lt;dbl&gt; | RMSEA &lt;dbl&gt; | Df diff &lt;int&gt; | Pr(&gt;Chisq) &lt;dbl&gt; |\n",
       "|---|---|---|---|---|---|---|---|---|\n",
       "| kabc3 | 18 | 7573.864 | 7633.234 | 18.10764 |       NA |        NA | NA |           NA |\n",
       "| kabc2 | 19 | 7592.082 | 7648.153 | 38.32476 | 20.21711 | 0.3099767 |  1 | 6.913179e-06 |\n",
       "\n"
      ],
      "text/plain": [
       "      Df AIC      BIC      Chisq    Chisq diff RMSEA     Df diff\n",
       "kabc3 18 7573.864 7633.234 18.10764       NA          NA NA     \n",
       "kabc2 19 7592.082 7648.153 38.32476 20.21711   0.3099767  1     \n",
       "      Pr(>Chisq)  \n",
       "kabc3           NA\n",
       "kabc2 6.913179e-06"
      ]
     },
     "metadata": {},
     "output_type": "display_data"
    }
   ],
   "source": [
    "lavTestLRT(kabc2, kabc3)"
   ]
  },
  {
   "cell_type": "markdown",
   "id": "20047297",
   "metadata": {},
   "source": [
    "Il test del rapporto tra verosimiglianze favorisce il modello nel quale `hm` satura su entrambi i fattori comuni."
   ]
  },
  {
   "cell_type": "code",
   "execution_count": 30,
   "id": "e51a1585",
   "metadata": {
    "vscode": {
     "languageId": "r"
    }
   },
   "outputs": [
    {
     "data": {
      "text/html": [
       "<table class=\"dataframe\">\n",
       "<caption>A lavaan.data.frame: 20 x 9</caption>\n",
       "<thead>\n",
       "\t<tr><th scope=col>lhs</th><th scope=col>op</th><th scope=col>rhs</th><th scope=col>est.std</th><th scope=col>se</th><th scope=col>z</th><th scope=col>pvalue</th><th scope=col>ci.lower</th><th scope=col>ci.upper</th></tr>\n",
       "\t<tr><th scope=col>&lt;chr&gt;</th><th scope=col>&lt;chr&gt;</th><th scope=col>&lt;chr&gt;</th><th scope=col>&lt;dbl&gt;</th><th scope=col>&lt;dbl&gt;</th><th scope=col>&lt;dbl&gt;</th><th scope=col>&lt;dbl&gt;</th><th scope=col>&lt;dbl&gt;</th><th scope=col>&lt;dbl&gt;</th></tr>\n",
       "</thead>\n",
       "<tbody>\n",
       "\t<tr><td>Sequent </td><td>=~</td><td>hm      </td><td>0.2525852</td><td>0.08220770</td><td> 3.072524</td><td>2.122564e-03</td><td>0.09146104</td><td>0.4137093</td></tr>\n",
       "\t<tr><td>Sequent </td><td>=~</td><td>nr      </td><td>0.8177224</td><td>0.05332037</td><td>15.336023</td><td>0.000000e+00</td><td>0.71321642</td><td>0.9222284</td></tr>\n",
       "\t<tr><td>Sequent </td><td>=~</td><td>wo      </td><td>0.8193490</td><td>0.05332364</td><td>15.365586</td><td>0.000000e+00</td><td>0.71483657</td><td>0.9238614</td></tr>\n",
       "\t<tr><td>Simultan</td><td>=~</td><td>hm      </td><td>0.3911086</td><td>0.07920465</td><td> 4.937950</td><td>7.894795e-07</td><td>0.23587038</td><td>0.5463469</td></tr>\n",
       "\t<tr><td>Simultan</td><td>=~</td><td>gc      </td><td>0.4995366</td><td>0.06083478</td><td> 8.211366</td><td>2.220446e-16</td><td>0.38030263</td><td>0.6187706</td></tr>\n",
       "\t<tr><td>Simultan</td><td>=~</td><td>tr      </td><td>0.7173667</td><td>0.04430392</td><td>16.191948</td><td>0.000000e+00</td><td>0.63053266</td><td>0.8042008</td></tr>\n",
       "\t<tr><td>Simultan</td><td>=~</td><td>sm      </td><td>0.6659828</td><td>0.04841875</td><td>13.754648</td><td>0.000000e+00</td><td>0.57108381</td><td>0.7608818</td></tr>\n",
       "\t<tr><td>Simultan</td><td>=~</td><td>ma      </td><td>0.5978172</td><td>0.05378964</td><td>11.113985</td><td>0.000000e+00</td><td>0.49239147</td><td>0.7032430</td></tr>\n",
       "\t<tr><td>Simultan</td><td>=~</td><td>ps      </td><td>0.7766255</td><td>0.03976264</td><td>19.531536</td><td>0.000000e+00</td><td>0.69869211</td><td>0.8545588</td></tr>\n",
       "\t<tr><td>hm      </td><td>~~</td><td>hm      </td><td>0.6825459</td><td>0.06079286</td><td>11.227403</td><td>0.000000e+00</td><td>0.56339406</td><td>0.8016977</td></tr>\n",
       "\t<tr><td>nr      </td><td>~~</td><td>nr      </td><td>0.3313300</td><td>0.08720253</td><td> 3.799546</td><td>1.449613e-04</td><td>0.16041622</td><td>0.5022438</td></tr>\n",
       "\t<tr><td>wo      </td><td>~~</td><td>wo      </td><td>0.3286672</td><td>0.08738134</td><td> 3.761298</td><td>1.690341e-04</td><td>0.15740296</td><td>0.4999315</td></tr>\n",
       "\t<tr><td>gc      </td><td>~~</td><td>gc      </td><td>0.7504632</td><td>0.06077839</td><td>12.347532</td><td>0.000000e+00</td><td>0.63133972</td><td>0.8695867</td></tr>\n",
       "\t<tr><td>tr      </td><td>~~</td><td>tr      </td><td>0.4853850</td><td>0.06356431</td><td> 7.636123</td><td>2.242651e-14</td><td>0.36080119</td><td>0.6099687</td></tr>\n",
       "\t<tr><td>sm      </td><td>~~</td><td>sm      </td><td>0.5564669</td><td>0.06449211</td><td> 8.628450</td><td>0.000000e+00</td><td>0.43006469</td><td>0.6828691</td></tr>\n",
       "\t<tr><td>ma      </td><td>~~</td><td>ma      </td><td>0.6426146</td><td>0.06431274</td><td> 9.992026</td><td>0.000000e+00</td><td>0.51656392</td><td>0.7686652</td></tr>\n",
       "\t<tr><td>ps      </td><td>~~</td><td>ps      </td><td>0.3968529</td><td>0.06176136</td><td> 6.425586</td><td>1.313629e-10</td><td>0.27580286</td><td>0.5179029</td></tr>\n",
       "\t<tr><td>Sequent </td><td>~~</td><td>Sequent </td><td>1.0000000</td><td>0.00000000</td><td>       NA</td><td>          NA</td><td>1.00000000</td><td>1.0000000</td></tr>\n",
       "\t<tr><td>Simultan</td><td>~~</td><td>Simultan</td><td>1.0000000</td><td>0.00000000</td><td>       NA</td><td>          NA</td><td>1.00000000</td><td>1.0000000</td></tr>\n",
       "\t<tr><td>Sequent </td><td>~~</td><td>Simultan</td><td>0.5096198</td><td>0.07025684</td><td> 7.253668</td><td>4.056755e-13</td><td>0.37191892</td><td>0.6473207</td></tr>\n",
       "</tbody>\n",
       "</table>\n"
      ],
      "text/latex": [
       "A lavaan.data.frame: 20 x 9\n",
       "\\begin{tabular}{lllllllll}\n",
       " lhs & op & rhs & est.std & se & z & pvalue & ci.lower & ci.upper\\\\\n",
       " <chr> & <chr> & <chr> & <dbl> & <dbl> & <dbl> & <dbl> & <dbl> & <dbl>\\\\\n",
       "\\hline\n",
       "\t Sequent  & =\\textasciitilde{} & hm       & 0.2525852 & 0.08220770 &  3.072524 & 2.122564e-03 & 0.09146104 & 0.4137093\\\\\n",
       "\t Sequent  & =\\textasciitilde{} & nr       & 0.8177224 & 0.05332037 & 15.336023 & 0.000000e+00 & 0.71321642 & 0.9222284\\\\\n",
       "\t Sequent  & =\\textasciitilde{} & wo       & 0.8193490 & 0.05332364 & 15.365586 & 0.000000e+00 & 0.71483657 & 0.9238614\\\\\n",
       "\t Simultan & =\\textasciitilde{} & hm       & 0.3911086 & 0.07920465 &  4.937950 & 7.894795e-07 & 0.23587038 & 0.5463469\\\\\n",
       "\t Simultan & =\\textasciitilde{} & gc       & 0.4995366 & 0.06083478 &  8.211366 & 2.220446e-16 & 0.38030263 & 0.6187706\\\\\n",
       "\t Simultan & =\\textasciitilde{} & tr       & 0.7173667 & 0.04430392 & 16.191948 & 0.000000e+00 & 0.63053266 & 0.8042008\\\\\n",
       "\t Simultan & =\\textasciitilde{} & sm       & 0.6659828 & 0.04841875 & 13.754648 & 0.000000e+00 & 0.57108381 & 0.7608818\\\\\n",
       "\t Simultan & =\\textasciitilde{} & ma       & 0.5978172 & 0.05378964 & 11.113985 & 0.000000e+00 & 0.49239147 & 0.7032430\\\\\n",
       "\t Simultan & =\\textasciitilde{} & ps       & 0.7766255 & 0.03976264 & 19.531536 & 0.000000e+00 & 0.69869211 & 0.8545588\\\\\n",
       "\t hm       & \\textasciitilde{}\\textasciitilde{} & hm       & 0.6825459 & 0.06079286 & 11.227403 & 0.000000e+00 & 0.56339406 & 0.8016977\\\\\n",
       "\t nr       & \\textasciitilde{}\\textasciitilde{} & nr       & 0.3313300 & 0.08720253 &  3.799546 & 1.449613e-04 & 0.16041622 & 0.5022438\\\\\n",
       "\t wo       & \\textasciitilde{}\\textasciitilde{} & wo       & 0.3286672 & 0.08738134 &  3.761298 & 1.690341e-04 & 0.15740296 & 0.4999315\\\\\n",
       "\t gc       & \\textasciitilde{}\\textasciitilde{} & gc       & 0.7504632 & 0.06077839 & 12.347532 & 0.000000e+00 & 0.63133972 & 0.8695867\\\\\n",
       "\t tr       & \\textasciitilde{}\\textasciitilde{} & tr       & 0.4853850 & 0.06356431 &  7.636123 & 2.242651e-14 & 0.36080119 & 0.6099687\\\\\n",
       "\t sm       & \\textasciitilde{}\\textasciitilde{} & sm       & 0.5564669 & 0.06449211 &  8.628450 & 0.000000e+00 & 0.43006469 & 0.6828691\\\\\n",
       "\t ma       & \\textasciitilde{}\\textasciitilde{} & ma       & 0.6426146 & 0.06431274 &  9.992026 & 0.000000e+00 & 0.51656392 & 0.7686652\\\\\n",
       "\t ps       & \\textasciitilde{}\\textasciitilde{} & ps       & 0.3968529 & 0.06176136 &  6.425586 & 1.313629e-10 & 0.27580286 & 0.5179029\\\\\n",
       "\t Sequent  & \\textasciitilde{}\\textasciitilde{} & Sequent  & 1.0000000 & 0.00000000 &        NA &           NA & 1.00000000 & 1.0000000\\\\\n",
       "\t Simultan & \\textasciitilde{}\\textasciitilde{} & Simultan & 1.0000000 & 0.00000000 &        NA &           NA & 1.00000000 & 1.0000000\\\\\n",
       "\t Sequent  & \\textasciitilde{}\\textasciitilde{} & Simultan & 0.5096198 & 0.07025684 &  7.253668 & 4.056755e-13 & 0.37191892 & 0.6473207\\\\\n",
       "\\end{tabular}\n"
      ],
      "text/markdown": [
       "\n",
       "A lavaan.data.frame: 20 x 9\n",
       "\n",
       "| lhs &lt;chr&gt; | op &lt;chr&gt; | rhs &lt;chr&gt; | est.std &lt;dbl&gt; | se &lt;dbl&gt; | z &lt;dbl&gt; | pvalue &lt;dbl&gt; | ci.lower &lt;dbl&gt; | ci.upper &lt;dbl&gt; |\n",
       "|---|---|---|---|---|---|---|---|---|\n",
       "| Sequent  | =~ | hm       | 0.2525852 | 0.08220770 |  3.072524 | 2.122564e-03 | 0.09146104 | 0.4137093 |\n",
       "| Sequent  | =~ | nr       | 0.8177224 | 0.05332037 | 15.336023 | 0.000000e+00 | 0.71321642 | 0.9222284 |\n",
       "| Sequent  | =~ | wo       | 0.8193490 | 0.05332364 | 15.365586 | 0.000000e+00 | 0.71483657 | 0.9238614 |\n",
       "| Simultan | =~ | hm       | 0.3911086 | 0.07920465 |  4.937950 | 7.894795e-07 | 0.23587038 | 0.5463469 |\n",
       "| Simultan | =~ | gc       | 0.4995366 | 0.06083478 |  8.211366 | 2.220446e-16 | 0.38030263 | 0.6187706 |\n",
       "| Simultan | =~ | tr       | 0.7173667 | 0.04430392 | 16.191948 | 0.000000e+00 | 0.63053266 | 0.8042008 |\n",
       "| Simultan | =~ | sm       | 0.6659828 | 0.04841875 | 13.754648 | 0.000000e+00 | 0.57108381 | 0.7608818 |\n",
       "| Simultan | =~ | ma       | 0.5978172 | 0.05378964 | 11.113985 | 0.000000e+00 | 0.49239147 | 0.7032430 |\n",
       "| Simultan | =~ | ps       | 0.7766255 | 0.03976264 | 19.531536 | 0.000000e+00 | 0.69869211 | 0.8545588 |\n",
       "| hm       | ~~ | hm       | 0.6825459 | 0.06079286 | 11.227403 | 0.000000e+00 | 0.56339406 | 0.8016977 |\n",
       "| nr       | ~~ | nr       | 0.3313300 | 0.08720253 |  3.799546 | 1.449613e-04 | 0.16041622 | 0.5022438 |\n",
       "| wo       | ~~ | wo       | 0.3286672 | 0.08738134 |  3.761298 | 1.690341e-04 | 0.15740296 | 0.4999315 |\n",
       "| gc       | ~~ | gc       | 0.7504632 | 0.06077839 | 12.347532 | 0.000000e+00 | 0.63133972 | 0.8695867 |\n",
       "| tr       | ~~ | tr       | 0.4853850 | 0.06356431 |  7.636123 | 2.242651e-14 | 0.36080119 | 0.6099687 |\n",
       "| sm       | ~~ | sm       | 0.5564669 | 0.06449211 |  8.628450 | 0.000000e+00 | 0.43006469 | 0.6828691 |\n",
       "| ma       | ~~ | ma       | 0.6426146 | 0.06431274 |  9.992026 | 0.000000e+00 | 0.51656392 | 0.7686652 |\n",
       "| ps       | ~~ | ps       | 0.3968529 | 0.06176136 |  6.425586 | 1.313629e-10 | 0.27580286 | 0.5179029 |\n",
       "| Sequent  | ~~ | Sequent  | 1.0000000 | 0.00000000 |        NA |           NA | 1.00000000 | 1.0000000 |\n",
       "| Simultan | ~~ | Simultan | 1.0000000 | 0.00000000 |        NA |           NA | 1.00000000 | 1.0000000 |\n",
       "| Sequent  | ~~ | Simultan | 0.5096198 | 0.07025684 |  7.253668 | 4.056755e-13 | 0.37191892 | 0.6473207 |\n",
       "\n"
      ],
      "text/plain": [
       "   lhs      op rhs      est.std   se         z         pvalue      \n",
       "1  Sequent  =~ hm       0.2525852 0.08220770  3.072524 2.122564e-03\n",
       "2  Sequent  =~ nr       0.8177224 0.05332037 15.336023 0.000000e+00\n",
       "3  Sequent  =~ wo       0.8193490 0.05332364 15.365586 0.000000e+00\n",
       "4  Simultan =~ hm       0.3911086 0.07920465  4.937950 7.894795e-07\n",
       "5  Simultan =~ gc       0.4995366 0.06083478  8.211366 2.220446e-16\n",
       "6  Simultan =~ tr       0.7173667 0.04430392 16.191948 0.000000e+00\n",
       "7  Simultan =~ sm       0.6659828 0.04841875 13.754648 0.000000e+00\n",
       "8  Simultan =~ ma       0.5978172 0.05378964 11.113985 0.000000e+00\n",
       "9  Simultan =~ ps       0.7766255 0.03976264 19.531536 0.000000e+00\n",
       "10 hm       ~~ hm       0.6825459 0.06079286 11.227403 0.000000e+00\n",
       "11 nr       ~~ nr       0.3313300 0.08720253  3.799546 1.449613e-04\n",
       "12 wo       ~~ wo       0.3286672 0.08738134  3.761298 1.690341e-04\n",
       "13 gc       ~~ gc       0.7504632 0.06077839 12.347532 0.000000e+00\n",
       "14 tr       ~~ tr       0.4853850 0.06356431  7.636123 2.242651e-14\n",
       "15 sm       ~~ sm       0.5564669 0.06449211  8.628450 0.000000e+00\n",
       "16 ma       ~~ ma       0.6426146 0.06431274  9.992026 0.000000e+00\n",
       "17 ps       ~~ ps       0.3968529 0.06176136  6.425586 1.313629e-10\n",
       "18 Sequent  ~~ Sequent  1.0000000 0.00000000        NA           NA\n",
       "19 Simultan ~~ Simultan 1.0000000 0.00000000        NA           NA\n",
       "20 Sequent  ~~ Simultan 0.5096198 0.07025684  7.253668 4.056755e-13\n",
       "   ci.lower   ci.upper \n",
       "1  0.09146104 0.4137093\n",
       "2  0.71321642 0.9222284\n",
       "3  0.71483657 0.9238614\n",
       "4  0.23587038 0.5463469\n",
       "5  0.38030263 0.6187706\n",
       "6  0.63053266 0.8042008\n",
       "7  0.57108381 0.7608818\n",
       "8  0.49239147 0.7032430\n",
       "9  0.69869211 0.8545588\n",
       "10 0.56339406 0.8016977\n",
       "11 0.16041622 0.5022438\n",
       "12 0.15740296 0.4999315\n",
       "13 0.63133972 0.8695867\n",
       "14 0.36080119 0.6099687\n",
       "15 0.43006469 0.6828691\n",
       "16 0.51656392 0.7686652\n",
       "17 0.27580286 0.5179029\n",
       "18 1.00000000 1.0000000\n",
       "19 1.00000000 1.0000000\n",
       "20 0.37191892 0.6473207"
      ]
     },
     "metadata": {},
     "output_type": "display_data"
    }
   ],
   "source": [
    "standardizedSolution(kabc3)"
   ]
  },
  {
   "cell_type": "code",
   "execution_count": 31,
   "id": "a1d4f252",
   "metadata": {
    "vscode": {
     "languageId": "r"
    }
   },
   "outputs": [
    {
     "data": {
      "image/png": "[encoded data removed]",
      "text/plain": [
       "plot without title"
      ]
     },
     "metadata": {
      "image/png": {
       "height": 296.6563,
       "width": 480
      }
     },
     "output_type": "display_data"
    }
   ],
   "source": [
    "semPlot::semPaths(kabc3,\n",
    "    what = \"col\", whatLabels = \"std\", style = \"mx\",\n",
    "    layout = \"tree2\", nCharNodes = 7,\n",
    "    shapeMan = \"rectangle\", sizeMan = 8, sizeMan2 = 5\n",
    ")"
   ]
  },
  {
   "cell_type": "markdown",
   "id": "17cae8fb",
   "metadata": {},
   "source": [
    "Nei modelli precedenti, abbiamo adottato un metodo di scalatura dei fattori comuni che fissava la saturazione fattoriale di uno degli indicatori per ciascun fattore comune a 1.0 come riferimento. Ora, esploreremo un diverso approccio di scalatura che prevede la standardizzazione della varianza delle variabili latenti.\n",
    "\n",
    "Per attuare questa procedura nel software `lavaan`, è necessario modificare la configurazione predefinita in cui la saturazione fattoriale del primo indicatore di ogni fattore comune è fissata a 1.0. Per fare ciò, useremo la sintassi `NA*` per indicare che la saturazione fattoriale del primo indicatore deve essere stimata. Questo si realizza inserendo `NA*` nell'istruzione che definisce la relazione tra le variabili latenti e gli indicatori (espresso tramite `=~`). Inoltre, è fondamentale specificare che la varianza delle variabili latenti sia fissata a 1.0, il che si attua mediante la sintassi `1*` nell'istruzione che stabilisce la varianza di ciascun fattore comune (`~~`)."
   ]
  },
  {
   "cell_type": "code",
   "execution_count": 32,
   "id": "f6757a0e",
   "metadata": {
    "vscode": {
     "languageId": "r"
    }
   },
   "outputs": [],
   "source": [
    "kabc3alt_model <- \"\n",
    "    Sequent =~ NA*hm + nr + wo\n",
    "    Simultan =~ NA*hm + gc + tr + sm + ma + ps\n",
    "\n",
    "    Sequent ~~ 1*Sequent\n",
    "    Simultan ~~ 1*Simultan\n",
    "\""
   ]
  },
  {
   "cell_type": "markdown",
   "id": "83528590",
   "metadata": {},
   "source": [
    "Adattiamo il modello così parametrizzato ai dati."
   ]
  },
  {
   "cell_type": "code",
   "execution_count": 33,
   "id": "385cb529",
   "metadata": {
    "vscode": {
     "languageId": "r"
    }
   },
   "outputs": [],
   "source": [
    "kabc3alt <- lavaan::sem(\n",
    "    kabc3alt_model, sample.cov = kabc.cov, sample.nobs = 200, std.lv = TRUE\n",
    ")"
   ]
  },
  {
   "cell_type": "markdown",
   "id": "cbcadf55",
   "metadata": {},
   "source": [
    "Esaminiamo la soluzione non standardizzata."
   ]
  },
  {
   "cell_type": "code",
   "execution_count": 34,
   "id": "7c36f78d",
   "metadata": {
    "vscode": {
     "languageId": "r"
    }
   },
   "outputs": [
    {
     "data": {
      "image/png": "[encoded data removed]",
      "text/plain": [
       "plot without title"
      ]
     },
     "metadata": {
      "image/png": {
       "height": 296.6563,
       "width": 480
      }
     },
     "output_type": "display_data"
    }
   ],
   "source": [
    "semPlot::semPaths(kabc3alt,\n",
    "    what = \"col\", whatLabels = \"par\", style = \"mx\", \n",
    "    layout = \"tree2\", nCharNodes = 7,\n",
    "    shapeMan = \"rectangle\", sizeMan = 8, sizeMan2 = 5\n",
    ")"
   ]
  },
  {
   "cell_type": "markdown",
   "id": "71bddbd9",
   "metadata": {},
   "source": [
    "Esaminiamo la soluzione stanardizzata."
   ]
  },
  {
   "cell_type": "code",
   "execution_count": 35,
   "id": "27c6d3a2",
   "metadata": {
    "vscode": {
     "languageId": "r"
    }
   },
   "outputs": [
    {
     "data": {
      "text/html": [
       "<table class=\"dataframe\">\n",
       "<caption>A lavaan.data.frame: 20 x 9</caption>\n",
       "<thead>\n",
       "\t<tr><th scope=col>lhs</th><th scope=col>op</th><th scope=col>rhs</th><th scope=col>est.std</th><th scope=col>se</th><th scope=col>z</th><th scope=col>pvalue</th><th scope=col>ci.lower</th><th scope=col>ci.upper</th></tr>\n",
       "\t<tr><th scope=col>&lt;chr&gt;</th><th scope=col>&lt;chr&gt;</th><th scope=col>&lt;chr&gt;</th><th scope=col>&lt;dbl&gt;</th><th scope=col>&lt;dbl&gt;</th><th scope=col>&lt;dbl&gt;</th><th scope=col>&lt;dbl&gt;</th><th scope=col>&lt;dbl&gt;</th><th scope=col>&lt;dbl&gt;</th></tr>\n",
       "</thead>\n",
       "<tbody>\n",
       "\t<tr><td>Sequent </td><td>=~</td><td>hm      </td><td>0.2525843</td><td>0.08220772</td><td> 3.072513</td><td>2.122649e-03</td><td>0.09146008</td><td>0.4137084</td></tr>\n",
       "\t<tr><td>Sequent </td><td>=~</td><td>nr      </td><td>0.8177223</td><td>0.05332042</td><td>15.336006</td><td>0.000000e+00</td><td>0.71321623</td><td>0.9222284</td></tr>\n",
       "\t<tr><td>Sequent </td><td>=~</td><td>wo      </td><td>0.8193488</td><td>0.05332369</td><td>15.365569</td><td>0.000000e+00</td><td>0.71483633</td><td>0.9238614</td></tr>\n",
       "\t<tr><td>Simultan</td><td>=~</td><td>hm      </td><td>0.3911092</td><td>0.07920463</td><td> 4.937959</td><td>7.894445e-07</td><td>0.23587098</td><td>0.5463474</td></tr>\n",
       "\t<tr><td>Simultan</td><td>=~</td><td>gc      </td><td>0.4995384</td><td>0.06083464</td><td> 8.211414</td><td>2.220446e-16</td><td>0.38030467</td><td>0.6187721</td></tr>\n",
       "\t<tr><td>Simultan</td><td>=~</td><td>tr      </td><td>0.7173674</td><td>0.04430383</td><td>16.191995</td><td>0.000000e+00</td><td>0.63053351</td><td>0.8042013</td></tr>\n",
       "\t<tr><td>Simultan</td><td>=~</td><td>sm      </td><td>0.6659822</td><td>0.04841876</td><td>13.754631</td><td>0.000000e+00</td><td>0.57108320</td><td>0.7608813</td></tr>\n",
       "\t<tr><td>Simultan</td><td>=~</td><td>ma      </td><td>0.5978175</td><td>0.05378959</td><td>11.114002</td><td>0.000000e+00</td><td>0.49239189</td><td>0.7032432</td></tr>\n",
       "\t<tr><td>Simultan</td><td>=~</td><td>ps      </td><td>0.7766261</td><td>0.03976255</td><td>19.531596</td><td>0.000000e+00</td><td>0.69869292</td><td>0.8545593</td></tr>\n",
       "\t<tr><td>Sequent </td><td>~~</td><td>Sequent </td><td>1.0000000</td><td>0.00000000</td><td>       NA</td><td>          NA</td><td>1.00000000</td><td>1.0000000</td></tr>\n",
       "\t<tr><td>Simultan</td><td>~~</td><td>Simultan</td><td>1.0000000</td><td>0.00000000</td><td>       NA</td><td>          NA</td><td>1.00000000</td><td>1.0000000</td></tr>\n",
       "\t<tr><td>hm      </td><td>~~</td><td>hm      </td><td>0.6825461</td><td>0.06079284</td><td>11.227409</td><td>0.000000e+00</td><td>0.56339433</td><td>0.8016979</td></tr>\n",
       "\t<tr><td>nr      </td><td>~~</td><td>nr      </td><td>0.3313302</td><td>0.08720260</td><td> 3.799545</td><td>1.449621e-04</td><td>0.16041623</td><td>0.5022441</td></tr>\n",
       "\t<tr><td>wo      </td><td>~~</td><td>wo      </td><td>0.3286675</td><td>0.08738141</td><td> 3.761297</td><td>1.690344e-04</td><td>0.15740304</td><td>0.4999319</td></tr>\n",
       "\t<tr><td>gc      </td><td>~~</td><td>gc      </td><td>0.7504614</td><td>0.06077847</td><td>12.347487</td><td>0.000000e+00</td><td>0.63133780</td><td>0.8695850</td></tr>\n",
       "\t<tr><td>tr      </td><td>~~</td><td>tr      </td><td>0.4853840</td><td>0.06356425</td><td> 7.636116</td><td>2.242651e-14</td><td>0.36080034</td><td>0.6099676</td></tr>\n",
       "\t<tr><td>sm      </td><td>~~</td><td>sm      </td><td>0.5564677</td><td>0.06449207</td><td> 8.628466</td><td>0.000000e+00</td><td>0.43006551</td><td>0.6828698</td></tr>\n",
       "\t<tr><td>ma      </td><td>~~</td><td>ma      </td><td>0.6426142</td><td>0.06431272</td><td> 9.992024</td><td>0.000000e+00</td><td>0.51656358</td><td>0.7686648</td></tr>\n",
       "\t<tr><td>ps      </td><td>~~</td><td>ps      </td><td>0.3968519</td><td>0.06176127</td><td> 6.425579</td><td>1.313689e-10</td><td>0.27580204</td><td>0.5179018</td></tr>\n",
       "\t<tr><td>Sequent </td><td>~~</td><td>Simultan</td><td>0.5096198</td><td>0.07025682</td><td> 7.253670</td><td>4.056755e-13</td><td>0.37191898</td><td>0.6473207</td></tr>\n",
       "</tbody>\n",
       "</table>\n"
      ],
      "text/latex": [
       "A lavaan.data.frame: 20 x 9\n",
       "\\begin{tabular}{lllllllll}\n",
       " lhs & op & rhs & est.std & se & z & pvalue & ci.lower & ci.upper\\\\\n",
       " <chr> & <chr> & <chr> & <dbl> & <dbl> & <dbl> & <dbl> & <dbl> & <dbl>\\\\\n",
       "\\hline\n",
       "\t Sequent  & =\\textasciitilde{} & hm       & 0.2525843 & 0.08220772 &  3.072513 & 2.122649e-03 & 0.09146008 & 0.4137084\\\\\n",
       "\t Sequent  & =\\textasciitilde{} & nr       & 0.8177223 & 0.05332042 & 15.336006 & 0.000000e+00 & 0.71321623 & 0.9222284\\\\\n",
       "\t Sequent  & =\\textasciitilde{} & wo       & 0.8193488 & 0.05332369 & 15.365569 & 0.000000e+00 & 0.71483633 & 0.9238614\\\\\n",
       "\t Simultan & =\\textasciitilde{} & hm       & 0.3911092 & 0.07920463 &  4.937959 & 7.894445e-07 & 0.23587098 & 0.5463474\\\\\n",
       "\t Simultan & =\\textasciitilde{} & gc       & 0.4995384 & 0.06083464 &  8.211414 & 2.220446e-16 & 0.38030467 & 0.6187721\\\\\n",
       "\t Simultan & =\\textasciitilde{} & tr       & 0.7173674 & 0.04430383 & 16.191995 & 0.000000e+00 & 0.63053351 & 0.8042013\\\\\n",
       "\t Simultan & =\\textasciitilde{} & sm       & 0.6659822 & 0.04841876 & 13.754631 & 0.000000e+00 & 0.57108320 & 0.7608813\\\\\n",
       "\t Simultan & =\\textasciitilde{} & ma       & 0.5978175 & 0.05378959 & 11.114002 & 0.000000e+00 & 0.49239189 & 0.7032432\\\\\n",
       "\t Simultan & =\\textasciitilde{} & ps       & 0.7766261 & 0.03976255 & 19.531596 & 0.000000e+00 & 0.69869292 & 0.8545593\\\\\n",
       "\t Sequent  & \\textasciitilde{}\\textasciitilde{} & Sequent  & 1.0000000 & 0.00000000 &        NA &           NA & 1.00000000 & 1.0000000\\\\\n",
       "\t Simultan & \\textasciitilde{}\\textasciitilde{} & Simultan & 1.0000000 & 0.00000000 &        NA &           NA & 1.00000000 & 1.0000000\\\\\n",
       "\t hm       & \\textasciitilde{}\\textasciitilde{} & hm       & 0.6825461 & 0.06079284 & 11.227409 & 0.000000e+00 & 0.56339433 & 0.8016979\\\\\n",
       "\t nr       & \\textasciitilde{}\\textasciitilde{} & nr       & 0.3313302 & 0.08720260 &  3.799545 & 1.449621e-04 & 0.16041623 & 0.5022441\\\\\n",
       "\t wo       & \\textasciitilde{}\\textasciitilde{} & wo       & 0.3286675 & 0.08738141 &  3.761297 & 1.690344e-04 & 0.15740304 & 0.4999319\\\\\n",
       "\t gc       & \\textasciitilde{}\\textasciitilde{} & gc       & 0.7504614 & 0.06077847 & 12.347487 & 0.000000e+00 & 0.63133780 & 0.8695850\\\\\n",
       "\t tr       & \\textasciitilde{}\\textasciitilde{} & tr       & 0.4853840 & 0.06356425 &  7.636116 & 2.242651e-14 & 0.36080034 & 0.6099676\\\\\n",
       "\t sm       & \\textasciitilde{}\\textasciitilde{} & sm       & 0.5564677 & 0.06449207 &  8.628466 & 0.000000e+00 & 0.43006551 & 0.6828698\\\\\n",
       "\t ma       & \\textasciitilde{}\\textasciitilde{} & ma       & 0.6426142 & 0.06431272 &  9.992024 & 0.000000e+00 & 0.51656358 & 0.7686648\\\\\n",
       "\t ps       & \\textasciitilde{}\\textasciitilde{} & ps       & 0.3968519 & 0.06176127 &  6.425579 & 1.313689e-10 & 0.27580204 & 0.5179018\\\\\n",
       "\t Sequent  & \\textasciitilde{}\\textasciitilde{} & Simultan & 0.5096198 & 0.07025682 &  7.253670 & 4.056755e-13 & 0.37191898 & 0.6473207\\\\\n",
       "\\end{tabular}\n"
      ],
      "text/markdown": [
       "\n",
       "A lavaan.data.frame: 20 x 9\n",
       "\n",
       "| lhs &lt;chr&gt; | op &lt;chr&gt; | rhs &lt;chr&gt; | est.std &lt;dbl&gt; | se &lt;dbl&gt; | z &lt;dbl&gt; | pvalue &lt;dbl&gt; | ci.lower &lt;dbl&gt; | ci.upper &lt;dbl&gt; |\n",
       "|---|---|---|---|---|---|---|---|---|\n",
       "| Sequent  | =~ | hm       | 0.2525843 | 0.08220772 |  3.072513 | 2.122649e-03 | 0.09146008 | 0.4137084 |\n",
       "| Sequent  | =~ | nr       | 0.8177223 | 0.05332042 | 15.336006 | 0.000000e+00 | 0.71321623 | 0.9222284 |\n",
       "| Sequent  | =~ | wo       | 0.8193488 | 0.05332369 | 15.365569 | 0.000000e+00 | 0.71483633 | 0.9238614 |\n",
       "| Simultan | =~ | hm       | 0.3911092 | 0.07920463 |  4.937959 | 7.894445e-07 | 0.23587098 | 0.5463474 |\n",
       "| Simultan | =~ | gc       | 0.4995384 | 0.06083464 |  8.211414 | 2.220446e-16 | 0.38030467 | 0.6187721 |\n",
       "| Simultan | =~ | tr       | 0.7173674 | 0.04430383 | 16.191995 | 0.000000e+00 | 0.63053351 | 0.8042013 |\n",
       "| Simultan | =~ | sm       | 0.6659822 | 0.04841876 | 13.754631 | 0.000000e+00 | 0.57108320 | 0.7608813 |\n",
       "| Simultan | =~ | ma       | 0.5978175 | 0.05378959 | 11.114002 | 0.000000e+00 | 0.49239189 | 0.7032432 |\n",
       "| Simultan | =~ | ps       | 0.7766261 | 0.03976255 | 19.531596 | 0.000000e+00 | 0.69869292 | 0.8545593 |\n",
       "| Sequent  | ~~ | Sequent  | 1.0000000 | 0.00000000 |        NA |           NA | 1.00000000 | 1.0000000 |\n",
       "| Simultan | ~~ | Simultan | 1.0000000 | 0.00000000 |        NA |           NA | 1.00000000 | 1.0000000 |\n",
       "| hm       | ~~ | hm       | 0.6825461 | 0.06079284 | 11.227409 | 0.000000e+00 | 0.56339433 | 0.8016979 |\n",
       "| nr       | ~~ | nr       | 0.3313302 | 0.08720260 |  3.799545 | 1.449621e-04 | 0.16041623 | 0.5022441 |\n",
       "| wo       | ~~ | wo       | 0.3286675 | 0.08738141 |  3.761297 | 1.690344e-04 | 0.15740304 | 0.4999319 |\n",
       "| gc       | ~~ | gc       | 0.7504614 | 0.06077847 | 12.347487 | 0.000000e+00 | 0.63133780 | 0.8695850 |\n",
       "| tr       | ~~ | tr       | 0.4853840 | 0.06356425 |  7.636116 | 2.242651e-14 | 0.36080034 | 0.6099676 |\n",
       "| sm       | ~~ | sm       | 0.5564677 | 0.06449207 |  8.628466 | 0.000000e+00 | 0.43006551 | 0.6828698 |\n",
       "| ma       | ~~ | ma       | 0.6426142 | 0.06431272 |  9.992024 | 0.000000e+00 | 0.51656358 | 0.7686648 |\n",
       "| ps       | ~~ | ps       | 0.3968519 | 0.06176127 |  6.425579 | 1.313689e-10 | 0.27580204 | 0.5179018 |\n",
       "| Sequent  | ~~ | Simultan | 0.5096198 | 0.07025682 |  7.253670 | 4.056755e-13 | 0.37191898 | 0.6473207 |\n",
       "\n"
      ],
      "text/plain": [
       "   lhs      op rhs      est.std   se         z         pvalue      \n",
       "1  Sequent  =~ hm       0.2525843 0.08220772  3.072513 2.122649e-03\n",
       "2  Sequent  =~ nr       0.8177223 0.05332042 15.336006 0.000000e+00\n",
       "3  Sequent  =~ wo       0.8193488 0.05332369 15.365569 0.000000e+00\n",
       "4  Simultan =~ hm       0.3911092 0.07920463  4.937959 7.894445e-07\n",
       "5  Simultan =~ gc       0.4995384 0.06083464  8.211414 2.220446e-16\n",
       "6  Simultan =~ tr       0.7173674 0.04430383 16.191995 0.000000e+00\n",
       "7  Simultan =~ sm       0.6659822 0.04841876 13.754631 0.000000e+00\n",
       "8  Simultan =~ ma       0.5978175 0.05378959 11.114002 0.000000e+00\n",
       "9  Simultan =~ ps       0.7766261 0.03976255 19.531596 0.000000e+00\n",
       "10 Sequent  ~~ Sequent  1.0000000 0.00000000        NA           NA\n",
       "11 Simultan ~~ Simultan 1.0000000 0.00000000        NA           NA\n",
       "12 hm       ~~ hm       0.6825461 0.06079284 11.227409 0.000000e+00\n",
       "13 nr       ~~ nr       0.3313302 0.08720260  3.799545 1.449621e-04\n",
       "14 wo       ~~ wo       0.3286675 0.08738141  3.761297 1.690344e-04\n",
       "15 gc       ~~ gc       0.7504614 0.06077847 12.347487 0.000000e+00\n",
       "16 tr       ~~ tr       0.4853840 0.06356425  7.636116 2.242651e-14\n",
       "17 sm       ~~ sm       0.5564677 0.06449207  8.628466 0.000000e+00\n",
       "18 ma       ~~ ma       0.6426142 0.06431272  9.992024 0.000000e+00\n",
       "19 ps       ~~ ps       0.3968519 0.06176127  6.425579 1.313689e-10\n",
       "20 Sequent  ~~ Simultan 0.5096198 0.07025682  7.253670 4.056755e-13\n",
       "   ci.lower   ci.upper \n",
       "1  0.09146008 0.4137084\n",
       "2  0.71321623 0.9222284\n",
       "3  0.71483633 0.9238614\n",
       "4  0.23587098 0.5463474\n",
       "5  0.38030467 0.6187721\n",
       "6  0.63053351 0.8042013\n",
       "7  0.57108320 0.7608813\n",
       "8  0.49239189 0.7032432\n",
       "9  0.69869292 0.8545593\n",
       "10 1.00000000 1.0000000\n",
       "11 1.00000000 1.0000000\n",
       "12 0.56339433 0.8016979\n",
       "13 0.16041623 0.5022441\n",
       "14 0.15740304 0.4999319\n",
       "15 0.63133780 0.8695850\n",
       "16 0.36080034 0.6099676\n",
       "17 0.43006551 0.6828698\n",
       "18 0.51656358 0.7686648\n",
       "19 0.27580204 0.5179018\n",
       "20 0.37191898 0.6473207"
      ]
     },
     "metadata": {},
     "output_type": "display_data"
    }
   ],
   "source": [
    "loadings <- standardizedSolution(kabc3alt)\n",
    "loadings"
   ]
  },
  {
   "cell_type": "code",
   "execution_count": 36,
   "id": "6078df54",
   "metadata": {
    "vscode": {
     "languageId": "r"
    }
   },
   "outputs": [
    {
     "data": {
      "text/html": [
       "<table class=\"dataframe\">\n",
       "<caption>A lavaan.data.frame: 9 x 3</caption>\n",
       "<thead>\n",
       "\t<tr><th></th><th scope=col>lhs</th><th scope=col>rhs</th><th scope=col>est.std</th></tr>\n",
       "\t<tr><th></th><th scope=col>&lt;chr&gt;</th><th scope=col>&lt;chr&gt;</th><th scope=col>&lt;dbl&gt;</th></tr>\n",
       "</thead>\n",
       "<tbody>\n",
       "\t<tr><th scope=row>1</th><td>Sequent </td><td>hm</td><td>0.2525843</td></tr>\n",
       "\t<tr><th scope=row>2</th><td>Sequent </td><td>nr</td><td>0.8177223</td></tr>\n",
       "\t<tr><th scope=row>3</th><td>Sequent </td><td>wo</td><td>0.8193488</td></tr>\n",
       "\t<tr><th scope=row>4</th><td>Simultan</td><td>hm</td><td>0.3911092</td></tr>\n",
       "\t<tr><th scope=row>5</th><td>Simultan</td><td>gc</td><td>0.4995384</td></tr>\n",
       "\t<tr><th scope=row>6</th><td>Simultan</td><td>tr</td><td>0.7173674</td></tr>\n",
       "\t<tr><th scope=row>7</th><td>Simultan</td><td>sm</td><td>0.6659822</td></tr>\n",
       "\t<tr><th scope=row>8</th><td>Simultan</td><td>ma</td><td>0.5978175</td></tr>\n",
       "\t<tr><th scope=row>9</th><td>Simultan</td><td>ps</td><td>0.7766261</td></tr>\n",
       "</tbody>\n",
       "</table>\n"
      ],
      "text/latex": [
       "A lavaan.data.frame: 9 x 3\n",
       "\\begin{tabular}{r|lll}\n",
       "  & lhs & rhs & est.std\\\\\n",
       "  & <chr> & <chr> & <dbl>\\\\\n",
       "\\hline\n",
       "\t1 & Sequent  & hm & 0.2525843\\\\\n",
       "\t2 & Sequent  & nr & 0.8177223\\\\\n",
       "\t3 & Sequent  & wo & 0.8193488\\\\\n",
       "\t4 & Simultan & hm & 0.3911092\\\\\n",
       "\t5 & Simultan & gc & 0.4995384\\\\\n",
       "\t6 & Simultan & tr & 0.7173674\\\\\n",
       "\t7 & Simultan & sm & 0.6659822\\\\\n",
       "\t8 & Simultan & ma & 0.5978175\\\\\n",
       "\t9 & Simultan & ps & 0.7766261\\\\\n",
       "\\end{tabular}\n"
      ],
      "text/markdown": [
       "\n",
       "A lavaan.data.frame: 9 x 3\n",
       "\n",
       "| <!--/--> | lhs &lt;chr&gt; | rhs &lt;chr&gt; | est.std &lt;dbl&gt; |\n",
       "|---|---|---|---|\n",
       "| 1 | Sequent  | hm | 0.2525843 |\n",
       "| 2 | Sequent  | nr | 0.8177223 |\n",
       "| 3 | Sequent  | wo | 0.8193488 |\n",
       "| 4 | Simultan | hm | 0.3911092 |\n",
       "| 5 | Simultan | gc | 0.4995384 |\n",
       "| 6 | Simultan | tr | 0.7173674 |\n",
       "| 7 | Simultan | sm | 0.6659822 |\n",
       "| 8 | Simultan | ma | 0.5978175 |\n",
       "| 9 | Simultan | ps | 0.7766261 |\n",
       "\n"
      ],
      "text/plain": [
       "  lhs      rhs est.std  \n",
       "1 Sequent  hm  0.2525843\n",
       "2 Sequent  nr  0.8177223\n",
       "3 Sequent  wo  0.8193488\n",
       "4 Simultan hm  0.3911092\n",
       "5 Simultan gc  0.4995384\n",
       "6 Simultan tr  0.7173674\n",
       "7 Simultan sm  0.6659822\n",
       "8 Simultan ma  0.5978175\n",
       "9 Simultan ps  0.7766261"
      ]
     },
     "metadata": {},
     "output_type": "display_data"
    }
   ],
   "source": [
    "relevant_loadings <- loadings[loadings$op == \"=~\", c(\"lhs\", \"rhs\", \"est.std\")]\n",
    "relevant_loadings"
   ]
  },
  {
   "cell_type": "markdown",
   "id": "0fc5d0eb",
   "metadata": {},
   "source": [
    "Idealmente, per sostenere l'ipotesi di validità convergente, un fattore dovrebbe spiegare almeno il 50% della varianza in ciascuno dei suoi indicatori continui, come sostengono Bagozzi e Yi (2012). Ciò implica che, per essere considerato adeguatamente rappresentativo del costrutto che intende misurare, tutti gli indicatori di un fattore dovrebbero mostrare che la maggior parte della loro varianza è spiegata dal fattore stesso. Un modo meno rigoroso ma ancora informativo per valutare la validità convergente è attraverso l'uso della Varianza Media Estratta (AVE), calcolata come la media dei quadrati dei carichi fattoriali standardizzati di tutti gli indicatori associati a un particolare fattore. Un valore AVE superiore a 0.50 indica che, in media, il fattore spiega più della metà della varianza degli indicatori rispetto alla varianza residua attribuibile agli errori di misurazione, come indicato da Hair et al. (2022).\n",
    "\n",
    "Nell'ambito di un modello a due fattori, i risultati ottenuti dall'esempio in esame evidenziano alcune criticità in relazione al criterio più stringente: il modello non riesce a spiegare una variazione significativa (R^2 > 0.50) per quattro dei otto indicatori, ossia la metà di essi.  Tuttavia, se consideriamo l'AVE, i risultati migliorano leggermente per il fattore sequenziale, che spiega in media circa il 52% della varianza dei suoi tre indicatori (AVE = 0.517).\n",
    "\n",
    "Nella pratica analitica reale, valori di R^2 inferiori a 0.50 sono spesso considerati accettabili. Comrey e Lee (1992) hanno proposto una scala di valutazione gradiente in cui un R^2 superiore a 0.50 è classificato come eccellente, mentre valori approssimativamente pari a 0.40, 0.30, 0.20 e 0.10 sono considerati molto buoni, buoni, sufficienti e scarsi, rispettivamente. Secondo queste linee guida più flessibili, i risultati per gli indicatori del modello CFA a due fattori della KABC-I sono classificati come \"eccellenti\" (R^2 > 0.50) per tre degli otto indicatori, nessuno è giudicato \"scarso\" (R^2 circa 0.10), e i rimanenti cinque indicatori presentano valori intermedi. È essenziale sottolineare che queste linee guida non dovrebbero essere applicate in modo indiscriminato in tutti i contesti di CFA o con tutti i tipi di indicatori. Gli indicatori continui, come i punteggi totali nell'esempio citato, tendono a mostrare carichi fattoriali più elevati rispetto agli indicatori ordinali, come quelli basati su scale di risposta tipo Likert. "
   ]
  },
  {
   "cell_type": "markdown",
   "id": "de4a84b2",
   "metadata": {},
   "source": [
    "## Considerazioni Finali\n",
    "\n",
    "L'analisi fattoriale confermativa (CFA) rappresenta uno strumento cruciale nell'ambito delle ricerche psicologiche e sociali, in quanto consente di esaminare modelli di misurazione riflessiva. In questi modelli, i fattori comuni agiscono come proxy per le variabili teoriche. La CFA richiede che il ricercatore definisca preventivamente aspetti critici del modello, come il numero di fattori, l'assegnazione degli indicatori ai fattori e gli schemi di covarianza degli errori.\n",
    "\n",
    "Nei modelli CFA base, ciascun indicatore continuo è associato a un unico fattore e si presume che gli errori siano indipendenti, formando così una struttura unidimensionale. L'analisi di modelli con più fattori permette di verificare le ipotesi di validità convergente e discriminante.\n",
    "\n",
    "È anche possibile esplorare modelli CFA che includono covarianze di errore o indicatori correlati a più fattori. Tuttavia, gestire tali modelli è più complesso, specialmente in termini di identificazione del modello. Problemi tecnici come la non convergenza delle soluzioni o risultati inammissibili sono più comuni nei campioni di dimensioni ridotte o quando i fattori sono definiti da soli due indicatori. L'aggiustamento del modello può diventare una sfida, considerata l'ampia varietà di modifiche potenziali.\n",
    "\n",
    "Un'altra questione critica è rappresentata dai modelli CFA equivalenti, i quali possono produrre risultati simili nonostante le loro differenze strutturali. Per affrontare queste sfide efficacemente, è essenziale fondare l'analisi più su basi teoriche che su meri calcoli statistici. L'efficacia della CFA, quindi, dipende notevolmente dal contesto teorico e dalla competenza metodologica del ricercatore, essendo cruciale un'approfondita comprensione del dominio di studio per guidare l'analisi."
   ]
  },
  {
   "cell_type": "markdown",
   "id": "7da7ec02",
   "metadata": {},
   "source": [
    "## Session Info"
   ]
  },
  {
   "cell_type": "code",
   "execution_count": 37,
   "id": "d646eba3",
   "metadata": {
    "vscode": {
     "languageId": "r"
    }
   },
   "outputs": [
    {
     "data": {
      "text/plain": [
       "R version 4.4.1 (2024-06-14)\n",
       "Platform: aarch64-apple-darwin20\n",
       "Running under: macOS 15.0.1\n",
       "\n",
       "Matrix products: default\n",
       "BLAS:   /Library/Frameworks/R.framework/Versions/4.4-arm64/Resources/lib/libRblas.0.dylib \n",
       "LAPACK: /Library/Frameworks/R.framework/Versions/4.4-arm64/Resources/lib/libRlapack.dylib;  LAPACK version 3.12.0\n",
       "\n",
       "locale:\n",
       "[1] C\n",
       "\n",
       "time zone: Europe/Rome\n",
       "tzcode source: internal\n",
       "\n",
       "attached base packages:\n",
       "[1] stats     graphics  grDevices utils     datasets  methods  \n",
       "[7] base     \n",
       "\n",
       "other attached packages:\n",
       " [1] nortest_1.0-4     MASS_7.3-61       ggokabeito_0.1.0 \n",
       " [4] viridis_0.6.5     viridisLite_0.4.2 ggpubr_0.6.0     \n",
       " [7] ggExtra_0.10.1    gridExtra_2.3     patchwork_1.3.0  \n",
       "[10] bayesplot_1.11.1  semTools_0.5-6    semPlot_1.1.6    \n",
       "[13] lavaan_0.6-19     psych_2.4.6.26    scales_1.3.0     \n",
       "[16] markdown_1.13     knitr_1.48        lubridate_1.9.3  \n",
       "[19] forcats_1.0.0     stringr_1.5.1     dplyr_1.1.4      \n",
       "[22] purrr_1.0.2       readr_2.1.5       tidyr_1.3.1      \n",
       "[25] tibble_3.2.1      ggplot2_3.5.1     tidyverse_2.0.0  \n",
       "[28] here_1.0.1       \n",
       "\n",
       "loaded via a namespace (and not attached):\n",
       "  [1] rstudioapi_0.16.0  jsonlite_1.8.9     magrittr_2.0.3    \n",
       "  [4] TH.data_1.1-2      estimability_1.5.1 farver_2.1.2      \n",
       "  [7] nloptr_2.1.1       rmarkdown_2.28     vctrs_0.6.5       \n",
       " [10] Cairo_1.6-2        minqa_1.2.8        base64enc_0.1-3   \n",
       " [13] rstatix_0.7.2      htmltools_0.5.8.1  broom_1.0.7       \n",
       " [16] Formula_1.2-5      htmlwidgets_1.6.4  plyr_1.8.9        \n",
       " [19] sandwich_3.1-1     emmeans_1.10.4     zoo_1.8-12        \n",
       " [22] uuid_1.2-1         igraph_2.0.3       mime_0.12         \n",
       " [25] lifecycle_1.0.4    pkgconfig_2.0.3    Matrix_1.7-0      \n",
       " [28] R6_2.5.1           fastmap_1.2.0      shiny_1.9.1       \n",
       " [31] digest_0.6.37      OpenMx_2.21.12     fdrtool_1.2.18    \n",
       " [34] colorspace_2.1-1   rprojroot_2.0.4    Hmisc_5.1-3       \n",
       " [37] fansi_1.0.6        timechange_0.3.0   abind_1.4-8       \n",
       " [40] compiler_4.4.1     withr_3.0.1        glasso_1.11       \n",
       " [43] htmlTable_2.4.3    backports_1.5.0    carData_3.0-5     \n",
       " [46] ggsignif_0.6.4     corpcor_1.6.10     gtools_3.9.5      \n",
       " [49] tools_4.4.1        pbivnorm_0.6.0     foreign_0.8-87    \n",
       " [52] zip_2.3.1          httpuv_1.6.15      nnet_7.3-19       \n",
       " [55] glue_1.8.0         quadprog_1.5-8     promises_1.3.0    \n",
       " [58] nlme_3.1-166       lisrelToR_0.3      grid_4.4.1        \n",
       " [61] pbdZMQ_0.3-13      checkmate_2.3.2    cluster_2.1.6     \n",
       " [64] reshape2_1.4.4     generics_0.1.3     gtable_0.3.5      \n",
       " [67] tzdb_0.4.0         data.table_1.16.0  hms_1.1.3         \n",
       " [70] car_3.1-3          utf8_1.2.4         sem_3.1-16        \n",
       " [73] pillar_1.9.0       IRdisplay_1.1      rockchalk_1.8.157 \n",
       " [76] later_1.3.2        splines_4.4.1      lattice_0.22-6    \n",
       " [79] survival_3.7-0     kutils_1.73        tidyselect_1.2.1  \n",
       " [82] miniUI_0.1.1.1     pbapply_1.7-2      stats4_4.4.1      \n",
       " [85] xfun_0.48          qgraph_1.9.8       arm_1.14-4        \n",
       " [88] stringi_1.8.4      pacman_0.5.1       boot_1.3-31       \n",
       " [91] evaluate_1.0.0     codetools_0.2-20   mi_1.1            \n",
       " [94] cli_3.6.3          RcppParallel_5.1.9 IRkernel_1.3.2    \n",
       " [97] rpart_4.1.23       xtable_1.8-4       repr_1.1.7        \n",
       "[100] munsell_0.5.1      Rcpp_1.0.13        coda_0.19-4.1     \n",
       "[103] png_0.1-8          XML_3.99-0.17      parallel_4.4.1    \n",
       "[106] jpeg_0.1-10        lme4_1.1-35.5      mvtnorm_1.3-1     \n",
       "[109] openxlsx_4.2.7.1   crayon_1.5.3       rlang_1.1.4       \n",
       "[112] multcomp_1.4-26    mnormt_2.1.1      "
      ]
     },
     "metadata": {},
     "output_type": "display_data"
    }
   ],
   "source": [
    "sessionInfo()"
   ]
  }
 ],
 "metadata": {
  "jupytext": {
   "cell_metadata_filter": "tags,eval,-all",
   "main_language": "R",
   "notebook_metadata_filter": "-all"
  },
  "kernelspec": {
   "display_name": "R",
   "language": "R",
   "name": "ir"
  },
  "language_info": {
   "codemirror_mode": "r",
   "file_extension": ".r",
   "mimetype": "text/x-r-source",
   "name": "R",
   "pygments_lexer": "r",
   "version": "4.4.1"
  }
 },
 "nbformat": 4,
 "nbformat_minor": 5
}
