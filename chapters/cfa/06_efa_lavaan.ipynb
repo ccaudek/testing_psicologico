{
 "cells": [
  {
   "attachments": {},
   "cell_type": "markdown",
   "id": "756eb571",
   "metadata": {},
   "source": [
    "(esem-lavaan-notebook)=\n",
    "# Exploratory Structural Equation Modeling (ESEM)"
   ]
  },
  {
   "cell_type": "markdown",
   "id": "c733ad12",
   "metadata": {},
   "source": [
    "L'*Exploratory Structural Equation Modeling* (ESEM) è un framework analitico che integra i modelli di misurazione dell'Analisi Fattoriale Esplorativa (EFA) con il più strutturato approccio della Confirmatory Factor Analysis (CFA). Questa integrazione permette di godere dei benefici tipici della CFA, come la specificità e la rigore, pur mantenendo la flessibilità dell'EFA, che considera le saturazioni incrociate tra i fattori.\n",
    "\n",
    "Inoltre, lo sviluppo della rotazione target nell'ESEM facilita la definizione a priori dei principali carichi fattoriali, mentre consente che i carichi incrociati rimangano il più possibile vicini a zero, ma siano stimati in maniera libera. Questa tecnica di rotazione consente di applicare il modello in modo confermativo, basandosi su una struttura fattoriale predefinita, pur adottando una flessibilità tipica dell'EFA.\n",
    "\n",
    "In questo modo, l'ESEM si presta sia a usi confermativi che esplorativi, combinando i vantaggi di entrambi gli approcci — EFA e CFA — in un unico modello comprensivo."
   ]
  },
  {
   "cell_type": "code",
   "execution_count": 1,
   "id": "a8e1a699",
   "metadata": {
    "tags": [
     "remove_cell"
    ],
    "vscode": {
     "languageId": "r"
    }
   },
   "outputs": [],
   "source": [
    "source(\"../_common.R\")\n",
    "suppressPackageStartupMessages({\n",
    "    library(\"lavaan\")\n",
    "    library(\"semTools\")\n",
    "})"
   ]
  },
  {
   "cell_type": "markdown",
   "id": "4852ab97",
   "metadata": {},
   "source": [
    "## Limitazioni della CFA\n",
    "\n",
    "Nel modello di misurazione di Confirmatory Factor Analysis (CFA), comunemente adottato nella ricerca psicologica, solitamente sappiamo quali indicatori appartengono a ciascun fattore latente, una struttura denominata \"a priori\". Questo approccio è utilizzato per verificare se la struttura fattoriale presunta corrisponde effettivamente ai dati raccolti.\n",
    "\n",
    "Tuttavia, nonostante la popolarità della CFA, essa presenta delle limitazioni significative. I modelli CFA spesso risultano eccessivamente semplici e restrittivi, presupponendo \"fattori puri\", cioè assumento che ciascun item saturi solamente sui suoi fattori latenti predeterminati, con saturazioni incrociate (ovvero, contributi di un item a fattori non primari) vincolate a zero. Questa restrizione può non riflettere adeguatamente la realtà di molte misure psicologiche, dove gli item tendono a riflettere più di un costrutto. Questo approccio può portare a una rappresentazione artificiale delle relazioni tra gli item e i fattori, risultando in statistiche di adattamento del modello sovrastimate e correlazioni tra fattori positivamente distorte. Studi di simulazione hanno mostrato che anche piccole saturazioni incrociate, se ignorate, possono portare ad una distorsione nelle stime dei parametri.\n",
    "\n",
    "Un altro problema è rappresentato dagli indici di bontà di adattamento utilizzati nei modelli CFA, che sono spesso troppo restrittivi per strumenti psicologici multifattoriali, rendendo quasi impossibile ottenere un \"buon\" adattamento senza significative modifiche ai modelli. Tuttavia, quando analizzati a livello di item e per affidabilità, i modelli che non mostrano un buon adattamento possono comunque indicare saturazioni ragionevoli e alti livelli di affidabilità.\n",
    "\n",
    "In risposta a queste sfide, sono stati sviluppati approcci più flessibili e robusti, come l'*Exploratory Structural Equation Modeling* (ESEM).\n",
    "\n",
    "## Exploratory Structural Equation Modeling\n",
    "\n",
    "L'ESEM combina elementi delle CFA e dell'Exploratory Factor Analysis (EFA) all'interno del tradizionale framework delle Equazioni Strutturali (SEM). Questo approccio rappresenta un compromesso tra la ricerca iterativa di soluzioni fattoriali ottimali, tipica dell'EFA, e la modellazione teorica restrittiva delle CFA. \n",
    "\n",
    "L'ESEM è essenzialmente un metodo confermativo che permette anche un'esplorazione attraverso l'uso di rotazioni mirate, mantenendo la presenza di caricamenti incrociati, seppur minimizzati. All'interno dell'ESEM, il ricercatore può prevedere a priori una struttura fattoriale, similmente a quanto avviene nelle CFA, ma con una maggiore flessibilità permessa dalla possibilità di modellare saturazioni incrociate.\n",
    "\n",
    "Nell'ESEM, i fattori generali e specifici devono essere specificati come totalmente indipendenti, e le rotazioni ortogonali sono comuni nei modelli bifattoriali. I metodi di rotazione più usati nell'ESEM includono le rotazioni geomin e target, con rotazioni ortogonali adatte ai modelli più complessi.\n",
    "\n",
    "Le analisi di simulazione indicano che le correlazioni tra i fattori latenti ottenute con l'ESEM sono generalmente meno distorte e più vicine alle vere associazioni, rendendo i modelli ESEM più coerenti con le teorie sottostanti e le intenzioni degli strumenti psicometrici misurati. \n",
    "\n",
    "Quando un modello ESEM include solo una parte di misurazione, viene definito come \"analisi fattoriale esplorativa\" o EFA. Se il modello include anche una parte strutturale, come regressioni tra variabili latenti, è classificato come \"modello di equazioni strutturali esplorativo\" o ESEM."
   ]
  },
  {
   "cell_type": "markdown",
   "id": "f29c5a9b",
   "metadata": {},
   "source": [
    "## Otto Misure di Personalità\n",
    "\n",
    "In questo esempio pratico analizzeremo nuovamente i dati di {cite:t}`brown2015confirmatory`, ovvero otto misure di personalità raccolte su un campione di 250 pazienti che hanno concluso un programma di psicoterapia. Utilizzeremo un'analisi EFA mediante la funzione `efa()` di `lavaan`.  \n",
    "\n",
    "Gli item sono i seguenti:\n",
    "\n",
    "- anxiety (N1), \n",
    "- hostility (N2), \n",
    "- depression (N3), \n",
    "- self-consciousness (N4), \n",
    "- warmth (E1), \n",
    "- gregariousness (E2), \n",
    "- assertiveness (E3), \n",
    "- positive emotions (E4). "
   ]
  },
  {
   "cell_type": "code",
   "execution_count": 18,
   "id": "ac36d7e6",
   "metadata": {
    "vscode": {
     "languageId": "r"
    }
   },
   "outputs": [],
   "source": [
    "varnames <- c(\"N1\", \"N2\", \"N3\", \"N4\", \"E1\", \"E2\", \"E3\", \"E4\")\n",
    "sds <- \"5.7  5.6  6.4  5.7  6.0  6.2  5.7  5.6\"\n",
    "\n",
    "cors <- \"\n",
    " 1.000\n",
    " 0.767  1.000\n",
    " 0.731  0.709  1.000\n",
    " 0.778  0.738  0.762  1.000\n",
    "-0.351  -0.302  -0.356  -0.318  1.000\n",
    "-0.316  -0.280  -0.300  -0.267  0.675  1.000\n",
    "-0.296  -0.289  -0.297  -0.296  0.634  0.651  1.000\n",
    "-0.282  -0.254  -0.292  -0.245  0.534  0.593  0.566  1.000\"\n",
    "\n",
    "psychot_cor_mat <- getCov(cors, names = varnames)\n",
    "n <- 250"
   ]
  },
  {
   "cell_type": "markdown",
   "id": "fd8e436d",
   "metadata": {},
   "source": [
    "Definiamo un modello ad un solo fattore comune."
   ]
  },
  {
   "cell_type": "code",
   "execution_count": 19,
   "id": "3d21f528",
   "metadata": {
    "vscode": {
     "languageId": "r"
    }
   },
   "outputs": [],
   "source": [
    "# 1-factor model\n",
    "f1 <- '\n",
    "    efa(\"efa\")*f1 =~ N1 + N2 + N3 + N4 + E1 + E2 + E3 + E4\n",
    "'"
   ]
  },
  {
   "cell_type": "markdown",
   "id": "008dd260",
   "metadata": {},
   "source": [
    "Definiamo un modello con due fattori comuni."
   ]
  },
  {
   "cell_type": "code",
   "execution_count": 20,
   "id": "8c58573b",
   "metadata": {
    "vscode": {
     "languageId": "r"
    }
   },
   "outputs": [],
   "source": [
    "# 2-factor model\n",
    "f2 <- '\n",
    "    efa(\"efa\")*f1 +\n",
    "    efa(\"efa\")*f2 =~ N1 + N2 + N3 + N4 + E1 + E2 + E3 + E4\n",
    "'"
   ]
  },
  {
   "cell_type": "markdown",
   "id": "2d84acb4",
   "metadata": {},
   "source": [
    "Adattiamo ai dati il modello ad un fattore comune."
   ]
  },
  {
   "cell_type": "code",
   "execution_count": 21,
   "id": "9de1975b",
   "metadata": {
    "vscode": {
     "languageId": "r"
    }
   },
   "outputs": [],
   "source": [
    "efa_f1 <-cfa(\n",
    "    model = f1,\n",
    "    sample.cov = psychot_cor_mat,\n",
    "    sample.nobs = 250,\n",
    "    rotation = \"oblimin\"\n",
    ")"
   ]
  },
  {
   "cell_type": "markdown",
   "id": "0183f47c",
   "metadata": {},
   "source": [
    "Esaminiamo la soluzione ottenuta."
   ]
  },
  {
   "cell_type": "code",
   "execution_count": 22,
   "id": "2748ca3f",
   "metadata": {
    "vscode": {
     "languageId": "r"
    }
   },
   "outputs": [
    {
     "data": {
      "image/png": "[encoded data removed]",
      "text/plain": [
       "plot without title"
      ]
     },
     "metadata": {
      "image/png": {
       "height": 420,
       "width": 420
      }
     },
     "output_type": "display_data"
    }
   ],
   "source": [
    "semPlot::semPaths(efa_f1,\n",
    "    what = \"col\", whatLabels = \"std\", style = \"mx\",\n",
    "    layout = \"tree2\", nCharNodes = 7,\n",
    "    shapeMan = \"rectangle\", sizeMan = 8, sizeMan2 = 5\n",
    ")"
   ]
  },
  {
   "cell_type": "code",
   "execution_count": 23,
   "id": "05e79446",
   "metadata": {
    "vscode": {
     "languageId": "r"
    }
   },
   "outputs": [
    {
     "name": "stdout",
     "output_type": "stream",
     "text": [
      "lavaan 0.6.17 ended normally after 2 iterations\n",
      "\n",
      "  Estimator                                         ML\n",
      "  Optimization method                           NLMINB\n",
      "  Number of model parameters                        16\n",
      "\n",
      "  Rotation method                      OBLIMIN OBLIQUE\n",
      "  Oblimin gamma                                      0\n",
      "  Rotation algorithm (rstarts)                GPA (30)\n",
      "  Standardized metric                             TRUE\n",
      "  Row weights                                     None\n",
      "\n",
      "  Number of observations                           250\n",
      "\n",
      "Model Test User Model:\n",
      "                                                      \n",
      "  Test statistic                               375.327\n",
      "  Degrees of freedom                                20\n",
      "  P-value (Chi-square)                           0.000\n",
      "\n",
      "Model Test Baseline Model:\n",
      "\n",
      "  Test statistic                              1253.791\n",
      "  Degrees of freedom                                28\n",
      "  P-value                                        0.000\n",
      "\n",
      "User Model versus Baseline Model:\n",
      "\n",
      "  Comparative Fit Index (CFI)                    0.710\n",
      "  Tucker-Lewis Index (TLI)                       0.594\n",
      "\n",
      "Loglikelihood and Information Criteria:\n",
      "\n",
      "  Loglikelihood user model (H0)              -2394.637\n",
      "  Loglikelihood unrestricted model (H1)      -2206.974\n",
      "                                                      \n",
      "  Akaike (AIC)                                4821.275\n",
      "  Bayesian (BIC)                              4877.618\n",
      "  Sample-size adjusted Bayesian (SABIC)       4826.897\n",
      "\n",
      "Root Mean Square Error of Approximation:\n",
      "\n",
      "  RMSEA                                          0.267\n",
      "  90 Percent confidence interval - lower         0.243\n",
      "  90 Percent confidence interval - upper         0.291\n",
      "  P-value H_0: RMSEA <= 0.050                    0.000\n",
      "  P-value H_0: RMSEA >= 0.080                    1.000\n",
      "\n",
      "Standardized Root Mean Square Residual:\n",
      "\n",
      "  SRMR                                           0.187\n",
      "\n",
      "Parameter Estimates:\n",
      "\n",
      "  Standard errors                             Standard\n",
      "  Information                                 Expected\n",
      "  Information saturated (h1) model          Structured\n",
      "\n",
      "Latent Variables:\n",
      "                   Estimate  Std.Err  z-value  P(>|z|)   Std.lv  Std.all\n",
      "  f1 =~ efa                                                             \n",
      "    N1                0.879    0.051   17.333    0.000    0.879    0.880\n",
      "    N2                0.841    0.052   16.154    0.000    0.841    0.842\n",
      "    N3                0.841    0.052   16.175    0.000    0.841    0.843\n",
      "    N4                0.870    0.051   17.065    0.000    0.870    0.872\n",
      "    E1               -0.438    0.062   -7.041    0.000   -0.438   -0.439\n",
      "    E2               -0.398    0.063   -6.327    0.000   -0.398   -0.398\n",
      "    E3               -0.398    0.063   -6.342    0.000   -0.398   -0.399\n",
      "    E4               -0.364    0.063   -5.746    0.000   -0.364   -0.364\n",
      "\n",
      "Variances:\n",
      "                   Estimate  Std.Err  z-value  P(>|z|)   Std.lv  Std.all\n",
      "   .N1                0.224    0.028    7.915    0.000    0.224    0.225\n",
      "   .N2                0.289    0.033    8.880    0.000    0.289    0.290\n",
      "   .N3                0.288    0.032    8.866    0.000    0.288    0.289\n",
      "   .N4                0.239    0.029    8.174    0.000    0.239    0.240\n",
      "   .E1                0.804    0.073   10.963    0.000    0.804    0.807\n",
      "   .E2                0.838    0.076   11.008    0.000    0.838    0.841\n",
      "   .E3                0.837    0.076   11.007    0.000    0.837    0.841\n",
      "   .E4                0.864    0.078   11.041    0.000    0.864    0.867\n",
      "    f1                1.000                               1.000    1.000\n",
      "\n",
      "R-Square:\n",
      "                   Estimate\n",
      "    N1                0.775\n",
      "    N2                0.710\n",
      "    N3                0.711\n",
      "    N4                0.760\n",
      "    E1                0.193\n",
      "    E2                0.159\n",
      "    E3                0.159\n",
      "    E4                0.133\n",
      "\n"
     ]
    }
   ],
   "source": [
    "summary(\n",
    "    efa_f1,\n",
    "    fit.measures = TRUE,\n",
    "    standardized = TRUE,\n",
    "    rsquare = TRUE\n",
    ") |>\n",
    "    print()"
   ]
  },
  {
   "cell_type": "code",
   "execution_count": 24,
   "id": "98497b36",
   "metadata": {
    "vscode": {
     "languageId": "r"
    }
   },
   "outputs": [
    {
     "data": {
      "text/html": [
       "<table class=\"dataframe\">\n",
       "<caption>A lavaan.data.frame: 17 x 9</caption>\n",
       "<thead>\n",
       "\t<tr><th scope=col>lhs</th><th scope=col>op</th><th scope=col>rhs</th><th scope=col>est.std</th><th scope=col>se</th><th scope=col>z</th><th scope=col>pvalue</th><th scope=col>ci.lower</th><th scope=col>ci.upper</th></tr>\n",
       "\t<tr><th scope=col>&lt;chr&gt;</th><th scope=col>&lt;chr&gt;</th><th scope=col>&lt;chr&gt;</th><th scope=col>&lt;dbl&gt;</th><th scope=col>&lt;dbl&gt;</th><th scope=col>&lt;dbl&gt;</th><th scope=col>&lt;dbl&gt;</th><th scope=col>&lt;dbl&gt;</th><th scope=col>&lt;dbl&gt;</th></tr>\n",
       "</thead>\n",
       "<tbody>\n",
       "\t<tr><td>f1</td><td>=~</td><td>N1</td><td> 0.8803717</td><td>0.01821233</td><td>48.339322</td><td>0.000000e+00</td><td> 0.8446762</td><td> 0.9160673</td></tr>\n",
       "\t<tr><td>f1</td><td>=~</td><td>N2</td><td> 0.8424369</td><td>0.02179745</td><td>38.648409</td><td>0.000000e+00</td><td> 0.7997147</td><td> 0.8851591</td></tr>\n",
       "\t<tr><td>f1</td><td>=~</td><td>N3</td><td> 0.8431190</td><td>0.02173170</td><td>38.796733</td><td>0.000000e+00</td><td> 0.8005257</td><td> 0.8857124</td></tr>\n",
       "\t<tr><td>f1</td><td>=~</td><td>N4</td><td> 0.8719792</td><td>0.01898826</td><td>45.922019</td><td>0.000000e+00</td><td> 0.8347629</td><td> 0.9091955</td></tr>\n",
       "\t<tr><td>f1</td><td>=~</td><td>E1</td><td>-0.4389273</td><td>0.05368053</td><td>-8.176656</td><td>2.220446e-16</td><td>-0.5441392</td><td>-0.3337153</td></tr>\n",
       "\t<tr><td>f1</td><td>=~</td><td>E2</td><td>-0.3983268</td><td>0.05581495</td><td>-7.136560</td><td>9.570122e-13</td><td>-0.5077221</td><td>-0.2889315</td></tr>\n",
       "\t<tr><td>f1</td><td>=~</td><td>E3</td><td>-0.3991904</td><td>0.05577170</td><td>-7.157580</td><td>8.211209e-13</td><td>-0.5085009</td><td>-0.2898799</td></tr>\n",
       "\t<tr><td>f1</td><td>=~</td><td>E4</td><td>-0.3644271</td><td>0.05743899</td><td>-6.344595</td><td>2.230112e-10</td><td>-0.4770055</td><td>-0.2518488</td></tr>\n",
       "\t<tr><td>N1</td><td>~~</td><td>N1</td><td> 0.2249456</td><td>0.03206479</td><td> 7.015345</td><td>2.293721e-12</td><td> 0.1620998</td><td> 0.2877914</td></tr>\n",
       "\t<tr><td>N2</td><td>~~</td><td>N2</td><td> 0.2903001</td><td>0.03672516</td><td> 7.904666</td><td>2.664535e-15</td><td> 0.2183201</td><td> 0.3622801</td></tr>\n",
       "\t<tr><td>N3</td><td>~~</td><td>N3</td><td> 0.2891503</td><td>0.03664399</td><td> 7.890797</td><td>3.108624e-15</td><td> 0.2173294</td><td> 0.3609712</td></tr>\n",
       "\t<tr><td>N4</td><td>~~</td><td>N4</td><td> 0.2396523</td><td>0.03311262</td><td> 7.237491</td><td>4.569678e-13</td><td> 0.1747527</td><td> 0.3045518</td></tr>\n",
       "\t<tr><td>E1</td><td>~~</td><td>E1</td><td> 0.8073429</td><td>0.04708357</td><td>17.147019</td><td>0.000000e+00</td><td> 0.7150608</td><td> 0.8996250</td></tr>\n",
       "\t<tr><td>E2</td><td>~~</td><td>E2</td><td> 0.8413358</td><td>0.04442120</td><td>18.939962</td><td>0.000000e+00</td><td> 0.7542718</td><td> 0.9283997</td></tr>\n",
       "\t<tr><td>E3</td><td>~~</td><td>E3</td><td> 0.8406470</td><td>0.04448315</td><td>18.898100</td><td>0.000000e+00</td><td> 0.7534617</td><td> 0.9278324</td></tr>\n",
       "\t<tr><td>E4</td><td>~~</td><td>E4</td><td> 0.8671929</td><td>0.04181755</td><td>20.737533</td><td>0.000000e+00</td><td> 0.7852320</td><td> 0.9491538</td></tr>\n",
       "\t<tr><td>f1</td><td>~~</td><td>f1</td><td> 1.0000000</td><td>0.00000000</td><td>       NA</td><td>          NA</td><td> 1.0000000</td><td> 1.0000000</td></tr>\n",
       "</tbody>\n",
       "</table>\n"
      ],
      "text/latex": [
       "A lavaan.data.frame: 17 x 9\n",
       "\\begin{tabular}{lllllllll}\n",
       " lhs & op & rhs & est.std & se & z & pvalue & ci.lower & ci.upper\\\\\n",
       " <chr> & <chr> & <chr> & <dbl> & <dbl> & <dbl> & <dbl> & <dbl> & <dbl>\\\\\n",
       "\\hline\n",
       "\t f1 & =\\textasciitilde{} & N1 &  0.8803717 & 0.01821233 & 48.339322 & 0.000000e+00 &  0.8446762 &  0.9160673\\\\\n",
       "\t f1 & =\\textasciitilde{} & N2 &  0.8424369 & 0.02179745 & 38.648409 & 0.000000e+00 &  0.7997147 &  0.8851591\\\\\n",
       "\t f1 & =\\textasciitilde{} & N3 &  0.8431190 & 0.02173170 & 38.796733 & 0.000000e+00 &  0.8005257 &  0.8857124\\\\\n",
       "\t f1 & =\\textasciitilde{} & N4 &  0.8719792 & 0.01898826 & 45.922019 & 0.000000e+00 &  0.8347629 &  0.9091955\\\\\n",
       "\t f1 & =\\textasciitilde{} & E1 & -0.4389273 & 0.05368053 & -8.176656 & 2.220446e-16 & -0.5441392 & -0.3337153\\\\\n",
       "\t f1 & =\\textasciitilde{} & E2 & -0.3983268 & 0.05581495 & -7.136560 & 9.570122e-13 & -0.5077221 & -0.2889315\\\\\n",
       "\t f1 & =\\textasciitilde{} & E3 & -0.3991904 & 0.05577170 & -7.157580 & 8.211209e-13 & -0.5085009 & -0.2898799\\\\\n",
       "\t f1 & =\\textasciitilde{} & E4 & -0.3644271 & 0.05743899 & -6.344595 & 2.230112e-10 & -0.4770055 & -0.2518488\\\\\n",
       "\t N1 & \\textasciitilde{}\\textasciitilde{} & N1 &  0.2249456 & 0.03206479 &  7.015345 & 2.293721e-12 &  0.1620998 &  0.2877914\\\\\n",
       "\t N2 & \\textasciitilde{}\\textasciitilde{} & N2 &  0.2903001 & 0.03672516 &  7.904666 & 2.664535e-15 &  0.2183201 &  0.3622801\\\\\n",
       "\t N3 & \\textasciitilde{}\\textasciitilde{} & N3 &  0.2891503 & 0.03664399 &  7.890797 & 3.108624e-15 &  0.2173294 &  0.3609712\\\\\n",
       "\t N4 & \\textasciitilde{}\\textasciitilde{} & N4 &  0.2396523 & 0.03311262 &  7.237491 & 4.569678e-13 &  0.1747527 &  0.3045518\\\\\n",
       "\t E1 & \\textasciitilde{}\\textasciitilde{} & E1 &  0.8073429 & 0.04708357 & 17.147019 & 0.000000e+00 &  0.7150608 &  0.8996250\\\\\n",
       "\t E2 & \\textasciitilde{}\\textasciitilde{} & E2 &  0.8413358 & 0.04442120 & 18.939962 & 0.000000e+00 &  0.7542718 &  0.9283997\\\\\n",
       "\t E3 & \\textasciitilde{}\\textasciitilde{} & E3 &  0.8406470 & 0.04448315 & 18.898100 & 0.000000e+00 &  0.7534617 &  0.9278324\\\\\n",
       "\t E4 & \\textasciitilde{}\\textasciitilde{} & E4 &  0.8671929 & 0.04181755 & 20.737533 & 0.000000e+00 &  0.7852320 &  0.9491538\\\\\n",
       "\t f1 & \\textasciitilde{}\\textasciitilde{} & f1 &  1.0000000 & 0.00000000 &        NA &           NA &  1.0000000 &  1.0000000\\\\\n",
       "\\end{tabular}\n"
      ],
      "text/markdown": [
       "\n",
       "A lavaan.data.frame: 17 x 9\n",
       "\n",
       "| lhs &lt;chr&gt; | op &lt;chr&gt; | rhs &lt;chr&gt; | est.std &lt;dbl&gt; | se &lt;dbl&gt; | z &lt;dbl&gt; | pvalue &lt;dbl&gt; | ci.lower &lt;dbl&gt; | ci.upper &lt;dbl&gt; |\n",
       "|---|---|---|---|---|---|---|---|---|\n",
       "| f1 | =~ | N1 |  0.8803717 | 0.01821233 | 48.339322 | 0.000000e+00 |  0.8446762 |  0.9160673 |\n",
       "| f1 | =~ | N2 |  0.8424369 | 0.02179745 | 38.648409 | 0.000000e+00 |  0.7997147 |  0.8851591 |\n",
       "| f1 | =~ | N3 |  0.8431190 | 0.02173170 | 38.796733 | 0.000000e+00 |  0.8005257 |  0.8857124 |\n",
       "| f1 | =~ | N4 |  0.8719792 | 0.01898826 | 45.922019 | 0.000000e+00 |  0.8347629 |  0.9091955 |\n",
       "| f1 | =~ | E1 | -0.4389273 | 0.05368053 | -8.176656 | 2.220446e-16 | -0.5441392 | -0.3337153 |\n",
       "| f1 | =~ | E2 | -0.3983268 | 0.05581495 | -7.136560 | 9.570122e-13 | -0.5077221 | -0.2889315 |\n",
       "| f1 | =~ | E3 | -0.3991904 | 0.05577170 | -7.157580 | 8.211209e-13 | -0.5085009 | -0.2898799 |\n",
       "| f1 | =~ | E4 | -0.3644271 | 0.05743899 | -6.344595 | 2.230112e-10 | -0.4770055 | -0.2518488 |\n",
       "| N1 | ~~ | N1 |  0.2249456 | 0.03206479 |  7.015345 | 2.293721e-12 |  0.1620998 |  0.2877914 |\n",
       "| N2 | ~~ | N2 |  0.2903001 | 0.03672516 |  7.904666 | 2.664535e-15 |  0.2183201 |  0.3622801 |\n",
       "| N3 | ~~ | N3 |  0.2891503 | 0.03664399 |  7.890797 | 3.108624e-15 |  0.2173294 |  0.3609712 |\n",
       "| N4 | ~~ | N4 |  0.2396523 | 0.03311262 |  7.237491 | 4.569678e-13 |  0.1747527 |  0.3045518 |\n",
       "| E1 | ~~ | E1 |  0.8073429 | 0.04708357 | 17.147019 | 0.000000e+00 |  0.7150608 |  0.8996250 |\n",
       "| E2 | ~~ | E2 |  0.8413358 | 0.04442120 | 18.939962 | 0.000000e+00 |  0.7542718 |  0.9283997 |\n",
       "| E3 | ~~ | E3 |  0.8406470 | 0.04448315 | 18.898100 | 0.000000e+00 |  0.7534617 |  0.9278324 |\n",
       "| E4 | ~~ | E4 |  0.8671929 | 0.04181755 | 20.737533 | 0.000000e+00 |  0.7852320 |  0.9491538 |\n",
       "| f1 | ~~ | f1 |  1.0000000 | 0.00000000 |        NA |           NA |  1.0000000 |  1.0000000 |\n",
       "\n"
      ],
      "text/plain": [
       "   lhs op rhs est.std    se         z         pvalue       ci.lower  \n",
       "1  f1  =~ N1   0.8803717 0.01821233 48.339322 0.000000e+00  0.8446762\n",
       "2  f1  =~ N2   0.8424369 0.02179745 38.648409 0.000000e+00  0.7997147\n",
       "3  f1  =~ N3   0.8431190 0.02173170 38.796733 0.000000e+00  0.8005257\n",
       "4  f1  =~ N4   0.8719792 0.01898826 45.922019 0.000000e+00  0.8347629\n",
       "5  f1  =~ E1  -0.4389273 0.05368053 -8.176656 2.220446e-16 -0.5441392\n",
       "6  f1  =~ E2  -0.3983268 0.05581495 -7.136560 9.570122e-13 -0.5077221\n",
       "7  f1  =~ E3  -0.3991904 0.05577170 -7.157580 8.211209e-13 -0.5085009\n",
       "8  f1  =~ E4  -0.3644271 0.05743899 -6.344595 2.230112e-10 -0.4770055\n",
       "9  N1  ~~ N1   0.2249456 0.03206479  7.015345 2.293721e-12  0.1620998\n",
       "10 N2  ~~ N2   0.2903001 0.03672516  7.904666 2.664535e-15  0.2183201\n",
       "11 N3  ~~ N3   0.2891503 0.03664399  7.890797 3.108624e-15  0.2173294\n",
       "12 N4  ~~ N4   0.2396523 0.03311262  7.237491 4.569678e-13  0.1747527\n",
       "13 E1  ~~ E1   0.8073429 0.04708357 17.147019 0.000000e+00  0.7150608\n",
       "14 E2  ~~ E2   0.8413358 0.04442120 18.939962 0.000000e+00  0.7542718\n",
       "15 E3  ~~ E3   0.8406470 0.04448315 18.898100 0.000000e+00  0.7534617\n",
       "16 E4  ~~ E4   0.8671929 0.04181755 20.737533 0.000000e+00  0.7852320\n",
       "17 f1  ~~ f1   1.0000000 0.00000000        NA           NA  1.0000000\n",
       "   ci.upper  \n",
       "1   0.9160673\n",
       "2   0.8851591\n",
       "3   0.8857124\n",
       "4   0.9091955\n",
       "5  -0.3337153\n",
       "6  -0.2889315\n",
       "7  -0.2898799\n",
       "8  -0.2518488\n",
       "9   0.2877914\n",
       "10  0.3622801\n",
       "11  0.3609712\n",
       "12  0.3045518\n",
       "13  0.8996250\n",
       "14  0.9283997\n",
       "15  0.9278324\n",
       "16  0.9491538\n",
       "17  1.0000000"
      ]
     },
     "metadata": {},
     "output_type": "display_data"
    }
   ],
   "source": [
    "standardizedSolution(efa_f1)"
   ]
  },
  {
   "cell_type": "code",
   "execution_count": 25,
   "id": "9fd7f6e1",
   "metadata": {
    "vscode": {
     "languageId": "r"
    }
   },
   "outputs": [
    {
     "name": "stdout",
     "output_type": "stream",
     "text": [
      "$type\n",
      "[1] \"cor.bollen\"\n",
      "\n",
      "$cov\n",
      "       N1     N2     N3     N4     E1     E2     E3     E4\n",
      "N1  0.000                                                 \n",
      "N2  0.025  0.000                                          \n",
      "N3 -0.011 -0.001  0.000                                   \n",
      "N4  0.010  0.003  0.027  0.000                            \n",
      "E1  0.035  0.068  0.014  0.065  0.000                     \n",
      "E2  0.035  0.056  0.036  0.080  0.500  0.000              \n",
      "E3  0.055  0.047  0.040  0.052  0.459  0.492  0.000       \n",
      "E4  0.039  0.053  0.015  0.073  0.374  0.448  0.421  0.000\n",
      "\n"
     ]
    }
   ],
   "source": [
    "lavaan::residuals(efa_f1, type = \"cor\") |>\n",
    "    print()"
   ]
  },
  {
   "cell_type": "markdown",
   "id": "3153b2e0",
   "metadata": {},
   "source": [
    "Adattiamo ai dati il modello a due fattori comuni."
   ]
  },
  {
   "cell_type": "code",
   "execution_count": 26,
   "id": "0dc1f372",
   "metadata": {
    "vscode": {
     "languageId": "r"
    }
   },
   "outputs": [],
   "source": [
    "efa_f2 <- cfa(\n",
    "    model = f2,\n",
    "    sample.cov = psychot_cor_mat,\n",
    "    sample.nobs = 250,\n",
    "    rotation = \"oblimin\"\n",
    ")"
   ]
  },
  {
   "cell_type": "markdown",
   "id": "a24dcaa1",
   "metadata": {},
   "source": [
    "Esaminiamo la soluzione ottenuta."
   ]
  },
  {
   "cell_type": "code",
   "execution_count": 27,
   "id": "24f48d21",
   "metadata": {
    "vscode": {
     "languageId": "r"
    }
   },
   "outputs": [
    {
     "data": {
      "image/png": "[encoded data removed]",
      "text/plain": [
       "plot without title"
      ]
     },
     "metadata": {
      "image/png": {
       "height": 420,
       "width": 420
      }
     },
     "output_type": "display_data"
    }
   ],
   "source": [
    "semPlot::semPaths(efa_f2,\n",
    "    what = \"col\", whatLabels = \"std\", style = \"mx\",\n",
    "    layout = \"tree2\", nCharNodes = 7,\n",
    "    shapeMan = \"rectangle\", sizeMan = 8, sizeMan2 = 5\n",
    ")"
   ]
  },
  {
   "cell_type": "code",
   "execution_count": 28,
   "id": "34de2cf5",
   "metadata": {
    "vscode": {
     "languageId": "r"
    }
   },
   "outputs": [
    {
     "name": "stdout",
     "output_type": "stream",
     "text": [
      "lavaan 0.6.17 ended normally after 1 iteration\n",
      "\n",
      "  Estimator                                         ML\n",
      "  Optimization method                           NLMINB\n",
      "  Number of model parameters                        23\n",
      "\n",
      "  Rotation method                      OBLIMIN OBLIQUE\n",
      "  Oblimin gamma                                      0\n",
      "  Rotation algorithm (rstarts)                GPA (30)\n",
      "  Standardized metric                             TRUE\n",
      "  Row weights                                     None\n",
      "\n",
      "  Number of observations                           250\n",
      "\n",
      "Model Test User Model:\n",
      "                                                      \n",
      "  Test statistic                                 9.811\n",
      "  Degrees of freedom                                13\n",
      "  P-value (Chi-square)                           0.709\n",
      "\n",
      "Model Test Baseline Model:\n",
      "\n",
      "  Test statistic                              1253.791\n",
      "  Degrees of freedom                                28\n",
      "  P-value                                        0.000\n",
      "\n",
      "User Model versus Baseline Model:\n",
      "\n",
      "  Comparative Fit Index (CFI)                    1.000\n",
      "  Tucker-Lewis Index (TLI)                       1.006\n",
      "\n",
      "Loglikelihood and Information Criteria:\n",
      "\n",
      "  Loglikelihood user model (H0)              -2211.879\n",
      "  Loglikelihood unrestricted model (H1)      -2206.974\n",
      "                                                      \n",
      "  Akaike (AIC)                                4469.758\n",
      "  Bayesian (BIC)                              4550.752\n",
      "  Sample-size adjusted Bayesian (SABIC)       4477.840\n",
      "\n",
      "Root Mean Square Error of Approximation:\n",
      "\n",
      "  RMSEA                                          0.000\n",
      "  90 Percent confidence interval - lower         0.000\n",
      "  90 Percent confidence interval - upper         0.048\n",
      "  P-value H_0: RMSEA <= 0.050                    0.957\n",
      "  P-value H_0: RMSEA >= 0.080                    0.001\n",
      "\n",
      "Standardized Root Mean Square Residual:\n",
      "\n",
      "  SRMR                                           0.010\n",
      "\n",
      "Parameter Estimates:\n",
      "\n",
      "  Standard errors                             Standard\n",
      "  Information                                 Expected\n",
      "  Information saturated (h1) model          Structured\n",
      "\n",
      "Latent Variables:\n",
      "                   Estimate  Std.Err  z-value  P(>|z|)   Std.lv  Std.all\n",
      "  f1 =~ efa                                                             \n",
      "    N1                0.874    0.053   16.592    0.000    0.874    0.876\n",
      "    N2                0.851    0.055   15.551    0.000    0.851    0.853\n",
      "    N3                0.826    0.054   15.179    0.000    0.826    0.828\n",
      "    N4                0.896    0.053   16.802    0.000    0.896    0.898\n",
      "    E1               -0.046    0.040   -1.138    0.255   -0.046   -0.046\n",
      "    E2                0.035    0.034    1.030    0.303    0.035    0.035\n",
      "    E3                0.000    0.040    0.010    0.992    0.000    0.000\n",
      "    E4               -0.006    0.049   -0.131    0.896   -0.006   -0.006\n",
      "  f2 =~ efa                                                             \n",
      "    N1               -0.017    0.032   -0.539    0.590   -0.017   -0.017\n",
      "    N2                0.011    0.035    0.322    0.748    0.011    0.011\n",
      "    N3               -0.035    0.036   -0.949    0.343   -0.035   -0.035\n",
      "    N4                0.031    0.031    0.994    0.320    0.031    0.031\n",
      "    E1                0.776    0.059   13.125    0.000    0.776    0.778\n",
      "    E2                0.854    0.058   14.677    0.000    0.854    0.855\n",
      "    E3                0.785    0.060   13.106    0.000    0.785    0.787\n",
      "    E4                0.695    0.063   10.955    0.000    0.695    0.697\n",
      "\n",
      "Covariances:\n",
      "                   Estimate  Std.Err  z-value  P(>|z|)   Std.lv  Std.all\n",
      "  f1 ~~                                                                 \n",
      "    f2               -0.432    0.059   -7.345    0.000   -0.432   -0.432\n",
      "\n",
      "Variances:\n",
      "                   Estimate  Std.Err  z-value  P(>|z|)   Std.lv  Std.all\n",
      "   .N1                0.218    0.028    7.790    0.000    0.218    0.219\n",
      "   .N2                0.279    0.032    8.693    0.000    0.279    0.280\n",
      "   .N3                0.287    0.032    8.907    0.000    0.287    0.289\n",
      "   .N4                0.216    0.029    7.578    0.000    0.216    0.217\n",
      "   .E1                0.361    0.044    8.226    0.000    0.361    0.362\n",
      "   .E2                0.292    0.043    6.787    0.000    0.292    0.293\n",
      "   .E3                0.379    0.046    8.315    0.000    0.379    0.381\n",
      "   .E4                0.509    0.053    9.554    0.000    0.509    0.511\n",
      "    f1                1.000                               1.000    1.000\n",
      "    f2                1.000                               1.000    1.000\n",
      "\n",
      "R-Square:\n",
      "                   Estimate\n",
      "    N1                0.781\n",
      "    N2                0.720\n",
      "    N3                0.711\n",
      "    N4                0.783\n",
      "    E1                0.638\n",
      "    E2                0.707\n",
      "    E3                0.619\n",
      "    E4                0.489\n",
      "\n"
     ]
    }
   ],
   "source": [
    "summary(\n",
    "    efa_f2,\n",
    "    fit.measures = TRUE,\n",
    "    standardized = TRUE,\n",
    "    rsquare = TRUE\n",
    ") |>\n",
    "    print()"
   ]
  },
  {
   "cell_type": "code",
   "execution_count": 29,
   "id": "1ff456b9",
   "metadata": {
    "vscode": {
     "languageId": "r"
    }
   },
   "outputs": [
    {
     "data": {
      "text/html": [
       "<table class=\"dataframe\">\n",
       "<caption>A lavaan.data.frame: 27 x 9</caption>\n",
       "<thead>\n",
       "\t<tr><th scope=col>lhs</th><th scope=col>op</th><th scope=col>rhs</th><th scope=col>est.std</th><th scope=col>se</th><th scope=col>z</th><th scope=col>pvalue</th><th scope=col>ci.lower</th><th scope=col>ci.upper</th></tr>\n",
       "\t<tr><th scope=col>&lt;chr&gt;</th><th scope=col>&lt;chr&gt;</th><th scope=col>&lt;chr&gt;</th><th scope=col>&lt;dbl&gt;</th><th scope=col>&lt;dbl&gt;</th><th scope=col>&lt;dbl&gt;</th><th scope=col>&lt;dbl&gt;</th><th scope=col>&lt;dbl&gt;</th><th scope=col>&lt;dbl&gt;</th></tr>\n",
       "</thead>\n",
       "<tbody>\n",
       "\t<tr><td>f1</td><td>=~</td><td>N1</td><td> 0.8761395102</td><td>0.02407417</td><td>36.39334610</td><td>0.000000e+00</td><td> 0.82895501</td><td> 0.92332401</td></tr>\n",
       "\t<tr><td>f1</td><td>=~</td><td>N2</td><td> 0.8531678152</td><td>0.02702414</td><td>31.57058251</td><td>0.000000e+00</td><td> 0.80020148</td><td> 0.90613415</td></tr>\n",
       "\t<tr><td>f1</td><td>=~</td><td>N3</td><td> 0.8279481017</td><td>0.02867566</td><td>28.87284913</td><td>0.000000e+00</td><td> 0.77174483</td><td> 0.88415137</td></tr>\n",
       "\t<tr><td>f1</td><td>=~</td><td>N4</td><td> 0.8978425227</td><td>0.02300072</td><td>39.03541504</td><td>0.000000e+00</td><td> 0.85276195</td><td> 0.94292310</td></tr>\n",
       "\t<tr><td>f1</td><td>=~</td><td>E1</td><td>-0.0459319249</td><td>0.04188329</td><td>-1.09666460</td><td>2.727880e-01</td><td>-0.12802167</td><td> 0.03615782</td></tr>\n",
       "\t<tr><td>f1</td><td>=~</td><td>E2</td><td> 0.0348803050</td><td>0.03211406</td><td> 1.08613823</td><td>2.774178e-01</td><td>-0.02806209</td><td> 0.09782270</td></tr>\n",
       "\t<tr><td>f1</td><td>=~</td><td>E3</td><td> 0.0004048457</td><td>0.04030449</td><td> 0.01004468</td><td>9.919856e-01</td><td>-0.07859050</td><td> 0.07940019</td></tr>\n",
       "\t<tr><td>f1</td><td>=~</td><td>E4</td><td>-0.0064182771</td><td>0.04931505</td><td>-0.13014844</td><td>8.964490e-01</td><td>-0.10307401</td><td> 0.09023745</td></tr>\n",
       "\t<tr><td>f2</td><td>=~</td><td>N1</td><td>-0.0170399590</td><td>0.03201112</td><td>-0.53231373</td><td>5.945087e-01</td><td>-0.07978060</td><td> 0.04570069</td></tr>\n",
       "\t<tr><td>f2</td><td>=~</td><td>N2</td><td> 0.0113498122</td><td>0.03500532</td><td> 0.32423110</td><td>7.457631e-01</td><td>-0.05725935</td><td> 0.07995897</td></tr>\n",
       "\t<tr><td>f2</td><td>=~</td><td>N3</td><td>-0.0346710957</td><td>0.03754572</td><td>-0.92343665</td><td>3.557797e-01</td><td>-0.10825936</td><td> 0.03891717</td></tr>\n",
       "\t<tr><td>f2</td><td>=~</td><td>N4</td><td> 0.0308917105</td><td>0.02998228</td><td> 1.03033232</td><td>3.028540e-01</td><td>-0.02787248</td><td> 0.08965590</td></tr>\n",
       "\t<tr><td>f2</td><td>=~</td><td>E1</td><td> 0.7778646543</td><td>0.03799546</td><td>20.47256881</td><td>0.000000e+00</td><td> 0.70339492</td><td> 0.85233439</td></tr>\n",
       "\t<tr><td>f2</td><td>=~</td><td>E2</td><td> 0.8553963090</td><td>0.03237245</td><td>26.42358914</td><td>0.000000e+00</td><td> 0.79194747</td><td> 0.91884514</td></tr>\n",
       "\t<tr><td>f2</td><td>=~</td><td>E3</td><td> 0.7870608048</td><td>0.03768544</td><td>20.88501110</td><td>0.000000e+00</td><td> 0.71319870</td><td> 0.86092291</td></tr>\n",
       "\t<tr><td>f2</td><td>=~</td><td>E4</td><td> 0.6965219353</td><td>0.04556050</td><td>15.28784635</td><td>0.000000e+00</td><td> 0.60722499</td><td> 0.78581888</td></tr>\n",
       "\t<tr><td>N1</td><td>~~</td><td>N1</td><td> 0.2191956687</td><td>0.03170768</td><td> 6.91301577</td><td>4.744649e-12</td><td> 0.15704976</td><td> 0.28134157</td></tr>\n",
       "\t<tr><td>N2</td><td>~~</td><td>N2</td><td> 0.2803386887</td><td>0.03624154</td><td> 7.73528689</td><td>1.021405e-14</td><td> 0.20930658</td><td> 0.35137080</td></tr>\n",
       "\t<tr><td>N3</td><td>~~</td><td>N3</td><td> 0.2885084763</td><td>0.03644206</td><td> 7.91690962</td><td>2.442491e-15</td><td> 0.21708336</td><td> 0.35993360</td></tr>\n",
       "\t<tr><td>N4</td><td>~~</td><td>N4</td><td> 0.2168781811</td><td>0.03209316</td><td> 6.75776865</td><td>1.401324e-11</td><td> 0.15397673</td><td> 0.27977963</td></tr>\n",
       "\t<tr><td>E1</td><td>~~</td><td>E1</td><td> 0.3619601932</td><td>0.04713705</td><td> 7.67888939</td><td>1.598721e-14</td><td> 0.26957327</td><td> 0.45434711</td></tr>\n",
       "\t<tr><td>E2</td><td>~~</td><td>E2</td><td> 0.2928483379</td><td>0.04628174</td><td> 6.32751356</td><td>2.491432e-10</td><td> 0.20213779</td><td> 0.38355888</td></tr>\n",
       "\t<tr><td>E3</td><td>~~</td><td>E3</td><td> 0.3808103127</td><td>0.04868397</td><td> 7.82208813</td><td>5.107026e-15</td><td> 0.28539148</td><td> 0.47622914</td></tr>\n",
       "\t<tr><td>E4</td><td>~~</td><td>E4</td><td> 0.5109551463</td><td>0.05301682</td><td> 9.63760518</td><td>0.000000e+00</td><td> 0.40704410</td><td> 0.61486620</td></tr>\n",
       "\t<tr><td>f1</td><td>~~</td><td>f1</td><td> 1.0000000000</td><td>0.00000000</td><td>         NA</td><td>          NA</td><td> 1.00000000</td><td> 1.00000000</td></tr>\n",
       "\t<tr><td>f2</td><td>~~</td><td>f2</td><td> 1.0000000000</td><td>0.00000000</td><td>         NA</td><td>          NA</td><td> 1.00000000</td><td> 1.00000000</td></tr>\n",
       "\t<tr><td>f1</td><td>~~</td><td>f2</td><td>-0.4318172824</td><td>0.05799170</td><td>-7.44619142</td><td>9.614531e-14</td><td>-0.54547892</td><td>-0.31815564</td></tr>\n",
       "</tbody>\n",
       "</table>\n"
      ],
      "text/latex": [
       "A lavaan.data.frame: 27 x 9\n",
       "\\begin{tabular}{lllllllll}\n",
       " lhs & op & rhs & est.std & se & z & pvalue & ci.lower & ci.upper\\\\\n",
       " <chr> & <chr> & <chr> & <dbl> & <dbl> & <dbl> & <dbl> & <dbl> & <dbl>\\\\\n",
       "\\hline\n",
       "\t f1 & =\\textasciitilde{} & N1 &  0.8761395102 & 0.02407417 & 36.39334610 & 0.000000e+00 &  0.82895501 &  0.92332401\\\\\n",
       "\t f1 & =\\textasciitilde{} & N2 &  0.8531678152 & 0.02702414 & 31.57058251 & 0.000000e+00 &  0.80020148 &  0.90613415\\\\\n",
       "\t f1 & =\\textasciitilde{} & N3 &  0.8279481017 & 0.02867566 & 28.87284913 & 0.000000e+00 &  0.77174483 &  0.88415137\\\\\n",
       "\t f1 & =\\textasciitilde{} & N4 &  0.8978425227 & 0.02300072 & 39.03541504 & 0.000000e+00 &  0.85276195 &  0.94292310\\\\\n",
       "\t f1 & =\\textasciitilde{} & E1 & -0.0459319249 & 0.04188329 & -1.09666460 & 2.727880e-01 & -0.12802167 &  0.03615782\\\\\n",
       "\t f1 & =\\textasciitilde{} & E2 &  0.0348803050 & 0.03211406 &  1.08613823 & 2.774178e-01 & -0.02806209 &  0.09782270\\\\\n",
       "\t f1 & =\\textasciitilde{} & E3 &  0.0004048457 & 0.04030449 &  0.01004468 & 9.919856e-01 & -0.07859050 &  0.07940019\\\\\n",
       "\t f1 & =\\textasciitilde{} & E4 & -0.0064182771 & 0.04931505 & -0.13014844 & 8.964490e-01 & -0.10307401 &  0.09023745\\\\\n",
       "\t f2 & =\\textasciitilde{} & N1 & -0.0170399590 & 0.03201112 & -0.53231373 & 5.945087e-01 & -0.07978060 &  0.04570069\\\\\n",
       "\t f2 & =\\textasciitilde{} & N2 &  0.0113498122 & 0.03500532 &  0.32423110 & 7.457631e-01 & -0.05725935 &  0.07995897\\\\\n",
       "\t f2 & =\\textasciitilde{} & N3 & -0.0346710957 & 0.03754572 & -0.92343665 & 3.557797e-01 & -0.10825936 &  0.03891717\\\\\n",
       "\t f2 & =\\textasciitilde{} & N4 &  0.0308917105 & 0.02998228 &  1.03033232 & 3.028540e-01 & -0.02787248 &  0.08965590\\\\\n",
       "\t f2 & =\\textasciitilde{} & E1 &  0.7778646543 & 0.03799546 & 20.47256881 & 0.000000e+00 &  0.70339492 &  0.85233439\\\\\n",
       "\t f2 & =\\textasciitilde{} & E2 &  0.8553963090 & 0.03237245 & 26.42358914 & 0.000000e+00 &  0.79194747 &  0.91884514\\\\\n",
       "\t f2 & =\\textasciitilde{} & E3 &  0.7870608048 & 0.03768544 & 20.88501110 & 0.000000e+00 &  0.71319870 &  0.86092291\\\\\n",
       "\t f2 & =\\textasciitilde{} & E4 &  0.6965219353 & 0.04556050 & 15.28784635 & 0.000000e+00 &  0.60722499 &  0.78581888\\\\\n",
       "\t N1 & \\textasciitilde{}\\textasciitilde{} & N1 &  0.2191956687 & 0.03170768 &  6.91301577 & 4.744649e-12 &  0.15704976 &  0.28134157\\\\\n",
       "\t N2 & \\textasciitilde{}\\textasciitilde{} & N2 &  0.2803386887 & 0.03624154 &  7.73528689 & 1.021405e-14 &  0.20930658 &  0.35137080\\\\\n",
       "\t N3 & \\textasciitilde{}\\textasciitilde{} & N3 &  0.2885084763 & 0.03644206 &  7.91690962 & 2.442491e-15 &  0.21708336 &  0.35993360\\\\\n",
       "\t N4 & \\textasciitilde{}\\textasciitilde{} & N4 &  0.2168781811 & 0.03209316 &  6.75776865 & 1.401324e-11 &  0.15397673 &  0.27977963\\\\\n",
       "\t E1 & \\textasciitilde{}\\textasciitilde{} & E1 &  0.3619601932 & 0.04713705 &  7.67888939 & 1.598721e-14 &  0.26957327 &  0.45434711\\\\\n",
       "\t E2 & \\textasciitilde{}\\textasciitilde{} & E2 &  0.2928483379 & 0.04628174 &  6.32751356 & 2.491432e-10 &  0.20213779 &  0.38355888\\\\\n",
       "\t E3 & \\textasciitilde{}\\textasciitilde{} & E3 &  0.3808103127 & 0.04868397 &  7.82208813 & 5.107026e-15 &  0.28539148 &  0.47622914\\\\\n",
       "\t E4 & \\textasciitilde{}\\textasciitilde{} & E4 &  0.5109551463 & 0.05301682 &  9.63760518 & 0.000000e+00 &  0.40704410 &  0.61486620\\\\\n",
       "\t f1 & \\textasciitilde{}\\textasciitilde{} & f1 &  1.0000000000 & 0.00000000 &          NA &           NA &  1.00000000 &  1.00000000\\\\\n",
       "\t f2 & \\textasciitilde{}\\textasciitilde{} & f2 &  1.0000000000 & 0.00000000 &          NA &           NA &  1.00000000 &  1.00000000\\\\\n",
       "\t f1 & \\textasciitilde{}\\textasciitilde{} & f2 & -0.4318172824 & 0.05799170 & -7.44619142 & 9.614531e-14 & -0.54547892 & -0.31815564\\\\\n",
       "\\end{tabular}\n"
      ],
      "text/markdown": [
       "\n",
       "A lavaan.data.frame: 27 x 9\n",
       "\n",
       "| lhs &lt;chr&gt; | op &lt;chr&gt; | rhs &lt;chr&gt; | est.std &lt;dbl&gt; | se &lt;dbl&gt; | z &lt;dbl&gt; | pvalue &lt;dbl&gt; | ci.lower &lt;dbl&gt; | ci.upper &lt;dbl&gt; |\n",
       "|---|---|---|---|---|---|---|---|---|\n",
       "| f1 | =~ | N1 |  0.8761395102 | 0.02407417 | 36.39334610 | 0.000000e+00 |  0.82895501 |  0.92332401 |\n",
       "| f1 | =~ | N2 |  0.8531678152 | 0.02702414 | 31.57058251 | 0.000000e+00 |  0.80020148 |  0.90613415 |\n",
       "| f1 | =~ | N3 |  0.8279481017 | 0.02867566 | 28.87284913 | 0.000000e+00 |  0.77174483 |  0.88415137 |\n",
       "| f1 | =~ | N4 |  0.8978425227 | 0.02300072 | 39.03541504 | 0.000000e+00 |  0.85276195 |  0.94292310 |\n",
       "| f1 | =~ | E1 | -0.0459319249 | 0.04188329 | -1.09666460 | 2.727880e-01 | -0.12802167 |  0.03615782 |\n",
       "| f1 | =~ | E2 |  0.0348803050 | 0.03211406 |  1.08613823 | 2.774178e-01 | -0.02806209 |  0.09782270 |\n",
       "| f1 | =~ | E3 |  0.0004048457 | 0.04030449 |  0.01004468 | 9.919856e-01 | -0.07859050 |  0.07940019 |\n",
       "| f1 | =~ | E4 | -0.0064182771 | 0.04931505 | -0.13014844 | 8.964490e-01 | -0.10307401 |  0.09023745 |\n",
       "| f2 | =~ | N1 | -0.0170399590 | 0.03201112 | -0.53231373 | 5.945087e-01 | -0.07978060 |  0.04570069 |\n",
       "| f2 | =~ | N2 |  0.0113498122 | 0.03500532 |  0.32423110 | 7.457631e-01 | -0.05725935 |  0.07995897 |\n",
       "| f2 | =~ | N3 | -0.0346710957 | 0.03754572 | -0.92343665 | 3.557797e-01 | -0.10825936 |  0.03891717 |\n",
       "| f2 | =~ | N4 |  0.0308917105 | 0.02998228 |  1.03033232 | 3.028540e-01 | -0.02787248 |  0.08965590 |\n",
       "| f2 | =~ | E1 |  0.7778646543 | 0.03799546 | 20.47256881 | 0.000000e+00 |  0.70339492 |  0.85233439 |\n",
       "| f2 | =~ | E2 |  0.8553963090 | 0.03237245 | 26.42358914 | 0.000000e+00 |  0.79194747 |  0.91884514 |\n",
       "| f2 | =~ | E3 |  0.7870608048 | 0.03768544 | 20.88501110 | 0.000000e+00 |  0.71319870 |  0.86092291 |\n",
       "| f2 | =~ | E4 |  0.6965219353 | 0.04556050 | 15.28784635 | 0.000000e+00 |  0.60722499 |  0.78581888 |\n",
       "| N1 | ~~ | N1 |  0.2191956687 | 0.03170768 |  6.91301577 | 4.744649e-12 |  0.15704976 |  0.28134157 |\n",
       "| N2 | ~~ | N2 |  0.2803386887 | 0.03624154 |  7.73528689 | 1.021405e-14 |  0.20930658 |  0.35137080 |\n",
       "| N3 | ~~ | N3 |  0.2885084763 | 0.03644206 |  7.91690962 | 2.442491e-15 |  0.21708336 |  0.35993360 |\n",
       "| N4 | ~~ | N4 |  0.2168781811 | 0.03209316 |  6.75776865 | 1.401324e-11 |  0.15397673 |  0.27977963 |\n",
       "| E1 | ~~ | E1 |  0.3619601932 | 0.04713705 |  7.67888939 | 1.598721e-14 |  0.26957327 |  0.45434711 |\n",
       "| E2 | ~~ | E2 |  0.2928483379 | 0.04628174 |  6.32751356 | 2.491432e-10 |  0.20213779 |  0.38355888 |\n",
       "| E3 | ~~ | E3 |  0.3808103127 | 0.04868397 |  7.82208813 | 5.107026e-15 |  0.28539148 |  0.47622914 |\n",
       "| E4 | ~~ | E4 |  0.5109551463 | 0.05301682 |  9.63760518 | 0.000000e+00 |  0.40704410 |  0.61486620 |\n",
       "| f1 | ~~ | f1 |  1.0000000000 | 0.00000000 |          NA |           NA |  1.00000000 |  1.00000000 |\n",
       "| f2 | ~~ | f2 |  1.0000000000 | 0.00000000 |          NA |           NA |  1.00000000 |  1.00000000 |\n",
       "| f1 | ~~ | f2 | -0.4318172824 | 0.05799170 | -7.44619142 | 9.614531e-14 | -0.54547892 | -0.31815564 |\n",
       "\n"
      ],
      "text/plain": [
       "   lhs op rhs est.std       se         z           pvalue       ci.lower   \n",
       "1  f1  =~ N1   0.8761395102 0.02407417 36.39334610 0.000000e+00  0.82895501\n",
       "2  f1  =~ N2   0.8531678152 0.02702414 31.57058251 0.000000e+00  0.80020148\n",
       "3  f1  =~ N3   0.8279481017 0.02867566 28.87284913 0.000000e+00  0.77174483\n",
       "4  f1  =~ N4   0.8978425227 0.02300072 39.03541504 0.000000e+00  0.85276195\n",
       "5  f1  =~ E1  -0.0459319249 0.04188329 -1.09666460 2.727880e-01 -0.12802167\n",
       "6  f1  =~ E2   0.0348803050 0.03211406  1.08613823 2.774178e-01 -0.02806209\n",
       "7  f1  =~ E3   0.0004048457 0.04030449  0.01004468 9.919856e-01 -0.07859050\n",
       "8  f1  =~ E4  -0.0064182771 0.04931505 -0.13014844 8.964490e-01 -0.10307401\n",
       "9  f2  =~ N1  -0.0170399590 0.03201112 -0.53231373 5.945087e-01 -0.07978060\n",
       "10 f2  =~ N2   0.0113498122 0.03500532  0.32423110 7.457631e-01 -0.05725935\n",
       "11 f2  =~ N3  -0.0346710957 0.03754572 -0.92343665 3.557797e-01 -0.10825936\n",
       "12 f2  =~ N4   0.0308917105 0.02998228  1.03033232 3.028540e-01 -0.02787248\n",
       "13 f2  =~ E1   0.7778646543 0.03799546 20.47256881 0.000000e+00  0.70339492\n",
       "14 f2  =~ E2   0.8553963090 0.03237245 26.42358914 0.000000e+00  0.79194747\n",
       "15 f2  =~ E3   0.7870608048 0.03768544 20.88501110 0.000000e+00  0.71319870\n",
       "16 f2  =~ E4   0.6965219353 0.04556050 15.28784635 0.000000e+00  0.60722499\n",
       "17 N1  ~~ N1   0.2191956687 0.03170768  6.91301577 4.744649e-12  0.15704976\n",
       "18 N2  ~~ N2   0.2803386887 0.03624154  7.73528689 1.021405e-14  0.20930658\n",
       "19 N3  ~~ N3   0.2885084763 0.03644206  7.91690962 2.442491e-15  0.21708336\n",
       "20 N4  ~~ N4   0.2168781811 0.03209316  6.75776865 1.401324e-11  0.15397673\n",
       "21 E1  ~~ E1   0.3619601932 0.04713705  7.67888939 1.598721e-14  0.26957327\n",
       "22 E2  ~~ E2   0.2928483379 0.04628174  6.32751356 2.491432e-10  0.20213779\n",
       "23 E3  ~~ E3   0.3808103127 0.04868397  7.82208813 5.107026e-15  0.28539148\n",
       "24 E4  ~~ E4   0.5109551463 0.05301682  9.63760518 0.000000e+00  0.40704410\n",
       "25 f1  ~~ f1   1.0000000000 0.00000000          NA           NA  1.00000000\n",
       "26 f2  ~~ f2   1.0000000000 0.00000000          NA           NA  1.00000000\n",
       "27 f1  ~~ f2  -0.4318172824 0.05799170 -7.44619142 9.614531e-14 -0.54547892\n",
       "   ci.upper   \n",
       "1   0.92332401\n",
       "2   0.90613415\n",
       "3   0.88415137\n",
       "4   0.94292310\n",
       "5   0.03615782\n",
       "6   0.09782270\n",
       "7   0.07940019\n",
       "8   0.09023745\n",
       "9   0.04570069\n",
       "10  0.07995897\n",
       "11  0.03891717\n",
       "12  0.08965590\n",
       "13  0.85233439\n",
       "14  0.91884514\n",
       "15  0.86092291\n",
       "16  0.78581888\n",
       "17  0.28134157\n",
       "18  0.35137080\n",
       "19  0.35993360\n",
       "20  0.27977963\n",
       "21  0.45434711\n",
       "22  0.38355888\n",
       "23  0.47622914\n",
       "24  0.61486620\n",
       "25  1.00000000\n",
       "26  1.00000000\n",
       "27 -0.31815564"
      ]
     },
     "metadata": {},
     "output_type": "display_data"
    }
   ],
   "source": [
    "standardizedSolution(efa_f2)"
   ]
  },
  {
   "cell_type": "markdown",
   "id": "fb46ec11",
   "metadata": {},
   "source": [
    "Anche se abbiamo introdotto finora soltanto la misura di bontà di adattamento del chi-quadrato, aggiungiamo qui il calcolo di altre misure di bontà di adattamento che discuteremo in seguito."
   ]
  },
  {
   "cell_type": "code",
   "execution_count": 30,
   "id": "02899a9d",
   "metadata": {
    "vscode": {
     "languageId": "r"
    }
   },
   "outputs": [],
   "source": [
    "fit_measures_robust <- c(\n",
    "    \"chisq\", \"df\", \"pvalue\", \"cfi\", \"rmsea\", \"srmr\"\n",
    ")"
   ]
  },
  {
   "cell_type": "markdown",
   "id": "495ffd63",
   "metadata": {},
   "source": [
    "Confrontiamo le misure di bontà di adattamento del modello che ipotizza un solo fattore comune e il modello che ipotizza la presenza di due fattori comuni."
   ]
  },
  {
   "cell_type": "code",
   "execution_count": 31,
   "id": "f13143d7",
   "metadata": {
    "vscode": {
     "languageId": "r"
    }
   },
   "outputs": [
    {
     "data": {
      "text/html": [
       "<table class=\"dataframe\">\n",
       "<caption>A data.frame: 2 x 6</caption>\n",
       "<thead>\n",
       "\t<tr><th scope=col>chisq</th><th scope=col>df</th><th scope=col>pvalue</th><th scope=col>cfi</th><th scope=col>rmsea</th><th scope=col>srmr</th></tr>\n",
       "\t<tr><th scope=col>&lt;dbl&gt;</th><th scope=col>&lt;int&gt;</th><th scope=col>&lt;chr&gt;</th><th scope=col>&lt;dbl&gt;</th><th scope=col>&lt;dbl&gt;</th><th scope=col>&lt;dbl&gt;</th></tr>\n",
       "</thead>\n",
       "<tbody>\n",
       "\t<tr><td>375</td><td>20</td><td><span style=white-space:pre-wrap>&lt; .001           </span></td><td>0.71</td><td>0.267</td><td>0.187</td></tr>\n",
       "\t<tr><td> 10</td><td>13</td><td>0.709310449320098</td><td>1.00</td><td>0.000</td><td>0.010</td></tr>\n",
       "</tbody>\n",
       "</table>\n"
      ],
      "text/latex": [
       "A data.frame: 2 x 6\n",
       "\\begin{tabular}{llllll}\n",
       " chisq & df & pvalue & cfi & rmsea & srmr\\\\\n",
       " <dbl> & <int> & <chr> & <dbl> & <dbl> & <dbl>\\\\\n",
       "\\hline\n",
       "\t 375 & 20 & < .001            & 0.71 & 0.267 & 0.187\\\\\n",
       "\t  10 & 13 & 0.709310449320098 & 1.00 & 0.000 & 0.010\\\\\n",
       "\\end{tabular}\n"
      ],
      "text/markdown": [
       "\n",
       "A data.frame: 2 x 6\n",
       "\n",
       "| chisq &lt;dbl&gt; | df &lt;int&gt; | pvalue &lt;chr&gt; | cfi &lt;dbl&gt; | rmsea &lt;dbl&gt; | srmr &lt;dbl&gt; |\n",
       "|---|---|---|---|---|---|\n",
       "| 375 | 20 | &lt; .001            | 0.71 | 0.267 | 0.187 |\n",
       "|  10 | 13 | 0.709310449320098 | 1.00 | 0.000 | 0.010 |\n",
       "\n"
      ],
      "text/plain": [
       "  chisq df pvalue            cfi  rmsea srmr \n",
       "1 375   20 < .001            0.71 0.267 0.187\n",
       "2  10   13 0.709310449320098 1.00 0.000 0.010"
      ]
     },
     "metadata": {},
     "output_type": "display_data"
    }
   ],
   "source": [
    "# collect them for each model\n",
    "rbind(\n",
    "    fitmeasures(efa_f1, fit_measures_robust),\n",
    "    fitmeasures(efa_f2, fit_measures_robust)\n",
    ") %>%\n",
    "    # wrangle\n",
    "    data.frame() %>%\n",
    "    mutate(\n",
    "        chisq = round(chisq, digits = 0),\n",
    "        df = as.integer(df),\n",
    "        pvalue = ifelse(pvalue == 0, \"< .001\", pvalue)\n",
    "    ) %>%\n",
    "    mutate_at(vars(cfi:srmr), ~ round(., digits = 3))"
   ]
  },
  {
   "cell_type": "code",
   "execution_count": 32,
   "id": "6fa8d6be",
   "metadata": {
    "vscode": {
     "languageId": "r"
    }
   },
   "outputs": [
    {
     "name": "stdout",
     "output_type": "stream",
     "text": [
      "$type\n",
      "[1] \"cor.bollen\"\n",
      "\n",
      "$cov\n",
      "       N1     N2     N3     N4     E1     E2     E3     E4\n",
      "N1  0.000                                                 \n",
      "N2  0.018  0.000                                          \n",
      "N3 -0.014 -0.006  0.000                                   \n",
      "N4 -0.003 -0.013  0.017  0.000                            \n",
      "E1 -0.003  0.015 -0.012  0.000  0.000                     \n",
      "E2 -0.009 -0.004  0.006  0.007  0.006  0.000              \n",
      "E3  0.015 -0.008  0.011 -0.016  0.006 -0.010  0.000       \n",
      "E4 -0.001  0.000 -0.013  0.009 -0.024  0.006  0.016  0.000\n",
      "\n"
     ]
    }
   ],
   "source": [
    "lavaan::residuals(efa_f2, type = \"cor\") |>\n",
    "    print()"
   ]
  },
  {
   "cell_type": "markdown",
   "id": "df069331",
   "metadata": {},
   "source": [
    "L'evidenza empirica supporta la superiorità del modello a due fattori rispetto a quello ad un solo fattore comune. In particolare, l'analisi fattoriale esplorativa svolta mediante la funzione `efa()` evidenzia la capacità del modello a due fattori di fornire una descrizione adeguata della struttura dei dati e di distinguere in modo sensato tra i due fattori ipotizzati."
   ]
  },
  {
   "cell_type": "markdown",
   "id": "f7a60b7d",
   "metadata": {},
   "source": [
    "## Considerazioni Conclusive\n",
    "\n",
    "L'Exploratory Structural Equation Modeling (ESEM) rappresenta un ponte significativo tra i modelli di misurazione tradizionali dell'Exploratory Factor Analysis (EFA) e il più esteso quadro del Confirmatory Factor Analysis/Structural Equation Modeling (CFA/SEM). Grazie a questo, l'ESEM combina i benefici dell'EFA con quelli del CFA/SEM, fornendo un approccio più flessibile e inclusivo nell'analisi dei dati. Tale integrazione ha segnato un progresso notevole nella ricerca statistica, evidenziando l'importanza dell'EFA che precedentemente era sottovalutata.\n",
    "\n",
    "L'ESEM e il quadro bifattoriale-ESEM, in particolare, offrono una rappresentazione più fedele e precisa della multidimensionalità dei costrutti psicometrici, che è spesso presente nelle misurazioni. Questo approccio riconosce e gestisce meglio la natura multidimensionale dei costrutti, a differenza dell'approccio tradizionale del CFA, che tende a sovrastimare le correlazioni tra i fattori quando non considera adeguatamente la loro natura gerarchica e interconnessa (Asparouhov et al., 2015; Morin et al., 2020).\n",
    "\n",
    "Nonostante questi vantaggi, l'ESEM presenta alcune limitazioni che devono essere considerate:\n",
    "\n",
    "1. **Complessità Computazionale**: L'ESEM può essere più complesso e richiedere maggiori risorse computazionali rispetto agli approcci tradizionali, soprattutto quando si gestiscono grandi set di dati o modelli con molti fattori.\n",
    "2. **Interpretazione dei Risultati**: A causa della sua flessibilità, l'ESEM può produrre risultati che sono più difficili da interpretare. Ad esempio, la sovrapposizione tra i fattori può complicare l'interpretazione dei costrutti.\n",
    "3. **Rischio di Overfitting**: La maggiore flessibilità dell'ESEM può anche portare a un rischio maggiore di overfitting, specialmente in campioni più piccoli o con modelli eccessivamente complessi.\n",
    "4. **Necessità di Esperienza e Conoscenza**: Per utilizzare efficacemente l'ESEM, è richiesta una comprensione approfondita della teoria sottostante e delle tecniche statistiche, che può essere una barriera per alcuni ricercatori.\n",
    "\n",
    "Nonostante queste limitazioni, ci si aspetta che ulteriori sviluppi e applicazioni dell'ESEM portino a soluzioni più integrate e a un consenso più ampio sulle migliori pratiche nell'uso di questo potente strumento statistico."
   ]
  },
  {
   "cell_type": "markdown",
   "id": "1930a2a8",
   "metadata": {},
   "source": [
    "## Session Info"
   ]
  },
  {
   "cell_type": "code",
   "execution_count": 17,
   "id": "41dbd5b3",
   "metadata": {
    "vscode": {
     "languageId": "r"
    }
   },
   "outputs": [
    {
     "data": {
      "text/plain": [
       "R version 4.3.3 (2024-02-29)\n",
       "Platform: aarch64-apple-darwin20 (64-bit)\n",
       "Running under: macOS Sonoma 14.4.1\n",
       "\n",
       "Matrix products: default\n",
       "BLAS:   /Library/Frameworks/R.framework/Versions/4.3-arm64/Resources/lib/libRblas.0.dylib \n",
       "LAPACK: /Library/Frameworks/R.framework/Versions/4.3-arm64/Resources/lib/libRlapack.dylib;  LAPACK version 3.11.0\n",
       "\n",
       "locale:\n",
       "[1] C\n",
       "\n",
       "time zone: Europe/Rome\n",
       "tzcode source: internal\n",
       "\n",
       "attached base packages:\n",
       "[1] stats     graphics  grDevices utils     datasets  methods   base     \n",
       "\n",
       "other attached packages:\n",
       " [1] ggokabeito_0.1.0  viridis_0.6.5     viridisLite_0.4.2 ggpubr_0.6.0     \n",
       " [5] ggExtra_0.10.1    bayesplot_1.11.1  gridExtra_2.3     patchwork_1.2.0  \n",
       " [9] semTools_0.5-6    semPlot_1.1.6     lavaan_0.6-17     psych_2.4.3      \n",
       "[13] scales_1.3.0      markdown_1.12     knitr_1.45        lubridate_1.9.3  \n",
       "[17] forcats_1.0.0     stringr_1.5.1     dplyr_1.1.4       purrr_1.0.2      \n",
       "[21] readr_2.1.5       tidyr_1.3.1       tibble_3.2.1      ggplot2_3.5.0    \n",
       "[25] tidyverse_2.0.0   here_1.0.1       \n",
       "\n",
       "loaded via a namespace (and not attached):\n",
       "  [1] rstudioapi_0.15.0   jsonlite_1.8.8      magrittr_2.0.3     \n",
       "  [4] TH.data_1.1-2       estimability_1.5    nloptr_2.0.3       \n",
       "  [7] rmarkdown_2.26      vctrs_0.6.5         minqa_1.2.6        \n",
       " [10] base64enc_0.1-3     rstatix_0.7.2       htmltools_0.5.7    \n",
       " [13] broom_1.0.5         Formula_1.2-5       htmlwidgets_1.6.4  \n",
       " [16] plyr_1.8.9          sandwich_3.1-0      emmeans_1.10.0     \n",
       " [19] zoo_1.8-12          uuid_1.2-0          igraph_2.0.2       \n",
       " [22] mime_0.12           lifecycle_1.0.4     pkgconfig_2.0.3    \n",
       " [25] Matrix_1.6-5        R6_2.5.1            fastmap_1.1.1      \n",
       " [28] shiny_1.8.0         numDeriv_2016.8-1.1 digest_0.6.35      \n",
       " [31] OpenMx_2.21.11      fdrtool_1.2.17      colorspace_2.1-0   \n",
       " [34] rprojroot_2.0.4     Hmisc_5.1-1         fansi_1.0.6        \n",
       " [37] timechange_0.3.0    abind_1.4-5         compiler_4.3.3     \n",
       " [40] withr_3.0.0         glasso_1.11         htmlTable_2.4.2    \n",
       " [43] backports_1.4.1     carData_3.0-5       ggsignif_0.6.4     \n",
       " [46] MASS_7.3-60.0.1     corpcor_1.6.10      gtools_3.9.5       \n",
       " [49] tools_4.3.3         pbivnorm_0.6.0      foreign_0.8-86     \n",
       " [52] zip_2.3.1           httpuv_1.6.14       nnet_7.3-19        \n",
       " [55] glue_1.7.0          quadprog_1.5-8      nlme_3.1-164       \n",
       " [58] promises_1.2.1      lisrelToR_0.3       grid_4.3.3         \n",
       " [61] pbdZMQ_0.3-11       checkmate_2.3.1     cluster_2.1.6      \n",
       " [64] reshape2_1.4.4      generics_0.1.3      gtable_0.3.4       \n",
       " [67] tzdb_0.4.0          data.table_1.15.2   hms_1.1.3          \n",
       " [70] car_3.1-2           utf8_1.2.4          sem_3.1-15         \n",
       " [73] pillar_1.9.0        IRdisplay_1.1       rockchalk_1.8.157  \n",
       " [76] later_1.3.2         splines_4.3.3       lattice_0.22-5     \n",
       " [79] survival_3.5-8      kutils_1.73         tidyselect_1.2.0   \n",
       " [82] miniUI_0.1.1.1      pbapply_1.7-2       stats4_4.3.3       \n",
       " [85] xfun_0.42           qgraph_1.9.8        arm_1.13-1         \n",
       " [88] stringi_1.8.3       boot_1.3-29         evaluate_0.23      \n",
       " [91] codetools_0.2-19    mi_1.1              cli_3.6.2          \n",
       " [94] RcppParallel_5.1.7  IRkernel_1.3.2      rpart_4.1.23       \n",
       " [97] xtable_1.8-4        repr_1.1.6          munsell_0.5.0      \n",
       "[100] Rcpp_1.0.12         coda_0.19-4.1       png_0.1-8          \n",
       "[103] XML_3.99-0.16.1     parallel_4.3.3      ellipsis_0.3.2     \n",
       "[106] jpeg_0.1-10         lme4_1.1-35.1       mvtnorm_1.2-4      \n",
       "[109] openxlsx_4.2.5.2    crayon_1.5.2        rlang_1.1.3        \n",
       "[112] multcomp_1.4-25     mnormt_2.1.1       "
      ]
     },
     "metadata": {},
     "output_type": "display_data"
    }
   ],
   "source": [
    "sessionInfo()"
   ]
  }
 ],
 "metadata": {
  "jupytext": {
   "cell_metadata_filter": "tags,eval,-all",
   "main_language": "R",
   "notebook_metadata_filter": "-all"
  },
  "kernelspec": {
   "display_name": "R",
   "language": "R",
   "name": "ir"
  },
  "language_info": {
   "codemirror_mode": "r",
   "file_extension": ".r",
   "mimetype": "text/x-r-source",
   "name": "R",
   "pygments_lexer": "r",
   "version": "4.3.3"
  }
 },
 "nbformat": 4,
 "nbformat_minor": 5
}
