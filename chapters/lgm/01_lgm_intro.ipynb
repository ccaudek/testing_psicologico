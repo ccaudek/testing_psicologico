{
 "cells": [
  {
   "attachments": {},
   "cell_type": "markdown",
   "id": "faf0b592",
   "metadata": {},
   "source": [
    "# Curve di crescita latente {#sec-lgm-intro}"
   ]
  },
  {
   "cell_type": "markdown",
   "id": "dbf3fda6",
   "metadata": {},
   "source": [
    "## Introduzione\n",
    "\n",
    "Quando si vuole studiare come le persone cambiano nel tempo, è necessario raccogliere dati longitudinali, ovvero misurazioni ripetute sullo stesso gruppo di individui. A differenza delle analisi tradizionali che confrontano le persone in un unico momento, i dati longitudinali permettono di tracciare le traiettorie individuali di cambiamento.\n",
    "\n",
    "Le caratteristiche distintive di questi dati, come la presenza di variazione sia tra gli individui sia all'interno degli stessi e la dipendenza tra le osservazioni ripetute, richiedono l'utilizzo di modelli statistici specifici.\n",
    "\n",
    "I **modelli a curve di crescita latente** (LGCM) sono stati sviluppati proprio per affrontare queste complessità. Questi modelli consentono di modellare la crescita e il cambiamento nel tempo, tenendo conto sia delle differenze individuali nelle traiettorie di sviluppo sia degli effetti di variabili esterne. Ad esempio, in uno studio sullo sviluppo cognitivo, un LGCM può essere utilizzato per analizzare come il quoziente intellettivo cambia dall'infanzia all'età adulta, tenendo conto di fattori come l'ambiente familiare e l'istruzione.\n",
    "\n",
    "Uno dei principali vantaggi degli LGCM è la loro flessibilità. Possono essere applicati a una vasta gamma di dati e possono essere utilizzati per rispondere a diverse domande di ricerca. Inoltre, gli LGCM permettono di identificare i periodi di vita in cui il cambiamento è più rapido o più lento, e di valutare l'impatto di interventi specifici sulle traiettorie di sviluppo."
   ]
  },
  {
   "cell_type": "markdown",
   "id": "cece917d",
   "metadata": {},
   "source": [
    "## Concettualizzazioni del Tempo in Studi Longitudinali\n",
    "\n",
    "Negli studi longitudinali, ci sono principalmente cinque modalità di concettualizzare e analizzare il trascorrere del tempo:\n",
    "\n",
    "1. **Disegno Trasversale (Cross-Sectional Design)**:\n",
    "   - Questo metodo studia gruppi di persone di età diverse, ma in un unico momento temporale, senza misurazioni ripetute sugli stessi individui.\n",
    "   - Ad esempio, si potrebbe confrontare le capacità cognitive di bambini di 6, 8 e 10 anni in un unico momento.\n",
    "   - Questo approccio permette di ottenere dati preliminari e valutare le relazioni tra variabili, ma non può descrivere i processi evolutivi nel tempo, poiché le differenze tra gruppi di età potrebbero dipendere sia da fattori di sviluppo che da differenze tra coorti.\n",
    "\n",
    "2. **Disegno Longitudinale di Singola Coorte**:\n",
    "   - Prevede misurazioni ripetute sugli stessi individui nel tempo.\n",
    "   - Ad esempio, si potrebbero valutare le stesse persone a 6, 8 e 10 anni per studiare il loro sviluppo cognitivo.\n",
    "   - Questo permette di analizzare i cambiamenti intra-individuali nel tempo utilizzando modelli di panel, modelli di curva di crescita o altri modelli di cambiamento.\n",
    "   - I modelli di panel esaminano variazioni in sequenze di misurazioni, mentre i modelli di curva di crescita analizzano la variabilità nel cambiamento individuale.\n",
    "\n",
    "3. **Disegno Cross-Sequenziale**:\n",
    "   - Combina un disegno trasversale iniziale con una successione di misurazioni longitudinali.\n",
    "   - Ad esempio, si potrebbero valutare gruppi di bambini di 6, 8 e 10 anni, e poi seguirli nel tempo con misurazioni successive.\n",
    "   - Questo approccio permette di studiare sia gli effetti legati all'età che le differenze tra coorti, anche se può essere più complesso separare questi fattori.\n",
    "\n",
    "4. **Disegno Sequenziale di Coorte**:\n",
    "   - Avvia uno studio longitudinale con gruppi (coorti) di partecipanti della stessa età.\n",
    "   - Ogni nuova coorte attraversa la stessa fascia di età nel tempo.\n",
    "   - Ad esempio, si potrebbero valutare gruppi di bambini di 6 anni, 8 anni e 10 anni, seguendoli negli anni successivi.\n",
    "   - Questo design aiuta a distinguere gli effetti legati all'età da quelli dovuti alle differenze tra coorti.\n",
    "\n",
    "5. **Disegno Sequenziale Temporale**:\n",
    "   - Meno comune, ma utile per separare gli effetti legati all'età da quelli legati al tempo di misurazione.\n",
    "   - Mantiene invariata la fascia di età dei partecipanti, ma valuta nuove e vecchie coorti in diversi momenti temporali.\n",
    "   - Ad esempio, si potrebbero valutare gruppi di bambini di 6-8 anni in diversi anni, per distinguere i cambiamenti legati all'età da quelli legati al passare del tempo.\n",
    "   - Questo disegno però non permette di separare gli effetti di coorte dall'interazione tra età e tempo di misurazione.\n",
    "\n",
    "In sintesi, ciascuno di questi approcci offre vantaggi e svantaggi nel comprendere l'impatto dell'età, delle coorti e del tempo di misurazione sui fenomeni di interesse negli studi longitudinali. La scelta del design dipende dagli obiettivi specifici della ricerca."
   ]
  },
  {
   "cell_type": "markdown",
   "id": "704f886f",
   "metadata": {},
   "source": [
    "## Validità \n",
    "\n",
    "Rischi per la validità includono la regressione verso la media, gli effetti del retest, effetti di selezione, attrito selettivo e effetti di strumentazione.\n",
    "\n",
    "- La regressione verso la media indica che i punteggi estremi tendono a spostarsi verso la media nelle misurazioni successive. È un fenomeno di inaffidabilità nelle misure ripetute e può essere mitigato utilizzando modelli SEM a variabili latenti.\n",
    "- Gli effetti del retest emergono quando una misura è sensibile all'esposizione ripetuta. Questi effetti possono essere stimati e corretti assegnando casualmente ai partecipanti la ricezione o meno di una misurazione, o utilizzando protocolli di mancata risposta pianificata.\n",
    "- Gli effetti di selezione si verificano quando il piano di campionamento non fornisce un campione rappresentativo della popolazione di interesse. L'attrito selettivo si riferisce alla perdita di partecipanti correlata a specifiche caratteristiche del campione.\n",
    "- Gli effetti di strumentazione possono alterare le proprietà di misurazione del fenomeno studiato. Misure sensibili al cambiamento sono cruciali per rilevare i processi di cambiamento.\n",
    "\n",
    "In sintesi, gli studi longitudinali affrontano diverse sfide di validità, che richiedono metodi sofisticati per la misurazione e l'analisi dei dati. È fondamentale considerare come varie forze, come la regressione verso la media e gli effetti di retest, possano influenzare i risultati, e come strumenti di misurazione adeguati possano catturare in modo efficace i cambiamenti nel tempo."
   ]
  },
  {
   "cell_type": "markdown",
   "id": "db3c85d4",
   "metadata": {},
   "source": [
    "## Dati Mancanti\n",
    "\n",
    "Il problema dei dati mancanti nei disegni longitudinali rappresenta una sfida cruciale nella ricerca, specialmente nei campi della psicologia e delle scienze sociali. I dati mancanti portano a due conseguenze principali: la perdita di potenza statistica e l’introduzione di bias.\n",
    "\n",
    "La **perdita di potenza** si verifica perché la riduzione dei dati comporta una minore capacità di rilevare effetti reali. Nei disegni longitudinali, questa perdita è particolarmente critica, poiché le misure ripetute nel tempo sono essenziali per comprendere le dinamiche e i cambiamenti. Una riduzione nel numero di osservazioni può rendere difficile individuare tendenze significative o effetti degli interventi.\n",
    "\n",
    "Il **bias** si introduce quando i dati mancanti non sono distribuiti casualmente. Se la mancanza di dati è legata a caratteristiche specifiche dei soggetti, i risultati possono non essere più rappresentativi della popolazione originale, portando a conclusioni errate o fuorvianti.\n",
    "\n",
    "I metodi tradizionali per gestire i dati mancanti, come l’eliminazione dei casi o l’utilizzo dell’ultimo punto disponibile, possono peggiorare la situazione, aumentando sia la perdita di potenza sia il bias. Al contrario, le tecniche moderne mirano a preservare il più possibile la potenza del dataset originale e, se usate correttamente, possono ridurre il bias selettivo.\n",
    "\n",
    "Tra le tecniche moderne per la gestione dei dati mancanti troviamo l’**imputazione multipla**, che crea più set completi di dati imputando i valori mancanti in modo da riflettere l’incertezza associata a tali valori. L’uso di variabili ausiliarie appropriate nel modello di analisi e nel processo di imputazione contribuisce a minimizzare il bias.\n",
    "\n",
    "Le **variabili ausiliarie** sono fondamentali: se scelte correttamente, possono spiegare il meccanismo dei dati mancanti e ridurre il bias. Se assenti o selezionate in modo inappropriato, i risultati dell’analisi possono rimanere distorti e le conclusioni dello studio risultare compromesse.\n",
    "\n",
    "Un approccio basato sui dati, come l’uso dell’imputazione multipla con MICE (Multiple Imputation by Chained Equations) o missForest, e l’inclusione di tutte le variabili disponibili (comprese informazioni potenzialmente non lineari), permette di rappresentare al meglio il meccanismo di mancanza dei dati. Questo approccio presuppone generalmente che le relazioni tra variabili siano lineari, ma consente anche di includere informazioni non lineari rilevanti. Successivamente, quando viene selezionato un sottoinsieme di variabili per l’analisi, l’effetto della gestione dei dati mancanti è mantenuto, aumentando la generalizzabilità delle analisi considerate le variabili incluse nel protocollo.\n",
    "\n",
    "In sintesi, la gestione dei dati mancanti nei disegni longitudinali richiede un’attenta considerazione del meccanismo di mancanza e l’applicazione di tecniche moderne che possano mitigare la perdita di potenza e il bias. Questo è essenziale per garantire l’affidabilità e la validità dei risultati della ricerca."
   ]
  },
  {
   "cell_type": "markdown",
   "id": "f8b845b3",
   "metadata": {},
   "source": [
    "## Domande della ricerca\n",
    "\n",
    "L'analisi di dati longitudinali nella ricerca psicologica è particolarmente interessata a valutare quanto le persone cambino in un particolare aspetto o tratto nel tempo (cioè la crescita media), quanto questa crescita varia rispetto agli altri individui (cioè la varianza della crescita), e come le persone cambiano rispetto a se stesse nel tempo (cioè i modelli di crescita intra-individuale). I modelli di crescita media (LGM) descrivono i primi due di questi elementi chiave, mentre i modelli di punteggio di cambiamento latente (LCSM) descrivono il terzo (come i valori precedenti prevedono i valori successivi nel tempo all'interno della stessa persona).\n",
    "\n",
    "In ambito di ricerca psicologica, l'analisi di dati longitudinali si concentra sullo studio di come le persone cambiano in un particolare tratto o aspetto nel tempo, sulla variazione di questo cambiamento rispetto ad altre persone e su come le persone cambiano rispetto a se stesse nel tempo. I modelli di crescita media (LGM) e quelli di punteggio di cambiamento latente (LCSM) vengono utilizzati per descrivere questi aspetti.\n",
    "\n",
    "@grimm2016growth identificano cinque motivi principali per cui questi modelli vengono utilizzati. \n",
    "\n",
    "- In primo luogo, l'analisi longitudinale consente di identificare direttamente il cambiamento e la stabilità intra-individuale. Ciò significa che è possibile valutare in che modo specifici attributi dell'individuo cambiano o rimangono gli stessi nel tempo, attraverso la misurazione ripetuta della stessa persona.\n",
    "- In secondo luogo, l'analisi longitudinale consente di identificare le differenze interindividuali nel cambiamento intra-individuale, ovvero se diversi individui cambiano in modi diversi, in quantità o direzioni diverse o se passano da uno stadio all'altro in momenti diversi.\n",
    "- In terzo luogo, l'analisi longitudinale consente di analizzare le interrelazioni nel cambiamento comportamentale, ovvero come i cambiamenti in una variabile influenzino i cambiamenti in un'altra variabile.\n",
    "- In quarto luogo, l'analisi longitudinale consente di analizzare le cause del cambiamento intra-individuale, ovvero di identificare i fattori e/o i meccanismi variabili nel tempo che influenzano i cambiamenti intra-individuali.\n",
    "- Infine, in quinto luogo, l'analisi longitudinale consente di analizzare le cause delle differenze interindividuali nel cambiamento intra-individuale, ovvero di identificare le variabili invarianti nel tempo che sono correlate a specifici aspetti del cambiamento all'interno della persona, come le caratteristiche demografiche, gli interventi sperimentali e le caratteristiche dei contesti degli individui.\n",
    "\n",
    "## Riflessioni Conclusive\n",
    "\n",
    "Questo capitolo ha introdotto le peculiarità dei dati longitudinali e l'approccio necessario per studiare il cambiamento umano nel tempo. L'uso di disegni e modelli specifici, dalle curve di crescita latente alle tecniche di imputazione per i dati mancanti, è cruciale per comprendere come individui e gruppi evolvano nel tempo. \n",
    "\n",
    "Gli studi longitudinali richiedono una gestione attenta delle complessità statistiche per evitare che i risultati siano distorti o di difficile generalizzazione. In particolare, il controllo di variabili di confondimento e la corretta modellazione della crescita intra- e interindividuale evidenziano quanto la qualità dei risultati dipenda dalla precisione nella progettazione dello studio e nella selezione delle metodologie analitiche. \n",
    "\n",
    "La metodologia longitudinale ci ricorda che il cambiamento umano è complesso e multiforme. Sebbene ogni modello rappresenti un tentativo di cogliere questa complessità, nessun approccio è esaustivo: per cogliere appieno le sfumature del cambiamento, potrebbe essere necessario combinare più metodologie, integrando i punti di forza di ciascun approccio. "
   ]
  }
 ],
 "metadata": {
  "jupytext": {
   "cell_metadata_filter": "tags,-all",
   "main_language": "R",
   "notebook_metadata_filter": "-all"
  },
  "kernelspec": {
   "display_name": "R",
   "language": "R",
   "name": "ir"
  },
  "language_info": {
   "codemirror_mode": "r",
   "file_extension": ".r",
   "mimetype": "text/x-r-source",
   "name": "R",
   "pygments_lexer": "r",
   "version": "4.3.0"
  }
 },
 "nbformat": 4,
 "nbformat_minor": 5
}
