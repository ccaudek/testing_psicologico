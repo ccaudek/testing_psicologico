{
 "cells": [
  {
   "attachments": {},
   "cell_type": "markdown",
   "id": "faf0b592",
   "metadata": {},
   "source": [
    "# Curve di crescita latente {#sec-lgm-intro}"
   ]
  },
  {
   "cell_type": "markdown",
   "id": "dbf3fda6",
   "metadata": {},
   "source": [
    "## Introduzione\n",
    "\n",
    "Quando si vuole studiare come le persone cambiano nel tempo, è necessario raccogliere dati longitudinali, ovvero misurazioni ripetute sullo stesso gruppo di individui. A differenza delle analisi tradizionali che confrontano le persone in un unico momento, i dati longitudinali permettono di tracciare le traiettorie individuali di cambiamento.\n",
    "\n",
    "Le caratteristiche distintive di questi dati, come la presenza di variazione sia tra gli individui sia all'interno degli stessi e la dipendenza tra le osservazioni ripetute, richiedono l'utilizzo di modelli statistici specifici.\n",
    "\n",
    "I **modelli a curve di crescita latente** (LGCM) sono stati sviluppati proprio per affrontare queste complessità. Questi modelli consentono di modellare la crescita e il cambiamento nel tempo, tenendo conto sia delle differenze individuali nelle traiettorie di sviluppo sia degli effetti di variabili esterne. Ad esempio, in uno studio sullo sviluppo cognitivo, un LGCM può essere utilizzato per analizzare come il quoziente intellettivo cambia dall'infanzia all'età adulta, tenendo conto di fattori come l'ambiente familiare e l'istruzione.\n",
    "\n",
    "Uno dei principali vantaggi degli LGCM è la loro flessibilità. Possono essere applicati a una vasta gamma di dati e possono essere utilizzati per rispondere a diverse domande di ricerca. Inoltre, gli LGCM permettono di identificare i periodi di vita in cui il cambiamento è più rapido o più lento, e di valutare l'impatto di interventi specifici sulle traiettorie di sviluppo."
   ]
  },
  {
   "cell_type": "markdown",
   "id": "cece917d",
   "metadata": {},
   "source": [
    "## Concettualizzazioni del Tempo\n",
    "\n",
    "Si possono distinguere 5 alternative concettualizzazioni del tempo in un disegno longitudinale. \n",
    "\n",
    "In questo estratto, vengono discusse diverse metodologie per studiare lo sviluppo umano attraverso il tempo, specificatamente nel contesto di ricerche longitudinali. Ecco una spiegazione più dettagliata e una traduzione dei concetti chiave:\n",
    "\n",
    "1. **Cross-Sectional Design (Disegno Trasversale):**\n",
    "   - Questo metodo studia diverse coorti d'età contemporaneamente, ma senza valutazioni ripetute.\n",
    "   - È limitato nel descrivere processi evolutivi, poiché può solo suggerire differenze di sviluppo, che sono confondibili con le differenze tra coorti.\n",
    "   - È utile per dati preliminari, per verificare l'adeguatezza delle misure e la validità interna delle relazioni tra costrutti, oltre che per osservare se le differenze tra coorti seguono le aspettative di età.\n",
    "   - Serve principalmente come studio di fattibilità per ricerche longitudinali.\n",
    "\n",
    "2. **Single-Cohort Longitudinal Design (Disegno Longitudinale di Singola Coorte):**\n",
    "   - Include una componente di misurazione ripetuta.\n",
    "   - Può essere analizzato usando modelli tradizionali di panel, modelli di curva di crescita o modelli di cambiamento intrapersonale.\n",
    "   - Il modello di panel tradizionale esamina la variabilità in istantanee sequenziali, valutando la validità di contenuto degli indicatori, la validità di criterio contemporanea e predittiva tra i costrutti in ciascun momento temporale, e testa cambiamenti nelle medie e varianze dei costrutti.\n",
    "   - I modelli di curva di crescita si concentrano sulla variabilità più \"fluida\" nel tempo, in particolare sulla variabilità nelle tendenze individuali (differenze interindividuali nel cambiamento intraindividuale).\n",
    "   - Altri modelli di cambiamento intrapersonale concettualizzano e modellano il cambiamento in modo più fluido, tentando di catturare l'intero arco temporale dello studio.\n",
    "\n",
    "3. **Disegno Cross-Sequenziale:**\n",
    "   - Combinazione di un disegno trasversale seguito da una sequenza longitudinale.\n",
    "   - Studia i partecipanti nel tempo dopo un'iniziale valutazione trasversale.\n",
    "   - Analizza le coorti e il tempo di misurazione come dimensioni principali.\n",
    "   - Popolare, ma meno efficace per esaminare funzioni evolutive legate all'età a causa della confusione tra differenze di età e interazioni tra coorte e tempo di misurazione.\n",
    "   - Efficace nell'esaminare processi di cambiamento, controllando le differenze tra le coorti.\n",
    "\n",
    "4. **Disegno Sequenziale di Coorte:**\n",
    "   - Simile all'avvio ripetuto di uno studio longitudinale con partecipanti della stessa età ogni anno.\n",
    "   - Ogni nuova coorte attraversa lo stesso arco di età.\n",
    "   - Utile per identificare differenze di età controllando per differenze di coorte.\n",
    "   - Limitato dalla presunzione che gli effetti del tempo di misurazione siano trascurabili, poiché questi si confondono con l'interazione tra età e coorte.\n",
    "\n",
    "5. **Disegno Sequenziale Temporale:**\n",
    "   - Meno utilizzato, ma utile per identificare effetti del tempo di misurazione e dell'età.\n",
    "   - Mantiene lo stesso intervallo di età e valuta ripetutamente nuove e vecchie coorti.\n",
    "   - Identifica cambiamenti legati all'età non confusi con le differenze nel tempo di misurazione.\n",
    "   - Gli effetti di coorte sono completamente confusi, apparendo come interazione tra età e tempo.\n",
    "\n",
    "In sintesi, questi disegni di ricerca offrono approcci diversi per analizzare i cambiamenti legati all'età, alle coorti e al tempo di misurazione. Ogni design ha i suoi punti di forza e limitazioni, a seconda dell'obiettivo specifico dello studio e delle variabili che si desidera controllare o esplorare."
   ]
  },
  {
   "cell_type": "markdown",
   "id": "704f886f",
   "metadata": {},
   "source": [
    "## Validità \n",
    "\n",
    "Rischi per la validità includono la regressione verso la media, gli effetti del retest, effetti di selezione, attrito selettivo e effetti di strumentazione.\n",
    "\n",
    "- La regressione verso la media indica che i punteggi estremi tendono a spostarsi verso la media nelle misurazioni successive. È un fenomeno di inaffidabilità nelle misure ripetute e può essere mitigato utilizzando modelli SEM a variabili latenti.\n",
    "- Gli effetti del retest emergono quando una misura è sensibile all'esposizione ripetuta. Questi effetti possono essere stimati e corretti assegnando casualmente ai partecipanti la ricezione o meno di una misurazione, o utilizzando protocolli di mancata risposta pianificata.\n",
    "- Gli effetti di selezione si verificano quando il piano di campionamento non fornisce un campione rappresentativo della popolazione di interesse. L'attrito selettivo si riferisce alla perdita di partecipanti correlata a specifiche caratteristiche del campione.\n",
    "- Gli effetti di strumentazione possono alterare le proprietà di misurazione del fenomeno studiato. Misure sensibili al cambiamento sono cruciali per rilevare i processi di cambiamento.\n",
    "\n",
    "In sintesi, gli studi longitudinali affrontano diverse sfide di validità, che richiedono metodi sofisticati per la misurazione e l'analisi dei dati. È fondamentale considerare come varie forze, come la regressione verso la media e gli effetti di retest, possano influenzare i risultati, e come strumenti di misurazione adeguati possano catturare in modo efficace i cambiamenti nel tempo."
   ]
  },
  {
   "cell_type": "markdown",
   "id": "db3c85d4",
   "metadata": {},
   "source": [
    "## Dati Mancanti\n",
    "\n",
    "Il problema dei dati mancanti nei disegni longitudinali è una sfida cruciale nella ricerca, specialmente in campi come la psicologia e le scienze sociali. Il fenomeno dei dati mancanti produce due conseguenze principali: la perdita di potenza statistica e l'introduzione di bias.\n",
    "\n",
    "La perdita di potenza si verifica perché meno dati significano minor capacità di rilevare effetti reali. Nei disegni longitudinali, questo è particolarmente problematico poiché le misure ripetute nel tempo sono essenziali per comprendere le dinamiche e i cambiamenti. La riduzione del numero di osservazioni può rendere più difficile individuare tendenze significative o effetti di intervento.\n",
    "\n",
    "Il bias si introduce quando i dati mancanti non sono distribuiti in modo casuale. Se la mancanza di dati è correlata a specifiche caratteristiche o comportamenti dei soggetti, i risultati possono non essere più rappresentativi della popolazione originale. Questo è un problema serio in quanto può portare a conclusioni errate o fuorvianti.\n",
    "\n",
    "I trattamenti tradizionali per i dati mancanti, come l'eliminazione o l'uso dell'ultimo punto raccolto, possono aggravare il problema, aumentando la perdita di potenza e introducendo ulteriori bias. In contrasto, le tecniche moderne cercano di mantenere il più possibile la potenza originale del set di dati e, in condizioni appropriate, possono recuperare dal bias selettivo.\n",
    "\n",
    "Le tecniche moderne per gestire i dati mancanti includono l'imputazione multipla, che crea più set completi di dati imputando i valori mancanti in modo da riflettere l'incertezza nella stima di questi valori. L'inclusione di variabili ausiliarie appropriate nel modello di analisi e nel modello per i dati mancanti può aiutare a garantire che i risultati siano il meno biased possibile.\n",
    "\n",
    "Il ruolo delle variabili ausiliarie è cruciale. Se scelte correttamente, possono aiutare a spiegare il meccanismo alla base dei dati mancanti, contribuendo a ridurre il bias. Se non sono incluse o scelte in modo inappropriato, i risultati possono rimanere biased e, quindi, invalidare le conclusioni dello studio. Si veda [Principal Component Auxiliary Variables](https://github.com/Statscamp/PcAux).\n",
    "\n",
    "Se si adotta un approccio basato sui dati, come una routine di imputazione multipla tipo MICE (Multiple Imputation by Chained Equations), e se si utilizzano tutte le variabili disponibili nel dataset (includendo anche potenziali informazioni non lineari) nel processo di imputazione, i dati imputati rappresenteranno il più possibile il meccanismo di mancanza dei dati. Questo presuppone standardmente che le relazioni siano lineari e che le giuste informazioni non lineari siano incluse. Successivamente, quando viene selezionato un sottoinsieme di variabili da includere in qualsiasi modello di analisi, il processo di dati mancanti sarà comunque recuperato e rappresentato nei dati che vengono analizzati. Questa informazione recuperata nei dati massimizzerà la generalizzabilità delle analisi, considerate le variabili che sono state incluse nel protocollo.\n",
    "\n",
    "In sintesi, la gestione dei dati mancanti nei disegni longitudinali richiede un'attenta considerazione del meccanismo di mancanza dei dati e l'applicazione di tecniche moderne che possono mitigare le perdite di potenza e i bias. Questo è fondamentale per garantire l'affidabilità e la validità dei risultati della ricerca."
   ]
  },
  {
   "cell_type": "markdown",
   "id": "f8b845b3",
   "metadata": {},
   "source": [
    "## Domande della ricerca\n",
    "\n",
    "L'analisi di dati longitudinali nella ricerca psicologica è particolarmente interessata a valutare quanto le persone cambino in un particolare aspetto o tratto nel tempo (cioè la crescita media), quanto questa crescita varia rispetto agli altri individui (cioè la varianza della crescita), e come le persone cambiano rispetto a se stesse nel tempo (cioè i modelli di crescita intra-individuale). I modelli di crescita media (LGM) descrivono i primi due di questi elementi chiave, mentre i modelli di punteggio di cambiamento latente (LCSM) descrivono il terzo (come i valori precedenti prevedono i valori successivi nel tempo all'interno della stessa persona).\n",
    "\n",
    "In ambito di ricerca psicologica, l'analisi di dati longitudinali si concentra sullo studio di come le persone cambiano in un particolare tratto o aspetto nel tempo, sulla variazione di questo cambiamento rispetto ad altre persone e su come le persone cambiano rispetto a se stesse nel tempo. I modelli di crescita media (LGM) e quelli di punteggio di cambiamento latente (LCSM) vengono utilizzati per descrivere questi aspetti.\n",
    "\n",
    "{cite:t}`grimm2016growth` identificano cinque motivi principali per cui questi modelli vengono utilizzati. In primo luogo, l'analisi longitudinale consente di identificare direttamente il cambiamento e la stabilità intra-individuale. Ciò significa che è possibile valutare in che modo specifici attributi dell'individuo cambiano o rimangono gli stessi nel tempo, attraverso la misurazione ripetuta della stessa persona.\n",
    "\n",
    "In secondo luogo, l'analisi longitudinale consente di identificare le differenze interindividuali nel cambiamento intra-individuale, ovvero se diversi individui cambiano in modi diversi, in quantità o direzioni diverse o se passano da uno stadio all'altro in momenti diversi.\n",
    "\n",
    "In terzo luogo, l'analisi longitudinale consente di analizzare le interrelazioni nel cambiamento comportamentale, ovvero come i cambiamenti in una variabile influenzino i cambiamenti in un'altra variabile.\n",
    "\n",
    "In quarto luogo, l'analisi longitudinale consente di analizzare le cause del cambiamento intra-individuale, ovvero di identificare i fattori e/o i meccanismi variabili nel tempo che influenzano i cambiamenti intra-individuali.\n",
    "\n",
    "Infine, in quinto luogo, l'analisi longitudinale consente di analizzare le cause delle differenze interindividuali nel cambiamento intra-individuale, ovvero di identificare le variabili invarianti nel tempo che sono correlate a specifici aspetti del cambiamento all'interno della persona, come le caratteristiche demografiche, gli interventi sperimentali e le caratteristiche dei contesti degli individui."
   ]
  }
 ],
 "metadata": {
  "jupytext": {
   "cell_metadata_filter": "tags,-all",
   "main_language": "R",
   "notebook_metadata_filter": "-all"
  },
  "kernelspec": {
   "display_name": "R",
   "language": "R",
   "name": "ir"
  },
  "language_info": {
   "codemirror_mode": "r",
   "file_extension": ".r",
   "mimetype": "text/x-r-source",
   "name": "R",
   "pygments_lexer": "r",
   "version": "4.3.0"
  }
 },
 "nbformat": 4,
 "nbformat_minor": 5
}
