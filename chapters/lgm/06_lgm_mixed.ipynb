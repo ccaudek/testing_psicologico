{
 "cells": [
  {
   "attachments": {},
   "cell_type": "markdown",
   "id": "41dbeecf",
   "metadata": {},
   "source": [
    "# LGM e modelli misti {#sec-lgm-mixed-effects-models}"
   ]
  },
  {
   "cell_type": "markdown",
   "id": "c4ccd9ce",
   "metadata": {},
   "source": [
    "**Prerequisiti**\n",
    "\n",
    "**Concetti e Competenze Chiave**\n",
    "\n",
    "**Preparazione del Notebook**"
   ]
  },
  {
   "cell_type": "code",
   "execution_count": 1,
   "id": "399bfe5a",
   "metadata": {
    "vscode": {
     "languageId": "r"
    }
   },
   "outputs": [
    {
     "name": "stderr",
     "output_type": "stream",
     "text": [
      "Caricamento dei namespace richiesti: pacman\n",
      "\n"
     ]
    }
   ],
   "source": [
    "here::here(\"code\", \"_common.R\") |>\n",
    "    source()\n",
    "\n",
    "# Load packages\n",
    "if (!requireNamespace(\"pacman\")) install.packages(\"pacman\")\n",
    "pacman::p_load(DT, kableExtra, lme4)"
   ]
  },
  {
   "cell_type": "markdown",
   "id": "8bcd0f24",
   "metadata": {},
   "source": [
    "## Introduzione\n",
    "\n",
    "I modelli di crescita latente (LGM, Latent Growth Models) rappresentano una forma specializzata di analisi fattoriale confermativa (CFA) che si focalizza sull'evoluzione dei costrutti nel tempo. Questi modelli si distinguono per la loro capacità di fissare le saturazioni fattoriali a valori predefiniti. Questo significa che si imposta in anticipo come ciascun fattore contribuisca alla varianza osservata nei dati raccolti in diversi momenti. In molti casi, la traiettoria di crescita nel tempo può essere descritta utilizzando una funzione lineare o quadratica, permettendo di modellare diversi tipi di evoluzioni, come un aumento costante o un cambiamento accelerato.\n",
    "\n",
    "Un aspetto centrale dei LGM è il concetto di fattori di crescita, che rappresentano le differenze individuali all'interno dei dati longitudinali. Questi fattori di crescita sono rappresentati da variabili latenti continue, denominate *growth factors*. In pratica, permettono di catturare e quantificare variazioni individuali nel modo in cui i soggetti cambiano nel tempo, ad esempio, in termini di sviluppo delle competenze o dell'andamento di un sintomo.\n",
    "\n",
    "Per facilitare una comprensione più approfondita dei modelli LGM, nel presente capitolo si propone un confronto con i modelli misti {cite:p}`hoffman2022catching`. Questo confronto mira a evidenziare le differenze e le somiglianze tra i due approcci, aiutando a discernere quando e perché scegliere un modello rispetto all'altro. Mentre i modelli misti possono essere utilizzati per analizzare dati gerarchici o nidificati, i modelli LGM si concentrano specificamente sull'analisi della traiettoria di crescita nel tempo, rendendoli particolarmente utili in studi longitudinali dove l'interesse primario è capire come un costrutto si sviluppa o cambia nel corso del tempo."
   ]
  },
  {
   "attachments": {},
   "cell_type": "markdown",
   "id": "97a7f1fb",
   "metadata": {},
   "source": [
    "## Modelli misti\n",
    "\n",
    "I modelli lineari generalizzati classici presuppongono l'indipendenza delle osservazioni, un'ipotesi che può non essere valida in contesti dove si effettuano misurazioni ripetute sullo stesso soggetto nel tempo, portando a osservazioni correlate. In questi scenari, si ricorre all'uso di modelli lineari a effetti misti (o modelli gerarchici lineari), che consentono di gestire adeguatamente la correlazione intragruppo.\n",
    "\n",
    "Nei modelli a effetti misti, si realizza un equilibrio tra i due approcci estremi di modellazione: la modellazione aggregata (o pooled) e la modellazione separata (o per gruppo). La modellazione aggregata tratta l'insieme dei dati come un unico gruppo, ignorando le differenze intergruppo e potenzialmente perdendo informazioni rilevanti sulla variabilità tra i gruppi. La modellazione separata, d'altra parte, adatta un modello distinto per ciascun gruppo, potendo portare a sovrapparametrizzazione e ridotta capacità di generalizzazione.\n",
    "\n",
    "I modelli a effetti misti superano queste limitazioni integrando elementi sia della modellazione aggregata sia della modellazione separata. Ciò consente di considerare sia le differenze tra gruppi (variabilità intergruppo) sia l'informazione comune (variabilità intragruppo), migliorando la precisione delle stime dei parametri. Tradizionalmente, i dati rilevati all'interno di un soggetto sono classificati come dati di *Livello 1*, mentre i dati raccolti tra soggetti diversi sono definiti dati di *Livello 2*.\n",
    "\n",
    "Analogamente ai modelli di regressione lineari tradizionali, i modelli a effetti misti includono un'intercetta fissa, coefficienti fissi per i predittori e un termine di errore per la deviazione tra i valori osservati e quelli predetti dal modello. Tuttavia, a differenza dei modelli lineari standard, in un modello a effetti misti, l'intercetta e i coefficienti dei predittori possono variare tra le unità di analisi, permettendo una maggiore flessibilità e adattabilità nel rappresentare la struttura dei dati. Questo approccio rende i modelli a effetti misti particolarmente adatti per l'analisi di dati longitudinali o gerarchici, dove è necessario tener conto della correlazione tra osservazioni all'interno dello stesso gruppo o soggetto.\n"
   ]
  },
  {
   "attachments": {},
   "cell_type": "markdown",
   "id": "a5cf888a",
   "metadata": {},
   "source": [
    "Il modello lineare multilivello, applicato all'analisi di dati strutturati in gruppi o cluster, permette una comprensione dettagliata della variazione sia all'interno dei gruppi (within-group variation) sia tra i gruppi (between-group variation). Formalmente, consideriamo un'unità statistica $i$ all'interno di un gruppo $j$ (dove $i = 1, ..., n_j$ e $j = 1, ..., N$), per un totale di $N$ gruppi ciascuno con numerosità $n_j$. \n",
    "\n",
    "Per una variabile dipendente $Y$, una variabile indipendente a livello individuale $x$ e una variabile di gruppo $z$, il modello si articola su due livelli. Il primo livello è rappresentato dalla seguente equazione lineare:\n",
    "\n",
    "$$\n",
    "Y_{ij} = \\beta_{0j} + \\beta_{1j}x_{ij} + \\varepsilon_{ij}.\n",
    "$$\n",
    "\n",
    "Questa equazione descrive la relazione tra $Y$ e $x$ per ogni unità $i$ nel gruppo $j$, dove $\\beta_{0j}$ è l'intercetta e $\\beta_{1j}$ la pendenza, specifiche per ciascun gruppo $j$. Il termine d'errore $\\varepsilon_{ij}$ è assunto normalmente distribuito con media zero e varianza costante $\\sigma^2$.\n",
    "\n",
    "Il secondo livello del modello esplicita come l'intercetta $\\beta_{0j}$ e la pendenza $\\beta_{1j}$ varino tra i gruppi in relazione alla variabile di gruppo $z$\n",
    "\n",
    "$$\n",
    "\\beta_{0j} = \\gamma_{00} + \\gamma_{01}z_j + U_{0j}\n",
    "$$\n",
    "\n",
    "$$\n",
    "\\beta_{1j} = \\gamma_{10} + \\gamma_{11}z_j + U_{1j}\n",
    "$$\n",
    "\n",
    "dove:\n",
    "\n",
    "1. **$\\gamma_{00}$** rappresenta l'intercetta media a livello di gruppo. In altre parole, è il valore previsto di $Y$ quando tutte le variabili indipendenti ($x$ e $z$) sono pari a zero. È una sorta di \"punto di partenza\" medio per i vari gruppi nel modello.\n",
    "\n",
    "2. **$\\gamma_{01}$** è il coefficiente di pendenza che descrive come l'intercetta varia tra i gruppi in relazione alla variabile di gruppo $z$. In pratica, $\\gamma_{01}$ moltiplica la variabile di gruppo $z_j$ (per ogni gruppo $j$) per quantificare l'influenza di questa variabile sulla variazione dell'intercetta tra i gruppi. Un valore positivo di $\\gamma_{01}$ indica che un aumento in $z_j$ è associato a un aumento dell'intercetta di $Y$, mentre un valore negativo indica il contrario.\n",
    "\n",
    "3. **$\\gamma_{10}$** rappresenta il valore medio della pendenza della relazione tra $Y$ e $x$ attraverso tutti i gruppi, quando la variabile di gruppo $z$ è zero. Indica come, in media, la variabile indipendente a livello individuale $x$ si relaziona con $Y$ nei diversi gruppi.\n",
    "\n",
    "4. **$\\gamma_{11}$** modella come la relazione (pendenza) tra $Y$ e $x$ varia tra i gruppi in funzione della variabile di gruppo $z$. Analogamente a $\\gamma_{01}$, questo coefficiente moltiplica $z_j$ per mostrare l'effetto di $z$ sulla pendenza di $Y$ rispetto a $x$ tra i gruppi. Se $\\gamma_{11}$ è significativo, indica che l'effetto di $x$ su $Y$ non è costante tra i gruppi, ma varia in base al valore di $z$.\n",
    "\n",
    "In sintesi, questi coefficienti permettono di comprendere non solo come varia la relazione tra $Y$ e $x$ all'interno di ciascun gruppo (grazie a $\\gamma_{10}$), ma anche come questa relazione sia influenzata dalla variabile di gruppo $z$ (mediante $\\gamma_{11}$). Allo stesso modo, essi illustrano come l'intercetta di $Y$ varia tra i gruppi in base a $z$ ($\\gamma_{01}$), oltre a fornire un valore di intercetta medio ($\\gamma_{00}$).\n",
    "\n",
    "Queste equazioni legano le variazioni di $\\beta_{0j}$ e $\\beta_{1j}$ tra i gruppi alla variabile $z$. I termini $U_{0j}$ e $U_{1j}$ rappresentano l'errore a livello di gruppo, anch'essi assunti normalmente distribuiti con media zero e varianze costanti $\\tau_0^2$ e $\\tau_1^2$, rispettivamente, e indipendenti dall'errore a livello individuale $\\varepsilon_{ij}$.\n",
    "\n",
    "Il modello multilivello permette così di analizzare come le caratteristiche di gruppo (come $z$) influenzano non solo l'intercetta (il livello di base di $Y$) ma anche la relazione tra $Y$ e $x$ (la pendenza). In altre parole, consente di esplorare come la relazione tra una variabile dipendente e indipendente possa cambiare da un gruppo all'altro.\n",
    "\n",
    "Un elemento chiave di questo approccio è il coefficiente di correlazione intragruppo $\\rho(Y \\mid x)$, definito come:\n",
    "\n",
    "$$\n",
    "\\rho(Y \\mid x) = \\frac{\\tau_0^2}{\\tau_0^2 + \\sigma^2}\n",
    "$$\n",
    "\n",
    "Il coefficiente di correlazione intragruppo misura la proporzione della varianza totale di $Y$ attribuibile alle differenze tra i gruppi. Un valore di $\\rho$ vicino a 1 indica che la maggior parte della varianza di $Y$ è spiegata dalle differenze tra i gruppi, mentre un valore vicino a 0 suggerisce che la varianza è prevalentemente dovuta a differenze all'interno dei singoli gruppi. Questo coefficiente fornisce quindi una misura quantitativa dell'importanza relativa delle variazioni tra e all'interno dei gruppi nel modello."
   ]
  },
  {
   "cell_type": "markdown",
   "id": "9b11c806",
   "metadata": {},
   "source": [
    "## Simulare effetti casuali\n",
    "\n",
    "Esaminiamo con una simulazione una dimostrazione del funzionamento dei modelli misti. Ciò ci permetterà di meglio comprendere i modelli a crescita latente. Simuleremo dei dati bilanciati, con punteggi su quattro rilevazioni temporali per 500 individui (soggetti). Esamineremo il tasso di crescita ('growth') e consentiremo la presenza di intercette e pendenze specifiche per i diversi soggetti.\n",
    "\n",
    "Le istruzioni seguenti generano i dati (per i nostri scopi, non è importante capire i dettagli di questa porzione di codice)."
   ]
  },
  {
   "cell_type": "code",
   "execution_count": 2,
   "id": "88d31358",
   "metadata": {
    "vscode": {
     "languageId": "r"
    }
   },
   "outputs": [],
   "source": [
    "set.seed(12345)\n",
    "n <- 500\n",
    "timepoints <- 4\n",
    "time <- rep(0:3, times = n)\n",
    "subject <- rep(1:n, each = 4)\n",
    "\n",
    "intercept <- .5\n",
    "slope <- .25\n",
    "randomEffectsCorr <- matrix(c(1, .2, .2, 1), ncol = 2)\n",
    "\n",
    "randomEffects <- MASS::mvrnorm(\n",
    "  n,\n",
    "  mu = c(0, 0), Sigma = randomEffectsCorr, empirical = T\n",
    ") %>%\n",
    "  data.frame()\n",
    "\n",
    "colnames(randomEffects) <- c(\"Int\", \"Slope\")"
   ]
  },
  {
   "attachments": {},
   "cell_type": "markdown",
   "id": "0a456c70",
   "metadata": {},
   "source": [
    "Nella simulazione, abbiamo impostato gli effetti fissi, che comprendono l'intercetta e la pendenza della regressione lineare standard, ai valori di 0.5 e 0.25 rispettivamente. Inoltre, è stata simulata una correlazione di 0.2 tra l'intercetta e la pendenza che sono specifiche per ogni singolo soggetto. A causa di questa correlazione, i dati sono stati generati utilizzando una distribuzione normale multivariata. In questo contesto, abbiamo assegnato una varianza di 1 sia per l'intercetta sia per la pendenza.\n",
    "\n",
    "Procediamo ora con l'analisi dei dati risultanti dalla simulazione. Questo passaggio è fondamentale per comprendere le implicazioni dei parametri scelti nella simulazione e per verificare se i dati generati rispecchiano le aspettative teoriche stabilite inizialmente.\n",
    "\n",
    "I dati prodotti fino ad ora sono i seguenti:"
   ]
  },
  {
   "cell_type": "code",
   "execution_count": 3,
   "id": "ce001583",
   "metadata": {
    "vscode": {
     "languageId": "r"
    }
   },
   "outputs": [
    {
     "data": {
      "text/html": [
       "<table class=\"dataframe\">\n",
       "<caption>A data.frame: 10 x 4</caption>\n",
       "<thead>\n",
       "\t<tr><th></th><th scope=col>Subject</th><th scope=col>time</th><th scope=col>Int</th><th scope=col>Slope</th></tr>\n",
       "\t<tr><th></th><th scope=col>&lt;int&gt;</th><th scope=col>&lt;int&gt;</th><th scope=col>&lt;dbl&gt;</th><th scope=col>&lt;dbl&gt;</th></tr>\n",
       "</thead>\n",
       "<tbody>\n",
       "\t<tr><th scope=row>1</th><td>1</td><td>0</td><td>-1.3322902</td><td>-0.9548087</td></tr>\n",
       "\t<tr><th scope=row>1.1</th><td>1</td><td>1</td><td>-1.3322902</td><td>-0.9548087</td></tr>\n",
       "\t<tr><th scope=row>1.2</th><td>1</td><td>2</td><td>-1.3322902</td><td>-0.9548087</td></tr>\n",
       "\t<tr><th scope=row>1.3</th><td>1</td><td>3</td><td>-1.3322902</td><td>-0.9548087</td></tr>\n",
       "\t<tr><th scope=row>2</th><td>2</td><td>0</td><td>-2.1261548</td><td>-1.7813625</td></tr>\n",
       "\t<tr><th scope=row>2.1</th><td>2</td><td>1</td><td>-2.1261548</td><td>-1.7813625</td></tr>\n",
       "\t<tr><th scope=row>2.2</th><td>2</td><td>2</td><td>-2.1261548</td><td>-1.7813625</td></tr>\n",
       "\t<tr><th scope=row>2.3</th><td>2</td><td>3</td><td>-2.1261548</td><td>-1.7813625</td></tr>\n",
       "\t<tr><th scope=row>3</th><td>3</td><td>0</td><td> 0.4606242</td><td> 0.3039838</td></tr>\n",
       "\t<tr><th scope=row>3.1</th><td>3</td><td>1</td><td> 0.4606242</td><td> 0.3039838</td></tr>\n",
       "</tbody>\n",
       "</table>\n"
      ],
      "text/latex": [
       "A data.frame: 10 x 4\n",
       "\\begin{tabular}{r|llll}\n",
       "  & Subject & time & Int & Slope\\\\\n",
       "  & <int> & <int> & <dbl> & <dbl>\\\\\n",
       "\\hline\n",
       "\t1 & 1 & 0 & -1.3322902 & -0.9548087\\\\\n",
       "\t1.1 & 1 & 1 & -1.3322902 & -0.9548087\\\\\n",
       "\t1.2 & 1 & 2 & -1.3322902 & -0.9548087\\\\\n",
       "\t1.3 & 1 & 3 & -1.3322902 & -0.9548087\\\\\n",
       "\t2 & 2 & 0 & -2.1261548 & -1.7813625\\\\\n",
       "\t2.1 & 2 & 1 & -2.1261548 & -1.7813625\\\\\n",
       "\t2.2 & 2 & 2 & -2.1261548 & -1.7813625\\\\\n",
       "\t2.3 & 2 & 3 & -2.1261548 & -1.7813625\\\\\n",
       "\t3 & 3 & 0 &  0.4606242 &  0.3039838\\\\\n",
       "\t3.1 & 3 & 1 &  0.4606242 &  0.3039838\\\\\n",
       "\\end{tabular}\n"
      ],
      "text/markdown": [
       "\n",
       "A data.frame: 10 x 4\n",
       "\n",
       "| <!--/--> | Subject &lt;int&gt; | time &lt;int&gt; | Int &lt;dbl&gt; | Slope &lt;dbl&gt; |\n",
       "|---|---|---|---|---|\n",
       "| 1 | 1 | 0 | -1.3322902 | -0.9548087 |\n",
       "| 1.1 | 1 | 1 | -1.3322902 | -0.9548087 |\n",
       "| 1.2 | 1 | 2 | -1.3322902 | -0.9548087 |\n",
       "| 1.3 | 1 | 3 | -1.3322902 | -0.9548087 |\n",
       "| 2 | 2 | 0 | -2.1261548 | -1.7813625 |\n",
       "| 2.1 | 2 | 1 | -2.1261548 | -1.7813625 |\n",
       "| 2.2 | 2 | 2 | -2.1261548 | -1.7813625 |\n",
       "| 2.3 | 2 | 3 | -2.1261548 | -1.7813625 |\n",
       "| 3 | 3 | 0 |  0.4606242 |  0.3039838 |\n",
       "| 3.1 | 3 | 1 |  0.4606242 |  0.3039838 |\n",
       "\n"
      ],
      "text/plain": [
       "    Subject time Int        Slope     \n",
       "1   1       0    -1.3322902 -0.9548087\n",
       "1.1 1       1    -1.3322902 -0.9548087\n",
       "1.2 1       2    -1.3322902 -0.9548087\n",
       "1.3 1       3    -1.3322902 -0.9548087\n",
       "2   2       0    -2.1261548 -1.7813625\n",
       "2.1 2       1    -2.1261548 -1.7813625\n",
       "2.2 2       2    -2.1261548 -1.7813625\n",
       "2.3 2       3    -2.1261548 -1.7813625\n",
       "3   3       0     0.4606242  0.3039838\n",
       "3.1 3       1     0.4606242  0.3039838"
      ]
     },
     "metadata": {},
     "output_type": "display_data"
    }
   ],
   "source": [
    "data.frame(\n",
    "    Subject = subject, \n",
    "    time = time, \n",
    "    randomEffects[subject, ]\n",
    ") |>\n",
    "    head(10)"
   ]
  },
  {
   "cell_type": "markdown",
   "id": "9ff35412",
   "metadata": {},
   "source": [
    "Per generare la variabile target, procediamo sommando gli effetti casuali, precedentemente calcolati, all'intercetta globale e applichiamo un analogo procedimento alle pendenze. In aggiunta, introduciamo un rumore gaussiano ai dati, caratterizzato da una deviazione standard $\\sigma$ pari a 0.5. Questa operazione ha lo scopo di aggiungere un livello di variabilità realistica e di incertezza ai dati, rendendo la simulazione più vicina a scenari osservati nella realtà pratica."
   ]
  },
  {
   "cell_type": "code",
   "execution_count": 4,
   "id": "77dba89f",
   "metadata": {
    "vscode": {
     "languageId": "r"
    }
   },
   "outputs": [],
   "source": [
    "set.seed(12345)\n",
    "sigma <- .5\n",
    "y1 <- \n",
    "  (intercept + randomEffects$Int[subject]) + # random intercepts\n",
    "  (slope + randomEffects$Slope[subject]) * time + # random slopes\n",
    "  rnorm(n * timepoints, mean = 0, sd = sigma) # noise\n",
    "\n",
    "d <- data.frame(subject, time, y1)"
   ]
  },
  {
   "cell_type": "code",
   "execution_count": 5,
   "id": "c36e2af4",
   "metadata": {
    "vscode": {
     "languageId": "r"
    }
   },
   "outputs": [
    {
     "data": {
      "text/html": [
       "<table class=\"dataframe\">\n",
       "<caption>A data.frame: 10 x 3</caption>\n",
       "<thead>\n",
       "\t<tr><th></th><th scope=col>subject</th><th scope=col>time</th><th scope=col>y1</th></tr>\n",
       "\t<tr><th></th><th scope=col>&lt;int&gt;</th><th scope=col>&lt;int&gt;</th><th scope=col>&lt;dbl&gt;</th></tr>\n",
       "</thead>\n",
       "<tbody>\n",
       "\t<tr><th scope=row>1</th><td>1</td><td>0</td><td>-0.5395258</td></tr>\n",
       "\t<tr><th scope=row>2</th><td>1</td><td>1</td><td>-1.1823659</td></tr>\n",
       "\t<tr><th scope=row>3</th><td>1</td><td>2</td><td>-2.2965593</td></tr>\n",
       "\t<tr><th scope=row>4</th><td>1</td><td>3</td><td>-3.1734649</td></tr>\n",
       "\t<tr><th scope=row>5</th><td>2</td><td>0</td><td>-1.3232110</td></tr>\n",
       "\t<tr><th scope=row>6</th><td>2</td><td>1</td><td>-4.0664952</td></tr>\n",
       "\t<tr><th scope=row>7</th><td>2</td><td>2</td><td>-4.3738304</td></tr>\n",
       "\t<tr><th scope=row>8</th><td>2</td><td>3</td><td>-6.3583342</td></tr>\n",
       "\t<tr><th scope=row>9</th><td>3</td><td>0</td><td> 0.8185443</td></tr>\n",
       "\t<tr><th scope=row>10</th><td>3</td><td>1</td><td> 1.0549470</td></tr>\n",
       "</tbody>\n",
       "</table>\n"
      ],
      "text/latex": [
       "A data.frame: 10 x 3\n",
       "\\begin{tabular}{r|lll}\n",
       "  & subject & time & y1\\\\\n",
       "  & <int> & <int> & <dbl>\\\\\n",
       "\\hline\n",
       "\t1 & 1 & 0 & -0.5395258\\\\\n",
       "\t2 & 1 & 1 & -1.1823659\\\\\n",
       "\t3 & 1 & 2 & -2.2965593\\\\\n",
       "\t4 & 1 & 3 & -3.1734649\\\\\n",
       "\t5 & 2 & 0 & -1.3232110\\\\\n",
       "\t6 & 2 & 1 & -4.0664952\\\\\n",
       "\t7 & 2 & 2 & -4.3738304\\\\\n",
       "\t8 & 2 & 3 & -6.3583342\\\\\n",
       "\t9 & 3 & 0 &  0.8185443\\\\\n",
       "\t10 & 3 & 1 &  1.0549470\\\\\n",
       "\\end{tabular}\n"
      ],
      "text/markdown": [
       "\n",
       "A data.frame: 10 x 3\n",
       "\n",
       "| <!--/--> | subject &lt;int&gt; | time &lt;int&gt; | y1 &lt;dbl&gt; |\n",
       "|---|---|---|---|\n",
       "| 1 | 1 | 0 | -0.5395258 |\n",
       "| 2 | 1 | 1 | -1.1823659 |\n",
       "| 3 | 1 | 2 | -2.2965593 |\n",
       "| 4 | 1 | 3 | -3.1734649 |\n",
       "| 5 | 2 | 0 | -1.3232110 |\n",
       "| 6 | 2 | 1 | -4.0664952 |\n",
       "| 7 | 2 | 2 | -4.3738304 |\n",
       "| 8 | 2 | 3 | -6.3583342 |\n",
       "| 9 | 3 | 0 |  0.8185443 |\n",
       "| 10 | 3 | 1 |  1.0549470 |\n",
       "\n"
      ],
      "text/plain": [
       "   subject time y1        \n",
       "1  1       0    -0.5395258\n",
       "2  1       1    -1.1823659\n",
       "3  1       2    -2.2965593\n",
       "4  1       3    -3.1734649\n",
       "5  2       0    -1.3232110\n",
       "6  2       1    -4.0664952\n",
       "7  2       2    -4.3738304\n",
       "8  2       3    -6.3583342\n",
       "9  3       0     0.8185443\n",
       "10 3       1     1.0549470"
      ]
     },
     "metadata": {},
     "output_type": "display_data"
    }
   ],
   "source": [
    "d |>\n",
    "  head(10) "
   ]
  },
  {
   "attachments": {},
   "cell_type": "markdown",
   "id": "cd15477a",
   "metadata": {},
   "source": [
    "Il grafico seguente mostra le rette di regressione per ciascuno dei 500 soggetti."
   ]
  },
  {
   "cell_type": "code",
   "execution_count": 6,
   "id": "7c769e0e",
   "metadata": {
    "vscode": {
     "languageId": "r"
    }
   },
   "outputs": [
    {
     "name": "stderr",
     "output_type": "stream",
     "text": [
      "\u001b[1m\u001b[22m`geom_smooth()` using formula = 'y ~ x'\n"
     ]
    },
    {
     "data": {
      "image/png": "[encoded data removed]",
      "text/plain": [
       "plot without title"
      ]
     },
     "metadata": {
      "image/png": {
       "height": 296.6563,
       "width": 480
      }
     },
     "output_type": "display_data"
    }
   ],
   "source": [
    "ggplot(d, aes(x = time, y = y1)) +\n",
    "  geom_path(aes(group = subject), alpha = .1) +\n",
    "  geom_smooth(method = \"lm\")"
   ]
  },
  {
   "cell_type": "markdown",
   "id": "28c138c3",
   "metadata": {},
   "source": [
    "Adattiamo ai dati un modello misto utilizzando la funzione `lmer` del pacchetto `lme4`. Si noti che questo è un modello in cui solo le intercette sono consentite variare tra i cluster."
   ]
  },
  {
   "cell_type": "code",
   "execution_count": 7,
   "id": "83b12baf",
   "metadata": {
    "vscode": {
     "languageId": "r"
    }
   },
   "outputs": [],
   "source": [
    "m0 <- lmer(y1 ~ 1 + (1 | subject), data = d)"
   ]
  },
  {
   "cell_type": "markdown",
   "id": "9443a7b1",
   "metadata": {},
   "source": [
    "Le componenti di varianza del modello si estraggono con la funzione `VarCorr()`."
   ]
  },
  {
   "cell_type": "code",
   "execution_count": 8,
   "id": "d70c5eaf",
   "metadata": {
    "vscode": {
     "languageId": "r"
    }
   },
   "outputs": [
    {
     "data": {
      "text/plain": [
       " Groups   Name        Std.Dev.\n",
       " subject  (Intercept) 1.8306  \n",
       " Residual             1.4352  "
      ]
     },
     "metadata": {},
     "output_type": "display_data"
    }
   ],
   "source": [
    "VarCorr(m0)"
   ]
  },
  {
   "cell_type": "markdown",
   "id": "e042a077",
   "metadata": {},
   "source": [
    "Calcoliamo il coefficiente di correlazione intraclasse."
   ]
  },
  {
   "cell_type": "code",
   "execution_count": 9,
   "id": "8d18e3c7",
   "metadata": {
    "vscode": {
     "languageId": "r"
    }
   },
   "outputs": [
    {
     "data": {
      "text/html": [
       "0.619323810990691"
      ],
      "text/latex": [
       "0.619323810990691"
      ],
      "text/markdown": [
       "0.619323810990691"
      ],
      "text/plain": [
       "[1] 0.6193238"
      ]
     },
     "metadata": {},
     "output_type": "display_data"
    }
   ],
   "source": [
    "1.8306^2 / (1.8306^2 + 1.4352^2)"
   ]
  },
  {
   "cell_type": "markdown",
   "id": "7319e47b",
   "metadata": {},
   "source": [
    "Laddove "
   ]
  },
  {
   "cell_type": "code",
   "execution_count": 10,
   "id": "e332f5b0",
   "metadata": {
    "vscode": {
     "languageId": "r"
    }
   },
   "outputs": [
    {
     "data": {
      "text/html": [
       "5.4108954"
      ],
      "text/latex": [
       "5.4108954"
      ],
      "text/markdown": [
       "5.4108954"
      ],
      "text/plain": [
       "[1] 5.410895"
      ]
     },
     "metadata": {},
     "output_type": "display_data"
    }
   ],
   "source": [
    "(1.8306^2 + 1.4352^2)"
   ]
  },
  {
   "cell_type": "markdown",
   "id": "60b30fd0",
   "metadata": {},
   "source": [
    "è uguale alla varianza della variabile risposta"
   ]
  },
  {
   "cell_type": "code",
   "execution_count": 11,
   "id": "887e9a6a",
   "metadata": {
    "vscode": {
     "languageId": "r"
    }
   },
   "outputs": [
    {
     "data": {
      "text/html": [
       "5.40584388269803"
      ],
      "text/latex": [
       "5.40584388269803"
      ],
      "text/markdown": [
       "5.40584388269803"
      ],
      "text/plain": [
       "[1] 5.405844"
      ]
     },
     "metadata": {},
     "output_type": "display_data"
    }
   ],
   "source": [
    "var(d$y1)"
   ]
  },
  {
   "cell_type": "markdown",
   "id": "a01b4d73",
   "metadata": {},
   "source": [
    "Lo stesso risultato si ottiene utilizzando una funzione `R` per il calcolo della correlazione intraclasse."
   ]
  },
  {
   "cell_type": "code",
   "execution_count": 12,
   "id": "b1e9a42b",
   "metadata": {
    "vscode": {
     "languageId": "r"
    }
   },
   "outputs": [
    {
     "name": "stdout",
     "output_type": "stream",
     "text": [
      "        Var    Sigma       ICC\n",
      "     <char>    <num>     <num>\n",
      "1:  subject 3.350987 0.6193062\n",
      "2: Residual 2.059886 0.3806938\n"
     ]
    }
   ],
   "source": [
    "multilevelTools::iccMixed(\n",
    "  dv = \"y1\",\n",
    "  id = c(\"subject\"),\n",
    "  data = d\n",
    ") |>\n",
    "  print()"
   ]
  },
  {
   "cell_type": "code",
   "execution_count": 18,
   "id": "502aa8eb",
   "metadata": {
    "vscode": {
     "languageId": "r"
    }
   },
   "outputs": [
    {
     "data": {
      "text/html": [
       "1"
      ],
      "text/latex": [
       "1"
      ],
      "text/markdown": [
       "1"
      ],
      "text/plain": [
       "[1] 1"
      ]
     },
     "metadata": {},
     "output_type": "display_data"
    }
   ],
   "source": [
    "0.6193062 + 0.3806938"
   ]
  },
  {
   "cell_type": "markdown",
   "id": "521fe14b",
   "metadata": {},
   "source": [
    "Esaminiamo ora un modello in cui sia le intercette sia le pendenze variano tra i cluster."
   ]
  },
  {
   "cell_type": "code",
   "execution_count": 14,
   "id": "740c5508",
   "metadata": {
    "vscode": {
     "languageId": "r"
    }
   },
   "outputs": [
    {
     "name": "stdout",
     "output_type": "stream",
     "text": [
      "Linear mixed model fit by REML ['lmerMod']\n",
      "Formula: y1 ~ time + (1 + time | subject)\n",
      "   Data: d\n",
      "\n",
      "REML criterion at convergence: 5881.3\n",
      "\n",
      "Scaled residuals: \n",
      "     Min       1Q   Median       3Q      Max \n",
      "-3.03499 -0.46249  0.00414  0.48241  2.74992 \n",
      "\n",
      "Random effects:\n",
      " Groups   Name        Variance Std.Dev. Corr\n",
      " subject  (Intercept) 1.0245   1.0122       \n",
      "          time        1.0301   1.0149   0.15\n",
      " Residual             0.2412   0.4911       \n",
      "Number of obs: 2000, groups:  subject, 500\n",
      "\n",
      "Fixed effects:\n",
      "            Estimate Std. Error t value\n",
      "(Intercept)  0.50159    0.04885  10.267\n",
      "time         0.25157    0.04644   5.417\n",
      "\n",
      "Correlation of Fixed Effects:\n",
      "     (Intr)\n",
      "time 0.072 \n"
     ]
    }
   ],
   "source": [
    "mix_mod <- lmer(y1 ~ time + (1 + time | subject), data = d)\n",
    "summary(mix_mod) |>\n",
    "    print()"
   ]
  },
  {
   "attachments": {},
   "cell_type": "markdown",
   "id": "d6880ec7",
   "metadata": {},
   "source": [
    "Gli effetti fissi che abbiamo ottenuto ($\\alpha$ = 0.50159, $\\beta$ = 0.25157) sono simili ai valori che abbiamo impostato nella simulazione per l'intercetta e la pendenza globale. "
   ]
  },
  {
   "cell_type": "code",
   "execution_count": 15,
   "id": "cbe9ff44",
   "metadata": {
    "vscode": {
     "languageId": "r"
    }
   },
   "outputs": [
    {
     "data": {
      "text/plain": [
       " Groups   Name        Std.Dev. Corr \n",
       " subject  (Intercept) 1.01217       \n",
       "          time        1.01494  0.150\n",
       " Residual             0.49108       "
      ]
     },
     "metadata": {},
     "output_type": "display_data"
    }
   ],
   "source": [
    "VarCorr(mix_mod)"
   ]
  },
  {
   "attachments": {},
   "cell_type": "markdown",
   "id": "b5b8ac4f",
   "metadata": {},
   "source": [
    "Le varianze degli effetti casuali stimati ($1.0122^2$, $1.0149^2$) sono molto simili al valore impostato di 1 nella simulazione, la correlazione (0.15) è simile al valore impostato di 0.2 e la deviazione standard dei residui (0.4911) è simile al valore impostato di 0.5."
   ]
  },
  {
   "attachments": {},
   "cell_type": "markdown",
   "id": "91eecda4",
   "metadata": {},
   "source": [
    "## Modello di crescita latente\n",
    "\n",
    "<!-- https://github.com/m-clark/sem/blob/master/growth-curves.Rmd -->\n",
    "\n",
    "Esploriamo ora l'analisi degli stessi dati tramite un modello di crescita latente (LGM). I modelli LGM possono essere considerati come un'estensione dei modelli CFA, in cui si ipotizzano due fattori latenti principali: il primo è una variabile latente associata alle intercette casuali, cioè rappresenta la variazione delle intercette individuali dei partecipanti; il secondo è una variabile latente relativa alle pendenze casuali, che descrive la variazione delle pendenze individuali dei partecipanti. Queste intercette e pendenze si riferiscono alla linea di regressione che descrive per ciascun partecipante la relazione tra la variabile in esame e il tempo.\n",
    "\n",
    "In quanto il modello mira a spiegare la relazione tra le medie dei punteggi dei partecipanti nel tempo, è necessario analizzare i dati grezzi piuttosto che la matrice di covarianza campionaria. Ciò significa utilizzare le osservazioni individuali per ciascun partecipante come input.\n",
    "\n",
    "Per l'analisi, utilizzeremo nuovamente il software `lavaan`, ma con una sintassi differente per poter fissare le saturazioni fattoriali a valori specifici, come richiesto dai vincoli del modello LGM. Di conseguenza, l'output che otterremo sarà diverso da quello dei modelli SEM standard, poiché i parametri relativi alle saturazioni fattoriali sono fissi e non stimati.\n",
    "\n",
    "Per il fattore che rappresenta le intercette, le saturazioni fattoriali sono impostate a 1. Questo valore può essere interpretato come l'equivalente della colonna dell'intercetta nella matrice $\\boldsymbol{X}$ di un modello di regressione multipla.\n",
    "\n",
    "Le saturazioni per il fattore che definisce le pendenze casuali sono stabilite in base alla sequenza temporale delle misurazioni $y$, con valori $\\lambda$ che vanno da 0 a 3. Questi riflettono gli intervalli temporali delle misurazioni. Iniziare la codifica da 0 conferisce un significato interpretabile allo zero, analogamente ai valori che, nella matrice $\\boldsymbol{X}$ di un modello di regressione multipla, corrisponderebbero alla colonna della pendenza.\n",
    "\n",
    "Il modello di crescita latente (LGM) espresso dalla formula \n",
    "\n",
    "$$\n",
    "y_j = \\alpha_0 + \\alpha_1 \\lambda_j + \\zeta_{00} + \\zeta_{11} \\lambda_j + \\epsilon_j\n",
    "$$\n",
    "\n",
    "può essere messo in relazione con il modello lineare ad effetti misti precedentemente descritto attraverso la comprensione della struttura dei due modelli e delle loro componenti.\n",
    "\n",
    "1. **Interpretazione dei Componenti del Modello LGM**:\n",
    "   - $ \\alpha_0 $: Rappresenta l'intercetta media del modello di crescita.\n",
    "   - $ \\alpha_1 \\lambda_j $: Rappresenta il tasso medio di crescita nel tempo, dove $ \\lambda_j $ sono i valori che descrivono l'intervallo temporale delle misurazioni.\n",
    "   - $ \\zeta_{00} $: Indica la variazione delle intercette individuali tra i soggetti rispetto all'intercetta media $ \\alpha_0 $.\n",
    "   - $ \\zeta_{11} \\lambda_j $: Esprime la variazione nelle pendenze individuali (tassi di crescita) tra i soggetti rispetto al tasso medio di crescita $ \\alpha_1 $.\n",
    "   - $ \\epsilon_j $: Rappresenta l'errore di misurazione per ogni singolo soggetto.\n",
    "\n",
    "2. **Confronto con il Modello Lineare ad Effetti Misti**:\n",
    "   - Nel modello lineare ad effetti misti, si considerano sia effetti fissi (come l'intercetta e la pendenza media del modello) sia effetti casuali (variazione delle intercette e delle pendenze tra i soggetti). In maniera simile, il modello LGM considera l'intercetta media e il tasso medio di crescita (effetti fissi) e permette la variazione individuale in queste componenti (effetti casuali).\n",
    "   - La componente $ \\zeta_{00} $ nel modello LGM è analoga alla variazione casuale delle intercette nel modello ad effetti misti, mentre $ \\zeta_{11} $ corrisponde alla variazione casuale delle pendenze.\n",
    "   - Entrambi i modelli permettono di analizzare dati strutturati longitudinalmente, offrendo la flessibilità di modellare non solo la tendenza generale (effetti fissi) ma anche la variazione individuale intorno a questa tendenza (effetti casuali).\n",
    "\n",
    "In sintesi, il modello LGM può essere visto come un caso speciale o un'estensione del modello lineare ad effetti misti, con un'enfasi particolare sulla modellazione del cambiamento nel tempo e sulla relazione di questa dinamica con variabili latenti. Entrambi i modelli sono strumenti potenti nell'analisi di dati longitudinali, permettendo di esaminare sia la tendenza centrale sia la variabilità individuale all'interno dei dati."
   ]
  },
  {
   "attachments": {},
   "cell_type": "markdown",
   "id": "c1ec9361",
   "metadata": {},
   "source": [
    "Un requisito degli LGM è che i dati devono essere forniti del formato *wide* (mentre per il precedente modello misto abbiamo usato il formato *long*), il che significa che ogni colonna rappresenta la variabile di esito in un diverso momento nel tempo. Si presume che ogni osservazione o riga sia indipendente dalle altre; le colonne mostrano invece una dipendenza temporale. Trasformiamo dunque i dati nel formato richiesto."
   ]
  },
  {
   "cell_type": "code",
   "execution_count": 16,
   "id": "8fdce94e",
   "metadata": {
    "vscode": {
     "languageId": "r"
    }
   },
   "outputs": [
    {
     "data": {
      "text/html": [
       "<table class=\"dataframe\">\n",
       "<caption>A data.frame: 6 x 5</caption>\n",
       "<thead>\n",
       "\t<tr><th></th><th scope=col>subject</th><th scope=col>y0</th><th scope=col>y1</th><th scope=col>y2</th><th scope=col>y3</th></tr>\n",
       "\t<tr><th></th><th scope=col>&lt;int&gt;</th><th scope=col>&lt;dbl&gt;</th><th scope=col>&lt;dbl&gt;</th><th scope=col>&lt;dbl&gt;</th><th scope=col>&lt;dbl&gt;</th></tr>\n",
       "</thead>\n",
       "<tbody>\n",
       "\t<tr><th scope=row>1</th><td>1</td><td>-0.5395258</td><td>-1.1823659</td><td>-2.2965593</td><td>-3.173465</td></tr>\n",
       "\t<tr><th scope=row>2</th><td>2</td><td>-1.3232110</td><td>-4.0664952</td><td>-4.3738304</td><td>-6.358334</td></tr>\n",
       "\t<tr><th scope=row>3</th><td>3</td><td> 0.8185443</td><td> 1.0549470</td><td> 2.0104678</td><td> 3.531232</td></tr>\n",
       "\t<tr><th scope=row>4</th><td>4</td><td> 0.4469440</td><td>-0.3162615</td><td>-1.7896354</td><td>-1.843919</td></tr>\n",
       "\t<tr><th scope=row>5</th><td>5</td><td> 1.8959902</td><td> 5.5259110</td><td> 9.6045869</td><td>12.546123</td></tr>\n",
       "\t<tr><th scope=row>6</th><td>6</td><td> 2.1829579</td><td> 1.6287374</td><td>-0.3136214</td><td>-1.660328</td></tr>\n",
       "</tbody>\n",
       "</table>\n"
      ],
      "text/latex": [
       "A data.frame: 6 x 5\n",
       "\\begin{tabular}{r|lllll}\n",
       "  & subject & y0 & y1 & y2 & y3\\\\\n",
       "  & <int> & <dbl> & <dbl> & <dbl> & <dbl>\\\\\n",
       "\\hline\n",
       "\t1 & 1 & -0.5395258 & -1.1823659 & -2.2965593 & -3.173465\\\\\n",
       "\t2 & 2 & -1.3232110 & -4.0664952 & -4.3738304 & -6.358334\\\\\n",
       "\t3 & 3 &  0.8185443 &  1.0549470 &  2.0104678 &  3.531232\\\\\n",
       "\t4 & 4 &  0.4469440 & -0.3162615 & -1.7896354 & -1.843919\\\\\n",
       "\t5 & 5 &  1.8959902 &  5.5259110 &  9.6045869 & 12.546123\\\\\n",
       "\t6 & 6 &  2.1829579 &  1.6287374 & -0.3136214 & -1.660328\\\\\n",
       "\\end{tabular}\n"
      ],
      "text/markdown": [
       "\n",
       "A data.frame: 6 x 5\n",
       "\n",
       "| <!--/--> | subject &lt;int&gt; | y0 &lt;dbl&gt; | y1 &lt;dbl&gt; | y2 &lt;dbl&gt; | y3 &lt;dbl&gt; |\n",
       "|---|---|---|---|---|---|\n",
       "| 1 | 1 | -0.5395258 | -1.1823659 | -2.2965593 | -3.173465 |\n",
       "| 2 | 2 | -1.3232110 | -4.0664952 | -4.3738304 | -6.358334 |\n",
       "| 3 | 3 |  0.8185443 |  1.0549470 |  2.0104678 |  3.531232 |\n",
       "| 4 | 4 |  0.4469440 | -0.3162615 | -1.7896354 | -1.843919 |\n",
       "| 5 | 5 |  1.8959902 |  5.5259110 |  9.6045869 | 12.546123 |\n",
       "| 6 | 6 |  2.1829579 |  1.6287374 | -0.3136214 | -1.660328 |\n",
       "\n"
      ],
      "text/plain": [
       "  subject y0         y1         y2         y3       \n",
       "1 1       -0.5395258 -1.1823659 -2.2965593 -3.173465\n",
       "2 2       -1.3232110 -4.0664952 -4.3738304 -6.358334\n",
       "3 3        0.8185443  1.0549470  2.0104678  3.531232\n",
       "4 4        0.4469440 -0.3162615 -1.7896354 -1.843919\n",
       "5 5        1.8959902  5.5259110  9.6045869 12.546123\n",
       "6 6        2.1829579  1.6287374 -0.3136214 -1.660328"
      ]
     },
     "metadata": {},
     "output_type": "display_data"
    }
   ],
   "source": [
    "dwide <- d %>%\n",
    "  spread(time, y1) %>%\n",
    "  rename_at(vars(-subject), function(x) paste0(\"y\", x))\n",
    "head(dwide)"
   ]
  },
  {
   "attachments": {},
   "cell_type": "markdown",
   "id": "666ff18a",
   "metadata": {},
   "source": [
    "Il modello misto che abbiamo descritto in precedenza corrisponde dunque ad un modello fattoriale con due variabili latenti: un fattore ($\\eta_0$) che rappresenta il \"punteggio vero\" delle intercette individuali e un fattore ($\\eta_1$) che rappresenta il \"punteggio vero\" delle pendenze delle rette di regressione per i singoli individui.\n",
    "\n",
    "Nella sintassi di `lavaan` il modello diventa:"
   ]
  },
  {
   "cell_type": "code",
   "execution_count": 17,
   "id": "9134e2b6",
   "metadata": {
    "vscode": {
     "languageId": "r"
    }
   },
   "outputs": [],
   "source": [
    "model <- \"\n",
    "    i =~ 1*y0 + 1*y1 + 1*y2 + 1*y3\n",
    "    s =~ 0*y0 + 1*y1 + 2*y2 + 3*y3\n",
    "\""
   ]
  },
  {
   "attachments": {},
   "cell_type": "markdown",
   "id": "6e86a516",
   "metadata": {},
   "source": [
    "Possiamo adattare il modello ai dati usando una funzione specifica di `lavaan`, ovvero `growth`, che può essere usata per questa classe di modelli. "
   ]
  },
  {
   "cell_type": "code",
   "execution_count": 18,
   "id": "af3498cf",
   "metadata": {
    "vscode": {
     "languageId": "r"
    }
   },
   "outputs": [],
   "source": [
    "growth_curve_model <- growth(model, data = dwide)"
   ]
  },
  {
   "cell_type": "code",
   "execution_count": 19,
   "id": "71bf0789",
   "metadata": {
    "vscode": {
     "languageId": "r"
    }
   },
   "outputs": [
    {
     "name": "stdout",
     "output_type": "stream",
     "text": [
      "lavaan 0.6-19 ended normally after 41 iterations\n",
      "\n",
      "  Estimator                                         ML\n",
      "  Optimization method                           NLMINB\n",
      "  Number of model parameters                         9\n",
      "\n",
      "  Number of observations                           500\n",
      "\n",
      "Model Test User Model:\n",
      "                                                      \n",
      "  Test statistic                                 4.212\n",
      "  Degrees of freedom                                 5\n",
      "  P-value (Chi-square)                           0.519\n",
      "\n",
      "Parameter Estimates:\n",
      "\n",
      "  Standard errors                             Standard\n",
      "  Information                                 Expected\n",
      "  Information saturated (h1) model          Structured\n",
      "\n",
      "Latent Variables:\n",
      "                   Estimate  Std.Err  z-value  P(>|z|)\n",
      "  i =~                                                \n",
      "    y0                1.000                           \n",
      "    y1                1.000                           \n",
      "    y2                1.000                           \n",
      "    y3                1.000                           \n",
      "  s =~                                                \n",
      "    y0                0.000                           \n",
      "    y1                1.000                           \n",
      "    y2                2.000                           \n",
      "    y3                3.000                           \n",
      "\n",
      "Covariances:\n",
      "                   Estimate  Std.Err  z-value  P(>|z|)\n",
      "  i ~~                                                \n",
      "    s                 0.162    0.051    3.137    0.002\n",
      "\n",
      "Intercepts:\n",
      "                   Estimate  Std.Err  z-value  P(>|z|)\n",
      "    i                 0.501    0.049   10.263    0.000\n",
      "    s                 0.252    0.046    5.428    0.000\n",
      "\n",
      "Variances:\n",
      "                   Estimate  Std.Err  z-value  P(>|z|)\n",
      "   .y0                0.268    0.042    6.356    0.000\n",
      "   .y1                0.237    0.022   10.713    0.000\n",
      "   .y2                0.209    0.029    7.262    0.000\n",
      "   .y3                0.299    0.066    4.556    0.000\n",
      "    i                 1.007    0.078   12.996    0.000\n",
      "    s                 1.021    0.068   14.953    0.000\n",
      "\n"
     ]
    }
   ],
   "source": [
    "summary(growth_curve_model) |>\n",
    "    print()"
   ]
  },
  {
   "cell_type": "code",
   "execution_count": 20,
   "id": "bff09e36",
   "metadata": {
    "vscode": {
     "languageId": "r"
    }
   },
   "outputs": [
    {
     "data": {
      "image/png": "[encoded data removed]",
      "text/plain": [
       "plot without title"
      ]
     },
     "metadata": {
      "image/png": {
       "height": 296.6563,
       "width": 480
      }
     },
     "output_type": "display_data"
    }
   ],
   "source": [
    "growth_curve_model |>\n",
    "    semPaths(\n",
    "        style = \"ram\",\n",
    "        whatLabels = \"par\", edge.label.cex = .6,\n",
    "        label.prop = 0.9, edge.label.color = \"black\", rotation = 4,\n",
    "        equalizeManifests = FALSE, optimizeLatRes = TRUE,\n",
    "        node.width = 1.5,\n",
    "        edge.width = 0.5, shapeMan = \"rectangle\", shapeLat = \"ellipse\",\n",
    "        shapeInt = \"triangle\", sizeMan = 4, sizeInt = 2, sizeLat = 4,\n",
    "        curve = 2, unCol = \"#070b8c\"\n",
    "    )"
   ]
  },
  {
   "attachments": {},
   "cell_type": "markdown",
   "id": "4b5dec41",
   "metadata": {},
   "source": [
    "Usiamo l’oggetto creato da `growth` per creare un diagramma di percorso."
   ]
  },
  {
   "cell_type": "markdown",
   "id": "2a07a89d",
   "metadata": {},
   "source": [
    "## Comparazione tra Modelli a Effetti Misti e Modelli di Crescita Latente\n",
    "\n",
    "Nell'output del metodo `growth()`, la sezione denominata `Intercepts` rappresenta in realtà gli effetti fissi all'interno del contesto di un modello a effetti misti:\n",
    "\n",
    "```\n",
    "Intercepts:\n",
    "                   Estimate  Std.Err  z-value  P(>|z|)\n",
    "    i                 0.510    0.048   10.542    0.000\n",
    "    s                 0.234    0.046    5.133    0.000\n",
    "```\n",
    "\n",
    "Può apparire inizialmente non intuitivo riferirsi agli effetti fissi come 'intercette' in un modello a effetti misti. Tuttavia, questa terminologia diventa più chiara quando consideriamo la parametrizzazione del modello di crescita latente (LGM). In un modello LGM, 'i' rappresenta l'intercetta generale del modello (cioè, il punto di partenza medio per tutti i soggetti), mentre 's' indica la pendenza media, ovvero il tasso di crescita o di cambiamento nel tempo.\n",
    "\n",
    "È interessante notare come le stime riportate qui siano molto vicine a quelle che si ottengono in un modello a effetti misti. Questa similitudine dimostra l'affinità tra i due approcci di modellazione: entrambi mirano a comprendere e quantificare sia gli effetti generali (come la tendenza media di crescita) sia le variazioni individuali all'interno di un insieme di dati longitudinali. In entrambi i casi, l'intercetta e la pendenza giocano ruoli cruciali nell'interpretazione dei modelli e nella comprensione di come i valori della variabile dipendente evolvano nel tempo."
   ]
  },
  {
   "cell_type": "code",
   "execution_count": 21,
   "id": "17171bd4",
   "metadata": {
    "vscode": {
     "languageId": "r"
    }
   },
   "outputs": [
    {
     "name": "stdout",
     "output_type": "stream",
     "text": [
      "(Intercept)        time \n",
      "  0.5015932   0.2515722 \n"
     ]
    }
   ],
   "source": [
    "print(fixef(mix_mod))"
   ]
  },
  {
   "attachments": {},
   "cell_type": "markdown",
   "id": "16cb1015",
   "metadata": {},
   "source": [
    "Si noti inoltre che le stime degli effetti fissi del modello misto sono identiche a quelle che vengono trovate usando un modello di regressione standard:"
   ]
  },
  {
   "cell_type": "code",
   "execution_count": 22,
   "id": "0938d4a9",
   "metadata": {
    "vscode": {
     "languageId": "r"
    }
   },
   "outputs": [
    {
     "data": {
      "text/plain": [
       "\n",
       "Call:\n",
       "lm(formula = y1 ~ time, data = d)\n",
       "\n",
       "Coefficients:\n",
       "(Intercept)         time  \n",
       "     0.5016       0.2516  \n"
      ]
     },
     "metadata": {},
     "output_type": "display_data"
    }
   ],
   "source": [
    "lm(y1 ~ time, data = d)"
   ]
  },
  {
   "attachments": {},
   "cell_type": "markdown",
   "id": "b6652634",
   "metadata": {},
   "source": [
    "Consideriamo ora le stime della varianza nel modello a crescita latente.\n",
    "\n",
    "```\n",
    "Covariances:\n",
    "                   Estimate  Std.Err  z-value  P(>|z|)\n",
    "  i ~~                                                \n",
    "    s                 0.220    0.050    4.371    0.000\n",
    "Variances:\n",
    "                   Estimate  Std.Err  z-value  P(>|z|)\n",
    "   .y0                0.310    0.042    7.308    0.000\n",
    "   .y1                0.220    0.021   10.338    0.000\n",
    "   .y2                0.230    0.029    7.935    0.000\n",
    "   .y3                0.275    0.064    4.295    0.000\n",
    "    i                 0.973    0.076   12.854    0.000\n",
    "    s                 0.986    0.066   14.889    0.000\n",
    "```\n",
    "\n",
    "Confrontiamo questi valori con quelli ottenuti dal modello misto."
   ]
  },
  {
   "cell_type": "code",
   "execution_count": 23,
   "id": "750f9964",
   "metadata": {
    "vscode": {
     "languageId": "r"
    }
   },
   "outputs": [
    {
     "name": "stdout",
     "output_type": "stream",
     "text": [
      " Groups   Name        Std.Dev. Corr \n",
      " subject  (Intercept) 1.01217       \n",
      "          time        1.01494  0.150\n",
      " Residual             0.49108       \n"
     ]
    }
   ],
   "source": [
    "VarCorr(mix_mod) |>\n",
    "    print()"
   ]
  },
  {
   "attachments": {},
   "cell_type": "markdown",
   "id": "9f431494",
   "metadata": {},
   "source": [
    "Si noti che il modello a crescita latente, per impostazione predefinita, assume una varianza eterogenea per ogni rilevazione temporale. I modelli misti, invece, per impostazione predefinita assumono la stessa varianza per ogni punto temporale. È però possibile specificare una stima separata della varianza nelle diverse rilevazioni temporali. \n",
    "\n",
    "Se vincoliamo le varianze ad essere uguali per ciascuna rilevazione temporale nel modello LGM, i due modelli producono delle stime identiche. La sintassi seguente viene utilizzata per forzare l'uguaglianza delle varianze in ciascuna rilevazione temporale."
   ]
  },
  {
   "cell_type": "code",
   "execution_count": 24,
   "id": "7917f9af",
   "metadata": {
    "vscode": {
     "languageId": "r"
    }
   },
   "outputs": [],
   "source": [
    "model <- \"\n",
    "    # intercept and slope with fixed coefficients\n",
    "    i =~ 1*y0 + 1*y1 + 1*y2 + 1*y3\n",
    "    s =~ 0*y0 + 1*y1 + 2*y2 + 3*y3\n",
    "    y0 ~~ resvar*y0\n",
    "    y1 ~~ resvar*y1\n",
    "    y2 ~~ resvar*y2\n",
    "    y3 ~~ resvar*y3\n",
    "\""
   ]
  },
  {
   "attachments": {},
   "cell_type": "markdown",
   "id": "30f05cdc",
   "metadata": {},
   "source": [
    "Adattiamo il nuovo modello ai dati."
   ]
  },
  {
   "cell_type": "code",
   "execution_count": 25,
   "id": "a39a4d3b",
   "metadata": {
    "vscode": {
     "languageId": "r"
    }
   },
   "outputs": [],
   "source": [
    "growth_curve_model <- growth(model, data = dwide)"
   ]
  },
  {
   "attachments": {},
   "cell_type": "markdown",
   "id": "c79f47d7",
   "metadata": {},
   "source": [
    "Esaminiamo i risultati."
   ]
  },
  {
   "cell_type": "code",
   "execution_count": 26,
   "id": "93775ea4",
   "metadata": {
    "vscode": {
     "languageId": "r"
    }
   },
   "outputs": [
    {
     "name": "stdout",
     "output_type": "stream",
     "text": [
      "lavaan 0.6-19 ended normally after 27 iterations\n",
      "\n",
      "  Estimator                                         ML\n",
      "  Optimization method                           NLMINB\n",
      "  Number of model parameters                         9\n",
      "  Number of equality constraints                     3\n",
      "\n",
      "  Number of observations                           500\n",
      "\n",
      "Model Test User Model:\n",
      "                                                      \n",
      "  Test statistic                                 6.180\n",
      "  Degrees of freedom                                 8\n",
      "  P-value (Chi-square)                           0.627\n",
      "\n",
      "Parameter Estimates:\n",
      "\n",
      "  Standard errors                             Standard\n",
      "  Information                                 Expected\n",
      "  Information saturated (h1) model          Structured\n",
      "\n",
      "Latent Variables:\n",
      "                   Estimate  Std.Err  z-value  P(>|z|)\n",
      "  i =~                                                \n",
      "    y0                1.000                           \n",
      "    y1                1.000                           \n",
      "    y2                1.000                           \n",
      "    y3                1.000                           \n",
      "  s =~                                                \n",
      "    y0                0.000                           \n",
      "    y1                1.000                           \n",
      "    y2                2.000                           \n",
      "    y3                3.000                           \n",
      "\n",
      "Covariances:\n",
      "                   Estimate  Std.Err  z-value  P(>|z|)\n",
      "  i ~~                                                \n",
      "    s                 0.154    0.051    3.034    0.002\n",
      "\n",
      "Intercepts:\n",
      "                   Estimate  Std.Err  z-value  P(>|z|)\n",
      "    i                 0.502    0.049   10.278    0.000\n",
      "    s                 0.252    0.046    5.423    0.000\n",
      "\n",
      "Variances:\n",
      "                   Estimate  Std.Err  z-value  P(>|z|)\n",
      "   .y0      (rsvr)    0.241    0.011   22.361    0.000\n",
      "   .y1      (rsvr)    0.241    0.011   22.361    0.000\n",
      "   .y2      (rsvr)    0.241    0.011   22.361    0.000\n",
      "   .y3      (rsvr)    0.241    0.011   22.361    0.000\n",
      "    i                 1.022    0.076   13.502    0.000\n",
      "    s                 1.028    0.068   15.095    0.000\n",
      "\n"
     ]
    }
   ],
   "source": [
    "summary(growth_curve_model) |>\n",
    "    print()"
   ]
  },
  {
   "attachments": {},
   "cell_type": "markdown",
   "id": "b2cd72c4",
   "metadata": {},
   "source": [
    "Per `lme4` abbiamo: "
   ]
  },
  {
   "cell_type": "code",
   "execution_count": 27,
   "id": "f45ef28b",
   "metadata": {
    "vscode": {
     "languageId": "r"
    }
   },
   "outputs": [
    {
     "name": "stdout",
     "output_type": "stream",
     "text": [
      " Groups   Name        Variance Cov  \n",
      " subject  (Intercept) 1.02448       \n",
      "          time        1.03011  0.154\n",
      " Residual             0.24116       \n"
     ]
    }
   ],
   "source": [
    "print(VarCorr(mix_mod), comp = \"Var\")"
   ]
  },
  {
   "attachments": {},
   "cell_type": "markdown",
   "id": "9aef7ef9",
   "metadata": {},
   "source": [
    "In entrambi i casi, la varianza residua è uguale a 0.241 e la correlazione tra intercette e pendenze casuali è uguale a 0.154.\n",
    "\n",
    "Inoltre, le stime dei coefficienti casuali del modello misto sono identiche a quelle delle variabili latenti. "
   ]
  },
  {
   "cell_type": "code",
   "execution_count": 28,
   "id": "514715f6",
   "metadata": {
    "vscode": {
     "languageId": "r"
    }
   },
   "outputs": [
    {
     "data": {
      "text/html": [
       "<table class=\"dataframe\">\n",
       "<caption>A data.frame: 6 x 2</caption>\n",
       "<thead>\n",
       "\t<tr><th></th><th scope=col>(Intercept)</th><th scope=col>time</th></tr>\n",
       "\t<tr><th></th><th scope=col>&lt;dbl&gt;</th><th scope=col>&lt;dbl&gt;</th></tr>\n",
       "</thead>\n",
       "<tbody>\n",
       "\t<tr><th scope=row>1</th><td>-0.3967486</td><td>-0.9050565</td></tr>\n",
       "\t<tr><th scope=row>2</th><td>-1.5328622</td><td>-1.5945199</td></tr>\n",
       "\t<tr><th scope=row>3</th><td> 0.5429873</td><td> 0.8759706</td></tr>\n",
       "\t<tr><th scope=row>4</th><td> 0.3095727</td><td>-0.7887484</td></tr>\n",
       "\t<tr><th scope=row>5</th><td> 2.0327226</td><td> 3.5319068</td></tr>\n",
       "\t<tr><th scope=row>6</th><td> 2.0645454</td><td>-1.1411935</td></tr>\n",
       "</tbody>\n",
       "</table>\n"
      ],
      "text/latex": [
       "A data.frame: 6 x 2\n",
       "\\begin{tabular}{r|ll}\n",
       "  & (Intercept) & time\\\\\n",
       "  & <dbl> & <dbl>\\\\\n",
       "\\hline\n",
       "\t1 & -0.3967486 & -0.9050565\\\\\n",
       "\t2 & -1.5328622 & -1.5945199\\\\\n",
       "\t3 &  0.5429873 &  0.8759706\\\\\n",
       "\t4 &  0.3095727 & -0.7887484\\\\\n",
       "\t5 &  2.0327226 &  3.5319068\\\\\n",
       "\t6 &  2.0645454 & -1.1411935\\\\\n",
       "\\end{tabular}\n"
      ],
      "text/markdown": [
       "\n",
       "A data.frame: 6 x 2\n",
       "\n",
       "| <!--/--> | (Intercept) &lt;dbl&gt; | time &lt;dbl&gt; |\n",
       "|---|---|---|\n",
       "| 1 | -0.3967486 | -0.9050565 |\n",
       "| 2 | -1.5328622 | -1.5945199 |\n",
       "| 3 |  0.5429873 |  0.8759706 |\n",
       "| 4 |  0.3095727 | -0.7887484 |\n",
       "| 5 |  2.0327226 |  3.5319068 |\n",
       "| 6 |  2.0645454 | -1.1411935 |\n",
       "\n"
      ],
      "text/plain": [
       "  (Intercept) time      \n",
       "1 -0.3967486  -0.9050565\n",
       "2 -1.5328622  -1.5945199\n",
       "3  0.5429873   0.8759706\n",
       "4  0.3095727  -0.7887484\n",
       "5  2.0327226   3.5319068\n",
       "6  2.0645454  -1.1411935"
      ]
     },
     "metadata": {},
     "output_type": "display_data"
    }
   ],
   "source": [
    "coef(mix_mod)[[1]] |> \n",
    "    head()"
   ]
  },
  {
   "cell_type": "code",
   "execution_count": 29,
   "id": "08c14a52",
   "metadata": {
    "vscode": {
     "languageId": "r"
    }
   },
   "outputs": [
    {
     "data": {
      "text/html": [
       "<table class=\"dataframe\">\n",
       "<caption>A matrix: 6 x 2 of type dbl</caption>\n",
       "<thead>\n",
       "\t<tr><th scope=col>i</th><th scope=col>s</th></tr>\n",
       "</thead>\n",
       "<tbody>\n",
       "\t<tr><td>-0.3966515</td><td>-0.9050631</td></tr>\n",
       "\t<tr><td>-1.5324914</td><td>-1.5946260</td></tr>\n",
       "\t<tr><td> 0.5430942</td><td> 0.8759036</td></tr>\n",
       "\t<tr><td> 0.3094388</td><td>-0.7886563</td></tr>\n",
       "\t<tr><td> 2.0328124</td><td> 3.5317637</td></tr>\n",
       "\t<tr><td> 2.0637121</td><td>-1.1407804</td></tr>\n",
       "</tbody>\n",
       "</table>\n"
      ],
      "text/latex": [
       "A matrix: 6 x 2 of type dbl\n",
       "\\begin{tabular}{ll}\n",
       " i & s\\\\\n",
       "\\hline\n",
       "\t -0.3966515 & -0.9050631\\\\\n",
       "\t -1.5324914 & -1.5946260\\\\\n",
       "\t  0.5430942 &  0.8759036\\\\\n",
       "\t  0.3094388 & -0.7886563\\\\\n",
       "\t  2.0328124 &  3.5317637\\\\\n",
       "\t  2.0637121 & -1.1407804\\\\\n",
       "\\end{tabular}\n"
      ],
      "text/markdown": [
       "\n",
       "A matrix: 6 x 2 of type dbl\n",
       "\n",
       "| i | s |\n",
       "|---|---|\n",
       "| -0.3966515 | -0.9050631 |\n",
       "| -1.5324914 | -1.5946260 |\n",
       "|  0.5430942 |  0.8759036 |\n",
       "|  0.3094388 | -0.7886563 |\n",
       "|  2.0328124 |  3.5317637 |\n",
       "|  2.0637121 | -1.1407804 |\n",
       "\n"
      ],
      "text/plain": [
       "     i          s         \n",
       "[1,] -0.3966515 -0.9050631\n",
       "[2,] -1.5324914 -1.5946260\n",
       "[3,]  0.5430942  0.8759036\n",
       "[4,]  0.3094388 -0.7886563\n",
       "[5,]  2.0328124  3.5317637\n",
       "[6,]  2.0637121 -1.1407804"
      ]
     },
     "metadata": {},
     "output_type": "display_data"
    }
   ],
   "source": [
    "lavPredict(growth_curve_model) |>\n",
    "    head()"
   ]
  },
  {
   "attachments": {},
   "cell_type": "markdown",
   "id": "5ed5b68f",
   "metadata": {},
   "source": [
    "## Riflessioni Conclusive\n",
    "\n",
    "In conclusione, abbiamo visto che, nel caso più semplice in cui viene assunta la stessa varianza per ogni punto temporale, i modelli LGM producono risultati identici ai modelli misti. Tuttavia, la concettualizzazione del cambiamento nei termini di un modello a crescita latente offre molti vantaggi rispetto alla descrizione dei dati nei termini dei modelli misti in quanto i modelli LGM sono più flessibili e consentono la verifica di ipotesi statistiche che non possono essere esaminate nel contesto dei modelli misti."
   ]
  }
 ],
 "metadata": {
  "jupytext": {
   "cell_metadata_filter": "tags,fig.cap,out.width,name,results,echo,-all",
   "main_language": "R",
   "notebook_metadata_filter": "-all"
  },
  "kernelspec": {
   "display_name": "R",
   "language": "R",
   "name": "ir"
  },
  "language_info": {
   "codemirror_mode": "r",
   "file_extension": ".r",
   "mimetype": "text/x-r-source",
   "name": "R",
   "pygments_lexer": "r",
   "version": "4.4.2"
  }
 },
 "nbformat": 4,
 "nbformat_minor": 5
}
